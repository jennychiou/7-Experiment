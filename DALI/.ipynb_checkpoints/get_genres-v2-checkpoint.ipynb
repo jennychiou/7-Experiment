{
 "cells": [
  {
   "cell_type": "code",
   "execution_count": 1,
   "metadata": {},
   "outputs": [],
   "source": [
    "import numpy as np\n",
    "import pandas as pd\n",
    "import json,re,csv,requests,itertools,pickle\n",
    "from bs4 import BeautifulSoup"
   ]
  },
  {
   "cell_type": "code",
   "execution_count": 2,
   "metadata": {},
   "outputs": [],
   "source": [
    "genres = {}"
   ]
  },
  {
   "cell_type": "markdown",
   "metadata": {},
   "source": [
    "# Rap"
   ]
  },
  {
   "cell_type": "code",
   "execution_count": 3,
   "metadata": {},
   "outputs": [],
   "source": [
    "# Ranker (Rap)\n",
    "url = 'https://www.ranker.com/crowdranked-list/the-greatest-rappers-of-all-time'\n",
    "response = requests.get(url)\n",
    "soup = BeautifulSoup(response.text, 'lxml')\n",
    "\n",
    "rappers_ranker_1 = []\n",
    "for artist in soup.findAll('meta', {'itemprop':'name'}):\n",
    "    if artist['content'] != 'The Greatest Rappers of All Time':\n",
    "        rappers_ranker_1.append(artist['content'].lower().strip())"
   ]
  },
  {
   "cell_type": "code",
   "execution_count": 4,
   "metadata": {},
   "outputs": [],
   "source": [
    "# Ranker 2 (Rap)\n",
    "url = 'https://www.ranker.com/list/best-hip-hop-artists-in-2018/ranker-music'\n",
    "response = requests.get(url)\n",
    "soup = BeautifulSoup(response.text, 'lxml')\n",
    "\n",
    "rappers_ranker_2 = []\n",
    "for artist in soup.findAll('meta', {'itemprop':'name'}):\n",
    "    if artist['content'] != 'The Best Rappers Of 2018, Ranked':\n",
    "        rappers_ranker_2.append(artist['content'].lower().strip())"
   ]
  },
  {
   "cell_type": "code",
   "execution_count": 5,
   "metadata": {},
   "outputs": [],
   "source": [
    "genres['rap'] = list(set(sorted(rappers_ranker_1 + rappers_ranker_2)))"
   ]
  },
  {
   "cell_type": "markdown",
   "metadata": {
    "heading_collapsed": true
   },
   "source": [
    "# Metal"
   ]
  },
  {
   "cell_type": "code",
   "execution_count": 6,
   "metadata": {
    "code_folding": [
     6,
     13
    ],
    "hidden": true
   },
   "outputs": [],
   "source": [
    "url = 'https://www.thetoptens.com/top-heavy-metal-bands/'\n",
    "response = requests.get(url)\n",
    "soup = BeautifulSoup(response.text, 'lxml')\n",
    "\n",
    "# Find all commenters\n",
    "commenters = []\n",
    "for commenter in soup.findAll('p'):\n",
    "    commenter_username = commenter.find('b')\n",
    "    if commenter_username:\n",
    "        commenters.append(commenter_username.get_text().lower().strip())\n",
    "\n",
    "# Toptens (Metal)\n",
    "metal_toptens = []\n",
    "for artist in soup.findAll('b')[1:]:\n",
    "    artist_name = artist.get_text().lower().strip()\n",
    "    if artist_name not in commenters:\n",
    "        if artist_name[0:3] != '1. ':\n",
    "            metal_toptens.append(artist_name)"
   ]
  },
  {
   "cell_type": "code",
   "execution_count": 7,
   "metadata": {
    "hidden": true
   },
   "outputs": [],
   "source": [
    "genres['metal'] = list(set(sorted(metal_toptens)))"
   ]
  },
  {
   "cell_type": "markdown",
   "metadata": {
    "heading_collapsed": true
   },
   "source": [
    "# Country"
   ]
  },
  {
   "cell_type": "code",
   "execution_count": 8,
   "metadata": {
    "code_folding": [
     6
    ],
    "hidden": true
   },
   "outputs": [],
   "source": [
    "# Ranker (Country)\n",
    "url = 'https://www.ranker.com/list/top-country-artists-of-all-time/samantha-dillinger'\n",
    "response = requests.get(url)\n",
    "soup = BeautifulSoup(response.text, 'lxml')\n",
    "\n",
    "country_ranker = []\n",
    "for artist in soup.findAll('meta', {'itemprop':'name'}):\n",
    "    if artist['content'] != 'The Top Country Artists of All Time':\n",
    "        country_ranker.append(artist['content'].lower().strip())"
   ]
  },
  {
   "cell_type": "code",
   "execution_count": 9,
   "metadata": {
    "code_folding": [
     6
    ],
    "hidden": true
   },
   "outputs": [],
   "source": [
    "# Ranker (Modern country)\n",
    "url = 'https://www.ranker.com/list/best-new-country-artists/ranker-music'\n",
    "response = requests.get(url)\n",
    "soup = BeautifulSoup(response.text, 'lxml')\n",
    "\n",
    "modern_country_ranker = []\n",
    "for artist in soup.findAll('meta', {'itemprop':'name'}):\n",
    "    if artist['content'] != 'The Best New Country Artists':\n",
    "        modern_country_ranker.append(artist['content'].lower().strip())"
   ]
  },
  {
   "cell_type": "code",
   "execution_count": 10,
   "metadata": {
    "hidden": true
   },
   "outputs": [],
   "source": [
    "genres['country'] = list(set(sorted(country_ranker + modern_country_ranker)))"
   ]
  },
  {
   "cell_type": "markdown",
   "metadata": {
    "heading_collapsed": true
   },
   "source": [
    "# Rock"
   ]
  },
  {
   "cell_type": "code",
   "execution_count": 11,
   "metadata": {
    "code_folding": [
     6
    ],
    "hidden": true
   },
   "outputs": [],
   "source": [
    "# Ranker (Rock)\n",
    "url = 'https://www.ranker.com/crowdranked-list/the-best-rock-bands-of-all-time'\n",
    "response = requests.get(url)\n",
    "soup = BeautifulSoup(response.text, 'lxml')\n",
    "\n",
    "rock_ranker = []\n",
    "for artist in soup.findAll('meta', {'itemprop':'name'}):\n",
    "    if artist['content'] != 'The Best Rock Bands of All Time':\n",
    "        rock_ranker.append(artist['content'].lower().strip())"
   ]
  },
  {
   "cell_type": "code",
   "execution_count": 12,
   "metadata": {
    "code_folding": [
     6
    ],
    "hidden": true
   },
   "outputs": [],
   "source": [
    "# Ranker (Modern Rock)\n",
    "url = 'https://www.ranker.com/list/modern-rock-bands-and-musicians/reference'\n",
    "response = requests.get(url)\n",
    "soup = BeautifulSoup(response.text, 'lxml')\n",
    "\n",
    "modern_rock_ranker = []\n",
    "for artist in soup.findAll('meta', {'itemprop':'name'}):\n",
    "    if artist['content'] != 'The Best Modern Rock Bands/Artists':\n",
    "        modern_rock_ranker.append(artist['content'].lower().strip())"
   ]
  },
  {
   "cell_type": "code",
   "execution_count": 13,
   "metadata": {
    "hidden": true
   },
   "outputs": [],
   "source": [
    "# Ranker (Indie Rock)\n",
    "url = 'https://www.ranker.com/list/indie-bands-and-artists/reference'\n",
    "response = requests.get(url)\n",
    "soup = BeautifulSoup(response.text, 'lxml')\n",
    "\n",
    "indie_ranker = []\n",
    "for artist in soup.findAll('meta', {'itemprop':'name'}):\n",
    "    if artist['content'] != 'The Best Indie Bands & Artists':\n",
    "        indie_ranker.append(artist['content'].lower().strip())"
   ]
  },
  {
   "cell_type": "code",
   "execution_count": 14,
   "metadata": {
    "hidden": true
   },
   "outputs": [],
   "source": [
    "genres['rock'] = list(set(sorted(rock_ranker + modern_rock_ranker + indie_ranker)))"
   ]
  },
  {
   "cell_type": "markdown",
   "metadata": {
    "heading_collapsed": true
   },
   "source": [
    "# Pop"
   ]
  },
  {
   "cell_type": "code",
   "execution_count": 15,
   "metadata": {
    "code_folding": [
     6
    ],
    "hidden": true
   },
   "outputs": [],
   "source": [
    "# Billboard (Pop)\n",
    "url = 'https://www.billboard.com/charts/greatest-of-all-time-pop-songs-artists'\n",
    "response = requests.get(url)\n",
    "soup = BeautifulSoup(response.text, 'lxml')\n",
    "\n",
    "pop_billboard = []\n",
    "for artist in soup.findAll('a', {'href':re.compile('/music/')}):\n",
    "    artist = artist.get_text().replace('\\n', '')\n",
    "    pop_billboard.append(artist.lower().strip())"
   ]
  },
  {
   "cell_type": "code",
   "execution_count": 16,
   "metadata": {
    "hidden": true
   },
   "outputs": [],
   "source": [
    "genres['pop'] = list(set(sorted(pop_billboard)))"
   ]
  },
  {
   "cell_type": "markdown",
   "metadata": {
    "heading_collapsed": true
   },
   "source": [
    "# Soul"
   ]
  },
  {
   "cell_type": "code",
   "execution_count": 17,
   "metadata": {
    "hidden": true
   },
   "outputs": [],
   "source": [
    "# Ranker (Soul)\n",
    "url = 'https://www.ranker.com/list/soul-music-bands-and-musicians/reference'\n",
    "response = requests.get(url)\n",
    "soup = BeautifulSoup(response.text, 'lxml')\n",
    "\n",
    "soul_ranker = []\n",
    "for artist in soup.findAll('meta', {'itemprop':'name'}):\n",
    "    if artist['content'] != 'The Best Soul Singers/Groups of All Time':\n",
    "        soul_ranker.append(artist['content'].lower().strip())"
   ]
  },
  {
   "cell_type": "code",
   "execution_count": 18,
   "metadata": {
    "hidden": true
   },
   "outputs": [],
   "source": [
    "genres['soul'] = list(set(sorted(soul_ranker)))"
   ]
  },
  {
   "cell_type": "markdown",
   "metadata": {
    "heading_collapsed": true
   },
   "source": [
    "# Remove duplicates"
   ]
  },
  {
   "cell_type": "code",
   "execution_count": 19,
   "metadata": {
    "hidden": true
   },
   "outputs": [],
   "source": [
    "# Country & pop (becomes pop)\n",
    "genres['country'] = sorted([artist for artist in genres['country'] if artist not in genres['pop']])\n",
    "\n",
    "# Country & rock (becomes rock)\n",
    "genres['country'] = sorted([artist for artist in genres['country'] if artist not in genres['rock']])\n",
    "\n",
    "# Metal & rock (becomes metal)\n",
    "genres['rock'] = sorted([artist for artist in genres['rock'] if artist not in genres['metal']])\n",
    "\n",
    "# Pop & rock (becomes pop)\n",
    "genres['rock'] = sorted([artist for artist in genres['rock'] if artist not in genres['pop']])\n",
    "\n",
    "# Pop & rap (becomes rap)\n",
    "genres['pop'] = sorted([artist for artist in genres['pop'] if artist not in genres['rap']])"
   ]
  },
  {
   "cell_type": "code",
   "execution_count": 20,
   "metadata": {
    "hidden": true
   },
   "outputs": [
    {
     "data": {
      "text/plain": [
       "{'rap': ['childish gambino',\n",
       "  'lil wayne',\n",
       "  'ranker',\n",
       "  'travis scott',\n",
       "  'swae lee',\n",
       "  'joyner lucas',\n",
       "  'rae sremmurd',\n",
       "  'logic',\n",
       "  'lil baby',\n",
       "  'joey bada$$',\n",
       "  'xxxtentacion',\n",
       "  'kanye west',\n",
       "  'post malone',\n",
       "  'lil skies',\n",
       "  'snoop dogg',\n",
       "  'lil uzi vert',\n",
       "  'meek mill',\n",
       "  'the notorious b.i.g.',\n",
       "  'tupac',\n",
       "  'andré 3000',\n",
       "  'drake',\n",
       "  'j. cole',\n",
       "  'asap rocky',\n",
       "  '21 savage',\n",
       "  'ski mask the slump god',\n",
       "  'kid cudi',\n",
       "  'youngboy never broke again',\n",
       "  'kendrick lamar',\n",
       "  'juice wrld',\n",
       "  'dr. dre',\n",
       "  'eazy-e',\n",
       "  'chance the rapper',\n",
       "  'eminem',\n",
       "  'future',\n",
       "  '50 cent',\n",
       "  'kodak black',\n",
       "  'the greatest rappers of all time',\n",
       "  'migos',\n",
       "  'royce da 5\\'9\"',\n",
       "  'ice cube',\n",
       "  'nas'],\n",
       " 'metal': ['megadeth',\n",
       "  'helloween',\n",
       "  'pantera',\n",
       "  'papa roach',\n",
       "  'scorpions',\n",
       "  'slayer',\n",
       "  'iced earth',\n",
       "  'opeth',\n",
       "  'black sabbath',\n",
       "  'metallica',\n",
       "  'rainbow',\n",
       "  'system of a down',\n",
       "  'edguy',\n",
       "  'marilyn manson',\n",
       "  'anthrax',\n",
       "  'dying fetus',\n",
       "  'iron maiden',\n",
       "  'queensryche',\n",
       "  'nightwish',\n",
       "  'annihilator',\n",
       "  'van halen',\n",
       "  'slipknot',\n",
       "  'ghost',\n",
       "  'motorhead',\n",
       "  'disturbed',\n",
       "  'dio',\n",
       "  'guns n roses',\n",
       "  'blind guardian',\n",
       "  'led zeppelin',\n",
       "  'lamb of god',\n",
       "  'five finger death punch',\n",
       "  'judas priest',\n",
       "  'sepultura',\n",
       "  'ac/dc',\n",
       "  'motley crue',\n",
       "  'gamma ray',\n",
       "  'mastodon',\n",
       "  'death',\n",
       "  'stratovarius',\n",
       "  'avantasia',\n",
       "  'in this moment',\n",
       "  'deep purple',\n",
       "  'ozzy osbourne',\n",
       "  'rob zombie',\n",
       "  'within temptation',\n",
       "  'alice in chains',\n",
       "  'rammstein',\n",
       "  'avenged sevenfold',\n",
       "  'alice cooper',\n",
       "  'symphony x'],\n",
       " 'country': ['alabama',\n",
       "  'alan jackson',\n",
       "  'alison krauss',\n",
       "  'ashley mcbryde',\n",
       "  'brad paisley',\n",
       "  'brett young',\n",
       "  'brooks & dunn',\n",
       "  'brothers osborne',\n",
       "  'carly pearce',\n",
       "  'charley pride',\n",
       "  'chris janson',\n",
       "  'chris lane',\n",
       "  'chris stapleton',\n",
       "  'cody johnson',\n",
       "  'cole swindell',\n",
       "  'conway twitty',\n",
       "  'danielle bradbery',\n",
       "  'dolly parton',\n",
       "  'don williams',\n",
       "  'dwight yoakam',\n",
       "  'dylan scott',\n",
       "  'garth brooks',\n",
       "  'george jones',\n",
       "  'george strait',\n",
       "  'hank williams',\n",
       "  'hank williams, jr.',\n",
       "  'johnny cash',\n",
       "  'jon pardi',\n",
       "  'jordan davis',\n",
       "  'kane brown',\n",
       "  'kelsea ballerini',\n",
       "  'lanco',\n",
       "  'lauren alaina',\n",
       "  'loretta lynn',\n",
       "  'luke combs',\n",
       "  'maren morris',\n",
       "  'merle haggard',\n",
       "  'michael ray',\n",
       "  'midland',\n",
       "  'morgan evans',\n",
       "  'old dominion',\n",
       "  'patsy cline',\n",
       "  'randy travis',\n",
       "  'reba mcentire',\n",
       "  'tammy wynette',\n",
       "  'tyler childers',\n",
       "  'vince gill',\n",
       "  'waylon jennings',\n",
       "  'william michael morgan',\n",
       "  'willie nelson'],\n",
       " 'rock': ['aerosmith',\n",
       "  'alt-j',\n",
       "  'arcade fire',\n",
       "  'arctic monkeys',\n",
       "  'band-maid',\n",
       "  'bastille',\n",
       "  'bon iver',\n",
       "  'breaking benjamin',\n",
       "  'cage the elephant',\n",
       "  'creedence clearwater revival',\n",
       "  'david bowie',\n",
       "  'dire straits',\n",
       "  'eagles',\n",
       "  'elvis presley',\n",
       "  'eric clapton',\n",
       "  'evanescence',\n",
       "  'fleetwood mac',\n",
       "  'florence and the machine',\n",
       "  'foo fighters',\n",
       "  'foster the people',\n",
       "  'gorillaz',\n",
       "  'green day',\n",
       "  'greta van fleet',\n",
       "  \"guns n' roses\",\n",
       "  'jimi hendrix',\n",
       "  'john lennon',\n",
       "  'joy division',\n",
       "  'kings of leon',\n",
       "  'linkin park',\n",
       "  'lynyrd skynyrd',\n",
       "  'modest mouse',\n",
       "  'muse',\n",
       "  'my chemical romance',\n",
       "  'nirvana',\n",
       "  'oasis',\n",
       "  'of monsters and men',\n",
       "  'pink floyd',\n",
       "  'pixies',\n",
       "  'queen',\n",
       "  'queens of the stone age',\n",
       "  'r.e.m.',\n",
       "  'radiohead',\n",
       "  'ranker',\n",
       "  'red hot chili peppers',\n",
       "  'rise against',\n",
       "  'shinedown',\n",
       "  'simon and garfunkel',\n",
       "  'tame impala',\n",
       "  'the beatles',\n",
       "  'the black keys',\n",
       "  'the cure',\n",
       "  'the killers',\n",
       "  'the kooks',\n",
       "  'the rolling stones',\n",
       "  'the smiths',\n",
       "  'the strokes',\n",
       "  'the white stripes',\n",
       "  'the who',\n",
       "  'three days grace',\n",
       "  'tom petty and the heartbreakers',\n",
       "  'two door cinema club',\n",
       "  'vampire weekend',\n",
       "  'weezer'],\n",
       " 'pop': [\"'n sync\",\n",
       "  '3 doors down',\n",
       "  'adele',\n",
       "  'alanis morissette',\n",
       "  'ariana grande',\n",
       "  'avril lavigne',\n",
       "  'backstreet boys',\n",
       "  'beyonce',\n",
       "  'boyz ii men',\n",
       "  'britney spears',\n",
       "  'bruno mars',\n",
       "  'calvin harris',\n",
       "  'celine dion',\n",
       "  'chris brown',\n",
       "  'christina aguilera',\n",
       "  \"destiny's child\",\n",
       "  'ed sheeran',\n",
       "  'ellie goulding',\n",
       "  'enrique iglesias',\n",
       "  'flo rida',\n",
       "  'hootie & the blowfish',\n",
       "  'janet jackson',\n",
       "  'jason derulo',\n",
       "  'jennifer lopez',\n",
       "  'justin bieber',\n",
       "  'justin timberlake',\n",
       "  'katy perry',\n",
       "  'kelly clarkson',\n",
       "  'kesha',\n",
       "  'lady gaga',\n",
       "  'madonna',\n",
       "  'mariah carey',\n",
       "  'maroon 5',\n",
       "  'matchbox twenty',\n",
       "  'ne-yo',\n",
       "  'nelly',\n",
       "  'nickelback',\n",
       "  'nicki minaj',\n",
       "  'no doubt',\n",
       "  'onerepublic',\n",
       "  'p!nk',\n",
       "  'pitbull',\n",
       "  'rihanna',\n",
       "  'selena gomez',\n",
       "  'sheryl crow',\n",
       "  'taylor swift',\n",
       "  'the black eyed peas',\n",
       "  'the weeknd',\n",
       "  'usher'],\n",
       " 'soul': ['ranker',\n",
       "  'marvin gaye',\n",
       "  'curtis mayfield',\n",
       "  'etta james',\n",
       "  'otis redding',\n",
       "  'tina turner',\n",
       "  'donny hathaway',\n",
       "  'stevie wonder',\n",
       "  'the temptations',\n",
       "  'aretha franklin',\n",
       "  'jackie wilson',\n",
       "  'michael jackson',\n",
       "  'gladys knight & the pips',\n",
       "  \"the o'jays\",\n",
       "  'smokey robinson',\n",
       "  'luther vandross',\n",
       "  'james brown',\n",
       "  'al green',\n",
       "  'ray charles',\n",
       "  'earth, wind & fire',\n",
       "  'the isley brothers',\n",
       "  'wilson pickett',\n",
       "  'sam cooke',\n",
       "  'barry white',\n",
       "  'whitney houston',\n",
       "  'bill withers']}"
      ]
     },
     "execution_count": 20,
     "metadata": {},
     "output_type": "execute_result"
    }
   ],
   "source": [
    "genres"
   ]
  },
  {
   "cell_type": "markdown",
   "metadata": {},
   "source": [
    "# Convert genres dictionary to json"
   ]
  },
  {
   "cell_type": "code",
   "execution_count": 21,
   "metadata": {},
   "outputs": [],
   "source": [
    "# 類別dataframe轉換成json格式\n",
    "json_genres = json.dumps(genres, indent=4, sort_keys=True)\n",
    "file = open('D:/Anaconda3/Scripts/7 實驗進度/DALI/example/dataset/json_genres.json', 'w')\n",
    "file.write(json_genres)\n",
    "file.close()"
   ]
  },
  {
   "cell_type": "markdown",
   "metadata": {},
   "source": [
    "# lyrics_classifier"
   ]
  },
  {
   "cell_type": "code",
   "execution_count": 22,
   "metadata": {
    "code_folding": [
     0
    ]
   },
   "outputs": [],
   "source": [
    "# 匯入模組\n",
    "import numpy as np\n",
    "import pandas as pd\n",
    "pd.options.mode.chained_assignment = None\n",
    "\n",
    "from nltk import word_tokenize\n",
    "from nltk.corpus import stopwords\n",
    "from nltk.stem.snowball import EnglishStemmer\n",
    "from nltk.tokenize import sent_tokenize, word_tokenize\n",
    "\n",
    "import json, re, string, warnings, nltk\n",
    "warnings.filterwarnings(\"ignore\", category=DeprecationWarning)\n",
    "warnings.simplefilter(action='ignore', category=FutureWarning)"
   ]
  },
  {
   "cell_type": "code",
   "execution_count": 23,
   "metadata": {
    "scrolled": true
   },
   "outputs": [
    {
     "data": {
      "text/html": [
       "<div>\n",
       "<style scoped>\n",
       "    .dataframe tbody tr th:only-of-type {\n",
       "        vertical-align: middle;\n",
       "    }\n",
       "\n",
       "    .dataframe tbody tr th {\n",
       "        vertical-align: top;\n",
       "    }\n",
       "\n",
       "    .dataframe thead th {\n",
       "        text-align: right;\n",
       "    }\n",
       "</style>\n",
       "<table border=\"1\" class=\"dataframe\">\n",
       "  <thead>\n",
       "    <tr style=\"text-align: right;\">\n",
       "      <th></th>\n",
       "      <th>line</th>\n",
       "      <th>song_id</th>\n",
       "      <th>song_name</th>\n",
       "      <th>artist_id</th>\n",
       "      <th>artist_name</th>\n",
       "      <th>characters</th>\n",
       "      <th>genre</th>\n",
       "      <th>original_line</th>\n",
       "    </tr>\n",
       "  </thead>\n",
       "  <tbody>\n",
       "    <tr>\n",
       "      <th>0</th>\n",
       "      <td>I poured your Johnnie Walker Blue right down t...</td>\n",
       "      <td>2429721</td>\n",
       "      <td>I Need You</td>\n",
       "      <td>643585</td>\n",
       "      <td>kalie shorr</td>\n",
       "      <td>1881</td>\n",
       "      <td>country</td>\n",
       "      <td>I poured your Johnnie Walker Blue right down t...</td>\n",
       "    </tr>\n",
       "    <tr>\n",
       "      <th>1</th>\n",
       "      <td>His mama thinks hes an angel\\nFollows the Sav...</td>\n",
       "      <td>2429715</td>\n",
       "      <td>God Sees Everything</td>\n",
       "      <td>643585</td>\n",
       "      <td>kalie shorr</td>\n",
       "      <td>1287</td>\n",
       "      <td>country</td>\n",
       "      <td>His mama thinks hes an angel\\nFollows the Sav...</td>\n",
       "    </tr>\n",
       "    <tr>\n",
       "      <th>2</th>\n",
       "      <td>I'm just trying to catch a buzz\\nMindin' my ow...</td>\n",
       "      <td>2429717</td>\n",
       "      <td>Throwin' Shade</td>\n",
       "      <td>643585</td>\n",
       "      <td>kalie shorr</td>\n",
       "      <td>1305</td>\n",
       "      <td>country</td>\n",
       "      <td>I'm just trying to catch a buzz\\nMindin' my ow...</td>\n",
       "    </tr>\n",
       "    <tr>\n",
       "      <th>3</th>\n",
       "      <td>[Verse 1]\\nSun's always gonna set in the west\\...</td>\n",
       "      <td>3019461</td>\n",
       "      <td>Nothin New</td>\n",
       "      <td>643585</td>\n",
       "      <td>kalie shorr</td>\n",
       "      <td>1892</td>\n",
       "      <td>country</td>\n",
       "      <td>[Verse 1]\\nSun's always gonna set in the west\\...</td>\n",
       "    </tr>\n",
       "    <tr>\n",
       "      <th>4</th>\n",
       "      <td>Kill the engine, turn the headlights off\\nDriv...</td>\n",
       "      <td>2429718</td>\n",
       "      <td>Young &amp; Restless</td>\n",
       "      <td>643585</td>\n",
       "      <td>kalie shorr</td>\n",
       "      <td>2046</td>\n",
       "      <td>country</td>\n",
       "      <td>Kill the engine, turn the headlights off\\nDriv...</td>\n",
       "    </tr>\n",
       "    <tr>\n",
       "      <th>...</th>\n",
       "      <td>...</td>\n",
       "      <td>...</td>\n",
       "      <td>...</td>\n",
       "      <td>...</td>\n",
       "      <td>...</td>\n",
       "      <td>...</td>\n",
       "      <td>...</td>\n",
       "      <td>...</td>\n",
       "    </tr>\n",
       "    <tr>\n",
       "      <th>9057</th>\n",
       "      <td>Got myself an angel\\nStraight from the heavens...</td>\n",
       "      <td>1618057</td>\n",
       "      <td>I Got Heaven Right Here on Earth</td>\n",
       "      <td>1664</td>\n",
       "      <td>the temptations</td>\n",
       "      <td>1788</td>\n",
       "      <td>soul</td>\n",
       "      <td>Got myself an angel\\nStraight from the heavens...</td>\n",
       "    </tr>\n",
       "    <tr>\n",
       "      <th>9058</th>\n",
       "      <td>Baby, our love was strong yesterday\\n(Now you ...</td>\n",
       "      <td>3832684</td>\n",
       "      <td>Why Did You Leave Me Darling</td>\n",
       "      <td>1664</td>\n",
       "      <td>the temptations</td>\n",
       "      <td>1063</td>\n",
       "      <td>soul</td>\n",
       "      <td>Baby, our love was strong yesterday\\n(Now you ...</td>\n",
       "    </tr>\n",
       "    <tr>\n",
       "      <th>9059</th>\n",
       "      <td>Your eyes tell a story, such a sad story\\nOf t...</td>\n",
       "      <td>3129527</td>\n",
       "      <td>Ain't No Justice</td>\n",
       "      <td>1664</td>\n",
       "      <td>the temptations</td>\n",
       "      <td>1098</td>\n",
       "      <td>soul</td>\n",
       "      <td>Your eyes tell a story, such a sad story\\nOf t...</td>\n",
       "    </tr>\n",
       "    <tr>\n",
       "      <th>9060</th>\n",
       "      <td>[Verse 1]\\nGuess it's true, I'm not good at a ...</td>\n",
       "      <td>3705373</td>\n",
       "      <td>Stay With Me</td>\n",
       "      <td>1664</td>\n",
       "      <td>the temptations</td>\n",
       "      <td>1167</td>\n",
       "      <td>soul</td>\n",
       "      <td>[Verse 1]\\nGuess it's true, I'm not good at a ...</td>\n",
       "    </tr>\n",
       "    <tr>\n",
       "      <th>9061</th>\n",
       "      <td>Mother Nature\\nGo on and take your course\\nAnd...</td>\n",
       "      <td>3655226</td>\n",
       "      <td>Mother Nature [Stereo Promo Version]</td>\n",
       "      <td>1664</td>\n",
       "      <td>the temptations</td>\n",
       "      <td>826</td>\n",
       "      <td>soul</td>\n",
       "      <td>Mother Nature\\nGo on and take your course\\nAnd...</td>\n",
       "    </tr>\n",
       "  </tbody>\n",
       "</table>\n",
       "<p>9062 rows × 8 columns</p>\n",
       "</div>"
      ],
      "text/plain": [
       "                                                   line  song_id  \\\n",
       "0     I poured your Johnnie Walker Blue right down t...  2429721   \n",
       "1     His mama thinks hes an angel\\nFollows the Sav...  2429715   \n",
       "2     I'm just trying to catch a buzz\\nMindin' my ow...  2429717   \n",
       "3     [Verse 1]\\nSun's always gonna set in the west\\...  3019461   \n",
       "4     Kill the engine, turn the headlights off\\nDriv...  2429718   \n",
       "...                                                 ...      ...   \n",
       "9057  Got myself an angel\\nStraight from the heavens...  1618057   \n",
       "9058  Baby, our love was strong yesterday\\n(Now you ...  3832684   \n",
       "9059  Your eyes tell a story, such a sad story\\nOf t...  3129527   \n",
       "9060  [Verse 1]\\nGuess it's true, I'm not good at a ...  3705373   \n",
       "9061  Mother Nature\\nGo on and take your course\\nAnd...  3655226   \n",
       "\n",
       "                                 song_name  artist_id      artist_name  \\\n",
       "0                               I Need You     643585      kalie shorr   \n",
       "1                      God Sees Everything     643585      kalie shorr   \n",
       "2                           Throwin' Shade     643585      kalie shorr   \n",
       "3                               Nothin New     643585      kalie shorr   \n",
       "4                         Young & Restless     643585      kalie shorr   \n",
       "...                                    ...        ...              ...   \n",
       "9057      I Got Heaven Right Here on Earth       1664  the temptations   \n",
       "9058          Why Did You Leave Me Darling       1664  the temptations   \n",
       "9059                      Ain't No Justice       1664  the temptations   \n",
       "9060                          Stay With Me       1664  the temptations   \n",
       "9061  Mother Nature [Stereo Promo Version]       1664  the temptations   \n",
       "\n",
       "      characters    genre                                      original_line  \n",
       "0           1881  country  I poured your Johnnie Walker Blue right down t...  \n",
       "1           1287  country  His mama thinks hes an angel\\nFollows the Sav...  \n",
       "2           1305  country  I'm just trying to catch a buzz\\nMindin' my ow...  \n",
       "3           1892  country  [Verse 1]\\nSun's always gonna set in the west\\...  \n",
       "4           2046  country  Kill the engine, turn the headlights off\\nDriv...  \n",
       "...          ...      ...                                                ...  \n",
       "9057        1788     soul  Got myself an angel\\nStraight from the heavens...  \n",
       "9058        1063     soul  Baby, our love was strong yesterday\\n(Now you ...  \n",
       "9059        1098     soul  Your eyes tell a story, such a sad story\\nOf t...  \n",
       "9060        1167     soul  [Verse 1]\\nGuess it's true, I'm not good at a ...  \n",
       "9061         826     soul  Mother Nature\\nGo on and take your course\\nAnd...  \n",
       "\n",
       "[9062 rows x 8 columns]"
      ]
     },
     "execution_count": 23,
     "metadata": {},
     "output_type": "execute_result"
    }
   ],
   "source": [
    "# 讀取歌詞數據\n",
    "lyrics = pd.read_csv('D:/Anaconda3/Scripts/7 實驗進度/DALI/example/dataset/lyrics.csv', encoding='unicode_escape')\n",
    "lyrics['artist_name'] = lyrics.apply(lambda x: x['artist_name'].lower(), axis=1)\n",
    "lyrics['original_line'] = lyrics['line']\n",
    "lyrics"
   ]
  },
  {
   "cell_type": "code",
   "execution_count": 27,
   "metadata": {},
   "outputs": [
    {
     "data": {
      "text/plain": [
       "array(['country', 'metal', 'pop', 'rap', 'rock', 'soul'], dtype=object)"
      ]
     },
     "execution_count": 27,
     "metadata": {},
     "output_type": "execute_result"
    }
   ],
   "source": [
    "# 列出類型的唯一值（總共6個類型）\n",
    "lyrics.genre.unique()"
   ]
  },
  {
   "cell_type": "markdown",
   "metadata": {},
   "source": [
    "# Remove misclassified artists"
   ]
  },
  {
   "cell_type": "code",
   "execution_count": 24,
   "metadata": {},
   "outputs": [],
   "source": [
    "# 匯入歌手類別的列表\n",
    "file = open('D:/Anaconda3/Scripts/7 實驗進度/DALI/example/dataset/json_genres.json')\n",
    "genres = json.load(file)\n",
    "file.close()"
   ]
  },
  {
   "cell_type": "code",
   "execution_count": 25,
   "metadata": {},
   "outputs": [],
   "source": [
    "# 檢查給定類型的歌手是否被錯誤分類\n",
    "def artistCheck(genre):\n",
    "    misclasses = []\n",
    "    artists = lyrics[lyrics.genre==genre].artist_name.unique()\n",
    "    for artist in artists:\n",
    "        if artist not in genres[genre]:\n",
    "            misclasses.append(artist)\n",
    "    return(misclasses)"
   ]
  },
  {
   "cell_type": "code",
   "execution_count": 26,
   "metadata": {
    "collapsed": true
   },
   "outputs": [
    {
     "data": {
      "text/plain": [
       "{'country': ['kalie shorr',\n",
       "  'shania twain',\n",
       "  'dustin lynch',\n",
       "  'faith hill',\n",
       "  'john denver',\n",
       "  'tyler, the creator',\n",
       "  'keith whitley',\n",
       "  'aaron watson',\n",
       "  'maggie rose',\n",
       "  'toby keith',\n",
       "  'jerry reed',\n",
       "  'carrie underwood',\n",
       "  'jillian jacqueline',\n",
       "  'delta rae',\n",
       "  'tim mcgraw',\n",
       "  'the oak ridge boys',\n",
       "  'taylor acorn',\n",
       "  'george jones & tammy wynette',\n",
       "  'blake shelton',\n",
       "  'ben gallaher',\n",
       "  'hank williams jr.'],\n",
       " 'metal': ['queensrÿche',\n",
       "  'trivium',\n",
       "  'a$ap rocky',\n",
       "  'killswitch engage',\n",
       "  'godsmack',\n",
       "  'testament',\n",
       "  'dokken',\n",
       "  'korn',\n",
       "  'motörhead',\n",
       "  'tool',\n",
       "  \"guns n' roses\"],\n",
       " 'pop': ['andrea bocelli & céline dion', 'drake'],\n",
       " 'rap': ['lauryn hill',\n",
       "  'ghostface killah',\n",
       "  'big l',\n",
       "  'tyler, the creator',\n",
       "  'a$ap rocky',\n",
       "  'trippie redd',\n",
       "  'tech n9ne',\n",
       "  'rich the kid',\n",
       "  'nate dogg',\n",
       "  'll cool j',\n",
       "  'dmx',\n",
       "  '2 chainz',\n",
       "  'mac miller',\n",
       "  'slick rick',\n",
       "  'jay-z',\n",
       "  'method man',\n",
       "  'royce da 5\\x929\\x94',\n",
       "  'ludacris',\n",
       "  't.i.',\n",
       "  'wiz khalifa',\n",
       "  'j.i.d',\n",
       "  'tee grizzley',\n",
       "  'redman',\n",
       "  'the game'],\n",
       " 'rock': ['mgmt',\n",
       "  'the doors',\n",
       "  'phoenix',\n",
       "  'the clash',\n",
       "  'portugal. the man',\n",
       "  'florence + the machine',\n",
       "  'pearl jam',\n",
       "  'staind',\n",
       "  'hieroglyphics',\n",
       "  'cream',\n",
       "  'journey',\n",
       "  'ramones',\n",
       "  'regina spektor',\n",
       "  'wild belle',\n",
       "  'papa roach',\n",
       "  'foals',\n",
       "  'rush',\n",
       "  'the allman brothers band',\n",
       "  'fozzy'],\n",
       " 'soul': ['sam smith',\n",
       "  'lionel richie',\n",
       "  'bobby womack',\n",
       "  'the drifters',\n",
       "  'the miracles',\n",
       "  'sir sly',\n",
       "  'nina simone',\n",
       "  'four tops',\n",
       "  'telly',\n",
       "  'commodores',\n",
       "  'teddy pendergrass',\n",
       "  'ben e. king',\n",
       "  'prince ea',\n",
       "  'david ruffin',\n",
       "  'percy sledge',\n",
       "  'the spinners',\n",
       "  'the chi-lites',\n",
       "  'the jackson 5',\n",
       "  'ike & tina turner',\n",
       "  'mary wells',\n",
       "  'the stylistics']}"
      ]
     },
     "execution_count": 26,
     "metadata": {},
     "output_type": "execute_result"
    }
   ],
   "source": [
    "# 收集各種類型的錯誤分類的歌手\n",
    "misclass_dict = {}\n",
    "for genre in lyrics.genre.unique():\n",
    "    misclass_dict[genre] = artistCheck(genre)\n",
    "misclass_dict"
   ]
  },
  {
   "cell_type": "code",
   "execution_count": 27,
   "metadata": {},
   "outputs": [],
   "source": [
    "# 刪除所有實際的錯誤類別\n",
    "lyrics = lyrics[~((lyrics.genre=='country') & (lyrics.artist_name=='tyler, the creator'))]\n",
    "lyrics = lyrics[~((lyrics.genre=='metal') & (lyrics.artist_name=='a$ap rocky'))]\n",
    "lyrics = lyrics[~((lyrics.genre=='pop') & (lyrics.artist_name=='drake'))]\n",
    "lyrics = lyrics[~((lyrics.genre=='rock') & (lyrics.artist_name=='hieroglyphics'))]\n",
    "lyrics = lyrics[~((lyrics.genre=='rock') & (lyrics.artist_name=='wild belle'))]\n",
    "lyrics = lyrics[~((lyrics.genre=='soul') & (lyrics.artist_name=='prince ea'))]\n",
    "lyrics = lyrics[~((lyrics.genre=='soul') & (lyrics.artist_name=='sam smith'))]\n",
    "lyrics = lyrics[~((lyrics.genre=='soul') & (lyrics.artist_name=='sir sly'))]\n",
    "lyrics = lyrics[~((lyrics.genre=='soul') & (lyrics.artist_name=='telly'))]\n",
    "lyrics = lyrics.reset_index(drop=True)"
   ]
  },
  {
   "cell_type": "code",
   "execution_count": 28,
   "metadata": {
    "scrolled": true
   },
   "outputs": [
    {
     "data": {
      "text/html": [
       "<div>\n",
       "<style scoped>\n",
       "    .dataframe tbody tr th:only-of-type {\n",
       "        vertical-align: middle;\n",
       "    }\n",
       "\n",
       "    .dataframe tbody tr th {\n",
       "        vertical-align: top;\n",
       "    }\n",
       "\n",
       "    .dataframe thead th {\n",
       "        text-align: right;\n",
       "    }\n",
       "</style>\n",
       "<table border=\"1\" class=\"dataframe\">\n",
       "  <thead>\n",
       "    <tr style=\"text-align: right;\">\n",
       "      <th></th>\n",
       "      <th>line</th>\n",
       "      <th>song_id</th>\n",
       "      <th>song_name</th>\n",
       "      <th>artist_id</th>\n",
       "      <th>artist_name</th>\n",
       "      <th>characters</th>\n",
       "      <th>genre</th>\n",
       "      <th>original_line</th>\n",
       "    </tr>\n",
       "  </thead>\n",
       "  <tbody>\n",
       "    <tr>\n",
       "      <th>0</th>\n",
       "      <td>I poured your Johnnie Walker Blue right down t...</td>\n",
       "      <td>2429721</td>\n",
       "      <td>I Need You</td>\n",
       "      <td>643585</td>\n",
       "      <td>kalie shorr</td>\n",
       "      <td>1881</td>\n",
       "      <td>country</td>\n",
       "      <td>I poured your Johnnie Walker Blue right down t...</td>\n",
       "    </tr>\n",
       "    <tr>\n",
       "      <th>1</th>\n",
       "      <td>His mama thinks hes an angel\\nFollows the Sav...</td>\n",
       "      <td>2429715</td>\n",
       "      <td>God Sees Everything</td>\n",
       "      <td>643585</td>\n",
       "      <td>kalie shorr</td>\n",
       "      <td>1287</td>\n",
       "      <td>country</td>\n",
       "      <td>His mama thinks hes an angel\\nFollows the Sav...</td>\n",
       "    </tr>\n",
       "    <tr>\n",
       "      <th>2</th>\n",
       "      <td>I'm just trying to catch a buzz\\nMindin' my ow...</td>\n",
       "      <td>2429717</td>\n",
       "      <td>Throwin' Shade</td>\n",
       "      <td>643585</td>\n",
       "      <td>kalie shorr</td>\n",
       "      <td>1305</td>\n",
       "      <td>country</td>\n",
       "      <td>I'm just trying to catch a buzz\\nMindin' my ow...</td>\n",
       "    </tr>\n",
       "    <tr>\n",
       "      <th>3</th>\n",
       "      <td>[Verse 1]\\nSun's always gonna set in the west\\...</td>\n",
       "      <td>3019461</td>\n",
       "      <td>Nothin New</td>\n",
       "      <td>643585</td>\n",
       "      <td>kalie shorr</td>\n",
       "      <td>1892</td>\n",
       "      <td>country</td>\n",
       "      <td>[Verse 1]\\nSun's always gonna set in the west\\...</td>\n",
       "    </tr>\n",
       "    <tr>\n",
       "      <th>4</th>\n",
       "      <td>Kill the engine, turn the headlights off\\nDriv...</td>\n",
       "      <td>2429718</td>\n",
       "      <td>Young &amp; Restless</td>\n",
       "      <td>643585</td>\n",
       "      <td>kalie shorr</td>\n",
       "      <td>2046</td>\n",
       "      <td>country</td>\n",
       "      <td>Kill the engine, turn the headlights off\\nDriv...</td>\n",
       "    </tr>\n",
       "    <tr>\n",
       "      <th>...</th>\n",
       "      <td>...</td>\n",
       "      <td>...</td>\n",
       "      <td>...</td>\n",
       "      <td>...</td>\n",
       "      <td>...</td>\n",
       "      <td>...</td>\n",
       "      <td>...</td>\n",
       "      <td>...</td>\n",
       "    </tr>\n",
       "    <tr>\n",
       "      <th>8862</th>\n",
       "      <td>Got myself an angel\\nStraight from the heavens...</td>\n",
       "      <td>1618057</td>\n",
       "      <td>I Got Heaven Right Here on Earth</td>\n",
       "      <td>1664</td>\n",
       "      <td>the temptations</td>\n",
       "      <td>1788</td>\n",
       "      <td>soul</td>\n",
       "      <td>Got myself an angel\\nStraight from the heavens...</td>\n",
       "    </tr>\n",
       "    <tr>\n",
       "      <th>8863</th>\n",
       "      <td>Baby, our love was strong yesterday\\n(Now you ...</td>\n",
       "      <td>3832684</td>\n",
       "      <td>Why Did You Leave Me Darling</td>\n",
       "      <td>1664</td>\n",
       "      <td>the temptations</td>\n",
       "      <td>1063</td>\n",
       "      <td>soul</td>\n",
       "      <td>Baby, our love was strong yesterday\\n(Now you ...</td>\n",
       "    </tr>\n",
       "    <tr>\n",
       "      <th>8864</th>\n",
       "      <td>Your eyes tell a story, such a sad story\\nOf t...</td>\n",
       "      <td>3129527</td>\n",
       "      <td>Ain't No Justice</td>\n",
       "      <td>1664</td>\n",
       "      <td>the temptations</td>\n",
       "      <td>1098</td>\n",
       "      <td>soul</td>\n",
       "      <td>Your eyes tell a story, such a sad story\\nOf t...</td>\n",
       "    </tr>\n",
       "    <tr>\n",
       "      <th>8865</th>\n",
       "      <td>[Verse 1]\\nGuess it's true, I'm not good at a ...</td>\n",
       "      <td>3705373</td>\n",
       "      <td>Stay With Me</td>\n",
       "      <td>1664</td>\n",
       "      <td>the temptations</td>\n",
       "      <td>1167</td>\n",
       "      <td>soul</td>\n",
       "      <td>[Verse 1]\\nGuess it's true, I'm not good at a ...</td>\n",
       "    </tr>\n",
       "    <tr>\n",
       "      <th>8866</th>\n",
       "      <td>Mother Nature\\nGo on and take your course\\nAnd...</td>\n",
       "      <td>3655226</td>\n",
       "      <td>Mother Nature [Stereo Promo Version]</td>\n",
       "      <td>1664</td>\n",
       "      <td>the temptations</td>\n",
       "      <td>826</td>\n",
       "      <td>soul</td>\n",
       "      <td>Mother Nature\\nGo on and take your course\\nAnd...</td>\n",
       "    </tr>\n",
       "  </tbody>\n",
       "</table>\n",
       "<p>8569 rows × 8 columns</p>\n",
       "</div>"
      ],
      "text/plain": [
       "                                                   line  song_id  \\\n",
       "0     I poured your Johnnie Walker Blue right down t...  2429721   \n",
       "1     His mama thinks hes an angel\\nFollows the Sav...  2429715   \n",
       "2     I'm just trying to catch a buzz\\nMindin' my ow...  2429717   \n",
       "3     [Verse 1]\\nSun's always gonna set in the west\\...  3019461   \n",
       "4     Kill the engine, turn the headlights off\\nDriv...  2429718   \n",
       "...                                                 ...      ...   \n",
       "8862  Got myself an angel\\nStraight from the heavens...  1618057   \n",
       "8863  Baby, our love was strong yesterday\\n(Now you ...  3832684   \n",
       "8864  Your eyes tell a story, such a sad story\\nOf t...  3129527   \n",
       "8865  [Verse 1]\\nGuess it's true, I'm not good at a ...  3705373   \n",
       "8866  Mother Nature\\nGo on and take your course\\nAnd...  3655226   \n",
       "\n",
       "                                 song_name  artist_id      artist_name  \\\n",
       "0                               I Need You     643585      kalie shorr   \n",
       "1                      God Sees Everything     643585      kalie shorr   \n",
       "2                           Throwin' Shade     643585      kalie shorr   \n",
       "3                               Nothin New     643585      kalie shorr   \n",
       "4                         Young & Restless     643585      kalie shorr   \n",
       "...                                    ...        ...              ...   \n",
       "8862      I Got Heaven Right Here on Earth       1664  the temptations   \n",
       "8863          Why Did You Leave Me Darling       1664  the temptations   \n",
       "8864                      Ain't No Justice       1664  the temptations   \n",
       "8865                          Stay With Me       1664  the temptations   \n",
       "8866  Mother Nature [Stereo Promo Version]       1664  the temptations   \n",
       "\n",
       "      characters    genre                                      original_line  \n",
       "0           1881  country  I poured your Johnnie Walker Blue right down t...  \n",
       "1           1287  country  His mama thinks hes an angel\\nFollows the Sav...  \n",
       "2           1305  country  I'm just trying to catch a buzz\\nMindin' my ow...  \n",
       "3           1892  country  [Verse 1]\\nSun's always gonna set in the west\\...  \n",
       "4           2046  country  Kill the engine, turn the headlights off\\nDriv...  \n",
       "...          ...      ...                                                ...  \n",
       "8862        1788     soul  Got myself an angel\\nStraight from the heavens...  \n",
       "8863        1063     soul  Baby, our love was strong yesterday\\n(Now you ...  \n",
       "8864        1098     soul  Your eyes tell a story, such a sad story\\nOf t...  \n",
       "8865        1167     soul  [Verse 1]\\nGuess it's true, I'm not good at a ...  \n",
       "8866         826     soul  Mother Nature\\nGo on and take your course\\nAnd...  \n",
       "\n",
       "[8569 rows x 8 columns]"
      ]
     },
     "execution_count": 28,
     "metadata": {},
     "output_type": "execute_result"
    }
   ],
   "source": [
    "# 刪除「模糊界限」類型的歌手\n",
    "removes_country = []\n",
    "removes_metal = []\n",
    "removes_pop = ['chris brown', 'nickelback', 'sheryl crow', 'taylor swift', 'matchbox twenty']\n",
    "removes_rap = []\n",
    "removes_rock = []\n",
    "removes_soul = []\n",
    "removes = removes_country + removes_metal + removes_pop + removes_rap + removes_rock + removes_soul\n",
    "\n",
    "lyrics = lyrics[~lyrics.artist_name.isin(removes)]\n",
    "lyrics"
   ]
  },
  {
   "cell_type": "markdown",
   "metadata": {},
   "source": [
    "# Text preprocessing"
   ]
  },
  {
   "cell_type": "code",
   "execution_count": 29,
   "metadata": {
    "code_folding": [
     1
    ]
   },
   "outputs": [],
   "source": [
    "# 對歌詞的文本預處理\n",
    "def preprocessText(text, remove_stops=False):\n",
    "    \n",
    "    # 移除中括號'[]'的內容\n",
    "    text = re.sub(pattern=\"\\[.+?\\]( )?\", repl='', string=text)\n",
    "\n",
    "    # Change \"walkin'\" to \"walking\"\n",
    "    text = re.sub(pattern=\"n\\\\\\' \", repl='ng ', string=text)\n",
    "\n",
    "    # 移除小括號'()'，如：x4 → (x4)\n",
    "    text = re.sub(pattern=\"(\\()?x\\d+(\\))?\", repl=' ', string=text)\n",
    "\n",
    "    # 修正單引號\n",
    "    text = re.sub(pattern=\"\\\\x91\", repl=\"'\", string=text) # \\x保留字符\n",
    "    text = re.sub(pattern=\"\\\\x92\", repl=\"'\", string=text)\n",
    "    text = re.sub(pattern=\"<u\\+0092>\", repl=\"'\", string=text)\n",
    "    \n",
    "    # 傳化成小寫\n",
    "    text = text.lower()\n",
    "    \n",
    "    # 處理特殊字詞用法\n",
    "    text = re.sub(pattern=\"'til\", repl=\"til\", string=text)\n",
    "    text = re.sub(pattern=\"'til\", repl=\"til\", string=text)\n",
    "    text = re.sub(pattern=\"gon'\", repl=\"gon\", string=text)\n",
    "\n",
    "    # 處理開頭的換行符號'\\n'\n",
    "    text = re.sub(pattern='^\\n', repl='', string=text)\n",
    "\n",
    "    # 移除「,」、「!」、「?」、「,」、「\\n」\n",
    "    text = ''.join([char.strip(\",!?:\") for char in text])\n",
    "    text = text.replace('\\n', ' ')\n",
    "\n",
    "    # 處理英文縮寫(特定)\n",
    "    text = re.sub(r\"won't\", \"will not\", text)\n",
    "    text = re.sub(r\"won\\’t\", \"will not\", text)\n",
    "    text = re.sub(r\"can't\", \"can not\", text)\n",
    "    text = re.sub(r\"can\\’t\", \"can not\", text)\n",
    "    text = re.sub(r\"let's\", \"let us\", text)\n",
    "    text = re.sub(r\"let\\’s\", \"let us\", text)\n",
    "    text = re.sub(r\"ain't\", \"aint\", text)\n",
    "    text = re.sub(r\"ain\\’t\", \"aint\", text)\n",
    "\n",
    "    # 處理英文縮寫(通用)\n",
    "    text = re.sub(r\"n\\'t\", \" not\", text)\n",
    "    text = re.sub(r\"\\'re\", \" are\", text)\n",
    "    text = re.sub(r\"\\'s\", \" is\", text)\n",
    "    text = re.sub(r\"\\'d\", \" would\", text)\n",
    "    text = re.sub(r\"\\'ll\", \" will\", text)\n",
    "    text = re.sub(r\"\\'t\", \" not\", text)\n",
    "    text = re.sub(r\"\\'ve\", \" have\", text)\n",
    "    text = re.sub(r\"\\'m\", \" am\", text)\n",
    "    text = re.sub(r\"n\\’t\", \" not\", text)\n",
    "    text = re.sub(r\"\\’re\", \" are\", text)\n",
    "    text = re.sub(r\"\\’s\", \" is\", text)\n",
    "    text = re.sub(r\"\\’d\", \" would\", text)\n",
    "    text = re.sub(r\"\\’ll\", \" will\", text)\n",
    "    text = re.sub(r\"\\’t\", \" not\", text)\n",
    "    text = re.sub(r\"\\’ve\", \" have\", text)\n",
    "    text = re.sub(r\"\\’m\", \" am\", text)\n",
    "\n",
    "    # 移除剩餘的標點符號\n",
    "    punc = string.punctuation\n",
    "    text = ''.join([char for char in text if char not in punc])\n",
    "\n",
    "    # 移除停用詞\n",
    "    if remove_stops:\n",
    "        stops = stopwords.words('english')\n",
    "        text = ' '.join([word for word in text.split(' ') if word not in stops])\n",
    "    \n",
    "    # 刪除雙空格和開始結尾空格\n",
    "    text = re.sub(pattern='( ){2,}', repl=' ', string=text)\n",
    "    text = text.strip()\n",
    "    \n",
    "    return(text)"
   ]
  },
  {
   "cell_type": "code",
   "execution_count": 30,
   "metadata": {
    "scrolled": true
   },
   "outputs": [
    {
     "data": {
      "text/html": [
       "<div>\n",
       "<style scoped>\n",
       "    .dataframe tbody tr th:only-of-type {\n",
       "        vertical-align: middle;\n",
       "    }\n",
       "\n",
       "    .dataframe tbody tr th {\n",
       "        vertical-align: top;\n",
       "    }\n",
       "\n",
       "    .dataframe thead th {\n",
       "        text-align: right;\n",
       "    }\n",
       "</style>\n",
       "<table border=\"1\" class=\"dataframe\">\n",
       "  <thead>\n",
       "    <tr style=\"text-align: right;\">\n",
       "      <th></th>\n",
       "      <th>line</th>\n",
       "      <th>song_id</th>\n",
       "      <th>song_name</th>\n",
       "      <th>artist_id</th>\n",
       "      <th>artist_name</th>\n",
       "      <th>characters</th>\n",
       "      <th>genre</th>\n",
       "      <th>original_line</th>\n",
       "      <th>line_pre</th>\n",
       "    </tr>\n",
       "  </thead>\n",
       "  <tbody>\n",
       "    <tr>\n",
       "      <th>0</th>\n",
       "      <td>I poured your Johnnie Walker Blue right down t...</td>\n",
       "      <td>2429721</td>\n",
       "      <td>I Need You</td>\n",
       "      <td>643585</td>\n",
       "      <td>kalie shorr</td>\n",
       "      <td>1881</td>\n",
       "      <td>country</td>\n",
       "      <td>I poured your Johnnie Walker Blue right down t...</td>\n",
       "      <td>i poured your johnnie walker blue right down t...</td>\n",
       "    </tr>\n",
       "    <tr>\n",
       "      <th>1</th>\n",
       "      <td>His mama thinks hes an angel\\nFollows the Sav...</td>\n",
       "      <td>2429715</td>\n",
       "      <td>God Sees Everything</td>\n",
       "      <td>643585</td>\n",
       "      <td>kalie shorr</td>\n",
       "      <td>1287</td>\n",
       "      <td>country</td>\n",
       "      <td>His mama thinks hes an angel\\nFollows the Sav...</td>\n",
       "      <td>his mama thinks he is an angel follows the sav...</td>\n",
       "    </tr>\n",
       "    <tr>\n",
       "      <th>2</th>\n",
       "      <td>I'm just trying to catch a buzz\\nMindin' my ow...</td>\n",
       "      <td>2429717</td>\n",
       "      <td>Throwin' Shade</td>\n",
       "      <td>643585</td>\n",
       "      <td>kalie shorr</td>\n",
       "      <td>1305</td>\n",
       "      <td>country</td>\n",
       "      <td>I'm just trying to catch a buzz\\nMindin' my ow...</td>\n",
       "      <td>i am just trying to catch a buzz minding my ow...</td>\n",
       "    </tr>\n",
       "    <tr>\n",
       "      <th>3</th>\n",
       "      <td>[Verse 1]\\nSun's always gonna set in the west\\...</td>\n",
       "      <td>3019461</td>\n",
       "      <td>Nothin New</td>\n",
       "      <td>643585</td>\n",
       "      <td>kalie shorr</td>\n",
       "      <td>1892</td>\n",
       "      <td>country</td>\n",
       "      <td>[Verse 1]\\nSun's always gonna set in the west\\...</td>\n",
       "      <td>sun is always gonna set in the west lipsticks ...</td>\n",
       "    </tr>\n",
       "    <tr>\n",
       "      <th>4</th>\n",
       "      <td>Kill the engine, turn the headlights off\\nDriv...</td>\n",
       "      <td>2429718</td>\n",
       "      <td>Young &amp; Restless</td>\n",
       "      <td>643585</td>\n",
       "      <td>kalie shorr</td>\n",
       "      <td>2046</td>\n",
       "      <td>country</td>\n",
       "      <td>Kill the engine, turn the headlights off\\nDriv...</td>\n",
       "      <td>kill the engine turn the headlights off drive ...</td>\n",
       "    </tr>\n",
       "    <tr>\n",
       "      <th>...</th>\n",
       "      <td>...</td>\n",
       "      <td>...</td>\n",
       "      <td>...</td>\n",
       "      <td>...</td>\n",
       "      <td>...</td>\n",
       "      <td>...</td>\n",
       "      <td>...</td>\n",
       "      <td>...</td>\n",
       "      <td>...</td>\n",
       "    </tr>\n",
       "    <tr>\n",
       "      <th>8564</th>\n",
       "      <td>Got myself an angel\\nStraight from the heavens...</td>\n",
       "      <td>1618057</td>\n",
       "      <td>I Got Heaven Right Here on Earth</td>\n",
       "      <td>1664</td>\n",
       "      <td>the temptations</td>\n",
       "      <td>1788</td>\n",
       "      <td>soul</td>\n",
       "      <td>Got myself an angel\\nStraight from the heavens...</td>\n",
       "      <td>got myself an angel straight from the heavens ...</td>\n",
       "    </tr>\n",
       "    <tr>\n",
       "      <th>8565</th>\n",
       "      <td>Baby, our love was strong yesterday\\n(Now you ...</td>\n",
       "      <td>3832684</td>\n",
       "      <td>Why Did You Leave Me Darling</td>\n",
       "      <td>1664</td>\n",
       "      <td>the temptations</td>\n",
       "      <td>1063</td>\n",
       "      <td>soul</td>\n",
       "      <td>Baby, our love was strong yesterday\\n(Now you ...</td>\n",
       "      <td>baby our love was strong yesterday now you wat...</td>\n",
       "    </tr>\n",
       "    <tr>\n",
       "      <th>8566</th>\n",
       "      <td>Your eyes tell a story, such a sad story\\nOf t...</td>\n",
       "      <td>3129527</td>\n",
       "      <td>Ain't No Justice</td>\n",
       "      <td>1664</td>\n",
       "      <td>the temptations</td>\n",
       "      <td>1098</td>\n",
       "      <td>soul</td>\n",
       "      <td>Your eyes tell a story, such a sad story\\nOf t...</td>\n",
       "      <td>your eyes tell a story such a sad story of the...</td>\n",
       "    </tr>\n",
       "    <tr>\n",
       "      <th>8567</th>\n",
       "      <td>[Verse 1]\\nGuess it's true, I'm not good at a ...</td>\n",
       "      <td>3705373</td>\n",
       "      <td>Stay With Me</td>\n",
       "      <td>1664</td>\n",
       "      <td>the temptations</td>\n",
       "      <td>1167</td>\n",
       "      <td>soul</td>\n",
       "      <td>[Verse 1]\\nGuess it's true, I'm not good at a ...</td>\n",
       "      <td>guess it is true i am not good at a onenight s...</td>\n",
       "    </tr>\n",
       "    <tr>\n",
       "      <th>8568</th>\n",
       "      <td>Mother Nature\\nGo on and take your course\\nAnd...</td>\n",
       "      <td>3655226</td>\n",
       "      <td>Mother Nature [Stereo Promo Version]</td>\n",
       "      <td>1664</td>\n",
       "      <td>the temptations</td>\n",
       "      <td>826</td>\n",
       "      <td>soul</td>\n",
       "      <td>Mother Nature\\nGo on and take your course\\nAnd...</td>\n",
       "      <td>mother nature go on and take your course and a...</td>\n",
       "    </tr>\n",
       "  </tbody>\n",
       "</table>\n",
       "<p>8569 rows × 9 columns</p>\n",
       "</div>"
      ],
      "text/plain": [
       "                                                   line  song_id  \\\n",
       "0     I poured your Johnnie Walker Blue right down t...  2429721   \n",
       "1     His mama thinks hes an angel\\nFollows the Sav...  2429715   \n",
       "2     I'm just trying to catch a buzz\\nMindin' my ow...  2429717   \n",
       "3     [Verse 1]\\nSun's always gonna set in the west\\...  3019461   \n",
       "4     Kill the engine, turn the headlights off\\nDriv...  2429718   \n",
       "...                                                 ...      ...   \n",
       "8564  Got myself an angel\\nStraight from the heavens...  1618057   \n",
       "8565  Baby, our love was strong yesterday\\n(Now you ...  3832684   \n",
       "8566  Your eyes tell a story, such a sad story\\nOf t...  3129527   \n",
       "8567  [Verse 1]\\nGuess it's true, I'm not good at a ...  3705373   \n",
       "8568  Mother Nature\\nGo on and take your course\\nAnd...  3655226   \n",
       "\n",
       "                                 song_name  artist_id      artist_name  \\\n",
       "0                               I Need You     643585      kalie shorr   \n",
       "1                      God Sees Everything     643585      kalie shorr   \n",
       "2                           Throwin' Shade     643585      kalie shorr   \n",
       "3                               Nothin New     643585      kalie shorr   \n",
       "4                         Young & Restless     643585      kalie shorr   \n",
       "...                                    ...        ...              ...   \n",
       "8564      I Got Heaven Right Here on Earth       1664  the temptations   \n",
       "8565          Why Did You Leave Me Darling       1664  the temptations   \n",
       "8566                      Ain't No Justice       1664  the temptations   \n",
       "8567                          Stay With Me       1664  the temptations   \n",
       "8568  Mother Nature [Stereo Promo Version]       1664  the temptations   \n",
       "\n",
       "      characters    genre                                      original_line  \\\n",
       "0           1881  country  I poured your Johnnie Walker Blue right down t...   \n",
       "1           1287  country  His mama thinks hes an angel\\nFollows the Sav...   \n",
       "2           1305  country  I'm just trying to catch a buzz\\nMindin' my ow...   \n",
       "3           1892  country  [Verse 1]\\nSun's always gonna set in the west\\...   \n",
       "4           2046  country  Kill the engine, turn the headlights off\\nDriv...   \n",
       "...          ...      ...                                                ...   \n",
       "8564        1788     soul  Got myself an angel\\nStraight from the heavens...   \n",
       "8565        1063     soul  Baby, our love was strong yesterday\\n(Now you ...   \n",
       "8566        1098     soul  Your eyes tell a story, such a sad story\\nOf t...   \n",
       "8567        1167     soul  [Verse 1]\\nGuess it's true, I'm not good at a ...   \n",
       "8568         826     soul  Mother Nature\\nGo on and take your course\\nAnd...   \n",
       "\n",
       "                                               line_pre  \n",
       "0     i poured your johnnie walker blue right down t...  \n",
       "1     his mama thinks he is an angel follows the sav...  \n",
       "2     i am just trying to catch a buzz minding my ow...  \n",
       "3     sun is always gonna set in the west lipsticks ...  \n",
       "4     kill the engine turn the headlights off drive ...  \n",
       "...                                                 ...  \n",
       "8564  got myself an angel straight from the heavens ...  \n",
       "8565  baby our love was strong yesterday now you wat...  \n",
       "8566  your eyes tell a story such a sad story of the...  \n",
       "8567  guess it is true i am not good at a onenight s...  \n",
       "8568  mother nature go on and take your course and a...  \n",
       "\n",
       "[8569 rows x 9 columns]"
      ]
     },
     "execution_count": 30,
     "metadata": {},
     "output_type": "execute_result"
    }
   ],
   "source": [
    "# 將原始'line'的歌詞經過文本預處理，並存放到新欄位'line_pre'\n",
    "lyrics['line_pre'] = lyrics.apply(lambda x: preprocessText(x['line']), axis=1)\n",
    "lyrics = lyrics.reset_index(drop=True) # 重新編排索引值\n",
    "lyrics"
   ]
  },
  {
   "cell_type": "code",
   "execution_count": 31,
   "metadata": {
    "scrolled": true
   },
   "outputs": [
    {
     "data": {
      "text/html": [
       "<div>\n",
       "<style scoped>\n",
       "    .dataframe tbody tr th:only-of-type {\n",
       "        vertical-align: middle;\n",
       "    }\n",
       "\n",
       "    .dataframe tbody tr th {\n",
       "        vertical-align: top;\n",
       "    }\n",
       "\n",
       "    .dataframe thead th {\n",
       "        text-align: right;\n",
       "    }\n",
       "</style>\n",
       "<table border=\"1\" class=\"dataframe\">\n",
       "  <thead>\n",
       "    <tr style=\"text-align: right;\">\n",
       "      <th></th>\n",
       "      <th>line</th>\n",
       "      <th>song_id</th>\n",
       "      <th>song_name</th>\n",
       "      <th>artist_id</th>\n",
       "      <th>artist_name</th>\n",
       "      <th>characters</th>\n",
       "      <th>genre</th>\n",
       "      <th>original_line</th>\n",
       "      <th>line_pre</th>\n",
       "      <th>unique_words</th>\n",
       "      <th>num_unique_words</th>\n",
       "    </tr>\n",
       "  </thead>\n",
       "  <tbody>\n",
       "    <tr>\n",
       "      <th>0</th>\n",
       "      <td>I poured your Johnnie Walker Blue right down t...</td>\n",
       "      <td>2429721</td>\n",
       "      <td>I Need You</td>\n",
       "      <td>643585</td>\n",
       "      <td>kalie shorr</td>\n",
       "      <td>1881</td>\n",
       "      <td>country</td>\n",
       "      <td>I poured your Johnnie Walker Blue right down t...</td>\n",
       "      <td>i poured your johnnie walker blue right down t...</td>\n",
       "      <td>[a, all, alright, always, am, and, are, away, ...</td>\n",
       "      <td>135</td>\n",
       "    </tr>\n",
       "    <tr>\n",
       "      <th>1</th>\n",
       "      <td>His mama thinks hes an angel\\nFollows the Sav...</td>\n",
       "      <td>2429715</td>\n",
       "      <td>God Sees Everything</td>\n",
       "      <td>643585</td>\n",
       "      <td>kalie shorr</td>\n",
       "      <td>1287</td>\n",
       "      <td>country</td>\n",
       "      <td>His mama thinks hes an angel\\nFollows the Sav...</td>\n",
       "      <td>his mama thinks he is an angel follows the sav...</td>\n",
       "      <td>[a, aint, all, alone, along, an, and, angel, a...</td>\n",
       "      <td>89</td>\n",
       "    </tr>\n",
       "    <tr>\n",
       "      <th>2</th>\n",
       "      <td>I'm just trying to catch a buzz\\nMindin' my ow...</td>\n",
       "      <td>2429717</td>\n",
       "      <td>Throwin' Shade</td>\n",
       "      <td>643585</td>\n",
       "      <td>kalie shorr</td>\n",
       "      <td>1305</td>\n",
       "      <td>country</td>\n",
       "      <td>I'm just trying to catch a buzz\\nMindin' my ow...</td>\n",
       "      <td>i am just trying to catch a buzz minding my ow...</td>\n",
       "      <td>[a, aint, all, am, and, are, around, away, bac...</td>\n",
       "      <td>105</td>\n",
       "    </tr>\n",
       "    <tr>\n",
       "      <th>3</th>\n",
       "      <td>[Verse 1]\\nSun's always gonna set in the west\\...</td>\n",
       "      <td>3019461</td>\n",
       "      <td>Nothin New</td>\n",
       "      <td>643585</td>\n",
       "      <td>kalie shorr</td>\n",
       "      <td>1892</td>\n",
       "      <td>country</td>\n",
       "      <td>[Verse 1]\\nSun's always gonna set in the west\\...</td>\n",
       "      <td>sun is always gonna set in the west lipsticks ...</td>\n",
       "      <td>[a, aint, always, am, and, are, as, back, bad,...</td>\n",
       "      <td>103</td>\n",
       "    </tr>\n",
       "    <tr>\n",
       "      <th>4</th>\n",
       "      <td>Kill the engine, turn the headlights off\\nDriv...</td>\n",
       "      <td>2429718</td>\n",
       "      <td>Young &amp; Restless</td>\n",
       "      <td>643585</td>\n",
       "      <td>kalie shorr</td>\n",
       "      <td>2046</td>\n",
       "      <td>country</td>\n",
       "      <td>Kill the engine, turn the headlights off\\nDriv...</td>\n",
       "      <td>kill the engine turn the headlights off drive ...</td>\n",
       "      <td>[a, aint, all, and, another, anything, are, ar...</td>\n",
       "      <td>146</td>\n",
       "    </tr>\n",
       "    <tr>\n",
       "      <th>...</th>\n",
       "      <td>...</td>\n",
       "      <td>...</td>\n",
       "      <td>...</td>\n",
       "      <td>...</td>\n",
       "      <td>...</td>\n",
       "      <td>...</td>\n",
       "      <td>...</td>\n",
       "      <td>...</td>\n",
       "      <td>...</td>\n",
       "      <td>...</td>\n",
       "      <td>...</td>\n",
       "    </tr>\n",
       "    <tr>\n",
       "      <th>8564</th>\n",
       "      <td>Got myself an angel\\nStraight from the heavens...</td>\n",
       "      <td>1618057</td>\n",
       "      <td>I Got Heaven Right Here on Earth</td>\n",
       "      <td>1664</td>\n",
       "      <td>the temptations</td>\n",
       "      <td>1788</td>\n",
       "      <td>soul</td>\n",
       "      <td>Got myself an angel\\nStraight from the heavens...</td>\n",
       "      <td>got myself an angel straight from the heavens ...</td>\n",
       "      <td>[a, about, above, all, am, an, and, angel, as,...</td>\n",
       "      <td>111</td>\n",
       "    </tr>\n",
       "    <tr>\n",
       "      <th>8565</th>\n",
       "      <td>Baby, our love was strong yesterday\\n(Now you ...</td>\n",
       "      <td>3832684</td>\n",
       "      <td>Why Did You Leave Me Darling</td>\n",
       "      <td>1664</td>\n",
       "      <td>the temptations</td>\n",
       "      <td>1063</td>\n",
       "      <td>soul</td>\n",
       "      <td>Baby, our love was strong yesterday\\n(Now you ...</td>\n",
       "      <td>baby our love was strong yesterday now you wat...</td>\n",
       "      <td>[a, alone, and, are, away, baby, bear, begun, ...</td>\n",
       "      <td>77</td>\n",
       "    </tr>\n",
       "    <tr>\n",
       "      <th>8566</th>\n",
       "      <td>Your eyes tell a story, such a sad story\\nOf t...</td>\n",
       "      <td>3129527</td>\n",
       "      <td>Ain't No Justice</td>\n",
       "      <td>1664</td>\n",
       "      <td>the temptations</td>\n",
       "      <td>1098</td>\n",
       "      <td>soul</td>\n",
       "      <td>Your eyes tell a story, such a sad story\\nOf t...</td>\n",
       "      <td>your eyes tell a story such a sad story of the...</td>\n",
       "      <td>[a, about, again, aint, am, an, and, are, be, ...</td>\n",
       "      <td>114</td>\n",
       "    </tr>\n",
       "    <tr>\n",
       "      <th>8567</th>\n",
       "      <td>[Verse 1]\\nGuess it's true, I'm not good at a ...</td>\n",
       "      <td>3705373</td>\n",
       "      <td>Stay With Me</td>\n",
       "      <td>1664</td>\n",
       "      <td>the temptations</td>\n",
       "      <td>1167</td>\n",
       "      <td>soul</td>\n",
       "      <td>[Verse 1]\\nGuess it's true, I'm not good at a ...</td>\n",
       "      <td>guess it is true i am not good at a onenight s...</td>\n",
       "      <td>[a, aint, all, am, and, are, at, but, can, cau...</td>\n",
       "      <td>68</td>\n",
       "    </tr>\n",
       "    <tr>\n",
       "      <th>8568</th>\n",
       "      <td>Mother Nature\\nGo on and take your course\\nAnd...</td>\n",
       "      <td>3655226</td>\n",
       "      <td>Mother Nature [Stereo Promo Version]</td>\n",
       "      <td>1664</td>\n",
       "      <td>the temptations</td>\n",
       "      <td>826</td>\n",
       "      <td>soul</td>\n",
       "      <td>Mother Nature\\nGo on and take your course\\nAnd...</td>\n",
       "      <td>mother nature go on and take your course and a...</td>\n",
       "      <td>[5, 9, alive, all, am, and, are, as, atake, be...</td>\n",
       "      <td>81</td>\n",
       "    </tr>\n",
       "  </tbody>\n",
       "</table>\n",
       "<p>8569 rows × 11 columns</p>\n",
       "</div>"
      ],
      "text/plain": [
       "                                                   line  song_id  \\\n",
       "0     I poured your Johnnie Walker Blue right down t...  2429721   \n",
       "1     His mama thinks hes an angel\\nFollows the Sav...  2429715   \n",
       "2     I'm just trying to catch a buzz\\nMindin' my ow...  2429717   \n",
       "3     [Verse 1]\\nSun's always gonna set in the west\\...  3019461   \n",
       "4     Kill the engine, turn the headlights off\\nDriv...  2429718   \n",
       "...                                                 ...      ...   \n",
       "8564  Got myself an angel\\nStraight from the heavens...  1618057   \n",
       "8565  Baby, our love was strong yesterday\\n(Now you ...  3832684   \n",
       "8566  Your eyes tell a story, such a sad story\\nOf t...  3129527   \n",
       "8567  [Verse 1]\\nGuess it's true, I'm not good at a ...  3705373   \n",
       "8568  Mother Nature\\nGo on and take your course\\nAnd...  3655226   \n",
       "\n",
       "                                 song_name  artist_id      artist_name  \\\n",
       "0                               I Need You     643585      kalie shorr   \n",
       "1                      God Sees Everything     643585      kalie shorr   \n",
       "2                           Throwin' Shade     643585      kalie shorr   \n",
       "3                               Nothin New     643585      kalie shorr   \n",
       "4                         Young & Restless     643585      kalie shorr   \n",
       "...                                    ...        ...              ...   \n",
       "8564      I Got Heaven Right Here on Earth       1664  the temptations   \n",
       "8565          Why Did You Leave Me Darling       1664  the temptations   \n",
       "8566                      Ain't No Justice       1664  the temptations   \n",
       "8567                          Stay With Me       1664  the temptations   \n",
       "8568  Mother Nature [Stereo Promo Version]       1664  the temptations   \n",
       "\n",
       "      characters    genre                                      original_line  \\\n",
       "0           1881  country  I poured your Johnnie Walker Blue right down t...   \n",
       "1           1287  country  His mama thinks hes an angel\\nFollows the Sav...   \n",
       "2           1305  country  I'm just trying to catch a buzz\\nMindin' my ow...   \n",
       "3           1892  country  [Verse 1]\\nSun's always gonna set in the west\\...   \n",
       "4           2046  country  Kill the engine, turn the headlights off\\nDriv...   \n",
       "...          ...      ...                                                ...   \n",
       "8564        1788     soul  Got myself an angel\\nStraight from the heavens...   \n",
       "8565        1063     soul  Baby, our love was strong yesterday\\n(Now you ...   \n",
       "8566        1098     soul  Your eyes tell a story, such a sad story\\nOf t...   \n",
       "8567        1167     soul  [Verse 1]\\nGuess it's true, I'm not good at a ...   \n",
       "8568         826     soul  Mother Nature\\nGo on and take your course\\nAnd...   \n",
       "\n",
       "                                               line_pre  \\\n",
       "0     i poured your johnnie walker blue right down t...   \n",
       "1     his mama thinks he is an angel follows the sav...   \n",
       "2     i am just trying to catch a buzz minding my ow...   \n",
       "3     sun is always gonna set in the west lipsticks ...   \n",
       "4     kill the engine turn the headlights off drive ...   \n",
       "...                                                 ...   \n",
       "8564  got myself an angel straight from the heavens ...   \n",
       "8565  baby our love was strong yesterday now you wat...   \n",
       "8566  your eyes tell a story such a sad story of the...   \n",
       "8567  guess it is true i am not good at a onenight s...   \n",
       "8568  mother nature go on and take your course and a...   \n",
       "\n",
       "                                           unique_words  num_unique_words  \n",
       "0     [a, all, alright, always, am, and, are, away, ...               135  \n",
       "1     [a, aint, all, alone, along, an, and, angel, a...                89  \n",
       "2     [a, aint, all, am, and, are, around, away, bac...               105  \n",
       "3     [a, aint, always, am, and, are, as, back, bad,...               103  \n",
       "4     [a, aint, all, and, another, anything, are, ar...               146  \n",
       "...                                                 ...               ...  \n",
       "8564  [a, about, above, all, am, an, and, angel, as,...               111  \n",
       "8565  [a, alone, and, are, away, baby, bear, begun, ...                77  \n",
       "8566  [a, about, again, aint, am, an, and, are, be, ...               114  \n",
       "8567  [a, aint, all, am, and, are, at, but, can, cau...                68  \n",
       "8568  [5, 9, alive, all, am, and, are, as, atake, be...                81  \n",
       "\n",
       "[8569 rows x 11 columns]"
      ]
     },
     "execution_count": 31,
     "metadata": {},
     "output_type": "execute_result"
    }
   ],
   "source": [
    "# 把上一步驟的欄位'line_pre'篩選出每一格歌詞的唯一詞語，計算詞語個數，並存放到新欄位'unique_words'和新欄位'num_unique_words'\n",
    "lst_unique_words = []\n",
    "lst_unique_words_count = []\n",
    "for i in range(len(lyrics['line_pre'])): # len(lyrics['line_pre'])\n",
    "    items = lyrics['line_pre'][i]\n",
    "    words = [word for word in items.split(\" \")]\n",
    "    result = (\" \".join(sorted(list(set(words))))).split()\n",
    "    lst_unique_words.append(result)\n",
    "    lst_unique_words_count.append(len(result))\n",
    "lyrics['unique_words'] = lst_unique_words\n",
    "lyrics['num_unique_words'] = lst_unique_words_count\n",
    "lyrics\n",
    "#print(lst_unique_words)"
   ]
  },
  {
   "cell_type": "markdown",
   "metadata": {},
   "source": [
    "# Stem words"
   ]
  },
  {
   "cell_type": "code",
   "execution_count": 32,
   "metadata": {
    "scrolled": true
   },
   "outputs": [
    {
     "data": {
      "text/html": [
       "<div>\n",
       "<style scoped>\n",
       "    .dataframe tbody tr th:only-of-type {\n",
       "        vertical-align: middle;\n",
       "    }\n",
       "\n",
       "    .dataframe tbody tr th {\n",
       "        vertical-align: top;\n",
       "    }\n",
       "\n",
       "    .dataframe thead th {\n",
       "        text-align: right;\n",
       "    }\n",
       "</style>\n",
       "<table border=\"1\" class=\"dataframe\">\n",
       "  <thead>\n",
       "    <tr style=\"text-align: right;\">\n",
       "      <th></th>\n",
       "      <th>line</th>\n",
       "      <th>song_id</th>\n",
       "      <th>song_name</th>\n",
       "      <th>artist_id</th>\n",
       "      <th>artist_name</th>\n",
       "      <th>characters</th>\n",
       "      <th>genre</th>\n",
       "      <th>original_line</th>\n",
       "      <th>line_pre</th>\n",
       "      <th>unique_words</th>\n",
       "      <th>num_unique_words</th>\n",
       "      <th>line_stems</th>\n",
       "    </tr>\n",
       "  </thead>\n",
       "  <tbody>\n",
       "    <tr>\n",
       "      <th>0</th>\n",
       "      <td>I poured your Johnnie Walker Blue right down t...</td>\n",
       "      <td>2429721</td>\n",
       "      <td>I Need You</td>\n",
       "      <td>643585</td>\n",
       "      <td>kalie shorr</td>\n",
       "      <td>1881</td>\n",
       "      <td>country</td>\n",
       "      <td>I poured your Johnnie Walker Blue right down t...</td>\n",
       "      <td>i poured your johnnie walker blue right down t...</td>\n",
       "      <td>[a, all, alright, always, am, and, are, away, ...</td>\n",
       "      <td>135</td>\n",
       "      <td>i pour your johnni walker blue right down the ...</td>\n",
       "    </tr>\n",
       "    <tr>\n",
       "      <th>1</th>\n",
       "      <td>His mama thinks hes an angel\\nFollows the Sav...</td>\n",
       "      <td>2429715</td>\n",
       "      <td>God Sees Everything</td>\n",
       "      <td>643585</td>\n",
       "      <td>kalie shorr</td>\n",
       "      <td>1287</td>\n",
       "      <td>country</td>\n",
       "      <td>His mama thinks hes an angel\\nFollows the Sav...</td>\n",
       "      <td>his mama thinks he is an angel follows the sav...</td>\n",
       "      <td>[a, aint, all, alone, along, an, and, angel, a...</td>\n",
       "      <td>89</td>\n",
       "      <td>his mama think he is an angel follow the savio...</td>\n",
       "    </tr>\n",
       "    <tr>\n",
       "      <th>2</th>\n",
       "      <td>I'm just trying to catch a buzz\\nMindin' my ow...</td>\n",
       "      <td>2429717</td>\n",
       "      <td>Throwin' Shade</td>\n",
       "      <td>643585</td>\n",
       "      <td>kalie shorr</td>\n",
       "      <td>1305</td>\n",
       "      <td>country</td>\n",
       "      <td>I'm just trying to catch a buzz\\nMindin' my ow...</td>\n",
       "      <td>i am just trying to catch a buzz minding my ow...</td>\n",
       "      <td>[a, aint, all, am, and, are, around, away, bac...</td>\n",
       "      <td>105</td>\n",
       "      <td>i am just tri to catch a buzz mind my own litt...</td>\n",
       "    </tr>\n",
       "    <tr>\n",
       "      <th>3</th>\n",
       "      <td>[Verse 1]\\nSun's always gonna set in the west\\...</td>\n",
       "      <td>3019461</td>\n",
       "      <td>Nothin New</td>\n",
       "      <td>643585</td>\n",
       "      <td>kalie shorr</td>\n",
       "      <td>1892</td>\n",
       "      <td>country</td>\n",
       "      <td>[Verse 1]\\nSun's always gonna set in the west\\...</td>\n",
       "      <td>sun is always gonna set in the west lipsticks ...</td>\n",
       "      <td>[a, aint, always, am, and, are, as, back, bad,...</td>\n",
       "      <td>103</td>\n",
       "      <td>sun is alway gonna set in the west lipstick an...</td>\n",
       "    </tr>\n",
       "    <tr>\n",
       "      <th>4</th>\n",
       "      <td>Kill the engine, turn the headlights off\\nDriv...</td>\n",
       "      <td>2429718</td>\n",
       "      <td>Young &amp; Restless</td>\n",
       "      <td>643585</td>\n",
       "      <td>kalie shorr</td>\n",
       "      <td>2046</td>\n",
       "      <td>country</td>\n",
       "      <td>Kill the engine, turn the headlights off\\nDriv...</td>\n",
       "      <td>kill the engine turn the headlights off drive ...</td>\n",
       "      <td>[a, aint, all, and, another, anything, are, ar...</td>\n",
       "      <td>146</td>\n",
       "      <td>kill the engin turn the headlight off drive aw...</td>\n",
       "    </tr>\n",
       "    <tr>\n",
       "      <th>...</th>\n",
       "      <td>...</td>\n",
       "      <td>...</td>\n",
       "      <td>...</td>\n",
       "      <td>...</td>\n",
       "      <td>...</td>\n",
       "      <td>...</td>\n",
       "      <td>...</td>\n",
       "      <td>...</td>\n",
       "      <td>...</td>\n",
       "      <td>...</td>\n",
       "      <td>...</td>\n",
       "      <td>...</td>\n",
       "    </tr>\n",
       "    <tr>\n",
       "      <th>8564</th>\n",
       "      <td>Got myself an angel\\nStraight from the heavens...</td>\n",
       "      <td>1618057</td>\n",
       "      <td>I Got Heaven Right Here on Earth</td>\n",
       "      <td>1664</td>\n",
       "      <td>the temptations</td>\n",
       "      <td>1788</td>\n",
       "      <td>soul</td>\n",
       "      <td>Got myself an angel\\nStraight from the heavens...</td>\n",
       "      <td>got myself an angel straight from the heavens ...</td>\n",
       "      <td>[a, about, above, all, am, an, and, angel, as,...</td>\n",
       "      <td>111</td>\n",
       "      <td>got myself an angel straight from the heaven a...</td>\n",
       "    </tr>\n",
       "    <tr>\n",
       "      <th>8565</th>\n",
       "      <td>Baby, our love was strong yesterday\\n(Now you ...</td>\n",
       "      <td>3832684</td>\n",
       "      <td>Why Did You Leave Me Darling</td>\n",
       "      <td>1664</td>\n",
       "      <td>the temptations</td>\n",
       "      <td>1063</td>\n",
       "      <td>soul</td>\n",
       "      <td>Baby, our love was strong yesterday\\n(Now you ...</td>\n",
       "      <td>baby our love was strong yesterday now you wat...</td>\n",
       "      <td>[a, alone, and, are, away, baby, bear, begun, ...</td>\n",
       "      <td>77</td>\n",
       "      <td>babi our love was strong yesterday now you wat...</td>\n",
       "    </tr>\n",
       "    <tr>\n",
       "      <th>8566</th>\n",
       "      <td>Your eyes tell a story, such a sad story\\nOf t...</td>\n",
       "      <td>3129527</td>\n",
       "      <td>Ain't No Justice</td>\n",
       "      <td>1664</td>\n",
       "      <td>the temptations</td>\n",
       "      <td>1098</td>\n",
       "      <td>soul</td>\n",
       "      <td>Your eyes tell a story, such a sad story\\nOf t...</td>\n",
       "      <td>your eyes tell a story such a sad story of the...</td>\n",
       "      <td>[a, about, again, aint, am, an, and, are, be, ...</td>\n",
       "      <td>114</td>\n",
       "      <td>your eye tell a stori such a sad stori of the ...</td>\n",
       "    </tr>\n",
       "    <tr>\n",
       "      <th>8567</th>\n",
       "      <td>[Verse 1]\\nGuess it's true, I'm not good at a ...</td>\n",
       "      <td>3705373</td>\n",
       "      <td>Stay With Me</td>\n",
       "      <td>1664</td>\n",
       "      <td>the temptations</td>\n",
       "      <td>1167</td>\n",
       "      <td>soul</td>\n",
       "      <td>[Verse 1]\\nGuess it's true, I'm not good at a ...</td>\n",
       "      <td>guess it is true i am not good at a onenight s...</td>\n",
       "      <td>[a, aint, all, am, and, are, at, but, can, cau...</td>\n",
       "      <td>68</td>\n",
       "      <td>guess it is true i am not good at a onenight s...</td>\n",
       "    </tr>\n",
       "    <tr>\n",
       "      <th>8568</th>\n",
       "      <td>Mother Nature\\nGo on and take your course\\nAnd...</td>\n",
       "      <td>3655226</td>\n",
       "      <td>Mother Nature [Stereo Promo Version]</td>\n",
       "      <td>1664</td>\n",
       "      <td>the temptations</td>\n",
       "      <td>826</td>\n",
       "      <td>soul</td>\n",
       "      <td>Mother Nature\\nGo on and take your course\\nAnd...</td>\n",
       "      <td>mother nature go on and take your course and a...</td>\n",
       "      <td>[5, 9, alive, all, am, and, are, as, atake, be...</td>\n",
       "      <td>81</td>\n",
       "      <td>mother natur go on and take your cours and ata...</td>\n",
       "    </tr>\n",
       "  </tbody>\n",
       "</table>\n",
       "<p>8569 rows × 12 columns</p>\n",
       "</div>"
      ],
      "text/plain": [
       "                                                   line  song_id  \\\n",
       "0     I poured your Johnnie Walker Blue right down t...  2429721   \n",
       "1     His mama thinks hes an angel\\nFollows the Sav...  2429715   \n",
       "2     I'm just trying to catch a buzz\\nMindin' my ow...  2429717   \n",
       "3     [Verse 1]\\nSun's always gonna set in the west\\...  3019461   \n",
       "4     Kill the engine, turn the headlights off\\nDriv...  2429718   \n",
       "...                                                 ...      ...   \n",
       "8564  Got myself an angel\\nStraight from the heavens...  1618057   \n",
       "8565  Baby, our love was strong yesterday\\n(Now you ...  3832684   \n",
       "8566  Your eyes tell a story, such a sad story\\nOf t...  3129527   \n",
       "8567  [Verse 1]\\nGuess it's true, I'm not good at a ...  3705373   \n",
       "8568  Mother Nature\\nGo on and take your course\\nAnd...  3655226   \n",
       "\n",
       "                                 song_name  artist_id      artist_name  \\\n",
       "0                               I Need You     643585      kalie shorr   \n",
       "1                      God Sees Everything     643585      kalie shorr   \n",
       "2                           Throwin' Shade     643585      kalie shorr   \n",
       "3                               Nothin New     643585      kalie shorr   \n",
       "4                         Young & Restless     643585      kalie shorr   \n",
       "...                                    ...        ...              ...   \n",
       "8564      I Got Heaven Right Here on Earth       1664  the temptations   \n",
       "8565          Why Did You Leave Me Darling       1664  the temptations   \n",
       "8566                      Ain't No Justice       1664  the temptations   \n",
       "8567                          Stay With Me       1664  the temptations   \n",
       "8568  Mother Nature [Stereo Promo Version]       1664  the temptations   \n",
       "\n",
       "      characters    genre                                      original_line  \\\n",
       "0           1881  country  I poured your Johnnie Walker Blue right down t...   \n",
       "1           1287  country  His mama thinks hes an angel\\nFollows the Sav...   \n",
       "2           1305  country  I'm just trying to catch a buzz\\nMindin' my ow...   \n",
       "3           1892  country  [Verse 1]\\nSun's always gonna set in the west\\...   \n",
       "4           2046  country  Kill the engine, turn the headlights off\\nDriv...   \n",
       "...          ...      ...                                                ...   \n",
       "8564        1788     soul  Got myself an angel\\nStraight from the heavens...   \n",
       "8565        1063     soul  Baby, our love was strong yesterday\\n(Now you ...   \n",
       "8566        1098     soul  Your eyes tell a story, such a sad story\\nOf t...   \n",
       "8567        1167     soul  [Verse 1]\\nGuess it's true, I'm not good at a ...   \n",
       "8568         826     soul  Mother Nature\\nGo on and take your course\\nAnd...   \n",
       "\n",
       "                                               line_pre  \\\n",
       "0     i poured your johnnie walker blue right down t...   \n",
       "1     his mama thinks he is an angel follows the sav...   \n",
       "2     i am just trying to catch a buzz minding my ow...   \n",
       "3     sun is always gonna set in the west lipsticks ...   \n",
       "4     kill the engine turn the headlights off drive ...   \n",
       "...                                                 ...   \n",
       "8564  got myself an angel straight from the heavens ...   \n",
       "8565  baby our love was strong yesterday now you wat...   \n",
       "8566  your eyes tell a story such a sad story of the...   \n",
       "8567  guess it is true i am not good at a onenight s...   \n",
       "8568  mother nature go on and take your course and a...   \n",
       "\n",
       "                                           unique_words  num_unique_words  \\\n",
       "0     [a, all, alright, always, am, and, are, away, ...               135   \n",
       "1     [a, aint, all, alone, along, an, and, angel, a...                89   \n",
       "2     [a, aint, all, am, and, are, around, away, bac...               105   \n",
       "3     [a, aint, always, am, and, are, as, back, bad,...               103   \n",
       "4     [a, aint, all, and, another, anything, are, ar...               146   \n",
       "...                                                 ...               ...   \n",
       "8564  [a, about, above, all, am, an, and, angel, as,...               111   \n",
       "8565  [a, alone, and, are, away, baby, bear, begun, ...                77   \n",
       "8566  [a, about, again, aint, am, an, and, are, be, ...               114   \n",
       "8567  [a, aint, all, am, and, are, at, but, can, cau...                68   \n",
       "8568  [5, 9, alive, all, am, and, are, as, atake, be...                81   \n",
       "\n",
       "                                             line_stems  \n",
       "0     i pour your johnni walker blue right down the ...  \n",
       "1     his mama think he is an angel follow the savio...  \n",
       "2     i am just tri to catch a buzz mind my own litt...  \n",
       "3     sun is alway gonna set in the west lipstick an...  \n",
       "4     kill the engin turn the headlight off drive aw...  \n",
       "...                                                 ...  \n",
       "8564  got myself an angel straight from the heaven a...  \n",
       "8565  babi our love was strong yesterday now you wat...  \n",
       "8566  your eye tell a stori such a sad stori of the ...  \n",
       "8567  guess it is true i am not good at a onenight s...  \n",
       "8568  mother natur go on and take your cours and ata...  \n",
       "\n",
       "[8569 rows x 12 columns]"
      ]
     },
     "execution_count": 32,
     "metadata": {},
     "output_type": "execute_result"
    }
   ],
   "source": [
    "stemmer = EnglishStemmer()\n",
    "# 針對每一首歌處理詞幹\n",
    "lyrics['line_stems'] = lyrics.apply(lambda x: ' '.join([stemmer.stem(word) for word in x['line_pre'].split(' ')]), axis=1)\n",
    "lyrics"
   ]
  },
  {
   "cell_type": "code",
   "execution_count": 33,
   "metadata": {
    "scrolled": true
   },
   "outputs": [
    {
     "data": {
      "text/html": [
       "<div>\n",
       "<style scoped>\n",
       "    .dataframe tbody tr th:only-of-type {\n",
       "        vertical-align: middle;\n",
       "    }\n",
       "\n",
       "    .dataframe tbody tr th {\n",
       "        vertical-align: top;\n",
       "    }\n",
       "\n",
       "    .dataframe thead th {\n",
       "        text-align: right;\n",
       "    }\n",
       "</style>\n",
       "<table border=\"1\" class=\"dataframe\">\n",
       "  <thead>\n",
       "    <tr style=\"text-align: right;\">\n",
       "      <th></th>\n",
       "      <th>line</th>\n",
       "      <th>song_id</th>\n",
       "      <th>song_name</th>\n",
       "      <th>artist_id</th>\n",
       "      <th>artist_name</th>\n",
       "      <th>characters</th>\n",
       "      <th>genre</th>\n",
       "      <th>original_line</th>\n",
       "      <th>line_pre</th>\n",
       "      <th>unique_words</th>\n",
       "      <th>num_unique_words</th>\n",
       "      <th>line_stems</th>\n",
       "      <th>unique_stems</th>\n",
       "    </tr>\n",
       "  </thead>\n",
       "  <tbody>\n",
       "    <tr>\n",
       "      <th>0</th>\n",
       "      <td>I poured your Johnnie Walker Blue right down t...</td>\n",
       "      <td>2429721</td>\n",
       "      <td>I Need You</td>\n",
       "      <td>643585</td>\n",
       "      <td>kalie shorr</td>\n",
       "      <td>1881</td>\n",
       "      <td>country</td>\n",
       "      <td>I poured your Johnnie Walker Blue right down t...</td>\n",
       "      <td>i poured your johnnie walker blue right down t...</td>\n",
       "      <td>[a, all, alright, always, am, and, are, away, ...</td>\n",
       "      <td>135</td>\n",
       "      <td>i pour your johnni walker blue right down the ...</td>\n",
       "      <td>a all alright alway am and are away babi back ...</td>\n",
       "    </tr>\n",
       "    <tr>\n",
       "      <th>1</th>\n",
       "      <td>His mama thinks hes an angel\\nFollows the Sav...</td>\n",
       "      <td>2429715</td>\n",
       "      <td>God Sees Everything</td>\n",
       "      <td>643585</td>\n",
       "      <td>kalie shorr</td>\n",
       "      <td>1287</td>\n",
       "      <td>country</td>\n",
       "      <td>His mama thinks hes an angel\\nFollows the Sav...</td>\n",
       "      <td>his mama thinks he is an angel follows the sav...</td>\n",
       "      <td>[a, aint, all, alone, along, an, and, angel, a...</td>\n",
       "      <td>89</td>\n",
       "      <td>his mama think he is an angel follow the savio...</td>\n",
       "      <td>a aint all alon along an and angel as back bas...</td>\n",
       "    </tr>\n",
       "    <tr>\n",
       "      <th>2</th>\n",
       "      <td>I'm just trying to catch a buzz\\nMindin' my ow...</td>\n",
       "      <td>2429717</td>\n",
       "      <td>Throwin' Shade</td>\n",
       "      <td>643585</td>\n",
       "      <td>kalie shorr</td>\n",
       "      <td>1305</td>\n",
       "      <td>country</td>\n",
       "      <td>I'm just trying to catch a buzz\\nMindin' my ow...</td>\n",
       "      <td>i am just trying to catch a buzz minding my ow...</td>\n",
       "      <td>[a, aint, all, am, and, are, around, away, bac...</td>\n",
       "      <td>105</td>\n",
       "      <td>i am just tri to catch a buzz mind my own litt...</td>\n",
       "      <td>a aint all am and are around away back be been...</td>\n",
       "    </tr>\n",
       "    <tr>\n",
       "      <th>3</th>\n",
       "      <td>[Verse 1]\\nSun's always gonna set in the west\\...</td>\n",
       "      <td>3019461</td>\n",
       "      <td>Nothin New</td>\n",
       "      <td>643585</td>\n",
       "      <td>kalie shorr</td>\n",
       "      <td>1892</td>\n",
       "      <td>country</td>\n",
       "      <td>[Verse 1]\\nSun's always gonna set in the west\\...</td>\n",
       "      <td>sun is always gonna set in the west lipsticks ...</td>\n",
       "      <td>[a, aint, always, am, and, are, as, back, bad,...</td>\n",
       "      <td>103</td>\n",
       "      <td>sun is alway gonna set in the west lipstick an...</td>\n",
       "      <td>a aint alway am and are as back bad begin be b...</td>\n",
       "    </tr>\n",
       "    <tr>\n",
       "      <th>4</th>\n",
       "      <td>Kill the engine, turn the headlights off\\nDriv...</td>\n",
       "      <td>2429718</td>\n",
       "      <td>Young &amp; Restless</td>\n",
       "      <td>643585</td>\n",
       "      <td>kalie shorr</td>\n",
       "      <td>2046</td>\n",
       "      <td>country</td>\n",
       "      <td>Kill the engine, turn the headlights off\\nDriv...</td>\n",
       "      <td>kill the engine turn the headlights off drive ...</td>\n",
       "      <td>[a, aint, all, and, another, anything, are, ar...</td>\n",
       "      <td>146</td>\n",
       "      <td>kill the engin turn the headlight off drive aw...</td>\n",
       "      <td>a aint all and anoth anyth are arm around as a...</td>\n",
       "    </tr>\n",
       "    <tr>\n",
       "      <th>...</th>\n",
       "      <td>...</td>\n",
       "      <td>...</td>\n",
       "      <td>...</td>\n",
       "      <td>...</td>\n",
       "      <td>...</td>\n",
       "      <td>...</td>\n",
       "      <td>...</td>\n",
       "      <td>...</td>\n",
       "      <td>...</td>\n",
       "      <td>...</td>\n",
       "      <td>...</td>\n",
       "      <td>...</td>\n",
       "      <td>...</td>\n",
       "    </tr>\n",
       "    <tr>\n",
       "      <th>8564</th>\n",
       "      <td>Got myself an angel\\nStraight from the heavens...</td>\n",
       "      <td>1618057</td>\n",
       "      <td>I Got Heaven Right Here on Earth</td>\n",
       "      <td>1664</td>\n",
       "      <td>the temptations</td>\n",
       "      <td>1788</td>\n",
       "      <td>soul</td>\n",
       "      <td>Got myself an angel\\nStraight from the heavens...</td>\n",
       "      <td>got myself an angel straight from the heavens ...</td>\n",
       "      <td>[a, about, above, all, am, an, and, angel, as,...</td>\n",
       "      <td>111</td>\n",
       "      <td>got myself an angel straight from the heaven a...</td>\n",
       "      <td>a about abov all am an and angel as babi be be...</td>\n",
       "    </tr>\n",
       "    <tr>\n",
       "      <th>8565</th>\n",
       "      <td>Baby, our love was strong yesterday\\n(Now you ...</td>\n",
       "      <td>3832684</td>\n",
       "      <td>Why Did You Leave Me Darling</td>\n",
       "      <td>1664</td>\n",
       "      <td>the temptations</td>\n",
       "      <td>1063</td>\n",
       "      <td>soul</td>\n",
       "      <td>Baby, our love was strong yesterday\\n(Now you ...</td>\n",
       "      <td>baby our love was strong yesterday now you wat...</td>\n",
       "      <td>[a, alone, and, are, away, baby, bear, begun, ...</td>\n",
       "      <td>77</td>\n",
       "      <td>babi our love was strong yesterday now you wat...</td>\n",
       "      <td>a alon and are away babi bear begun black can ...</td>\n",
       "    </tr>\n",
       "    <tr>\n",
       "      <th>8566</th>\n",
       "      <td>Your eyes tell a story, such a sad story\\nOf t...</td>\n",
       "      <td>3129527</td>\n",
       "      <td>Ain't No Justice</td>\n",
       "      <td>1664</td>\n",
       "      <td>the temptations</td>\n",
       "      <td>1098</td>\n",
       "      <td>soul</td>\n",
       "      <td>Your eyes tell a story, such a sad story\\nOf t...</td>\n",
       "      <td>your eyes tell a story such a sad story of the...</td>\n",
       "      <td>[a, about, again, aint, am, an, and, are, be, ...</td>\n",
       "      <td>114</td>\n",
       "      <td>your eye tell a stori such a sad stori of the ...</td>\n",
       "      <td>a about again aint am an and are be black blin...</td>\n",
       "    </tr>\n",
       "    <tr>\n",
       "      <th>8567</th>\n",
       "      <td>[Verse 1]\\nGuess it's true, I'm not good at a ...</td>\n",
       "      <td>3705373</td>\n",
       "      <td>Stay With Me</td>\n",
       "      <td>1664</td>\n",
       "      <td>the temptations</td>\n",
       "      <td>1167</td>\n",
       "      <td>soul</td>\n",
       "      <td>[Verse 1]\\nGuess it's true, I'm not good at a ...</td>\n",
       "      <td>guess it is true i am not good at a onenight s...</td>\n",
       "      <td>[a, aint, all, am, and, are, at, but, can, cau...</td>\n",
       "      <td>68</td>\n",
       "      <td>guess it is true i am not good at a onenight s...</td>\n",
       "      <td>a aint all am and are at but can caus clear co...</td>\n",
       "    </tr>\n",
       "    <tr>\n",
       "      <th>8568</th>\n",
       "      <td>Mother Nature\\nGo on and take your course\\nAnd...</td>\n",
       "      <td>3655226</td>\n",
       "      <td>Mother Nature [Stereo Promo Version]</td>\n",
       "      <td>1664</td>\n",
       "      <td>the temptations</td>\n",
       "      <td>826</td>\n",
       "      <td>soul</td>\n",
       "      <td>Mother Nature\\nGo on and take your course\\nAnd...</td>\n",
       "      <td>mother nature go on and take your course and a...</td>\n",
       "      <td>[5, 9, alive, all, am, and, are, as, atake, be...</td>\n",
       "      <td>81</td>\n",
       "      <td>mother natur go on and take your cours and ata...</td>\n",
       "      <td>5 9 aliv all am and are as atak be beg bring b...</td>\n",
       "    </tr>\n",
       "  </tbody>\n",
       "</table>\n",
       "<p>8569 rows × 13 columns</p>\n",
       "</div>"
      ],
      "text/plain": [
       "                                                   line  song_id  \\\n",
       "0     I poured your Johnnie Walker Blue right down t...  2429721   \n",
       "1     His mama thinks hes an angel\\nFollows the Sav...  2429715   \n",
       "2     I'm just trying to catch a buzz\\nMindin' my ow...  2429717   \n",
       "3     [Verse 1]\\nSun's always gonna set in the west\\...  3019461   \n",
       "4     Kill the engine, turn the headlights off\\nDriv...  2429718   \n",
       "...                                                 ...      ...   \n",
       "8564  Got myself an angel\\nStraight from the heavens...  1618057   \n",
       "8565  Baby, our love was strong yesterday\\n(Now you ...  3832684   \n",
       "8566  Your eyes tell a story, such a sad story\\nOf t...  3129527   \n",
       "8567  [Verse 1]\\nGuess it's true, I'm not good at a ...  3705373   \n",
       "8568  Mother Nature\\nGo on and take your course\\nAnd...  3655226   \n",
       "\n",
       "                                 song_name  artist_id      artist_name  \\\n",
       "0                               I Need You     643585      kalie shorr   \n",
       "1                      God Sees Everything     643585      kalie shorr   \n",
       "2                           Throwin' Shade     643585      kalie shorr   \n",
       "3                               Nothin New     643585      kalie shorr   \n",
       "4                         Young & Restless     643585      kalie shorr   \n",
       "...                                    ...        ...              ...   \n",
       "8564      I Got Heaven Right Here on Earth       1664  the temptations   \n",
       "8565          Why Did You Leave Me Darling       1664  the temptations   \n",
       "8566                      Ain't No Justice       1664  the temptations   \n",
       "8567                          Stay With Me       1664  the temptations   \n",
       "8568  Mother Nature [Stereo Promo Version]       1664  the temptations   \n",
       "\n",
       "      characters    genre                                      original_line  \\\n",
       "0           1881  country  I poured your Johnnie Walker Blue right down t...   \n",
       "1           1287  country  His mama thinks hes an angel\\nFollows the Sav...   \n",
       "2           1305  country  I'm just trying to catch a buzz\\nMindin' my ow...   \n",
       "3           1892  country  [Verse 1]\\nSun's always gonna set in the west\\...   \n",
       "4           2046  country  Kill the engine, turn the headlights off\\nDriv...   \n",
       "...          ...      ...                                                ...   \n",
       "8564        1788     soul  Got myself an angel\\nStraight from the heavens...   \n",
       "8565        1063     soul  Baby, our love was strong yesterday\\n(Now you ...   \n",
       "8566        1098     soul  Your eyes tell a story, such a sad story\\nOf t...   \n",
       "8567        1167     soul  [Verse 1]\\nGuess it's true, I'm not good at a ...   \n",
       "8568         826     soul  Mother Nature\\nGo on and take your course\\nAnd...   \n",
       "\n",
       "                                               line_pre  \\\n",
       "0     i poured your johnnie walker blue right down t...   \n",
       "1     his mama thinks he is an angel follows the sav...   \n",
       "2     i am just trying to catch a buzz minding my ow...   \n",
       "3     sun is always gonna set in the west lipsticks ...   \n",
       "4     kill the engine turn the headlights off drive ...   \n",
       "...                                                 ...   \n",
       "8564  got myself an angel straight from the heavens ...   \n",
       "8565  baby our love was strong yesterday now you wat...   \n",
       "8566  your eyes tell a story such a sad story of the...   \n",
       "8567  guess it is true i am not good at a onenight s...   \n",
       "8568  mother nature go on and take your course and a...   \n",
       "\n",
       "                                           unique_words  num_unique_words  \\\n",
       "0     [a, all, alright, always, am, and, are, away, ...               135   \n",
       "1     [a, aint, all, alone, along, an, and, angel, a...                89   \n",
       "2     [a, aint, all, am, and, are, around, away, bac...               105   \n",
       "3     [a, aint, always, am, and, are, as, back, bad,...               103   \n",
       "4     [a, aint, all, and, another, anything, are, ar...               146   \n",
       "...                                                 ...               ...   \n",
       "8564  [a, about, above, all, am, an, and, angel, as,...               111   \n",
       "8565  [a, alone, and, are, away, baby, bear, begun, ...                77   \n",
       "8566  [a, about, again, aint, am, an, and, are, be, ...               114   \n",
       "8567  [a, aint, all, am, and, are, at, but, can, cau...                68   \n",
       "8568  [5, 9, alive, all, am, and, are, as, atake, be...                81   \n",
       "\n",
       "                                             line_stems  \\\n",
       "0     i pour your johnni walker blue right down the ...   \n",
       "1     his mama think he is an angel follow the savio...   \n",
       "2     i am just tri to catch a buzz mind my own litt...   \n",
       "3     sun is alway gonna set in the west lipstick an...   \n",
       "4     kill the engin turn the headlight off drive aw...   \n",
       "...                                                 ...   \n",
       "8564  got myself an angel straight from the heaven a...   \n",
       "8565  babi our love was strong yesterday now you wat...   \n",
       "8566  your eye tell a stori such a sad stori of the ...   \n",
       "8567  guess it is true i am not good at a onenight s...   \n",
       "8568  mother natur go on and take your cours and ata...   \n",
       "\n",
       "                                           unique_stems  \n",
       "0     a all alright alway am and are away babi back ...  \n",
       "1     a aint all alon along an and angel as back bas...  \n",
       "2     a aint all am and are around away back be been...  \n",
       "3     a aint alway am and are as back bad begin be b...  \n",
       "4     a aint all and anoth anyth are arm around as a...  \n",
       "...                                                 ...  \n",
       "8564  a about abov all am an and angel as babi be be...  \n",
       "8565  a alon and are away babi bear begun black can ...  \n",
       "8566  a about again aint am an and are be black blin...  \n",
       "8567  a aint all am and are at but can caus clear co...  \n",
       "8568  5 9 aliv all am and are as atak be beg bring b...  \n",
       "\n",
       "[8569 rows x 13 columns]"
      ]
     },
     "execution_count": 33,
     "metadata": {},
     "output_type": "execute_result"
    }
   ],
   "source": [
    "# 列出每一首歌詞的唯一詞語的詞幹\n",
    "lyrics['unique_stems'] = lyrics.apply(lambda x: ' '.join([stemmer.stem(word) for word in x['unique_words']]), axis=1)\n",
    "lyrics"
   ]
  },
  {
   "cell_type": "code",
   "execution_count": 34,
   "metadata": {},
   "outputs": [],
   "source": [
    "lyrics.to_csv('example/dataset/lyrics_edit.csv')"
   ]
  },
  {
   "cell_type": "markdown",
   "metadata": {},
   "source": [
    "# Genre Classifier Models"
   ]
  },
  {
   "cell_type": "code",
   "execution_count": 91,
   "metadata": {
    "code_folding": [
     0
    ]
   },
   "outputs": [],
   "source": [
    "# 匯入模組\n",
    "import matplotlib.pyplot as plt\n",
    "import seaborn as sns\n",
    "from sklearn import ensemble, preprocessing, metrics, neighbors, neural_network\n",
    "from sklearn.multiclass import OneVsRestClassifier\n",
    "from sklearn.model_selection import cross_val_score, train_test_split, cross_validate\n",
    "from sklearn.feature_extraction.text import CountVectorizer, TfidfVectorizer \n",
    "from sklearn.linear_model import SGDClassifier\n",
    "from sklearn.metrics import classification_report, confusion_matrix, accuracy_score, roc_curve\n",
    "from sklearn.model_selection import GridSearchCV\n",
    "from sklearn.naive_bayes import MultinomialNB, GaussianNB\n",
    "from sklearn.pipeline import Pipeline\n",
    "from mlxtend.preprocessing import DenseTransformer\n",
    "from sklearn.tree import DecisionTreeClassifier\n",
    "from sklearn.ensemble import RandomForestClassifier\n",
    "from sklearn.ensemble import AdaBoostClassifier\n",
    "from sklearn.neighbors import KNeighborsClassifier\n",
    "from sklearn.datasets import make_classification\n",
    "from sklearn.neural_network import MLPClassifier\n",
    "from xgboost import XGBClassifier"
   ]
  },
  {
   "cell_type": "code",
   "execution_count": 36,
   "metadata": {
    "code_folding": []
   },
   "outputs": [
    {
     "data": {
      "text/plain": [
       "['country', 'metal/rock', 'pop', 'rap', 'soul']"
      ]
     },
     "execution_count": 36,
     "metadata": {},
     "output_type": "execute_result"
    }
   ],
   "source": [
    "# 把metal和rock合併在一起\n",
    "lyrics2 = lyrics\n",
    "lyrics2['genre'] = lyrics2.apply(lambda x: 'metal/rock' if x['genre'] in ['metal', 'rock'] else x['genre'], axis=1)\n",
    "genre_type = lyrics2.genre.unique() # 原始'country', 'metal', 'pop', 'rap', 'rock', 'soul'，調整後'country', 'metal/rock', 'pop', 'rap', 'soul'\n",
    "lst_genre_type = genre_type.tolist()\n",
    "lst_genre_type"
   ]
  },
  {
   "cell_type": "code",
   "execution_count": 41,
   "metadata": {},
   "outputs": [
    {
     "name": "stdout",
     "output_type": "stream",
     "text": [
      "8569\n",
      "['1', '1', '1', '1', '1', '1', '1', '1', '1', '1', '1', '1', '1', '1', '1', '1', '1', '1', '1', '1', '1', '1', '1', '1', '1', '1', '1', '1', '1', '1', '1', '1', '1', '1', '1', '1', '1', '1', '1', '1', '1', '1', '1', '1', '1', '1', '1', '1', '1', '1', '1', '1', '1', '1', '1', '1', '1', '1', '1', '1', '1', '1', '1', '1', '1', '1', '1', '1', '1', '1', '1', '1', '1', '1', '1', '1', '1', '1', '1', '1', '1', '1', '1', '1', '1', '1', '1', '1', '1', '1', '1', '1', '1', '1', '1', '1', '1', '1', '1', '1', '1', '1', '1', '1', '1', '1', '1', '1', '1', '1', '1', '1', '1', '1', '1', '1', '1', '1', '1', '1', '1', '1', '1', '1', '1', '1', '1', '1', '1', '1', '1', '1', '1', '1', '1', '1', '1', '1', '1', '1', '1', '1', '1', '1', '1', '1', '1', '1', '1', '1', '1', '1', '1', '1', '1', '1', '1', '1', '1', '1', '1', '1', '1', '1', '1', '1', '1', '1', '1', '1', '1', '1', '1', '1', '1', '1', '1', '1', '1', '1', '1', '1', '1', '1', '1', '1', '1', '1', '1', '1', '1', '1', '1', '1', '1', '1', '1', '1', '1', '1', '1', '1', '1', '1', '1', '1', '1', '1', '1', '1', '1', '1', '1', '1', '1', '1', '1', '1', '1', '1', '1', '1', '1', '1', '1', '1', '1', '1', '1', '1', '1', '1', '1', '1', '1', '1', '1', '1', '1', '1', '1', '1', '1', '1', '1', '1', '1', '1', '1', '1', '1', '1', '1', '1', '1', '1', '1', '1', '1', '1', '1', '1', '1', '1', '1', '1', '1', '1', '1', '1', '1', '1', '1', '1', '1', '1', '1', '1', '1', '1', '1', '1', '1', '1', '1', '1', '1', '1', '1', '1', '1', '1', '1', '1', '1', '1', '1', '1', '1', '1', '1', '1', '1', '1', '1', '1', '1', '1', '1', '1', '1', '1', '1', '1', '1', '1', '1', '1', '1', '1', '1', '1', '1', '1', '1', '1', '1', '1', '1', '1', '1', '1', '1', '1', '1', '1', '1', '1', '1', '1', '1', '1', '1', '1', '1', '1', '1', '1', '1', '1', '1', '1', '1', '1', '1', '1', '1', '1', '1', '1', '1', '1', '1', '1', '1', '1', '1', '1', '1', '1', '1', '1', '1', '1', '1', '1', '1', '1', '1', '1', '1', '1', '1', '1', '1', '1', '1', '1', '1', '1', '1', '1', '1', '1', '1', '1', '1', '1', '1', '1', '1', '1', '1', '1', '1', '1', '1', '1', '1', '1', '1', '1', '1', '1', '1', '1', '1', '1', '1', '1', '1', '1', '1', '1', '1', '1', '1', '1', '1', '1', '1', '1', '1', '1', '1', '1', '1', '1', '1', '1', '1', '1', '1', '1', '1', '1', '1', '1', '1', '1', '1', '1', '1', '1', '1', '1', '1', '1', '1', '1', '1', '1', '1', '1', '1', '1', '1', '1', '1', '1', '1', '1', '1', '1', '1', '1', '1', '1', '1', '1', '1', '1', '1', '1', '1', '1', '1', '1', '1', '1', '1', '1', '1', '1', '1', '1', '1', '1', '1', '1', '1', '1', '1', '1', '1', '1', '1', '1', '1', '1', '1', '1', '1', '1', '1', '1', '1', '1', '1', '1', '1', '1', '1', '1', '1', '1', '1', '1', '1', '1', '1', '1', '1', '1', '1', '1', '1', '1', '1', '1', '1', '1', '1', '1', '1', '1', '1', '1', '1', '1', '1', '1', '1', '1', '1', '1', '1', '1', '1', '1', '1', '1', '1', '1', '1', '1', '1', '1', '1', '1', '1', '1', '1', '1', '1', '1', '1', '1', '1', '1', '1', '1', '1', '1', '1', '1', '1', '1', '1', '1', '1', '1', '1', '1', '1', '1', '1', '1', '1', '1', '1', '1', '1', '1', '1', '1', '1', '1', '1', '1', '1', '1', '1', '1', '1', '1', '1', '1', '1', '1', '1', '1', '1', '1', '1', '1', '1', '1', '1', '1', '1', '1', '1', '1', '1', '1', '1', '1', '1', '1', '1', '1', '1', '1', '1', '1', '1', '1', '1', '1', '1', '1', '1', '1', '1', '1', '1', '1', '1', '1', '1', '1', '1', '1', '1', '1', '1', '1', '1', '1', '1', '1', '1', '1', '1', '1', '1', '1', '1', '1', '1', '1', '1', '1', '1', '1', '1', '1', '1', '1', '1', '1', '1', '1', '1', '1', '1', '1', '1', '1', '1', '1', '1', '1', '1', '1', '1', '1', '1', '1', '1', '1', '1', '1', '1', '1', '1', '1', '1', '1', '1', '1', '1', '1', '1', '1', '1', '1', '1', '1', '1', '1', '1', '1', '1', '1', '1', '1', '1', '1', '1', '1', '1', '1', '1', '1', '1', '1', '1', '1', '1', '1', '1', '1', '1', '1', '1', '1', '1', '1', '1', '1', '1', '1', '1', '1', '1', '1', '1', '1', '1', '1', '1', '1', '1', '1', '1', '1', '1', '1', '1', '1', '1', '1', '1', '1', '1', '1', '1', '1', '1', '1', '1', '1', '1', '1', '1', '1', '1', '1', '1', '1', '1', '1', '1', '1', '1', '1', '1', '1', '1', '1', '1', '1', '1', '1', '1', '1', '1', '1', '1', '1', '1', '1', '1', '1', '1', '1', '1', '1', '1', '1', '1', '1', '1', '1', '1', '1', '1', '1', '1', '1', '1', '1', '1', '1', '1', '1', '1', '1', '1', '1', '1', '1', '1', '1', '1', '1', '1', '1', '1', '1', '1', '1', '1', '1', '1', '1', '1', '1', '1', '1', '1', '1', '1', '1', '1', '1', '1', '1', '1', '1', '1', '1', '1', '1', '1', '1', '1', '1', '1', '1', '1', '1', '1', '1', '1', '1', '1', '1', '1', '1', '1', '1', '1', '1', '1', '1', '1', '1', '1', '1', '1', '1', '1', '1', '1', '1', '1', '1', '1', '1', '1', '1', '1', '1', '1', '1', '1', '1', '1', '1', '1', '1', '1', '1', '1', '1', '1', '1', '1', '1', '1', '1', '1', '1', '1', '1', '1', '1', '1', '1', '1', '1', '1', '1', '1', '1', '1', '1', '1', '1', '1', '1', '1', '1', '1', '1', '1', '1', '1', '1', '1', '1', '1', '1', '1', '1', '1', '1', '1', '1', '1', '1', '1', '1', '1', '1', '1', '1', '1', '1', '1', '1', '1', '1', '1', '1', '1', '1', '1', '1', '1', '1', '1', '1', '1', '1', '1', '1', '1', '1', '1', '1', '1', '1', '1', '1', '1', '1', '1', '1', '1', '1', '1', '1', '1', '1', '1', '1', '1', '1', '1', '1', '1', '1', '1', '1', '1', '1', '1', '1', '1', '1', '1', '1', '1', '1', '1', '1', '1', '1', '1', '1', '1', '1', '1', '1', '1', '1', '1', '1', '1', '1', '1', '1', '1', '1', '1', '1', '1', '1', '1', '1', '1', '1', '1', '1', '1', '1', '1', '1', '1', '1', '1', '1', '1', '1', '1', '1', '1', '1', '1', '1', '1', '1', '1', '1', '1', '1', '1', '1', '1', '1', '1', '1', '1', '1', '1', '1', '1', '1', '1', '1', '1', '1', '1', '1', '1', '1', '1', '1', '1', '1', '1', '1', '1', '1', '1', '1', '1', '1', '1', '1', '1', '1', '1', '1', '1', '1', '1', '1', '1', '1', '1', '1', '1', '1', '1', '1', '1', '1', '1', '1', '1', '1', '1', '1', '1', '1', '1', '1', '1', '1', '1', '1', '1', '1', '1', '1', '1', '1', '1', '1', '1', '1', '1', '1', '1', '1', '1', '1', '1', '1', '1', '1', '1', '1', '1', '1', '1', '1', '1', '1', '1', '1', '1', '1', '1', '1', '1', '1', '1', '1', '1', '1', '1', '1', '1', '1', '1', '1', '1', '1', '1', '1', '1', '1', '1', '1', '1', '1', '1', '1', '1', '1', '1', '1', '1', '1', '1', '1', '1', '1', '1', '1', '1', '1', '1', '1', '1', '1', '1', '1', '1', '1', '1', '1', '1', '1', '1', '1', '1', '1', '1', '1', '1', '1', '1', '1', '1', '1', '1', '1', '1', '1', '1', '1', '1', '1', '1', '1', '1', '1', '1', '1', '1', '1', '1', '1', '1', '1', '1', '1', '1', '1', '1', '1', '1', '1', '1', '1', '1', '1', '1', '1', '1', '1', '1', '1', '1', '1', '1', '1', '1', '1', '1', '1', '1', '1', '1', '1', '1', '1', '1', '1', '1', '1', '1', '1', '1', '1', '1', '1', '1', '1', '1', '1', '1', '1', '1', '1', '1', '1', '1', '1', '1', '1', '1', '1', '1', '1', '1', '1', '1', '1', '1', '1', '1', '1', '1', '1', '1', '1', '1', '1', '1', '1', '1', '1', '1', '1', '1', '1', '1', '1', '1', '1', '1', '1', '1', '1', '1', '1', '1', '1', '1', '1', '1', '1', '1', '1', '1', '1', '1', '1', '1', '1', '1', '1', '1', '1', '1', '1', '1', '1', '1', '1', '1', '1', '1', '1', '1', '1', '1', '1', '1', '1', '1', '1', '1', '1', '1', '1', '1', '1', '1', '1', '1', '1', '1', '1', '1', '1', '1', '1', '1', '1', '1', '1', '1', '1', '1', '1', '1', '1', '1', '1', '1', '1', '1', '1', '1', '1', '1', '1', '1', '1', '1', '1', '1', '1', '1', '1', '1', '1', '1', '1', '1', '1', '1', '1', '1', '1', '1', '1', '1', '1', '1', '1', '1', '1', '1', '1', '1', '1', '1', '1', '1', '1', '1', '1', '2', '2', '2', '2', '2', '2', '2', '2', '2', '2', '2', '2', '2', '2', '2', '2', '2', '2', '2', '2', '2', '2', '2', '2', '2', '2', '2', '2', '2', '2', '2', '2', '2', '2', '2', '2', '2', '2', '2', '2', '2', '2', '2', '2', '2', '2', '2', '2', '2', '2', '2', '2', '2', '2', '2', '2', '2', '2', '2', '2', '2', '2', '2', '2', '2', '2', '2', '2', '2', '2', '2', '2', '2', '2', '2', '2', '2', '2', '2', '2', '2', '2', '2', '2', '2', '2', '2', '2', '2', '2', '2', '2', '2', '2', '2', '2', '2', '2', '2', '2', '2', '2', '2', '2', '2', '2', '2', '2', '2', '2', '2', '2', '2', '2', '2', '2', '2', '2', '2', '2', '2', '2', '2', '2', '2', '2', '2', '2', '2', '2', '2', '2', '2', '2', '2', '2', '2', '2', '2', '2', '2', '2', '2', '2', '2', '2', '2', '2', '2', '2', '2', '2', '2', '2', '2', '2', '2', '2', '2', '2', '2', '2', '2', '2', '2', '2', '2', '2', '2', '2', '2', '2', '2', '2', '2', '2', '2', '2', '2', '2', '2', '2', '2', '2', '2', '2', '2', '2', '2', '2', '2', '2', '2', '2', '2', '2', '2', '2', '2', '2', '2', '2', '2', '2', '2', '2', '2', '2', '2', '2', '2', '2', '2', '2', '2', '2', '2', '2', '2', '2', '2', '2', '2', '2', '2', '2', '2', '2', '2', '2', '2', '2', '2', '2', '2', '2', '2', '2', '2', '2', '2', '2', '2', '2', '2', '2', '2', '2', '2', '2', '2', '2', '2', '2', '2', '2', '2', '2', '2', '2', '2', '2', '2', '2', '2', '2', '2', '2', '2', '2', '2', '2', '2', '2', '2', '2', '2', '2', '2', '2', '2', '2', '2', '2', '2', '2', '2', '2', '2', '2', '2', '2', '2', '2', '2', '2', '2', '2', '2', '2', '2', '2', '2', '2', '2', '2', '2', '2', '2', '2', '2', '2', '2', '2', '2', '2', '2', '2', '2', '2', '2', '2', '2', '2', '2', '2', '2', '2', '2', '2', '2', '2', '2', '2', '2', '2', '2', '2', '2', '2', '2', '2', '2', '2', '2', '2', '2', '2', '2', '2', '2', '2', '2', '2', '2', '2', '2', '2', '2', '2', '2', '2', '2', '2', '2', '2', '2', '2', '2', '2', '2', '2', '2', '2', '2', '2', '2', '2', '2', '2', '2', '2', '2', '2', '2', '2', '2', '2', '2', '2', '2', '2', '2', '2', '2', '2', '2', '2', '2', '2', '2', '2', '2', '2', '2', '2', '2', '2', '2', '2', '2', '2', '2', '2', '2', '2', '2', '2', '2', '2', '2', '2', '2', '2', '2', '2', '2', '2', '2', '2', '2', '2', '2', '2', '2', '2', '2', '2', '2', '2', '2', '2', '2', '2', '2', '2', '2', '2', '2', '2', '2', '2', '2', '2', '2', '2', '2', '2', '2', '2', '2', '2', '2', '2', '2', '2', '2', '2', '2', '2', '2', '2', '2', '2', '2', '2', '2', '2', '2', '2', '2', '2', '2', '2', '2', '2', '2', '2', '2', '2', '2', '2', '2', '2', '2', '2', '2', '2', '2', '2', '2', '2', '2', '2', '2', '2', '2', '2', '2', '2', '2', '2', '2', '2', '2', '2', '2', '2', '2', '2', '2', '2', '2', '2', '2', '2', '2', '2', '2', '2', '2', '2', '2', '2', '2', '2', '2', '2', '2', '2', '2', '2', '2', '2', '2', '2', '2', '2', '2', '2', '2', '2', '2', '2', '2', '2', '2', '2', '2', '2', '2', '2', '2', '2', '2', '2', '2', '2', '2', '2', '2', '2', '2', '2', '2', '2', '2', '2', '2', '2', '2', '2', '2', '2', '2', '2', '2', '2', '2', '2', '2', '2', '2', '2', '2', '2', '2', '2', '2', '2', '2', '2', '2', '2', '2', '2', '2', '2', '2', '2', '2', '2', '2', '2', '2', '2', '2', '2', '2', '2', '2', '2', '2', '2', '2', '2', '2', '2', '2', '2', '2', '2', '2', '2', '2', '2', '2', '2', '2', '2', '2', '2', '2', '2', '2', '2', '2', '2', '2', '2', '2', '2', '2', '2', '2', '2', '2', '2', '2', '2', '2', '2', '2', '2', '2', '2', '2', '2', '2', '2', '2', '2', '2', '2', '2', '2', '2', '2', '2', '2', '2', '2', '2', '2', '2', '2', '2', '2', '2', '2', '2', '2', '2', '2', '2', '2', '2', '2', '2', '2', '2', '2', '2', '2', '2', '2', '2', '2', '2', '2', '2', '2', '2', '2', '2', '2', '2', '2', '2', '2', '2', '2', '2', '2', '2', '2', '2', '2', '2', '2', '2', '2', '2', '2', '2', '2', '2', '2', '2', '2', '2', '2', '2', '2', '2', '2', '2', '2', '2', '2', '2', '2', '2', '2', '2', '2', '2', '2', '2', '2', '2', '2', '2', '2', '2', '2', '2', '2', '2', '2', '2', '2', '2', '2', '2', '2', '2', '2', '2', '2', '2', '2', '2', '2', '2', '2', '2', '2', '2', '2', '2', '2', '2', '2', '2', '2', '2', '2', '2', '2', '2', '2', '2', '2', '2', '2', '2', '2', '2', '2', '2', '2', '2', '2', '2', '2', '2', '2', '2', '2', '2', '2', '2', '2', '2', '2', '2', '2', '2', '2', '2', '2', '2', '2', '2', '2', '2', '2', '2', '2', '2', '2', '2', '2', '2', '2', '2', '2', '2', '2', '2', '2', '2', '2', '2', '2', '2', '2', '2', '2', '2', '2', '2', '2', '2', '2', '2', '2', '2', '2', '2', '2', '2', '2', '2', '2', '2', '2', '2', '2', '2', '2', '2', '2', '2', '2', '2', '2', '2', '2', '2', '2', '2', '2', '2', '2', '2', '2', '2', '2', '2', '2', '2', '2', '2', '2', '2', '2', '2', '2', '2', '2', '2', '2', '2', '2', '2', '2', '2', '2', '2', '2', '2', '2', '2', '2', '2', '2', '2', '2', '2', '2', '2', '2', '2', '2', '2', '2', '2', '2', '2', '2', '2', '2', '2', '2', '2', '2', '2', '2', '2', '2', '2', '2', '2', '2', '2', '2', '2', '2', '2', '2', '2', '2', '2', '2', '2', '2', '2', '2', '2', '2', '2', '2', '2', '2', '2', '2', '2', '2', '2', '2', '2', '2', '2', '2', '2', '2', '2', '2', '2', '2', '2', '2', '2', '2', '2', '2', '2', '2', '2', '2', '2', '2', '2', '2', '2', '2', '2', '2', '2', '2', '2', '2', '2', '2', '2', '2', '2', '2', '2', '2', '2', '2', '2', '2', '2', '2', '2', '2', '2', '2', '2', '2', '2', '2', '2', '2', '2', '2', '2', '2', '2', '2', '2', '2', '2', '2', '2', '2', '2', '2', '2', '2', '2', '2', '2', '2', '2', '2', '2', '2', '2', '2', '2', '2', '2', '2', '2', '2', '2', '2', '2', '2', '2', '2', '2', '2', '2', '2', '2', '2', '2', '2', '2', '2', '2', '2', '2', '2', '2', '2', '2', '2', '2', '2', '2', '2', '2', '2', '2', '2', '2', '2', '2', '2', '2', '2', '2', '2', '2', '2', '2', '2', '2', '2', '2', '2', '2', '2', '2', '2', '2', '2', '2', '2', '2', '2', '2', '2', '2', '2', '2', '2', '2', '2', '2', '2', '2', '2', '2', '2', '2', '2', '2', '2', '2', '2', '2', '2', '2', '2', '2', '2', '2', '2', '2', '2', '2', '2', '2', '2', '2', '2', '2', '2', '2', '2', '2', '2', '2', '2', '2', '2', '2', '2', '2', '2', '2', '2', '2', '2', '2', '2', '2', '2', '2', '2', '2', '2', '2', '2', '2', '2', '2', '2', '2', '2', '2', '2', '2', '2', '2', '2', '2', '2', '2', '2', '2', '2', '2', '2', '2', '2', '2', '2', '2', '2', '2', '2', '2', '2', '2', '2', '2', '2', '2', '2', '2', '2', '2', '2', '2', '2', '2', '2', '2', '2', '2', '2', '2', '2', '2', '2', '2', '2', '2', '2', '2', '2', '2', '2', '2', '2', '2', '2', '2', '2', '2', '2', '2', '2', '2', '2', '2', '2', '2', '2', '2', '2', '2', '2', '2', '2', '2', '2', '2', '2', '2', '2', '2', '2', '2', '2', '2', '2', '2', '2', '2', '2', '2', '2', '2', '2', '2', '2', '2', '2', '2', '2', '2', '2', '2', '2', '2', '2', '2', '2', '2', '2', '2', '2', '2', '2', '2', '2', '2', '2', '2', '2', '2', '2', '2', '2', '2', '2', '2', '2', '2', '2', '2', '2', '2', '2', '2', '2', '2', '2', '2', '2', '2', '2', '2', '2', '2', '2', '2', '2', '2', '2', '2', '2', '2', '2', '2', '2', '2', '2', '2', '2', '2', '2', '2', '2', '2', '2', '2', '2', '2', '2', '2', '2', '2', '2', '2', '2', '2', '2', '2', '2', '2', '2', '2', '2', '2', '2', '2', '2', '2', '2', '2', '2', '2', '2', '2', '2', '2', '2', '2', '2', '2', '2', '2', '2', '2', '2', '2', '2', '2', '2', '2', '2', '2', '2', '2', '2', '2', '2', '2', '2', '2', '2', '2', '2', '2', '2', '2', '2', '2', '2', '2', '2', '2', '2', '2', '2', '2', '2', '2', '2', '2', '2', '2', '2', '2', '2', '2', '2', '2', '2', '2', '2', '2', '2', '2', '2', '2', '2', '2', '2', '2', '2', '2', '2', '2', '2', '2', '2', '2', '2', '2', '2', '2', '2', '2', '2', '3', '3', '3', '3', '3', '3', '3', '3', '3', '3', '3', '3', '3', '3', '3', '3', '3', '3', '3', '3', '3', '3', '3', '3', '3', '3', '3', '3', '3', '3', '3', '3', '3', '3', '3', '3', '3', '3', '3', '3', '3', '3', '3', '3', '3', '3', '3', '3', '3', '3', '3', '3', '3', '3', '3', '3', '3', '3', '3', '3', '3', '3', '3', '3', '3', '3', '3', '3', '3', '3', '3', '3', '3', '3', '3', '3', '3', '3', '3', '3', '3', '3', '3', '3', '3', '3', '3', '3', '3', '3', '3', '3', '3', '3', '3', '3', '3', '3', '3', '3', '3', '3', '3', '3', '3', '3', '3', '3', '3', '3', '3', '3', '3', '3', '3', '3', '3', '3', '3', '3', '3', '3', '3', '3', '3', '3', '3', '3', '3', '3', '3', '3', '3', '3', '3', '3', '3', '3', '3', '3', '3', '3', '3', '3', '3', '3', '3', '3', '3', '3', '3', '3', '3', '3', '3', '3', '3', '3', '3', '3', '3', '3', '3', '3', '3', '3', '3', '3', '3', '3', '3', '3', '3', '3', '3', '3', '3', '3', '3', '3', '3', '3', '3', '3', '3', '3', '3', '3', '3', '3', '3', '3', '3', '3', '3', '3', '3', '3', '3', '3', '3', '3', '3', '3', '3', '3', '3', '3', '3', '3', '3', '3', '3', '3', '3', '3', '3', '3', '3', '3', '3', '3', '3', '3', '3', '3', '3', '3', '3', '3', '3', '3', '3', '3', '3', '3', '3', '3', '3', '3', '3', '3', '3', '3', '3', '3', '3', '3', '3', '3', '3', '3', '3', '3', '3', '3', '3', '3', '3', '3', '3', '3', '3', '3', '3', '3', '3', '3', '3', '3', '3', '3', '3', '3', '3', '3', '3', '3', '3', '3', '3', '3', '3', '3', '3', '3', '3', '3', '3', '3', '3', '3', '3', '3', '3', '3', '3', '3', '3', '3', '3', '3', '3', '3', '3', '3', '3', '3', '3', '3', '3', '3', '3', '3', '3', '3', '3', '3', '3', '3', '3', '3', '3', '3', '3', '3', '3', '3', '3', '3', '3', '3', '3', '3', '3', '3', '3', '3', '3', '3', '3', '3', '3', '3', '3', '3', '3', '3', '3', '3', '3', '3', '3', '3', '3', '3', '3', '3', '3', '3', '3', '3', '3', '3', '3', '3', '3', '3', '3', '3', '3', '3', '3', '3', '3', '3', '3', '3', '3', '3', '3', '3', '3', '3', '3', '3', '3', '3', '3', '3', '3', '3', '3', '3', '3', '3', '3', '3', '3', '3', '3', '3', '3', '3', '3', '3', '3', '3', '3', '3', '3', '3', '3', '3', '3', '3', '3', '3', '3', '3', '3', '3', '3', '3', '3', '3', '3', '3', '3', '3', '3', '3', '3', '3', '3', '3', '3', '3', '3', '3', '3', '3', '3', '3', '3', '3', '3', '3', '3', '3', '3', '3', '3', '3', '3', '3', '3', '3', '3', '3', '3', '3', '3', '3', '3', '3', '3', '3', '3', '3', '3', '3', '3', '3', '3', '3', '3', '3', '3', '3', '3', '3', '3', '3', '3', '3', '3', '3', '3', '3', '3', '3', '3', '3', '3', '3', '3', '3', '3', '3', '3', '3', '3', '3', '3', '3', '3', '3', '3', '3', '3', '3', '3', '3', '3', '3', '3', '3', '3', '3', '3', '3', '3', '3', '3', '3', '3', '3', '3', '3', '3', '3', '3', '3', '3', '3', '3', '3', '3', '3', '3', '3', '3', '3', '3', '3', '3', '3', '3', '3', '3', '3', '3', '3', '3', '3', '3', '3', '3', '3', '3', '3', '3', '3', '3', '3', '3', '3', '3', '3', '3', '3', '3', '3', '3', '3', '3', '3', '3', '3', '3', '3', '3', '3', '3', '3', '3', '3', '3', '3', '3', '3', '3', '3', '3', '3', '3', '3', '3', '3', '3', '3', '3', '3', '3', '3', '3', '3', '3', '3', '3', '3', '3', '3', '3', '3', '3', '3', '3', '3', '3', '3', '3', '3', '3', '3', '3', '3', '3', '3', '3', '3', '3', '3', '3', '3', '3', '3', '3', '3', '3', '3', '3', '3', '3', '3', '3', '3', '3', '3', '3', '3', '3', '3', '3', '3', '3', '3', '3', '3', '3', '3', '3', '3', '3', '3', '3', '3', '3', '3', '3', '3', '3', '3', '3', '3', '3', '3', '3', '3', '3', '3', '3', '3', '3', '3', '3', '3', '3', '3', '3', '3', '3', '3', '3', '3', '3', '3', '3', '3', '3', '3', '3', '3', '3', '3', '3', '3', '3', '3', '3', '3', '3', '3', '3', '3', '3', '3', '3', '3', '3', '3', '3', '3', '3', '3', '3', '3', '3', '3', '3', '3', '3', '3', '3', '3', '3', '3', '3', '3', '3', '3', '3', '3', '3', '3', '3', '3', '3', '3', '3', '3', '3', '3', '3', '3', '3', '3', '3', '3', '3', '3', '3', '3', '3', '3', '3', '3', '3', '3', '3', '3', '3', '3', '3', '3', '3', '3', '3', '3', '3', '3', '3', '3', '3', '3', '3', '3', '3', '3', '3', '3', '3', '3', '3', '3', '3', '3', '3', '3', '3', '3', '3', '3', '3', '3', '3', '3', '3', '3', '3', '3', '3', '3', '3', '3', '3', '3', '3', '3', '3', '3', '3', '3', '3', '3', '3', '3', '3', '3', '3', '3', '3', '3', '3', '3', '3', '3', '3', '3', '3', '3', '3', '3', '3', '3', '3', '3', '3', '3', '3', '3', '3', '3', '3', '3', '3', '3', '3', '3', '3', '3', '3', '3', '3', '3', '3', '3', '3', '3', '3', '3', '3', '3', '3', '3', '3', '3', '3', '3', '3', '3', '3', '3', '3', '3', '3', '3', '3', '3', '3', '3', '3', '3', '3', '3', '3', '3', '3', '3', '3', '3', '3', '3', '3', '3', '3', '3', '3', '3', '3', '3', '3', '3', '3', '3', '3', '3', '3', '3', '3', '3', '3', '3', '3', '3', '3', '3', '3', '3', '3', '3', '3', '3', '3', '3', '3', '3', '3', '3', '3', '3', '3', '3', '3', '3', '3', '3', '3', '3', '3', '3', '3', '3', '3', '3', '3', '3', '3', '3', '3', '3', '3', '3', '3', '3', '3', '3', '3', '3', '3', '3', '3', '3', '3', '3', '3', '3', '3', '3', '3', '3', '3', '3', '3', '3', '3', '3', '3', '3', '3', '3', '3', '3', '3', '3', '3', '3', '3', '3', '3', '3', '3', '3', '3', '3', '3', '3', '3', '3', '3', '3', '3', '3', '3', '3', '3', '3', '3', '3', '3', '3', '3', '3', '3', '3', '3', '3', '3', '3', '3', '3', '3', '3', '3', '3', '3', '3', '3', '3', '3', '3', '3', '3', '3', '3', '3', '3', '3', '3', '3', '3', '3', '3', '3', '3', '3', '3', '3', '3', '3', '3', '3', '3', '3', '3', '3', '3', '3', '3', '3', '3', '3', '3', '3', '3', '3', '3', '3', '3', '3', '3', '3', '3', '3', '3', '3', '3', '3', '3', '3', '3', '3', '3', '3', '3', '3', '3', '3', '3', '3', '3', '3', '3', '3', '3', '3', '3', '3', '3', '3', '3', '3', '3', '3', '3', '3', '3', '3', '3', '3', '3', '3', '3', '3', '3', '3', '3', '3', '3', '3', '3', '3', '3', '3', '3', '3', '3', '3', '3', '3', '3', '3', '3', '3', '3', '3', '3', '3', '3', '3', '3', '3', '3', '3', '4', '4', '4', '4', '4', '4', '4', '4', '4', '4', '4', '4', '4', '4', '4', '4', '4', '4', '4', '4', '4', '4', '4', '4', '4', '4', '4', '4', '4', '4', '4', '4', '4', '4', '4', '4', '4', '4', '4', '4', '4', '4', '4', '4', '4', '4', '4', '4', '4', '4', '4', '4', '4', '4', '4', '4', '4', '4', '4', '4', '4', '4', '4', '4', '4', '4', '4', '4', '4', '4', '4', '4', '4', '4', '4', '4', '4', '4', '4', '4', '4', '4', '4', '4', '4', '4', '4', '4', '4', '4', '4', '4', '4', '4', '4', '4', '4', '4', '4', '4', '4', '4', '4', '4', '4', '4', '4', '4', '4', '4', '4', '4', '4', '4', '4', '4', '4', '4', '4', '4', '4', '4', '4', '4', '4', '4', '4', '4', '4', '4', '4', '4', '4', '4', '4', '4', '4', '4', '4', '4', '4', '4', '4', '4', '4', '4', '4', '4', '4', '4', '4', '4', '4', '4', '4', '4', '4', '4', '4', '4', '4', '4', '4', '4', '4', '4', '4', '4', '4', '4', '4', '4', '4', '4', '4', '4', '4', '4', '4', '4', '4', '4', '4', '4', '4', '4', '4', '4', '4', '4', '4', '4', '4', '4', '4', '4', '4', '4', '4', '4', '4', '4', '4', '4', '4', '4', '4', '4', '4', '4', '4', '4', '4', '4', '4', '4', '4', '4', '4', '4', '4', '4', '4', '4', '4', '4', '4', '4', '4', '4', '4', '4', '4', '4', '4', '4', '4', '4', '4', '4', '4', '4', '4', '4', '4', '4', '4', '4', '4', '4', '4', '4', '4', '4', '4', '4', '4', '4', '4', '4', '4', '4', '4', '4', '4', '4', '4', '4', '4', '4', '4', '4', '4', '4', '4', '4', '4', '4', '4', '4', '4', '4', '4', '4', '4', '4', '4', '4', '4', '4', '4', '4', '4', '4', '4', '4', '4', '4', '4', '4', '4', '4', '4', '4', '4', '4', '4', '4', '4', '4', '4', '4', '4', '4', '4', '4', '4', '4', '4', '4', '4', '4', '4', '4', '4', '4', '4', '4', '4', '4', '4', '4', '4', '4', '4', '4', '4', '4', '4', '4', '4', '4', '4', '4', '4', '4', '4', '4', '4', '4', '4', '4', '4', '4', '4', '4', '4', '4', '4', '4', '4', '4', '4', '4', '4', '4', '4', '4', '4', '4', '4', '4', '4', '4', '4', '4', '4', '4', '4', '4', '4', '4', '4', '4', '4', '4', '4', '4', '4', '4', '4', '4', '4', '4', '4', '4', '4', '4', '4', '4', '4', '4', '4', '4', '4', '4', '4', '4', '4', '4', '4', '4', '4', '4', '4', '4', '4', '4', '4', '4', '4', '4', '4', '4', '4', '4', '4', '4', '4', '4', '4', '4', '4', '4', '4', '4', '4', '4', '4', '4', '4', '4', '4', '4', '4', '4', '4', '4', '4', '4', '4', '4', '4', '4', '4', '4', '4', '4', '4', '4', '4', '4', '4', '4', '4', '4', '4', '4', '4', '4', '4', '4', '4', '4', '4', '4', '4', '4', '4', '4', '4', '4', '4', '4', '4', '4', '4', '4', '4', '4', '4', '4', '4', '4', '4', '4', '4', '4', '4', '4', '4', '4', '4', '4', '4', '4', '4', '4', '4', '4', '4', '4', '4', '4', '4', '4', '4', '4', '4', '4', '4', '4', '4', '4', '4', '4', '4', '4', '4', '4', '4', '4', '4', '4', '4', '4', '4', '4', '4', '4', '4', '4', '4', '4', '4', '4', '4', '4', '4', '4', '4', '4', '4', '4', '4', '4', '4', '4', '4', '4', '4', '4', '4', '4', '4', '4', '4', '4', '4', '4', '4', '4', '4', '4', '4', '4', '4', '4', '4', '4', '4', '4', '4', '4', '4', '4', '4', '4', '4', '4', '4', '4', '4', '4', '4', '4', '4', '4', '4', '4', '4', '4', '4', '4', '4', '4', '4', '4', '4', '4', '4', '4', '4', '4', '4', '4', '4', '4', '4', '4', '4', '4', '4', '4', '4', '4', '4', '4', '4', '4', '4', '4', '4', '4', '4', '4', '4', '4', '4', '4', '4', '4', '4', '4', '4', '4', '4', '4', '4', '4', '4', '4', '4', '4', '4', '4', '4', '4', '4', '4', '4', '4', '4', '4', '4', '4', '4', '4', '4', '4', '4', '4', '4', '4', '4', '4', '4', '4', '4', '4', '4', '4', '4', '4', '4', '4', '4', '4', '4', '4', '4', '4', '4', '4', '4', '4', '4', '4', '4', '4', '4', '4', '4', '4', '4', '4', '4', '4', '4', '4', '4', '4', '4', '4', '4', '4', '4', '4', '4', '4', '4', '4', '4', '4', '4', '4', '4', '4', '4', '4', '4', '4', '4', '4', '4', '4', '4', '4', '4', '4', '4', '4', '4', '4', '4', '4', '4', '4', '4', '4', '4', '4', '4', '4', '4', '4', '4', '4', '4', '4', '4', '4', '4', '4', '4', '4', '4', '4', '4', '4', '4', '4', '4', '4', '4', '4', '4', '4', '4', '4', '4', '4', '4', '4', '4', '4', '4', '4', '4', '4', '4', '4', '4', '4', '4', '4', '4', '4', '4', '4', '4', '4', '4', '4', '4', '4', '4', '4', '4', '4', '4', '4', '4', '4', '4', '4', '4', '4', '4', '4', '4', '4', '4', '4', '4', '4', '4', '4', '4', '4', '4', '4', '4', '4', '4', '4', '4', '4', '4', '4', '4', '4', '4', '4', '4', '4', '4', '4', '4', '4', '4', '4', '4', '4', '4', '4', '4', '4', '4', '4', '4', '4', '4', '4', '4', '4', '4', '4', '4', '4', '4', '4', '4', '4', '4', '4', '4', '4', '4', '4', '4', '4', '4', '4', '4', '4', '4', '4', '4', '4', '4', '4', '4', '4', '4', '4', '4', '4', '4', '4', '4', '4', '4', '4', '4', '4', '4', '4', '4', '4', '4', '4', '4', '4', '4', '4', '4', '4', '4', '4', '4', '4', '4', '4', '4', '4', '4', '4', '4', '4', '4', '4', '4', '4', '4', '4', '4', '4', '4', '4', '4', '4', '4', '4', '4', '4', '4', '4', '4', '4', '4', '4', '4', '4', '4', '4', '4', '4', '4', '4', '4', '4', '4', '4', '4', '4', '4', '4', '4', '4', '4', '4', '4', '4', '4', '4', '4', '4', '4', '4', '4', '4', '4', '4', '4', '4', '4', '4', '4', '4', '4', '4', '4', '4', '4', '4', '4', '4', '4', '4', '4', '4', '4', '4', '4', '4', '4', '4', '4', '4', '4', '4', '4', '4', '4', '4', '4', '4', '4', '4', '4', '4', '4', '4', '4', '4', '4', '4', '4', '4', '4', '4', '4', '4', '4', '4', '4', '4', '4', '4', '4', '4', '4', '4', '4', '4', '4', '4', '4', '4', '4', '4', '4', '4', '4', '4', '4', '4', '4', '4', '4', '4', '4', '4', '4', '4', '4', '4', '4', '4', '4', '4', '4', '4', '4', '4', '4', '4', '4', '4', '4', '4', '4', '4', '4', '4', '4', '4', '4', '4', '4', '4', '4', '4', '4', '4', '4', '4', '4', '4', '4', '4', '4', '4', '4', '4', '4', '4', '4', '4', '4', '4', '4', '4', '4', '4', '4', '4', '4', '4', '4', '4', '4', '4', '4', '4', '4', '4', '4', '4', '4', '4', '4', '4', '4', '4', '4', '4', '4', '4', '4', '4', '4', '4', '4', '4', '4', '4', '4', '4', '4', '4', '4', '4', '4', '4', '4', '4', '4', '4', '4', '4', '4', '4', '4', '4', '4', '4', '4', '4', '4', '4', '4', '4', '4', '4', '4', '4', '4', '4', '4', '4', '4', '4', '4', '4', '4', '4', '4', '4', '4', '4', '4', '4', '4', '4', '4', '4', '4', '4', '4', '4', '4', '4', '4', '4', '4', '4', '4', '4', '4', '4', '4', '4', '4', '4', '4', '4', '4', '4', '4', '4', '4', '4', '4', '4', '4', '4', '4', '4', '4', '4', '4', '4', '4', '4', '4', '4', '4', '4', '4', '4', '4', '4', '4', '4', '4', '4', '4', '4', '4', '4', '4', '4', '4', '4', '4', '4', '4', '4', '4', '4', '4', '4', '4', '4', '4', '4', '4', '4', '4', '4', '4', '4', '4', '4', '4', '4', '4', '4', '4', '4', '4', '4', '4', '4', '4', '4', '4', '4', '4', '4', '4', '4', '4', '4', '4', '4', '4', '4', '4', '4', '4', '4', '4', '4', '4', '4', '4', '4', '4', '4', '4', '4', '4', '4', '4', '4', '4', '4', '4', '4', '4', '4', '4', '4', '4', '4', '4', '4', '4', '4', '4', '4', '4', '4', '4', '4', '4', '4', '4', '4', '4', '4', '4', '4', '4', '4', '4', '4', '4', '4', '4', '4', '4', '4', '4', '4', '4', '4', '4', '4', '4', '4', '4', '4', '4', '4', '4', '4', '4', '4', '4', '4', '4', '4', '4', '4', '4', '4', '4', '4', '4', '4', '4', '4', '4', '4', '4', '4', '4', '4', '4', '4', '4', '4', '4', '4', '4', '4', '4', '4', '4', '4', '4', '4', '4', '4', '4', '4', '4', '4', '4', '4', '4', '4', '4', '4', '4', '4', '4', '4', '4', '4', '4', '4', '4', '4', '4', '4', '4', '4', '4', '4', '4', '4', '4', '4', '4', '4', '4', '4', '4', '4', '4', '4', '4', '4', '4', '4', '4', '4', '4', '4', '4', '4', '4', '4', '4', '4', '4', '4', '4', '4', '4', '4', '4', '4', '4', '4', '4', '4', '4', '4', '4', '4', '4', '4', '4', '4', '4', '4', '4', '4', '4', '4', '4', '4', '4', '4', '4', '4', '4', '4', '4', '4', '4', '4', '4', '4', '4', '4', '4', '4', '4', '4', '4', '4', '4', '4', '4', '4', '4', '4', '2', '2', '2', '2', '2', '2', '2', '2', '2', '2', '2', '2', '2', '2', '2', '2', '2', '2', '2', '2', '2', '2', '2', '2', '2', '2', '2', '2', '2', '2', '2', '2', '2', '2', '2', '2', '2', '2', '2', '2', '2', '2', '2', '2', '2', '2', '2', '2', '2', '2', '2', '2', '2', '2', '2', '2', '2', '2', '2', '2', '2', '2', '2', '2', '2', '2', '2', '2', '2', '2', '2', '2', '2', '2', '2', '2', '2', '2', '2', '2', '2', '2', '2', '2', '2', '2', '2', '2', '2', '2', '2', '2', '2', '2', '2', '2', '2', '2', '2', '2', '2', '2', '2', '2', '2', '2', '2', '2', '2', '2', '2', '2', '2', '2', '2', '2', '2', '2', '2', '2', '2', '2', '2', '2', '2', '2', '2', '2', '2', '2', '2', '2', '2', '2', '2', '2', '2', '2', '2', '2', '2', '2', '2', '2', '2', '2', '2', '2', '2', '2', '2', '2', '2', '2', '2', '2', '2', '2', '2', '2', '2', '2', '2', '2', '2', '2', '2', '2', '2', '2', '2', '2', '2', '2', '2', '2', '2', '2', '2', '2', '2', '2', '2', '2', '2', '2', '2', '2', '2', '2', '2', '2', '2', '2', '2', '2', '2', '2', '2', '2', '2', '2', '2', '2', '2', '2', '2', '2', '2', '2', '2', '2', '2', '2', '2', '2', '2', '2', '2', '2', '2', '2', '2', '2', '2', '2', '2', '2', '2', '2', '2', '2', '2', '2', '2', '2', '2', '2', '2', '2', '2', '2', '2', '2', '2', '2', '2', '2', '2', '2', '2', '2', '2', '2', '2', '2', '2', '2', '2', '2', '2', '2', '2', '2', '2', '2', '2', '2', '2', '2', '2', '2', '2', '2', '2', '2', '2', '2', '2', '2', '2', '2', '2', '2', '2', '2', '2', '2', '2', '2', '2', '2', '2', '2', '2', '2', '2', '2', '2', '2', '2', '2', '2', '2', '2', '2', '2', '2', '2', '2', '2', '2', '2', '2', '2', '2', '2', '2', '2', '2', '2', '2', '2', '2', '2', '2', '2', '2', '2', '2', '2', '2', '2', '2', '2', '2', '2', '2', '2', '2', '2', '2', '2', '2', '2', '2', '2', '2', '2', '2', '2', '2', '2', '2', '2', '2', '2', '2', '2', '2', '2', '2', '2', '2', '2', '2', '2', '2', '2', '2', '2', '2', '2', '2', '2', '2', '2', '2', '2', '2', '2', '2', '2', '2', '2', '2', '2', '2', '2', '2', '2', '2', '2', '2', '2', '2', '2', '2', '2', '2', '2', '2', '2', '2', '2', '2', '2', '2', '2', '2', '2', '2', '2', '2', '2', '2', '2', '2', '2', '2', '2', '2', '2', '2', '2', '2', '2', '2', '2', '2', '2', '2', '2', '2', '2', '2', '2', '2', '2', '2', '2', '2', '2', '2', '2', '2', '2', '2', '2', '2', '2', '2', '2', '2', '2', '2', '2', '2', '2', '2', '2', '2', '2', '2', '2', '2', '2', '2', '2', '2', '2', '2', '2', '2', '2', '2', '2', '2', '2', '2', '2', '2', '2', '2', '2', '2', '2', '2', '2', '2', '2', '2', '2', '2', '2', '2', '2', '2', '2', '2', '2', '2', '2', '2', '2', '2', '2', '2', '2', '2', '2', '2', '2', '2', '2', '2', '2', '2', '2', '2', '2', '2', '2', '2', '2', '2', '2', '2', '2', '2', '2', '2', '2', '2', '2', '2', '2', '2', '2', '2', '2', '2', '2', '2', '2', '2', '2', '2', '2', '2', '2', '2', '2', '2', '2', '2', '2', '2', '2', '2', '2', '2', '2', '2', '2', '2', '2', '2', '2', '2', '2', '2', '2', '2', '2', '2', '2', '2', '2', '2', '2', '2', '2', '2', '2', '2', '2', '2', '2', '2', '2', '2', '2', '2', '2', '2', '2', '2', '2', '2', '2', '2', '2', '2', '2', '2', '2', '2', '2', '2', '2', '2', '2', '2', '2', '2', '2', '2', '2', '2', '2', '2', '2', '2', '2', '2', '2', '2', '2', '2', '2', '2', '2', '2', '2', '2', '2', '2', '2', '2', '2', '2', '2', '2', '2', '2', '2', '2', '2', '2', '2', '2', '2', '2', '2', '2', '2', '2', '2', '2', '2', '2', '2', '2', '2', '2', '2', '2', '2', '2', '2', '2', '2', '2', '2', '2', '2', '2', '2', '2', '2', '2', '2', '2', '2', '2', '2', '2', '2', '2', '2', '2', '2', '2', '2', '2', '2', '2', '2', '2', '2', '2', '2', '2', '2', '2', '2', '2', '2', '2', '2', '2', '2', '2', '2', '2', '2', '2', '2', '2', '2', '2', '2', '2', '2', '2', '2', '2', '2', '2', '2', '2', '2', '2', '2', '2', '2', '2', '2', '2', '2', '2', '2', '2', '2', '2', '2', '2', '2', '2', '2', '2', '2', '2', '2', '2', '2', '2', '2', '2', '2', '2', '2', '2', '2', '2', '2', '2', '2', '2', '2', '2', '2', '2', '2', '2', '2', '2', '2', '2', '2', '2', '2', '2', '2', '2', '2', '2', '2', '2', '2', '2', '2', '2', '2', '2', '2', '2', '2', '2', '2', '2', '2', '2', '2', '2', '2', '2', '2', '2', '2', '2', '2', '2', '2', '2', '2', '2', '2', '2', '2', '2', '2', '2', '2', '2', '2', '2', '2', '2', '2', '2', '2', '2', '2', '2', '2', '2', '2', '2', '2', '2', '2', '2', '2', '2', '2', '2', '2', '2', '2', '2', '2', '2', '2', '2', '2', '2', '2', '2', '2', '2', '2', '2', '2', '2', '2', '2', '2', '2', '2', '2', '2', '2', '2', '2', '2', '2', '2', '2', '2', '2', '2', '2', '2', '2', '2', '2', '2', '2', '2', '2', '2', '2', '2', '2', '2', '2', '2', '2', '2', '2', '2', '2', '2', '2', '2', '2', '2', '2', '2', '2', '2', '2', '2', '2', '2', '2', '2', '2', '2', '2', '2', '2', '2', '2', '2', '2', '2', '2', '2', '2', '2', '2', '2', '2', '2', '2', '2', '2', '2', '2', '2', '2', '2', '2', '2', '2', '2', '2', '2', '2', '2', '2', '2', '2', '2', '2', '2', '2', '2', '2', '2', '2', '2', '2', '2', '2', '2', '2', '2', '2', '2', '2', '2', '2', '2', '2', '2', '2', '2', '2', '2', '2', '2', '2', '2', '2', '2', '2', '2', '2', '2', '2', '2', '2', '2', '2', '2', '2', '2', '2', '2', '2', '2', '2', '2', '2', '2', '2', '2', '2', '2', '2', '2', '2', '2', '2', '2', '2', '2', '2', '2', '2', '2', '2', '2', '2', '2', '2', '2', '2', '2', '2', '2', '2', '2', '2', '2', '2', '2', '2', '2', '2', '2', '2', '2', '2', '2', '2', '2', '2', '2', '2', '2', '2', '2', '2', '2', '2', '2', '2', '2', '2', '2', '2', '2', '2', '2', '2', '2', '2', '2', '2', '2', '2', '2', '2', '2', '2', '2', '2', '2', '2', '2', '2', '2', '2', '2', '2', '2', '2', '2', '2', '2', '2', '2', '2', '2', '2', '2', '2', '2', '2', '2', '2', '2', '2', '2', '2', '2', '2', '2', '2', '2', '2', '2', '2', '2', '2', '2', '2', '2', '2', '2', '2', '2', '2', '2', '2', '2', '2', '2', '2', '2', '2', '2', '2', '2', '2', '2', '2', '2', '2', '2', '2', '2', '2', '2', '2', '2', '2', '2', '2', '2', '2', '2', '2', '2', '2', '2', '2', '2', '2', '2', '2', '2', '2', '2', '2', '2', '2', '2', '2', '2', '2', '2', '2', '2', '2', '2', '2', '2', '2', '2', '2', '2', '2', '2', '2', '2', '2', '2', '2', '2', '2', '2', '2', '2', '2', '2', '2', '2', '2', '2', '2', '2', '2', '2', '2', '2', '2', '2', '2', '2', '2', '2', '2', '2', '2', '2', '2', '2', '2', '2', '2', '2', '2', '2', '2', '2', '2', '2', '2', '2', '2', '2', '2', '2', '2', '2', '2', '2', '2', '2', '2', '2', '2', '2', '2', '2', '2', '2', '2', '2', '2', '2', '2', '2', '2', '2', '2', '2', '2', '2', '2', '2', '2', '2', '2', '2', '2', '2', '2', '2', '2', '2', '2', '2', '2', '2', '2', '2', '2', '2', '2', '2', '2', '2', '2', '2', '2', '2', '2', '2', '2', '2', '2', '2', '2', '2', '2', '2', '2', '2', '2', '2', '2', '2', '2', '2', '2', '2', '2', '2', '2', '2', '2', '2', '2', '2', '2', '2', '2', '2', '2', '2', '2', '2', '2', '2', '2', '2', '2', '2', '2', '2', '2', '2', '2', '2', '2', '2', '2', '2', '2', '2', '2', '2', '2', '2', '2', '2', '2', '2', '2', '2', '2', '2', '2', '2', '2', '2', '2', '2', '2', '2', '2', '2', '2', '2', '2', '2', '2', '2', '2', '2', '2', '2', '2', '2', '2', '2', '2', '2', '2', '2', '2', '2', '2', '2', '2', '2', '2', '2', '2', '2', '2', '2', '2', '2', '2', '2', '2', '2', '2', '2', '2', '2', '2', '2', '2', '2', '2', '2', '2', '2', '2', '2', '2', '2', '2', '2', '2', '2', '2', '2', '2', '2', '2', '2', '2', '2', '2', '2', '2', '2', '2', '2', '2', '2', '2', '2', '2', '2', '2', '2', '2', '2', '2', '2', '2', '2', '2', '2', '2', '2', '2', '2', '2', '2', '2', '2', '2', '2', '2', '2', '2', '2', '2', '2', '2', '2', '2', '2', '2', '2', '2', '2', '2', '2', '2', '2', '2', '2', '2', '2', '2', '2', '2', '2', '2', '2', '2', '2', '2', '5', '5', '5', '5', '5', '5', '5', '5', '5', '5', '5', '5', '5', '5', '5', '5', '5', '5', '5', '5', '5', '5', '5', '5', '5', '5', '5', '5', '5', '5', '5', '5', '5', '5', '5', '5', '5', '5', '5', '5', '5', '5', '5', '5', '5', '5', '5', '5', '5', '5', '5', '5', '5', '5', '5', '5', '5', '5', '5', '5', '5', '5', '5', '5', '5', '5', '5', '5', '5', '5', '5', '5', '5', '5', '5', '5', '5', '5', '5', '5', '5', '5', '5', '5', '5', '5', '5', '5', '5', '5', '5', '5', '5', '5', '5', '5', '5', '5', '5', '5', '5', '5', '5', '5', '5', '5', '5', '5', '5', '5', '5', '5', '5', '5', '5', '5', '5', '5', '5', '5', '5', '5', '5', '5', '5', '5', '5', '5', '5', '5', '5', '5', '5', '5', '5', '5', '5', '5', '5', '5', '5', '5', '5', '5', '5', '5', '5', '5', '5', '5', '5', '5', '5', '5', '5', '5', '5', '5', '5', '5', '5', '5', '5', '5', '5', '5', '5', '5', '5', '5', '5', '5', '5', '5', '5', '5', '5', '5', '5', '5', '5', '5', '5', '5', '5', '5', '5', '5', '5', '5', '5', '5', '5', '5', '5', '5', '5', '5', '5', '5', '5', '5', '5', '5', '5', '5', '5', '5', '5', '5', '5', '5', '5', '5', '5', '5', '5', '5', '5', '5', '5', '5', '5', '5', '5', '5', '5', '5', '5', '5', '5', '5', '5', '5', '5', '5', '5', '5', '5', '5', '5', '5', '5', '5', '5', '5', '5', '5', '5', '5', '5', '5', '5', '5', '5', '5', '5', '5', '5', '5', '5', '5', '5', '5', '5', '5', '5', '5', '5', '5', '5', '5', '5', '5', '5', '5', '5', '5', '5', '5', '5', '5', '5', '5', '5', '5', '5', '5', '5', '5', '5', '5', '5', '5', '5', '5', '5', '5', '5', '5', '5', '5', '5', '5', '5', '5', '5', '5', '5', '5', '5', '5', '5', '5', '5', '5', '5', '5', '5', '5', '5', '5', '5', '5', '5', '5', '5', '5', '5', '5', '5', '5', '5', '5', '5', '5', '5', '5', '5', '5', '5', '5', '5', '5', '5', '5', '5', '5', '5', '5', '5', '5', '5', '5', '5', '5', '5', '5', '5', '5', '5', '5', '5', '5', '5', '5', '5', '5', '5', '5', '5', '5', '5', '5', '5', '5', '5', '5', '5', '5', '5', '5', '5', '5', '5', '5', '5', '5', '5', '5', '5', '5', '5', '5', '5', '5', '5', '5', '5', '5', '5', '5', '5', '5', '5', '5', '5', '5', '5', '5', '5', '5', '5', '5', '5', '5', '5', '5', '5', '5', '5', '5', '5', '5', '5', '5', '5', '5', '5', '5', '5', '5', '5', '5', '5', '5', '5', '5', '5', '5', '5', '5', '5', '5', '5', '5', '5', '5', '5', '5', '5', '5', '5', '5', '5', '5', '5', '5', '5', '5', '5', '5', '5', '5', '5', '5', '5', '5', '5', '5', '5', '5', '5', '5', '5', '5', '5', '5', '5', '5', '5', '5', '5', '5', '5', '5', '5', '5', '5', '5', '5', '5', '5', '5', '5', '5', '5', '5', '5', '5', '5', '5', '5', '5', '5', '5', '5', '5', '5', '5', '5', '5', '5', '5', '5', '5', '5', '5', '5', '5', '5', '5', '5', '5', '5', '5', '5', '5', '5', '5', '5', '5', '5', '5', '5', '5', '5', '5', '5', '5', '5', '5', '5', '5', '5', '5', '5', '5', '5', '5', '5', '5', '5', '5', '5', '5', '5', '5', '5', '5', '5', '5', '5', '5', '5', '5', '5', '5', '5', '5', '5', '5', '5', '5', '5', '5', '5', '5', '5', '5', '5', '5', '5', '5', '5', '5', '5', '5', '5', '5', '5', '5', '5', '5', '5', '5', '5', '5', '5', '5', '5', '5', '5', '5', '5', '5', '5', '5', '5', '5', '5', '5', '5', '5', '5', '5', '5', '5', '5', '5', '5', '5', '5', '5', '5', '5', '5', '5', '5', '5', '5', '5', '5', '5', '5', '5', '5', '5', '5', '5', '5', '5', '5', '5', '5', '5', '5', '5', '5', '5', '5', '5', '5', '5', '5', '5', '5', '5', '5', '5', '5', '5', '5', '5', '5', '5', '5', '5', '5', '5', '5', '5', '5', '5', '5', '5', '5', '5', '5', '5', '5', '5', '5', '5', '5', '5', '5', '5', '5', '5', '5', '5', '5', '5', '5', '5', '5', '5', '5', '5', '5', '5', '5', '5', '5', '5', '5', '5', '5', '5', '5', '5', '5', '5', '5', '5', '5', '5', '5', '5', '5', '5', '5', '5', '5', '5', '5', '5', '5', '5', '5', '5', '5', '5', '5', '5', '5', '5', '5', '5', '5', '5', '5', '5', '5', '5', '5', '5', '5', '5', '5', '5', '5', '5', '5', '5', '5', '5', '5', '5', '5', '5', '5', '5', '5', '5', '5', '5', '5', '5', '5', '5', '5', '5', '5', '5', '5', '5', '5', '5', '5', '5', '5', '5', '5', '5', '5', '5', '5', '5', '5', '5', '5', '5', '5', '5', '5', '5', '5', '5', '5', '5', '5', '5', '5', '5', '5', '5', '5', '5', '5', '5', '5', '5', '5', '5', '5', '5', '5', '5', '5', '5', '5', '5', '5', '5', '5', '5', '5', '5', '5', '5', '5', '5', '5', '5', '5', '5', '5', '5', '5', '5', '5', '5', '5', '5', '5', '5', '5', '5', '5', '5', '5', '5', '5', '5', '5', '5', '5', '5', '5', '5', '5', '5', '5', '5', '5', '5', '5', '5', '5', '5', '5', '5', '5', '5', '5', '5', '5', '5', '5', '5', '5', '5', '5', '5', '5', '5', '5', '5', '5', '5', '5', '5', '5', '5', '5', '5', '5', '5', '5', '5', '5', '5', '5', '5', '5', '5', '5', '5', '5', '5', '5', '5', '5', '5', '5', '5', '5', '5', '5', '5', '5', '5', '5', '5', '5', '5', '5', '5', '5', '5', '5', '5', '5', '5', '5', '5', '5', '5', '5', '5', '5', '5', '5', '5', '5', '5', '5', '5', '5', '5', '5', '5', '5', '5', '5', '5', '5', '5', '5', '5', '5', '5', '5', '5', '5', '5', '5', '5', '5', '5', '5', '5', '5', '5', '5', '5', '5', '5', '5', '5', '5', '5', '5', '5', '5', '5', '5', '5', '5', '5', '5', '5', '5', '5', '5', '5', '5', '5', '5', '5', '5', '5', '5', '5', '5', '5', '5', '5', '5', '5', '5', '5', '5', '5', '5', '5', '5', '5', '5', '5', '5', '5', '5', '5', '5', '5', '5', '5', '5', '5', '5', '5', '5', '5', '5', '5', '5', '5', '5', '5', '5', '5', '5', '5', '5', '5', '5', '5', '5', '5', '5', '5', '5', '5', '5', '5', '5', '5', '5', '5', '5', '5', '5', '5', '5', '5', '5', '5', '5', '5', '5', '5', '5', '5', '5', '5', '5', '5', '5', '5', '5', '5', '5', '5', '5', '5', '5', '5', '5', '5', '5', '5', '5', '5', '5', '5', '5', '5', '5', '5', '5', '5', '5', '5', '5', '5', '5', '5', '5', '5', '5', '5', '5', '5', '5', '5', '5', '5', '5', '5', '5', '5', '5', '5', '5', '5', '5', '5', '5', '5', '5', '5', '5', '5', '5', '5', '5', '5', '5', '5', '5', '5', '5', '5', '5', '5', '5', '5', '5', '5', '5', '5', '5', '5', '5', '5', '5', '5', '5', '5', '5', '5', '5', '5', '5', '5', '5', '5', '5', '5', '5', '5', '5', '5', '5', '5', '5', '5', '5', '5', '5', '5', '5', '5', '5', '5', '5', '5', '5', '5', '5', '5', '5', '5', '5', '5', '5', '5', '5', '5', '5', '5', '5', '5', '5', '5', '5', '5', '5', '5', '5', '5', '5', '5', '5', '5', '5', '5', '5', '5', '5', '5', '5', '5', '5', '5', '5', '5', '5', '5', '5', '5', '5', '5', '5', '5', '5', '5', '5', '5', '5', '5', '5', '5', '5', '5', '5', '5', '5', '5', '5', '5', '5', '5', '5', '5', '5', '5', '5', '5', '5', '5', '5', '5', '5', '5', '5', '5', '5', '5', '5', '5', '5', '5', '5', '5', '5', '5', '5', '5', '5', '5', '5', '5', '5', '5', '5', '5', '5', '5', '5', '5', '5', '5', '5', '5', '5', '5', '5', '5', '5', '5', '5', '5', '5', '5', '5', '5', '5', '5', '5', '5', '5', '5', '5', '5', '5', '5', '5', '5', '5', '5', '5', '5', '5', '5', '5', '5', '5', '5', '5', '5', '5', '5', '5', '5', '5', '5', '5', '5', '5', '5', '5', '5', '5', '5', '5', '5', '5', '5', '5', '5', '5', '5', '5', '5', '5', '5', '5', '5', '5', '5', '5', '5', '5', '5', '5', '5', '5', '5', '5', '5', '5', '5', '5', '5', '5', '5', '5', '5', '5', '5', '5', '5', '5', '5', '5', '5', '5', '5', '5', '5', '5', '5', '5', '5', '5', '5', '5', '5', '5', '5', '5', '5', '5', '5', '5', '5', '5', '5', '5', '5', '5', '5', '5', '5', '5', '5', '5', '5', '5', '5', '5', '5', '5', '5', '5', '5', '5', '5', '5', '5', '5', '5', '5', '5', '5', '5', '5', '5', '5', '5', '5', '5']\n"
     ]
    },
    {
     "data": {
      "text/html": [
       "<div>\n",
       "<style scoped>\n",
       "    .dataframe tbody tr th:only-of-type {\n",
       "        vertical-align: middle;\n",
       "    }\n",
       "\n",
       "    .dataframe tbody tr th {\n",
       "        vertical-align: top;\n",
       "    }\n",
       "\n",
       "    .dataframe thead th {\n",
       "        text-align: right;\n",
       "    }\n",
       "</style>\n",
       "<table border=\"1\" class=\"dataframe\">\n",
       "  <thead>\n",
       "    <tr style=\"text-align: right;\">\n",
       "      <th></th>\n",
       "      <th>line</th>\n",
       "      <th>song_id</th>\n",
       "      <th>song_name</th>\n",
       "      <th>artist_id</th>\n",
       "      <th>artist_name</th>\n",
       "      <th>characters</th>\n",
       "      <th>genre</th>\n",
       "      <th>genre_index</th>\n",
       "      <th>original_line</th>\n",
       "      <th>line_pre</th>\n",
       "      <th>unique_words</th>\n",
       "      <th>num_unique_words</th>\n",
       "      <th>line_stems</th>\n",
       "      <th>unique_stems</th>\n",
       "    </tr>\n",
       "  </thead>\n",
       "  <tbody>\n",
       "    <tr>\n",
       "      <th>0</th>\n",
       "      <td>I poured your Johnnie Walker Blue right down t...</td>\n",
       "      <td>2429721</td>\n",
       "      <td>I Need You</td>\n",
       "      <td>643585</td>\n",
       "      <td>kalie shorr</td>\n",
       "      <td>1881</td>\n",
       "      <td>country</td>\n",
       "      <td>1</td>\n",
       "      <td>I poured your Johnnie Walker Blue right down t...</td>\n",
       "      <td>i poured your johnnie walker blue right down t...</td>\n",
       "      <td>[a, all, alright, always, am, and, are, away, ...</td>\n",
       "      <td>135</td>\n",
       "      <td>i pour your johnni walker blue right down the ...</td>\n",
       "      <td>a all alright alway am and are away babi back ...</td>\n",
       "    </tr>\n",
       "    <tr>\n",
       "      <th>1</th>\n",
       "      <td>His mama thinks hes an angel\\nFollows the Sav...</td>\n",
       "      <td>2429715</td>\n",
       "      <td>God Sees Everything</td>\n",
       "      <td>643585</td>\n",
       "      <td>kalie shorr</td>\n",
       "      <td>1287</td>\n",
       "      <td>country</td>\n",
       "      <td>1</td>\n",
       "      <td>His mama thinks hes an angel\\nFollows the Sav...</td>\n",
       "      <td>his mama thinks he is an angel follows the sav...</td>\n",
       "      <td>[a, aint, all, alone, along, an, and, angel, a...</td>\n",
       "      <td>89</td>\n",
       "      <td>his mama think he is an angel follow the savio...</td>\n",
       "      <td>a aint all alon along an and angel as back bas...</td>\n",
       "    </tr>\n",
       "    <tr>\n",
       "      <th>2</th>\n",
       "      <td>I'm just trying to catch a buzz\\nMindin' my ow...</td>\n",
       "      <td>2429717</td>\n",
       "      <td>Throwin' Shade</td>\n",
       "      <td>643585</td>\n",
       "      <td>kalie shorr</td>\n",
       "      <td>1305</td>\n",
       "      <td>country</td>\n",
       "      <td>1</td>\n",
       "      <td>I'm just trying to catch a buzz\\nMindin' my ow...</td>\n",
       "      <td>i am just trying to catch a buzz minding my ow...</td>\n",
       "      <td>[a, aint, all, am, and, are, around, away, bac...</td>\n",
       "      <td>105</td>\n",
       "      <td>i am just tri to catch a buzz mind my own litt...</td>\n",
       "      <td>a aint all am and are around away back be been...</td>\n",
       "    </tr>\n",
       "    <tr>\n",
       "      <th>3</th>\n",
       "      <td>[Verse 1]\\nSun's always gonna set in the west\\...</td>\n",
       "      <td>3019461</td>\n",
       "      <td>Nothin New</td>\n",
       "      <td>643585</td>\n",
       "      <td>kalie shorr</td>\n",
       "      <td>1892</td>\n",
       "      <td>country</td>\n",
       "      <td>1</td>\n",
       "      <td>[Verse 1]\\nSun's always gonna set in the west\\...</td>\n",
       "      <td>sun is always gonna set in the west lipsticks ...</td>\n",
       "      <td>[a, aint, always, am, and, are, as, back, bad,...</td>\n",
       "      <td>103</td>\n",
       "      <td>sun is alway gonna set in the west lipstick an...</td>\n",
       "      <td>a aint alway am and are as back bad begin be b...</td>\n",
       "    </tr>\n",
       "    <tr>\n",
       "      <th>4</th>\n",
       "      <td>Kill the engine, turn the headlights off\\nDriv...</td>\n",
       "      <td>2429718</td>\n",
       "      <td>Young &amp; Restless</td>\n",
       "      <td>643585</td>\n",
       "      <td>kalie shorr</td>\n",
       "      <td>2046</td>\n",
       "      <td>country</td>\n",
       "      <td>1</td>\n",
       "      <td>Kill the engine, turn the headlights off\\nDriv...</td>\n",
       "      <td>kill the engine turn the headlights off drive ...</td>\n",
       "      <td>[a, aint, all, and, another, anything, are, ar...</td>\n",
       "      <td>146</td>\n",
       "      <td>kill the engin turn the headlight off drive aw...</td>\n",
       "      <td>a aint all and anoth anyth are arm around as a...</td>\n",
       "    </tr>\n",
       "    <tr>\n",
       "      <th>...</th>\n",
       "      <td>...</td>\n",
       "      <td>...</td>\n",
       "      <td>...</td>\n",
       "      <td>...</td>\n",
       "      <td>...</td>\n",
       "      <td>...</td>\n",
       "      <td>...</td>\n",
       "      <td>...</td>\n",
       "      <td>...</td>\n",
       "      <td>...</td>\n",
       "      <td>...</td>\n",
       "      <td>...</td>\n",
       "      <td>...</td>\n",
       "      <td>...</td>\n",
       "    </tr>\n",
       "    <tr>\n",
       "      <th>8564</th>\n",
       "      <td>Got myself an angel\\nStraight from the heavens...</td>\n",
       "      <td>1618057</td>\n",
       "      <td>I Got Heaven Right Here on Earth</td>\n",
       "      <td>1664</td>\n",
       "      <td>the temptations</td>\n",
       "      <td>1788</td>\n",
       "      <td>soul</td>\n",
       "      <td>5</td>\n",
       "      <td>Got myself an angel\\nStraight from the heavens...</td>\n",
       "      <td>got myself an angel straight from the heavens ...</td>\n",
       "      <td>[a, about, above, all, am, an, and, angel, as,...</td>\n",
       "      <td>111</td>\n",
       "      <td>got myself an angel straight from the heaven a...</td>\n",
       "      <td>a about abov all am an and angel as babi be be...</td>\n",
       "    </tr>\n",
       "    <tr>\n",
       "      <th>8565</th>\n",
       "      <td>Baby, our love was strong yesterday\\n(Now you ...</td>\n",
       "      <td>3832684</td>\n",
       "      <td>Why Did You Leave Me Darling</td>\n",
       "      <td>1664</td>\n",
       "      <td>the temptations</td>\n",
       "      <td>1063</td>\n",
       "      <td>soul</td>\n",
       "      <td>5</td>\n",
       "      <td>Baby, our love was strong yesterday\\n(Now you ...</td>\n",
       "      <td>baby our love was strong yesterday now you wat...</td>\n",
       "      <td>[a, alone, and, are, away, baby, bear, begun, ...</td>\n",
       "      <td>77</td>\n",
       "      <td>babi our love was strong yesterday now you wat...</td>\n",
       "      <td>a alon and are away babi bear begun black can ...</td>\n",
       "    </tr>\n",
       "    <tr>\n",
       "      <th>8566</th>\n",
       "      <td>Your eyes tell a story, such a sad story\\nOf t...</td>\n",
       "      <td>3129527</td>\n",
       "      <td>Ain't No Justice</td>\n",
       "      <td>1664</td>\n",
       "      <td>the temptations</td>\n",
       "      <td>1098</td>\n",
       "      <td>soul</td>\n",
       "      <td>5</td>\n",
       "      <td>Your eyes tell a story, such a sad story\\nOf t...</td>\n",
       "      <td>your eyes tell a story such a sad story of the...</td>\n",
       "      <td>[a, about, again, aint, am, an, and, are, be, ...</td>\n",
       "      <td>114</td>\n",
       "      <td>your eye tell a stori such a sad stori of the ...</td>\n",
       "      <td>a about again aint am an and are be black blin...</td>\n",
       "    </tr>\n",
       "    <tr>\n",
       "      <th>8567</th>\n",
       "      <td>[Verse 1]\\nGuess it's true, I'm not good at a ...</td>\n",
       "      <td>3705373</td>\n",
       "      <td>Stay With Me</td>\n",
       "      <td>1664</td>\n",
       "      <td>the temptations</td>\n",
       "      <td>1167</td>\n",
       "      <td>soul</td>\n",
       "      <td>5</td>\n",
       "      <td>[Verse 1]\\nGuess it's true, I'm not good at a ...</td>\n",
       "      <td>guess it is true i am not good at a onenight s...</td>\n",
       "      <td>[a, aint, all, am, and, are, at, but, can, cau...</td>\n",
       "      <td>68</td>\n",
       "      <td>guess it is true i am not good at a onenight s...</td>\n",
       "      <td>a aint all am and are at but can caus clear co...</td>\n",
       "    </tr>\n",
       "    <tr>\n",
       "      <th>8568</th>\n",
       "      <td>Mother Nature\\nGo on and take your course\\nAnd...</td>\n",
       "      <td>3655226</td>\n",
       "      <td>Mother Nature [Stereo Promo Version]</td>\n",
       "      <td>1664</td>\n",
       "      <td>the temptations</td>\n",
       "      <td>826</td>\n",
       "      <td>soul</td>\n",
       "      <td>5</td>\n",
       "      <td>Mother Nature\\nGo on and take your course\\nAnd...</td>\n",
       "      <td>mother nature go on and take your course and a...</td>\n",
       "      <td>[5, 9, alive, all, am, and, are, as, atake, be...</td>\n",
       "      <td>81</td>\n",
       "      <td>mother natur go on and take your cours and ata...</td>\n",
       "      <td>5 9 aliv all am and are as atak be beg bring b...</td>\n",
       "    </tr>\n",
       "  </tbody>\n",
       "</table>\n",
       "<p>8569 rows × 14 columns</p>\n",
       "</div>"
      ],
      "text/plain": [
       "                                                   line  song_id  \\\n",
       "0     I poured your Johnnie Walker Blue right down t...  2429721   \n",
       "1     His mama thinks hes an angel\\nFollows the Sav...  2429715   \n",
       "2     I'm just trying to catch a buzz\\nMindin' my ow...  2429717   \n",
       "3     [Verse 1]\\nSun's always gonna set in the west\\...  3019461   \n",
       "4     Kill the engine, turn the headlights off\\nDriv...  2429718   \n",
       "...                                                 ...      ...   \n",
       "8564  Got myself an angel\\nStraight from the heavens...  1618057   \n",
       "8565  Baby, our love was strong yesterday\\n(Now you ...  3832684   \n",
       "8566  Your eyes tell a story, such a sad story\\nOf t...  3129527   \n",
       "8567  [Verse 1]\\nGuess it's true, I'm not good at a ...  3705373   \n",
       "8568  Mother Nature\\nGo on and take your course\\nAnd...  3655226   \n",
       "\n",
       "                                 song_name  artist_id      artist_name  \\\n",
       "0                               I Need You     643585      kalie shorr   \n",
       "1                      God Sees Everything     643585      kalie shorr   \n",
       "2                           Throwin' Shade     643585      kalie shorr   \n",
       "3                               Nothin New     643585      kalie shorr   \n",
       "4                         Young & Restless     643585      kalie shorr   \n",
       "...                                    ...        ...              ...   \n",
       "8564      I Got Heaven Right Here on Earth       1664  the temptations   \n",
       "8565          Why Did You Leave Me Darling       1664  the temptations   \n",
       "8566                      Ain't No Justice       1664  the temptations   \n",
       "8567                          Stay With Me       1664  the temptations   \n",
       "8568  Mother Nature [Stereo Promo Version]       1664  the temptations   \n",
       "\n",
       "      characters    genre genre_index  \\\n",
       "0           1881  country           1   \n",
       "1           1287  country           1   \n",
       "2           1305  country           1   \n",
       "3           1892  country           1   \n",
       "4           2046  country           1   \n",
       "...          ...      ...         ...   \n",
       "8564        1788     soul           5   \n",
       "8565        1063     soul           5   \n",
       "8566        1098     soul           5   \n",
       "8567        1167     soul           5   \n",
       "8568         826     soul           5   \n",
       "\n",
       "                                          original_line  \\\n",
       "0     I poured your Johnnie Walker Blue right down t...   \n",
       "1     His mama thinks hes an angel\\nFollows the Sav...   \n",
       "2     I'm just trying to catch a buzz\\nMindin' my ow...   \n",
       "3     [Verse 1]\\nSun's always gonna set in the west\\...   \n",
       "4     Kill the engine, turn the headlights off\\nDriv...   \n",
       "...                                                 ...   \n",
       "8564  Got myself an angel\\nStraight from the heavens...   \n",
       "8565  Baby, our love was strong yesterday\\n(Now you ...   \n",
       "8566  Your eyes tell a story, such a sad story\\nOf t...   \n",
       "8567  [Verse 1]\\nGuess it's true, I'm not good at a ...   \n",
       "8568  Mother Nature\\nGo on and take your course\\nAnd...   \n",
       "\n",
       "                                               line_pre  \\\n",
       "0     i poured your johnnie walker blue right down t...   \n",
       "1     his mama thinks he is an angel follows the sav...   \n",
       "2     i am just trying to catch a buzz minding my ow...   \n",
       "3     sun is always gonna set in the west lipsticks ...   \n",
       "4     kill the engine turn the headlights off drive ...   \n",
       "...                                                 ...   \n",
       "8564  got myself an angel straight from the heavens ...   \n",
       "8565  baby our love was strong yesterday now you wat...   \n",
       "8566  your eyes tell a story such a sad story of the...   \n",
       "8567  guess it is true i am not good at a onenight s...   \n",
       "8568  mother nature go on and take your course and a...   \n",
       "\n",
       "                                           unique_words  num_unique_words  \\\n",
       "0     [a, all, alright, always, am, and, are, away, ...               135   \n",
       "1     [a, aint, all, alone, along, an, and, angel, a...                89   \n",
       "2     [a, aint, all, am, and, are, around, away, bac...               105   \n",
       "3     [a, aint, always, am, and, are, as, back, bad,...               103   \n",
       "4     [a, aint, all, and, another, anything, are, ar...               146   \n",
       "...                                                 ...               ...   \n",
       "8564  [a, about, above, all, am, an, and, angel, as,...               111   \n",
       "8565  [a, alone, and, are, away, baby, bear, begun, ...                77   \n",
       "8566  [a, about, again, aint, am, an, and, are, be, ...               114   \n",
       "8567  [a, aint, all, am, and, are, at, but, can, cau...                68   \n",
       "8568  [5, 9, alive, all, am, and, are, as, atake, be...                81   \n",
       "\n",
       "                                             line_stems  \\\n",
       "0     i pour your johnni walker blue right down the ...   \n",
       "1     his mama think he is an angel follow the savio...   \n",
       "2     i am just tri to catch a buzz mind my own litt...   \n",
       "3     sun is alway gonna set in the west lipstick an...   \n",
       "4     kill the engin turn the headlight off drive aw...   \n",
       "...                                                 ...   \n",
       "8564  got myself an angel straight from the heaven a...   \n",
       "8565  babi our love was strong yesterday now you wat...   \n",
       "8566  your eye tell a stori such a sad stori of the ...   \n",
       "8567  guess it is true i am not good at a onenight s...   \n",
       "8568  mother natur go on and take your cours and ata...   \n",
       "\n",
       "                                           unique_stems  \n",
       "0     a all alright alway am and are away babi back ...  \n",
       "1     a aint all alon along an and angel as back bas...  \n",
       "2     a aint all am and are around away back be been...  \n",
       "3     a aint alway am and are as back bad begin be b...  \n",
       "4     a aint all and anoth anyth are arm around as a...  \n",
       "...                                                 ...  \n",
       "8564  a about abov all am an and angel as babi be be...  \n",
       "8565  a alon and are away babi bear begun black can ...  \n",
       "8566  a about again aint am an and are be black blin...  \n",
       "8567  a aint all am and are at but can caus clear co...  \n",
       "8568  5 9 aliv all am and are as atak be beg bring b...  \n",
       "\n",
       "[8569 rows x 14 columns]"
      ]
     },
     "execution_count": 41,
     "metadata": {},
     "output_type": "execute_result"
    }
   ],
   "source": [
    "# 歌曲類型加上編號country=1、metal/rock=2，pop=3，rap=4，soul=5\n",
    "genre_index = []\n",
    "for w in range(len(lyrics2)):\n",
    "    genre = lyrics2['genre'][w]\n",
    "    if genre == 'country':\n",
    "        genre_index.append('1')\n",
    "    if genre == 'metal/rock':\n",
    "        genre_index.append('2')\n",
    "    if genre == 'pop':\n",
    "        genre_index.append('3')\n",
    "    if genre == 'rap':\n",
    "        genre_index.append('4')\n",
    "    if genre == 'soul':\n",
    "        genre_index.append('5')\n",
    "print(len(genre_index))\n",
    "print(genre_index)\n",
    "lyrics2.insert(7,'genre_index',genre_index)\n",
    "lyrics2"
   ]
  },
  {
   "cell_type": "code",
   "execution_count": 42,
   "metadata": {},
   "outputs": [],
   "source": [
    "lyrics2.to_csv('example/dataset/lyrics_edit2.csv')"
   ]
  },
  {
   "cell_type": "code",
   "execution_count": 43,
   "metadata": {
    "code_folding": []
   },
   "outputs": [
    {
     "name": "stdout",
     "output_type": "stream",
     "text": [
      "country : 1482\n",
      "metal/rock : 2972\n",
      "pop : 1155\n",
      "rap : 1514\n",
      "soul : 1446\n"
     ]
    }
   ],
   "source": [
    "# 統計每個類型的個數\n",
    "print('country :',lyrics2[lyrics2['genre'] == 'country']['genre'].count())\n",
    "print('metal/rock :',lyrics2[lyrics2['genre'] == 'metal/rock']['genre'].count())\n",
    "print('pop :',lyrics2[lyrics2['genre'] == 'pop']['genre'].count())\n",
    "print('rap :',lyrics2[lyrics2['genre'] == 'rap']['genre'].count())\n",
    "print('soul :',lyrics2[lyrics2['genre'] == 'soul']['genre'].count())"
   ]
  },
  {
   "cell_type": "code",
   "execution_count": 44,
   "metadata": {},
   "outputs": [],
   "source": [
    "# 切割訓練集和測試集(stratify:按照genre中的比例分配，用於處理不均衡的資料集，training和testing的比例為4:1)\n",
    "train, test = train_test_split(lyrics2, test_size=0.2, stratify=lyrics.genre, random_state=1)"
   ]
  },
  {
   "cell_type": "code",
   "execution_count": 45,
   "metadata": {
    "code_folding": []
   },
   "outputs": [
    {
     "name": "stdout",
     "output_type": "stream",
     "text": [
      "Train Count: 6855\n",
      "Test Count: 1714\n"
     ]
    }
   ],
   "source": [
    "# 統計訓練和測試集的筆數\n",
    "print('Train Count:',len(train)) # 總共8569筆資料 / 5 * 4 (4:1比例)\n",
    "#print(train)\n",
    "print('Test Count:',len(test))\n",
    "#print(test)"
   ]
  },
  {
   "cell_type": "code",
   "execution_count": 46,
   "metadata": {
    "code_folding": [
     1
    ]
   },
   "outputs": [],
   "source": [
    "# 混淆矩陣製圖\n",
    "def plot_confusion_matrix(cm,classes,title,cmap,normalize):\n",
    "    #print(title)\n",
    "    #print(cm)\n",
    "    accuracy = np.trace(cm) / float(np.sum(cm))\n",
    "    misclass = 1 - accuracy\n",
    "    \n",
    "    plt.figure(figsize=(6, 4),dpi=80)\n",
    "    plt.imshow(cm, interpolation='nearest', cmap=cmap, origin='lower')\n",
    "    plt.title(title,fontsize=16,fontweight='bold',color='b')\n",
    "    plt.colorbar()\n",
    "    tick_marks = np.arange(len(classes))\n",
    "    plt.xticks(tick_marks, classes, rotation=45)\n",
    "    plt.yticks(tick_marks, classes)\n",
    "    \n",
    "    if normalize:\n",
    "        cm = cm.astype('float') / cm.sum(axis=1)[:, np.newaxis]\n",
    "    fmt = '.2f' if normalize else 'd'\n",
    "    thresh = cm.max() / 2.\n",
    "    for i, j in itertools.product(range(cm.shape[0]), range(cm.shape[1])):\n",
    "        if normalize:\n",
    "            plt.text(j, i, \"{:0.4f}\".format(cm[i, j], fmt), horizontalalignment=\"center\",\n",
    "                     color=\"white\" if cm[i, j] > thresh else \"black\")\n",
    "        else:\n",
    "            plt.text(j, i, \"{:,}\".format(cm[i, j]), horizontalalignment=\"center\",\n",
    "                     color=\"white\" if cm[i, j] > thresh else \"black\")\n",
    "    plt.ylabel('True label')\n",
    "    plt.xlabel('Predicted label\\naccuracy={:0.4f}; misclass={:0.4f}'.format(accuracy, misclass))\n",
    "    #plt.tight_layout()\n",
    "    plt.show()"
   ]
  },
  {
   "cell_type": "markdown",
   "metadata": {},
   "source": [
    ".cross_val_score()：對十次迭代計算平均的測試準確率。<br>\n",
    ".score()：對Model用R^2的方式評估，輸出精確度。<br>\n",
    ".accuracy_score()：返回子集的準確率。<br>\n",
    "http://d0evi1.com/sklearn/model_evaluation/"
   ]
  },
  {
   "cell_type": "markdown",
   "metadata": {
    "heading_collapsed": true
   },
   "source": [
    "# Classifier - Multinomial Naive Bayes"
   ]
  },
  {
   "cell_type": "code",
   "execution_count": 47,
   "metadata": {
    "hidden": true
   },
   "outputs": [
    {
     "name": "stdout",
     "output_type": "stream",
     "text": [
      "Accuracy (Multinomial Naive Bayes): 0.7066 (+/- 0.03)\n"
     ]
    }
   ],
   "source": [
    "# Multinomial Naive Bayes model w/ k-fold CV\n",
    "method = 'Multinomial Naive Bayes'\n",
    "text_mnb = Pipeline([('vect', CountVectorizer()), ('mnb', MultinomialNB(fit_prior=False))])\n",
    "text_mnb = text_mnb.fit(train.line_stems, train.genre)\n",
    "cross_val_score_mnb = cross_val_score(estimator=text_mnb, X=train.line_stems, y=train.genre, cv=10)\n",
    "print(\"Accuracy (%s): %0.4f (+/- %0.2f)\" % (method, cross_val_score_mnb.mean(), cross_val_score_mnb.std() * 2))"
   ]
  },
  {
   "cell_type": "code",
   "execution_count": 48,
   "metadata": {
    "code_folding": [],
    "collapsed": true,
    "hidden": true
   },
   "outputs": [
    {
     "name": "stdout",
     "output_type": "stream",
     "text": [
      "0.7082847141190198\n",
      "              precision    recall  f1-score   support\n",
      "\n",
      "     country       0.60      0.66      0.63       296\n",
      "  metal/rock       0.77      0.72      0.75       595\n",
      "         pop       0.55      0.57      0.56       231\n",
      "         rap       0.88      0.91      0.90       303\n",
      "        soul       0.64      0.63      0.64       289\n",
      "\n",
      "    accuracy                           0.71      1714\n",
      "   macro avg       0.69      0.70      0.69      1714\n",
      "weighted avg       0.71      0.71      0.71      1714\n",
      "\n"
     ]
    },
    {
     "data": {
      "text/html": [
       "<div>\n",
       "<style scoped>\n",
       "    .dataframe tbody tr th:only-of-type {\n",
       "        vertical-align: middle;\n",
       "    }\n",
       "\n",
       "    .dataframe tbody tr th {\n",
       "        vertical-align: top;\n",
       "    }\n",
       "\n",
       "    .dataframe thead th {\n",
       "        text-align: right;\n",
       "    }\n",
       "</style>\n",
       "<table border=\"1\" class=\"dataframe\">\n",
       "  <thead>\n",
       "    <tr style=\"text-align: right;\">\n",
       "      <th>genre</th>\n",
       "      <th>country</th>\n",
       "      <th>metal/rock</th>\n",
       "      <th>pop</th>\n",
       "      <th>rap</th>\n",
       "      <th>soul</th>\n",
       "    </tr>\n",
       "    <tr>\n",
       "      <th>row_0</th>\n",
       "      <th></th>\n",
       "      <th></th>\n",
       "      <th></th>\n",
       "      <th></th>\n",
       "      <th></th>\n",
       "    </tr>\n",
       "  </thead>\n",
       "  <tbody>\n",
       "    <tr>\n",
       "      <th>country</th>\n",
       "      <td>195</td>\n",
       "      <td>60</td>\n",
       "      <td>23</td>\n",
       "      <td>7</td>\n",
       "      <td>38</td>\n",
       "    </tr>\n",
       "    <tr>\n",
       "      <th>metal/rock</th>\n",
       "      <td>51</td>\n",
       "      <td>427</td>\n",
       "      <td>34</td>\n",
       "      <td>7</td>\n",
       "      <td>32</td>\n",
       "    </tr>\n",
       "    <tr>\n",
       "      <th>pop</th>\n",
       "      <td>20</td>\n",
       "      <td>44</td>\n",
       "      <td>132</td>\n",
       "      <td>11</td>\n",
       "      <td>33</td>\n",
       "    </tr>\n",
       "    <tr>\n",
       "      <th>rap</th>\n",
       "      <td>4</td>\n",
       "      <td>15</td>\n",
       "      <td>14</td>\n",
       "      <td>277</td>\n",
       "      <td>3</td>\n",
       "    </tr>\n",
       "    <tr>\n",
       "      <th>soul</th>\n",
       "      <td>26</td>\n",
       "      <td>49</td>\n",
       "      <td>28</td>\n",
       "      <td>1</td>\n",
       "      <td>183</td>\n",
       "    </tr>\n",
       "  </tbody>\n",
       "</table>\n",
       "</div>"
      ],
      "text/plain": [
       "genre       country  metal/rock  pop  rap  soul\n",
       "row_0                                          \n",
       "country         195          60   23    7    38\n",
       "metal/rock       51         427   34    7    32\n",
       "pop              20          44  132   11    33\n",
       "rap               4          15   14  277     3\n",
       "soul             26          49   28    1   183"
      ]
     },
     "execution_count": 48,
     "metadata": {},
     "output_type": "execute_result"
    }
   ],
   "source": [
    "# Naive Bayes test results\n",
    "print(text_mnb.score(y=test.genre, X=test.line_stems))\n",
    "preds_mnb = text_mnb.predict(test.line_stems)\n",
    "print(classification_report(y_pred=preds_mnb, y_true=test.genre))\n",
    "pd.crosstab(preds_mnb, test.genre)"
   ]
  },
  {
   "cell_type": "code",
   "execution_count": 49,
   "metadata": {
    "code_folding": [],
    "hidden": true,
    "scrolled": true
   },
   "outputs": [
    {
     "data": {
      "image/png": "[encoded data removed]",
      "text/plain": [
       "<Figure size 480x320 with 2 Axes>"
      ]
     },
     "metadata": {
      "needs_background": "light"
     },
     "output_type": "display_data"
    },
    {
     "data": {
      "image/png": "[encoded data removed]",
      "text/plain": [
       "<Figure size 480x320 with 2 Axes>"
      ]
     },
     "metadata": {
      "needs_background": "light"
     },
     "output_type": "display_data"
    }
   ],
   "source": [
    "# 繪製混淆矩陣\n",
    "titles_options = [(\"Confusion matrix, without normalization\", False),(\"Normalized confusion matrix\", True)]\n",
    "for title, normalize in titles_options:\n",
    "    cnf_matrix_mnb = confusion_matrix(test.genre, preds_mnb)\n",
    "    disp = plot_confusion_matrix(cm=cnf_matrix_mnb, classes=lst_genre_type, title=title,\n",
    "                                 cmap=plt.cm.YlGnBu,normalize=normalize)"
   ]
  },
  {
   "cell_type": "code",
   "execution_count": 50,
   "metadata": {
    "hidden": true
   },
   "outputs": [],
   "source": [
    "# 儲存模型\n",
    "with open('model/mnb.pickle', 'wb') as f:\n",
    "    pickle.dump(text_mnb, f)"
   ]
  },
  {
   "cell_type": "markdown",
   "metadata": {
    "heading_collapsed": true
   },
   "source": [
    "# Classifier - Gaussian Naive Bayes"
   ]
  },
  {
   "cell_type": "code",
   "execution_count": 51,
   "metadata": {
    "hidden": true,
    "scrolled": true
   },
   "outputs": [
    {
     "name": "stdout",
     "output_type": "stream",
     "text": [
      "Accuracy (Gaussian Naive Bayes): 0.5275 (+/- 0.04)\n"
     ]
    }
   ],
   "source": [
    "# Gaussian Naive Bayes model w/ k-fold CV\n",
    "method = 'Gaussian Naive Bayes'\n",
    "text_gnb = Pipeline([('vect', CountVectorizer()), ('to_dense', DenseTransformer()), ('gnb', GaussianNB())])\n",
    "text_gnb = text_gnb.fit(train.line_stems, train.genre)\n",
    "cross_val_score_gnb = cross_val_score(estimator=text_gnb, X=train.line_stems, y=train.genre, cv=10)\n",
    "print(\"Accuracy (%s): %0.4f (+/- %0.2f)\" % (method, cross_val_score_gnb.mean(), cross_val_score_gnb.std() * 2))"
   ]
  },
  {
   "cell_type": "code",
   "execution_count": 52,
   "metadata": {
    "hidden": true,
    "scrolled": true
   },
   "outputs": [
    {
     "name": "stdout",
     "output_type": "stream",
     "text": [
      "0.5373395565927654\n",
      "              precision    recall  f1-score   support\n",
      "\n",
      "     country       0.47      0.38      0.42       296\n",
      "  metal/rock       0.71      0.52      0.60       595\n",
      "         pop       0.48      0.28      0.35       231\n",
      "         rap       0.48      0.97      0.64       303\n",
      "        soul       0.49      0.48      0.48       289\n",
      "\n",
      "    accuracy                           0.54      1714\n",
      "   macro avg       0.52      0.53      0.50      1714\n",
      "weighted avg       0.56      0.54      0.52      1714\n",
      "\n"
     ]
    },
    {
     "data": {
      "text/html": [
       "<div>\n",
       "<style scoped>\n",
       "    .dataframe tbody tr th:only-of-type {\n",
       "        vertical-align: middle;\n",
       "    }\n",
       "\n",
       "    .dataframe tbody tr th {\n",
       "        vertical-align: top;\n",
       "    }\n",
       "\n",
       "    .dataframe thead th {\n",
       "        text-align: right;\n",
       "    }\n",
       "</style>\n",
       "<table border=\"1\" class=\"dataframe\">\n",
       "  <thead>\n",
       "    <tr style=\"text-align: right;\">\n",
       "      <th>genre</th>\n",
       "      <th>country</th>\n",
       "      <th>metal/rock</th>\n",
       "      <th>pop</th>\n",
       "      <th>rap</th>\n",
       "      <th>soul</th>\n",
       "    </tr>\n",
       "    <tr>\n",
       "      <th>row_0</th>\n",
       "      <th></th>\n",
       "      <th></th>\n",
       "      <th></th>\n",
       "      <th></th>\n",
       "      <th></th>\n",
       "    </tr>\n",
       "  </thead>\n",
       "  <tbody>\n",
       "    <tr>\n",
       "      <th>country</th>\n",
       "      <td>112</td>\n",
       "      <td>66</td>\n",
       "      <td>24</td>\n",
       "      <td>0</td>\n",
       "      <td>36</td>\n",
       "    </tr>\n",
       "    <tr>\n",
       "      <th>metal/rock</th>\n",
       "      <td>47</td>\n",
       "      <td>311</td>\n",
       "      <td>36</td>\n",
       "      <td>4</td>\n",
       "      <td>43</td>\n",
       "    </tr>\n",
       "    <tr>\n",
       "      <th>pop</th>\n",
       "      <td>9</td>\n",
       "      <td>37</td>\n",
       "      <td>64</td>\n",
       "      <td>3</td>\n",
       "      <td>20</td>\n",
       "    </tr>\n",
       "    <tr>\n",
       "      <th>rap</th>\n",
       "      <td>88</td>\n",
       "      <td>114</td>\n",
       "      <td>69</td>\n",
       "      <td>295</td>\n",
       "      <td>51</td>\n",
       "    </tr>\n",
       "    <tr>\n",
       "      <th>soul</th>\n",
       "      <td>40</td>\n",
       "      <td>67</td>\n",
       "      <td>38</td>\n",
       "      <td>1</td>\n",
       "      <td>139</td>\n",
       "    </tr>\n",
       "  </tbody>\n",
       "</table>\n",
       "</div>"
      ],
      "text/plain": [
       "genre       country  metal/rock  pop  rap  soul\n",
       "row_0                                          \n",
       "country         112          66   24    0    36\n",
       "metal/rock       47         311   36    4    43\n",
       "pop               9          37   64    3    20\n",
       "rap              88         114   69  295    51\n",
       "soul             40          67   38    1   139"
      ]
     },
     "execution_count": 52,
     "metadata": {},
     "output_type": "execute_result"
    }
   ],
   "source": [
    "# Gaussian Bayes test results\n",
    "print(text_gnb.score(y=test.genre, X=test.line_stems))\n",
    "preds_gnb = text_gnb.predict(test.line_stems)\n",
    "print(classification_report(y_pred=preds_gnb, y_true=test.genre))\n",
    "pd.crosstab(preds_gnb, test.genre)"
   ]
  },
  {
   "cell_type": "code",
   "execution_count": 53,
   "metadata": {
    "hidden": true,
    "scrolled": true
   },
   "outputs": [
    {
     "data": {
      "image/png": "[encoded data removed]",
      "text/plain": [
       "<Figure size 480x320 with 2 Axes>"
      ]
     },
     "metadata": {
      "needs_background": "light"
     },
     "output_type": "display_data"
    },
    {
     "data": {
      "image/png": "[encoded data removed]",
      "text/plain": [
       "<Figure size 480x320 with 2 Axes>"
      ]
     },
     "metadata": {
      "needs_background": "light"
     },
     "output_type": "display_data"
    }
   ],
   "source": [
    "# 繪製混淆矩陣\n",
    "titles_options = [(\"Confusion matrix, without normalization\", False),(\"Normalized confusion matrix\", True)]\n",
    "for title, normalize in titles_options:\n",
    "    cnf_matrix_gnb = confusion_matrix(test.genre, preds_gnb)\n",
    "    disp = plot_confusion_matrix(cm=cnf_matrix_gnb, classes=lst_genre_type, title=title,\n",
    "                                 cmap=plt.cm.YlGnBu,normalize=normalize)"
   ]
  },
  {
   "cell_type": "code",
   "execution_count": 54,
   "metadata": {
    "hidden": true
   },
   "outputs": [],
   "source": [
    "# 儲存模型\n",
    "with open('model/gnb.pickle', 'wb') as f:\n",
    "    pickle.dump(text_gnb, f)"
   ]
  },
  {
   "cell_type": "markdown",
   "metadata": {
    "heading_collapsed": true
   },
   "source": [
    "# Classifier - Random Forest"
   ]
  },
  {
   "cell_type": "code",
   "execution_count": 55,
   "metadata": {
    "hidden": true
   },
   "outputs": [
    {
     "name": "stdout",
     "output_type": "stream",
     "text": [
      "Accuracy (Random Forest): 0.4516 (+/- 0.03)\n"
     ]
    }
   ],
   "source": [
    "from sklearn.ensemble import RandomForestClassifier\n",
    "method = 'Random Forest'\n",
    "text_rf = Pipeline([('vect', CountVectorizer()), ('rf', RandomForestClassifier(max_depth=2, random_state=42))])\n",
    "text_rf = text_rf.fit(train.line_stems, train.genre)\n",
    "cross_val_score_rf = cross_val_score(estimator=text_rf, X=train.line, y=train.genre, cv=10)\n",
    "print(\"Accuracy (%s): %0.4f (+/- %0.2f)\" % (method, cross_val_score_rf.mean(), cross_val_score_rf.std() * 2))"
   ]
  },
  {
   "cell_type": "code",
   "execution_count": 56,
   "metadata": {
    "collapsed": true,
    "hidden": true
   },
   "outputs": [
    {
     "name": "stdout",
     "output_type": "stream",
     "text": [
      "0.4719953325554259\n",
      "              precision    recall  f1-score   support\n",
      "\n",
      "     country       0.00      0.00      0.00       296\n",
      "  metal/rock       0.40      1.00      0.57       595\n",
      "         pop       0.00      0.00      0.00       231\n",
      "         rap       0.98      0.71      0.82       303\n",
      "        soul       0.00      0.00      0.00       289\n",
      "\n",
      "    accuracy                           0.47      1714\n",
      "   macro avg       0.28      0.34      0.28      1714\n",
      "weighted avg       0.31      0.47      0.34      1714\n",
      "\n"
     ]
    },
    {
     "name": "stderr",
     "output_type": "stream",
     "text": [
      "D:\\Anaconda3\\lib\\site-packages\\sklearn\\metrics\\_classification.py:1221: UndefinedMetricWarning: Precision and F-score are ill-defined and being set to 0.0 in labels with no predicted samples. Use `zero_division` parameter to control this behavior.\n",
      "  _warn_prf(average, modifier, msg_start, len(result))\n"
     ]
    },
    {
     "data": {
      "text/html": [
       "<div>\n",
       "<style scoped>\n",
       "    .dataframe tbody tr th:only-of-type {\n",
       "        vertical-align: middle;\n",
       "    }\n",
       "\n",
       "    .dataframe tbody tr th {\n",
       "        vertical-align: top;\n",
       "    }\n",
       "\n",
       "    .dataframe thead th {\n",
       "        text-align: right;\n",
       "    }\n",
       "</style>\n",
       "<table border=\"1\" class=\"dataframe\">\n",
       "  <thead>\n",
       "    <tr style=\"text-align: right;\">\n",
       "      <th>genre</th>\n",
       "      <th>country</th>\n",
       "      <th>metal/rock</th>\n",
       "      <th>pop</th>\n",
       "      <th>rap</th>\n",
       "      <th>soul</th>\n",
       "    </tr>\n",
       "    <tr>\n",
       "      <th>row_0</th>\n",
       "      <th></th>\n",
       "      <th></th>\n",
       "      <th></th>\n",
       "      <th></th>\n",
       "      <th></th>\n",
       "    </tr>\n",
       "  </thead>\n",
       "  <tbody>\n",
       "    <tr>\n",
       "      <th>metal/rock</th>\n",
       "      <td>296</td>\n",
       "      <td>595</td>\n",
       "      <td>227</td>\n",
       "      <td>89</td>\n",
       "      <td>289</td>\n",
       "    </tr>\n",
       "    <tr>\n",
       "      <th>rap</th>\n",
       "      <td>0</td>\n",
       "      <td>0</td>\n",
       "      <td>4</td>\n",
       "      <td>214</td>\n",
       "      <td>0</td>\n",
       "    </tr>\n",
       "  </tbody>\n",
       "</table>\n",
       "</div>"
      ],
      "text/plain": [
       "genre       country  metal/rock  pop  rap  soul\n",
       "row_0                                          \n",
       "metal/rock      296         595  227   89   289\n",
       "rap               0           0    4  214     0"
      ]
     },
     "execution_count": 56,
     "metadata": {},
     "output_type": "execute_result"
    }
   ],
   "source": [
    "# RF test results\n",
    "print(text_rf.score(y=test.genre, X=test.line_stems))\n",
    "preds_rf = text_rf.predict(test.line_stems)\n",
    "print(classification_report(y_pred=preds_rf, y_true=test.genre))\n",
    "pd.crosstab(preds_rf, test.genre)"
   ]
  },
  {
   "cell_type": "code",
   "execution_count": 57,
   "metadata": {
    "hidden": true
   },
   "outputs": [
    {
     "data": {
      "image/png": "[encoded data removed]",
      "text/plain": [
       "<Figure size 480x320 with 2 Axes>"
      ]
     },
     "metadata": {
      "needs_background": "light"
     },
     "output_type": "display_data"
    },
    {
     "data": {
      "image/png": "[encoded data removed]",
      "text/plain": [
       "<Figure size 480x320 with 2 Axes>"
      ]
     },
     "metadata": {
      "needs_background": "light"
     },
     "output_type": "display_data"
    }
   ],
   "source": [
    "# 繪製混淆矩陣\n",
    "titles_options = [(\"Confusion matrix, without normalization\", False),(\"Normalized confusion matrix\", True)]\n",
    "for title, normalize in titles_options:\n",
    "    cnf_matrix = confusion_matrix(test.genre, preds_rf)\n",
    "    disp = plot_confusion_matrix(cm=cnf_matrix, classes=lst_genre_type, title=title,\n",
    "                                 cmap=plt.cm.YlGnBu,normalize=normalize)"
   ]
  },
  {
   "cell_type": "code",
   "execution_count": 58,
   "metadata": {
    "hidden": true
   },
   "outputs": [],
   "source": [
    "# 儲存模型\n",
    "with open('model/rf.pickle', 'wb') as f:\n",
    "    pickle.dump(text_rf, f)"
   ]
  },
  {
   "cell_type": "markdown",
   "metadata": {},
   "source": [
    "# Classifier - SVM"
   ]
  },
  {
   "cell_type": "code",
   "execution_count": 59,
   "metadata": {},
   "outputs": [
    {
     "name": "stdout",
     "output_type": "stream",
     "text": [
      "Accuracy (Support Vector Machine): 0.7524 (+/- 0.03)\n"
     ]
    }
   ],
   "source": [
    "# SVM model with k-fold CV\n",
    "method = 'Support Vector Machine'\n",
    "text_svm = Pipeline([('vect', TfidfVectorizer(ngram_range=(1,2))), ('svm', SGDClassifier(loss='hinge', penalty='l2', alpha=1e-4, random_state=123))])\n",
    "text_svm = text_svm.fit(train.line_stems, train.genre)\n",
    "cross_val_score_svm = cross_val_score(estimator=text_svm, X=train.line, y=train.genre, cv=10)\n",
    "print(\"Accuracy (%s): %0.4f (+/- %0.2f)\" % (method, cross_val_score_svm.mean(), cross_val_score_svm.std() * 2))"
   ]
  },
  {
   "cell_type": "code",
   "execution_count": 60,
   "metadata": {
    "scrolled": true
   },
   "outputs": [
    {
     "name": "stdout",
     "output_type": "stream",
     "text": [
      "0.7409568261376897\n",
      "              precision    recall  f1-score   support\n",
      "\n",
      "     country       0.67      0.68      0.68       296\n",
      "  metal/rock       0.74      0.82      0.77       595\n",
      "         pop       0.70      0.48      0.57       231\n",
      "         rap       0.91      0.94      0.93       303\n",
      "        soul       0.65      0.64      0.65       289\n",
      "\n",
      "    accuracy                           0.74      1714\n",
      "   macro avg       0.74      0.71      0.72      1714\n",
      "weighted avg       0.74      0.74      0.74      1714\n",
      "\n"
     ]
    },
    {
     "data": {
      "text/html": [
       "<div>\n",
       "<style scoped>\n",
       "    .dataframe tbody tr th:only-of-type {\n",
       "        vertical-align: middle;\n",
       "    }\n",
       "\n",
       "    .dataframe tbody tr th {\n",
       "        vertical-align: top;\n",
       "    }\n",
       "\n",
       "    .dataframe thead th {\n",
       "        text-align: right;\n",
       "    }\n",
       "</style>\n",
       "<table border=\"1\" class=\"dataframe\">\n",
       "  <thead>\n",
       "    <tr style=\"text-align: right;\">\n",
       "      <th>genre</th>\n",
       "      <th>country</th>\n",
       "      <th>metal/rock</th>\n",
       "      <th>pop</th>\n",
       "      <th>rap</th>\n",
       "      <th>soul</th>\n",
       "    </tr>\n",
       "    <tr>\n",
       "      <th>row_0</th>\n",
       "      <th></th>\n",
       "      <th></th>\n",
       "      <th></th>\n",
       "      <th></th>\n",
       "      <th></th>\n",
       "    </tr>\n",
       "  </thead>\n",
       "  <tbody>\n",
       "    <tr>\n",
       "      <th>country</th>\n",
       "      <td>201</td>\n",
       "      <td>41</td>\n",
       "      <td>14</td>\n",
       "      <td>3</td>\n",
       "      <td>39</td>\n",
       "    </tr>\n",
       "    <tr>\n",
       "      <th>metal/rock</th>\n",
       "      <td>58</td>\n",
       "      <td>486</td>\n",
       "      <td>57</td>\n",
       "      <td>8</td>\n",
       "      <td>51</td>\n",
       "    </tr>\n",
       "    <tr>\n",
       "      <th>pop</th>\n",
       "      <td>8</td>\n",
       "      <td>23</td>\n",
       "      <td>111</td>\n",
       "      <td>4</td>\n",
       "      <td>13</td>\n",
       "    </tr>\n",
       "    <tr>\n",
       "      <th>rap</th>\n",
       "      <td>3</td>\n",
       "      <td>9</td>\n",
       "      <td>15</td>\n",
       "      <td>286</td>\n",
       "      <td>0</td>\n",
       "    </tr>\n",
       "    <tr>\n",
       "      <th>soul</th>\n",
       "      <td>26</td>\n",
       "      <td>36</td>\n",
       "      <td>34</td>\n",
       "      <td>2</td>\n",
       "      <td>186</td>\n",
       "    </tr>\n",
       "  </tbody>\n",
       "</table>\n",
       "</div>"
      ],
      "text/plain": [
       "genre       country  metal/rock  pop  rap  soul\n",
       "row_0                                          \n",
       "country         201          41   14    3    39\n",
       "metal/rock       58         486   57    8    51\n",
       "pop               8          23  111    4    13\n",
       "rap               3           9   15  286     0\n",
       "soul             26          36   34    2   186"
      ]
     },
     "execution_count": 60,
     "metadata": {},
     "output_type": "execute_result"
    }
   ],
   "source": [
    "# SVM test results\n",
    "print(text_svm.score(y=test.genre, X=test.line_stems))\n",
    "preds_svm = text_svm.predict(test.line_stems)\n",
    "print(classification_report(y_pred=preds_svm, y_true=test.genre))\n",
    "pd.crosstab(preds_svm, test.genre)"
   ]
  },
  {
   "cell_type": "code",
   "execution_count": 61,
   "metadata": {
    "scrolled": true
   },
   "outputs": [
    {
     "data": {
      "image/png": "[encoded data removed]",
      "text/plain": [
       "<Figure size 480x320 with 2 Axes>"
      ]
     },
     "metadata": {
      "needs_background": "light"
     },
     "output_type": "display_data"
    },
    {
     "data": {
      "image/png": "[encoded data removed]",
      "text/plain": [
       "<Figure size 480x320 with 2 Axes>"
      ]
     },
     "metadata": {
      "needs_background": "light"
     },
     "output_type": "display_data"
    }
   ],
   "source": [
    "# 繪製混淆矩陣\n",
    "titles_options = [(\"Confusion matrix, without normalization\", False),(\"Normalized confusion matrix\", True)]\n",
    "for title, normalize in titles_options:\n",
    "    cnf_matrix_svm = confusion_matrix(test.genre, preds_svm)\n",
    "    disp = plot_confusion_matrix(cm=cnf_matrix_svm, classes=lst_genre_type, title=title,\n",
    "                                 cmap=plt.cm.YlGnBu,normalize=normalize)"
   ]
  },
  {
   "cell_type": "code",
   "execution_count": 62,
   "metadata": {},
   "outputs": [],
   "source": [
    "# 儲存模型\n",
    "with open('model/svm.pickle', 'wb') as f:\n",
    "    pickle.dump(text_svm, f)"
   ]
  },
  {
   "cell_type": "code",
   "execution_count": 63,
   "metadata": {
    "code_folding": [
     0
    ]
   },
   "outputs": [],
   "source": [
    "# 列出分類錯誤的類別\n",
    "test['preds_svm'] = preds_svm\n",
    "misclasses_svm = test[test.preds_svm != test.genre]\n",
    "misclasses_svm['misclass_combo'] = misclasses_svm.apply(lambda x: x['genre']+'-'+x['preds_svm'], axis=1)"
   ]
  },
  {
   "cell_type": "code",
   "execution_count": 64,
   "metadata": {
    "collapsed": true
   },
   "outputs": [
    {
     "data": {
      "text/plain": [
       "country-metal/rock    58\n",
       "pop-metal/rock        57\n",
       "soul-metal/rock       51\n",
       "metal/rock-country    41\n",
       "soul-country          39\n",
       "metal/rock-soul       36\n",
       "pop-soul              34\n",
       "country-soul          26\n",
       "metal/rock-pop        23\n",
       "pop-rap               15\n",
       "pop-country           14\n",
       "soul-pop              13\n",
       "metal/rock-rap         9\n",
       "country-pop            8\n",
       "rap-metal/rock         8\n",
       "rap-pop                4\n",
       "rap-country            3\n",
       "country-rap            3\n",
       "rap-soul               2\n",
       "Name: misclass_combo, dtype: int64"
      ]
     },
     "execution_count": 64,
     "metadata": {},
     "output_type": "execute_result"
    }
   ],
   "source": [
    "misclasses_svm.misclass_combo.value_counts()"
   ]
  },
  {
   "cell_type": "code",
   "execution_count": 65,
   "metadata": {
    "collapsed": true
   },
   "outputs": [
    {
     "data": {
      "text/html": [
       "<div>\n",
       "<style scoped>\n",
       "    .dataframe tbody tr th:only-of-type {\n",
       "        vertical-align: middle;\n",
       "    }\n",
       "\n",
       "    .dataframe tbody tr th {\n",
       "        vertical-align: top;\n",
       "    }\n",
       "\n",
       "    .dataframe thead th {\n",
       "        text-align: right;\n",
       "    }\n",
       "</style>\n",
       "<table border=\"1\" class=\"dataframe\">\n",
       "  <thead>\n",
       "    <tr style=\"text-align: right;\">\n",
       "      <th></th>\n",
       "      <th>line</th>\n",
       "      <th>song_id</th>\n",
       "      <th>song_name</th>\n",
       "      <th>artist_id</th>\n",
       "      <th>artist_name</th>\n",
       "      <th>characters</th>\n",
       "      <th>genre</th>\n",
       "      <th>genre_index</th>\n",
       "      <th>original_line</th>\n",
       "      <th>line_pre</th>\n",
       "      <th>unique_words</th>\n",
       "      <th>num_unique_words</th>\n",
       "      <th>line_stems</th>\n",
       "      <th>unique_stems</th>\n",
       "      <th>preds_svm</th>\n",
       "      <th>misclass_combo</th>\n",
       "    </tr>\n",
       "  </thead>\n",
       "  <tbody>\n",
       "    <tr>\n",
       "      <th>690</th>\n",
       "      <td>[Verse 1]\\nI should've known by the way you pa...</td>\n",
       "      <td>144193</td>\n",
       "      <td>Undo It</td>\n",
       "      <td>21014</td>\n",
       "      <td>carrie underwood</td>\n",
       "      <td>1962</td>\n",
       "      <td>country</td>\n",
       "      <td>1</td>\n",
       "      <td>[Verse 1]\\nI should've known by the way you pa...</td>\n",
       "      <td>i should have known by the way you passed me b...</td>\n",
       "      <td>[a, all, always, am, and, are, back, be, befor...</td>\n",
       "      <td>107</td>\n",
       "      <td>i should have known by the way you pass me by ...</td>\n",
       "      <td>a all alway am and are back be befor blame ble...</td>\n",
       "      <td>rap</td>\n",
       "      <td>country-rap</td>\n",
       "    </tr>\n",
       "    <tr>\n",
       "      <th>656</th>\n",
       "      <td>Splish Splash, I was takin' a bath\\nLong about...</td>\n",
       "      <td>1728080</td>\n",
       "      <td>Splish Splash</td>\n",
       "      <td>223639</td>\n",
       "      <td>conway twitty</td>\n",
       "      <td>1274</td>\n",
       "      <td>country</td>\n",
       "      <td>1</td>\n",
       "      <td>Splish Splash, I was takin' a bath\\nLong about...</td>\n",
       "      <td>splish splash i was taking a bath long about a...</td>\n",
       "      <td>[a, about, agroovin, agroovinwoo, all, alright...</td>\n",
       "      <td>107</td>\n",
       "      <td>splish splash i was take a bath long about a s...</td>\n",
       "      <td>a about agroovin agroovinwoo all alright amov ...</td>\n",
       "      <td>rap</td>\n",
       "      <td>country-rap</td>\n",
       "    </tr>\n",
       "    <tr>\n",
       "      <th>1411</th>\n",
       "      <td>[Chorus]\\nGimme some straight talk, straight t...</td>\n",
       "      <td>208250</td>\n",
       "      <td>Straight Talk</td>\n",
       "      <td>20955</td>\n",
       "      <td>dolly parton</td>\n",
       "      <td>1859</td>\n",
       "      <td>country</td>\n",
       "      <td>1</td>\n",
       "      <td>[Chorus]\\nGimme some straight talk, straight t...</td>\n",
       "      <td>gimme some straight talk straight talk and hol...</td>\n",
       "      <td>[a, about, all, alone, alright, am, america, a...</td>\n",
       "      <td>129</td>\n",
       "      <td>gimm some straight talk straight talk and hold...</td>\n",
       "      <td>a about all alon alright am america an and ans...</td>\n",
       "      <td>rap</td>\n",
       "      <td>country-rap</td>\n",
       "    </tr>\n",
       "  </tbody>\n",
       "</table>\n",
       "</div>"
      ],
      "text/plain": [
       "                                                   line  song_id  \\\n",
       "690   [Verse 1]\\nI should've known by the way you pa...   144193   \n",
       "656   Splish Splash, I was takin' a bath\\nLong about...  1728080   \n",
       "1411  [Chorus]\\nGimme some straight talk, straight t...   208250   \n",
       "\n",
       "          song_name  artist_id       artist_name  characters    genre  \\\n",
       "690         Undo It      21014  carrie underwood        1962  country   \n",
       "656   Splish Splash     223639     conway twitty        1274  country   \n",
       "1411  Straight Talk      20955      dolly parton        1859  country   \n",
       "\n",
       "     genre_index                                      original_line  \\\n",
       "690            1  [Verse 1]\\nI should've known by the way you pa...   \n",
       "656            1  Splish Splash, I was takin' a bath\\nLong about...   \n",
       "1411           1  [Chorus]\\nGimme some straight talk, straight t...   \n",
       "\n",
       "                                               line_pre  \\\n",
       "690   i should have known by the way you passed me b...   \n",
       "656   splish splash i was taking a bath long about a...   \n",
       "1411  gimme some straight talk straight talk and hol...   \n",
       "\n",
       "                                           unique_words  num_unique_words  \\\n",
       "690   [a, all, always, am, and, are, back, be, befor...               107   \n",
       "656   [a, about, agroovin, agroovinwoo, all, alright...               107   \n",
       "1411  [a, about, all, alone, alright, am, america, a...               129   \n",
       "\n",
       "                                             line_stems  \\\n",
       "690   i should have known by the way you pass me by ...   \n",
       "656   splish splash i was take a bath long about a s...   \n",
       "1411  gimm some straight talk straight talk and hold...   \n",
       "\n",
       "                                           unique_stems preds_svm  \\\n",
       "690   a all alway am and are back be befor blame ble...       rap   \n",
       "656   a about agroovin agroovinwoo all alright amov ...       rap   \n",
       "1411  a about all alon alright am america an and ans...       rap   \n",
       "\n",
       "     misclass_combo  \n",
       "690     country-rap  \n",
       "656     country-rap  \n",
       "1411    country-rap  "
      ]
     },
     "execution_count": 65,
     "metadata": {},
     "output_type": "execute_result"
    }
   ],
   "source": [
    "misclasses_svm[misclasses_svm.misclass_combo=='country-rap']"
   ]
  },
  {
   "cell_type": "code",
   "execution_count": 66,
   "metadata": {
    "code_folding": []
   },
   "outputs": [
    {
     "name": "stdout",
     "output_type": "stream",
     "text": [
      "Accuracy (Support Vector Machine): 0.7524 (+/- 0.03)\n"
     ]
    }
   ],
   "source": [
    "# 用完整的資料re-train模型\n",
    "full_text_svm = Pipeline([('vect', TfidfVectorizer(ngram_range=(1,2))), ('svm', SGDClassifier(loss='hinge', penalty='l2', alpha=1e-4, random_state=123))])\n",
    "full_text_svm = full_text_svm.fit(lyrics2.line, lyrics2.genre)\n",
    "cross_val_score_full_svm = cross_val_score(estimator=full_text_svm, X=train.line, y=train.genre, cv=10)\n",
    "print(\"Accuracy (%s): %0.4f (+/- %0.2f)\" % (method, cross_val_score_full_svm.mean(), cross_val_score_full_svm.std() * 2))"
   ]
  },
  {
   "cell_type": "markdown",
   "metadata": {
    "heading_collapsed": true
   },
   "source": [
    "# Classifier - k-Nearest Neighbors"
   ]
  },
  {
   "cell_type": "code",
   "execution_count": 67,
   "metadata": {
    "hidden": true
   },
   "outputs": [
    {
     "name": "stdout",
     "output_type": "stream",
     "text": [
      "Accuracy (kNN): 0.5290 (+/- 0.03)\n"
     ]
    }
   ],
   "source": [
    "# kNN model\n",
    "method = 'kNN'\n",
    "text_knn = Pipeline([('vect', CountVectorizer()), ('knn', KNeighborsClassifier(n_neighbors=14))])\n",
    "text_knn = text_knn.fit(train.line_stems, train.genre)\n",
    "cross_val_score_knn = cross_val_score(estimator=text_knn, X=train.line, y=train.genre, cv=10)\n",
    "print(\"Accuracy (%s): %0.4f (+/- %0.2f)\" % (method, cross_val_score_knn.mean(), cross_val_score_knn.std() * 2))"
   ]
  },
  {
   "cell_type": "code",
   "execution_count": 68,
   "metadata": {
    "hidden": true,
    "scrolled": true
   },
   "outputs": [
    {
     "name": "stdout",
     "output_type": "stream",
     "text": [
      "0.5542590431738623\n",
      "              precision    recall  f1-score   support\n",
      "\n",
      "     country       0.38      0.41      0.39       296\n",
      "  metal/rock       0.53      0.83      0.65       595\n",
      "         pop       0.77      0.18      0.29       231\n",
      "         rap       0.93      0.70      0.80       303\n",
      "        soul       0.47      0.28      0.35       289\n",
      "\n",
      "    accuracy                           0.55      1714\n",
      "   macro avg       0.61      0.48      0.50      1714\n",
      "weighted avg       0.60      0.55      0.53      1714\n",
      "\n"
     ]
    },
    {
     "data": {
      "text/html": [
       "<div>\n",
       "<style scoped>\n",
       "    .dataframe tbody tr th:only-of-type {\n",
       "        vertical-align: middle;\n",
       "    }\n",
       "\n",
       "    .dataframe tbody tr th {\n",
       "        vertical-align: top;\n",
       "    }\n",
       "\n",
       "    .dataframe thead th {\n",
       "        text-align: right;\n",
       "    }\n",
       "</style>\n",
       "<table border=\"1\" class=\"dataframe\">\n",
       "  <thead>\n",
       "    <tr style=\"text-align: right;\">\n",
       "      <th>genre</th>\n",
       "      <th>country</th>\n",
       "      <th>metal/rock</th>\n",
       "      <th>pop</th>\n",
       "      <th>rap</th>\n",
       "      <th>soul</th>\n",
       "    </tr>\n",
       "    <tr>\n",
       "      <th>row_0</th>\n",
       "      <th></th>\n",
       "      <th></th>\n",
       "      <th></th>\n",
       "      <th></th>\n",
       "      <th></th>\n",
       "    </tr>\n",
       "  </thead>\n",
       "  <tbody>\n",
       "    <tr>\n",
       "      <th>country</th>\n",
       "      <td>122</td>\n",
       "      <td>73</td>\n",
       "      <td>42</td>\n",
       "      <td>17</td>\n",
       "      <td>71</td>\n",
       "    </tr>\n",
       "    <tr>\n",
       "      <th>metal/rock</th>\n",
       "      <td>160</td>\n",
       "      <td>494</td>\n",
       "      <td>89</td>\n",
       "      <td>59</td>\n",
       "      <td>133</td>\n",
       "    </tr>\n",
       "    <tr>\n",
       "      <th>pop</th>\n",
       "      <td>0</td>\n",
       "      <td>0</td>\n",
       "      <td>41</td>\n",
       "      <td>8</td>\n",
       "      <td>4</td>\n",
       "    </tr>\n",
       "    <tr>\n",
       "      <th>rap</th>\n",
       "      <td>0</td>\n",
       "      <td>0</td>\n",
       "      <td>15</td>\n",
       "      <td>213</td>\n",
       "      <td>1</td>\n",
       "    </tr>\n",
       "    <tr>\n",
       "      <th>soul</th>\n",
       "      <td>14</td>\n",
       "      <td>28</td>\n",
       "      <td>44</td>\n",
       "      <td>6</td>\n",
       "      <td>80</td>\n",
       "    </tr>\n",
       "  </tbody>\n",
       "</table>\n",
       "</div>"
      ],
      "text/plain": [
       "genre       country  metal/rock  pop  rap  soul\n",
       "row_0                                          \n",
       "country         122          73   42   17    71\n",
       "metal/rock      160         494   89   59   133\n",
       "pop               0           0   41    8     4\n",
       "rap               0           0   15  213     1\n",
       "soul             14          28   44    6    80"
      ]
     },
     "execution_count": 68,
     "metadata": {},
     "output_type": "execute_result"
    }
   ],
   "source": [
    "# kNN test results\n",
    "print(text_knn.score(y=test.genre, X=test.line_stems))\n",
    "preds_knn = text_knn.predict(test.line_stems)\n",
    "print(classification_report(y_pred=preds_knn, y_true=test.genre))\n",
    "pd.crosstab(preds_knn, test.genre)"
   ]
  },
  {
   "cell_type": "code",
   "execution_count": 69,
   "metadata": {
    "hidden": true,
    "scrolled": true
   },
   "outputs": [
    {
     "data": {
      "image/png": "[encoded data removed]",
      "text/plain": [
       "<Figure size 480x320 with 2 Axes>"
      ]
     },
     "metadata": {
      "needs_background": "light"
     },
     "output_type": "display_data"
    },
    {
     "data": {
      "image/png": "[encoded data removed]",
      "text/plain": [
       "<Figure size 480x320 with 2 Axes>"
      ]
     },
     "metadata": {
      "needs_background": "light"
     },
     "output_type": "display_data"
    }
   ],
   "source": [
    "# 繪製混淆矩陣\n",
    "titles_options = [(\"Confusion matrix, without normalization\", False),(\"Normalized confusion matrix\", True)]\n",
    "for title, normalize in titles_options:\n",
    "    cnf_matrix_knn = confusion_matrix(test.genre, preds_knn)\n",
    "    disp = plot_confusion_matrix(cm=cnf_matrix_knn, classes=lst_genre_type, title=title,\n",
    "                                 cmap=plt.cm.YlGnBu,normalize=normalize)"
   ]
  },
  {
   "cell_type": "code",
   "execution_count": 70,
   "metadata": {
    "hidden": true
   },
   "outputs": [],
   "source": [
    "# 儲存模型\n",
    "with open('model/knn.pickle', 'wb') as f:\n",
    "    pickle.dump(text_knn, f)"
   ]
  },
  {
   "cell_type": "markdown",
   "metadata": {
    "heading_collapsed": true
   },
   "source": [
    "# Classifier - AdaBoost"
   ]
  },
  {
   "cell_type": "code",
   "execution_count": 71,
   "metadata": {
    "code_folding": [],
    "hidden": true,
    "scrolled": true
   },
   "outputs": [
    {
     "name": "stdout",
     "output_type": "stream",
     "text": [
      "Accuracy (AdaBoost): 0.5737 (+/- 0.04)\n"
     ]
    }
   ],
   "source": [
    "# AdaBoost model \n",
    "method = 'AdaBoost'\n",
    "text_ada = Pipeline([('vect', CountVectorizer()), ('ada', AdaBoostClassifier(DecisionTreeClassifier(max_depth=1),n_estimators=200))])\n",
    "text_ada.fit(train.line_stems, train.genre)\n",
    "cross_val_score_ada = cross_val_score(estimator=text_ada, X=train.line, y=train.genre, cv=10)\n",
    "print(\"Accuracy (%s): %0.4f (+/- %0.2f)\" % (method, cross_val_score_ada.mean(), cross_val_score_ada.std() * 2))"
   ]
  },
  {
   "cell_type": "code",
   "execution_count": 72,
   "metadata": {
    "hidden": true,
    "scrolled": true
   },
   "outputs": [
    {
     "name": "stdout",
     "output_type": "stream",
     "text": [
      "0.5431738623103851\n",
      "              precision    recall  f1-score   support\n",
      "\n",
      "     country       0.46      0.32      0.38       296\n",
      "  metal/rock       0.53      0.61      0.56       595\n",
      "         pop       0.53      0.42      0.47       231\n",
      "         rap       0.90      0.91      0.91       303\n",
      "        soul       0.30      0.35      0.32       289\n",
      "\n",
      "    accuracy                           0.54      1714\n",
      "   macro avg       0.55      0.52      0.53      1714\n",
      "weighted avg       0.54      0.54      0.54      1714\n",
      "\n"
     ]
    },
    {
     "data": {
      "text/html": [
       "<div>\n",
       "<style scoped>\n",
       "    .dataframe tbody tr th:only-of-type {\n",
       "        vertical-align: middle;\n",
       "    }\n",
       "\n",
       "    .dataframe tbody tr th {\n",
       "        vertical-align: top;\n",
       "    }\n",
       "\n",
       "    .dataframe thead th {\n",
       "        text-align: right;\n",
       "    }\n",
       "</style>\n",
       "<table border=\"1\" class=\"dataframe\">\n",
       "  <thead>\n",
       "    <tr style=\"text-align: right;\">\n",
       "      <th>genre</th>\n",
       "      <th>country</th>\n",
       "      <th>metal/rock</th>\n",
       "      <th>pop</th>\n",
       "      <th>rap</th>\n",
       "      <th>soul</th>\n",
       "    </tr>\n",
       "    <tr>\n",
       "      <th>row_0</th>\n",
       "      <th></th>\n",
       "      <th></th>\n",
       "      <th></th>\n",
       "      <th></th>\n",
       "      <th></th>\n",
       "    </tr>\n",
       "  </thead>\n",
       "  <tbody>\n",
       "    <tr>\n",
       "      <th>country</th>\n",
       "      <td>95</td>\n",
       "      <td>60</td>\n",
       "      <td>18</td>\n",
       "      <td>2</td>\n",
       "      <td>32</td>\n",
       "    </tr>\n",
       "    <tr>\n",
       "      <th>metal/rock</th>\n",
       "      <td>122</td>\n",
       "      <td>363</td>\n",
       "      <td>69</td>\n",
       "      <td>8</td>\n",
       "      <td>128</td>\n",
       "    </tr>\n",
       "    <tr>\n",
       "      <th>pop</th>\n",
       "      <td>15</td>\n",
       "      <td>26</td>\n",
       "      <td>97</td>\n",
       "      <td>15</td>\n",
       "      <td>29</td>\n",
       "    </tr>\n",
       "    <tr>\n",
       "      <th>rap</th>\n",
       "      <td>0</td>\n",
       "      <td>13</td>\n",
       "      <td>16</td>\n",
       "      <td>276</td>\n",
       "      <td>0</td>\n",
       "    </tr>\n",
       "    <tr>\n",
       "      <th>soul</th>\n",
       "      <td>64</td>\n",
       "      <td>133</td>\n",
       "      <td>31</td>\n",
       "      <td>2</td>\n",
       "      <td>100</td>\n",
       "    </tr>\n",
       "  </tbody>\n",
       "</table>\n",
       "</div>"
      ],
      "text/plain": [
       "genre       country  metal/rock  pop  rap  soul\n",
       "row_0                                          \n",
       "country          95          60   18    2    32\n",
       "metal/rock      122         363   69    8   128\n",
       "pop              15          26   97   15    29\n",
       "rap               0          13   16  276     0\n",
       "soul             64         133   31    2   100"
      ]
     },
     "execution_count": 72,
     "metadata": {},
     "output_type": "execute_result"
    }
   ],
   "source": [
    "# Ada test results\n",
    "print(text_ada.score(y=test.genre, X=test.line_stems))\n",
    "preds_ada = text_ada.predict(test.line_stems)\n",
    "print(classification_report(y_pred=preds_ada, y_true=test.genre))\n",
    "pd.crosstab(preds_ada, test.genre)"
   ]
  },
  {
   "cell_type": "code",
   "execution_count": 73,
   "metadata": {
    "hidden": true,
    "scrolled": true
   },
   "outputs": [
    {
     "data": {
      "image/png": "[encoded data removed]",
      "text/plain": [
       "<Figure size 480x320 with 2 Axes>"
      ]
     },
     "metadata": {
      "needs_background": "light"
     },
     "output_type": "display_data"
    },
    {
     "data": {
      "image/png": "[encoded data removed]",
      "text/plain": [
       "<Figure size 480x320 with 2 Axes>"
      ]
     },
     "metadata": {
      "needs_background": "light"
     },
     "output_type": "display_data"
    }
   ],
   "source": [
    "# 繪製混淆矩陣\n",
    "titles_options = [(\"Confusion matrix, without normalization\", False),(\"Normalized confusion matrix\", True)]\n",
    "for title, normalize in titles_options:\n",
    "    cnf_matrix_ada = confusion_matrix(test.genre, preds_ada)\n",
    "    disp = plot_confusion_matrix(cm=cnf_matrix_ada, classes=lst_genre_type, title=title,\n",
    "                                 cmap=plt.cm.YlGnBu,normalize=normalize)"
   ]
  },
  {
   "cell_type": "code",
   "execution_count": 74,
   "metadata": {
    "hidden": true
   },
   "outputs": [],
   "source": [
    "# 儲存模型\n",
    "with open('model/ada.pickle', 'wb') as f:\n",
    "    pickle.dump(text_ada, f)"
   ]
  },
  {
   "cell_type": "markdown",
   "metadata": {
    "heading_collapsed": true
   },
   "source": [
    "# Classifier - XGBoost"
   ]
  },
  {
   "cell_type": "code",
   "execution_count": 79,
   "metadata": {
    "hidden": true
   },
   "outputs": [],
   "source": [
    "# XGB model with k-fold CV\n",
    "method = 'XGBoost'\n",
    "vect = TfidfVectorizer(ngram_range=(1,2))\n",
    "vect.fit_transform(train.line_stems)\n",
    "vect_train = vect.transform(pd.Series(train.line_stems))\n",
    "vect_test = vect.transform(pd.Series(test.line_stems))\n",
    "text_xgb = XGBClassifier(learning_rate=0.25, subsample=0.8, gamma=1, random_state=123, max_depth=4, max_delta_step=1).fit(vect_train, train.genre)"
   ]
  },
  {
   "cell_type": "code",
   "execution_count": 80,
   "metadata": {
    "collapsed": true,
    "hidden": true
   },
   "outputs": [
    {
     "name": "stdout",
     "output_type": "stream",
     "text": [
      "0.7532088681446908\n",
      "              precision    recall  f1-score   support\n",
      "\n",
      "     country       0.72      0.62      0.67       296\n",
      "  metal/rock       0.71      0.86      0.78       595\n",
      "         pop       0.74      0.53      0.62       231\n",
      "         rap       0.96      0.95      0.96       303\n",
      "        soul       0.68      0.64      0.66       289\n",
      "\n",
      "    accuracy                           0.75      1714\n",
      "   macro avg       0.76      0.72      0.74      1714\n",
      "weighted avg       0.76      0.75      0.75      1714\n",
      "\n"
     ]
    },
    {
     "data": {
      "text/html": [
       "<div>\n",
       "<style scoped>\n",
       "    .dataframe tbody tr th:only-of-type {\n",
       "        vertical-align: middle;\n",
       "    }\n",
       "\n",
       "    .dataframe tbody tr th {\n",
       "        vertical-align: top;\n",
       "    }\n",
       "\n",
       "    .dataframe thead th {\n",
       "        text-align: right;\n",
       "    }\n",
       "</style>\n",
       "<table border=\"1\" class=\"dataframe\">\n",
       "  <thead>\n",
       "    <tr style=\"text-align: right;\">\n",
       "      <th>genre</th>\n",
       "      <th>country</th>\n",
       "      <th>metal/rock</th>\n",
       "      <th>pop</th>\n",
       "      <th>rap</th>\n",
       "      <th>soul</th>\n",
       "    </tr>\n",
       "    <tr>\n",
       "      <th>row_0</th>\n",
       "      <th></th>\n",
       "      <th></th>\n",
       "      <th></th>\n",
       "      <th></th>\n",
       "      <th></th>\n",
       "    </tr>\n",
       "  </thead>\n",
       "  <tbody>\n",
       "    <tr>\n",
       "      <th>country</th>\n",
       "      <td>184</td>\n",
       "      <td>31</td>\n",
       "      <td>11</td>\n",
       "      <td>5</td>\n",
       "      <td>25</td>\n",
       "    </tr>\n",
       "    <tr>\n",
       "      <th>metal/rock</th>\n",
       "      <td>85</td>\n",
       "      <td>512</td>\n",
       "      <td>63</td>\n",
       "      <td>4</td>\n",
       "      <td>59</td>\n",
       "    </tr>\n",
       "    <tr>\n",
       "      <th>pop</th>\n",
       "      <td>6</td>\n",
       "      <td>11</td>\n",
       "      <td>122</td>\n",
       "      <td>6</td>\n",
       "      <td>19</td>\n",
       "    </tr>\n",
       "    <tr>\n",
       "      <th>rap</th>\n",
       "      <td>0</td>\n",
       "      <td>1</td>\n",
       "      <td>10</td>\n",
       "      <td>287</td>\n",
       "      <td>0</td>\n",
       "    </tr>\n",
       "    <tr>\n",
       "      <th>soul</th>\n",
       "      <td>21</td>\n",
       "      <td>40</td>\n",
       "      <td>25</td>\n",
       "      <td>1</td>\n",
       "      <td>186</td>\n",
       "    </tr>\n",
       "  </tbody>\n",
       "</table>\n",
       "</div>"
      ],
      "text/plain": [
       "genre       country  metal/rock  pop  rap  soul\n",
       "row_0                                          \n",
       "country         184          31   11    5    25\n",
       "metal/rock       85         512   63    4    59\n",
       "pop               6          11  122    6    19\n",
       "rap               0           1   10  287     0\n",
       "soul             21          40   25    1   186"
      ]
     },
     "execution_count": 80,
     "metadata": {},
     "output_type": "execute_result"
    }
   ],
   "source": [
    "# XGB test results\n",
    "print(text_xgb.score(y=test.genre, X=vect_test))\n",
    "preds_xgb = text_xgb.predict(vect_test)\n",
    "print(classification_report(y_pred=preds_xgb, y_true=test.genre))\n",
    "pd.crosstab(text_xgb.predict(vect_test), test.genre)"
   ]
  },
  {
   "cell_type": "code",
   "execution_count": 81,
   "metadata": {
    "hidden": true
   },
   "outputs": [
    {
     "data": {
      "image/png": "[encoded data removed]",
      "text/plain": [
       "<Figure size 480x320 with 2 Axes>"
      ]
     },
     "metadata": {
      "needs_background": "light"
     },
     "output_type": "display_data"
    },
    {
     "data": {
      "image/png": "[encoded data removed]",
      "text/plain": [
       "<Figure size 480x320 with 2 Axes>"
      ]
     },
     "metadata": {
      "needs_background": "light"
     },
     "output_type": "display_data"
    }
   ],
   "source": [
    "# 繪製混淆矩陣\n",
    "titles_options = [(\"Confusion matrix, without normalization\", False),(\"Normalized confusion matrix\", True)]\n",
    "for title, normalize in titles_options:\n",
    "    cnf_matrix_xgb = confusion_matrix(test.genre, preds_xgb)\n",
    "    disp = plot_confusion_matrix(cm=cnf_matrix_xgb, classes=lst_genre_type, title=title,\n",
    "                                 cmap=plt.cm.YlGnBu,normalize=normalize)"
   ]
  },
  {
   "cell_type": "code",
   "execution_count": 82,
   "metadata": {
    "hidden": true
   },
   "outputs": [],
   "source": [
    "# 儲存模型\n",
    "with open('model/xgb.pickle', 'wb') as f:\n",
    "    pickle.dump(text_xgb, f)"
   ]
  },
  {
   "cell_type": "code",
   "execution_count": 83,
   "metadata": {
    "hidden": true
   },
   "outputs": [],
   "source": [
    "# 歌曲被XGB錯誤分類\n",
    "test['preds_xgb'] = preds_xgb\n",
    "misclasses_xgb = test[test.preds_xgb != test.genre]\n",
    "misclasses_xgb['misclass_combo'] = misclasses_xgb.apply(lambda x: x['genre']+'-'+x['preds_xgb'], axis=1)"
   ]
  },
  {
   "cell_type": "code",
   "execution_count": 84,
   "metadata": {
    "hidden": true
   },
   "outputs": [
    {
     "data": {
      "text/plain": [
       "country-metal/rock    85\n",
       "pop-metal/rock        63\n",
       "soul-metal/rock       59\n",
       "metal/rock-soul       40\n",
       "metal/rock-country    31\n",
       "pop-soul              25\n",
       "soul-country          25\n",
       "country-soul          21\n",
       "soul-pop              19\n",
       "metal/rock-pop        11\n",
       "pop-country           11\n",
       "pop-rap               10\n",
       "rap-pop                6\n",
       "country-pop            6\n",
       "rap-country            5\n",
       "rap-metal/rock         4\n",
       "rap-soul               1\n",
       "metal/rock-rap         1\n",
       "Name: misclass_combo, dtype: int64"
      ]
     },
     "execution_count": 84,
     "metadata": {},
     "output_type": "execute_result"
    }
   ],
   "source": [
    "misclasses_xgb.misclass_combo.value_counts()"
   ]
  },
  {
   "cell_type": "code",
   "execution_count": 85,
   "metadata": {
    "hidden": true
   },
   "outputs": [
    {
     "data": {
      "text/html": [
       "<div>\n",
       "<style scoped>\n",
       "    .dataframe tbody tr th:only-of-type {\n",
       "        vertical-align: middle;\n",
       "    }\n",
       "\n",
       "    .dataframe tbody tr th {\n",
       "        vertical-align: top;\n",
       "    }\n",
       "\n",
       "    .dataframe thead th {\n",
       "        text-align: right;\n",
       "    }\n",
       "</style>\n",
       "<table border=\"1\" class=\"dataframe\">\n",
       "  <thead>\n",
       "    <tr style=\"text-align: right;\">\n",
       "      <th></th>\n",
       "      <th>line</th>\n",
       "      <th>song_id</th>\n",
       "      <th>song_name</th>\n",
       "      <th>artist_id</th>\n",
       "      <th>artist_name</th>\n",
       "      <th>characters</th>\n",
       "      <th>genre</th>\n",
       "      <th>genre_index</th>\n",
       "      <th>original_line</th>\n",
       "      <th>line_pre</th>\n",
       "      <th>unique_words</th>\n",
       "      <th>num_unique_words</th>\n",
       "      <th>line_stems</th>\n",
       "      <th>unique_stems</th>\n",
       "      <th>preds_svm</th>\n",
       "      <th>preds_xgb</th>\n",
       "      <th>misclass_combo</th>\n",
       "    </tr>\n",
       "  </thead>\n",
       "  <tbody>\n",
       "    <tr>\n",
       "      <th>6810</th>\n",
       "      <td>[Chorus 1]\\nThis time, I came to get mine\\nI s...</td>\n",
       "      <td>338348</td>\n",
       "      <td>Liquid Diet</td>\n",
       "      <td>424</td>\n",
       "      <td>papa roach</td>\n",
       "      <td>1689</td>\n",
       "      <td>metal/rock</td>\n",
       "      <td>2</td>\n",
       "      <td>[Chorus 1]\\nThis time, I came to get mine\\nI s...</td>\n",
       "      <td>this time i came to get mine i saw this cat ru...</td>\n",
       "      <td>[a, about, absurd, abused, am, and, as, back, ...</td>\n",
       "      <td>174</td>\n",
       "      <td>this time i came to get mine i saw this cat ru...</td>\n",
       "      <td>a about absurd abus am and as back bag bang be...</td>\n",
       "      <td>rap</td>\n",
       "      <td>rap</td>\n",
       "      <td>metal/rock-rap</td>\n",
       "    </tr>\n",
       "  </tbody>\n",
       "</table>\n",
       "</div>"
      ],
      "text/plain": [
       "                                                   line  song_id    song_name  \\\n",
       "6810  [Chorus 1]\\nThis time, I came to get mine\\nI s...   338348  Liquid Diet   \n",
       "\n",
       "      artist_id artist_name  characters       genre genre_index  \\\n",
       "6810        424  papa roach        1689  metal/rock           2   \n",
       "\n",
       "                                          original_line  \\\n",
       "6810  [Chorus 1]\\nThis time, I came to get mine\\nI s...   \n",
       "\n",
       "                                               line_pre  \\\n",
       "6810  this time i came to get mine i saw this cat ru...   \n",
       "\n",
       "                                           unique_words  num_unique_words  \\\n",
       "6810  [a, about, absurd, abused, am, and, as, back, ...               174   \n",
       "\n",
       "                                             line_stems  \\\n",
       "6810  this time i came to get mine i saw this cat ru...   \n",
       "\n",
       "                                           unique_stems preds_svm preds_xgb  \\\n",
       "6810  a about absurd abus am and as back bag bang be...       rap       rap   \n",
       "\n",
       "      misclass_combo  \n",
       "6810  metal/rock-rap  "
      ]
     },
     "execution_count": 85,
     "metadata": {},
     "output_type": "execute_result"
    }
   ],
   "source": [
    "misclasses_xgb[misclasses_xgb.misclass_combo=='metal/rock-rap'].sort_values('artist_name')"
   ]
  },
  {
   "cell_type": "markdown",
   "metadata": {},
   "source": [
    "# Classifier - Neural Network"
   ]
  },
  {
   "cell_type": "code",
   "execution_count": 75,
   "metadata": {},
   "outputs": [
    {
     "name": "stdout",
     "output_type": "stream",
     "text": [
      "Accuracy (Neural Network): 0.7222 (+/- 0.04)\n"
     ]
    }
   ],
   "source": [
    "# Neural Network model \n",
    "method = 'Neural Network' # ('vect', TfidfVectorizer(ngram_range=(1,2)))\n",
    "text_nn = Pipeline([('vect', CountVectorizer()), ('nn', MLPClassifier(hidden_layer_sizes=(100, ), activation='relu', solver='adam', \n",
    "                                                 alpha=0.0001, batch_size='auto', learning_rate_init=0.001, power_t=0.5, max_iter=100))])\n",
    "text_nn.fit(train.line_stems, train.genre)\n",
    "cross_val_score_nn = cross_val_score(estimator=text_nn, X=train.line, y=train.genre, cv=10)\n",
    "print(\"Accuracy (%s): %0.4f (+/- %0.2f)\" % (method, cross_val_score_nn.mean(), cross_val_score_nn.std() * 2))"
   ]
  },
  {
   "cell_type": "code",
   "execution_count": 76,
   "metadata": {
    "scrolled": true
   },
   "outputs": [
    {
     "name": "stdout",
     "output_type": "stream",
     "text": [
      "0.7228704784130688\n",
      "              precision    recall  f1-score   support\n",
      "\n",
      "     country       0.59      0.65      0.62       296\n",
      "  metal/rock       0.77      0.78      0.78       595\n",
      "         pop       0.60      0.52      0.56       231\n",
      "         rap       0.95      0.87      0.91       303\n",
      "        soul       0.64      0.68      0.66       289\n",
      "\n",
      "    accuracy                           0.72      1714\n",
      "   macro avg       0.71      0.70      0.70      1714\n",
      "weighted avg       0.73      0.72      0.72      1714\n",
      "\n"
     ]
    },
    {
     "data": {
      "text/html": [
       "<div>\n",
       "<style scoped>\n",
       "    .dataframe tbody tr th:only-of-type {\n",
       "        vertical-align: middle;\n",
       "    }\n",
       "\n",
       "    .dataframe tbody tr th {\n",
       "        vertical-align: top;\n",
       "    }\n",
       "\n",
       "    .dataframe thead th {\n",
       "        text-align: right;\n",
       "    }\n",
       "</style>\n",
       "<table border=\"1\" class=\"dataframe\">\n",
       "  <thead>\n",
       "    <tr style=\"text-align: right;\">\n",
       "      <th>genre</th>\n",
       "      <th>country</th>\n",
       "      <th>metal/rock</th>\n",
       "      <th>pop</th>\n",
       "      <th>rap</th>\n",
       "      <th>soul</th>\n",
       "    </tr>\n",
       "    <tr>\n",
       "      <th>row_0</th>\n",
       "      <th></th>\n",
       "      <th></th>\n",
       "      <th></th>\n",
       "      <th></th>\n",
       "      <th></th>\n",
       "    </tr>\n",
       "  </thead>\n",
       "  <tbody>\n",
       "    <tr>\n",
       "      <th>country</th>\n",
       "      <td>192</td>\n",
       "      <td>52</td>\n",
       "      <td>33</td>\n",
       "      <td>10</td>\n",
       "      <td>40</td>\n",
       "    </tr>\n",
       "    <tr>\n",
       "      <th>metal/rock</th>\n",
       "      <td>47</td>\n",
       "      <td>466</td>\n",
       "      <td>43</td>\n",
       "      <td>14</td>\n",
       "      <td>35</td>\n",
       "    </tr>\n",
       "    <tr>\n",
       "      <th>pop</th>\n",
       "      <td>13</td>\n",
       "      <td>35</td>\n",
       "      <td>121</td>\n",
       "      <td>14</td>\n",
       "      <td>17</td>\n",
       "    </tr>\n",
       "    <tr>\n",
       "      <th>rap</th>\n",
       "      <td>1</td>\n",
       "      <td>4</td>\n",
       "      <td>8</td>\n",
       "      <td>264</td>\n",
       "      <td>1</td>\n",
       "    </tr>\n",
       "    <tr>\n",
       "      <th>soul</th>\n",
       "      <td>43</td>\n",
       "      <td>38</td>\n",
       "      <td>26</td>\n",
       "      <td>1</td>\n",
       "      <td>196</td>\n",
       "    </tr>\n",
       "  </tbody>\n",
       "</table>\n",
       "</div>"
      ],
      "text/plain": [
       "genre       country  metal/rock  pop  rap  soul\n",
       "row_0                                          \n",
       "country         192          52   33   10    40\n",
       "metal/rock       47         466   43   14    35\n",
       "pop              13          35  121   14    17\n",
       "rap               1           4    8  264     1\n",
       "soul             43          38   26    1   196"
      ]
     },
     "execution_count": 76,
     "metadata": {},
     "output_type": "execute_result"
    }
   ],
   "source": [
    "# NN test results\n",
    "print(text_nn.score(y=test.genre, X=test.line_stems))\n",
    "preds_nn = text_nn.predict(test.line_stems)\n",
    "print(classification_report(y_pred=preds_nn, y_true=test.genre))\n",
    "pd.crosstab(preds_nn, test.genre)"
   ]
  },
  {
   "cell_type": "code",
   "execution_count": 77,
   "metadata": {
    "scrolled": true
   },
   "outputs": [
    {
     "data": {
      "image/png": "[encoded data removed]",
      "text/plain": [
       "<Figure size 480x320 with 2 Axes>"
      ]
     },
     "metadata": {
      "needs_background": "light"
     },
     "output_type": "display_data"
    },
    {
     "data": {
      "image/png": "[encoded data removed]",
      "text/plain": [
       "<Figure size 480x320 with 2 Axes>"
      ]
     },
     "metadata": {
      "needs_background": "light"
     },
     "output_type": "display_data"
    }
   ],
   "source": [
    "# 繪製混淆矩陣\n",
    "titles_options = [(\"Confusion matrix, without normalization\", False),(\"Normalized confusion matrix\", True)]\n",
    "for title, normalize in titles_options:\n",
    "    cnf_matrix_nn = confusion_matrix(test.genre, preds_nn)\n",
    "    disp = plot_confusion_matrix(cm=cnf_matrix_nn, classes=lst_genre_type, title=title,\n",
    "                                 cmap=plt.cm.YlGnBu,normalize=normalize)"
   ]
  },
  {
   "cell_type": "code",
   "execution_count": 78,
   "metadata": {},
   "outputs": [],
   "source": [
    "# 儲存模型\n",
    "with open('model/nn.pickle', 'wb') as f:\n",
    "    pickle.dump(text_nn, f)"
   ]
  },
  {
   "cell_type": "markdown",
   "metadata": {},
   "source": [
    "# Predict new text - SVM"
   ]
  },
  {
   "cell_type": "code",
   "execution_count": 92,
   "metadata": {},
   "outputs": [],
   "source": [
    "# Process and predict genre of text (SVM)\n",
    "def svmLyricClassifier(text):\n",
    "    text = preprocessText(text)\n",
    "    text = ' '.join([stemmer.stem(word) for word in text.split(' ')])\n",
    "    print(full_text_svm.predict([text]))"
   ]
  },
  {
   "cell_type": "code",
   "execution_count": 93,
   "metadata": {
    "code_folding": [
     0
    ]
   },
   "outputs": [
    {
     "name": "stdout",
     "output_type": "stream",
     "text": [
      "['country']\n"
     ]
    }
   ],
   "source": [
    "# Zac Brown Band - Chicken Fried\n",
    "svmLyricClassifier(\n",
    "'''\n",
    "Well I was raised up beneath the shade of a Georgia Pine\n",
    "And that's home you know\n",
    "Sweet tea, pecan pie, and homemade wine where the peaches grow\n",
    "And my house it's not much to talk about\n",
    "But it's filled with love that's grown in southern ground\n",
    "''')"
   ]
  },
  {
   "cell_type": "code",
   "execution_count": 94,
   "metadata": {
    "code_folding": [
     0
    ]
   },
   "outputs": [
    {
     "name": "stdout",
     "output_type": "stream",
     "text": [
      "['metal/rock']\n"
     ]
    }
   ],
   "source": [
    "# Nickelback - Photograph\n",
    "svmLyricClassifier(\n",
    "'''\n",
    "Look at this photograph\n",
    "Every time I do, it makes me laugh\n",
    "How did our eyes get so red?\n",
    "And what the hell is on Joey's head?\n",
    "And this is where I grew up\n",
    "I think the present owner fixed it up\n",
    "I never knew we ever went without\n",
    "The second floor is hard for sneaking out\n",
    "''')"
   ]
  },
  {
   "cell_type": "code",
   "execution_count": 95,
   "metadata": {
    "code_folding": [
     0
    ]
   },
   "outputs": [
    {
     "name": "stdout",
     "output_type": "stream",
     "text": [
      "['pop']\n"
     ]
    }
   ],
   "source": [
    "# One Direction - What Makes You Beautiful\n",
    "svmLyricClassifier(\n",
    "'''\n",
    "Baby, you light up my world like nobody else\n",
    "The way that you flip your hair gets me overwhelmed\n",
    "But when you smile at the ground, it ain't hard to tell\n",
    "You don't know, oh, oh, you don't know you're beautiful\n",
    "If only you saw what I can see\n",
    "You'll understand why I want you so desperately\n",
    "Right now I'm looking at you and I can't believe\n",
    "You don't know, you don't know you're beautiful\n",
    "That's what makes you beautiful\n",
    "''')"
   ]
  },
  {
   "cell_type": "code",
   "execution_count": 96,
   "metadata": {
    "code_folding": [
     0
    ]
   },
   "outputs": [
    {
     "name": "stdout",
     "output_type": "stream",
     "text": [
      "['rap']\n"
     ]
    }
   ],
   "source": [
    "# Wu-Tang Clan - C.R.E.A.M.\n",
    "svmLyricClassifier(\n",
    "'''\n",
    "I grew up on the crime side, the New York Times side\n",
    "Stayin' alive was no jive\n",
    "Had secondhands, Mom's bounced on old man\n",
    "So then we moved to Shaolin land\n",
    "A young youth, yo, rockin' the gold tooth, 'Lo goose\n",
    "Only way I be gettin' the G off was drug loot\n",
    "And let's start it like this, son\n",
    "Rollin' with this one and that one\n",
    "Pullin' out gats for fun\n",
    "''')"
   ]
  },
  {
   "cell_type": "code",
   "execution_count": 97,
   "metadata": {
    "code_folding": [
     0
    ]
   },
   "outputs": [
    {
     "name": "stdout",
     "output_type": "stream",
     "text": [
      "['soul']\n"
     ]
    }
   ],
   "source": [
    "# Patti LaBelle - My Friend\n",
    "svmLyricClassifier(\n",
    "'''\n",
    "The thought of you helps me carry on\n",
    "When I feel all hope is gone\n",
    "I see the world wit brand new eyes\n",
    "Your love has made me realize\n",
    "My future looks bright to me\n",
    "Oh because you are my friend\n",
    "I've been looking around and you were here all the time\n",
    "I've been around and around and around and around\n",
    "I've been looking around and you were here all the time\n",
    "''')"
   ]
  },
  {
   "cell_type": "code",
   "execution_count": 98,
   "metadata": {
    "code_folding": [
     0
    ]
   },
   "outputs": [
    {
     "name": "stdout",
     "output_type": "stream",
     "text": [
      "['rap']\n"
     ]
    }
   ],
   "source": [
    "# Trippie Redd - Poles1469\n",
    "svmLyricClassifier('''\n",
    "Scum Gang!\n",
    "I'm toting big shit (big shit)\n",
    "Get your wig split (wig split)\n",
    "4-5, I call that the big bitch (big stick)\n",
    "We don't miss shit (miss shit)\n",
    "Get your ribs hit (limbs hit)\n",
    "Hollow tip, hit you with a cross hit (yeaaah)\n",
    "Big drum on the gun, that's a pump with a red beam\n",
    "Catch him in the bed while he sleep, that's a wet dream\n",
    "(That's a wet dream)\n",
    "Close range headshots, fuck where the vest be\n",
    "Put a hole in his head, he a dolphin (you a dolphin)\n",
    "Pull up to the block, you don’t want it (that's that dummy shit)\n",
    "Pull up with the Glock, you won't want it (brrrah!, stoopid)\n",
    "Scum Gang, bitch, we on it, you don't want it (ooh, ooh)\n",
    "1400, bitch, you know I tote a pole\n",
    "With 6ix9ine, bitch, you know we tote them poles\n",
    "Tote a pole, tote a pole, tote a pole\n",
    "You talk down, we gon' let that shit go (grrrat!)\n",
    "Let it blow, let it blow, let it blow (let that bitch go)\n",
    "Got the scope, got the scope, got the scope\n",
    ".223's and I put 'em to your nose (to your nose)\n",
    "Let it go, bitch, we let that shit go\n",
    "''')"
   ]
  },
  {
   "cell_type": "code",
   "execution_count": 101,
   "metadata": {},
   "outputs": [
    {
     "name": "stdout",
     "output_type": "stream",
     "text": [
      "['pop']\n"
     ]
    }
   ],
   "source": [
    "svmLyricClassifier(\n",
    "'''\n",
    "\n",
    "''')"
   ]
  },
  {
   "cell_type": "markdown",
   "metadata": {},
   "source": [
    "# Predict new text - XGB"
   ]
  },
  {
   "cell_type": "code",
   "execution_count": 99,
   "metadata": {},
   "outputs": [],
   "source": [
    "# Process and predict genre of text (XGB)\n",
    "def xgbLyricClassifier(text):\n",
    "    text = preprocessText(text)\n",
    "    text = ' '.join([stemmer.stem(word) for word in text.split(' ')])\n",
    "    text = vect.transform(pd.Series(text))\n",
    "    return(text_xgb.predict(text))"
   ]
  },
  {
   "cell_type": "code",
   "execution_count": 100,
   "metadata": {
    "code_folding": [
     0
    ]
   },
   "outputs": [
    {
     "data": {
      "text/plain": [
       "array(['metal/rock'], dtype=object)"
      ]
     },
     "execution_count": 100,
     "metadata": {},
     "output_type": "execute_result"
    }
   ],
   "source": [
    "# Trippie Redd - Poles1469\n",
    "xgbLyricClassifier('''\n",
    "Scum Gang!\n",
    "I'm toting big shit (big shit)\n",
    "Get your wig split (wig split)\n",
    "4-5, I call that the big bitch (big stick)\n",
    "We don't miss shit (miss shit)\n",
    "Get your ribs hit (limbs hit)\n",
    "Hollow tip, hit you with a cross hit (yeaaah)\n",
    "Big drum on the gun, that's a pump with a red beam\n",
    "Catch him in the bed while he sleep, that's a wet dream\n",
    "(That's a wet dream)\n",
    "Close range headshots, fuck where the vest be\n",
    "Put a hole in his head, he a dolphin (you a dolphin)\n",
    "Pull up to the block, you don’t want it (that's that dummy shit)\n",
    "Pull up with the Glock, you won't want it (brrrah!, stoopid)\n",
    "Scum Gang, bitch, we on it, you don't want it (ooh, ooh)\n",
    "1400, bitch, you know I tote a pole\n",
    "With 6ix9ine, bitch, you know we tote them poles\n",
    "Tote a pole, tote a pole, tote a pole\n",
    "You talk down, we gon' let that shit go (grrrat!)\n",
    "Let it blow, let it blow, let it blow (let that bitch go)\n",
    "Got the scope, got the scope, got the scope\n",
    ".223's and I put 'em to your nose (to your nose)\n",
    "Let it go, bitch, we let that shit go\n",
    "''')"
   ]
  },
  {
   "cell_type": "markdown",
   "metadata": {
    "heading_collapsed": true
   },
   "source": [
    "# Predict new text - Multinomial Naive Bayes"
   ]
  },
  {
   "cell_type": "code",
   "execution_count": 311,
   "metadata": {
    "hidden": true
   },
   "outputs": [],
   "source": [
    "def mnbLyricClassifier(text):\n",
    "    text = preprocessText(text)\n",
    "    text = ' '.join([stemmer.stem(word) for word in text.split(' ')])\n",
    "    print(text_mnb.predict([text]))"
   ]
  },
  {
   "cell_type": "code",
   "execution_count": 312,
   "metadata": {
    "code_folding": [
     0
    ],
    "hidden": true
   },
   "outputs": [
    {
     "name": "stdout",
     "output_type": "stream",
     "text": [
      "['metal/rock']\n"
     ]
    }
   ],
   "source": [
    "# Barbra Streisand - Woman In Love\n",
    "mnbLyricClassifier(\n",
    "'''\n",
    "life is a moment in space \n",
    "when the dream is gone \n",
    "it's a lonelier place \n",
    "i kiss the morning goodbye \n",
    "butdown inside \n",
    "you know we never know why \n",
    "the road is narrow and long \n",
    "when eyes meet eyes \n",
    "and the feeling is strong \n",
    "i turn away from the wall \n",
    "i stumble and fall \n",
    "but i give you it all \n",
    "i am a woman in love \n",
    "and i'd do anything \n",
    "to get you into my world \n",
    "and hold you within \n",
    "it's aright i defend \n",
    "overand overagain \n",
    "what do i do \n",
    "with you eternally mine \n",
    "in love there is \n",
    "nomeasure of time \n",
    "they planned it all at the start \n",
    "thatyou and i \n",
    "live in each other's heart \n",
    "we maybe oceans away \n",
    "you feel my love \n",
    "i hear what you say \n",
    "no truth is ever a lie \n",
    "i stumble and fall \n",
    "but i give you it all \n",
    "i am a woman in love \n",
    "and i'd do anything \n",
    "to get you into my world \n",
    "and hold you within \n",
    "it's aright i defend \n",
    "overand overagain \n",
    "what do i do \n",
    "i am a woman in love \n",
    "and i'm talkin' to you \n",
    "youiknow how you feel \n",
    "what a woman can do \n",
    "it's a right i defend \n",
    "overand overagain \n",
    "i am a woman in love \n",
    "and i'd do anything \n",
    "to get you into my world \n",
    "and hold you within \n",
    "it's a right i defend \n",
    "overand overagain \n",
    "''')"
   ]
  },
  {
   "cell_type": "code",
   "execution_count": null,
   "metadata": {
    "hidden": true
   },
   "outputs": [],
   "source": []
  }
 ],
 "metadata": {
  "kernelspec": {
   "display_name": "Python 3",
   "language": "python",
   "name": "python3"
  },
  "language_info": {
   "codemirror_mode": {
    "name": "ipython",
    "version": 3
   },
   "file_extension": ".py",
   "mimetype": "text/x-python",
   "name": "python",
   "nbconvert_exporter": "python",
   "pygments_lexer": "ipython3",
   "version": "3.6.5"
  }
 },
 "nbformat": 4,
 "nbformat_minor": 2
}
