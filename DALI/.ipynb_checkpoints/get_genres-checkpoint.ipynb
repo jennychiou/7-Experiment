{
 "cells": [
  {
   "cell_type": "code",
   "execution_count": 1,
   "metadata": {},
   "outputs": [],
   "source": [
    "import numpy as np\n",
    "import pandas as pd\n",
    "import json,re,csv, requests\n",
    "from bs4 import BeautifulSoup"
   ]
  },
  {
   "cell_type": "code",
   "execution_count": 2,
   "metadata": {},
   "outputs": [],
   "source": [
    "genres = {}"
   ]
  },
  {
   "cell_type": "markdown",
   "metadata": {},
   "source": [
    "# Rap"
   ]
  },
  {
   "cell_type": "code",
   "execution_count": 3,
   "metadata": {},
   "outputs": [],
   "source": [
    "# Ranker (Rap)\n",
    "url = 'https://www.ranker.com/crowdranked-list/the-greatest-rappers-of-all-time'\n",
    "response = requests.get(url)\n",
    "soup = BeautifulSoup(response.text, 'lxml')\n",
    "\n",
    "rappers_ranker_1 = []\n",
    "for artist in soup.findAll('meta', {'itemprop':'name'}):\n",
    "    if artist['content'] != 'The Greatest Rappers of All Time':\n",
    "        rappers_ranker_1.append(artist['content'].lower().strip())"
   ]
  },
  {
   "cell_type": "code",
   "execution_count": 4,
   "metadata": {},
   "outputs": [],
   "source": [
    "# Ranker 2 (Rap)\n",
    "url = 'https://www.ranker.com/list/best-hip-hop-artists-in-2018/ranker-music'\n",
    "response = requests.get(url)\n",
    "soup = BeautifulSoup(response.text, 'lxml')\n",
    "\n",
    "rappers_ranker_2 = []\n",
    "for artist in soup.findAll('meta', {'itemprop':'name'}):\n",
    "    if artist['content'] != 'The Best Rappers Of 2018, Ranked':\n",
    "        rappers_ranker_2.append(artist['content'].lower().strip())"
   ]
  },
  {
   "cell_type": "code",
   "execution_count": 5,
   "metadata": {},
   "outputs": [],
   "source": [
    "genres['rap'] = list(set(sorted(rappers_ranker_1 + rappers_ranker_2)))"
   ]
  },
  {
   "cell_type": "markdown",
   "metadata": {},
   "source": [
    "# Metal"
   ]
  },
  {
   "cell_type": "code",
   "execution_count": 6,
   "metadata": {
    "code_folding": [
     6,
     13
    ]
   },
   "outputs": [],
   "source": [
    "url = 'https://www.thetoptens.com/top-heavy-metal-bands/'\n",
    "response = requests.get(url)\n",
    "soup = BeautifulSoup(response.text, 'lxml')\n",
    "\n",
    "# Find all commenters\n",
    "commenters = []\n",
    "for commenter in soup.findAll('p'):\n",
    "    commenter_username = commenter.find('b')\n",
    "    if commenter_username:\n",
    "        commenters.append(commenter_username.get_text().lower().strip())\n",
    "\n",
    "# Toptens (Metal)\n",
    "metal_toptens = []\n",
    "for artist in soup.findAll('b')[1:]:\n",
    "    artist_name = artist.get_text().lower().strip()\n",
    "    if artist_name not in commenters:\n",
    "        if artist_name[0:3] != '1. ':\n",
    "            metal_toptens.append(artist_name)"
   ]
  },
  {
   "cell_type": "code",
   "execution_count": 7,
   "metadata": {},
   "outputs": [],
   "source": [
    "genres['metal'] = list(set(sorted(metal_toptens)))"
   ]
  },
  {
   "cell_type": "markdown",
   "metadata": {},
   "source": [
    "# Country"
   ]
  },
  {
   "cell_type": "code",
   "execution_count": 8,
   "metadata": {
    "code_folding": [
     6
    ]
   },
   "outputs": [],
   "source": [
    "# Ranker (Country)\n",
    "url = 'https://www.ranker.com/list/top-country-artists-of-all-time/samantha-dillinger'\n",
    "response = requests.get(url)\n",
    "soup = BeautifulSoup(response.text, 'lxml')\n",
    "\n",
    "country_ranker = []\n",
    "for artist in soup.findAll('meta', {'itemprop':'name'}):\n",
    "    if artist['content'] != 'The Top Country Artists of All Time':\n",
    "        country_ranker.append(artist['content'].lower().strip())"
   ]
  },
  {
   "cell_type": "code",
   "execution_count": 9,
   "metadata": {
    "code_folding": [
     6
    ]
   },
   "outputs": [],
   "source": [
    "# Ranker (Modern country)\n",
    "url = 'https://www.ranker.com/list/best-new-country-artists/ranker-music'\n",
    "response = requests.get(url)\n",
    "soup = BeautifulSoup(response.text, 'lxml')\n",
    "\n",
    "modern_country_ranker = []\n",
    "for artist in soup.findAll('meta', {'itemprop':'name'}):\n",
    "    if artist['content'] != 'The Best New Country Artists':\n",
    "        modern_country_ranker.append(artist['content'].lower().strip())"
   ]
  },
  {
   "cell_type": "code",
   "execution_count": 10,
   "metadata": {},
   "outputs": [],
   "source": [
    "genres['country'] = list(set(sorted(country_ranker + modern_country_ranker)))"
   ]
  },
  {
   "cell_type": "markdown",
   "metadata": {},
   "source": [
    "# Rock"
   ]
  },
  {
   "cell_type": "code",
   "execution_count": 11,
   "metadata": {
    "code_folding": [
     6
    ]
   },
   "outputs": [],
   "source": [
    "# Ranker (Rock)\n",
    "url = 'https://www.ranker.com/crowdranked-list/the-best-rock-bands-of-all-time'\n",
    "response = requests.get(url)\n",
    "soup = BeautifulSoup(response.text, 'lxml')\n",
    "\n",
    "rock_ranker = []\n",
    "for artist in soup.findAll('meta', {'itemprop':'name'}):\n",
    "    if artist['content'] != 'The Best Rock Bands of All Time':\n",
    "        rock_ranker.append(artist['content'].lower().strip())"
   ]
  },
  {
   "cell_type": "code",
   "execution_count": 12,
   "metadata": {
    "code_folding": [
     6
    ]
   },
   "outputs": [],
   "source": [
    "# Ranker (Modern Rock)\n",
    "url = 'https://www.ranker.com/list/modern-rock-bands-and-musicians/reference'\n",
    "response = requests.get(url)\n",
    "soup = BeautifulSoup(response.text, 'lxml')\n",
    "\n",
    "modern_rock_ranker = []\n",
    "for artist in soup.findAll('meta', {'itemprop':'name'}):\n",
    "    if artist['content'] != 'The Best Modern Rock Bands/Artists':\n",
    "        modern_rock_ranker.append(artist['content'].lower().strip())"
   ]
  },
  {
   "cell_type": "code",
   "execution_count": 13,
   "metadata": {},
   "outputs": [],
   "source": [
    "# Ranker (Indie Rock)\n",
    "url = 'https://www.ranker.com/list/indie-bands-and-artists/reference'\n",
    "response = requests.get(url)\n",
    "soup = BeautifulSoup(response.text, 'lxml')\n",
    "\n",
    "indie_ranker = []\n",
    "for artist in soup.findAll('meta', {'itemprop':'name'}):\n",
    "    if artist['content'] != 'The Best Indie Bands & Artists':\n",
    "        indie_ranker.append(artist['content'].lower().strip())"
   ]
  },
  {
   "cell_type": "code",
   "execution_count": 14,
   "metadata": {},
   "outputs": [],
   "source": [
    "genres['rock'] = list(set(sorted(rock_ranker + modern_rock_ranker + indie_ranker)))"
   ]
  },
  {
   "cell_type": "markdown",
   "metadata": {},
   "source": [
    "# Pop"
   ]
  },
  {
   "cell_type": "code",
   "execution_count": 15,
   "metadata": {
    "code_folding": [
     6
    ]
   },
   "outputs": [],
   "source": [
    "# Billboard (Pop)\n",
    "url = 'https://www.billboard.com/charts/greatest-of-all-time-pop-songs-artists'\n",
    "response = requests.get(url)\n",
    "soup = BeautifulSoup(response.text, 'lxml')\n",
    "\n",
    "pop_billboard = []\n",
    "for artist in soup.findAll('a', {'href':re.compile('/music/')}):\n",
    "    artist = artist.get_text().replace('\\n', '')\n",
    "    pop_billboard.append(artist.lower().strip())"
   ]
  },
  {
   "cell_type": "code",
   "execution_count": 16,
   "metadata": {},
   "outputs": [],
   "source": [
    "genres['pop'] = list(set(sorted(pop_billboard)))"
   ]
  },
  {
   "cell_type": "markdown",
   "metadata": {},
   "source": [
    "# Soul"
   ]
  },
  {
   "cell_type": "code",
   "execution_count": 17,
   "metadata": {},
   "outputs": [],
   "source": [
    "# Ranker (Soul)\n",
    "url = 'https://www.ranker.com/list/soul-music-bands-and-musicians/reference'\n",
    "response = requests.get(url)\n",
    "soup = BeautifulSoup(response.text, 'lxml')\n",
    "\n",
    "soul_ranker = []\n",
    "for artist in soup.findAll('meta', {'itemprop':'name'}):\n",
    "    if artist['content'] != 'The Best Soul Singers/Groups of All Time':\n",
    "        soul_ranker.append(artist['content'].lower().strip())"
   ]
  },
  {
   "cell_type": "code",
   "execution_count": 18,
   "metadata": {},
   "outputs": [],
   "source": [
    "genres['soul'] = list(set(sorted(soul_ranker)))"
   ]
  },
  {
   "cell_type": "markdown",
   "metadata": {},
   "source": [
    "# Remove duplicates"
   ]
  },
  {
   "cell_type": "code",
   "execution_count": 20,
   "metadata": {},
   "outputs": [],
   "source": [
    "# Country & pop (becomes pop)\n",
    "genres['country'] = sorted([artist for artist in genres['country'] if artist not in genres['pop']])\n",
    "\n",
    "# Country & rock (becomes rock)\n",
    "genres['country'] = sorted([artist for artist in genres['country'] if artist not in genres['rock']])\n",
    "\n",
    "# Metal & rock (becomes metal)\n",
    "genres['rock'] = sorted([artist for artist in genres['rock'] if artist not in genres['metal']])\n",
    "\n",
    "# Pop & rock (becomes pop)\n",
    "genres['rock'] = sorted([artist for artist in genres['rock'] if artist not in genres['pop']])\n",
    "\n",
    "# Pop & rap (becomes rap)\n",
    "genres['pop'] = sorted([artist for artist in genres['pop'] if artist not in genres['rap']])"
   ]
  },
  {
   "cell_type": "markdown",
   "metadata": {},
   "source": [
    "# Convert genres dictionary to json"
   ]
  },
  {
   "cell_type": "code",
   "execution_count": 24,
   "metadata": {},
   "outputs": [],
   "source": [
    "json_genres = json.dumps(genres, indent=4, sort_keys=True)\n",
    "file = open('D:/Anaconda3/Scripts/7 實驗進度/DALI/example/dataset/json_genres.json', 'w')\n",
    "file.write(json_genres)\n",
    "file.close()"
   ]
  },
  {
   "cell_type": "markdown",
   "metadata": {},
   "source": [
    "# lyrics_classifier"
   ]
  },
  {
   "cell_type": "code",
   "execution_count": 38,
   "metadata": {},
   "outputs": [],
   "source": [
    "# Import dependencies\n",
    "import numpy as np\n",
    "import pandas as pd\n",
    "pd.options.mode.chained_assignment = None\n",
    "\n",
    "from nltk import word_tokenize\n",
    "from nltk.corpus import stopwords\n",
    "from nltk.stem.snowball import EnglishStemmer\n",
    "from nltk.tokenize import sent_tokenize, word_tokenize\n",
    "\n",
    "import json, re, string, warnings, nltk\n",
    "warnings.filterwarnings(\"ignore\", category=DeprecationWarning)\n",
    "warnings.simplefilter(action='ignore', category=FutureWarning)\n",
    "\n",
    "from sklearn.multiclass import OneVsRestClassifier\n",
    "from sklearn.model_selection import cross_val_score, train_test_split\n",
    "from sklearn.feature_extraction.text import CountVectorizer, TfidfVectorizer \n",
    "from sklearn.linear_model import SGDClassifier\n",
    "from sklearn.metrics import classification_report\n",
    "from sklearn.model_selection import GridSearchCV\n",
    "from sklearn.naive_bayes import MultinomialNB\n",
    "from sklearn.pipeline import Pipeline\n",
    "\n",
    "from xgboost import XGBClassifier"
   ]
  },
  {
   "cell_type": "code",
   "execution_count": 29,
   "metadata": {},
   "outputs": [],
   "source": [
    "# Read lyrics data\n",
    "lyrics = pd.read_csv('D:/Anaconda3/Scripts/7 實驗進度/DALI/example/dataset/lyrics.csv', encoding='unicode_escape')\n",
    "lyrics['artist_name'] = lyrics.apply(lambda x: x['artist_name'].lower(), axis=1)\n",
    "lyrics['original_line'] = lyrics['line']"
   ]
  },
  {
   "cell_type": "markdown",
   "metadata": {},
   "source": [
    "# Remove misclassified artists"
   ]
  },
  {
   "cell_type": "code",
   "execution_count": 30,
   "metadata": {},
   "outputs": [],
   "source": [
    "# Import genre artist lists\n",
    "file = open('D:/Anaconda3/Scripts/7 實驗進度/DALI/example/dataset/json_genres.json')\n",
    "genres = json.load(file)\n",
    "file.close()"
   ]
  },
  {
   "cell_type": "code",
   "execution_count": 31,
   "metadata": {},
   "outputs": [],
   "source": [
    "# Check whether artists in a given genre are (potentially) misclassified\n",
    "def artistCheck(genre):\n",
    "    misclasses = []\n",
    "    artists = lyrics[lyrics.genre==genre].artist_name.unique()\n",
    "    for artist in artists:\n",
    "        if artist not in genres[genre]:\n",
    "            misclasses.append(artist)\n",
    "    return(misclasses)"
   ]
  },
  {
   "cell_type": "code",
   "execution_count": 32,
   "metadata": {
    "collapsed": true
   },
   "outputs": [
    {
     "data": {
      "text/plain": [
       "{'country': ['kalie shorr',\n",
       "  'shania twain',\n",
       "  'dustin lynch',\n",
       "  'faith hill',\n",
       "  'john denver',\n",
       "  'tyler, the creator',\n",
       "  'keith whitley',\n",
       "  'aaron watson',\n",
       "  'maggie rose',\n",
       "  'toby keith',\n",
       "  'jerry reed',\n",
       "  'carrie underwood',\n",
       "  'jillian jacqueline',\n",
       "  'delta rae',\n",
       "  'tim mcgraw',\n",
       "  'the oak ridge boys',\n",
       "  'taylor acorn',\n",
       "  'george jones & tammy wynette',\n",
       "  'blake shelton',\n",
       "  'ben gallaher',\n",
       "  'hank williams jr.'],\n",
       " 'metal': ['queensrÿche',\n",
       "  'trivium',\n",
       "  'a$ap rocky',\n",
       "  'killswitch engage',\n",
       "  'godsmack',\n",
       "  'testament',\n",
       "  'dokken',\n",
       "  'korn',\n",
       "  'motörhead',\n",
       "  'tool',\n",
       "  \"guns n' roses\"],\n",
       " 'pop': ['andrea bocelli & céline dion', 'drake'],\n",
       " 'rap': ['lauryn hill',\n",
       "  'ghostface killah',\n",
       "  'big l',\n",
       "  'tyler, the creator',\n",
       "  'a$ap rocky',\n",
       "  'trippie redd',\n",
       "  'tech n9ne',\n",
       "  'rich the kid',\n",
       "  'nate dogg',\n",
       "  'll cool j',\n",
       "  'dmx',\n",
       "  '2 chainz',\n",
       "  'mac miller',\n",
       "  'slick rick',\n",
       "  'jay-z',\n",
       "  'method man',\n",
       "  'royce da 5\\x929\\x94',\n",
       "  'ludacris',\n",
       "  't.i.',\n",
       "  'wiz khalifa',\n",
       "  'j.i.d',\n",
       "  'tee grizzley',\n",
       "  'redman',\n",
       "  'the game'],\n",
       " 'rock': ['mgmt',\n",
       "  'the doors',\n",
       "  'phoenix',\n",
       "  'the clash',\n",
       "  'portugal. the man',\n",
       "  'florence + the machine',\n",
       "  'pearl jam',\n",
       "  'staind',\n",
       "  'hieroglyphics',\n",
       "  'cream',\n",
       "  'journey',\n",
       "  'ramones',\n",
       "  'regina spektor',\n",
       "  'wild belle',\n",
       "  'papa roach',\n",
       "  'foals',\n",
       "  'rush',\n",
       "  'the allman brothers band',\n",
       "  'fozzy'],\n",
       " 'soul': ['sam smith',\n",
       "  'lionel richie',\n",
       "  'bobby womack',\n",
       "  'the drifters',\n",
       "  'the miracles',\n",
       "  'sir sly',\n",
       "  'nina simone',\n",
       "  'four tops',\n",
       "  'telly',\n",
       "  'commodores',\n",
       "  'teddy pendergrass',\n",
       "  'ben e. king',\n",
       "  'prince ea',\n",
       "  'david ruffin',\n",
       "  'percy sledge',\n",
       "  'the spinners',\n",
       "  'the chi-lites',\n",
       "  'the jackson 5',\n",
       "  'ike & tina turner',\n",
       "  'mary wells',\n",
       "  'the stylistics']}"
      ]
     },
     "execution_count": 32,
     "metadata": {},
     "output_type": "execute_result"
    }
   ],
   "source": [
    "# Collect misclassified artists of every genre\n",
    "misclass_dict = {}\n",
    "for genre in lyrics.genre.unique():\n",
    "    misclass_dict[genre] = artistCheck(genre)\n",
    "misclass_dict"
   ]
  },
  {
   "cell_type": "code",
   "execution_count": 33,
   "metadata": {},
   "outputs": [],
   "source": [
    "# Remove all actual misclasses\n",
    "lyrics = lyrics[~((lyrics.genre=='country') & (lyrics.artist_name=='tyler, the creator'))]\n",
    "lyrics = lyrics[~((lyrics.genre=='metal') & (lyrics.artist_name=='a$ap rocky'))]\n",
    "lyrics = lyrics[~((lyrics.genre=='pop') & (lyrics.artist_name=='drake'))]\n",
    "lyrics = lyrics[~((lyrics.genre=='rock') & (lyrics.artist_name=='hieroglyphics'))]\n",
    "lyrics = lyrics[~((lyrics.genre=='rock') & (lyrics.artist_name=='wild belle'))]\n",
    "lyrics = lyrics[~((lyrics.genre=='soul') & (lyrics.artist_name=='prince ea'))]\n",
    "lyrics = lyrics[~((lyrics.genre=='soul') & (lyrics.artist_name=='sam smith'))]\n",
    "lyrics = lyrics[~((lyrics.genre=='soul') & (lyrics.artist_name=='sir sly'))]\n",
    "lyrics = lyrics[~((lyrics.genre=='soul') & (lyrics.artist_name=='telly'))]\n",
    "lyrics = lyrics.reset_index(drop=True)"
   ]
  },
  {
   "cell_type": "code",
   "execution_count": 34,
   "metadata": {},
   "outputs": [],
   "source": [
    "# Remove artists that \"blur the line\" b/t genres [manual decision]\n",
    "removes_country = []\n",
    "removes_metal = []\n",
    "removes_pop = ['chris brown', 'nickelback', 'sheryl crow', 'taylor swift', 'matchbox twenty']\n",
    "removes_rap = []\n",
    "removes_rock = []\n",
    "removes_soul = []\n",
    "removes = removes_country + removes_metal + removes_pop + removes_rap + removes_rock + removes_soul\n",
    "\n",
    "lyrics = lyrics[~lyrics.artist_name.isin(removes)]"
   ]
  },
  {
   "cell_type": "markdown",
   "metadata": {},
   "source": [
    "# Text preprocessing"
   ]
  },
  {
   "cell_type": "code",
   "execution_count": 35,
   "metadata": {
    "code_folding": [
     1
    ]
   },
   "outputs": [],
   "source": [
    "# Process text for classification modeling\n",
    "def preprocessText(text, remove_stops=False):\n",
    "    \n",
    "    # Remove everything between hard brackets\n",
    "    text = re.sub(pattern=\"\\[.+?\\]( )?\", repl='', string=text)\n",
    "\n",
    "    # Change \"walkin'\" to \"walking\", for example\n",
    "    text = re.sub(pattern=\"n\\\\\\' \", repl='ng ', string=text)\n",
    "\n",
    "    # Remove x4 and (x4), for example\n",
    "    text = re.sub(pattern=\"(\\()?x\\d+(\\))?\", repl=' ', string=text)\n",
    "\n",
    "    # Fix apostrophe issues\n",
    "    text = re.sub(pattern=\"\\\\x91\", repl=\"'\", string=text)\n",
    "    text = re.sub(pattern=\"\\\\x92\", repl=\"'\", string=text)\n",
    "    text = re.sub(pattern=\"<u\\+0092>\", repl=\"'\", string=text)\n",
    "    \n",
    "    # Make lowercase\n",
    "    text = text.lower()\n",
    "    \n",
    "    # Special cases/words\n",
    "    text = re.sub(pattern=\"'til\", repl=\"til\", string=text)\n",
    "    text = re.sub(pattern=\"'til\", repl=\"til\", string=text)\n",
    "    text = re.sub(pattern=\"gon'\", repl=\"gon\", string=text)\n",
    "\n",
    "    # Remove \\n from beginning\n",
    "    text = re.sub(pattern='^\\n', repl='', string=text)\n",
    "\n",
    "    # Strip , ! ?, : and remaining \\n from lyrics\n",
    "    text = ''.join([char.strip(\",!?:\") for char in text])\n",
    "    text = text.replace('\\n', ' ')\n",
    "\n",
    "    # Remove contractions\n",
    "    # specific\n",
    "    text = re.sub(r\"won't\", \"will not\", text)\n",
    "    text = re.sub(r\"won\\’t\", \"will not\", text)\n",
    "    text = re.sub(r\"can't\", \"can not\", text)\n",
    "    text = re.sub(r\"can\\’t\", \"can not\", text)\n",
    "    text = re.sub(r\"let's\", \"let us\", text)\n",
    "    text = re.sub(r\"let\\’s\", \"let us\", text)\n",
    "    text = re.sub(r\"ain't\", \"aint\", text)\n",
    "    text = re.sub(r\"ain\\’t\", \"aint\", text)\n",
    "\n",
    "    # general\n",
    "    text = re.sub(r\"n\\'t\", \" not\", text)\n",
    "    text = re.sub(r\"\\'re\", \" are\", text)\n",
    "    text = re.sub(r\"\\'s\", \" is\", text)\n",
    "    text = re.sub(r\"\\'d\", \" would\", text)\n",
    "    text = re.sub(r\"\\'ll\", \" will\", text)\n",
    "    text = re.sub(r\"\\'t\", \" not\", text)\n",
    "    text = re.sub(r\"\\'ve\", \" have\", text)\n",
    "    text = re.sub(r\"\\'m\", \" am\", text)\n",
    "    text = re.sub(r\"n\\’t\", \" not\", text)\n",
    "    text = re.sub(r\"\\’re\", \" are\", text)\n",
    "    text = re.sub(r\"\\’s\", \" is\", text)\n",
    "    text = re.sub(r\"\\’d\", \" would\", text)\n",
    "    text = re.sub(r\"\\’ll\", \" will\", text)\n",
    "    text = re.sub(r\"\\’t\", \" not\", text)\n",
    "    text = re.sub(r\"\\’ve\", \" have\", text)\n",
    "    text = re.sub(r\"\\’m\", \" am\", text)\n",
    "\n",
    "    # Remove remaining punctuation\n",
    "    punc = string.punctuation\n",
    "    text = ''.join([char for char in text if char not in punc])\n",
    "\n",
    "    # Remove stopwords\n",
    "    if remove_stops:\n",
    "        stops = stopwords.words('english')\n",
    "        text = ' '.join([word for word in text.split(' ') if word not in stops])\n",
    "    \n",
    "    # Remove double spaces and beginning/trailing whitespace\n",
    "    text = re.sub(pattern='( ){2,}', repl=' ', string=text)\n",
    "    text = text.strip()\n",
    "    \n",
    "    return(text)"
   ]
  },
  {
   "cell_type": "code",
   "execution_count": 36,
   "metadata": {},
   "outputs": [],
   "source": [
    "lyrics['line'] = lyrics.apply(lambda x: preprocessText(x['line']), axis=1)"
   ]
  },
  {
   "cell_type": "code",
   "execution_count": 41,
   "metadata": {
    "collapsed": true
   },
   "outputs": [
    {
     "data": {
      "text/html": [
       "<div>\n",
       "<style scoped>\n",
       "    .dataframe tbody tr th:only-of-type {\n",
       "        vertical-align: middle;\n",
       "    }\n",
       "\n",
       "    .dataframe tbody tr th {\n",
       "        vertical-align: top;\n",
       "    }\n",
       "\n",
       "    .dataframe thead th {\n",
       "        text-align: right;\n",
       "    }\n",
       "</style>\n",
       "<table border=\"1\" class=\"dataframe\">\n",
       "  <thead>\n",
       "    <tr style=\"text-align: right;\">\n",
       "      <th></th>\n",
       "      <th>line</th>\n",
       "      <th>song_id</th>\n",
       "      <th>song_name</th>\n",
       "      <th>artist_id</th>\n",
       "      <th>artist_name</th>\n",
       "      <th>characters</th>\n",
       "      <th>genre</th>\n",
       "      <th>original_line</th>\n",
       "      <th>line_stems</th>\n",
       "    </tr>\n",
       "  </thead>\n",
       "  <tbody>\n",
       "    <tr>\n",
       "      <th>0</th>\n",
       "      <td>i poured your johnnie walker blue right down t...</td>\n",
       "      <td>2429721</td>\n",
       "      <td>I Need You</td>\n",
       "      <td>643585</td>\n",
       "      <td>kalie shorr</td>\n",
       "      <td>1881</td>\n",
       "      <td>country</td>\n",
       "      <td>I poured your Johnnie Walker Blue right down t...</td>\n",
       "      <td>i pour your johnni walker blue right down the ...</td>\n",
       "    </tr>\n",
       "    <tr>\n",
       "      <th>1</th>\n",
       "      <td>his mama thinks he is an angel follows the sav...</td>\n",
       "      <td>2429715</td>\n",
       "      <td>God Sees Everything</td>\n",
       "      <td>643585</td>\n",
       "      <td>kalie shorr</td>\n",
       "      <td>1287</td>\n",
       "      <td>country</td>\n",
       "      <td>His mama thinks hes an angel\\nFollows the Sav...</td>\n",
       "      <td>his mama think he is an angel follow the savio...</td>\n",
       "    </tr>\n",
       "    <tr>\n",
       "      <th>2</th>\n",
       "      <td>i am just trying to catch a buzz minding my ow...</td>\n",
       "      <td>2429717</td>\n",
       "      <td>Throwin' Shade</td>\n",
       "      <td>643585</td>\n",
       "      <td>kalie shorr</td>\n",
       "      <td>1305</td>\n",
       "      <td>country</td>\n",
       "      <td>I'm just trying to catch a buzz\\nMindin' my ow...</td>\n",
       "      <td>i am just tri to catch a buzz mind my own litt...</td>\n",
       "    </tr>\n",
       "    <tr>\n",
       "      <th>3</th>\n",
       "      <td>sun is always gonna set in the west lipsticks ...</td>\n",
       "      <td>3019461</td>\n",
       "      <td>Nothin New</td>\n",
       "      <td>643585</td>\n",
       "      <td>kalie shorr</td>\n",
       "      <td>1892</td>\n",
       "      <td>country</td>\n",
       "      <td>[Verse 1]\\nSun's always gonna set in the west\\...</td>\n",
       "      <td>sun is alway gonna set in the west lipstick an...</td>\n",
       "    </tr>\n",
       "    <tr>\n",
       "      <th>4</th>\n",
       "      <td>kill the engine turn the headlights off drive ...</td>\n",
       "      <td>2429718</td>\n",
       "      <td>Young &amp; Restless</td>\n",
       "      <td>643585</td>\n",
       "      <td>kalie shorr</td>\n",
       "      <td>2046</td>\n",
       "      <td>country</td>\n",
       "      <td>Kill the engine, turn the headlights off\\nDriv...</td>\n",
       "      <td>kill the engin turn the headlight off drive aw...</td>\n",
       "    </tr>\n",
       "    <tr>\n",
       "      <th>...</th>\n",
       "      <td>...</td>\n",
       "      <td>...</td>\n",
       "      <td>...</td>\n",
       "      <td>...</td>\n",
       "      <td>...</td>\n",
       "      <td>...</td>\n",
       "      <td>...</td>\n",
       "      <td>...</td>\n",
       "      <td>...</td>\n",
       "    </tr>\n",
       "    <tr>\n",
       "      <th>8862</th>\n",
       "      <td>got myself an angel straight from the heavens ...</td>\n",
       "      <td>1618057</td>\n",
       "      <td>I Got Heaven Right Here on Earth</td>\n",
       "      <td>1664</td>\n",
       "      <td>the temptations</td>\n",
       "      <td>1788</td>\n",
       "      <td>soul</td>\n",
       "      <td>Got myself an angel\\nStraight from the heavens...</td>\n",
       "      <td>got myself an angel straight from the heaven a...</td>\n",
       "    </tr>\n",
       "    <tr>\n",
       "      <th>8863</th>\n",
       "      <td>baby our love was strong yesterday now you wat...</td>\n",
       "      <td>3832684</td>\n",
       "      <td>Why Did You Leave Me Darling</td>\n",
       "      <td>1664</td>\n",
       "      <td>the temptations</td>\n",
       "      <td>1063</td>\n",
       "      <td>soul</td>\n",
       "      <td>Baby, our love was strong yesterday\\n(Now you ...</td>\n",
       "      <td>babi our love was strong yesterday now you wat...</td>\n",
       "    </tr>\n",
       "    <tr>\n",
       "      <th>8864</th>\n",
       "      <td>your eyes tell a story such a sad story of the...</td>\n",
       "      <td>3129527</td>\n",
       "      <td>Ain't No Justice</td>\n",
       "      <td>1664</td>\n",
       "      <td>the temptations</td>\n",
       "      <td>1098</td>\n",
       "      <td>soul</td>\n",
       "      <td>Your eyes tell a story, such a sad story\\nOf t...</td>\n",
       "      <td>your eye tell a stori such a sad stori of the ...</td>\n",
       "    </tr>\n",
       "    <tr>\n",
       "      <th>8865</th>\n",
       "      <td>guess it is true i am not good at a onenight s...</td>\n",
       "      <td>3705373</td>\n",
       "      <td>Stay With Me</td>\n",
       "      <td>1664</td>\n",
       "      <td>the temptations</td>\n",
       "      <td>1167</td>\n",
       "      <td>soul</td>\n",
       "      <td>[Verse 1]\\nGuess it's true, I'm not good at a ...</td>\n",
       "      <td>guess it is true i am not good at a onenight s...</td>\n",
       "    </tr>\n",
       "    <tr>\n",
       "      <th>8866</th>\n",
       "      <td>mother nature go on and take your course and a...</td>\n",
       "      <td>3655226</td>\n",
       "      <td>Mother Nature [Stereo Promo Version]</td>\n",
       "      <td>1664</td>\n",
       "      <td>the temptations</td>\n",
       "      <td>826</td>\n",
       "      <td>soul</td>\n",
       "      <td>Mother Nature\\nGo on and take your course\\nAnd...</td>\n",
       "      <td>mother natur go on and take your cours and ata...</td>\n",
       "    </tr>\n",
       "  </tbody>\n",
       "</table>\n",
       "<p>8569 rows × 9 columns</p>\n",
       "</div>"
      ],
      "text/plain": [
       "                                                   line  song_id  \\\n",
       "0     i poured your johnnie walker blue right down t...  2429721   \n",
       "1     his mama thinks he is an angel follows the sav...  2429715   \n",
       "2     i am just trying to catch a buzz minding my ow...  2429717   \n",
       "3     sun is always gonna set in the west lipsticks ...  3019461   \n",
       "4     kill the engine turn the headlights off drive ...  2429718   \n",
       "...                                                 ...      ...   \n",
       "8862  got myself an angel straight from the heavens ...  1618057   \n",
       "8863  baby our love was strong yesterday now you wat...  3832684   \n",
       "8864  your eyes tell a story such a sad story of the...  3129527   \n",
       "8865  guess it is true i am not good at a onenight s...  3705373   \n",
       "8866  mother nature go on and take your course and a...  3655226   \n",
       "\n",
       "                                 song_name  artist_id      artist_name  \\\n",
       "0                               I Need You     643585      kalie shorr   \n",
       "1                      God Sees Everything     643585      kalie shorr   \n",
       "2                           Throwin' Shade     643585      kalie shorr   \n",
       "3                               Nothin New     643585      kalie shorr   \n",
       "4                         Young & Restless     643585      kalie shorr   \n",
       "...                                    ...        ...              ...   \n",
       "8862      I Got Heaven Right Here on Earth       1664  the temptations   \n",
       "8863          Why Did You Leave Me Darling       1664  the temptations   \n",
       "8864                      Ain't No Justice       1664  the temptations   \n",
       "8865                          Stay With Me       1664  the temptations   \n",
       "8866  Mother Nature [Stereo Promo Version]       1664  the temptations   \n",
       "\n",
       "      characters    genre                                      original_line  \\\n",
       "0           1881  country  I poured your Johnnie Walker Blue right down t...   \n",
       "1           1287  country  His mama thinks hes an angel\\nFollows the Sav...   \n",
       "2           1305  country  I'm just trying to catch a buzz\\nMindin' my ow...   \n",
       "3           1892  country  [Verse 1]\\nSun's always gonna set in the west\\...   \n",
       "4           2046  country  Kill the engine, turn the headlights off\\nDriv...   \n",
       "...          ...      ...                                                ...   \n",
       "8862        1788     soul  Got myself an angel\\nStraight from the heavens...   \n",
       "8863        1063     soul  Baby, our love was strong yesterday\\n(Now you ...   \n",
       "8864        1098     soul  Your eyes tell a story, such a sad story\\nOf t...   \n",
       "8865        1167     soul  [Verse 1]\\nGuess it's true, I'm not good at a ...   \n",
       "8866         826     soul  Mother Nature\\nGo on and take your course\\nAnd...   \n",
       "\n",
       "                                             line_stems  \n",
       "0     i pour your johnni walker blue right down the ...  \n",
       "1     his mama think he is an angel follow the savio...  \n",
       "2     i am just tri to catch a buzz mind my own litt...  \n",
       "3     sun is alway gonna set in the west lipstick an...  \n",
       "4     kill the engin turn the headlight off drive aw...  \n",
       "...                                                 ...  \n",
       "8862  got myself an angel straight from the heaven a...  \n",
       "8863  babi our love was strong yesterday now you wat...  \n",
       "8864  your eye tell a stori such a sad stori of the ...  \n",
       "8865  guess it is true i am not good at a onenight s...  \n",
       "8866  mother natur go on and take your cours and ata...  \n",
       "\n",
       "[8569 rows x 9 columns]"
      ]
     },
     "execution_count": 41,
     "metadata": {},
     "output_type": "execute_result"
    }
   ],
   "source": [
    "lyrics"
   ]
  },
  {
   "cell_type": "markdown",
   "metadata": {},
   "source": [
    "# Stem words"
   ]
  },
  {
   "cell_type": "code",
   "execution_count": 42,
   "metadata": {},
   "outputs": [],
   "source": [
    "stemmer = EnglishStemmer()\n",
    "lyrics['line_stems'] = lyrics.apply(lambda x: ' '.join([stemmer.stem(word) for word in x['line'].split(' ')]), axis=1)\n",
    "#lyrics['unique_stems'] = lyrics.apply(lambda x: ' '.join([stemmer.stem(word) for word in x['unique_words']]), axis=1)"
   ]
  },
  {
   "cell_type": "markdown",
   "metadata": {},
   "source": [
    "# Genre Classifier Models"
   ]
  },
  {
   "cell_type": "code",
   "execution_count": 43,
   "metadata": {},
   "outputs": [],
   "source": [
    "# Combine metal & rock\n",
    "lyrics['genre'] = lyrics.apply(lambda x: 'metal/rock' if x['genre'] in ['metal', 'rock'] else x['genre'], axis=1)\n",
    "\n",
    "# Train/test split\n",
    "train, test = train_test_split(lyrics, test_size=0.2, stratify=lyrics.genre, random_state=1)"
   ]
  },
  {
   "cell_type": "markdown",
   "metadata": {},
   "source": [
    "# Classifier - Naive Bayes"
   ]
  },
  {
   "cell_type": "code",
   "execution_count": 44,
   "metadata": {},
   "outputs": [
    {
     "data": {
      "text/plain": [
       "0.7063501162374193"
      ]
     },
     "execution_count": 44,
     "metadata": {},
     "output_type": "execute_result"
    }
   ],
   "source": [
    "# Naive Bayes model w/ k-fold CV\n",
    "text_mnb = Pipeline([('vect', CountVectorizer()),\n",
    "                     ('mnb', MultinomialNB(fit_prior=False))])\n",
    "text_mnb = text_mnb.fit(train.line_stems, train.genre)\n",
    "cross_val_score(estimator=text_mnb, X=train.line_stems, y=train.genre, cv=7).mean()"
   ]
  },
  {
   "cell_type": "code",
   "execution_count": 45,
   "metadata": {
    "scrolled": true
   },
   "outputs": [
    {
     "name": "stdout",
     "output_type": "stream",
     "text": [
      "0.7082847141190198\n",
      "              precision    recall  f1-score   support\n",
      "\n",
      "     country       0.60      0.66      0.63       296\n",
      "  metal/rock       0.77      0.72      0.75       595\n",
      "         pop       0.55      0.57      0.56       231\n",
      "         rap       0.88      0.91      0.90       303\n",
      "        soul       0.64      0.63      0.64       289\n",
      "\n",
      "    accuracy                           0.71      1714\n",
      "   macro avg       0.69      0.70      0.69      1714\n",
      "weighted avg       0.71      0.71      0.71      1714\n",
      "\n"
     ]
    },
    {
     "data": {
      "text/html": [
       "<div>\n",
       "<style scoped>\n",
       "    .dataframe tbody tr th:only-of-type {\n",
       "        vertical-align: middle;\n",
       "    }\n",
       "\n",
       "    .dataframe tbody tr th {\n",
       "        vertical-align: top;\n",
       "    }\n",
       "\n",
       "    .dataframe thead th {\n",
       "        text-align: right;\n",
       "    }\n",
       "</style>\n",
       "<table border=\"1\" class=\"dataframe\">\n",
       "  <thead>\n",
       "    <tr style=\"text-align: right;\">\n",
       "      <th>genre</th>\n",
       "      <th>country</th>\n",
       "      <th>metal/rock</th>\n",
       "      <th>pop</th>\n",
       "      <th>rap</th>\n",
       "      <th>soul</th>\n",
       "    </tr>\n",
       "    <tr>\n",
       "      <th>row_0</th>\n",
       "      <th></th>\n",
       "      <th></th>\n",
       "      <th></th>\n",
       "      <th></th>\n",
       "      <th></th>\n",
       "    </tr>\n",
       "  </thead>\n",
       "  <tbody>\n",
       "    <tr>\n",
       "      <th>country</th>\n",
       "      <td>195</td>\n",
       "      <td>60</td>\n",
       "      <td>23</td>\n",
       "      <td>7</td>\n",
       "      <td>38</td>\n",
       "    </tr>\n",
       "    <tr>\n",
       "      <th>metal/rock</th>\n",
       "      <td>51</td>\n",
       "      <td>427</td>\n",
       "      <td>34</td>\n",
       "      <td>7</td>\n",
       "      <td>32</td>\n",
       "    </tr>\n",
       "    <tr>\n",
       "      <th>pop</th>\n",
       "      <td>20</td>\n",
       "      <td>44</td>\n",
       "      <td>132</td>\n",
       "      <td>11</td>\n",
       "      <td>33</td>\n",
       "    </tr>\n",
       "    <tr>\n",
       "      <th>rap</th>\n",
       "      <td>4</td>\n",
       "      <td>15</td>\n",
       "      <td>14</td>\n",
       "      <td>277</td>\n",
       "      <td>3</td>\n",
       "    </tr>\n",
       "    <tr>\n",
       "      <th>soul</th>\n",
       "      <td>26</td>\n",
       "      <td>49</td>\n",
       "      <td>28</td>\n",
       "      <td>1</td>\n",
       "      <td>183</td>\n",
       "    </tr>\n",
       "  </tbody>\n",
       "</table>\n",
       "</div>"
      ],
      "text/plain": [
       "genre       country  metal/rock  pop  rap  soul\n",
       "row_0                                          \n",
       "country         195          60   23    7    38\n",
       "metal/rock       51         427   34    7    32\n",
       "pop              20          44  132   11    33\n",
       "rap               4          15   14  277     3\n",
       "soul             26          49   28    1   183"
      ]
     },
     "execution_count": 45,
     "metadata": {},
     "output_type": "execute_result"
    }
   ],
   "source": [
    "# Naive Bayes test results\n",
    "print(text_mnb.score(y=test.genre, X=test.line_stems))\n",
    "preds = text_mnb.predict(test.line_stems)\n",
    "print(classification_report(y_pred=preds, y_true=test.genre))\n",
    "pd.crosstab(preds, test.genre)"
   ]
  },
  {
   "cell_type": "markdown",
   "metadata": {},
   "source": [
    "# Classifier - SVM"
   ]
  },
  {
   "cell_type": "code",
   "execution_count": 47,
   "metadata": {},
   "outputs": [
    {
     "data": {
      "text/plain": [
       "0.730703410544086"
      ]
     },
     "execution_count": 47,
     "metadata": {},
     "output_type": "execute_result"
    }
   ],
   "source": [
    "# SVM model with k-fold CV\n",
    "text_svm = Pipeline([('vect', TfidfVectorizer(ngram_range=(1,2))), ('svm', SGDClassifier(loss='hinge', penalty='l2', alpha=1e-4, random_state=123))])\n",
    "text_svm = text_svm.fit(train.line_stems, train.genre)\n",
    "cross_val_score(estimator=text_svm, X=train.line, y=train.genre, cv=7).mean()"
   ]
  },
  {
   "cell_type": "code",
   "execution_count": 48,
   "metadata": {
    "scrolled": true
   },
   "outputs": [
    {
     "name": "stdout",
     "output_type": "stream",
     "text": [
      "0.7409568261376897\n",
      "              precision    recall  f1-score   support\n",
      "\n",
      "     country       0.67      0.68      0.68       296\n",
      "  metal/rock       0.74      0.82      0.77       595\n",
      "         pop       0.70      0.48      0.57       231\n",
      "         rap       0.91      0.94      0.93       303\n",
      "        soul       0.65      0.64      0.65       289\n",
      "\n",
      "    accuracy                           0.74      1714\n",
      "   macro avg       0.74      0.71      0.72      1714\n",
      "weighted avg       0.74      0.74      0.74      1714\n",
      "\n"
     ]
    },
    {
     "data": {
      "text/html": [
       "<div>\n",
       "<style scoped>\n",
       "    .dataframe tbody tr th:only-of-type {\n",
       "        vertical-align: middle;\n",
       "    }\n",
       "\n",
       "    .dataframe tbody tr th {\n",
       "        vertical-align: top;\n",
       "    }\n",
       "\n",
       "    .dataframe thead th {\n",
       "        text-align: right;\n",
       "    }\n",
       "</style>\n",
       "<table border=\"1\" class=\"dataframe\">\n",
       "  <thead>\n",
       "    <tr style=\"text-align: right;\">\n",
       "      <th>genre</th>\n",
       "      <th>country</th>\n",
       "      <th>metal/rock</th>\n",
       "      <th>pop</th>\n",
       "      <th>rap</th>\n",
       "      <th>soul</th>\n",
       "    </tr>\n",
       "    <tr>\n",
       "      <th>row_0</th>\n",
       "      <th></th>\n",
       "      <th></th>\n",
       "      <th></th>\n",
       "      <th></th>\n",
       "      <th></th>\n",
       "    </tr>\n",
       "  </thead>\n",
       "  <tbody>\n",
       "    <tr>\n",
       "      <th>country</th>\n",
       "      <td>201</td>\n",
       "      <td>41</td>\n",
       "      <td>14</td>\n",
       "      <td>3</td>\n",
       "      <td>39</td>\n",
       "    </tr>\n",
       "    <tr>\n",
       "      <th>metal/rock</th>\n",
       "      <td>58</td>\n",
       "      <td>486</td>\n",
       "      <td>57</td>\n",
       "      <td>8</td>\n",
       "      <td>51</td>\n",
       "    </tr>\n",
       "    <tr>\n",
       "      <th>pop</th>\n",
       "      <td>8</td>\n",
       "      <td>23</td>\n",
       "      <td>111</td>\n",
       "      <td>4</td>\n",
       "      <td>13</td>\n",
       "    </tr>\n",
       "    <tr>\n",
       "      <th>rap</th>\n",
       "      <td>3</td>\n",
       "      <td>9</td>\n",
       "      <td>15</td>\n",
       "      <td>286</td>\n",
       "      <td>0</td>\n",
       "    </tr>\n",
       "    <tr>\n",
       "      <th>soul</th>\n",
       "      <td>26</td>\n",
       "      <td>36</td>\n",
       "      <td>34</td>\n",
       "      <td>2</td>\n",
       "      <td>186</td>\n",
       "    </tr>\n",
       "  </tbody>\n",
       "</table>\n",
       "</div>"
      ],
      "text/plain": [
       "genre       country  metal/rock  pop  rap  soul\n",
       "row_0                                          \n",
       "country         201          41   14    3    39\n",
       "metal/rock       58         486   57    8    51\n",
       "pop               8          23  111    4    13\n",
       "rap               3           9   15  286     0\n",
       "soul             26          36   34    2   186"
      ]
     },
     "execution_count": 48,
     "metadata": {},
     "output_type": "execute_result"
    }
   ],
   "source": [
    "# SVM test results\n",
    "print(text_svm.score(y=test.genre, X=test.line_stems))\n",
    "preds_svm = text_svm.predict(test.line_stems)\n",
    "print(classification_report(y_pred=preds_svm, y_true=test.genre))\n",
    "pd.crosstab(preds_svm, test.genre)"
   ]
  },
  {
   "cell_type": "code",
   "execution_count": 49,
   "metadata": {},
   "outputs": [],
   "source": [
    "# Which songs did the svm model misclassify?\n",
    "test['preds_svm'] = preds_svm\n",
    "misclasses_svm = test[test.preds_svm != test.genre]\n",
    "misclasses_svm['misclass_combo'] = misclasses_svm.apply(lambda x: x['genre']+'-'+x['preds_svm'], axis=1)"
   ]
  },
  {
   "cell_type": "code",
   "execution_count": 50,
   "metadata": {
    "collapsed": true
   },
   "outputs": [
    {
     "data": {
      "text/plain": [
       "country-metal/rock    58\n",
       "pop-metal/rock        57\n",
       "soul-metal/rock       51\n",
       "metal/rock-country    41\n",
       "soul-country          39\n",
       "metal/rock-soul       36\n",
       "pop-soul              34\n",
       "country-soul          26\n",
       "metal/rock-pop        23\n",
       "pop-rap               15\n",
       "pop-country           14\n",
       "soul-pop              13\n",
       "metal/rock-rap         9\n",
       "rap-metal/rock         8\n",
       "country-pop            8\n",
       "rap-pop                4\n",
       "country-rap            3\n",
       "rap-country            3\n",
       "rap-soul               2\n",
       "Name: misclass_combo, dtype: int64"
      ]
     },
     "execution_count": 50,
     "metadata": {},
     "output_type": "execute_result"
    }
   ],
   "source": [
    "misclasses_svm.misclass_combo.value_counts()"
   ]
  },
  {
   "cell_type": "code",
   "execution_count": 51,
   "metadata": {
    "scrolled": true
   },
   "outputs": [
    {
     "data": {
      "text/html": [
       "<div>\n",
       "<style scoped>\n",
       "    .dataframe tbody tr th:only-of-type {\n",
       "        vertical-align: middle;\n",
       "    }\n",
       "\n",
       "    .dataframe tbody tr th {\n",
       "        vertical-align: top;\n",
       "    }\n",
       "\n",
       "    .dataframe thead th {\n",
       "        text-align: right;\n",
       "    }\n",
       "</style>\n",
       "<table border=\"1\" class=\"dataframe\">\n",
       "  <thead>\n",
       "    <tr style=\"text-align: right;\">\n",
       "      <th></th>\n",
       "      <th>line</th>\n",
       "      <th>song_id</th>\n",
       "      <th>song_name</th>\n",
       "      <th>artist_id</th>\n",
       "      <th>artist_name</th>\n",
       "      <th>characters</th>\n",
       "      <th>genre</th>\n",
       "      <th>original_line</th>\n",
       "      <th>line_stems</th>\n",
       "      <th>preds_svm</th>\n",
       "      <th>misclass_combo</th>\n",
       "    </tr>\n",
       "  </thead>\n",
       "  <tbody>\n",
       "    <tr>\n",
       "      <th>690</th>\n",
       "      <td>i should have known by the way you passed me b...</td>\n",
       "      <td>144193</td>\n",
       "      <td>Undo It</td>\n",
       "      <td>21014</td>\n",
       "      <td>carrie underwood</td>\n",
       "      <td>1962</td>\n",
       "      <td>country</td>\n",
       "      <td>[Verse 1]\\nI should've known by the way you pa...</td>\n",
       "      <td>i should have known by the way you pass me by ...</td>\n",
       "      <td>rap</td>\n",
       "      <td>country-rap</td>\n",
       "    </tr>\n",
       "    <tr>\n",
       "      <th>656</th>\n",
       "      <td>splish splash i was taking a bath long about a...</td>\n",
       "      <td>1728080</td>\n",
       "      <td>Splish Splash</td>\n",
       "      <td>223639</td>\n",
       "      <td>conway twitty</td>\n",
       "      <td>1274</td>\n",
       "      <td>country</td>\n",
       "      <td>Splish Splash, I was takin' a bath\\nLong about...</td>\n",
       "      <td>splish splash i was take a bath long about a s...</td>\n",
       "      <td>rap</td>\n",
       "      <td>country-rap</td>\n",
       "    </tr>\n",
       "    <tr>\n",
       "      <th>1411</th>\n",
       "      <td>gimme some straight talk straight talk and hol...</td>\n",
       "      <td>208250</td>\n",
       "      <td>Straight Talk</td>\n",
       "      <td>20955</td>\n",
       "      <td>dolly parton</td>\n",
       "      <td>1859</td>\n",
       "      <td>country</td>\n",
       "      <td>[Chorus]\\nGimme some straight talk, straight t...</td>\n",
       "      <td>gimm some straight talk straight talk and hold...</td>\n",
       "      <td>rap</td>\n",
       "      <td>country-rap</td>\n",
       "    </tr>\n",
       "  </tbody>\n",
       "</table>\n",
       "</div>"
      ],
      "text/plain": [
       "                                                   line  song_id  \\\n",
       "690   i should have known by the way you passed me b...   144193   \n",
       "656   splish splash i was taking a bath long about a...  1728080   \n",
       "1411  gimme some straight talk straight talk and hol...   208250   \n",
       "\n",
       "          song_name  artist_id       artist_name  characters    genre  \\\n",
       "690         Undo It      21014  carrie underwood        1962  country   \n",
       "656   Splish Splash     223639     conway twitty        1274  country   \n",
       "1411  Straight Talk      20955      dolly parton        1859  country   \n",
       "\n",
       "                                          original_line  \\\n",
       "690   [Verse 1]\\nI should've known by the way you pa...   \n",
       "656   Splish Splash, I was takin' a bath\\nLong about...   \n",
       "1411  [Chorus]\\nGimme some straight talk, straight t...   \n",
       "\n",
       "                                             line_stems preds_svm  \\\n",
       "690   i should have known by the way you pass me by ...       rap   \n",
       "656   splish splash i was take a bath long about a s...       rap   \n",
       "1411  gimm some straight talk straight talk and hold...       rap   \n",
       "\n",
       "     misclass_combo  \n",
       "690     country-rap  \n",
       "656     country-rap  \n",
       "1411    country-rap  "
      ]
     },
     "execution_count": 51,
     "metadata": {},
     "output_type": "execute_result"
    }
   ],
   "source": [
    "misclasses_svm[misclasses_svm.misclass_combo=='country-rap']"
   ]
  },
  {
   "cell_type": "code",
   "execution_count": 53,
   "metadata": {},
   "outputs": [],
   "source": [
    "# Re-train model on full data set\n",
    "full_text_svm = Pipeline([('vect', TfidfVectorizer(ngram_range=(1,2))), ('svm', SGDClassifier(loss='hinge', penalty='l2', alpha=1e-4, random_state=123))])\n",
    "full_text_svm = full_text_svm.fit(lyrics.line, lyrics.genre)"
   ]
  },
  {
   "cell_type": "markdown",
   "metadata": {},
   "source": [
    "# Classifier - XGBoost"
   ]
  },
  {
   "cell_type": "code",
   "execution_count": 59,
   "metadata": {},
   "outputs": [],
   "source": [
    "# XGB model\n",
    "vect = TfidfVectorizer(ngram_range=(1,2))\n",
    "vect.fit_transform(train.line_stems)\n",
    "vect_train = vect.transform(pd.Series(train.line_stems))\n",
    "vect_test = vect.transform(pd.Series(test.line_stems))"
   ]
  },
  {
   "cell_type": "code",
   "execution_count": 61,
   "metadata": {
    "scrolled": true
   },
   "outputs": [],
   "source": [
    "xgb = XGBClassifier(learning_rate=0.25, subsample=0.8, gamma=1, random_state=123, max_depth=4, max_delta_step=1).fit(vect_train, train.genre)"
   ]
  },
  {
   "cell_type": "code",
   "execution_count": 62,
   "metadata": {
    "scrolled": true
   },
   "outputs": [
    {
     "name": "stdout",
     "output_type": "stream",
     "text": [
      "0.7532088681446908\n",
      "              precision    recall  f1-score   support\n",
      "\n",
      "     country       0.72      0.62      0.67       296\n",
      "  metal/rock       0.71      0.86      0.78       595\n",
      "         pop       0.74      0.53      0.62       231\n",
      "         rap       0.96      0.95      0.96       303\n",
      "        soul       0.68      0.64      0.66       289\n",
      "\n",
      "    accuracy                           0.75      1714\n",
      "   macro avg       0.76      0.72      0.74      1714\n",
      "weighted avg       0.76      0.75      0.75      1714\n",
      "\n"
     ]
    },
    {
     "data": {
      "text/html": [
       "<div>\n",
       "<style scoped>\n",
       "    .dataframe tbody tr th:only-of-type {\n",
       "        vertical-align: middle;\n",
       "    }\n",
       "\n",
       "    .dataframe tbody tr th {\n",
       "        vertical-align: top;\n",
       "    }\n",
       "\n",
       "    .dataframe thead th {\n",
       "        text-align: right;\n",
       "    }\n",
       "</style>\n",
       "<table border=\"1\" class=\"dataframe\">\n",
       "  <thead>\n",
       "    <tr style=\"text-align: right;\">\n",
       "      <th>genre</th>\n",
       "      <th>country</th>\n",
       "      <th>metal/rock</th>\n",
       "      <th>pop</th>\n",
       "      <th>rap</th>\n",
       "      <th>soul</th>\n",
       "    </tr>\n",
       "    <tr>\n",
       "      <th>row_0</th>\n",
       "      <th></th>\n",
       "      <th></th>\n",
       "      <th></th>\n",
       "      <th></th>\n",
       "      <th></th>\n",
       "    </tr>\n",
       "  </thead>\n",
       "  <tbody>\n",
       "    <tr>\n",
       "      <th>country</th>\n",
       "      <td>184</td>\n",
       "      <td>31</td>\n",
       "      <td>11</td>\n",
       "      <td>5</td>\n",
       "      <td>25</td>\n",
       "    </tr>\n",
       "    <tr>\n",
       "      <th>metal/rock</th>\n",
       "      <td>85</td>\n",
       "      <td>512</td>\n",
       "      <td>63</td>\n",
       "      <td>4</td>\n",
       "      <td>59</td>\n",
       "    </tr>\n",
       "    <tr>\n",
       "      <th>pop</th>\n",
       "      <td>6</td>\n",
       "      <td>11</td>\n",
       "      <td>122</td>\n",
       "      <td>6</td>\n",
       "      <td>19</td>\n",
       "    </tr>\n",
       "    <tr>\n",
       "      <th>rap</th>\n",
       "      <td>0</td>\n",
       "      <td>1</td>\n",
       "      <td>10</td>\n",
       "      <td>287</td>\n",
       "      <td>0</td>\n",
       "    </tr>\n",
       "    <tr>\n",
       "      <th>soul</th>\n",
       "      <td>21</td>\n",
       "      <td>40</td>\n",
       "      <td>25</td>\n",
       "      <td>1</td>\n",
       "      <td>186</td>\n",
       "    </tr>\n",
       "  </tbody>\n",
       "</table>\n",
       "</div>"
      ],
      "text/plain": [
       "genre       country  metal/rock  pop  rap  soul\n",
       "row_0                                          \n",
       "country         184          31   11    5    25\n",
       "metal/rock       85         512   63    4    59\n",
       "pop               6          11  122    6    19\n",
       "rap               0           1   10  287     0\n",
       "soul             21          40   25    1   186"
      ]
     },
     "execution_count": 62,
     "metadata": {},
     "output_type": "execute_result"
    }
   ],
   "source": [
    "print(xgb.score(y=test.genre, X=vect_test))\n",
    "preds_xgb = xgb.predict(vect_test)\n",
    "print(classification_report(y_pred=preds_xgb, y_true=test.genre))\n",
    "pd.crosstab(xgb.predict(vect_test), test.genre)"
   ]
  },
  {
   "cell_type": "code",
   "execution_count": 63,
   "metadata": {},
   "outputs": [],
   "source": [
    "# Which songs did the xgb model misclassify?\n",
    "test['preds_xgb'] = preds_xgb\n",
    "misclasses_xgb = test[test.preds_xgb != test.genre]\n",
    "misclasses_xgb['misclass_combo'] = misclasses_xgb.apply(lambda x: x['genre']+'-'+x['preds_xgb'], axis=1)"
   ]
  },
  {
   "cell_type": "code",
   "execution_count": 64,
   "metadata": {
    "collapsed": true
   },
   "outputs": [
    {
     "data": {
      "text/plain": [
       "country-metal/rock    85\n",
       "pop-metal/rock        63\n",
       "soul-metal/rock       59\n",
       "metal/rock-soul       40\n",
       "metal/rock-country    31\n",
       "soul-country          25\n",
       "pop-soul              25\n",
       "country-soul          21\n",
       "soul-pop              19\n",
       "pop-country           11\n",
       "metal/rock-pop        11\n",
       "pop-rap               10\n",
       "rap-pop                6\n",
       "country-pop            6\n",
       "rap-country            5\n",
       "rap-metal/rock         4\n",
       "rap-soul               1\n",
       "metal/rock-rap         1\n",
       "Name: misclass_combo, dtype: int64"
      ]
     },
     "execution_count": 64,
     "metadata": {},
     "output_type": "execute_result"
    }
   ],
   "source": [
    "misclasses_xgb.misclass_combo.value_counts()"
   ]
  },
  {
   "cell_type": "code",
   "execution_count": 65,
   "metadata": {},
   "outputs": [
    {
     "data": {
      "text/html": [
       "<div>\n",
       "<style scoped>\n",
       "    .dataframe tbody tr th:only-of-type {\n",
       "        vertical-align: middle;\n",
       "    }\n",
       "\n",
       "    .dataframe tbody tr th {\n",
       "        vertical-align: top;\n",
       "    }\n",
       "\n",
       "    .dataframe thead th {\n",
       "        text-align: right;\n",
       "    }\n",
       "</style>\n",
       "<table border=\"1\" class=\"dataframe\">\n",
       "  <thead>\n",
       "    <tr style=\"text-align: right;\">\n",
       "      <th></th>\n",
       "      <th>line</th>\n",
       "      <th>song_id</th>\n",
       "      <th>song_name</th>\n",
       "      <th>artist_id</th>\n",
       "      <th>artist_name</th>\n",
       "      <th>characters</th>\n",
       "      <th>genre</th>\n",
       "      <th>original_line</th>\n",
       "      <th>line_stems</th>\n",
       "      <th>preds_svm</th>\n",
       "      <th>preds_xgb</th>\n",
       "      <th>misclass_combo</th>\n",
       "    </tr>\n",
       "  </thead>\n",
       "  <tbody>\n",
       "    <tr>\n",
       "      <th>7108</th>\n",
       "      <td>this time i came to get mine i saw this cat ru...</td>\n",
       "      <td>338348</td>\n",
       "      <td>Liquid Diet</td>\n",
       "      <td>424</td>\n",
       "      <td>papa roach</td>\n",
       "      <td>1689</td>\n",
       "      <td>metal/rock</td>\n",
       "      <td>[Chorus 1]\\nThis time, I came to get mine\\nI s...</td>\n",
       "      <td>this time i came to get mine i saw this cat ru...</td>\n",
       "      <td>rap</td>\n",
       "      <td>rap</td>\n",
       "      <td>metal/rock-rap</td>\n",
       "    </tr>\n",
       "  </tbody>\n",
       "</table>\n",
       "</div>"
      ],
      "text/plain": [
       "                                                   line  song_id    song_name  \\\n",
       "7108  this time i came to get mine i saw this cat ru...   338348  Liquid Diet   \n",
       "\n",
       "      artist_id artist_name  characters       genre  \\\n",
       "7108        424  papa roach        1689  metal/rock   \n",
       "\n",
       "                                          original_line  \\\n",
       "7108  [Chorus 1]\\nThis time, I came to get mine\\nI s...   \n",
       "\n",
       "                                             line_stems preds_svm preds_xgb  \\\n",
       "7108  this time i came to get mine i saw this cat ru...       rap       rap   \n",
       "\n",
       "      misclass_combo  \n",
       "7108  metal/rock-rap  "
      ]
     },
     "execution_count": 65,
     "metadata": {},
     "output_type": "execute_result"
    }
   ],
   "source": [
    "misclasses_xgb[misclasses_xgb.misclass_combo=='metal/rock-rap'].sort_values('artist_name')"
   ]
  },
  {
   "cell_type": "markdown",
   "metadata": {},
   "source": [
    "# Predict new text - SVM"
   ]
  },
  {
   "cell_type": "code",
   "execution_count": 66,
   "metadata": {},
   "outputs": [],
   "source": [
    "# Process and predict genre of text (SVM)\n",
    "def svmLyricClassifier(text):\n",
    "    text = preprocessText(text)\n",
    "    text = ' '.join([stemmer.stem(word) for word in text.split(' ')])\n",
    "    print(full_text_svm.predict([text]))"
   ]
  },
  {
   "cell_type": "code",
   "execution_count": 67,
   "metadata": {
    "code_folding": [
     0
    ]
   },
   "outputs": [
    {
     "name": "stdout",
     "output_type": "stream",
     "text": [
      "['country']\n"
     ]
    }
   ],
   "source": [
    "# Zac Brown Band - Chicken Fried\n",
    "svmLyricClassifier(\n",
    "'''\n",
    "Well I was raised up beneath the shade of a Georgia Pine\n",
    "And that's home you know\n",
    "Sweet tea, pecan pie, and homemade wine where the peaches grow\n",
    "And my house it's not much to talk about\n",
    "But it's filled with love that's grown in southern ground\n",
    "''')"
   ]
  },
  {
   "cell_type": "code",
   "execution_count": 68,
   "metadata": {
    "code_folding": [
     0
    ]
   },
   "outputs": [
    {
     "name": "stdout",
     "output_type": "stream",
     "text": [
      "['metal/rock']\n"
     ]
    }
   ],
   "source": [
    "# Nickelback - Photograph\n",
    "svmLyricClassifier(\n",
    "'''\n",
    "Look at this photograph\n",
    "Every time I do, it makes me laugh\n",
    "How did our eyes get so red?\n",
    "And what the hell is on Joey's head?\n",
    "And this is where I grew up\n",
    "I think the present owner fixed it up\n",
    "I never knew we ever went without\n",
    "The second floor is hard for sneaking out\n",
    "''')"
   ]
  },
  {
   "cell_type": "code",
   "execution_count": 69,
   "metadata": {
    "code_folding": [
     0
    ]
   },
   "outputs": [
    {
     "name": "stdout",
     "output_type": "stream",
     "text": [
      "['pop']\n"
     ]
    }
   ],
   "source": [
    "# One Direction - What Makes You Beautiful\n",
    "svmLyricClassifier(\n",
    "'''\n",
    "Baby, you light up my world like nobody else\n",
    "The way that you flip your hair gets me overwhelmed\n",
    "But when you smile at the ground, it ain't hard to tell\n",
    "You don't know, oh, oh, you don't know you're beautiful\n",
    "If only you saw what I can see\n",
    "You'll understand why I want you so desperately\n",
    "Right now I'm looking at you and I can't believe\n",
    "You don't know, you don't know you're beautiful\n",
    "That's what makes you beautiful\n",
    "''')"
   ]
  },
  {
   "cell_type": "code",
   "execution_count": 70,
   "metadata": {
    "code_folding": [
     0
    ]
   },
   "outputs": [
    {
     "name": "stdout",
     "output_type": "stream",
     "text": [
      "['rap']\n"
     ]
    }
   ],
   "source": [
    "# Wu-Tang Clan - C.R.E.A.M.\n",
    "svmLyricClassifier(\n",
    "'''\n",
    "I grew up on the crime side, the New York Times side\n",
    "Stayin' alive was no jive\n",
    "Had secondhands, Mom's bounced on old man\n",
    "So then we moved to Shaolin land\n",
    "A young youth, yo, rockin' the gold tooth, 'Lo goose\n",
    "Only way I be gettin' the G off was drug loot\n",
    "And let's start it like this, son\n",
    "Rollin' with this one and that one\n",
    "Pullin' out gats for fun\n",
    "''')"
   ]
  },
  {
   "cell_type": "code",
   "execution_count": 71,
   "metadata": {
    "code_folding": [
     0
    ]
   },
   "outputs": [
    {
     "name": "stdout",
     "output_type": "stream",
     "text": [
      "['soul']\n"
     ]
    }
   ],
   "source": [
    "# Patti LaBelle - My Friend\n",
    "svmLyricClassifier(\n",
    "'''\n",
    "The thought of you helps me carry on\n",
    "When I feel all hope is gone\n",
    "I see the world wit brand new eyes\n",
    "Your love has made me realize\n",
    "My future looks bright to me\n",
    "Oh because you are my friend\n",
    "I've been looking around and you were here all the time\n",
    "I've been around and around and around and around\n",
    "I've been looking around and you were here all the time\n",
    "''')"
   ]
  },
  {
   "cell_type": "markdown",
   "metadata": {},
   "source": [
    "# Predict new text - XGB"
   ]
  },
  {
   "cell_type": "code",
   "execution_count": 72,
   "metadata": {},
   "outputs": [],
   "source": [
    "# Process and predict genre of text (XGB)\n",
    "def xgbLyricClassifier(text):\n",
    "    text = preprocessText(text)\n",
    "    text = ' '.join([stemmer.stem(word) for word in text.split(' ')])\n",
    "    text = vect.transform(pd.Series(text))\n",
    "    return(xgb.predict(text))"
   ]
  },
  {
   "cell_type": "code",
   "execution_count": 73,
   "metadata": {
    "code_folding": [
     0
    ]
   },
   "outputs": [
    {
     "data": {
      "text/plain": [
       "array(['metal/rock'], dtype=object)"
      ]
     },
     "execution_count": 73,
     "metadata": {},
     "output_type": "execute_result"
    }
   ],
   "source": [
    "# Trippie Redd - Poles1469\n",
    "xgbLyricClassifier('''\n",
    "Scum Gang!\n",
    "I'm toting big shit (big shit)\n",
    "Get your wig split (wig split)\n",
    "4-5, I call that the big bitch (big stick)\n",
    "We don't miss shit (miss shit)\n",
    "Get your ribs hit (limbs hit)\n",
    "Hollow tip, hit you with a cross hit (yeaaah)\n",
    "Big drum on the gun, that's a pump with a red beam\n",
    "Catch him in the bed while he sleep, that's a wet dream\n",
    "(That's a wet dream)\n",
    "Close range headshots, fuck where the vest be\n",
    "Put a hole in his head, he a dolphin (you a dolphin)\n",
    "Pull up to the block, you don’t want it (that's that dummy shit)\n",
    "Pull up with the Glock, you won't want it (brrrah!, stoopid)\n",
    "Scum Gang, bitch, we on it, you don't want it (ooh, ooh)\n",
    "1400, bitch, you know I tote a pole\n",
    "With 6ix9ine, bitch, you know we tote them poles\n",
    "Tote a pole, tote a pole, tote a pole\n",
    "You talk down, we gon' let that shit go (grrrat!)\n",
    "Let it blow, let it blow, let it blow (let that bitch go)\n",
    "Got the scope, got the scope, got the scope\n",
    ".223's and I put 'em to your nose (to your nose)\n",
    "Let it go, bitch, we let that shit go\n",
    "''')"
   ]
  },
  {
   "cell_type": "markdown",
   "metadata": {},
   "source": [
    "# Predict new text - Naive Bayes"
   ]
  },
  {
   "cell_type": "code",
   "execution_count": 74,
   "metadata": {},
   "outputs": [],
   "source": [
    "def nbLyricClassifier(text):\n",
    "    text = preprocessText(text)\n",
    "    text = ' '.join([stemmer.stem(word) for word in text.split(' ')])\n",
    "    print(text_mnb.predict([text]))"
   ]
  },
  {
   "cell_type": "code",
   "execution_count": 75,
   "metadata": {
    "code_folding": [
     0
    ]
   },
   "outputs": [
    {
     "name": "stdout",
     "output_type": "stream",
     "text": [
      "['metal/rock']\n"
     ]
    }
   ],
   "source": [
    "# Barbra Streisand - Woman In Love\n",
    "nbLyricClassifier(\n",
    "'''\n",
    "life is a moment in space \n",
    "when the dream is gone \n",
    "it's a lonelier place \n",
    "i kiss the morning goodbye \n",
    "butdown inside \n",
    "you know we never know why \n",
    "the road is narrow and long \n",
    "when eyes meet eyes \n",
    "and the feeling is strong \n",
    "i turn away from the wall \n",
    "i stumble and fall \n",
    "but i give you it all \n",
    "i am a woman in love \n",
    "and i'd do anything \n",
    "to get you into my world \n",
    "and hold you within \n",
    "it's aright i defend \n",
    "overand overagain \n",
    "what do i do \n",
    "with you eternally mine \n",
    "in love there is \n",
    "nomeasure of time \n",
    "they planned it all at the start \n",
    "thatyou and i \n",
    "live in each other's heart \n",
    "we maybe oceans away \n",
    "you feel my love \n",
    "i hear what you say \n",
    "no truth is ever a lie \n",
    "i stumble and fall \n",
    "but i give you it all \n",
    "i am a woman in love \n",
    "and i'd do anything \n",
    "to get you into my world \n",
    "and hold you within \n",
    "it's aright i defend \n",
    "overand overagain \n",
    "what do i do \n",
    "i am a woman in love \n",
    "and i'm talkin' to you \n",
    "youiknow how you feel \n",
    "what a woman can do \n",
    "it's a right i defend \n",
    "overand overagain \n",
    "i am a woman in love \n",
    "and i'd do anything \n",
    "to get you into my world \n",
    "and hold you within \n",
    "it's a right i defend \n",
    "overand overagain \n",
    "''')"
   ]
  },
  {
   "cell_type": "code",
   "execution_count": null,
   "metadata": {},
   "outputs": [],
   "source": []
  }
 ],
 "metadata": {
  "kernelspec": {
   "display_name": "Python 3",
   "language": "python",
   "name": "python3"
  },
  "language_info": {
   "codemirror_mode": {
    "name": "ipython",
    "version": 3
   },
   "file_extension": ".py",
   "mimetype": "text/x-python",
   "name": "python",
   "nbconvert_exporter": "python",
   "pygments_lexer": "ipython3",
   "version": "3.6.5"
  }
 },
 "nbformat": 4,
 "nbformat_minor": 2
}
