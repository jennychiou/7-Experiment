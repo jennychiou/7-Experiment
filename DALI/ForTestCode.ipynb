{
 "cells": [
  {
   "cell_type": "code",
   "execution_count": 8,
   "metadata": {},
   "outputs": [],
   "source": [
    "import re,string"
   ]
  },
  {
   "cell_type": "code",
   "execution_count": 6,
   "metadata": {
    "code_folding": [
     1
    ]
   },
   "outputs": [],
   "source": [
    "# 對歌詞的文本預處理\n",
    "def preprocessText(text, remove_stops=False):\n",
    "    \n",
    "    # 移除中括號'[]'的內容\n",
    "    text = re.sub(pattern=\"\\[.+?\\]( )?\", repl='', string=text)\n",
    "\n",
    "    # Change \"walkin'\" to \"walking\"\n",
    "    text = re.sub(pattern=\"n\\\\\\' \", repl='ng ', string=text)\n",
    "\n",
    "    # 移除小括號'()'，如：x4 → (x4)\n",
    "    text = re.sub(pattern=\"(\\()?x\\d+(\\))?\", repl=' ', string=text)\n",
    "\n",
    "    # 修正單引號\n",
    "    text = re.sub(pattern=\"\\\\x91\", repl=\"'\", string=text) # \\x保留字符\n",
    "    text = re.sub(pattern=\"\\\\x92\", repl=\"'\", string=text)\n",
    "    text = re.sub(pattern=\"<u\\+0092>\", repl=\"'\", string=text)\n",
    "    \n",
    "    # 傳化成小寫\n",
    "    text = text.lower()\n",
    "    \n",
    "    # 處理特殊字詞用法\n",
    "    text = re.sub(pattern=\"'til\", repl=\"til\", string=text)\n",
    "    text = re.sub(pattern=\"'til\", repl=\"til\", string=text)\n",
    "    text = re.sub(pattern=\"gon'\", repl=\"gon\", string=text)\n",
    "\n",
    "    # 處理開頭的換行符號'\\n'\n",
    "    text = re.sub(pattern='^\\n', repl='', string=text)\n",
    "\n",
    "    # 移除「,」、「!」、「?」、「,」、「\\n」\n",
    "    text = ''.join([char.strip(\",!?:\") for char in text])\n",
    "    text = text.replace('\\n', ' ')\n",
    "\n",
    "    # 處理英文縮寫(特定)\n",
    "    text = re.sub(r\"won't\", \"will not\", text)\n",
    "    text = re.sub(r\"won\\’t\", \"will not\", text)\n",
    "    text = re.sub(r\"can't\", \"can not\", text)\n",
    "    text = re.sub(r\"can\\’t\", \"can not\", text)\n",
    "    text = re.sub(r\"let's\", \"let us\", text)\n",
    "    text = re.sub(r\"let\\’s\", \"let us\", text)\n",
    "    text = re.sub(r\"ain't\", \"aint\", text)\n",
    "    text = re.sub(r\"ain\\’t\", \"aint\", text)\n",
    "\n",
    "    # 處理英文縮寫(通用)\n",
    "    text = re.sub(r\"n\\'t\", \" not\", text)\n",
    "    text = re.sub(r\"\\'re\", \" are\", text)\n",
    "    text = re.sub(r\"\\'s\", \" is\", text)\n",
    "    text = re.sub(r\"\\'d\", \" would\", text)\n",
    "    text = re.sub(r\"\\'ll\", \" will\", text)\n",
    "    text = re.sub(r\"\\'t\", \" not\", text)\n",
    "    text = re.sub(r\"\\'ve\", \" have\", text)\n",
    "    text = re.sub(r\"\\'m\", \" am\", text)\n",
    "    text = re.sub(r\"n\\’t\", \" not\", text)\n",
    "    text = re.sub(r\"\\’re\", \" are\", text)\n",
    "    text = re.sub(r\"\\’s\", \" is\", text)\n",
    "    text = re.sub(r\"\\’d\", \" would\", text)\n",
    "    text = re.sub(r\"\\’ll\", \" will\", text)\n",
    "    text = re.sub(r\"\\’t\", \" not\", text)\n",
    "    text = re.sub(r\"\\’ve\", \" have\", text)\n",
    "    text = re.sub(r\"\\’m\", \" am\", text)\n",
    "\n",
    "    # 移除剩餘的標點符號\n",
    "    punc = string.punctuation\n",
    "    text = ''.join([char for char in text if char not in punc])\n",
    "\n",
    "    # 移除停用詞\n",
    "    if remove_stops:\n",
    "        stops = stopwords.words('english')\n",
    "        text = ' '.join([word for word in text.split(' ') if word not in stops])\n",
    "    \n",
    "    # 刪除雙空格和開始結尾空格\n",
    "    text = re.sub(pattern='( ){2,}', repl=' ', string=text)\n",
    "    text = text.strip()\n",
    "    \n",
    "    return(text)"
   ]
  },
  {
   "cell_type": "code",
   "execution_count": 9,
   "metadata": {},
   "outputs": [
    {
     "name": "stdout",
     "output_type": "stream",
     "text": [
      "[Dr.Trevis]\n",
      "Hah\n",
      "(huh, hah, hah, hah, HAHHAH, hah)\n",
      "Nineteen ninety-six\n",
      "(hah, come on!) Coming with the sickedest motherfuckers\n",
      "In the perimeter\n",
      "(huh, whooo! nineteen) You hit em with a newwwww\n",
      "(ninety-six, nine six) tree, dick be fly, in your ass\n",
      "(Dick! Di-dick, check)\n",
      "\n",
      "[Verse 1: Redman]\n",
      "Amazing grace how sweet the sound is of the fo' pound\n",
      "To blast all these sound men that got the po' sound\n",
      "Yippee-ki-yay, motherfuckers here's the show down\n",
      "But since we're broke now with dope sounds now here we go now\n",
      "Check the motion while I be puffin the potent\n",
      "Blow spots and urban networks with other experts\n",
      "Plus this thing between my ear thinks clear\n",
      "And the only thing it fears is the man upstairs\n",
      "So fuck your bulletproof gear\n",
      "If I decide to get your ass you better believe it's more than a blast\n",
      "(boo-ya) More like rough paragraphs out Alcatraz\n",
      "And ash, your staff, let the grime our your ass\n",
      "Everybody's hustling with sons toting guns\n",
      "Where Reggie Noble's from we stick nuns that got funds\n",
      "Bomb niggas like they did in Oklahoma\n",
      "Freez, you're froze, Def Squad UHH, case closed\n",
      "\n",
      "[Rockwilder]\n",
      "I be the, sneaky, second dimension, seeping through your sector\n",
      "Have nectar, leaking out you wack rhyme stressers\n",
      "Extra deez disease leave rashes on rappers\n",
      "Makin MC's so feel the breeze of the Grandmaster\n",
      "Packed with swift solid style structure\n",
      "Simonizing MC's with the degree of street ruckus\n",
      "Aiyyo who got guns? I split precise, spleen splitter\n",
      "Return my physical presence to the borough of the hard hitters\n",
      "I devour, night sun shower, minutes last hour, weak man's last power\n",
      "Body, the six four mind shotty\n",
      "The one you handle, second dimension mind vandal\n",
      "Lacerating your retina for tryin to see this\n",
      "As I'm flowin through the prism of the X-3-D\n",
      "See at forty belows I freak flows that burn your nose\n",
      "When you inhale the verbal blows, case closed\n",
      "\n",
      "[Hook: Redman & (Crossbreed)]\n",
      "Aiyyo, why the fuck you tryin to get funky on me nigga?\n",
      "(Aiyyo, why the fuck you tryin to get funky on me nigga?)\n",
      "Yo, don't you know, who I am motherfucker?\n",
      "Redman's the name fool\n",
      "(That's my nigga!)\n",
      "Why the fuck you tryin to get funky on me nigga?\n",
      "(Aiyyo, why the fuck you tryin to get funky on me nigga?)\n",
      "Yo, don't you know, who they are motherfucker?\n",
      "(Crossbreed's the crew fool)\n",
      "Them my niggas!\n",
      "\n",
      "[Verse Three: Napalm]\n",
      "Things ain't easy, cuz we be, strugglin day to day\n",
      "A bunch of stressed black men with not really much to say\n",
      "Twistin up some brown paper that we struggle just to get\n",
      "All the deaf dumb and blind become mentally equipped\n",
      "As I extend my pen to wreak havoc on paper\n",
      "I execute and burn MC's like Absolut with no chaser\n",
      "Strong as chemical the general with props\n",
      "Past wreckin mics, I make the Earth shatter like the 7th sign\n",
      "My drama bring about a new aura\n",
      "I'm sending a plague through your town like God did Sodom and Gomorrah\n",
      "The deepest, my vocals actions got you speechless\n",
      "Make gangsta niggas wanna go home and talk to Jesus\n",
      "No man alive could figure we, beating rappers literally\n",
      "X-3-D get up on this three dimensional trilogy\n",
      "Got no love for foes, no respect for grimy hoes\n",
      "Nuff said, X-3-D blowing up, case closed\n",
      "----------------------------------------------------------------------\n",
      "hah huh hah hah hah hahhah hah nineteen ninetysix hah come on coming with the sickedest motherfuckers in the perimeter huh whooo nineteen you hit em with a newwwww ninetysix nine six tree dick be fly in your ass dick didick check amazing grace how sweet the sound is of the fo pound to blast all these sound men that got the po sound yippeekiyay motherfuckers here is the show down but since we are broke now with dope sounds now here we go now check the motion while i be puffin the potent blow spots and urban networks with other experts plus this thing between my ear thinks clear and the only thing it fears is the man upstairs so fuck your bulletproof gear if i decide to get your ass you better believe it is more than a blast booya more like rough paragraphs out alcatraz and ash your staff let the grime our your ass everybody is hustling with sons toting guns where reggie noble is from we stick nuns that got funds bomb niggas like they did in oklahoma freez you are froze def squad uhh case closed i be the sneaky second dimension seeping through your sector have nectar leaking out you wack rhyme stressers extra deez disease leave rashes on rappers makin mc is so feel the breeze of the grandmaster packed with swift solid style structure simonizing mc is with the degree of street ruckus aiyyo who got guns i split precise spleen splitter return my physical presence to the borough of the hard hitters i devour night sun shower minutes last hour weak man is last power body the six four mind shotty the one you handle second dimension mind vandal lacerating your retina for tryin to see this as i am flowin through the prism of the x3d see at forty belows i freak flows that burn your nose when you inhale the verbal blows case closed aiyyo why the fuck you tryin to get funky on me nigga aiyyo why the fuck you tryin to get funky on me nigga yo do not you know who i am motherfucker redman is the name fool that is my nigga why the fuck you tryin to get funky on me nigga aiyyo why the fuck you tryin to get funky on me nigga yo do not you know who they are motherfucker crossbreed is the crew fool them my niggas things aint easy cuz we be strugglin day to day a bunch of stressed black men with not really much to say twistin up some brown paper that we struggle just to get all the deaf dumb and blind become mentally equipped as i extend my pen to wreak havoc on paper i execute and burn mc is like absolut with no chaser strong as chemical the general with props past wreckin mics i make the earth shatter like the 7th sign my drama bring about a new aura i am sending a plague through your town like god did sodom and gomorrah the deepest my vocals actions got you speechless make gangsta niggas wanna go home and talk to jesus no man alive could figure we beating rappers literally x3d get up on this three dimensional trilogy got no love for foes no respect for grimy hoes nuff said x3d blowing up case closed\n"
     ]
    }
   ],
   "source": [
    "text1 = \"[Dr.Trevis]\\nHah\\n(huh, hah, hah, hah, HAHHAH, hah)\\nNineteen ninety-six\\n(hah, come on!) Coming with the sickedest motherfuckers\\nIn the perimeter\\n(huh, whooo! nineteen) You hit em with a newwwww\\n(ninety-six, nine six) tree, dick be fly, in your ass\\n(Dick! Di-dick, check)\\n\\n[Verse 1: Redman]\\nAmazing grace how sweet the sound is of the fo' pound\\nTo blast all these sound men that got the po' sound\\nYippee-ki-yay, motherfuckers here's the show down\\nBut since we're broke now with dope sounds now here we go now\\nCheck the motion while I be puffin the potent\\nBlow spots and urban networks with other experts\\nPlus this thing between my ear thinks clear\\nAnd the only thing it fears is the man upstairs\\nSo fuck your bulletproof gear\\nIf I decide to get your ass you better believe it's more than a blast\\n(boo-ya) More like rough paragraphs out Alcatraz\\nAnd ash, your staff, let the grime our your ass\\nEverybody's hustling with sons toting guns\\nWhere Reggie Noble's from we stick nuns that got funds\\nBomb niggas like they did in Oklahoma\\nFreez, you're froze, Def Squad UHH, case closed\\n\\n[Rockwilder]\\nI be the, sneaky, second dimension, seeping through your sector\\nHave nectar, leaking out you wack rhyme stressers\\nExtra deez disease leave rashes on rappers\\nMakin MC's so feel the breeze of the Grandmaster\\nPacked with swift solid style structure\\nSimonizing MC's with the degree of street ruckus\\nAiyyo who got guns? I split precise, spleen splitter\\nReturn my physical presence to the borough of the hard hitters\\nI devour, night sun shower, minutes last hour, weak man's last power\\nBody, the six four mind shotty\\nThe one you handle, second dimension mind vandal\\nLacerating your retina for tryin to see this\\nAs I'm flowin through the prism of the X-3-D\\nSee at forty belows I freak flows that burn your nose\\nWhen you inhale the verbal blows, case closed\\n\\n[Hook: Redman & (Crossbreed)]\\nAiyyo, why the fuck you tryin to get funky on me nigga?\\n(Aiyyo, why the fuck you tryin to get funky on me nigga?)\\nYo, don't you know, who I am motherfucker?\\nRedman's the name fool\\n(That's my nigga!)\\nWhy the fuck you tryin to get funky on me nigga?\\n(Aiyyo, why the fuck you tryin to get funky on me nigga?)\\nYo, don't you know, who they are motherfucker?\\n(Crossbreed's the crew fool)\\nThem my niggas!\\n\\n[Verse Three: Napalm]\\nThings ain't easy, cuz we be, strugglin day to day\\nA bunch of stressed black men with not really much to say\\nTwistin up some brown paper that we struggle just to get\\nAll the deaf dumb and blind become mentally equipped\\nAs I extend my pen to wreak havoc on paper\\nI execute and burn MC's like Absolut with no chaser\\nStrong as chemical the general with props\\nPast wreckin mics, I make the Earth shatter like the 7th sign\\nMy drama bring about a new aura\\nI'm sending a plague through your town like God did Sodom and Gomorrah\\nThe deepest, my vocals actions got you speechless\\nMake gangsta niggas wanna go home and talk to Jesus\\nNo man alive could figure we, beating rappers literally\\nX-3-D get up on this three dimensional trilogy\\nGot no love for foes, no respect for grimy hoes\\nNuff said, X-3-D blowing up, case closed\"\n",
    "print(text1)\n",
    "print('-'*70)\n",
    "text2 = preprocessText(text1, remove_stops=False)\n",
    "print(text2)"
   ]
  },
  {
   "cell_type": "code",
   "execution_count": 18,
   "metadata": {
    "scrolled": true
   },
   "outputs": [
    {
     "name": "stdout",
     "output_type": "stream",
     "text": [
      "<class 'list'>\n",
      "['7th', 'a', 'about', 'absolut', 'actions', 'aint', 'aiyyo', 'alcatraz', 'alive', 'all', 'am', 'amazing', 'and', 'are', 'as', 'ash', 'ass', 'at', 'aura', 'be', 'beating', 'become', 'believe', 'belows', 'better', 'between', 'black', 'blast', 'blind', 'blow', 'blowing', 'blows', 'body', 'bomb', 'booya', 'borough', 'breeze', 'bring', 'broke', 'brown', 'bulletproof', 'bunch', 'burn', 'but', 'case', 'chaser', 'check', 'chemical', 'clear', 'closed', 'come', 'coming', 'could', 'crew', 'crossbreed', 'cuz', 'day', 'deaf', 'decide', 'deepest', 'deez', 'def', 'degree', 'devour', 'dick', 'did', 'didick', 'dimension', 'dimensional', 'disease', 'do', 'dope', 'down', 'drama', 'dumb', 'ear', 'earth', 'easy', 'em', 'equipped', 'everybody', 'execute', 'experts', 'extend', 'extra', 'fears', 'feel', 'figure', 'flowin', 'flows', 'fly', 'fo', 'foes', 'fool', 'for', 'forty', 'four', 'freak', 'freez', 'from', 'froze', 'fuck', 'funds', 'funky', 'gangsta', 'gear', 'general', 'get', 'go', 'god', 'gomorrah', 'got', 'grace', 'grandmaster', 'grime', 'grimy', 'guns', 'hah', 'hahhah', 'handle', 'hard', 'have', 'havoc', 'here', 'hit', 'hitters', 'hoes', 'home', 'hour', 'how', 'huh', 'hustling', 'i', 'if', 'in', 'inhale', 'is', 'it', 'jesus', 'just', 'know', 'lacerating', 'last', 'leaking', 'leave', 'let', 'like', 'literally', 'love', 'make', 'makin', 'man', 'mc', 'me', 'men', 'mentally', 'mics', 'mind', 'minutes', 'more', 'motherfucker', 'motherfuckers', 'motion', 'much', 'my', 'name', 'nectar', 'networks', 'new', 'newwwww', 'nigga', 'niggas', 'night', 'nine', 'nineteen', 'ninetysix', 'no', 'noble', 'nose', 'not', 'now', 'nuff', 'nuns', 'of', 'oklahoma', 'on', 'one', 'only', 'other', 'our', 'out', 'packed', 'paper', 'paragraphs', 'past', 'pen', 'perimeter', 'physical', 'plague', 'plus', 'po', 'potent', 'pound', 'power', 'precise', 'presence', 'prism', 'props', 'puffin', 'rappers', 'rashes', 'really', 'redman', 'reggie', 'respect', 'retina', 'return', 'rhyme', 'rough', 'ruckus', 'said', 'say', 'second', 'sector', 'see', 'seeping', 'sending', 'shatter', 'shotty', 'show', 'shower', 'sickedest', 'sign', 'simonizing', 'since', 'six', 'sneaky', 'so', 'sodom', 'solid', 'some', 'sons', 'sound', 'sounds', 'speechless', 'spleen', 'split', 'splitter', 'spots', 'squad', 'staff', 'stick', 'street', 'stressed', 'stressers', 'strong', 'structure', 'struggle', 'strugglin', 'style', 'sun', 'sweet', 'swift', 'talk', 'than', 'that', 'the', 'them', 'these', 'they', 'thing', 'things', 'thinks', 'this', 'three', 'through', 'to', 'toting', 'town', 'tree', 'trilogy', 'tryin', 'twistin', 'uhh', 'up', 'upstairs', 'urban', 'vandal', 'verbal', 'vocals', 'wack', 'wanna', 'we', 'weak', 'when', 'where', 'while', 'who', 'whooo', 'why', 'with', 'wreak', 'wreckin', 'x3d', 'yippeekiyay', 'yo', 'you', 'your']\n"
     ]
    }
   ],
   "source": [
    "# 列出每一首歌詞的唯一詞語\n",
    "items = 'hah huh hah hah hah hahhah hah nineteen ninetysix hah come on coming with the sickedest motherfuckers in the perimeter huh whooo nineteen you hit em with a newwwww ninetysix nine six tree dick be fly in your ass dick didick check amazing grace how sweet the sound is of the fo pound to blast all these sound men that got the po sound yippeekiyay motherfuckers here is the show down but since we are broke now with dope sounds now here we go now check the motion while i be puffin the potent blow spots and urban networks with other experts plus this thing between my ear thinks clear and the only thing it fears is the man upstairs so fuck your bulletproof gear if i decide to get your ass you better believe it is more than a blast booya more like rough paragraphs out alcatraz and ash your staff let the grime our your ass everybody is hustling with sons toting guns where reggie noble is from we stick nuns that got funds bomb niggas like they did in oklahoma freez you are froze def squad uhh case closed i be the sneaky second dimension seeping through your sector have nectar leaking out you wack rhyme stressers extra deez disease leave rashes on rappers makin mc is so feel the breeze of the grandmaster packed with swift solid style structure simonizing mc is with the degree of street ruckus aiyyo who got guns i split precise spleen splitter return my physical presence to the borough of the hard hitters i devour night sun shower minutes last hour weak man is last power body the six four mind shotty the one you handle second dimension mind vandal lacerating your retina for tryin to see this as i am flowin through the prism of the x3d see at forty belows i freak flows that burn your nose when you inhale the verbal blows case closed aiyyo why the fuck you tryin to get funky on me nigga aiyyo why the fuck you tryin to get funky on me nigga yo do not you know who i am motherfucker redman is the name fool that is my nigga why the fuck you tryin to get funky on me nigga aiyyo why the fuck you tryin to get funky on me nigga yo do not you know who they are motherfucker crossbreed is the crew fool them my niggas things aint easy cuz we be strugglin day to day a bunch of stressed black men with not really much to say twistin up some brown paper that we struggle just to get all the deaf dumb and blind become mentally equipped as i extend my pen to wreak havoc on paper i execute and burn mc is like absolut with no chaser strong as chemical the general with props past wreckin mics i make the earth shatter like the 7th sign my drama bring about a new aura i am sending a plague through your town like god did sodom and gomorrah the deepest my vocals actions got you speechless make gangsta niggas wanna go home and talk to jesus no man alive could figure we beating rappers literally x3d get up on this three dimensional trilogy got no love for foes no respect for grimy hoes nuff said x3d blowing up case closed'\n",
    "words = [word for word in items.split(\" \")]\n",
    "result = (\" \".join(sorted(list(set(words))))).split()\n",
    "print(type(result))\n",
    "print(result)"
   ]
  },
  {
   "cell_type": "code",
   "execution_count": null,
   "metadata": {},
   "outputs": [],
   "source": []
  }
 ],
 "metadata": {
  "kernelspec": {
   "display_name": "Python 3",
   "language": "python",
   "name": "python3"
  },
  "language_info": {
   "codemirror_mode": {
    "name": "ipython",
    "version": 3
   },
   "file_extension": ".py",
   "mimetype": "text/x-python",
   "name": "python",
   "nbconvert_exporter": "python",
   "pygments_lexer": "ipython3",
   "version": "3.6.5"
  }
 },
 "nbformat": 4,
 "nbformat_minor": 2
}
