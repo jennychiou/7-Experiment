{
 "cells": [
  {
   "cell_type": "markdown",
   "metadata": {},
   "source": [
    "**<font color=blue size=5 face=雅黑>Musixmatch Get ScrollingLyrics</font>**<br>\n",
    "https://github.com/hudsonbrendon/python-musixmatch"
   ]
  },
  {
   "cell_type": "code",
   "execution_count": 19,
   "metadata": {},
   "outputs": [],
   "source": [
    "from musixmatch import Musixmatch\n",
    "musixmatch = Musixmatch('cf5507b1e904c0d1093ccd5a84694693')"
   ]
  },
  {
   "cell_type": "code",
   "execution_count": 70,
   "metadata": {
    "scrolled": true
   },
   "outputs": [
    {
     "data": {
      "text/plain": [
       "{'message': {'header': {'status_code': 200,\n",
       "   'execute_time': 0.015675067901611,\n",
       "   'available': 15},\n",
       "  'body': {'track_list': [{'track': {'track_id': 12414632,\n",
       "      'track_name': 'Back to December',\n",
       "      'track_name_translation_list': [{'track_name_translation': {'language': 'JA',\n",
       "         'translation': 'バック・トゥ・ディセンバー'}}],\n",
       "      'track_rating': 60,\n",
       "      'commontrack_id': 8948139,\n",
       "      'instrumental': 0,\n",
       "      'explicit': 0,\n",
       "      'has_lyrics': 1,\n",
       "      'has_subtitles': 1,\n",
       "      'has_richsync': 1,\n",
       "      'num_favourite': 37864,\n",
       "      'album_id': 12414703,\n",
       "      'album_name': 'Speak Now',\n",
       "      'artist_id': 259675,\n",
       "      'artist_name': 'Taylor Swift',\n",
       "      'track_share_url': 'https://www.musixmatch.com/lyrics/Taylor-Swift/Back-to-December?utm_source=application&utm_campaign=api&utm_medium=',\n",
       "      'track_edit_url': 'https://www.musixmatch.com/lyrics/Taylor-Swift/Back-to-December/edit?utm_source=application&utm_campaign=api&utm_medium=',\n",
       "      'restricted': 0,\n",
       "      'updated_time': '2016-02-07T18:08:28Z',\n",
       "      'primary_genres': {'music_genre_list': [{'music_genre': {'music_genre_id': 6,\n",
       "          'music_genre_parent_id': 34,\n",
       "          'music_genre_name': 'Country',\n",
       "          'music_genre_name_extended': 'Country',\n",
       "          'music_genre_vanity': 'Country'}}]}}},\n",
       "    {'track': {'track_id': 82744708,\n",
       "      'track_name': 'Back to December (acoustic version)',\n",
       "      'track_name_translation_list': [],\n",
       "      'track_rating': 40,\n",
       "      'commontrack_id': 12577576,\n",
       "      'instrumental': 0,\n",
       "      'explicit': 0,\n",
       "      'has_lyrics': 1,\n",
       "      'has_subtitles': 1,\n",
       "      'has_richsync': 0,\n",
       "      'num_favourite': 722,\n",
       "      'album_id': 20755018,\n",
       "      'album_name': 'Speak Now',\n",
       "      'artist_id': 259675,\n",
       "      'artist_name': 'Taylor Swift',\n",
       "      'track_share_url': 'https://www.musixmatch.com/lyrics/Taylor-Swift/Back-to-December-Acoustic-Version?utm_source=application&utm_campaign=api&utm_medium=',\n",
       "      'track_edit_url': 'https://www.musixmatch.com/lyrics/Taylor-Swift/Back-to-December-Acoustic-Version/edit?utm_source=application&utm_campaign=api&utm_medium=',\n",
       "      'restricted': 0,\n",
       "      'updated_time': '2018-12-22T16:23:05Z',\n",
       "      'primary_genres': {'music_genre_list': [{'music_genre': {'music_genre_id': 6,\n",
       "          'music_genre_parent_id': 34,\n",
       "          'music_genre_name': 'Country',\n",
       "          'music_genre_name_extended': 'Country',\n",
       "          'music_genre_vanity': 'Country'}}]}}},\n",
       "    {'track': {'track_id': 15291462,\n",
       "      'track_name': 'Back to December (US version)',\n",
       "      'track_name_translation_list': [],\n",
       "      'track_rating': 34,\n",
       "      'commontrack_id': 9055464,\n",
       "      'instrumental': 0,\n",
       "      'explicit': 0,\n",
       "      'has_lyrics': 1,\n",
       "      'has_subtitles': 1,\n",
       "      'has_richsync': 1,\n",
       "      'num_favourite': 846,\n",
       "      'album_id': 13826318,\n",
       "      'album_name': 'Speak Now',\n",
       "      'artist_id': 259675,\n",
       "      'artist_name': 'Taylor Swift',\n",
       "      'track_share_url': 'https://www.musixmatch.com/lyrics/Taylor-Swift/Back-to-December-US-version?utm_source=application&utm_campaign=api&utm_medium=',\n",
       "      'track_edit_url': 'https://www.musixmatch.com/lyrics/Taylor-Swift/Back-to-December-US-version/edit?utm_source=application&utm_campaign=api&utm_medium=',\n",
       "      'restricted': 0,\n",
       "      'updated_time': '2016-07-30T07:01:49Z',\n",
       "      'primary_genres': {'music_genre_list': [{'music_genre': {'music_genre_id': 6,\n",
       "          'music_genre_parent_id': 34,\n",
       "          'music_genre_name': 'Country',\n",
       "          'music_genre_name_extended': 'Country',\n",
       "          'music_genre_vanity': 'Country'}}]}}}]}}}"
      ]
     },
     "execution_count": 70,
     "metadata": {},
     "output_type": "execute_result"
    }
   ],
   "source": [
    "musixmatch.track_search(q_track='back to december', q_artist='taylor swift', page_size=3, page=1, s_track_rating='desc')"
   ]
  },
  {
   "cell_type": "code",
   "execution_count": 68,
   "metadata": {
    "scrolled": true
   },
   "outputs": [
    {
     "name": "stdout",
     "output_type": "stream",
     "text": [
      "b'callback({\"message\":{\"header\":{\"status_code\":200,\"execute_time\":0.015979051589966,\"available\":12},\"body\":{\"track_list\":[{\"track\":{\"track_id\":12414632,\"track_name\":\"Back to December\",\"track_name_translation_list\":[{\"track_name_translation\":{\"language\":\"JA\",\"translation\":\"\\\\u30d0\\\\u30c3\\\\u30af\\\\u30fb\\\\u30c8\\\\u30a5\\\\u30fb\\\\u30c7\\\\u30a3\\\\u30bb\\\\u30f3\\\\u30d0\\\\u30fc\"}}],\"track_rating\":60,\"commontrack_id\":8948139,\"instrumental\":0,\"explicit\":0,\"has_lyrics\":1,\"has_subtitles\":1,\"has_richsync\":1,\"num_favourite\":37864,\"album_id\":12414703,\"album_name\":\"Speak Now\",\"artist_id\":259675,\"artist_name\":\"Taylor Swift\",\"track_share_url\":\"https:\\\\/\\\\/www.musixmatch.com\\\\/lyrics\\\\/Taylor-Swift\\\\/Back-to-December?utm_source=application&utm_campaign=api&utm_medium=\",\"track_edit_url\":\"https:\\\\/\\\\/www.musixmatch.com\\\\/lyrics\\\\/Taylor-Swift\\\\/Back-to-December\\\\/edit?utm_source=application&utm_campaign=api&utm_medium=\",\"restricted\":0,\"updated_time\":\"2016-02-07T18:08:28Z\",\"primary_genres\":{\"music_genre_list\":[{\"music_genre\":{\"music_genre_id\":6,\"music_genre_parent_id\":34,\"music_genre_name\":\"Country\",\"music_genre_name_extended\":\"Country\",\"music_genre_vanity\":\"Country\"}}]}}},{\"track\":{\"track_id\":32166347,\"track_name\":\"Back to December \\\\/ Apologize \\\\/ You\\'re Not Sorry (Live from Chicago\\\\/San Jose 2011)\",\"track_name_translation_list\":[],\"track_rating\":31,\"commontrack_id\":12577579,\"instrumental\":0,\"explicit\":0,\"has_lyrics\":1,\"has_subtitles\":1,\"has_richsync\":0,\"num_favourite\":23,\"album_id\":15342070,\"album_name\":\"Speak Now: World Tour Live\",\"artist_id\":259675,\"artist_name\":\"Taylor Swift\",\"track_share_url\":\"https:\\\\/\\\\/www.musixmatch.com\\\\/lyrics\\\\/Taylor-Swift\\\\/Back-to-December-Apologize-You-re-Not-Sorry-Live-from-Chicago-San-Jose-2011?utm_source=application&utm_campaign=api&utm_medium=\",\"track_edit_url\":\"https:\\\\/\\\\/www.musixmatch.com\\\\/lyrics\\\\/Taylor-Swift\\\\/Back-to-December-Apologize-You-re-Not-Sorry-Live-from-Chicago-San-Jose-2011\\\\/edit?utm_source=application&utm_campaign=api&utm_medium=\",\"restricted\":0,\"updated_time\":\"2013-09-27T21:59:28Z\",\"primary_genres\":{\"music_genre_list\":[{\"music_genre\":{\"music_genre_id\":14,\"music_genre_parent_id\":34,\"music_genre_name\":\"Pop\",\"music_genre_name_extended\":\"Pop\",\"music_genre_vanity\":\"Pop\"}}]}}},{\"track\":{\"track_id\":12693366,\"track_name\":\"Back to December (acoustic)\",\"track_name_translation_list\":[],\"track_rating\":34,\"commontrack_id\":8964512,\"instrumental\":0,\"explicit\":0,\"has_lyrics\":1,\"has_subtitles\":1,\"has_richsync\":1,\"num_favourite\":2175,\"album_id\":13826318,\"album_name\":\"Speak Now\",\"artist_id\":259675,\"artist_name\":\"Taylor Swift\",\"track_share_url\":\"https:\\\\/\\\\/www.musixmatch.com\\\\/lyrics\\\\/Taylor-Swift\\\\/Back-to-December-acoustic?utm_source=application&utm_campaign=api&utm_medium=\",\"track_edit_url\":\"https:\\\\/\\\\/www.musixmatch.com\\\\/lyrics\\\\/Taylor-Swift\\\\/Back-to-December-acoustic\\\\/edit?utm_source=application&utm_campaign=api&utm_medium=\",\"restricted\":0,\"updated_time\":\"2017-12-18T14:10:03Z\",\"primary_genres\":{\"music_genre_list\":[{\"music_genre\":{\"music_genre_id\":6,\"music_genre_parent_id\":34,\"music_genre_name\":\"Country\",\"music_genre_name_extended\":\"Country\",\"music_genre_vanity\":\"Country\"}}]}}},{\"track\":{\"track_id\":32166041,\"track_name\":\"Back To December (Instrumental With Background Vocals)\",\"track_name_translation_list\":[{\"track_name_translation\":{\"language\":\"JA\",\"translation\":\"\\\\u30d0\\\\u30c3\\\\u30af\\\\u30fb\\\\u30c8\\\\u30a5\\\\u30fb\\\\u30c7\\\\u30a3\\\\u30bb\\\\u30f3\\\\u30d0\\\\u30fc - Karaoke Version\"}}],\"track_rating\":34,\"commontrack_id\":12577580,\"instrumental\":1,\"explicit\":0,\"has_lyrics\":0,\"has_subtitles\":0,\"has_richsync\":0,\"num_favourite\":10,\"album_id\":15342042,\"album_name\":\"Taylor Swift Karaoke: Speak Now\",\"artist_id\":259675,\"artist_name\":\"Taylor Swift\",\"track_share_url\":\"https:\\\\/\\\\/www.musixmatch.com\\\\/lyrics\\\\/Taylor-Swift\\\\/Back-To-December-Instrumental-With-Background-Vocals?utm_source=application&utm_campaign=api&utm_medium=\",\"track_edit_url\":\"https:\\\\/\\\\/www.musixmatch.com\\\\/lyrics\\\\/Taylor-Swift\\\\/Back-To-December-Instrumental-With-Background-Vocals\\\\/edit?utm_source=application&utm_campaign=api&utm_medium=\",\"restricted\":0,\"updated_time\":\"2019-04-08T20:17:48Z\",\"primary_genres\":{\"music_genre_list\":[{\"music_genre\":{\"music_genre_id\":6,\"music_genre_parent_id\":34,\"music_genre_name\":\"Country\",\"music_genre_name_extended\":\"Country\",\"music_genre_vanity\":\"Country\"}}]}}},{\"track\":{\"track_id\":133550234,\"track_name\":\"Back To December \\\\/ Apologize \\\\/ You\\'re Not Sorry - Live 2011\",\"track_name_translation_list\":[],\"track_rating\":34,\"commontrack_id\":12577578,\"instrumental\":0,\"explicit\":0,\"has_lyrics\":1,\"has_subtitles\":1,\"has_richsync\":1,\"num_favourite\":2,\"album_id\":26690305,\"album_name\":\"Speak Now World Tour Live (Brazilian Edition)\",\"artist_id\":259675,\"artist_name\":\"Taylor Swift\",\"track_share_url\":\"https:\\\\/\\\\/www.musixmatch.com\\\\/lyrics\\\\/Taylor-Swift\\\\/Back-to-December-Apologize-You-re-Not-Sorry-Live-2011?utm_source=application&utm_campaign=api&utm_medium=\",\"track_edit_url\":\"https:\\\\/\\\\/www.musixmatch.com\\\\/lyrics\\\\/Taylor-Swift\\\\/Back-to-December-Apologize-You-re-Not-Sorry-Live-2011\\\\/edit?utm_source=application&utm_campaign=api&utm_medium=\",\"restricted\":0,\"updated_time\":\"2016-12-24T09:48:35Z\",\"primary_genres\":{\"music_genre_list\":[{\"music_genre\":{\"music_genre_id\":14,\"music_genre_parent_id\":34,\"music_genre_name\":\"Pop\",\"music_genre_name_extended\":\"Pop\",\"music_genre_vanity\":\"Pop\"}}]}}},{\"track\":{\"track_id\":82744708,\"track_name\":\"Back to December (acoustic version)\",\"track_name_translation_list\":[],\"track_rating\":40,\"commontrack_id\":12577576,\"instrumental\":0,\"explicit\":0,\"has_lyrics\":1,\"has_subtitles\":1,\"has_richsync\":0,\"num_favourite\":722,\"album_id\":20755018,\"album_name\":\"Speak Now\",\"artist_id\":259675,\"artist_name\":\"Taylor Swift\",\"track_share_url\":\"https:\\\\/\\\\/www.musixmatch.com\\\\/lyrics\\\\/Taylor-Swift\\\\/Back-to-December-Acoustic-Version?utm_source=application&utm_campaign=api&utm_medium=\",\"track_edit_url\":\"https:\\\\/\\\\/www.musixmatch.com\\\\/lyrics\\\\/Taylor-Swift\\\\/Back-to-December-Acoustic-Version\\\\/edit?utm_source=application&utm_campaign=api&utm_medium=\",\"restricted\":0,\"updated_time\":\"2018-12-22T16:23:05Z\",\"primary_genres\":{\"music_genre_list\":[{\"music_genre\":{\"music_genre_id\":6,\"music_genre_parent_id\":34,\"music_genre_name\":\"Country\",\"music_genre_name_extended\":\"Country\",\"music_genre_vanity\":\"Country\"}}]}}},{\"track\":{\"track_id\":170589241,\"track_name\":\"Back to December \\\\/ Apologize \\\\/ You\\'re Not Sorry (Live)\",\"track_name_translation_list\":[],\"track_rating\":34,\"commontrack_id\":12577577,\"instrumental\":0,\"explicit\":0,\"has_lyrics\":1,\"has_subtitles\":1,\"has_richsync\":0,\"num_favourite\":55,\"album_id\":32537154,\"album_name\":\"Speak Now - World Tour Live\",\"artist_id\":259675,\"artist_name\":\"Taylor Swift\",\"track_share_url\":\"https:\\\\/\\\\/www.musixmatch.com\\\\/lyrics\\\\/Taylor-Swift\\\\/Back-to-December-Apologize-You-re-Not-Sorry-Live?utm_source=application&utm_campaign=api&utm_medium=\",\"track_edit_url\":\"https:\\\\/\\\\/www.musixmatch.com\\\\/lyrics\\\\/Taylor-Swift\\\\/Back-to-December-Apologize-You-re-Not-Sorry-Live\\\\/edit?utm_source=application&utm_campaign=api&utm_medium=\",\"restricted\":0,\"updated_time\":\"2017-11-15T17:52:27Z\",\"primary_genres\":{\"music_genre_list\":[{\"music_genre\":{\"music_genre_id\":6,\"music_genre_parent_id\":34,\"music_genre_name\":\"Country\",\"music_genre_name_extended\":\"Country\",\"music_genre_vanity\":\"Country\"}}]}}},{\"track\":{\"track_id\":16638203,\"track_name\":\"Medley: Back to December \\\\/ Apologize \\\\/ You\\'re Not Sorry (live 2011)\",\"track_name_translation_list\":[],\"track_rating\":34,\"commontrack_id\":10254839,\"instrumental\":0,\"explicit\":0,\"has_lyrics\":1,\"has_subtitles\":1,\"has_richsync\":0,\"num_favourite\":1,\"album_id\":13916890,\"album_name\":\"Speak Now - World Tour Live\",\"artist_id\":259675,\"artist_name\":\"Taylor Swift\",\"track_share_url\":\"https:\\\\/\\\\/www.musixmatch.com\\\\/lyrics\\\\/Taylor-Swift\\\\/Medley-Back-to-December-Apologize-You-re-Not-Sorry-live-2011?utm_source=application&utm_campaign=api&utm_medium=\",\"track_edit_url\":\"https:\\\\/\\\\/www.musixmatch.com\\\\/lyrics\\\\/Taylor-Swift\\\\/Medley-Back-to-December-Apologize-You-re-Not-Sorry-live-2011\\\\/edit?utm_source=application&utm_campaign=api&utm_medium=\",\"restricted\":0,\"updated_time\":\"2013-04-26T13:08:50Z\",\"primary_genres\":{\"music_genre_list\":[]}}},{\"track\":{\"track_id\":130803917,\"track_name\":\"Back To December\\\\/Apologize\\\\/You\\'re Not Sorry - Live\\\\/2011\\\\/Medley\",\"track_name_translation_list\":[],\"track_rating\":34,\"commontrack_id\":72911112,\"instrumental\":0,\"explicit\":0,\"has_lyrics\":1,\"has_subtitles\":1,\"has_richsync\":0,\"num_favourite\":1,\"album_id\":26265854,\"album_name\":\"Speak Now World Tour Live\",\"artist_id\":259675,\"artist_name\":\"Taylor Swift\",\"track_share_url\":\"https:\\\\/\\\\/www.musixmatch.com\\\\/lyrics\\\\/Taylor-Swift\\\\/Back-To-December-Apologize-You-re-Not-Sorry-Live-2011-Medley?utm_source=application&utm_campaign=api&utm_medium=\",\"track_edit_url\":\"https:\\\\/\\\\/www.musixmatch.com\\\\/lyrics\\\\/Taylor-Swift\\\\/Back-To-December-Apologize-You-re-Not-Sorry-Live-2011-Medley\\\\/edit?utm_source=application&utm_campaign=api&utm_medium=\",\"restricted\":0,\"updated_time\":\"2017-06-09T12:30:03Z\",\"primary_genres\":{\"music_genre_list\":[{\"music_genre\":{\"music_genre_id\":6,\"music_genre_parent_id\":34,\"music_genre_name\":\"Country\",\"music_genre_name_extended\":\"Country\",\"music_genre_vanity\":\"Country\"}}]}}},{\"track\":{\"track_id\":16057951,\"track_name\":\"Back to December\\\\/Apologize\\\\/You\\'re Not Sorry\",\"track_name_translation_list\":[],\"track_rating\":34,\"commontrack_id\":10321225,\"instrumental\":0,\"explicit\":0,\"has_lyrics\":1,\"has_subtitles\":1,\"has_richsync\":1,\"num_favourite\":2,\"album_id\":13943340,\"album_name\":\"Speak Now World Tour Live\",\"artist_id\":259675,\"artist_name\":\"Taylor Swift\",\"track_share_url\":\"https:\\\\/\\\\/www.musixmatch.com\\\\/lyrics\\\\/Taylor-Swift\\\\/Back-to-December-Apologize-You-re-Not-Sorry?utm_source=application&utm_campaign=api&utm_medium=\",\"track_edit_url\":\"https:\\\\/\\\\/www.musixmatch.com\\\\/lyrics\\\\/Taylor-Swift\\\\/Back-to-December-Apologize-You-re-Not-Sorry\\\\/edit?utm_source=application&utm_campaign=api&utm_medium=\",\"restricted\":0,\"updated_time\":\"2016-06-05T18:23:59Z\",\"primary_genres\":{\"music_genre_list\":[]}}}]}}});'\n"
     ]
    }
   ],
   "source": [
    "track_search_url = \"https://api.musixmatch.com/ws/1.1/track.search?format=jsonp&callback=callback&q_track=back%20to%20december&q_artist=taylor%20swift&f_has_lyrics=1&quorum_factor=1&apikey=cf5507b1e904c0d1093ccd5a84694693\"\n",
    "track_search_request = urllib.request.Request(track_search_url)\n",
    "track_search_response = urllib.request.urlopen(track_search_request, timeout=4)\n",
    "raw_track_search = track_search_response.read()\n",
    "print(raw_track_search)"
   ]
  },
  {
   "cell_type": "code",
   "execution_count": 65,
   "metadata": {},
   "outputs": [
    {
     "data": {
      "text/plain": [
       "{'message': {'header': {'status_code': 500,\n",
       "   'execute_time': 0.0019538402557373,\n",
       "   'exception_id': 9000},\n",
       "  'body': ''}}"
      ]
     },
     "execution_count": 65,
     "metadata": {},
     "output_type": "execute_result"
    }
   ],
   "source": [
    "musixmatch.track_get(12414632)"
   ]
  },
  {
   "cell_type": "code",
   "execution_count": 38,
   "metadata": {
    "collapsed": true
   },
   "outputs": [
    {
     "data": {
      "text/plain": [
       "{'message': {'header': {'status_code': 200, 'execute_time': 0.08741283416748},\n",
       "  'body': {'lyrics': {'lyrics_id': 14094468,\n",
       "    'explicit': 0,\n",
       "    'lyrics_body': \"I'm so glad you made time to see me\\nHow's life, tell me how's your family\\nI haven't seen them in a while\\n\\nYou've been good, busier then ever\\nWe small talk, work and the weather\\nYour guard is up and I know why\\n\\n'Cause the last time you saw me\\nIs still burned in the back of your mind\\nYou gave me roses and I left them there to die\\n\\nSo this is me swallowing my pride standing in front of you saying I'm sorry for that night\\nAnd I'd go back to December all the time\\nIt turns out freedom ain't nothing but missing you wishing I'd realized what I had when you were mine\\nI'd go back to December, turn around and make it all right\\nI'd go back to December all the time\\n...\\n\\n******* This Lyrics is NOT for Commercial use *******\",\n",
       "    'script_tracking_url': 'https://tracking.musixmatch.com/t1.0/m_js/e_1/sn_0/l_14094468/su_0/rs_0/tr_3vUCAH4-179Y2I_939DleemLdtjUbx8gVn8U85SqjO5xdpBwbUZx7k2wHuHkYItbwq5Goawor_bnGUfy8CG8GZMldfYUtDqnwkBpqvTe0X4BC-5b1zfduzGH32e3KWekxii7bB1rVcrvBQ1q4iUnZA7RMdol4bOl6JMzP8GIt2-Uof4vRoJwFzLU1N_4AaaUnT0_R0wFYb84J-_sgfhfiYb5n4KPXCqMUHY7hy7IlN6K6nDvCy7GvO-MjlyTMh2jsOL8giWxnr4mbmggAljejRJUXc0XaVoPemQPbz0fC6rK-gMdpObTRMz4Cn5iyzONqWIl-liOBO6SnO1eOOXIviS3TZ5I5rmyQzOjhSRa9H8W6AmwTFdENE7vtwCVcV0lF-KZtOZ9XauILkCHLoqyfHaURQ7lGkSB2-YOlK2ugg/',\n",
       "    'pixel_tracking_url': 'https://tracking.musixmatch.com/t1.0/m_img/e_1/sn_0/l_14094468/su_0/rs_0/tr_3vUCAPgerREgxJSttt9cxz8JKuw3Kuu671EsjgAcU0svKseJUIczxTHesK__HMzho_6pGZdzOAoCjG1wiq0r7G3dxLaMSPlJ2DWL-gV49aOGX15UYAZEwmBQcv2bNbxrsi8JfHTmQVvx4Q1fKDhmqwHiu2_9P9QOVx2tGoGgcHSFYs-qmw9Q3dMmDaM0Xoi9P9ZLsASGWmqgDxQJiuzOM39HMehOXZnS8Ons9oec7HikH0m6z4x6CWodvICZwo_ZePefMEtbwfRDqAHk-X6ioChEY1rEq_mwW6ciclud8K1FqRE9A3vKGzwNNsR6nAEombuCGRC-dnIbCTWAtRndEJxRwm62LcVd8OVwdhMilz4RlSKxRpYjCfI_IilUBe5J88Jx4Vz2qlFkS10HR9iqsZt2j9cAualud1k-ByFtgQ/',\n",
       "    'lyrics_copyright': 'Lyrics powered by www.musixmatch.com. This Lyrics is NOT for Commercial use and only 30% of the lyrics are returned.',\n",
       "    'updated_time': '2016-02-07T18:05:53Z'}}}}"
      ]
     },
     "execution_count": 38,
     "metadata": {},
     "output_type": "execute_result"
    }
   ],
   "source": [
    "a = musixmatch.track_lyrics_get(12414632)\n",
    "a"
   ]
  },
  {
   "cell_type": "code",
   "execution_count": 39,
   "metadata": {
    "collapsed": true
   },
   "outputs": [
    {
     "data": {
      "text/plain": [
       "\"I'm so glad you made time to see me\\nHow's life, tell me how's your family\\nI haven't seen them in a while\\n\\nYou've been good, busier then ever\\nWe small talk, work and the weather\\nYour guard is up and I know why\\n\\n'Cause the last time you saw me\\nIs still burned in the back of your mind\\nYou gave me roses and I left them there to die\\n\\nSo this is me swallowing my pride standing in front of you saying I'm sorry for that night\\nAnd I'd go back to December all the time\\nIt turns out freedom ain't nothing but missing you wishing I'd realized what I had when you were mine\\nI'd go back to December, turn around and make it all right\\nI'd go back to December all the time\\n...\\n\\n******* This Lyrics is NOT for Commercial use *******\""
      ]
     },
     "execution_count": 39,
     "metadata": {},
     "output_type": "execute_result"
    }
   ],
   "source": [
    "a.get('message').get('body').get('lyrics').get('lyrics_body')"
   ]
  },
  {
   "cell_type": "code",
   "execution_count": 40,
   "metadata": {},
   "outputs": [
    {
     "data": {
      "text/plain": [
       "{'message': {'header': {'status_code': 403,\n",
       "   'execute_time': 0.00099802017211914},\n",
       "  'body': ''}}"
      ]
     },
     "execution_count": 40,
     "metadata": {},
     "output_type": "execute_result"
    }
   ],
   "source": [
    "# track_subtitle_get方法\n",
    "musixmatch.track_subtitle_get(12414632)"
   ]
  },
  {
   "cell_type": "code",
   "execution_count": 51,
   "metadata": {},
   "outputs": [],
   "source": [
    "import urllib"
   ]
  },
  {
   "cell_type": "code",
   "execution_count": 53,
   "metadata": {
    "code_folding": [
     12,
     16,
     21,
     34,
     43,
     46
    ]
   },
   "outputs": [],
   "source": [
    "def song_lyric(song_name,artist_name):\n",
    "    while True:\n",
    "        apiurl_musixmatch = 'http://api.musixmatch.com/ws/1.1/'\n",
    "        apikey_musixmatch = 'cf5507b1e904c0d1093ccd5a84694693'\n",
    "        # f_has_lyrics=1代表有歌詞\n",
    "        # f_has_subtitles=1代表有動態歌詞\n",
    "        querystring = apiurl_musixmatch + \"matcher.lyrics.get?q_track=\" + urllib.parse.quote(song_name) + \"&q_artist=\" + urllib.parse.quote(artist_name) +\"&apikey=\" + apikey_musixmatch + \"&format=json&f_has_lyrics=1\"\n",
    "        #matcher.lyrics.get?q_track=sexy%20and%20i%20know%20it&q_artist=lmfao\n",
    "        request = urllib.request.Request(querystring)\n",
    "        #request.add_header(\"Authorization\", \"Bearer \" + client_access_token)\n",
    "        request.add_header(\"User-Agent\", \"curl/7.9.8 (i686-pc-linux-gnu) libcurl 7.9.8 (OpenSSL 0.9.6b) (ipv6 enabled)\") #Must include user agent of some sort, otherwise 403 returned\n",
    "        while True:\n",
    "            try:\n",
    "                response = urllib.request.urlopen(request, timeout=4) #timeout set to 4 seconds; automatically retries if times out\n",
    "                raw = response.read()\n",
    "                #print(raw)\n",
    "            except socket.timeout:\n",
    "                print(\"Timeout raised and caught\")\n",
    "                continue\n",
    "            break\n",
    "        json_obj = json.loads(raw.decode('utf-8'))\n",
    "        if json_obj[\"message\"][\"body\"] != \"\":\n",
    "            print(json_obj)\n",
    "            body = json_obj[\"message\"][\"body\"][\"lyrics\"][\"lyrics_body\"]\n",
    "            copyright = json_obj[\"message\"][\"body\"][\"lyrics\"][\"lyrics_copyright\"]\n",
    "            tracking_url = json_obj[\"message\"][\"body\"][\"lyrics\"][\"script_tracking_url\"]\n",
    "            # 原本是html_tracking_url\n",
    "            if(tracking_url!= \"\"):\n",
    "                #print(body)\n",
    "                #print(tracking_url)\n",
    "                lyrics_tracking(tracking_url)\n",
    "                return (body + \"\\n\\n\" +copyright)\n",
    "            else:\n",
    "                return \"None\"\n",
    "        else:\n",
    "            return \"None\"\n",
    "\n",
    "def lyrics_tracking(tracking_url):\n",
    "    while True:\n",
    "        querystring = tracking_url\n",
    "        request = urllib.request.Request(querystring)\n",
    "        #request.add_header(\"Authorization\", \"Bearer \" + client_access_token)\n",
    "        request.add_header(\"User-Agent\", \"curl/7.9.8 (i686-pc-linux-gnu) libcurl 7.9.8 (OpenSSL 0.9.6b) (ipv6 enabled)\") #Must include user agent of some sort, otherwise 403 returned\n",
    "        try:\n",
    "            response = urllib.request.urlopen(request, timeout=4) #timeout set to 4 seconds; automatically retries if times out\n",
    "            raw = response.read()\n",
    "        except socket.timeout:\n",
    "            print(\"Timeout raised and caught\")\n",
    "            continue\n",
    "        break\n",
    "        print(raw)"
   ]
  },
  {
   "cell_type": "code",
   "execution_count": 54,
   "metadata": {
    "scrolled": true
   },
   "outputs": [
    {
     "name": "stdout",
     "output_type": "stream",
     "text": [
      "{'message': {'header': {'status_code': 200, 'execute_time': 0.085551977157593}, 'body': {'lyrics': {'lyrics_id': 14094468, 'explicit': 0, 'lyrics_body': \"I'm so glad you made time to see me\\nHow's life, tell me how's your family\\nI haven't seen them in a while\\n\\nYou've been good, busier then ever\\nWe small talk, work and the weather\\nYour guard is up and I know why\\n\\n'Cause the last time you saw me\\nIs still burned in the back of your mind\\nYou gave me roses and I left them there to die\\n\\nSo this is me swallowing my pride standing in front of you saying I'm sorry for that night\\nAnd I'd go back to December all the time\\nIt turns out freedom ain't nothing but missing you wishing I'd realized what I had when you were mine\\nI'd go back to December, turn around and make it all right\\nI'd go back to December all the time\\n...\\n\\n******* This Lyrics is NOT for Commercial use *******\", 'script_tracking_url': 'https://tracking.musixmatch.com/t1.0/m_js/e_1/sn_0/l_14094468/su_0/rs_0/tr_3vUCAN81POTJ7KkWxVcO14FIrwB2aZlIbgNLzcAHaO54rB8ZvbhbWxlX-oNrrsehB1AOkmplVl1p6Jaks5iXo1NSqTfde3FcS5rtQWaHWt-ww4nQGd_-Az8yIM05F6XJZFbeO5whNHhyYOHkNonMVj6RtQ5FvqFVY86-Myek3m3PfpWiwgt78MmfZ6OIsypAzTDeaHE8shq43zNBQ_79CkcGiAZCqibirUnR_HXWiscOEfBp79NjXgtha8GFxlkDQZPnoQ9lqyrDICb9k66XDTto8xdaF1Bh2kVjU8h647SguwoCyKso4bcwmmR8JntUtTfdpIzXR3dTg-oPBkMVqx_6E0nt1lkQ9D2Gf7QsOMXsq8Us8fVUFeDeRa0Tk-OcXVhyIHd7hBt_-8_qiKQh-g7y3e3q-LZk_gGZZuSG2Q/', 'pixel_tracking_url': 'https://tracking.musixmatch.com/t1.0/m_img/e_1/sn_0/l_14094468/su_0/rs_0/tr_3vUCAOUTGbA0DCMcLIzQkwTb3LyPkWnbl2Lp04YO5HwNbYxNfF1AG32mBNJLVSDuMDsgvkosLUi0HtBwhSeIvMlrT-KkHizXdze6pqhizRSdQJSIzyxCgDKcSIRWSQ1k6GZXH3lwIezf41UNYc-G82iRCWkvC_noPdpI2RxIS2MDh9ycaOD4wFFIdAlb94ziaBzZKgLDegzfHrtFqRNrxBj5FWRGV2Gs9cv_KGHlgEhZubcIC9pstuAsl1RHmdwpCMpMTCTCj9Y894Dn4DTGb0job1CiAf1pmOWj2bbkIs6lZlhnyHY_V9fNdyJMuz_8sv8liHnh6hsX9Vxpk-sHquAUlAqH_y38a4xX3Rj1JgfqBg5y8TmlSvBiC7RHzoAOUVItc-w7eT_UwRZVY6Pgd4y6GmllKr_MEnIvQXgyPQ/', 'lyrics_copyright': 'Lyrics powered by www.musixmatch.com. This Lyrics is NOT for Commercial use and only 30% of the lyrics are returned.', 'updated_time': '2016-02-07T18:05:53Z'}}}}\n"
     ]
    },
    {
     "data": {
      "text/plain": [
       "\"I'm so glad you made time to see me\\nHow's life, tell me how's your family\\nI haven't seen them in a while\\n\\nYou've been good, busier then ever\\nWe small talk, work and the weather\\nYour guard is up and I know why\\n\\n'Cause the last time you saw me\\nIs still burned in the back of your mind\\nYou gave me roses and I left them there to die\\n\\nSo this is me swallowing my pride standing in front of you saying I'm sorry for that night\\nAnd I'd go back to December all the time\\nIt turns out freedom ain't nothing but missing you wishing I'd realized what I had when you were mine\\nI'd go back to December, turn around and make it all right\\nI'd go back to December all the time\\n...\\n\\n******* This Lyrics is NOT for Commercial use *******\\n\\nLyrics powered by www.musixmatch.com. This Lyrics is NOT for Commercial use and only 30% of the lyrics are returned.\""
      ]
     },
     "execution_count": 54,
     "metadata": {},
     "output_type": "execute_result"
    }
   ],
   "source": [
    "song_lyric('Back to December','taylor swift')"
   ]
  },
  {
   "cell_type": "code",
   "execution_count": 64,
   "metadata": {},
   "outputs": [
    {
     "name": "stdout",
     "output_type": "stream",
     "text": [
      "b'callback({\"message\":{\"header\":{\"status_code\":403,\"execute_time\":0.0012469291687012},\"body\":\"\"}});'\n"
     ]
    }
   ],
   "source": [
    "# matcher.subtitle.get方法\n",
    "querystring_subtitle = 'https://api.musixmatch.com/ws/1.1/matcher.subtitle.get?format=jsonp&callback=callback&q_track=sexy%20and%20i%20know%20it&q_artist=lmfao&f_subtitle_length=200&f_subtitle_length_max_deviation=3&apikey=cf5507b1e904c0d1093ccd5a84694693'\n",
    "request_subtitle = urllib.request.Request(querystring_subtitle)\n",
    "response_subtitle = urllib.request.urlopen(request_subtitle, timeout=4)\n",
    "raw_subtitle = response_subtitle.read()\n",
    "print(raw_subtitle)"
   ]
  },
  {
   "cell_type": "code",
   "execution_count": 71,
   "metadata": {},
   "outputs": [
    {
     "data": {
      "text/plain": [
       "{'message': {'header': {'status_code': 403,\n",
       "   'execute_time': 0.00099897384643555},\n",
       "  'body': ''}}"
      ]
     },
     "execution_count": 71,
     "metadata": {},
     "output_type": "execute_result"
    }
   ],
   "source": [
    "# 參數放commontrack_id\n",
    "# https://developer.musixmatch.com/documentation/api-reference/track-subtitle-get\n",
    "musixmatch.track_subtitle_get(8948139)"
   ]
  },
  {
   "cell_type": "code",
   "execution_count": null,
   "metadata": {},
   "outputs": [],
   "source": []
  }
 ],
 "metadata": {
  "kernelspec": {
   "display_name": "Python 3",
   "language": "python",
   "name": "python3"
  },
  "language_info": {
   "codemirror_mode": {
    "name": "ipython",
    "version": 3
   },
   "file_extension": ".py",
   "mimetype": "text/x-python",
   "name": "python",
   "nbconvert_exporter": "python",
   "pygments_lexer": "ipython3",
   "version": "3.6.5"
  }
 },
 "nbformat": 4,
 "nbformat_minor": 2
}
