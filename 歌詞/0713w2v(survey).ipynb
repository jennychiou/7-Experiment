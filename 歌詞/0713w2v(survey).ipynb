{
 "cells": [
  {
   "cell_type": "code",
   "execution_count": 229,
   "metadata": {},
   "outputs": [],
   "source": [
    "import os\n",
    "import numpy as np\n",
    "import gensim\n",
    "import nltk\n",
    "import math\n",
    "import string\n",
    "from scipy.linalg import norm\n",
    "from nltk.corpus import stopwords\n",
    "from nltk.stem.porter import *\n",
    "from collections import Counter\n",
    "from gensim.models import TfidfModel\n",
    "from gensim.models.word2vec import Word2Vec\n",
    "from gensim.models.keyedvectors import KeyedVectors\n",
    "from sklearn.feature_extraction.text import CountVectorizer\n",
    "from sklearn.feature_extraction.text import TfidfVectorizer\n",
    "from sklearn.feature_extraction.text import TfidfTransformer"
   ]
  },
  {
   "cell_type": "code",
   "execution_count": 230,
   "metadata": {},
   "outputs": [
    {
     "name": "stdout",
     "output_type": "stream",
     "text": [
      "[nltk_data] Downloading package punkt to\n",
      "[nltk_data]     C:\\Users\\LAB_JennyChiou\\AppData\\Roaming\\nltk_data...\n",
      "[nltk_data]   Package punkt is already up-to-date!\n",
      "[nltk_data] Downloading package stopwords to\n",
      "[nltk_data]     C:\\Users\\LAB_JennyChiou\\AppData\\Roaming\\nltk_data...\n",
      "[nltk_data]   Package stopwords is already up-to-date!\n"
     ]
    },
    {
     "data": {
      "text/plain": [
       "True"
      ]
     },
     "execution_count": 230,
     "metadata": {},
     "output_type": "execute_result"
    }
   ],
   "source": [
    "nltk.download('punkt')\n",
    "nltk.download('stopwords')"
   ]
  },
  {
   "cell_type": "code",
   "execution_count": 226,
   "metadata": {},
   "outputs": [
    {
     "name": "stderr",
     "output_type": "stream",
     "text": [
      "C:\\Users\\LAB_JennyChiou\\Anaconda3\\lib\\site-packages\\ipykernel_launcher.py:6: DeprecationWarning: Call to deprecated `iter` (Attribute will be removed in 4.0.0, use self.epochs instead).\n",
      "  \n"
     ]
    }
   ],
   "source": [
    "#retrained model\n",
    "def retrain(data_file, old_model_file, new_model_file):\n",
    "    sents = 'You say that you|re restless, you say that you know me too well You|ve seen all my best and you|ve heard all the stories I tell You think you|ve been taken for granted, you|re probably right Stil I remember a November Night, When the dawn on your doorway shone white with frost And the soft love that always began with the touch of your hand And recall the mornings that tossed your hair in the wind. Time|s made it meaningless, I|m insecure, you can tell But why am I leaving unless time had only meant well? There|s nothing left now to excite you, no reason to try. Still I remember a candlelit sky And the summer surrounding the ground where you and I lay And though we were always alone with our secrets known, We both were aware and afraid our closeness might end. My love|s like a dancer, she weaves through the danger complete Her well rehearsed answers with her rational reasons for feet. And if it decreases or ceases to always seem right I|ll just remember a November Night When the dawn on your doorway shone white with frost And the soft love that always began with the touch of your hand And recall the mornings that tossed your hair in the wind.'\n",
    "    model = Word2Vec.load(old_model_file)\n",
    "    model.build_vocab(sents, update=True)\n",
    "    model.train(sents, total_examples=model.corpus_count, epochs=model.iter)\n",
    "    model.save(new_model_file)\n",
    "#retrain('temp/','temp/w2vm0719-18','temp/w2vm0719-19')"
   ]
  },
  {
   "cell_type": "code",
   "execution_count": 231,
   "metadata": {
    "scrolled": true
   },
   "outputs": [],
   "source": [
    "model = gensim.models.Word2Vec.load('temp/w2vm0719-19')"
   ]
  },
  {
   "cell_type": "code",
   "execution_count": 3,
   "metadata": {
    "scrolled": true
   },
   "outputs": [
    {
     "name": "stderr",
     "output_type": "stream",
     "text": [
      "C:\\Users\\LAB_JennyChiou\\Anaconda3\\lib\\site-packages\\smart_open\\smart_open_lib.py:398: UserWarning: This function is deprecated, use smart_open.open instead. See the migration notes for details: https://github.com/RaRe-Technologies/smart_open/blob/master/README.rst#migrating-to-the-new-open-function\n",
      "  'See the migration notes for details: %s' % _MIGRATION_NOTES_URL\n"
     ]
    }
   ],
   "source": [
    "'''\n",
    "#https://zhuanlan.zhihu.com/p/39784226\n",
    "gensim_model = KeyedVectors.load_word2vec_format('C:/Users/LAB_JennyChiou/Desktop/codeTEMP/GoogleNews-vectors-negative300.bin', binary=True, limit=300000)\n",
    "print(gensim_model['medicine'])\n",
    "print('DIM:',len(gensim_model['medicine']))\n",
    "'''"
   ]
  },
  {
   "cell_type": "code",
   "execution_count": 55,
   "metadata": {},
   "outputs": [],
   "source": [
    "#分詞\n",
    "def get_tokens(text):\n",
    "    lowers = text.lower()\n",
    "    #remove the punctuation using the character deletion step of translate\n",
    "    remove_punctuation_map = dict((ord(char), None) for char in string.punctuation)\n",
    "    no_punctuation = lowers.translate(remove_punctuation_map)\n",
    "    tokens = nltk.word_tokenize(no_punctuation)\n",
    "    return tokens"
   ]
  },
  {
   "cell_type": "code",
   "execution_count": 56,
   "metadata": {},
   "outputs": [],
   "source": [
    "#過濾缺乏實際意義的 the, a, and 等詞\n",
    "def stem_tokens(tokens, stemmer):\n",
    "    stemmed = []\n",
    "    for item in tokens:\n",
    "        stemmed.append(stemmer.stem(item))\n",
    "    return stemmed"
   ]
  },
  {
   "cell_type": "code",
   "execution_count": 62,
   "metadata": {},
   "outputs": [],
   "source": [
    "def tf(word, count):\n",
    "    return count[word] / sum(count.values())\n",
    "\n",
    "def n_containing(word, count_list):\n",
    "    return sum(1 for count in count_list if word in count)\n",
    "\n",
    "def idf(word, count_list):\n",
    "    return math.log(len(count_list) / (1+n_containing(word, count_list)))\n",
    "\n",
    "def tfidf(word, count, count_list):\n",
    "    return tf(word, count) * idf(word, count_list)"
   ]
  },
  {
   "cell_type": "code",
   "execution_count": 228,
   "metadata": {},
   "outputs": [
    {
     "name": "stdout",
     "output_type": "stream",
     "text": [
      "You say that you|re restless, you say that you know me too well You|ve seen all my best and you|ve heard all the stories I tell You think you|ve been taken for granted, you|re probably right Stil I remember a November Night, When the dawn on your doorway shone white with frost And the soft love that always began with the touch of your hand And recall the mornings that tossed your hair in the wind. Time|s made it meaningless, I|m insecure, you can tell But why am I leaving unless time had only meant well? There|s nothing left now to excite you, no reason to try. Still I remember a candlelit sky And the summer surrounding the ground where you and I lay And though we were always alone with our secrets known, We both were aware and afraid our closeness might end. My love|s like a dancer, she weaves through the danger complete Her well rehearsed answers with her rational reasons for feet. And if it decreases or ceases to always seem right I|ll just remember a November Night When the dawn on your doorway shone white with frost And the soft love that always began with the touch of your hand And recall the mornings that tossed your hair in the wind.\n"
     ]
    }
   ],
   "source": [
    "import csv\n",
    "import pandas as pd\n",
    "df = pd.read_csv('lyrics_data/survey_tfidf.csv',encoding='ISO-8859-15')\n",
    "a = df.iat[19,3]\n",
    "b = a.replace('\\n',' ').replace(\"'\",'|')\n",
    "print(b)\n",
    "tokens1 = get_tokens(b)\n",
    "filtered1 = [w for w in tokens1 if not w in stopwords.words('english')]\n",
    "count1_2 = Counter(filtered1)\n",
    "stemmer = PorterStemmer()\n",
    "stemmed1 = stem_tokens(filtered1, stemmer)"
   ]
  },
  {
   "cell_type": "code",
   "execution_count": 127,
   "metadata": {},
   "outputs": [
    {
     "name": "stdout",
     "output_type": "stream",
     "text": [
      "個數： 30\n"
     ]
    }
   ],
   "source": [
    "countlist = [count1_2]\n",
    "num = 0 \n",
    "for i, count in enumerate(countlist):\n",
    "    scores = {word: tfidf(word, count, countlist) for word in count}\n",
    "    sorted_words = sorted(scores.items(), key=lambda x: x[1], reverse=True)\n",
    "    word_list = []\n",
    "    for word, score in sorted_words[:30]:\n",
    "        #print(\"Word: {}, TF-IDF: {}\".format(word, round(score, 5)))\n",
    "        word_list.append(word)\n",
    "        num += 1\n",
    "    print('個數：',num)"
   ]
  },
  {
   "cell_type": "code",
   "execution_count": 256,
   "metadata": {
    "scrolled": true
   },
   "outputs": [
    {
     "name": "stdout",
     "output_type": "stream",
     "text": [
      "cares\n",
      "[ 0.5153681  -0.03074113  0.57268345  0.2090781  -0.20745821 -0.73549056\n",
      "  0.32369652  0.10069694 -0.37656263 -0.0242989  -0.3280843   0.10875321\n",
      " -0.14661033 -0.49504414  0.40372178 -0.32027507 -0.28234705  0.3248457\n",
      " -0.39356172  0.14657363  0.69562256  0.15091334 -0.16054916  0.06096634\n",
      "  0.0935389   0.09999585 -0.05043705  0.48637643 -0.240908    0.00425915\n",
      " -0.46895027  0.13853382 -0.4084685  -0.21005368 -0.24950935 -0.005965\n",
      "  0.34955764 -0.398492    0.18161377  0.6489171   0.12037376  1.2115277\n",
      "  0.33759528 -0.34108362  0.12027232  0.18619247  0.07626042 -0.44276768\n",
      "  0.07676855  0.2024285  -0.65003973  0.05974188  0.08652122 -0.21973972\n",
      " -0.30787706 -0.17001924  0.48814476  0.86647254 -0.6593732  -0.579492\n",
      " -0.2040203  -0.3768105  -0.6152671  -0.297578   -0.43017772 -0.5805448\n",
      "  0.22450903  0.26915506 -0.23654573 -0.05448423 -0.18046914  1.2481549\n",
      " -0.45116597  0.55944735 -0.73816526  0.46470362  0.3537246   0.09223186\n",
      "  0.29996872 -0.0629668  -0.4662817   0.25864533  0.42789474 -0.40130046\n",
      " -0.05442982  0.09365547 -0.18341671  0.30669814  0.15799522  0.37272656\n",
      "  0.21760541 -0.49167132 -0.11314367 -0.49505076  0.42143163 -0.07514524\n",
      "  0.03857102  0.03695966 -0.02216833 -0.16651748  0.34118792 -0.25345558\n",
      " -0.20202956  0.05894059 -0.18715191  0.13985552 -0.3991116   0.28511474\n",
      "  0.17436408  0.17080587 -0.16628754  0.4280352   0.31015363  0.47377032\n",
      " -0.33392963  0.05381368  0.5248844   0.10984     0.12973233  0.34093767\n",
      "  0.1486738   0.04614291 -0.5258922  -0.1621658   0.4349175  -0.19696881\n",
      "  0.7616734   0.2762583  -0.03017352  0.04530143 -0.11132063 -0.07812238\n",
      "  0.34630206  0.30747938  0.02715778  0.01483646  0.24989851  0.3340483\n",
      " -0.05406915 -0.21125105 -0.08700088 -0.18766142 -0.90713096  0.26880085\n",
      "  0.3543001   0.31529585 -0.68521285  0.35514462 -0.22802159  0.2075808\n",
      "  0.68023163 -0.5101743   0.2527041   0.05148679  0.05370098 -0.42193973\n",
      "  0.33272183 -0.41593188  0.2631073  -0.10959423 -0.08355978 -0.08808758\n",
      " -0.5445002  -0.2428801   0.11761442 -0.15105072  0.17819586 -0.60683995\n",
      "  0.04176789 -0.11847915 -0.26837176 -0.19657576  0.14421992 -0.01208771\n",
      "  0.7476231   0.6060907  -0.11557441  0.12722659 -0.15025912 -0.3423398\n",
      " -0.05662426  0.24137604 -0.27561578 -0.4607387  -0.3061772   0.7883719\n",
      " -0.03683815 -0.02036699  0.45438638 -0.3696065   0.32655647 -0.38058\n",
      "  0.7653539  -0.07581238  0.04408641 -0.0017521   0.03327753  0.28254715\n",
      " -0.4138747  -0.05584651  0.1410976  -0.16442886  0.02817644 -0.50849354\n",
      " -0.28320077 -0.209766   -0.09834729  0.69525474 -0.62257284 -0.12019507\n",
      "  0.38928005  0.17647128  0.24583696  0.44850639 -0.19143838  0.5941091\n",
      "  0.17406854 -0.47081342  0.57647765 -0.07088534  0.40557125 -0.170056\n",
      " -0.2894063  -0.40681708  0.7021452  -0.9180002   0.9477628  -0.04358983\n",
      " -0.14233567  0.078206   -0.2583528   0.45778936 -0.01769098  0.23388827\n",
      " -0.12346692  0.4379709   0.31852698 -0.07507658  0.00736072 -0.47201356\n",
      "  0.10699828 -0.17786354  0.3551846  -0.63531035  0.18109734  0.41153732\n",
      "  0.53450733  0.00620315  0.41506365 -1.0757097   0.42364883 -0.5987344\n",
      " -0.4679569   0.03212093  0.36032403 -0.05313642 -0.25798246  0.17803042\n",
      " -0.24386895  0.15949911 -0.08325561 -0.30414256 -0.72598606  0.51667774\n",
      "  0.2321445  -0.24803843  0.59037375 -0.2544151   0.22778453 -0.27211478\n",
      " -0.04059694  0.1468912  -0.27383146 -0.40073958 -0.28744477  0.47858548\n",
      " -0.04665957  0.02119741  0.06868903  0.24762963  0.8734113   0.25834364\n",
      " -0.5963458   0.26540565  0.19662786  0.1390206  -0.3894578   0.5878792\n",
      "  0.45075774 -0.33819258  0.12604335 -0.17607175  0.5431133   0.12055819\n",
      "  0.6157065  -0.4102002   0.13214238  0.0261572   0.210712    0.05931884]\n"
     ]
    },
    {
     "name": "stderr",
     "output_type": "stream",
     "text": [
      "C:\\Users\\LAB_JennyChiou\\Anaconda3\\lib\\site-packages\\ipykernel_launcher.py:6: DeprecationWarning: Call to deprecated `__getitem__` (Method will be removed in 4.0.0, use self.wv.__getitem__() instead).\n",
      "  \n"
     ]
    }
   ],
   "source": [
    "import csv\n",
    "import pandas as pd\n",
    "df = pd.read_csv('lyrics_data/survey_top30tfidf.csv',encoding='ISO-8859-15')\n",
    "w = df.iat[4,30]\n",
    "print(w)\n",
    "wv = model[w]\n",
    "print(wv)"
   ]
  },
  {
   "cell_type": "code",
   "execution_count": 128,
   "metadata": {},
   "outputs": [
    {
     "name": "stdout",
     "output_type": "stream",
     "text": [
      "DONE\n"
     ]
    }
   ],
   "source": [
    "#挑選TFIDF前30個詞語\n",
    "with open ('lyrics_data/survey_top30tfidf.csv','a',newline='') as csvfile:\n",
    "    writer = csv.writer(csvfile)\n",
    "    #writer.writerow(['track_id','0','1','2','3','4','5','6','7','8','9','10','11','12','13','14','15','16','17','18','19','20','21','22','23','24','25','26','27','28','29'])\n",
    "    df = pd.read_csv('lyrics_data/survey_tfidf.csv',encoding='ISO-8859-15')\n",
    "    track_id = df['trackID'][19]\n",
    "    w0 = word_list[0]\n",
    "    w1 = word_list[1]\n",
    "    w2 = word_list[2]\n",
    "    w3 = word_list[3]\n",
    "    w4 = word_list[4]\n",
    "    w5 = word_list[5]\n",
    "    w6 = word_list[6]\n",
    "    w7 = word_list[7]\n",
    "    w8 = word_list[8]\n",
    "    w9 = word_list[9]\n",
    "    w10 = word_list[10]\n",
    "    w11 = word_list[11]\n",
    "    w12 = word_list[12]\n",
    "    w13 = word_list[13]\n",
    "    w14 = word_list[14]\n",
    "    w15 = word_list[15]\n",
    "    w16 = word_list[16]\n",
    "    w17 = word_list[17]\n",
    "    w18 = word_list[18]\n",
    "    w19 = word_list[19]\n",
    "    w20 = word_list[20]\n",
    "    w21 = word_list[21]\n",
    "    w22 = word_list[22]\n",
    "    w23 = word_list[23]\n",
    "    w24 = word_list[24]\n",
    "    w25 = word_list[25]\n",
    "    w26 = word_list[26]\n",
    "    w27 = word_list[27]\n",
    "    w28 = word_list[28]\n",
    "    w29 = word_list[29]\n",
    "    Table = [[track_id,w0,w1,w2,w3,w4,w5,w6,w7,w8,w9,w10,w11,w12,w13,w14,w15,w16,w17,w18,w19,w20,w21,w22,w23,w24,w25,w26,w27,w28,w29]]\n",
    "    writer.writerows(Table)\n",
    "print('DONE')"
   ]
  },
  {
   "cell_type": "code",
   "execution_count": 232,
   "metadata": {
    "scrolled": true
   },
   "outputs": [
    {
     "name": "stderr",
     "output_type": "stream",
     "text": [
      "C:\\Users\\LAB_JennyChiou\\Anaconda3\\lib\\site-packages\\ipykernel_launcher.py:42: DeprecationWarning: Call to deprecated `__getitem__` (Method will be removed in 4.0.0, use self.wv.__getitem__() instead).\n",
      "C:\\Users\\LAB_JennyChiou\\Anaconda3\\lib\\site-packages\\ipykernel_launcher.py:43: DeprecationWarning: Call to deprecated `__getitem__` (Method will be removed in 4.0.0, use self.wv.__getitem__() instead).\n",
      "C:\\Users\\LAB_JennyChiou\\Anaconda3\\lib\\site-packages\\ipykernel_launcher.py:44: DeprecationWarning: Call to deprecated `__getitem__` (Method will be removed in 4.0.0, use self.wv.__getitem__() instead).\n",
      "C:\\Users\\LAB_JennyChiou\\Anaconda3\\lib\\site-packages\\ipykernel_launcher.py:45: DeprecationWarning: Call to deprecated `__getitem__` (Method will be removed in 4.0.0, use self.wv.__getitem__() instead).\n",
      "C:\\Users\\LAB_JennyChiou\\Anaconda3\\lib\\site-packages\\ipykernel_launcher.py:46: DeprecationWarning: Call to deprecated `__getitem__` (Method will be removed in 4.0.0, use self.wv.__getitem__() instead).\n",
      "C:\\Users\\LAB_JennyChiou\\Anaconda3\\lib\\site-packages\\ipykernel_launcher.py:47: DeprecationWarning: Call to deprecated `__getitem__` (Method will be removed in 4.0.0, use self.wv.__getitem__() instead).\n",
      "C:\\Users\\LAB_JennyChiou\\Anaconda3\\lib\\site-packages\\ipykernel_launcher.py:48: DeprecationWarning: Call to deprecated `__getitem__` (Method will be removed in 4.0.0, use self.wv.__getitem__() instead).\n",
      "C:\\Users\\LAB_JennyChiou\\Anaconda3\\lib\\site-packages\\ipykernel_launcher.py:49: DeprecationWarning: Call to deprecated `__getitem__` (Method will be removed in 4.0.0, use self.wv.__getitem__() instead).\n",
      "C:\\Users\\LAB_JennyChiou\\Anaconda3\\lib\\site-packages\\ipykernel_launcher.py:50: DeprecationWarning: Call to deprecated `__getitem__` (Method will be removed in 4.0.0, use self.wv.__getitem__() instead).\n",
      "C:\\Users\\LAB_JennyChiou\\Anaconda3\\lib\\site-packages\\ipykernel_launcher.py:51: DeprecationWarning: Call to deprecated `__getitem__` (Method will be removed in 4.0.0, use self.wv.__getitem__() instead).\n",
      "C:\\Users\\LAB_JennyChiou\\Anaconda3\\lib\\site-packages\\ipykernel_launcher.py:52: DeprecationWarning: Call to deprecated `__getitem__` (Method will be removed in 4.0.0, use self.wv.__getitem__() instead).\n",
      "C:\\Users\\LAB_JennyChiou\\Anaconda3\\lib\\site-packages\\ipykernel_launcher.py:53: DeprecationWarning: Call to deprecated `__getitem__` (Method will be removed in 4.0.0, use self.wv.__getitem__() instead).\n",
      "C:\\Users\\LAB_JennyChiou\\Anaconda3\\lib\\site-packages\\ipykernel_launcher.py:54: DeprecationWarning: Call to deprecated `__getitem__` (Method will be removed in 4.0.0, use self.wv.__getitem__() instead).\n",
      "C:\\Users\\LAB_JennyChiou\\Anaconda3\\lib\\site-packages\\ipykernel_launcher.py:55: DeprecationWarning: Call to deprecated `__getitem__` (Method will be removed in 4.0.0, use self.wv.__getitem__() instead).\n",
      "C:\\Users\\LAB_JennyChiou\\Anaconda3\\lib\\site-packages\\ipykernel_launcher.py:56: DeprecationWarning: Call to deprecated `__getitem__` (Method will be removed in 4.0.0, use self.wv.__getitem__() instead).\n",
      "C:\\Users\\LAB_JennyChiou\\Anaconda3\\lib\\site-packages\\ipykernel_launcher.py:57: DeprecationWarning: Call to deprecated `__getitem__` (Method will be removed in 4.0.0, use self.wv.__getitem__() instead).\n",
      "C:\\Users\\LAB_JennyChiou\\Anaconda3\\lib\\site-packages\\ipykernel_launcher.py:58: DeprecationWarning: Call to deprecated `__getitem__` (Method will be removed in 4.0.0, use self.wv.__getitem__() instead).\n",
      "C:\\Users\\LAB_JennyChiou\\Anaconda3\\lib\\site-packages\\ipykernel_launcher.py:59: DeprecationWarning: Call to deprecated `__getitem__` (Method will be removed in 4.0.0, use self.wv.__getitem__() instead).\n",
      "C:\\Users\\LAB_JennyChiou\\Anaconda3\\lib\\site-packages\\ipykernel_launcher.py:60: DeprecationWarning: Call to deprecated `__getitem__` (Method will be removed in 4.0.0, use self.wv.__getitem__() instead).\n",
      "C:\\Users\\LAB_JennyChiou\\Anaconda3\\lib\\site-packages\\ipykernel_launcher.py:61: DeprecationWarning: Call to deprecated `__getitem__` (Method will be removed in 4.0.0, use self.wv.__getitem__() instead).\n",
      "C:\\Users\\LAB_JennyChiou\\Anaconda3\\lib\\site-packages\\ipykernel_launcher.py:62: DeprecationWarning: Call to deprecated `__getitem__` (Method will be removed in 4.0.0, use self.wv.__getitem__() instead).\n",
      "C:\\Users\\LAB_JennyChiou\\Anaconda3\\lib\\site-packages\\ipykernel_launcher.py:63: DeprecationWarning: Call to deprecated `__getitem__` (Method will be removed in 4.0.0, use self.wv.__getitem__() instead).\n",
      "C:\\Users\\LAB_JennyChiou\\Anaconda3\\lib\\site-packages\\ipykernel_launcher.py:64: DeprecationWarning: Call to deprecated `__getitem__` (Method will be removed in 4.0.0, use self.wv.__getitem__() instead).\n",
      "C:\\Users\\LAB_JennyChiou\\Anaconda3\\lib\\site-packages\\ipykernel_launcher.py:65: DeprecationWarning: Call to deprecated `__getitem__` (Method will be removed in 4.0.0, use self.wv.__getitem__() instead).\n",
      "C:\\Users\\LAB_JennyChiou\\Anaconda3\\lib\\site-packages\\ipykernel_launcher.py:66: DeprecationWarning: Call to deprecated `__getitem__` (Method will be removed in 4.0.0, use self.wv.__getitem__() instead).\n",
      "C:\\Users\\LAB_JennyChiou\\Anaconda3\\lib\\site-packages\\ipykernel_launcher.py:67: DeprecationWarning: Call to deprecated `__getitem__` (Method will be removed in 4.0.0, use self.wv.__getitem__() instead).\n",
      "C:\\Users\\LAB_JennyChiou\\Anaconda3\\lib\\site-packages\\ipykernel_launcher.py:68: DeprecationWarning: Call to deprecated `__getitem__` (Method will be removed in 4.0.0, use self.wv.__getitem__() instead).\n",
      "C:\\Users\\LAB_JennyChiou\\Anaconda3\\lib\\site-packages\\ipykernel_launcher.py:69: DeprecationWarning: Call to deprecated `__getitem__` (Method will be removed in 4.0.0, use self.wv.__getitem__() instead).\n",
      "C:\\Users\\LAB_JennyChiou\\Anaconda3\\lib\\site-packages\\ipykernel_launcher.py:70: DeprecationWarning: Call to deprecated `__getitem__` (Method will be removed in 4.0.0, use self.wv.__getitem__() instead).\n",
      "C:\\Users\\LAB_JennyChiou\\Anaconda3\\lib\\site-packages\\ipykernel_launcher.py:71: DeprecationWarning: Call to deprecated `__getitem__` (Method will be removed in 4.0.0, use self.wv.__getitem__() instead).\n"
     ]
    }
   ],
   "source": [
    "#挑選TFIDF前30個詞語的向量\n",
    "import csv\n",
    "import pandas as pd\n",
    "df = pd.read_csv('lyrics_data/survey_top30tfidf.csv',encoding='ISO-8859-15')\n",
    "\n",
    "with open('lyrics_data/survey_top30tfidf_v.csv', \"w\", newline='',encoding='ISO-8859-15') as csvfile:\n",
    "    writer = csv.writer(csvfile)\n",
    "    writer.writerow(['0','1','2','3','4','5','6','7','8','9','10','11','12','13','14','15','16','17','18','19','20','21','22','23','24','25','26','27','28','29'])\n",
    "    for i in range(0,20):\n",
    "\n",
    "        w1 = df.iat[i,1]\n",
    "        w2 = df.iat[i,2]\n",
    "        w3 = df.iat[i,3]\n",
    "        w4 = df.iat[i,4]\n",
    "        w5 = df.iat[i,5]\n",
    "        w6 = df.iat[i,6]\n",
    "        w7 = df.iat[i,7]\n",
    "        w8 = df.iat[i,8]\n",
    "        w9 = df.iat[i,9]\n",
    "        w10 = df.iat[i,10]\n",
    "        w11 = df.iat[i,11]\n",
    "        w12 = df.iat[i,12]\n",
    "        w13 = df.iat[i,13]\n",
    "        w14 = df.iat[i,14]\n",
    "        w15 = df.iat[i,15]\n",
    "        w16 = df.iat[i,16]\n",
    "        w17 = df.iat[i,17]\n",
    "        w18 = df.iat[i,18]\n",
    "        w19 = df.iat[i,19]\n",
    "        w20 = df.iat[i,20]\n",
    "        w21 = df.iat[i,21]\n",
    "        w22 = df.iat[i,22]\n",
    "        w23 = df.iat[i,23]\n",
    "        w24 = df.iat[i,24]\n",
    "        w25 = df.iat[i,25]\n",
    "        w26 = df.iat[i,26]\n",
    "        w27 = df.iat[i,27]\n",
    "        w28 = df.iat[i,28]\n",
    "        w29 = df.iat[i,29]\n",
    "        w30 = df.iat[i,30]\n",
    "        \n",
    "        wv1 = model[w1]\n",
    "        wv2 = model[w2]\n",
    "        wv3 = model[w3]\n",
    "        wv4 = model[w4]\n",
    "        wv5 = model[w5]\n",
    "        wv6 = model[w6]\n",
    "        wv7 = model[w7]\n",
    "        wv8 = model[w8]\n",
    "        wv9 = model[w9]\n",
    "        wv10 = model[w10]\n",
    "        wv11 = model[w11]\n",
    "        wv12 = model[w12]\n",
    "        wv13 = model[w13]\n",
    "        wv14 = model[w14]\n",
    "        wv15 = model[w15]\n",
    "        wv16 = model[w16]\n",
    "        wv17 = model[w17]\n",
    "        wv18 = model[w18]\n",
    "        wv19 = model[w19]\n",
    "        wv20 = model[w20]\n",
    "        wv21 = model[w21]\n",
    "        wv22 = model[w22]\n",
    "        wv23 = model[w23]\n",
    "        wv24 = model[w24]\n",
    "        wv25 = model[w25]\n",
    "        wv26 = model[w26]\n",
    "        wv27 = model[w27]\n",
    "        wv28 = model[w28]\n",
    "        wv29 = model[w29]\n",
    "        wv30 = model[w30]\n",
    "        \n",
    "        Table = [[wv1,wv2,wv3,wv4,wv5,wv6,wv7,wv8,wv9,wv10,wv11,wv12,wv13,wv14,wv15,wv16,wv17,wv18,wv19,wv20,wv21,wv22,wv23,wv24,wv25,wv26,wv27,wv28,wv29,w30]]\n",
    "        writer.writerows(Table)"
   ]
  },
  {
   "cell_type": "code",
   "execution_count": null,
   "metadata": {},
   "outputs": [],
   "source": []
  }
 ],
 "metadata": {
  "kernelspec": {
   "display_name": "Python 3",
   "language": "python",
   "name": "python3"
  },
  "language_info": {
   "codemirror_mode": {
    "name": "ipython",
    "version": 3
   },
   "file_extension": ".py",
   "mimetype": "text/x-python",
   "name": "python",
   "nbconvert_exporter": "python",
   "pygments_lexer": "ipython3",
   "version": "3.6.7"
  }
 },
 "nbformat": 4,
 "nbformat_minor": 2
}
