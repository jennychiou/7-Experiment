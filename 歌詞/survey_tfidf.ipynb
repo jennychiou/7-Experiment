{
 "cells": [
  {
   "cell_type": "code",
   "execution_count": 1,
   "metadata": {},
   "outputs": [
    {
     "name": "stdout",
     "output_type": "stream",
     "text": [
      "Every time we lie awake\n",
      "After every hit we take\n",
      "Every feeling that I get\n",
      "But I haven't missed you yet\n",
      "Every roommate kept awake by\n",
      "Every sigh and scream we make\n",
      "All the feelings that I get\n",
      "But I still don't miss you yet\n",
      "Only when I start to think about it\n",
      "I hate everything about you\n",
      "Why do I love you\n",
      "You hate everything about me\n",
      "Why do you love me\n",
      "Every time we lie awake\n",
      "After every hit we take\n",
      "Every feeling that I get\n",
      "But I haven't missed you yet\n",
      "Only when I stop to think about it\n",
      "I hate everything about you\n",
      "Why do I love you\n",
      "I hate everything about you\n",
      "Why do I love you\n",
      "Only when I start to think about you I know\n",
      "Only when you start to think about me do you know\n",
      "I hate everything about you\n",
      "Why do I love you\n",
      "You hate everything about me\n",
      "Why do you love me\n",
      "I hate\n",
      "You hate\n",
      "I hate\n",
      "You love me\n",
      "I hate everything about you\n",
      "Why do I love you\n"
     ]
    }
   ],
   "source": [
    "import csv\n",
    "import pandas as pd\n",
    "df = pd.read_csv('lyrics_data/survey_tfidf.csv')\n",
    "lyrics0 = df['lyrics'][0]\n",
    "print(lyrics0)"
   ]
  },
  {
   "cell_type": "code",
   "execution_count": 2,
   "metadata": {},
   "outputs": [
    {
     "data": {
      "text/plain": [
       "'Every time we lie awake\\nAfter every hit we take\\nEvery feeling that I get\\nBut I haven|t missed you yet\\nEvery roommate kept awake by\\nEvery sigh and scream we make\\nAll the feelings that I get\\nBut I still don|t miss you yet\\nOnly when I start to think about it\\nI hate everything about you\\nWhy do I love you\\nYou hate everything about me\\nWhy do you love me\\nEvery time we lie awake\\nAfter every hit we take\\nEvery feeling that I get\\nBut I haven|t missed you yet\\nOnly when I stop to think about it\\nI hate everything about you\\nWhy do I love you\\nI hate everything about you\\nWhy do I love you\\nOnly when I start to think about you I know\\nOnly when you start to think about me do you know\\nI hate everything about you\\nWhy do I love you\\nYou hate everything about me\\nWhy do you love me\\nI hate\\nYou hate\\nI hate\\nYou love me\\nI hate everything about you\\nWhy do I love you'"
      ]
     },
     "execution_count": 2,
     "metadata": {},
     "output_type": "execute_result"
    }
   ],
   "source": [
    "lyrics0.replace('\\n','')\n",
    "lyrics0.replace(\"'\",'|')"
   ]
  },
  {
   "cell_type": "code",
   "execution_count": 3,
   "metadata": {},
   "outputs": [],
   "source": [
    "def get_tokens(text):\n",
    "    lowers = text.lower()\n",
    "    #remove the punctuation using the character deletion step of translate\n",
    "    remove_punctuation_map = dict((ord(char), None) for char in string.punctuation)\n",
    "    no_punctuation = lowers.translate(remove_punctuation_map)\n",
    "    tokens = nltk.word_tokenize(no_punctuation)\n",
    "    return tokens"
   ]
  },
  {
   "cell_type": "code",
   "execution_count": 4,
   "metadata": {},
   "outputs": [],
   "source": [
    "def stem_tokens(tokens, stemmer):\n",
    "    stemmed = []\n",
    "    for item in tokens:\n",
    "        stemmed.append(stemmer.stem(item))\n",
    "    return stemmed"
   ]
  },
  {
   "cell_type": "code",
   "execution_count": 18,
   "metadata": {},
   "outputs": [
    {
     "name": "stdout",
     "output_type": "stream",
     "text": [
      "[('hate', 10), ('every', 8), ('love', 8), ('everything', 7), ('think', 4), ('awake', 3), ('get', 3), ('yet', 3), ('start', 3), ('time', 2), ('lie', 2), ('hit', 2), ('take', 2), ('feeling', 2), ('havent', 2), ('missed', 2), ('know', 2), ('roommate', 1), ('kept', 1), ('sigh', 1), ('scream', 1), ('make', 1), ('feelings', 1), ('still', 1), ('dont', 1), ('miss', 1), ('stop', 1)]\n"
     ]
    }
   ],
   "source": [
    "import numpy as np\n",
    "import nltk\n",
    "import math\n",
    "import string\n",
    "from scipy.linalg import norm\n",
    "from nltk.corpus import stopwords\n",
    "from collections import Counter\n",
    "from nltk.stem.porter import *\n",
    "from gensim.models import TfidfModel\n",
    "from gensim.models.word2vec import Word2Vec\n",
    "\n",
    "tokens = get_tokens(lyrics0)\n",
    "filtered = [w for w in tokens if not w in stopwords.words('english')]\n",
    "count0 = Counter(filtered)\n",
    "print(count0.most_common(35))"
   ]
  },
  {
   "cell_type": "code",
   "execution_count": 11,
   "metadata": {},
   "outputs": [],
   "source": [
    "def tf(word, count):\n",
    "    return count[word] / sum(count.values())\n",
    "\n",
    "def n_containing(word, count_list):\n",
    "    return sum(1 for count in count_list if word in count)\n",
    "\n",
    "def idf(word, count_list):\n",
    "    return math.log(len(count_list) / (1+n_containing(word, count_list)))\n",
    "\n",
    "def tfidf(word, count, count_list):\n",
    "    return tf(word, count) * idf(word, count_list)"
   ]
  },
  {
   "cell_type": "code",
   "execution_count": 19,
   "metadata": {},
   "outputs": [
    {
     "name": "stdout",
     "output_type": "stream",
     "text": [
      "------------------------------------------\n",
      "Top words in document 1\n",
      "Word: roommate, TF-IDF: -0.00924\n",
      "Word: kept, TF-IDF: -0.00924\n",
      "Word: sigh, TF-IDF: -0.00924\n",
      "Word: scream, TF-IDF: -0.00924\n",
      "Word: make, TF-IDF: -0.00924\n",
      "Word: feelings, TF-IDF: -0.00924\n",
      "Word: still, TF-IDF: -0.00924\n",
      "Word: dont, TF-IDF: -0.00924\n",
      "Word: miss, TF-IDF: -0.00924\n",
      "Word: stop, TF-IDF: -0.00924\n",
      "Word: time, TF-IDF: -0.01848\n",
      "Word: lie, TF-IDF: -0.01848\n",
      "Word: hit, TF-IDF: -0.01848\n",
      "Word: take, TF-IDF: -0.01848\n",
      "Word: feeling, TF-IDF: -0.01848\n",
      "Word: havent, TF-IDF: -0.01848\n",
      "Word: missed, TF-IDF: -0.01848\n",
      "Word: know, TF-IDF: -0.01848\n",
      "Word: awake, TF-IDF: -0.02773\n",
      "Word: get, TF-IDF: -0.02773\n",
      "Word: yet, TF-IDF: -0.02773\n",
      "Word: start, TF-IDF: -0.02773\n",
      "Word: think, TF-IDF: -0.03697\n",
      "Word: everything, TF-IDF: -0.06469\n",
      "Word: every, TF-IDF: -0.07394\n",
      "Word: love, TF-IDF: -0.07394\n",
      "Word: hate, TF-IDF: -0.09242\n"
     ]
    }
   ],
   "source": [
    "countlist = [count0]\n",
    "for i, count in enumerate(countlist):\n",
    "    print('------------------------------------------')\n",
    "    print(\"Top words in document {}\".format(i+1))\n",
    "    scores = {word: tfidf(word, count, countlist) for word in count}\n",
    "    sorted_words = sorted(scores.items(), key=lambda x: x[1], reverse=True)\n",
    "    for word, score in sorted_words[:30]:\n",
    "        print(\"Word: {}, TF-IDF: {}\".format(word, round(score, 5)))"
   ]
  },
  {
   "cell_type": "code",
   "execution_count": null,
   "metadata": {},
   "outputs": [],
   "source": []
  }
 ],
 "metadata": {
  "kernelspec": {
   "display_name": "Python 3",
   "language": "python",
   "name": "python3"
  },
  "language_info": {
   "codemirror_mode": {
    "name": "ipython",
    "version": 3
   },
   "file_extension": ".py",
   "mimetype": "text/x-python",
   "name": "python",
   "nbconvert_exporter": "python",
   "pygments_lexer": "ipython3",
   "version": "3.6.5"
  }
 },
 "nbformat": 4,
 "nbformat_minor": 2
}
