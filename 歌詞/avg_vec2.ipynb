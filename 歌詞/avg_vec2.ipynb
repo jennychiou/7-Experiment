{
 "cells": [
  {
   "cell_type": "code",
   "execution_count": 314,
   "metadata": {},
   "outputs": [
    {
     "name": "stdout",
     "output_type": "stream",
     "text": [
      "810\n",
      "lyrics_data/avg_vec/01174.npy\n"
     ]
    }
   ],
   "source": [
    "import csv\n",
    "import pandas as pd\n",
    "import numpy as np\n",
    "\n",
    "df = pd.read_csv('lyrics_data/tf_20000 (1)_0717_v02.csv')\n",
    "\n",
    "L1 = []\n",
    "for num in range(1,301):\n",
    "    for col in range(0,30):\n",
    "        add = 310 #起床311開始\n",
    "        df_v = df.iat[add,col]\n",
    "        a = df_v.replace(\"\\n\",\"\").replace('[','').replace(']','').replace('    ',' ').replace('   ',' ').replace('  ',' ')\n",
    "        b = a.split(' ',302)\n",
    "        if b[0] == '':\n",
    "            c = eval(b[num])\n",
    "        else:\n",
    "            c = eval(b[num-1])\n",
    "        L1.append(c)\n",
    "        #print(c)\n",
    "#print(L1)\n",
    "\n",
    "n = 30  #大列表中幾個數據组成一個小列表\n",
    "L2 = [L1[i:i + n] for i in range(0, len(L1), n)]\n",
    "#print(L2)\n",
    "final_L = []\n",
    "for count in range(0,300):\n",
    "    element = sum(L2[count])/30\n",
    "    final_L.append(element)\n",
    "#print(final_L)\n",
    "\n",
    "#第一首的平均向量\n",
    "#print(len(final_L))\n",
    "\n",
    "df2 = pd.read_csv('lyrics_data/tf_20000 (1).csv')\n",
    "data_folder = \"lyrics_data/avg_vec/\"\n",
    "var = 500 + add\n",
    "print(var)\n",
    "num1 = df2.iat[var,0]\n",
    "num2 = str(num1).zfill(5)\n",
    "save_path = data_folder + num2 + '.npy'\n",
    "print(save_path)\n",
    "arr_L = np.array(final_L)\n",
    "np.save(save_path,arr_L)"
   ]
  },
  {
   "cell_type": "code",
   "execution_count": null,
   "metadata": {},
   "outputs": [],
   "source": []
  }
 ],
 "metadata": {
  "kernelspec": {
   "display_name": "Python 3",
   "language": "python",
   "name": "python3"
  },
  "language_info": {
   "codemirror_mode": {
    "name": "ipython",
    "version": 3
   },
   "file_extension": ".py",
   "mimetype": "text/x-python",
   "name": "python",
   "nbconvert_exporter": "python",
   "pygments_lexer": "ipython3",
   "version": "3.6.7"
  }
 },
 "nbformat": 4,
 "nbformat_minor": 2
}
