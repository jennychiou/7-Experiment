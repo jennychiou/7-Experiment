{
 "cells": [
  {
   "cell_type": "code",
   "execution_count": 1,
   "metadata": {},
   "outputs": [],
   "source": [
    "import os\n",
    "import numpy as np\n",
    "import mido\n",
    "from mido import MidiFile\n",
    "from mido import MetaMessage\n",
    "from mido import tempo2bpm, bpm2tempo"
   ]
  },
  {
   "cell_type": "code",
   "execution_count": 2,
   "metadata": {},
   "outputs": [],
   "source": [
    "def readmidi(filepath = \"\"):\n",
    "    mid = MidiFile(os.getcwd() + filepath)\n",
    "    \n",
    "    event_list = []\n",
    "    timing = 0\n",
    "    \n",
    "    # midi檔案名稱\n",
    "    print('MIDI File :',filepath)\n",
    "        \n",
    "    for i, track in enumerate(mid.tracks):\n",
    "        #print('Track {} : {} '.format(i, track.name))\n",
    "        #print('Track {} : {} '.format(i, len(track)))\n",
    "        \n",
    "        # 印出tick值\n",
    "        print (\"Ticks per beat:\",mid.ticks_per_beat)\n",
    "        \n",
    "        #if len(track) > 100:\n",
    "            #break\n",
    "        \n",
    "        for info in track:\n",
    "            # 印出調號\n",
    "            if info.type == 'key_signature':\n",
    "                print('Key_signature :',info.key)\n",
    "            # 印出拍號\n",
    "            if info.type == 'time_signature':\n",
    "                print('Time_signature : numerator={} denominator={}'.format(info.numerator,info.denominator))\n",
    "            # 印出拍子轉bpm\n",
    "            if info.type == \"set_tempo\":\n",
    "                print(\"Tempo(BPM):\",tempo2bpm(info.tempo))\n",
    "        \n",
    "        for msg in track:\n",
    "            #print(msg)\n",
    "            timing += msg.time\n",
    "            \n",
    "            if msg.type == 'note_on' and msg.bytes()[2] != 0:\n",
    "                event_list.append([msg.bytes()[1],timing])\n",
    "    \n",
    "    print()\n",
    "    # 印出[midi音符值，time的tick值]\n",
    "    print('event_list :\\n', event_list)\n",
    "\n",
    "    time_ = 0\n",
    "    playone = []\n",
    "    playlist = []\n",
    "\n",
    "    for i in event_list:\n",
    "        if len(playone) == 0 or time_ == i[1]:\n",
    "            playone.append(i[0])\n",
    "        else:\n",
    "            playlist.append(playone)\n",
    "            playone = [i[0]]\n",
    "            time_ = i[1]\n",
    "    \n",
    "    # 印出midi中有哪些音符\n",
    "    print('playlist :\\n', playlist)\n",
    "    \n",
    "    return\n",
    "    #return playlist"
   ]
  },
  {
   "cell_type": "code",
   "execution_count": 3,
   "metadata": {},
   "outputs": [],
   "source": [
    "base_dir = '/MIDI/sampleMidi/'"
   ]
  },
  {
   "cell_type": "code",
   "execution_count": 4,
   "metadata": {},
   "outputs": [
    {
     "name": "stdout",
     "output_type": "stream",
     "text": [
      "MIDI File : /MIDI/sampleMidi/Silent_Night_test2.mid\n",
      "Ticks per beat: 480\n",
      "Time_signature : numerator=3 denominator=4\n",
      "Key_signature : C\n",
      "Tempo(BPM): 100.00016666694445\n",
      "\n",
      "event_list :\n",
      " [[67, 0], [69, 720], [67, 960], [64, 1440], [67, 2880], [69, 3600], [67, 3840], [64, 4320], [74, 5760], [74, 6720], [71, 7200], [72, 8640], [72, 9600], [67, 10080], [69, 11520], [69, 12480], [72, 12960], [71, 13680], [69, 13920], [67, 14400], [69, 15120], [67, 15360], [64, 15840], [69, 17280], [69, 18240], [72, 18720], [71, 19440], [69, 19680], [67, 20160], [69, 20880], [67, 21120], [64, 21600], [74, 23040], [74, 24000], [77, 24480], [74, 24960], [71, 25440], [72, 25920], [76, 27360], [72, 28800], [67, 29280], [64, 29760], [67, 30240], [65, 30960], [62, 31200], [60, 31680]]\n",
      "playlist :\n",
      " [[67], [69], [67], [64], [67], [69], [67], [64], [74], [74], [71], [72], [72], [67], [69], [69], [72], [71], [69], [67], [69], [67], [64], [69], [69], [72], [71], [69], [67], [69], [67], [64], [74], [74], [77], [74], [71], [72], [76], [72], [67], [64], [67], [65], [62]]\n"
     ]
    }
   ],
   "source": [
    "readmidi(base_dir + 'Silent_Night_test2.mid')"
   ]
  },
  {
   "cell_type": "code",
   "execution_count": 5,
   "metadata": {
    "scrolled": true
   },
   "outputs": [
    {
     "name": "stdout",
     "output_type": "stream",
     "text": [
      "MIDI File : /MIDI/sampleMidi/Silent_Night_test3.mid\n",
      "Ticks per beat: 480\n",
      "Time_signature : numerator=3 denominator=4\n",
      "Key_signature : C\n",
      "Tempo(BPM): 100.0\n",
      "Ticks per beat: 480\n",
      "Key_signature : C\n",
      "\n",
      "event_list :\n",
      " [[67, 0], [69, 720], [67, 960], [64, 1440], [67, 2880], [69, 3600], [67, 3840], [64, 4320], [74, 5760], [74, 6720], [71, 7200], [72, 8640], [72, 9600], [67, 10080], [60, 11448], [60, 12888], [60, 14328], [60, 15768], [59, 16248], [57, 16728], [55, 17208], [55, 18648], [55, 19608], [60, 20088], [60, 21528]]\n",
      "playlist :\n",
      " [[67], [69], [67], [64], [67], [69], [67], [64], [74], [74], [71], [72], [72], [67], [60], [60], [60], [60], [59], [57], [55], [55], [55], [60]]\n"
     ]
    }
   ],
   "source": [
    "readmidi(base_dir + 'Silent_Night_test3.mid')"
   ]
  },
  {
   "cell_type": "code",
   "execution_count": 6,
   "metadata": {
    "scrolled": true
   },
   "outputs": [
    {
     "name": "stdout",
     "output_type": "stream",
     "text": [
      "MIDI File : /MIDI/sampleMidi/Cool_Blues_test1.mid\n",
      "Ticks per beat: 480\n",
      "Time_signature : numerator=4 denominator=4\n",
      "Key_signature : C\n",
      "Tempo(BPM): 100.00016666694445\n",
      "\n",
      "event_list :\n",
      " [[57, 0], [60, 240], [62, 480], [64, 720], [64, 960], [64, 1920], [62, 2160], [60, 2400], [57, 2640], [57, 2880], [57, 3840], [60, 4080], [62, 4320], [64, 4560], [64, 4800], [64, 5760], [62, 6000], [60, 6240], [57, 6480], [57, 6720], [57, 7680], [60, 7920], [62, 8160], [64, 8400], [64, 8640], [64, 9600], [62, 9840], [60, 10080], [57, 10320], [57, 10560], [57, 11520], [60, 11760], [62, 12000], [64, 12240], [64, 12480], [64, 13440], [62, 13680], [60, 13920], [57, 14160], [57, 14400], [64, 15360], [64, 15600], [67, 15840], [64, 16080], [67, 16320], [64, 16560], [64, 17040], [64, 17280], [64, 19200], [64, 19440], [67, 19680], [64, 19920], [67, 20160], [64, 20400], [64, 20880], [64, 21120]]\n",
      "playlist :\n",
      " [[57], [60], [62], [64], [64], [64], [62], [60], [57], [57], [57], [60], [62], [64], [64], [64], [62], [60], [57], [57], [57], [60], [62], [64], [64], [64], [62], [60], [57], [57], [57], [60], [62], [64], [64], [64], [62], [60], [57], [57], [64], [64], [67], [64], [67], [64], [64], [64], [64], [64], [67], [64], [67], [64], [64]]\n"
     ]
    }
   ],
   "source": [
    "readmidi(base_dir + 'Cool_Blues_test1.mid')"
   ]
  },
  {
   "cell_type": "code",
   "execution_count": 7,
   "metadata": {
    "scrolled": true
   },
   "outputs": [
    {
     "name": "stdout",
     "output_type": "stream",
     "text": [
      "MIDI File : /MIDI/sampleMidi/Cool_Blues_test2.mid\n",
      "Ticks per beat: 480\n",
      "Time_signature : numerator=4 denominator=4\n",
      "Key_signature : C\n",
      "Tempo(BPM): 100.00016666694445\n",
      "Ticks per beat: 480\n",
      "Key_signature : C\n",
      "\n",
      "event_list :\n",
      " [[57, 0], [60, 240], [62, 480], [64, 720], [64, 960], [64, 1920], [62, 2160], [60, 2400], [57, 2640], [57, 2880], [57, 3840], [60, 4080], [62, 4320], [64, 4560], [64, 4800], [64, 5760], [62, 6000], [60, 6240], [57, 6480], [57, 6720], [57, 7680], [60, 7920], [62, 8160], [64, 8400], [64, 8640], [64, 9600], [62, 9840], [60, 10080], [57, 10320], [57, 10560], [57, 11520], [60, 11760], [62, 12000], [64, 12240], [64, 12480], [64, 13440], [62, 13680], [60, 13920], [57, 14160], [57, 14400], [64, 15360], [64, 15600], [67, 15840], [64, 16080], [67, 16320], [64, 16560], [64, 17040], [64, 17280], [64, 19200], [64, 19440], [67, 19680], [64, 19920], [67, 20160], [64, 20400], [64, 20880], [64, 21120], [45, 22944], [45, 23424], [45, 23904], [45, 24384], [45, 24864], [45, 25344], [45, 25824], [45, 26304], [45, 26784], [45, 27264], [45, 27744], [45, 28224], [45, 28704], [45, 29184], [45, 29664], [45, 30144], [50, 30624], [50, 31104], [50, 31584], [50, 32064], [50, 32544], [50, 33024], [50, 33504], [50, 33984], [45, 34464], [45, 34944], [45, 35424], [45, 35904], [45, 36384], [45, 36864], [45, 37344], [45, 37824], [52, 38304], [52, 38784], [52, 39264], [52, 39744], [50, 40224], [50, 40704], [50, 41184], [50, 41664], [45, 42144], [45, 42624], [45, 43104], [45, 43584], [45, 44064], [45, 44544], [45, 45024], [45, 45504]]\n",
      "playlist :\n",
      " [[57], [60], [62], [64], [64], [64], [62], [60], [57], [57], [57], [60], [62], [64], [64], [64], [62], [60], [57], [57], [57], [60], [62], [64], [64], [64], [62], [60], [57], [57], [57], [60], [62], [64], [64], [64], [62], [60], [57], [57], [64], [64], [67], [64], [67], [64], [64], [64], [64], [64], [67], [64], [67], [64], [64], [64], [45], [45], [45], [45], [45], [45], [45], [45], [45], [45], [45], [45], [45], [45], [45], [45], [50], [50], [50], [50], [50], [50], [50], [50], [45], [45], [45], [45], [45], [45], [45], [45], [52], [52], [52], [52], [50], [50], [50], [50], [45], [45], [45], [45], [45], [45], [45]]\n"
     ]
    }
   ],
   "source": [
    "readmidi(base_dir + 'Cool_Blues_test2.mid')"
   ]
  },
  {
   "cell_type": "markdown",
   "metadata": {},
   "source": [
    "# 提取midi文件中的訊息和時間"
   ]
  },
  {
   "cell_type": "markdown",
   "metadata": {},
   "source": [
    "https://zhuanlan.zhihu.com/p/62475524"
   ]
  },
  {
   "cell_type": "code",
   "execution_count": 8,
   "metadata": {
    "collapsed": true
   },
   "outputs": [
    {
     "name": "stdout",
     "output_type": "stream",
     "text": [
      "Track 0: Cool_Blues_test1.mid\n",
      "Tempo: 599999\n",
      "Bpm: 100.00016666694445\n",
      "\n",
      "note = 57  |  real time = 0.284\n",
      "note = 60  |  real time = 0.584\n",
      "note = 62  |  real time = 0.884\n",
      "note = 64  |  real time = 1.184\n",
      "note = 64  |  real time = 2.339\n",
      "note = 64  |  real time = 2.684\n",
      "note = 62  |  real time = 2.984\n",
      "note = 60  |  real time = 3.284\n",
      "note = 57  |  real time = 3.584\n",
      "note = 57  |  real time = 4.739\n",
      "note = 57  |  real time = 5.084\n",
      "note = 60  |  real time = 5.384\n",
      "note = 62  |  real time = 5.684\n",
      "note = 64  |  real time = 5.984\n",
      "note = 64  |  real time = 7.139\n",
      "note = 64  |  real time = 7.484\n",
      "note = 62  |  real time = 7.784\n",
      "note = 60  |  real time = 8.084\n",
      "note = 57  |  real time = 8.384\n",
      "note = 57  |  real time = 9.539\n",
      "note = 57  |  real time = 9.884\n",
      "note = 60  |  real time = 10.184\n",
      "note = 62  |  real time = 10.484\n",
      "note = 64  |  real time = 10.784\n",
      "note = 64  |  real time = 11.939\n",
      "note = 64  |  real time = 12.284\n",
      "note = 62  |  real time = 12.584\n",
      "note = 60  |  real time = 12.884\n",
      "note = 57  |  real time = 13.184\n",
      "note = 57  |  real time = 14.339\n",
      "note = 57  |  real time = 14.684\n",
      "note = 60  |  real time = 14.984\n",
      "note = 62  |  real time = 15.284\n",
      "note = 64  |  real time = 15.584\n",
      "note = 64  |  real time = 16.739\n",
      "note = 64  |  real time = 17.084\n",
      "note = 62  |  real time = 17.384\n",
      "note = 60  |  real time = 17.684\n",
      "note = 57  |  real time = 17.984\n",
      "note = 57  |  real time = 19.139\n",
      "note = 64  |  real time = 19.484\n",
      "note = 64  |  real time = 19.784\n",
      "note = 67  |  real time = 20.084\n",
      "note = 64  |  real time = 20.384\n",
      "note = 67  |  real time = 20.684\n",
      "note = 64  |  real time = 21.269\n",
      "note = 64  |  real time = 21.584\n",
      "note = 64  |  real time = 23.879\n",
      "note = 64  |  real time = 24.284\n",
      "note = 64  |  real time = 24.584\n",
      "note = 67  |  real time = 24.884\n",
      "note = 64  |  real time = 25.184\n",
      "note = 67  |  real time = 25.484\n",
      "note = 64  |  real time = 26.069\n",
      "note = 64  |  real time = 26.384\n",
      "note = 64  |  real time = 28.679\n",
      "\n",
      "Midi Length: 28.679952200000034\n",
      "Count: 56\n"
     ]
    }
   ],
   "source": [
    "path = 'MIDI/sampleMidi/Cool_Blues_test1.mid'\n",
    "mid = MidiFile('MIDI/sampleMidi/Cool_Blues_test1.mid')\n",
    "txt = path.split('/')\n",
    "#print(txt[-1]) # 取得list中最後一個元素\n",
    "midiname = txt[-1]\n",
    "\n",
    "# 括號內輸入midi BPM的值\n",
    "tempo = mido.bpm2tempo(100)\n",
    "count = 0\n",
    "\n",
    "for i, track in enumerate(mid.tracks):\n",
    "    print('Track {}: {}'.format(i, midiname))\n",
    "    passed_time = 0\n",
    "    \n",
    "    for msg in track:\n",
    "        #print(msg)\n",
    "        #print(count)\n",
    "        \n",
    "        if msg.type == \"set_tempo\":\n",
    "            tempo = msg.tempo\n",
    "            print(\"Tempo:\",tempo)\n",
    "            print(\"Bpm:\",tempo2bpm(msg.tempo))\n",
    "            print()\n",
    "        \n",
    "        # 把tick單位轉成second單位\n",
    "        ab_time = mido.tick2second(msg.time, mid.ticks_per_beat, tempo)\n",
    "        '''\n",
    "        if count == 2:\n",
    "            print('Time:{} \\nTicks_per_beat:{} \\nTempo:{}'.format(msg.time, mid.ticks_per_beat, tempo))\n",
    "            print('ab_time:',ab_time)\n",
    "            print('passed_time:',passed_time)\n",
    "        '''\n",
    "        \n",
    "        # real_time是每一個事件在整個midi文件中的真實時間位置\n",
    "        real_time = ab_time + passed_time\n",
    "        passed_time += ab_time\n",
    "        \n",
    "        if msg.type == \"note_on\":\n",
    "            velocity = msg.velocity\n",
    "            note = msg.note    \n",
    "            #print(\"note = \" + str(note) + '  |  ' + \"real time = \" + str(round(real_time, 3)))\n",
    "            \n",
    "            #'''\n",
    "            if velocity == 0:\n",
    "                print(\"note = \" + str(note) + '  |  ' + \"real time = \" + str(round(real_time, 3)))\n",
    "                #print(msg, \" real time=\" + str(round(real_time, 3)))\n",
    "                count += 1\n",
    "            #'''\n",
    "            \n",
    "    print()\n",
    "    print('Midi Length:',real_time)\n",
    "    print('Count:',count)"
   ]
  },
  {
   "cell_type": "code",
   "execution_count": 11,
   "metadata": {},
   "outputs": [],
   "source": [
    "def analyzemidi(path = \"\"):\n",
    "    mid = MidiFile(path)\n",
    "    txt = path.split('/')\n",
    "    midiname = txt[-1]\n",
    "    \n",
    "    count = 0\n",
    "\n",
    "    for i, track in enumerate(mid.tracks):\n",
    "        print('Track {}: {}'.format(i, midiname))\n",
    "        passed_time = 0\n",
    "        \n",
    "        for info in track:\n",
    "            if info.type == \"set_tempo\":\n",
    "                tempo = info.tempo\n",
    "                print(\"Tempo:\",tempo)\n",
    "                print(\"Bpm:\",tempo2bpm(info.tempo))\n",
    "                print()\n",
    "        \n",
    "        for msg in track:\n",
    "            #print(msg)\n",
    "            #print(count)\n",
    "\n",
    "            # 把tick單位轉成second單位\n",
    "            ab_time = mido.tick2second(msg.time, mid.ticks_per_beat, tempo)\n",
    "            \n",
    "            y = ab_time\n",
    "            '''\n",
    "            if count == 2:\n",
    "                print('Time:{} \\nTicks_per_beat:{} \\nTempo:{}'.format(msg.time, mid.ticks_per_beat, tempo))\n",
    "                print('ab_time:',ab_time)\n",
    "                print('passed_time:',passed_time)\n",
    "            '''\n",
    "            \n",
    "            # real_time是每一個事件在整個midi文件中的真實時間位置\n",
    "            \n",
    "            real_time = ab_time + passed_time\n",
    "            passed_time += ab_time  \n",
    "            \n",
    "            if msg.type == \"note_on\":\n",
    "                velocity = msg.velocity\n",
    "                note = msg.note    \n",
    "                #print(\"note = \" + str(note) + '  |  ' + \"real time = \" + str(round(real_time, 3)))\n",
    "                \n",
    "                #'''\n",
    "\n",
    "                if velocity == 80:\n",
    "                    x = passed_time\n",
    "                    #print('ab_time + passed_time = ' + str(y) + ' + ' + str(x) + ' = ' + str(real_time))\n",
    "                if velocity == 0:\n",
    "                    #print('ab_time + passed_time = ' + str(y) + ' + ' + str(x) + ' = ' + str(real_time))\n",
    "                    print(\"note = \" + str(note) + '  |  ' + \"real time = \" + str(round(real_time, 3)))\n",
    "                    #print()\n",
    "                    #print(msg, \" real time=\" + str(round(real_time, 3)))\n",
    "                    count += 1\n",
    "                #'''\n",
    "            \n",
    "    print()\n",
    "    print('Midi Length:',real_time)\n",
    "    print('Count:',count)"
   ]
  },
  {
   "cell_type": "code",
   "execution_count": 10,
   "metadata": {
    "scrolled": true
   },
   "outputs": [
    {
     "name": "stdout",
     "output_type": "stream",
     "text": [
      "Track 0: Cool_Blues_test1.mid\n",
      "Tempo: 599999\n",
      "Bpm: 100.00016666694445\n",
      "\n",
      "ab_time + passed_time = 0.0 + 0.0 = 0.0\n",
      "ab_time + passed_time = 0.2837495270833333 + 0.0 = 0.2837495270833333\n",
      "note = 57  |  real time = 0.284\n",
      "\n",
      "ab_time + passed_time = 0.016249972916666664 + 0.2999995 = 0.2999995\n",
      "ab_time + passed_time = 0.2837495270833333 + 0.2999995 = 0.5837490270833332\n",
      "note = 60  |  real time = 0.584\n",
      "\n",
      "ab_time + passed_time = 0.016249972916666664 + 0.5999989999999998 = 0.5999989999999998\n",
      "ab_time + passed_time = 0.2837495270833333 + 0.5999989999999998 = 0.8837485270833332\n",
      "note = 62  |  real time = 0.884\n",
      "\n",
      "ab_time + passed_time = 0.016249972916666664 + 0.8999984999999998 = 0.8999984999999998\n",
      "ab_time + passed_time = 0.2837495270833333 + 0.8999984999999998 = 1.1837480270833332\n",
      "note = 64  |  real time = 1.184\n",
      "\n",
      "ab_time + passed_time = 0.016249972916666664 + 1.199998 = 1.199998\n",
      "ab_time + passed_time = 1.1387481020833332 + 1.199998 = 2.3387461020833333\n",
      "note = 64  |  real time = 2.339\n",
      "\n",
      "ab_time + passed_time = 0.06124989791666666 + 2.399996 = 2.399996\n",
      "ab_time + passed_time = 0.2837495270833333 + 2.399996 = 2.683745527083333\n",
      "note = 64  |  real time = 2.684\n",
      "\n",
      "ab_time + passed_time = 0.016249972916666664 + 2.6999954999999995 = 2.6999954999999995\n",
      "ab_time + passed_time = 0.2837495270833333 + 2.6999954999999995 = 2.983745027083333\n",
      "note = 62  |  real time = 2.984\n",
      "\n",
      "ab_time + passed_time = 0.016249972916666664 + 2.9999949999999993 = 2.9999949999999993\n",
      "ab_time + passed_time = 0.2837495270833333 + 2.9999949999999993 = 3.2837445270833325\n",
      "note = 60  |  real time = 3.284\n",
      "\n",
      "ab_time + passed_time = 0.016249972916666664 + 3.299994499999999 = 3.299994499999999\n",
      "ab_time + passed_time = 0.2837495270833333 + 3.299994499999999 = 3.5837440270833323\n",
      "note = 57  |  real time = 3.584\n",
      "\n",
      "ab_time + passed_time = 0.016249972916666664 + 3.599993999999999 = 3.599993999999999\n",
      "ab_time + passed_time = 1.1387481020833332 + 3.599993999999999 = 4.738742102083332\n",
      "note = 57  |  real time = 4.739\n",
      "\n",
      "ab_time + passed_time = 0.06124989791666666 + 4.799991999999999 = 4.799991999999999\n",
      "ab_time + passed_time = 0.2837495270833333 + 4.799991999999999 = 5.083741527083332\n",
      "note = 57  |  real time = 5.084\n",
      "\n",
      "ab_time + passed_time = 0.016249972916666664 + 5.099991499999999 = 5.099991499999999\n",
      "ab_time + passed_time = 0.2837495270833333 + 5.099991499999999 = 5.383741027083333\n",
      "note = 60  |  real time = 5.384\n",
      "\n",
      "ab_time + passed_time = 0.016249972916666664 + 5.399990999999999 = 5.399990999999999\n",
      "ab_time + passed_time = 0.2837495270833333 + 5.399990999999999 = 5.683740527083333\n",
      "note = 62  |  real time = 5.684\n",
      "\n",
      "ab_time + passed_time = 0.016249972916666664 + 5.699990499999999 = 5.699990499999999\n",
      "ab_time + passed_time = 0.2837495270833333 + 5.699990499999999 = 5.983740027083333\n",
      "note = 64  |  real time = 5.984\n",
      "\n",
      "ab_time + passed_time = 0.016249972916666664 + 5.9999899999999995 = 5.9999899999999995\n",
      "ab_time + passed_time = 1.1387481020833332 + 5.9999899999999995 = 7.138738102083333\n",
      "note = 64  |  real time = 7.139\n",
      "\n",
      "ab_time + passed_time = 0.06124989791666666 + 7.199987999999999 = 7.199987999999999\n",
      "ab_time + passed_time = 0.2837495270833333 + 7.199987999999999 = 7.483737527083333\n",
      "note = 64  |  real time = 7.484\n",
      "\n",
      "ab_time + passed_time = 0.016249972916666664 + 7.4999875 = 7.4999875\n",
      "ab_time + passed_time = 0.2837495270833333 + 7.4999875 = 7.783737027083333\n",
      "note = 62  |  real time = 7.784\n",
      "\n",
      "ab_time + passed_time = 0.016249972916666664 + 7.799987 = 7.799987\n",
      "ab_time + passed_time = 0.2837495270833333 + 7.799987 = 8.083736527083333\n",
      "note = 60  |  real time = 8.084\n",
      "\n",
      "ab_time + passed_time = 0.016249972916666664 + 8.0999865 = 8.0999865\n",
      "ab_time + passed_time = 0.2837495270833333 + 8.0999865 = 8.383736027083334\n",
      "note = 57  |  real time = 8.384\n",
      "\n",
      "ab_time + passed_time = 0.016249972916666664 + 8.399986 = 8.399986\n",
      "ab_time + passed_time = 1.1387481020833332 + 8.399986 = 9.538734102083334\n",
      "note = 57  |  real time = 9.539\n",
      "\n",
      "ab_time + passed_time = 0.06124989791666666 + 9.599984000000001 = 9.599984000000001\n",
      "ab_time + passed_time = 0.2837495270833333 + 9.599984000000001 = 9.883733527083335\n",
      "note = 57  |  real time = 9.884\n",
      "\n",
      "ab_time + passed_time = 0.016249972916666664 + 9.899983500000001 = 9.899983500000001\n",
      "ab_time + passed_time = 0.2837495270833333 + 9.899983500000001 = 10.183733027083335\n",
      "note = 60  |  real time = 10.184\n",
      "\n",
      "ab_time + passed_time = 0.016249972916666664 + 10.199983000000001 = 10.199983000000001\n",
      "ab_time + passed_time = 0.2837495270833333 + 10.199983000000001 = 10.483732527083335\n",
      "note = 62  |  real time = 10.484\n",
      "\n",
      "ab_time + passed_time = 0.016249972916666664 + 10.499982500000002 = 10.499982500000002\n",
      "ab_time + passed_time = 0.2837495270833333 + 10.499982500000002 = 10.783732027083335\n",
      "note = 64  |  real time = 10.784\n",
      "\n",
      "ab_time + passed_time = 0.016249972916666664 + 10.799982000000002 = 10.799982000000002\n",
      "ab_time + passed_time = 1.1387481020833332 + 10.799982000000002 = 11.938730102083335\n",
      "note = 64  |  real time = 11.939\n",
      "\n",
      "ab_time + passed_time = 0.06124989791666666 + 11.999980000000003 = 11.999980000000003\n",
      "ab_time + passed_time = 0.2837495270833333 + 11.999980000000003 = 12.283729527083336\n",
      "note = 64  |  real time = 12.284\n",
      "\n",
      "ab_time + passed_time = 0.016249972916666664 + 12.299979500000003 = 12.299979500000003\n",
      "ab_time + passed_time = 0.2837495270833333 + 12.299979500000003 = 12.583729027083336\n",
      "note = 62  |  real time = 12.584\n",
      "\n",
      "ab_time + passed_time = 0.016249972916666664 + 12.599979000000003 = 12.599979000000003\n",
      "ab_time + passed_time = 0.2837495270833333 + 12.599979000000003 = 12.883728527083337\n",
      "note = 60  |  real time = 12.884\n",
      "\n",
      "ab_time + passed_time = 0.016249972916666664 + 12.899978500000003 = 12.899978500000003\n",
      "ab_time + passed_time = 0.2837495270833333 + 12.899978500000003 = 13.183728027083337\n",
      "note = 57  |  real time = 13.184\n",
      "\n",
      "ab_time + passed_time = 0.016249972916666664 + 13.199978000000003 = 13.199978000000003\n",
      "ab_time + passed_time = 1.1387481020833332 + 13.199978000000003 = 14.338726102083337\n",
      "note = 57  |  real time = 14.339\n",
      "\n",
      "ab_time + passed_time = 0.06124989791666666 + 14.399976000000004 = 14.399976000000004\n",
      "ab_time + passed_time = 0.2837495270833333 + 14.399976000000004 = 14.683725527083338\n",
      "note = 57  |  real time = 14.684\n",
      "\n",
      "ab_time + passed_time = 0.016249972916666664 + 14.699975500000004 = 14.699975500000004\n",
      "ab_time + passed_time = 0.2837495270833333 + 14.699975500000004 = 14.983725027083338\n",
      "note = 60  |  real time = 14.984\n",
      "\n",
      "ab_time + passed_time = 0.016249972916666664 + 14.999975000000004 = 14.999975000000004\n",
      "ab_time + passed_time = 0.2837495270833333 + 14.999975000000004 = 15.283724527083338\n",
      "note = 62  |  real time = 15.284\n",
      "\n",
      "ab_time + passed_time = 0.016249972916666664 + 15.299974500000005 = 15.299974500000005\n",
      "ab_time + passed_time = 0.2837495270833333 + 15.299974500000005 = 15.583724027083338\n",
      "note = 64  |  real time = 15.584\n",
      "\n",
      "ab_time + passed_time = 0.016249972916666664 + 15.599974000000005 = 15.599974000000005\n",
      "ab_time + passed_time = 1.1387481020833332 + 15.599974000000005 = 16.738722102083337\n",
      "note = 64  |  real time = 16.739\n",
      "\n",
      "ab_time + passed_time = 0.06124989791666666 + 16.799972000000004 = 16.799972000000004\n",
      "ab_time + passed_time = 0.2837495270833333 + 16.799972000000004 = 17.083721527083338\n",
      "note = 64  |  real time = 17.084\n",
      "\n",
      "ab_time + passed_time = 0.016249972916666664 + 17.099971500000006 = 17.099971500000006\n",
      "ab_time + passed_time = 0.2837495270833333 + 17.099971500000006 = 17.38372102708334\n",
      "note = 62  |  real time = 17.384\n",
      "\n",
      "ab_time + passed_time = 0.016249972916666664 + 17.399971000000008 = 17.399971000000008\n",
      "ab_time + passed_time = 0.2837495270833333 + 17.399971000000008 = 17.68372052708334\n",
      "note = 60  |  real time = 17.684\n",
      "\n",
      "ab_time + passed_time = 0.016249972916666664 + 17.69997050000001 = 17.69997050000001\n",
      "ab_time + passed_time = 0.2837495270833333 + 17.69997050000001 = 17.983720027083343\n",
      "note = 57  |  real time = 17.984\n",
      "\n",
      "ab_time + passed_time = 0.016249972916666664 + 17.999970000000012 = 17.999970000000012\n",
      "ab_time + passed_time = 1.1387481020833332 + 17.999970000000012 = 19.138718102083345\n",
      "note = 57  |  real time = 19.139\n",
      "\n",
      "ab_time + passed_time = 0.06124989791666666 + 19.199968000000013 = 19.199968000000013\n",
      "ab_time + passed_time = 0.2837495270833333 + 19.199968000000013 = 19.483717527083346\n",
      "note = 64  |  real time = 19.484\n",
      "\n",
      "ab_time + passed_time = 0.016249972916666664 + 19.499967500000015 = 19.499967500000015\n",
      "ab_time + passed_time = 0.2837495270833333 + 19.499967500000015 = 19.78371702708335\n",
      "note = 64  |  real time = 19.784\n",
      "\n",
      "ab_time + passed_time = 0.016249972916666664 + 19.799967000000017 = 19.799967000000017\n",
      "ab_time + passed_time = 0.2837495270833333 + 19.799967000000017 = 20.08371652708335\n",
      "note = 67  |  real time = 20.084\n",
      "\n",
      "ab_time + passed_time = 0.016249972916666664 + 20.09996650000002 = 20.09996650000002\n",
      "ab_time + passed_time = 0.2837495270833333 + 20.09996650000002 = 20.383716027083352\n",
      "note = 64  |  real time = 20.384\n",
      "\n",
      "ab_time + passed_time = 0.016249972916666664 + 20.39996600000002 = 20.39996600000002\n",
      "ab_time + passed_time = 0.2837495270833333 + 20.39996600000002 = 20.683715527083354\n",
      "note = 67  |  real time = 20.684\n",
      "\n",
      "ab_time + passed_time = 0.016249972916666664 + 20.699965500000022 = 20.699965500000022\n",
      "ab_time + passed_time = 0.5687490520833333 + 20.699965500000022 = 21.268714552083356\n",
      "note = 64  |  real time = 21.269\n",
      "\n",
      "ab_time + passed_time = 0.031249947916666663 + 21.299964500000023 = 21.299964500000023\n",
      "ab_time + passed_time = 0.2837495270833333 + 21.299964500000023 = 21.583714027083357\n",
      "note = 64  |  real time = 21.584\n",
      "\n",
      "ab_time + passed_time = 0.016249972916666664 + 21.599964000000025 = 21.599964000000025\n",
      "ab_time + passed_time = 2.278746202083333 + 21.599964000000025 = 23.878710202083358\n",
      "note = 64  |  real time = 23.879\n",
      "\n",
      "ab_time + passed_time = 0.12124979791666665 + 23.999960000000023 = 23.999960000000023\n",
      "ab_time + passed_time = 0.2837495270833333 + 23.999960000000023 = 24.283709527083357\n",
      "note = 64  |  real time = 24.284\n",
      "\n",
      "ab_time + passed_time = 0.016249972916666664 + 24.299959500000025 = 24.299959500000025\n",
      "ab_time + passed_time = 0.2837495270833333 + 24.299959500000025 = 24.58370902708336\n",
      "note = 64  |  real time = 24.584\n",
      "\n",
      "ab_time + passed_time = 0.016249972916666664 + 24.599959000000027 = 24.599959000000027\n",
      "ab_time + passed_time = 0.2837495270833333 + 24.599959000000027 = 24.88370852708336\n",
      "note = 67  |  real time = 24.884\n",
      "\n",
      "ab_time + passed_time = 0.016249972916666664 + 24.89995850000003 = 24.89995850000003\n",
      "ab_time + passed_time = 0.2837495270833333 + 24.89995850000003 = 25.183708027083362\n",
      "note = 64  |  real time = 25.184\n",
      "\n",
      "ab_time + passed_time = 0.016249972916666664 + 25.19995800000003 = 25.19995800000003\n",
      "ab_time + passed_time = 0.2837495270833333 + 25.19995800000003 = 25.483707527083364\n",
      "note = 67  |  real time = 25.484\n",
      "\n",
      "ab_time + passed_time = 0.016249972916666664 + 25.499957500000033 = 25.499957500000033\n",
      "ab_time + passed_time = 0.5687490520833333 + 25.499957500000033 = 26.068706552083366\n",
      "note = 64  |  real time = 26.069\n",
      "\n",
      "ab_time + passed_time = 0.031249947916666663 + 26.099956500000033 = 26.099956500000033\n",
      "ab_time + passed_time = 0.2837495270833333 + 26.099956500000033 = 26.383706027083367\n",
      "note = 64  |  real time = 26.384\n",
      "\n",
      "ab_time + passed_time = 0.016249972916666664 + 26.399956000000035 = 26.399956000000035\n",
      "ab_time + passed_time = 2.278746202083333 + 26.399956000000035 = 28.678702202083368\n",
      "note = 64  |  real time = 28.679\n",
      "\n",
      "\n",
      "Midi Length: 28.679952200000034\n",
      "Count: 56\n"
     ]
    }
   ],
   "source": [
    "analyzemidi('MIDI/sampleMidi/Cool_Blues_test1.mid')"
   ]
  },
  {
   "cell_type": "code",
   "execution_count": 12,
   "metadata": {
    "scrolled": true
   },
   "outputs": [
    {
     "name": "stdout",
     "output_type": "stream",
     "text": [
      "Track 0: Cool_Blues_test2.mid\n",
      "Tempo: 599999\n",
      "Bpm: 100.00016666694445\n",
      "\n",
      "note = 57  |  real time = 0.284\n",
      "note = 60  |  real time = 0.584\n",
      "note = 62  |  real time = 0.884\n",
      "note = 64  |  real time = 1.184\n",
      "note = 64  |  real time = 2.339\n",
      "note = 64  |  real time = 2.684\n",
      "note = 62  |  real time = 2.984\n",
      "note = 60  |  real time = 3.284\n",
      "note = 57  |  real time = 3.584\n",
      "note = 57  |  real time = 4.739\n",
      "note = 57  |  real time = 5.084\n",
      "note = 60  |  real time = 5.384\n",
      "note = 62  |  real time = 5.684\n",
      "note = 64  |  real time = 5.984\n",
      "note = 64  |  real time = 7.139\n",
      "note = 64  |  real time = 7.484\n",
      "note = 62  |  real time = 7.784\n",
      "note = 60  |  real time = 8.084\n",
      "note = 57  |  real time = 8.384\n",
      "note = 57  |  real time = 9.539\n",
      "note = 57  |  real time = 9.884\n",
      "note = 60  |  real time = 10.184\n",
      "note = 62  |  real time = 10.484\n",
      "note = 64  |  real time = 10.784\n",
      "note = 64  |  real time = 11.939\n",
      "note = 64  |  real time = 12.284\n",
      "note = 62  |  real time = 12.584\n",
      "note = 60  |  real time = 12.884\n",
      "note = 57  |  real time = 13.184\n",
      "note = 57  |  real time = 14.339\n",
      "note = 57  |  real time = 14.684\n",
      "note = 60  |  real time = 14.984\n",
      "note = 62  |  real time = 15.284\n",
      "note = 64  |  real time = 15.584\n",
      "note = 64  |  real time = 16.739\n",
      "note = 64  |  real time = 17.084\n",
      "note = 62  |  real time = 17.384\n",
      "note = 60  |  real time = 17.684\n",
      "note = 57  |  real time = 17.984\n",
      "note = 57  |  real time = 19.139\n",
      "note = 64  |  real time = 19.484\n",
      "note = 64  |  real time = 19.784\n",
      "note = 67  |  real time = 20.084\n",
      "note = 64  |  real time = 20.384\n",
      "note = 67  |  real time = 20.684\n",
      "note = 64  |  real time = 21.269\n",
      "note = 64  |  real time = 21.584\n",
      "note = 64  |  real time = 23.879\n",
      "note = 64  |  real time = 24.284\n",
      "note = 64  |  real time = 24.584\n",
      "note = 67  |  real time = 24.884\n",
      "note = 64  |  real time = 25.184\n",
      "note = 67  |  real time = 25.484\n",
      "note = 64  |  real time = 26.069\n",
      "note = 64  |  real time = 26.384\n",
      "note = 64  |  real time = 28.679\n",
      "Track 1: Cool_Blues_test2.mid\n",
      "note = 45  |  real time = 0.569\n",
      "note = 45  |  real time = 1.169\n",
      "note = 45  |  real time = 1.769\n",
      "note = 45  |  real time = 2.369\n",
      "note = 45  |  real time = 2.969\n",
      "note = 45  |  real time = 3.569\n",
      "note = 45  |  real time = 4.169\n",
      "note = 45  |  real time = 4.769\n",
      "note = 45  |  real time = 5.369\n",
      "note = 45  |  real time = 5.969\n",
      "note = 45  |  real time = 6.569\n",
      "note = 45  |  real time = 7.169\n",
      "note = 45  |  real time = 7.769\n",
      "note = 45  |  real time = 8.369\n",
      "note = 45  |  real time = 8.969\n",
      "note = 45  |  real time = 9.569\n",
      "note = 50  |  real time = 10.169\n",
      "note = 50  |  real time = 10.769\n",
      "note = 50  |  real time = 11.369\n",
      "note = 50  |  real time = 11.969\n",
      "note = 50  |  real time = 12.569\n",
      "note = 50  |  real time = 13.169\n",
      "note = 50  |  real time = 13.769\n",
      "note = 50  |  real time = 14.369\n",
      "note = 45  |  real time = 14.969\n",
      "note = 45  |  real time = 15.569\n",
      "note = 45  |  real time = 16.169\n",
      "note = 45  |  real time = 16.769\n",
      "note = 45  |  real time = 17.369\n",
      "note = 45  |  real time = 17.969\n",
      "note = 45  |  real time = 18.569\n",
      "note = 45  |  real time = 19.169\n",
      "note = 52  |  real time = 19.769\n",
      "note = 52  |  real time = 20.369\n",
      "note = 52  |  real time = 20.969\n",
      "note = 52  |  real time = 21.569\n",
      "note = 50  |  real time = 22.169\n",
      "note = 50  |  real time = 22.769\n",
      "note = 50  |  real time = 23.369\n",
      "note = 50  |  real time = 23.969\n",
      "note = 45  |  real time = 24.569\n",
      "note = 45  |  real time = 25.169\n",
      "note = 45  |  real time = 25.769\n",
      "note = 45  |  real time = 26.369\n",
      "note = 45  |  real time = 26.969\n",
      "note = 45  |  real time = 27.569\n",
      "note = 45  |  real time = 28.169\n",
      "note = 45  |  real time = 28.769\n",
      "\n",
      "Midi Length: 28.769952050000015\n",
      "Count: 104\n"
     ]
    }
   ],
   "source": [
    "analyzemidi('MIDI/sampleMidi/Cool_Blues_test2.mid')"
   ]
  },
  {
   "cell_type": "code",
   "execution_count": 13,
   "metadata": {
    "scrolled": true
   },
   "outputs": [
    {
     "name": "stdout",
     "output_type": "stream",
     "text": [
      "Track 0: Silent_Night_test1.mid\n",
      "Tempo: 500000\n",
      "Bpm: 120.0\n",
      "\n",
      "note = 67  |  real time = 0.711\n",
      "note = 69  |  real time = 0.986\n",
      "note = 67  |  real time = 1.474\n",
      "note = 64  |  real time = 2.924\n",
      "note = 67  |  real time = 3.711\n",
      "note = 69  |  real time = 3.986\n",
      "note = 67  |  real time = 4.474\n",
      "note = 64  |  real time = 5.924\n",
      "note = 74  |  real time = 6.949\n",
      "note = 74  |  real time = 7.474\n",
      "note = 71  |  real time = 8.924\n",
      "note = 72  |  real time = 9.949\n",
      "note = 72  |  real time = 10.474\n",
      "note = 67  |  real time = 11.924\n",
      "\n",
      "Midi Length: 11.925\n",
      "Count: 14\n"
     ]
    }
   ],
   "source": [
    "analyzemidi('MIDI/sampleMidi/Silent_Night_test1.mid')"
   ]
  },
  {
   "cell_type": "code",
   "execution_count": 14,
   "metadata": {
    "scrolled": true
   },
   "outputs": [
    {
     "name": "stdout",
     "output_type": "stream",
     "text": [
      "Track 0: Silent_Night_test2.mid\n",
      "Tempo: 599999\n",
      "Bpm: 100.00016666694445\n",
      "\n",
      "note = 67  |  real time = 0.854\n",
      "note = 69  |  real time = 1.184\n",
      "note = 67  |  real time = 1.769\n",
      "note = 64  |  real time = 3.509\n",
      "note = 67  |  real time = 4.454\n",
      "note = 69  |  real time = 4.784\n",
      "note = 67  |  real time = 5.369\n",
      "note = 64  |  real time = 7.109\n",
      "note = 74  |  real time = 8.339\n",
      "note = 74  |  real time = 8.969\n",
      "note = 71  |  real time = 10.709\n",
      "note = 72  |  real time = 11.939\n",
      "note = 72  |  real time = 12.569\n",
      "note = 67  |  real time = 14.309\n",
      "note = 69  |  real time = 15.539\n",
      "note = 69  |  real time = 16.169\n",
      "note = 72  |  real time = 17.054\n",
      "note = 71  |  real time = 17.384\n",
      "note = 69  |  real time = 17.969\n",
      "note = 67  |  real time = 18.854\n",
      "note = 69  |  real time = 19.184\n",
      "note = 67  |  real time = 19.769\n",
      "note = 64  |  real time = 21.509\n",
      "note = 69  |  real time = 22.739\n",
      "note = 69  |  real time = 23.369\n",
      "note = 72  |  real time = 24.254\n",
      "note = 71  |  real time = 24.584\n",
      "note = 69  |  real time = 25.169\n",
      "note = 67  |  real time = 26.054\n",
      "note = 69  |  real time = 26.384\n",
      "note = 67  |  real time = 26.969\n",
      "note = 64  |  real time = 28.709\n",
      "note = 74  |  real time = 29.939\n",
      "note = 74  |  real time = 30.569\n",
      "note = 77  |  real time = 31.169\n",
      "note = 74  |  real time = 31.769\n",
      "note = 71  |  real time = 32.369\n",
      "note = 72  |  real time = 34.109\n",
      "note = 76  |  real time = 35.909\n",
      "note = 72  |  real time = 36.569\n",
      "note = 67  |  real time = 37.169\n",
      "note = 64  |  real time = 37.769\n",
      "note = 67  |  real time = 38.654\n",
      "note = 65  |  real time = 38.984\n",
      "note = 62  |  real time = 39.569\n",
      "note = 60  |  real time = 41.309\n",
      "\n",
      "Midi Length: 41.30993114999998\n",
      "Count: 46\n"
     ]
    }
   ],
   "source": [
    "analyzemidi('MIDI/sampleMidi/Silent_Night_test2.mid')"
   ]
  },
  {
   "cell_type": "code",
   "execution_count": 15,
   "metadata": {},
   "outputs": [
    {
     "data": {
      "text/html": [
       "<div>\n",
       "<style scoped>\n",
       "    .dataframe tbody tr th:only-of-type {\n",
       "        vertical-align: middle;\n",
       "    }\n",
       "\n",
       "    .dataframe tbody tr th {\n",
       "        vertical-align: top;\n",
       "    }\n",
       "\n",
       "    .dataframe thead th {\n",
       "        text-align: right;\n",
       "    }\n",
       "</style>\n",
       "<table border=\"1\" class=\"dataframe\">\n",
       "  <thead>\n",
       "    <tr style=\"text-align: right;\">\n",
       "      <th></th>\n",
       "      <th>type</th>\n",
       "      <th>value</th>\n",
       "    </tr>\n",
       "  </thead>\n",
       "  <tbody>\n",
       "    <tr>\n",
       "      <th>0</th>\n",
       "      <td>time</td>\n",
       "      <td>13.00000</td>\n",
       "    </tr>\n",
       "    <tr>\n",
       "      <th>1</th>\n",
       "      <td>ticks_per_beat</td>\n",
       "      <td>480.00000</td>\n",
       "    </tr>\n",
       "    <tr>\n",
       "      <th>2</th>\n",
       "      <td>tempo</td>\n",
       "      <td>600000.00000</td>\n",
       "    </tr>\n",
       "    <tr>\n",
       "      <th>3</th>\n",
       "      <td>absolute time</td>\n",
       "      <td>0.01625</td>\n",
       "    </tr>\n",
       "  </tbody>\n",
       "</table>\n",
       "</div>"
      ],
      "text/plain": [
       "             type         value\n",
       "0            time      13.00000\n",
       "1  ticks_per_beat     480.00000\n",
       "2           tempo  600000.00000\n",
       "3   absolute time       0.01625"
      ]
     },
     "execution_count": 15,
     "metadata": {},
     "output_type": "execute_result"
    }
   ],
   "source": [
    "import pandas as pd\n",
    "msg.time = 13 \n",
    "mid.ticks_per_beat = 480\n",
    "tempo = 600000\n",
    "\n",
    "ab_time = mido.tick2second(msg.time, mid.ticks_per_beat, tempo)\n",
    "types = [\"time\", \"ticks_per_beat\", \"tempo\", \"absolute time\"]\n",
    "values = [msg.time, mid.ticks_per_beat, tempo, ab_time]\n",
    "dictionary = {\"type\": types,\"value\": values}\n",
    "df = pd.DataFrame(dictionary)\n",
    "df"
   ]
  },
  {
   "cell_type": "markdown",
   "metadata": {},
   "source": [
    "# 取得MIDI中的音符和休止符"
   ]
  },
  {
   "cell_type": "markdown",
   "metadata": {},
   "source": [
    "https://stackoverflow.com/questions/49339622/how-to-extract-individual-chords-rests-and-notes-from-a-midi-file"
   ]
  },
  {
   "cell_type": "code",
   "execution_count": 16,
   "metadata": {},
   "outputs": [],
   "source": [
    "import music21\n",
    "from music21 import *"
   ]
  },
  {
   "cell_type": "code",
   "execution_count": 17,
   "metadata": {},
   "outputs": [],
   "source": [
    "def get_notes_chords_rests(instrument_type, path):\n",
    "    try:\n",
    "        midi = converter.parse(path)\n",
    "        parts = instrument.partitionByInstrument(midi)\n",
    "        note_list = []\n",
    "        for music_instrument in range(len(parts)):\n",
    "            if parts.parts[music_instrument].id in instrument_type:\n",
    "                for element_by_offset in stream.iterator.OffsetIterator(parts[music_instrument]):\n",
    "                    for entry in element_by_offset:\n",
    "                        if isinstance(entry, note.Note):\n",
    "                            note_list.append(str(entry.pitch))\n",
    "                        elif isinstance(entry, chord.Chord):\n",
    "                            note_list.append('.'.join(str(n) for n in entry.normalOrder))\n",
    "                        elif isinstance(entry, note.Rest):\n",
    "                            note_list.append('Rest')\n",
    "        return note_list\n",
    "    except Exception as e:\n",
    "        print(\"failed on \", path)\n",
    "        pass"
   ]
  },
  {
   "cell_type": "code",
   "execution_count": 18,
   "metadata": {},
   "outputs": [
    {
     "name": "stdout",
     "output_type": "stream",
     "text": [
      "['Rest', 'A3', 'C4', 'E4', 'F4', 'B-3', 'Rest', 'A3', 'C4', 'E4', 'F4', 'G4', 'Rest', 'F4', 'G4', 'A4', 'B-4', 'C5', 'C5', 'B-4', 'A4', 'G4', 'F4', 'B-4', 'A4', 'G4', 'F4', 'C4']\n"
     ]
    }
   ],
   "source": [
    "# keyboard_nstrument = [\"KeyboardInstrument\", \"Piano\", \"Harpsichord\", \"Clavichord\", \"Celesta\", ]\n",
    "notes = get_notes_chords_rests(\"Piano\", \"MIDI/MIDI - Beauty_and_the_Beast.mid\")\n",
    "print(notes)"
   ]
  },
  {
   "cell_type": "code",
   "execution_count": 19,
   "metadata": {
    "scrolled": true
   },
   "outputs": [
    {
     "name": "stdout",
     "output_type": "stream",
     "text": [
      "Count： 56\n"
     ]
    },
    {
     "data": {
      "text/plain": [
       "[{'time': 0, 'note': 57},\n",
       " {'time': 240, 'note': 60},\n",
       " {'time': 480, 'note': 62},\n",
       " {'time': 720, 'note': 64},\n",
       " {'time': 960, 'note': 64},\n",
       " {'time': 1920, 'note': 64},\n",
       " {'time': 2160, 'note': 62},\n",
       " {'time': 2400, 'note': 60},\n",
       " {'time': 2640, 'note': 57},\n",
       " {'time': 2880, 'note': 57},\n",
       " {'time': 3840, 'note': 57},\n",
       " {'time': 4080, 'note': 60},\n",
       " {'time': 4320, 'note': 62},\n",
       " {'time': 4560, 'note': 64},\n",
       " {'time': 4800, 'note': 64},\n",
       " {'time': 5760, 'note': 64},\n",
       " {'time': 6000, 'note': 62},\n",
       " {'time': 6240, 'note': 60},\n",
       " {'time': 6480, 'note': 57},\n",
       " {'time': 6720, 'note': 57},\n",
       " {'time': 7680, 'note': 57},\n",
       " {'time': 7920, 'note': 60},\n",
       " {'time': 8160, 'note': 62},\n",
       " {'time': 8400, 'note': 64},\n",
       " {'time': 8640, 'note': 64},\n",
       " {'time': 9600, 'note': 64},\n",
       " {'time': 9840, 'note': 62},\n",
       " {'time': 10080, 'note': 60},\n",
       " {'time': 10320, 'note': 57},\n",
       " {'time': 10560, 'note': 57},\n",
       " {'time': 11520, 'note': 57},\n",
       " {'time': 11760, 'note': 60},\n",
       " {'time': 12000, 'note': 62},\n",
       " {'time': 12240, 'note': 64},\n",
       " {'time': 12480, 'note': 64},\n",
       " {'time': 13440, 'note': 64},\n",
       " {'time': 13680, 'note': 62},\n",
       " {'time': 13920, 'note': 60},\n",
       " {'time': 14160, 'note': 57},\n",
       " {'time': 14400, 'note': 57},\n",
       " {'time': 15360, 'note': 64},\n",
       " {'time': 15600, 'note': 64},\n",
       " {'time': 15840, 'note': 67},\n",
       " {'time': 16080, 'note': 64},\n",
       " {'time': 16320, 'note': 67},\n",
       " {'time': 16560, 'note': 64},\n",
       " {'time': 17040, 'note': 64},\n",
       " {'time': 17280, 'note': 64},\n",
       " {'time': 19200, 'note': 64},\n",
       " {'time': 19440, 'note': 64},\n",
       " {'time': 19680, 'note': 67},\n",
       " {'time': 19920, 'note': 64},\n",
       " {'time': 20160, 'note': 67},\n",
       " {'time': 20400, 'note': 64},\n",
       " {'time': 20880, 'note': 64},\n",
       " {'time': 21120, 'note': 64}]"
      ]
     },
     "execution_count": 19,
     "metadata": {},
     "output_type": "execute_result"
    }
   ],
   "source": [
    "# 取得音符和時間點另外方法\n",
    "# https://programtalk.com/python-examples/music21.midi.MidiFile/\n",
    "mf = music21.midi.MidiFile()\n",
    "mf.open('MIDI/sampleMidi/Cool_Blues_test2.mid')\n",
    "mf.read()\n",
    "\n",
    "tracknum = 0\n",
    "t = 0\n",
    "events = mf.tracks[tracknum].events\n",
    "#print(events)\n",
    "result = []\n",
    "\n",
    "for e in events:\n",
    "    if e.isDeltaTime and (e.time is not None):          \n",
    "        t += e.time\n",
    "             \n",
    "    elif (e.isNoteOn and (e.pitch is not None) and (e.velocity != 0) and (e.pitch > 11)):           \n",
    "        result.append({'time':t, 'note':e.pitch})\n",
    "\n",
    "print('Count：',len(result))\n",
    "result"
   ]
  },
  {
   "cell_type": "markdown",
   "metadata": {},
   "source": [
    "# mutagen 取得MP3檔案之長度"
   ]
  },
  {
   "cell_type": "code",
   "execution_count": 20,
   "metadata": {},
   "outputs": [
    {
     "name": "stdout",
     "output_type": "stream",
     "text": [
      "Duration: 13.9755\n"
     ]
    }
   ],
   "source": [
    "# 使用 mutagen取得 mp3長度\n",
    "import mutagen\n",
    "from mutagen.mp3 import MP3\n",
    "audio = MP3('MIDI/sampleMidi/Silent_Night_test1.mp3')\n",
    "print(\"Duration: \" + str(audio.info.length))"
   ]
  },
  {
   "cell_type": "markdown",
   "metadata": {},
   "source": [
    "# pretty_midi 取得MIDI檔案長度"
   ]
  },
  {
   "cell_type": "markdown",
   "metadata": {},
   "source": [
    "https://github.com/craffel/pretty-midi\n",
    "\n",
    "https://github.com/craffel/pretty-midi/blob/master/Tutorial.ipynb"
   ]
  },
  {
   "cell_type": "code",
   "execution_count": 21,
   "metadata": {},
   "outputs": [],
   "source": [
    "import pretty_midi\n",
    "import numpy as np\n",
    "import mir_eval.display\n",
    "import librosa.display\n",
    "import matplotlib.pyplot as plt\n",
    "import IPython.display"
   ]
  },
  {
   "cell_type": "code",
   "execution_count": 22,
   "metadata": {},
   "outputs": [],
   "source": [
    "def plot_piano_roll(pm, start_pitch, end_pitch, fs=100):\n",
    "    # 使用librosa的specshow函式用於顯示piano roll鋼琴卷\n",
    "    librosa.display.specshow(pm.get_piano_roll(fs)[start_pitch:end_pitch],\n",
    "                             hop_length=1, sr=fs, x_axis='time', y_axis='cqt_note',\n",
    "                             fmin=pretty_midi.note_number_to_hz(start_pitch))"
   ]
  },
  {
   "cell_type": "code",
   "execution_count": 23,
   "metadata": {},
   "outputs": [
    {
     "data": {
      "image/png": "[encoded data removed]",
      "text/plain": [
       "<Figure size 864x288 with 1 Axes>"
      ]
     },
     "metadata": {
      "image/png": {
       "height": 261,
       "width": 717
      },
      "needs_background": "light"
     },
     "output_type": "display_data"
    }
   ],
   "source": [
    "pm = pretty_midi.PrettyMIDI('MIDI/sampleMidi/Cool_Blues_test1.mid')\n",
    "plt.figure(figsize=(12, 4))\n",
    "plot_piano_roll(pm, 24, 84)\n",
    "#end_time = mid.get_end_time()"
   ]
  },
  {
   "cell_type": "code",
   "execution_count": 24,
   "metadata": {},
   "outputs": [
    {
     "name": "stdout",
     "output_type": "stream",
     "text": [
      "Instrument Type: [Instrument(program=0, is_drum=False, name=\"\")]\n",
      "Count: 1\n"
     ]
    }
   ],
   "source": [
    "print('Instrument Type:',pm.instruments)\n",
    "print('Count:',len(pm.instruments))"
   ]
  },
  {
   "cell_type": "code",
   "execution_count": 25,
   "metadata": {},
   "outputs": [
    {
     "name": "stdout",
     "output_type": "stream",
     "text": [
      "There are 1 time signature changes\n",
      "There are 1 instruments\n",
      "Instrument 3 has 56 notes\n",
      "Instrument 4 has 0 pitch bends\n",
      "Instrument 5 has 5 control changes\n"
     ]
    }
   ],
   "source": [
    "print('There are {} time signature changes'.format(len(pm.time_signature_changes)))\n",
    "print('There are {} instruments'.format(len(pm.instruments)))\n",
    "print('Instrument 3 has {} notes'.format(len(pm.instruments[0].notes)))\n",
    "print('Instrument 4 has {} pitch bends'.format(len(pm.instruments[0].pitch_bends)))\n",
    "print('Instrument 5 has {} control changes'.format(len(pm.instruments[0].control_changes)))"
   ]
  },
  {
   "cell_type": "code",
   "execution_count": 26,
   "metadata": {},
   "outputs": [
    {
     "name": "stdout",
     "output_type": "stream",
     "text": [
      "position 10 's time: 4.7999920000000005\n",
      "time → tick: 3840\n",
      "tick → time: 4.7999920000000005\n"
     ]
    }
   ],
   "source": [
    "# 取得特定位置的音符時間\n",
    "pos = 10\n",
    "print('position',pos,\"'s time:\",pm.instruments[0].notes[pos].start)\n",
    "\n",
    "# 時間單位轉換成 tick單位\n",
    "tick = pm.time_to_tick(pm.instruments[0].notes[10].start)\n",
    "print('time → tick:',tick)\n",
    "\n",
    "# tick單位轉成時間單位\n",
    "print('tick → time:',pm.tick_to_time(int(tick)))"
   ]
  },
  {
   "cell_type": "code",
   "execution_count": 27,
   "metadata": {},
   "outputs": [
    {
     "name": "stdout",
     "output_type": "stream",
     "text": [
      "beats:\n",
      " [ 0.        0.599999  1.199998  1.799997  2.399996  2.999995  3.599994\n",
      "  4.199993  4.799992  5.399991  5.99999   6.599989  7.199988  7.799987\n",
      "  8.399986  8.999985  9.599984 10.199983 10.799982 11.399981 11.99998\n",
      " 12.599979 13.199978 13.799977 14.399976 14.999975 15.599974 16.199973\n",
      " 16.799972 17.399971 17.99997  18.599969 19.199968 19.799967 20.399966\n",
      " 20.999965 21.599964 22.199963 22.799962 23.399961 23.99996  24.599959\n",
      " 25.199958 25.799957 26.399956 26.999955 27.599954 28.199953]\n",
      "downbeats:\n",
      " [ 0.        2.399996  4.799992  7.199988  9.599984 11.99998  14.399976\n",
      " 16.799972 19.199968 21.599964 23.99996  26.399956]\n"
     ]
    }
   ],
   "source": [
    "# 根據tempo轉換事件，回傳beat位置\n",
    "beats = pm.get_beats()\n",
    "# 根據tempo轉換和拍號轉換事件，回傳downbeat位置\n",
    "downbeats = pm.get_downbeats()\n",
    "print('beats:\\n',beats)\n",
    "print('downbeats:\\n',downbeats)"
   ]
  },
  {
   "cell_type": "code",
   "execution_count": 28,
   "metadata": {},
   "outputs": [
    {
     "data": {
      "text/plain": [
       "Text(0, 0.5, 'Proportion')"
      ]
     },
     "execution_count": 28,
     "metadata": {},
     "output_type": "execute_result"
    },
    {
     "data": {
      "image/png": "[encoded data removed]",
      "text/plain": [
       "<Figure size 432x288 with 1 Axes>"
      ]
     },
     "metadata": {
      "image/png": {
       "height": 265,
       "width": 392
      },
      "needs_background": "light"
     },
     "output_type": "display_data"
    }
   ],
   "source": [
    "# 各音符佔的比例\n",
    "plt.bar(np.arange(12), pm.get_pitch_class_histogram());\n",
    "plt.xticks(np.arange(12), ['C', '', 'D', '', 'E', 'F', '', 'G', '', 'A', '', 'B'])\n",
    "plt.xlabel('Note')\n",
    "plt.ylabel('Proportion')"
   ]
  },
  {
   "cell_type": "code",
   "execution_count": 29,
   "metadata": {},
   "outputs": [
    {
     "name": "stdout",
     "output_type": "stream",
     "text": [
      "midi檔案總長度: 28.678702202083333\n"
     ]
    }
   ],
   "source": [
    "# 查看midi檔案總長度(回傳MIDI檔案中最後一個元素的時間值)\n",
    "pm = pretty_midi.PrettyMIDI('MIDI/sampleMidi/Cool_Blues_test1.mid')\n",
    "time = pm.get_end_time()\n",
    "print('midi檔案總長度:',time)"
   ]
  },
  {
   "cell_type": "code",
   "execution_count": 30,
   "metadata": {},
   "outputs": [
    {
     "name": "stdout",
     "output_type": "stream",
     "text": [
      "midi檔案總長度: 41.30868115208334\n"
     ]
    }
   ],
   "source": [
    "# 查看midi檔案總長度(回傳MIDI檔案中最後一個元素的時間值)\n",
    "pm = pretty_midi.PrettyMIDI('MIDI/sampleMidi/Silent_Night_test2.mid')\n",
    "time = pm.get_end_time()\n",
    "print('midi檔案總長度:',time)"
   ]
  },
  {
   "cell_type": "code",
   "execution_count": null,
   "metadata": {},
   "outputs": [],
   "source": []
  }
 ],
 "metadata": {
  "kernelspec": {
   "display_name": "Python 3",
   "language": "python",
   "name": "python3"
  },
  "language_info": {
   "codemirror_mode": {
    "name": "ipython",
    "version": 3
   },
   "file_extension": ".py",
   "mimetype": "text/x-python",
   "name": "python",
   "nbconvert_exporter": "python",
   "pygments_lexer": "ipython3",
   "version": "3.6.5"
  }
 },
 "nbformat": 4,
 "nbformat_minor": 2
}
