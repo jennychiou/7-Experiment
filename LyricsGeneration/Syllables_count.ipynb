{
 "cells": [
  {
   "cell_type": "code",
   "execution_count": 2,
   "metadata": {},
   "outputs": [],
   "source": [
    "import syllables\n",
    "import re"
   ]
  },
  {
   "cell_type": "code",
   "execution_count": 22,
   "metadata": {
    "collapsed": true
   },
   "outputs": [
    {
     "data": {
      "text/plain": [
       "['When the days are cold',\n",
       " 'And the cards all fold',\n",
       " 'And the saints we see',\n",
       " 'Are all made of gold',\n",
       " 'When your dreams all fail',\n",
       " 'And the ones we hail',\n",
       " 'Are the worst of all',\n",
       " \"And the blood's run stale\",\n",
       " 'I want to hide the truth',\n",
       " 'I want to shelter you',\n",
       " 'But with the beast inside',\n",
       " \"There's nowhere we can hide\",\n",
       " 'No matter what we breed',\n",
       " 'We still are made of greed',\n",
       " 'This is my kingdom come',\n",
       " 'This is my kingdom come',\n",
       " 'When you feel my heat',\n",
       " 'Look into my eyes',\n",
       " \"It's where my demons hide\",\n",
       " \"It's where my demons hide\",\n",
       " \"Don't get too close\",\n",
       " \"It's dark inside\",\n",
       " \"It's where my demons hide\",\n",
       " \"It's where my demons hide\",\n",
       " \"When the curtain's call\",\n",
       " 'Is the last of all',\n",
       " 'When the lights fade out',\n",
       " 'All the sinners crawl',\n",
       " 'So they dug your grave',\n",
       " 'And the masquerade',\n",
       " 'Will come calling out',\n",
       " 'At the mess you made',\n",
       " \"Don't want to let you down\",\n",
       " 'But I am hell bound',\n",
       " 'Though this is all for you',\n",
       " \"Don't want to hide the truth\",\n",
       " 'No matter what we breed',\n",
       " 'We still are made of greed',\n",
       " 'This is my kingdom come',\n",
       " 'This is my kingdom come',\n",
       " 'When you feel my heat',\n",
       " 'Look into my eyes',\n",
       " \"It's where my demons hide\",\n",
       " \"It's where my demons hide\",\n",
       " \"Don't get too close\",\n",
       " \"It's dark inside\",\n",
       " \"It's where my demons hide\",\n",
       " \"It's where my demons hide\",\n",
       " \"They say it's what you make\",\n",
       " \"I say it's up to fate\",\n",
       " \"It's woven in my soul\",\n",
       " 'I need to let you go',\n",
       " 'Your eyes, they shine so bright',\n",
       " 'I want to save their light',\n",
       " \"I can't escape this now\",\n",
       " 'Unless you show me how',\n",
       " 'When you feel my heat',\n",
       " 'Look into my eyes',\n",
       " \"It's where my demons hide\",\n",
       " \"It's where my demons hide\",\n",
       " \"Don't get too close\",\n",
       " \"It's dark inside\",\n",
       " \"It's where my demons hide\",\n",
       " \"It's where my demons hide\"]"
      ]
     },
     "execution_count": 22,
     "metadata": {},
     "output_type": "execute_result"
    }
   ],
   "source": [
    "name = 'Imagine-Dragons-Demons.txt'\n",
    "filepath = 'TXT/lyrics/' + name\n",
    "lyrics = []\n",
    "f = open(filepath, 'r')\n",
    "for i in f.readlines():\n",
    "    # 移除TXT檔案中的換行符號\n",
    "    content = i.strip()\n",
    "    lyrics.append(content)\n",
    "lyrics"
   ]
  },
  {
   "cell_type": "code",
   "execution_count": 24,
   "metadata": {
    "collapsed": true
   },
   "outputs": [
    {
     "data": {
      "text/plain": [
       "\"When the days are cold And the cards all fold And the saints we see Are all made of gold When your dreams all fail And the ones we hail Are the worst of all And the blood's run stale I want to hide the truth I want to shelter you But with the beast inside There's nowhere we can hide No matter what we breed We still are made of greed This is my kingdom come This is my kingdom come When you feel my heat Look into my eyes It's where my demons hide It's where my demons hide Don't get too close It's dark inside It's where my demons hide It's where my demons hide When the curtain's call Is the last of all When the lights fade out All the sinners crawl So they dug your grave And the masquerade Will come calling out At the mess you made Don't want to let you down But I am hell bound Though this is all for you Don't want to hide the truth No matter what we breed We still are made of greed This is my kingdom come This is my kingdom come When you feel my heat Look into my eyes It's where my demons hide It's where my demons hide Don't get too close It's dark inside It's where my demons hide It's where my demons hide They say it's what you make I say it's up to fate It's woven in my soul I need to let you go Your eyes, they shine so bright I want to save their light I can't escape this now Unless you show me how When you feel my heat Look into my eyes It's where my demons hide It's where my demons hide Don't get too close It's dark inside It's where my demons hide It's where my demons hide\""
      ]
     },
     "execution_count": 24,
     "metadata": {},
     "output_type": "execute_result"
    }
   ],
   "source": [
    "# 合併拼接字符串(list中每一個元素合併)\n",
    "# https://python3-cookbook.readthedocs.io/zh_CN/latest/c02/p14_combine_and_concatenate_strings.html\n",
    "text = ' '.join(lyrics)\n",
    "text"
   ]
  },
  {
   "cell_type": "code",
   "execution_count": 33,
   "metadata": {
    "collapsed": true
   },
   "outputs": [
    {
     "data": {
      "text/plain": [
       "'When the days are cold And the cards all fold And the saints we see Are all made of gold When your dreams all fail And the ones we hail Are the worst of all And the bloods run stale I want to hide the truth I want to shelter you But with the beast inside Theres nowhere we can hide No matter what we breed We still are made of greed This is my kingdom come This is my kingdom come When you feel my heat Look into my eyes Its where my demons hide Its where my demons hide Dont get too close Its dark inside Its where my demons hide Its where my demons hide When the curtains call Is the last of all When the lights fade out All the sinners crawl So they dug your grave And the masquerade Will come calling out At the mess you made Dont want to let you down But I am hell bound Though this is all for you Dont want to hide the truth No matter what we breed We still are made of greed This is my kingdom come This is my kingdom come When you feel my heat Look into my eyes Its where my demons hide Its where my demons hide Dont get too close Its dark inside Its where my demons hide Its where my demons hide They say its what you make I say its up to fate Its woven in my soul I need to let you go Your eyes they shine so bright I want to save their light I cant escape this now Unless you show me how When you feel my heat Look into my eyes Its where my demons hide Its where my demons hide Dont get too close Its dark inside Its where my demons hide Its where my demons hide'"
      ]
     },
     "execution_count": 33,
     "metadata": {},
     "output_type": "execute_result"
    }
   ],
   "source": [
    "# 移除標點符號\n",
    "punc = '[,.!\\'?]'\n",
    "text_re = re.sub(punc,'',text)\n",
    "text_re"
   ]
  },
  {
   "cell_type": "code",
   "execution_count": 39,
   "metadata": {
    "collapsed": true
   },
   "outputs": [
    {
     "name": "stdout",
     "output_type": "stream",
     "text": [
      "['When', 'the', 'days', 'are', 'cold', 'And', 'the', 'cards', 'all', 'fold', 'And', 'the', 'saints', 'we', 'see', 'Are', 'all', 'made', 'of', 'gold', 'When', 'your', 'dreams', 'all', 'fail', 'And', 'the', 'ones', 'we', 'hail', 'Are', 'the', 'worst', 'of', 'all', 'And', 'the', 'bloods', 'run', 'stale', 'I', 'want', 'to', 'hide', 'the', 'truth', 'I', 'want', 'to', 'shelter', 'you', 'But', 'with', 'the', 'beast', 'inside', 'Theres', 'nowhere', 'we', 'can', 'hide', 'No', 'matter', 'what', 'we', 'breed', 'We', 'still', 'are', 'made', 'of', 'greed', 'This', 'is', 'my', 'kingdom', 'come', 'This', 'is', 'my', 'kingdom', 'come', 'When', 'you', 'feel', 'my', 'heat', 'Look', 'into', 'my', 'eyes', 'Its', 'where', 'my', 'demons', 'hide', 'Its', 'where', 'my', 'demons', 'hide', 'Dont', 'get', 'too', 'close', 'Its', 'dark', 'inside', 'Its', 'where', 'my', 'demons', 'hide', 'Its', 'where', 'my', 'demons', 'hide', 'When', 'the', 'curtains', 'call', 'Is', 'the', 'last', 'of', 'all', 'When', 'the', 'lights', 'fade', 'out', 'All', 'the', 'sinners', 'crawl', 'So', 'they', 'dug', 'your', 'grave', 'And', 'the', 'masquerade', 'Will', 'come', 'calling', 'out', 'At', 'the', 'mess', 'you', 'made', 'Dont', 'want', 'to', 'let', 'you', 'down', 'But', 'I', 'am', 'hell', 'bound', 'Though', 'this', 'is', 'all', 'for', 'you', 'Dont', 'want', 'to', 'hide', 'the', 'truth', 'No', 'matter', 'what', 'we', 'breed', 'We', 'still', 'are', 'made', 'of', 'greed', 'This', 'is', 'my', 'kingdom', 'come', 'This', 'is', 'my', 'kingdom', 'come', 'When', 'you', 'feel', 'my', 'heat', 'Look', 'into', 'my', 'eyes', 'Its', 'where', 'my', 'demons', 'hide', 'Its', 'where', 'my', 'demons', 'hide', 'Dont', 'get', 'too', 'close', 'Its', 'dark', 'inside', 'Its', 'where', 'my', 'demons', 'hide', 'Its', 'where', 'my', 'demons', 'hide', 'They', 'say', 'its', 'what', 'you', 'make', 'I', 'say', 'its', 'up', 'to', 'fate', 'Its', 'woven', 'in', 'my', 'soul', 'I', 'need', 'to', 'let', 'you', 'go', 'Your', 'eyes', 'they', 'shine', 'so', 'bright', 'I', 'want', 'to', 'save', 'their', 'light', 'I', 'cant', 'escape', 'this', 'now', 'Unless', 'you', 'show', 'me', 'how', 'When', 'you', 'feel', 'my', 'heat', 'Look', 'into', 'my', 'eyes', 'Its', 'where', 'my', 'demons', 'hide', 'Its', 'where', 'my', 'demons', 'hide', 'Dont', 'get', 'too', 'close', 'Its', 'dark', 'inside', 'Its', 'where', 'my', 'demons', 'hide', 'Its', 'where', 'my', 'demons', 'hide']\n",
      "314\n",
      "[1, 1, 1, 2, 1, 1, 1, 1, 1, 1, 1, 1, 1, 1, 1, 1, 1, 1, 1, 1, 1, 1, 1, 1, 1, 1, 1, 1, 1, 1, 1, 1, 1, 1, 1, 1, 1, 1, 1, 2, 1, 1, 1, 1, 1, 1, 1, 1, 1, 2, 1, 1, 1, 1, 1, 3, 2, 3, 1, 1, 1, 1, 2, 1, 1, 1, 1, 1, 2, 1, 1, 1, 1, 1, 1, 2, 1, 1, 1, 1, 2, 1, 1, 1, 1, 1, 1, 1, 2, 1, 1, 1, 2, 1, 2, 1, 1, 2, 1, 2, 1, 1, 1, 1, 2, 1, 1, 3, 1, 2, 1, 2, 1, 1, 2, 1, 2, 1, 1, 1, 2, 1, 1, 1, 1, 1, 1, 1, 1, 1, 1, 1, 1, 1, 2, 1, 1, 1, 1, 1, 2, 1, 1, 4, 1, 1, 2, 1, 1, 1, 1, 1, 1, 1, 1, 1, 1, 1, 1, 1, 1, 1, 1, 1, 1, 1, 1, 1, 1, 1, 1, 1, 1, 1, 1, 1, 1, 2, 1, 1, 1, 1, 1, 2, 1, 1, 1, 1, 1, 1, 2, 1, 1, 1, 1, 2, 1, 1, 1, 1, 1, 1, 1, 2, 1, 1, 1, 2, 1, 2, 1, 1, 2, 1, 2, 1, 1, 1, 1, 2, 1, 1, 3, 1, 2, 1, 2, 1, 1, 2, 1, 2, 1, 1, 1, 1, 1, 1, 1, 1, 1, 1, 1, 1, 1, 1, 2, 1, 1, 1, 1, 1, 1, 1, 1, 1, 1, 1, 1, 2, 1, 1, 1, 1, 1, 1, 1, 1, 1, 1, 3, 1, 1, 1, 1, 1, 1, 1, 1, 1, 1, 1, 1, 1, 2, 1, 1, 1, 2, 1, 2, 1, 1, 2, 1, 2, 1, 1, 1, 1, 2, 1, 1, 3, 1, 2, 1, 2, 1, 1, 2, 1, 2, 1]\n",
      "314\n"
     ]
    }
   ],
   "source": [
    "# 計算詞語的音節個數\n",
    "a = text_re.split()\n",
    "word_list = []\n",
    "count_list = []\n",
    "\n",
    "for i in range (0,len(a)):\n",
    "    word = a[i]\n",
    "    word_list.append(word)\n",
    "    count = syllables.estimate(a[i])\n",
    "    count_list.append(count)\n",
    "    msg = 'Word : {}  |  Count : {}'.format(word, count)\n",
    "    #print(msg)\n",
    "print(word_list)\n",
    "print(len(word_list))\n",
    "print(count_list)\n",
    "print(len(count_list))"
   ]
  },
  {
   "cell_type": "code",
   "execution_count": 60,
   "metadata": {},
   "outputs": [],
   "source": [
    "# syllables function\n",
    "def syllables(word):\n",
    "    # https://stackoverflow.com/questions/14541303/count-the-number-of-syllables-in-a-word\n",
    "    count = 0\n",
    "    vowels = 'aeiouy'\n",
    "    word = word.lower()\n",
    "    \n",
    "    if word[0] in vowels:\n",
    "        count += 1\n",
    "    for index in range(1,len(word)):\n",
    "        if word[index] in vowels and word[index-1] not in vowels:\n",
    "            count += 1\n",
    "    if word.endswith('e'):\n",
    "        count -= 1\n",
    "    if word.endswith('le'):\n",
    "        count += 1\n",
    "    if count == 0:\n",
    "        count += 1\n",
    "    return count"
   ]
  },
  {
   "cell_type": "code",
   "execution_count": 62,
   "metadata": {},
   "outputs": [],
   "source": [
    "def syllables_count(filepath):\n",
    "    f = open(filepath, 'r')\n",
    "    for i in f.readlines():\n",
    "        content = i.strip()\n",
    "        lyrics.append(content)\n",
    "    \n",
    "    text = ' '.join(lyrics)\n",
    "    punc = '[,.!\\'?]'\n",
    "    text_re = re.sub(punc,'',text)\n",
    "    \n",
    "    a = text_re.split()\n",
    "    word_list = []\n",
    "    count_list = []\n",
    "\n",
    "    for i in range (0,len(a)):\n",
    "        word = a[i]\n",
    "        word_list.append(word)\n",
    "        #count = syllables.estimate(word)\n",
    "        count = syllables(word)\n",
    "        count_list.append(count)\n",
    "        msg = 'Word : {}  |  Count : {}'.format(word, count)\n",
    "        #print(msg)\n",
    "    \n",
    "    print(word_list)\n",
    "    print(count_list)\n",
    "    #return word_list, count_list"
   ]
  },
  {
   "cell_type": "code",
   "execution_count": 63,
   "metadata": {},
   "outputs": [
    {
     "name": "stdout",
     "output_type": "stream",
     "text": [
      "['When', 'the', 'days', 'are', 'cold', 'And', 'the', 'cards', 'all', 'fold', 'And', 'the', 'saints', 'we', 'see', 'Are', 'all', 'made', 'of', 'gold', 'When', 'your', 'dreams', 'all', 'fail', 'And', 'the', 'ones', 'we', 'hail', 'Are', 'the', 'worst', 'of', 'all', 'And', 'the', 'bloods', 'run', 'stale', 'I', 'want', 'to', 'hide', 'the', 'truth', 'I', 'want', 'to', 'shelter', 'you', 'But', 'with', 'the', 'beast', 'inside', 'Theres', 'nowhere', 'we', 'can', 'hide', 'No', 'matter', 'what', 'we', 'breed', 'We', 'still', 'are', 'made', 'of', 'greed', 'This', 'is', 'my', 'kingdom', 'come', 'This', 'is', 'my', 'kingdom', 'come', 'When', 'you', 'feel', 'my', 'heat', 'Look', 'into', 'my', 'eyes', 'Its', 'where', 'my', 'demons', 'hide', 'Its', 'where', 'my', 'demons', 'hide', 'Dont', 'get', 'too', 'close', 'Its', 'dark', 'inside', 'Its', 'where', 'my', 'demons', 'hide', 'Its', 'where', 'my', 'demons', 'hide', 'When', 'the', 'curtains', 'call', 'Is', 'the', 'last', 'of', 'all', 'When', 'the', 'lights', 'fade', 'out', 'All', 'the', 'sinners', 'crawl', 'So', 'they', 'dug', 'your', 'grave', 'And', 'the', 'masquerade', 'Will', 'come', 'calling', 'out', 'At', 'the', 'mess', 'you', 'made', 'Dont', 'want', 'to', 'let', 'you', 'down', 'But', 'I', 'am', 'hell', 'bound', 'Though', 'this', 'is', 'all', 'for', 'you', 'Dont', 'want', 'to', 'hide', 'the', 'truth', 'No', 'matter', 'what', 'we', 'breed', 'We', 'still', 'are', 'made', 'of', 'greed', 'This', 'is', 'my', 'kingdom', 'come', 'This', 'is', 'my', 'kingdom', 'come', 'When', 'you', 'feel', 'my', 'heat', 'Look', 'into', 'my', 'eyes', 'Its', 'where', 'my', 'demons', 'hide', 'Its', 'where', 'my', 'demons', 'hide', 'Dont', 'get', 'too', 'close', 'Its', 'dark', 'inside', 'Its', 'where', 'my', 'demons', 'hide', 'Its', 'where', 'my', 'demons', 'hide', 'They', 'say', 'its', 'what', 'you', 'make', 'I', 'say', 'its', 'up', 'to', 'fate', 'Its', 'woven', 'in', 'my', 'soul', 'I', 'need', 'to', 'let', 'you', 'go', 'Your', 'eyes', 'they', 'shine', 'so', 'bright', 'I', 'want', 'to', 'save', 'their', 'light', 'I', 'cant', 'escape', 'this', 'now', 'Unless', 'you', 'show', 'me', 'how', 'When', 'you', 'feel', 'my', 'heat', 'Look', 'into', 'my', 'eyes', 'Its', 'where', 'my', 'demons', 'hide', 'Its', 'where', 'my', 'demons', 'hide', 'Dont', 'get', 'too', 'close', 'Its', 'dark', 'inside', 'Its', 'where', 'my', 'demons', 'hide', 'Its', 'where', 'my', 'demons', 'hide', 'When', 'the', 'days', 'are', 'cold', 'And', 'the', 'cards', 'all', 'fold', 'And', 'the', 'saints', 'we', 'see', 'Are', 'all', 'made', 'of', 'gold', 'When', 'your', 'dreams', 'all', 'fail', 'And', 'the', 'ones', 'we', 'hail', 'Are', 'the', 'worst', 'of', 'all', 'And', 'the', 'bloods', 'run', 'stale', 'I', 'want', 'to', 'hide', 'the', 'truth', 'I', 'want', 'to', 'shelter', 'you', 'But', 'with', 'the', 'beast', 'inside', 'Theres', 'nowhere', 'we', 'can', 'hide', 'No', 'matter', 'what', 'we', 'breed', 'We', 'still', 'are', 'made', 'of', 'greed', 'This', 'is', 'my', 'kingdom', 'come', 'This', 'is', 'my', 'kingdom', 'come', 'When', 'you', 'feel', 'my', 'heat', 'Look', 'into', 'my', 'eyes', 'Its', 'where', 'my', 'demons', 'hide', 'Its', 'where', 'my', 'demons', 'hide', 'Dont', 'get', 'too', 'close', 'Its', 'dark', 'inside', 'Its', 'where', 'my', 'demons', 'hide', 'Its', 'where', 'my', 'demons', 'hide', 'When', 'the', 'curtains', 'call', 'Is', 'the', 'last', 'of', 'all', 'When', 'the', 'lights', 'fade', 'out', 'All', 'the', 'sinners', 'crawl', 'So', 'they', 'dug', 'your', 'grave', 'And', 'the', 'masquerade', 'Will', 'come', 'calling', 'out', 'At', 'the', 'mess', 'you', 'made', 'Dont', 'want', 'to', 'let', 'you', 'down', 'But', 'I', 'am', 'hell', 'bound', 'Though', 'this', 'is', 'all', 'for', 'you', 'Dont', 'want', 'to', 'hide', 'the', 'truth', 'No', 'matter', 'what', 'we', 'breed', 'We', 'still', 'are', 'made', 'of', 'greed', 'This', 'is', 'my', 'kingdom', 'come', 'This', 'is', 'my', 'kingdom', 'come', 'When', 'you', 'feel', 'my', 'heat', 'Look', 'into', 'my', 'eyes', 'Its', 'where', 'my', 'demons', 'hide', 'Its', 'where', 'my', 'demons', 'hide', 'Dont', 'get', 'too', 'close', 'Its', 'dark', 'inside', 'Its', 'where', 'my', 'demons', 'hide', 'Its', 'where', 'my', 'demons', 'hide', 'They', 'say', 'its', 'what', 'you', 'make', 'I', 'say', 'its', 'up', 'to', 'fate', 'Its', 'woven', 'in', 'my', 'soul', 'I', 'need', 'to', 'let', 'you', 'go', 'Your', 'eyes', 'they', 'shine', 'so', 'bright', 'I', 'want', 'to', 'save', 'their', 'light', 'I', 'cant', 'escape', 'this', 'now', 'Unless', 'you', 'show', 'me', 'how', 'When', 'you', 'feel', 'my', 'heat', 'Look', 'into', 'my', 'eyes', 'Its', 'where', 'my', 'demons', 'hide', 'Its', 'where', 'my', 'demons', 'hide', 'Dont', 'get', 'too', 'close', 'Its', 'dark', 'inside', 'Its', 'where', 'my', 'demons', 'hide', 'Its', 'where', 'my', 'demons', 'hide', 'When', 'the', 'days', 'are', 'cold', 'And', 'the', 'cards', 'all', 'fold', 'And', 'the', 'saints', 'we', 'see', 'Are', 'all', 'made', 'of', 'gold', 'When', 'your', 'dreams', 'all', 'fail', 'And', 'the', 'ones', 'we', 'hail', 'Are', 'the', 'worst', 'of', 'all', 'And', 'the', 'bloods', 'run', 'stale', 'I', 'want', 'to', 'hide', 'the', 'truth', 'I', 'want', 'to', 'shelter', 'you', 'But', 'with', 'the', 'beast', 'inside', 'Theres', 'nowhere', 'we', 'can', 'hide', 'No', 'matter', 'what', 'we', 'breed', 'We', 'still', 'are', 'made', 'of', 'greed', 'This', 'is', 'my', 'kingdom', 'come', 'This', 'is', 'my', 'kingdom', 'come', 'When', 'you', 'feel', 'my', 'heat', 'Look', 'into', 'my', 'eyes', 'Its', 'where', 'my', 'demons', 'hide', 'Its', 'where', 'my', 'demons', 'hide', 'Dont', 'get', 'too', 'close', 'Its', 'dark', 'inside', 'Its', 'where', 'my', 'demons', 'hide', 'Its', 'where', 'my', 'demons', 'hide', 'When', 'the', 'curtains', 'call', 'Is', 'the', 'last', 'of', 'all', 'When', 'the', 'lights', 'fade', 'out', 'All', 'the', 'sinners', 'crawl', 'So', 'they', 'dug', 'your', 'grave', 'And', 'the', 'masquerade', 'Will', 'come', 'calling', 'out', 'At', 'the', 'mess', 'you', 'made', 'Dont', 'want', 'to', 'let', 'you', 'down', 'But', 'I', 'am', 'hell', 'bound', 'Though', 'this', 'is', 'all', 'for', 'you', 'Dont', 'want', 'to', 'hide', 'the', 'truth', 'No', 'matter', 'what', 'we', 'breed', 'We', 'still', 'are', 'made', 'of', 'greed', 'This', 'is', 'my', 'kingdom', 'come', 'This', 'is', 'my', 'kingdom', 'come', 'When', 'you', 'feel', 'my', 'heat', 'Look', 'into', 'my', 'eyes', 'Its', 'where', 'my', 'demons', 'hide', 'Its', 'where', 'my', 'demons', 'hide', 'Dont', 'get', 'too', 'close', 'Its', 'dark', 'inside', 'Its', 'where', 'my', 'demons', 'hide', 'Its', 'where', 'my', 'demons', 'hide', 'They', 'say', 'its', 'what', 'you', 'make', 'I', 'say', 'its', 'up', 'to', 'fate', 'Its', 'woven', 'in', 'my', 'soul', 'I', 'need', 'to', 'let', 'you', 'go', 'Your', 'eyes', 'they', 'shine', 'so', 'bright', 'I', 'want', 'to', 'save', 'their', 'light', 'I', 'cant', 'escape', 'this', 'now', 'Unless', 'you', 'show', 'me', 'how', 'When', 'you', 'feel', 'my', 'heat', 'Look', 'into', 'my', 'eyes', 'Its', 'where', 'my', 'demons', 'hide', 'Its', 'where', 'my', 'demons', 'hide', 'Dont', 'get', 'too', 'close', 'Its', 'dark', 'inside', 'Its', 'where', 'my', 'demons', 'hide', 'Its', 'where', 'my', 'demons', 'hide', 'When', 'the', 'days', 'are', 'cold', 'And', 'the', 'cards', 'all', 'fold', 'And', 'the', 'saints', 'we', 'see', 'Are', 'all', 'made', 'of', 'gold', 'When', 'your', 'dreams', 'all', 'fail', 'And', 'the', 'ones', 'we', 'hail', 'Are', 'the', 'worst', 'of', 'all', 'And', 'the', 'bloods', 'run', 'stale', 'I', 'want', 'to', 'hide', 'the', 'truth', 'I', 'want', 'to', 'shelter', 'you', 'But', 'with', 'the', 'beast', 'inside', 'Theres', 'nowhere', 'we', 'can', 'hide', 'No', 'matter', 'what', 'we', 'breed', 'We', 'still', 'are', 'made', 'of', 'greed', 'This', 'is', 'my', 'kingdom', 'come', 'This', 'is', 'my', 'kingdom', 'come', 'When', 'you', 'feel', 'my', 'heat', 'Look', 'into', 'my', 'eyes', 'Its', 'where', 'my', 'demons', 'hide', 'Its', 'where', 'my', 'demons', 'hide', 'Dont', 'get', 'too', 'close', 'Its', 'dark', 'inside', 'Its', 'where', 'my', 'demons', 'hide', 'Its', 'where', 'my', 'demons', 'hide', 'When', 'the', 'curtains', 'call', 'Is', 'the', 'last', 'of', 'all', 'When', 'the', 'lights', 'fade', 'out', 'All', 'the', 'sinners', 'crawl', 'So', 'they', 'dug', 'your', 'grave', 'And', 'the', 'masquerade', 'Will', 'come', 'calling', 'out', 'At', 'the', 'mess', 'you', 'made', 'Dont', 'want', 'to', 'let', 'you', 'down', 'But', 'I', 'am', 'hell', 'bound', 'Though', 'this', 'is', 'all', 'for', 'you', 'Dont', 'want', 'to', 'hide', 'the', 'truth', 'No', 'matter', 'what', 'we', 'breed', 'We', 'still', 'are', 'made', 'of', 'greed', 'This', 'is', 'my', 'kingdom', 'come', 'This', 'is', 'my', 'kingdom', 'come', 'When', 'you', 'feel', 'my', 'heat', 'Look', 'into', 'my', 'eyes', 'Its', 'where', 'my', 'demons', 'hide', 'Its', 'where', 'my', 'demons', 'hide', 'Dont', 'get', 'too', 'close', 'Its', 'dark', 'inside', 'Its', 'where', 'my', 'demons', 'hide', 'Its', 'where', 'my', 'demons', 'hide', 'They', 'say', 'its', 'what', 'you', 'make', 'I', 'say', 'its', 'up', 'to', 'fate', 'Its', 'woven', 'in', 'my', 'soul', 'I', 'need', 'to', 'let', 'you', 'go', 'Your', 'eyes', 'they', 'shine', 'so', 'bright', 'I', 'want', 'to', 'save', 'their', 'light', 'I', 'cant', 'escape', 'this', 'now', 'Unless', 'you', 'show', 'me', 'how', 'When', 'you', 'feel', 'my', 'heat', 'Look', 'into', 'my', 'eyes', 'Its', 'where', 'my', 'demons', 'hide', 'Its', 'where', 'my', 'demons', 'hide', 'Dont', 'get', 'too', 'close', 'Its', 'dark', 'inside', 'Its', 'where', 'my', 'demons', 'hide', 'Its', 'where', 'my', 'demons', 'hide', 'When', 'the', 'days', 'are', 'cold', 'And', 'the', 'cards', 'all', 'fold', 'And', 'the', 'saints', 'we', 'see', 'Are', 'all', 'made', 'of', 'gold', 'When', 'your', 'dreams', 'all', 'fail', 'And', 'the', 'ones', 'we', 'hail', 'Are', 'the', 'worst', 'of', 'all', 'And', 'the', 'bloods', 'run', 'stale', 'I', 'want', 'to', 'hide', 'the', 'truth', 'I', 'want', 'to', 'shelter', 'you', 'But', 'with', 'the', 'beast', 'inside', 'Theres', 'nowhere', 'we', 'can', 'hide', 'No', 'matter', 'what', 'we', 'breed', 'We', 'still', 'are', 'made', 'of', 'greed', 'This', 'is', 'my', 'kingdom', 'come', 'This', 'is', 'my', 'kingdom', 'come', 'When', 'you', 'feel', 'my', 'heat', 'Look', 'into', 'my', 'eyes', 'Its', 'where', 'my', 'demons', 'hide', 'Its', 'where', 'my', 'demons', 'hide', 'Dont', 'get', 'too', 'close', 'Its', 'dark', 'inside', 'Its', 'where', 'my', 'demons', 'hide', 'Its', 'where', 'my', 'demons', 'hide', 'When', 'the', 'curtains', 'call', 'Is', 'the', 'last', 'of', 'all', 'When', 'the', 'lights', 'fade', 'out', 'All', 'the', 'sinners', 'crawl', 'So', 'they', 'dug', 'your', 'grave', 'And', 'the', 'masquerade', 'Will', 'come', 'calling', 'out', 'At', 'the', 'mess', 'you', 'made', 'Dont', 'want', 'to', 'let', 'you', 'down', 'But', 'I', 'am', 'hell', 'bound', 'Though', 'this', 'is', 'all', 'for', 'you', 'Dont', 'want', 'to', 'hide', 'the', 'truth', 'No', 'matter', 'what', 'we', 'breed', 'We', 'still', 'are', 'made', 'of', 'greed', 'This', 'is', 'my', 'kingdom', 'come', 'This', 'is', 'my', 'kingdom', 'come', 'When', 'you', 'feel', 'my', 'heat', 'Look', 'into', 'my', 'eyes', 'Its', 'where', 'my', 'demons', 'hide', 'Its', 'where', 'my', 'demons', 'hide', 'Dont', 'get', 'too', 'close', 'Its', 'dark', 'inside', 'Its', 'where', 'my', 'demons', 'hide', 'Its', 'where', 'my', 'demons', 'hide', 'They', 'say', 'its', 'what', 'you', 'make', 'I', 'say', 'its', 'up', 'to', 'fate', 'Its', 'woven', 'in', 'my', 'soul', 'I', 'need', 'to', 'let', 'you', 'go', 'Your', 'eyes', 'they', 'shine', 'so', 'bright', 'I', 'want', 'to', 'save', 'their', 'light', 'I', 'cant', 'escape', 'this', 'now', 'Unless', 'you', 'show', 'me', 'how', 'When', 'you', 'feel', 'my', 'heat', 'Look', 'into', 'my', 'eyes', 'Its', 'where', 'my', 'demons', 'hide', 'Its', 'where', 'my', 'demons', 'hide', 'Dont', 'get', 'too', 'close', 'Its', 'dark', 'inside', 'Its', 'where', 'my', 'demons', 'hide', 'Its', 'where', 'my', 'demons', 'hide', 'When', 'the', 'days', 'are', 'cold', 'And', 'the', 'cards', 'all', 'fold', 'And', 'the', 'saints', 'we', 'see', 'Are', 'all', 'made', 'of', 'gold', 'When', 'your', 'dreams', 'all', 'fail', 'And', 'the', 'ones', 'we', 'hail', 'Are', 'the', 'worst', 'of', 'all', 'And', 'the', 'bloods', 'run', 'stale', 'I', 'want', 'to', 'hide', 'the', 'truth', 'I', 'want', 'to', 'shelter', 'you', 'But', 'with', 'the', 'beast', 'inside', 'Theres', 'nowhere', 'we', 'can', 'hide', 'No', 'matter', 'what', 'we', 'breed', 'We', 'still', 'are', 'made', 'of', 'greed', 'This', 'is', 'my', 'kingdom', 'come', 'This', 'is', 'my', 'kingdom', 'come', 'When', 'you', 'feel', 'my', 'heat', 'Look', 'into', 'my', 'eyes', 'Its', 'where', 'my', 'demons', 'hide', 'Its', 'where', 'my', 'demons', 'hide', 'Dont', 'get', 'too', 'close', 'Its', 'dark', 'inside', 'Its', 'where', 'my', 'demons', 'hide', 'Its', 'where', 'my', 'demons', 'hide', 'When', 'the', 'curtains', 'call', 'Is', 'the', 'last', 'of', 'all', 'When', 'the', 'lights', 'fade', 'out', 'All', 'the', 'sinners', 'crawl', 'So', 'they', 'dug', 'your', 'grave', 'And', 'the', 'masquerade', 'Will', 'come', 'calling', 'out', 'At', 'the', 'mess', 'you', 'made', 'Dont', 'want', 'to', 'let', 'you', 'down', 'But', 'I', 'am', 'hell', 'bound', 'Though', 'this', 'is', 'all', 'for', 'you', 'Dont', 'want', 'to', 'hide', 'the', 'truth', 'No', 'matter', 'what', 'we', 'breed', 'We', 'still', 'are', 'made', 'of', 'greed', 'This', 'is', 'my', 'kingdom', 'come', 'This', 'is', 'my', 'kingdom', 'come', 'When', 'you', 'feel', 'my', 'heat', 'Look', 'into', 'my', 'eyes', 'Its', 'where', 'my', 'demons', 'hide', 'Its', 'where', 'my', 'demons', 'hide', 'Dont', 'get', 'too', 'close', 'Its', 'dark', 'inside', 'Its', 'where', 'my', 'demons', 'hide', 'Its', 'where', 'my', 'demons', 'hide', 'They', 'say', 'its', 'what', 'you', 'make', 'I', 'say', 'its', 'up', 'to', 'fate', 'Its', 'woven', 'in', 'my', 'soul', 'I', 'need', 'to', 'let', 'you', 'go', 'Your', 'eyes', 'they', 'shine', 'so', 'bright', 'I', 'want', 'to', 'save', 'their', 'light', 'I', 'cant', 'escape', 'this', 'now', 'Unless', 'you', 'show', 'me', 'how', 'When', 'you', 'feel', 'my', 'heat', 'Look', 'into', 'my', 'eyes', 'Its', 'where', 'my', 'demons', 'hide', 'Its', 'where', 'my', 'demons', 'hide', 'Dont', 'get', 'too', 'close', 'Its', 'dark', 'inside', 'Its', 'where', 'my', 'demons', 'hide', 'Its', 'where', 'my', 'demons', 'hide', 'When', 'the', 'days', 'are', 'cold', 'And', 'the', 'cards', 'all', 'fold', 'And', 'the', 'saints', 'we', 'see', 'Are', 'all', 'made', 'of', 'gold', 'When', 'your', 'dreams', 'all', 'fail', 'And', 'the', 'ones', 'we', 'hail', 'Are', 'the', 'worst', 'of', 'all', 'And', 'the', 'bloods', 'run', 'stale', 'I', 'want', 'to', 'hide', 'the', 'truth', 'I', 'want', 'to', 'shelter', 'you', 'But', 'with', 'the', 'beast', 'inside', 'Theres', 'nowhere', 'we', 'can', 'hide', 'No', 'matter', 'what', 'we', 'breed', 'We', 'still', 'are', 'made', 'of', 'greed', 'This', 'is', 'my', 'kingdom', 'come', 'This', 'is', 'my', 'kingdom', 'come', 'When', 'you', 'feel', 'my', 'heat', 'Look', 'into', 'my', 'eyes', 'Its', 'where', 'my', 'demons', 'hide', 'Its', 'where', 'my', 'demons', 'hide', 'Dont', 'get', 'too', 'close', 'Its', 'dark', 'inside', 'Its', 'where', 'my', 'demons', 'hide', 'Its', 'where', 'my', 'demons', 'hide', 'When', 'the', 'curtains', 'call', 'Is', 'the', 'last', 'of', 'all', 'When', 'the', 'lights', 'fade', 'out', 'All', 'the', 'sinners', 'crawl', 'So', 'they', 'dug', 'your', 'grave', 'And', 'the', 'masquerade', 'Will', 'come', 'calling', 'out', 'At', 'the', 'mess', 'you', 'made', 'Dont', 'want', 'to', 'let', 'you', 'down', 'But', 'I', 'am', 'hell', 'bound', 'Though', 'this', 'is', 'all', 'for', 'you', 'Dont', 'want', 'to', 'hide', 'the', 'truth', 'No', 'matter', 'what', 'we', 'breed', 'We', 'still', 'are', 'made', 'of', 'greed', 'This', 'is', 'my', 'kingdom', 'come', 'This', 'is', 'my', 'kingdom', 'come', 'When', 'you', 'feel', 'my', 'heat', 'Look', 'into', 'my', 'eyes', 'Its', 'where', 'my', 'demons', 'hide', 'Its', 'where', 'my', 'demons', 'hide', 'Dont', 'get', 'too', 'close', 'Its', 'dark', 'inside', 'Its', 'where', 'my', 'demons', 'hide', 'Its', 'where', 'my', 'demons', 'hide', 'They', 'say', 'its', 'what', 'you', 'make', 'I', 'say', 'its', 'up', 'to', 'fate', 'Its', 'woven', 'in', 'my', 'soul', 'I', 'need', 'to', 'let', 'you', 'go', 'Your', 'eyes', 'they', 'shine', 'so', 'bright', 'I', 'want', 'to', 'save', 'their', 'light', 'I', 'cant', 'escape', 'this', 'now', 'Unless', 'you', 'show', 'me', 'how', 'When', 'you', 'feel', 'my', 'heat', 'Look', 'into', 'my', 'eyes', 'Its', 'where', 'my', 'demons', 'hide', 'Its', 'where', 'my', 'demons', 'hide', 'Dont', 'get', 'too', 'close', 'Its', 'dark', 'inside', 'Its', 'where', 'my', 'demons', 'hide', 'Its', 'where', 'my', 'demons', 'hide', 'When', 'the', 'days', 'are', 'cold', 'And', 'the', 'cards', 'all', 'fold', 'And', 'the', 'saints', 'we', 'see', 'Are', 'all', 'made', 'of', 'gold', 'When', 'your', 'dreams', 'all', 'fail', 'And', 'the', 'ones', 'we', 'hail', 'Are', 'the', 'worst', 'of', 'all', 'And', 'the', 'bloods', 'run', 'stale', 'I', 'want', 'to', 'hide', 'the', 'truth', 'I', 'want', 'to', 'shelter', 'you', 'But', 'with', 'the', 'beast', 'inside', 'Theres', 'nowhere', 'we', 'can', 'hide', 'No', 'matter', 'what', 'we', 'breed', 'We', 'still', 'are', 'made', 'of', 'greed', 'This', 'is', 'my', 'kingdom', 'come', 'This', 'is', 'my', 'kingdom', 'come', 'When', 'you', 'feel', 'my', 'heat', 'Look', 'into', 'my', 'eyes', 'Its', 'where', 'my', 'demons', 'hide', 'Its', 'where', 'my', 'demons', 'hide', 'Dont', 'get', 'too', 'close', 'Its', 'dark', 'inside', 'Its', 'where', 'my', 'demons', 'hide', 'Its', 'where', 'my', 'demons', 'hide', 'When', 'the', 'curtains', 'call', 'Is', 'the', 'last', 'of', 'all', 'When', 'the', 'lights', 'fade', 'out', 'All', 'the', 'sinners', 'crawl', 'So', 'they', 'dug', 'your', 'grave', 'And', 'the', 'masquerade', 'Will', 'come', 'calling', 'out', 'At', 'the', 'mess', 'you', 'made', 'Dont', 'want', 'to', 'let', 'you', 'down', 'But', 'I', 'am', 'hell', 'bound', 'Though', 'this', 'is', 'all', 'for', 'you', 'Dont', 'want', 'to', 'hide', 'the', 'truth', 'No', 'matter', 'what', 'we', 'breed', 'We', 'still', 'are', 'made', 'of', 'greed', 'This', 'is', 'my', 'kingdom', 'come', 'This', 'is', 'my', 'kingdom', 'come', 'When', 'you', 'feel', 'my', 'heat', 'Look', 'into', 'my', 'eyes', 'Its', 'where', 'my', 'demons', 'hide', 'Its', 'where', 'my', 'demons', 'hide', 'Dont', 'get', 'too', 'close', 'Its', 'dark', 'inside', 'Its', 'where', 'my', 'demons', 'hide', 'Its', 'where', 'my', 'demons', 'hide', 'They', 'say', 'its', 'what', 'you', 'make', 'I', 'say', 'its', 'up', 'to', 'fate', 'Its', 'woven', 'in', 'my', 'soul', 'I', 'need', 'to', 'let', 'you', 'go', 'Your', 'eyes', 'they', 'shine', 'so', 'bright', 'I', 'want', 'to', 'save', 'their', 'light', 'I', 'cant', 'escape', 'this', 'now', 'Unless', 'you', 'show', 'me', 'how', 'When', 'you', 'feel', 'my', 'heat', 'Look', 'into', 'my', 'eyes', 'Its', 'where', 'my', 'demons', 'hide', 'Its', 'where', 'my', 'demons', 'hide', 'Dont', 'get', 'too', 'close', 'Its', 'dark', 'inside', 'Its', 'where', 'my', 'demons', 'hide', 'Its', 'where', 'my', 'demons', 'hide', 'When', 'the', 'days', 'are', 'cold', 'And', 'the', 'cards', 'all', 'fold', 'And', 'the', 'saints', 'we', 'see', 'Are', 'all', 'made', 'of', 'gold', 'When', 'your', 'dreams', 'all', 'fail', 'And', 'the', 'ones', 'we', 'hail', 'Are', 'the', 'worst', 'of', 'all', 'And', 'the', 'bloods', 'run', 'stale', 'I', 'want', 'to', 'hide', 'the', 'truth', 'I', 'want', 'to', 'shelter', 'you', 'But', 'with', 'the', 'beast', 'inside', 'Theres', 'nowhere', 'we', 'can', 'hide', 'No', 'matter', 'what', 'we', 'breed', 'We', 'still', 'are', 'made', 'of', 'greed', 'This', 'is', 'my', 'kingdom', 'come', 'This', 'is', 'my', 'kingdom', 'come', 'When', 'you', 'feel', 'my', 'heat', 'Look', 'into', 'my', 'eyes', 'Its', 'where', 'my', 'demons', 'hide', 'Its', 'where', 'my', 'demons', 'hide', 'Dont', 'get', 'too', 'close', 'Its', 'dark', 'inside', 'Its', 'where', 'my', 'demons', 'hide', 'Its', 'where', 'my', 'demons', 'hide', 'When', 'the', 'curtains', 'call', 'Is', 'the', 'last', 'of', 'all', 'When', 'the', 'lights', 'fade', 'out', 'All', 'the', 'sinners', 'crawl', 'So', 'they', 'dug', 'your', 'grave', 'And', 'the', 'masquerade', 'Will', 'come', 'calling', 'out', 'At', 'the', 'mess', 'you', 'made', 'Dont', 'want', 'to', 'let', 'you', 'down', 'But', 'I', 'am', 'hell', 'bound', 'Though', 'this', 'is', 'all', 'for', 'you', 'Dont', 'want', 'to', 'hide', 'the', 'truth', 'No', 'matter', 'what', 'we', 'breed', 'We', 'still', 'are', 'made', 'of', 'greed', 'This', 'is', 'my', 'kingdom', 'come', 'This', 'is', 'my', 'kingdom', 'come', 'When', 'you', 'feel', 'my', 'heat', 'Look', 'into', 'my', 'eyes', 'Its', 'where', 'my', 'demons', 'hide', 'Its', 'where', 'my', 'demons', 'hide', 'Dont', 'get', 'too', 'close', 'Its', 'dark', 'inside', 'Its', 'where', 'my', 'demons', 'hide', 'Its', 'where', 'my', 'demons', 'hide', 'They', 'say', 'its', 'what', 'you', 'make', 'I', 'say', 'its', 'up', 'to', 'fate', 'Its', 'woven', 'in', 'my', 'soul', 'I', 'need', 'to', 'let', 'you', 'go', 'Your', 'eyes', 'they', 'shine', 'so', 'bright', 'I', 'want', 'to', 'save', 'their', 'light', 'I', 'cant', 'escape', 'this', 'now', 'Unless', 'you', 'show', 'me', 'how', 'When', 'you', 'feel', 'my', 'heat', 'Look', 'into', 'my', 'eyes', 'Its', 'where', 'my', 'demons', 'hide', 'Its', 'where', 'my', 'demons', 'hide', 'Dont', 'get', 'too', 'close', 'Its', 'dark', 'inside', 'Its', 'where', 'my', 'demons', 'hide', 'Its', 'where', 'my', 'demons', 'hide', 'When', 'the', 'days', 'are', 'cold', 'And', 'the', 'cards', 'all', 'fold', 'And', 'the', 'saints', 'we', 'see', 'Are', 'all', 'made', 'of', 'gold', 'When', 'your', 'dreams', 'all', 'fail', 'And', 'the', 'ones', 'we', 'hail', 'Are', 'the', 'worst', 'of', 'all', 'And', 'the', 'bloods', 'run', 'stale', 'I', 'want', 'to', 'hide', 'the', 'truth', 'I', 'want', 'to', 'shelter', 'you', 'But', 'with', 'the', 'beast', 'inside', 'Theres', 'nowhere', 'we', 'can', 'hide', 'No', 'matter', 'what', 'we', 'breed', 'We', 'still', 'are', 'made', 'of', 'greed', 'This', 'is', 'my', 'kingdom', 'come', 'This', 'is', 'my', 'kingdom', 'come', 'When', 'you', 'feel', 'my', 'heat', 'Look', 'into', 'my', 'eyes', 'Its', 'where', 'my', 'demons', 'hide', 'Its', 'where', 'my', 'demons', 'hide', 'Dont', 'get', 'too', 'close', 'Its', 'dark', 'inside', 'Its', 'where', 'my', 'demons', 'hide', 'Its', 'where', 'my', 'demons', 'hide', 'When', 'the', 'curtains', 'call', 'Is', 'the', 'last', 'of', 'all', 'When', 'the', 'lights', 'fade', 'out', 'All', 'the', 'sinners', 'crawl', 'So', 'they', 'dug', 'your', 'grave', 'And', 'the', 'masquerade', 'Will', 'come', 'calling', 'out', 'At', 'the', 'mess', 'you', 'made', 'Dont', 'want', 'to', 'let', 'you', 'down', 'But', 'I', 'am', 'hell', 'bound', 'Though', 'this', 'is', 'all', 'for', 'you', 'Dont', 'want', 'to', 'hide', 'the', 'truth', 'No', 'matter', 'what', 'we', 'breed', 'We', 'still', 'are', 'made', 'of', 'greed', 'This', 'is', 'my', 'kingdom', 'come', 'This', 'is', 'my', 'kingdom', 'come', 'When', 'you', 'feel', 'my', 'heat', 'Look', 'into', 'my', 'eyes', 'Its', 'where', 'my', 'demons', 'hide', 'Its', 'where', 'my', 'demons', 'hide', 'Dont', 'get', 'too', 'close', 'Its', 'dark', 'inside', 'Its', 'where', 'my', 'demons', 'hide', 'Its', 'where', 'my', 'demons', 'hide', 'They', 'say', 'its', 'what', 'you', 'make', 'I', 'say', 'its', 'up', 'to', 'fate', 'Its', 'woven', 'in', 'my', 'soul', 'I', 'need', 'to', 'let', 'you', 'go', 'Your', 'eyes', 'they', 'shine', 'so', 'bright', 'I', 'want', 'to', 'save', 'their', 'light', 'I', 'cant', 'escape', 'this', 'now', 'Unless', 'you', 'show', 'me', 'how', 'When', 'you', 'feel', 'my', 'heat', 'Look', 'into', 'my', 'eyes', 'Its', 'where', 'my', 'demons', 'hide', 'Its', 'where', 'my', 'demons', 'hide', 'Dont', 'get', 'too', 'close', 'Its', 'dark', 'inside', 'Its', 'where', 'my', 'demons', 'hide', 'Its', 'where', 'my', 'demons', 'hide', 'When', 'the', 'days', 'are', 'cold', 'And', 'the', 'cards', 'all', 'fold', 'And', 'the', 'saints', 'we', 'see', 'Are', 'all', 'made', 'of', 'gold', 'When', 'your', 'dreams', 'all', 'fail', 'And', 'the', 'ones', 'we', 'hail', 'Are', 'the', 'worst', 'of', 'all', 'And', 'the', 'bloods', 'run', 'stale', 'I', 'want', 'to', 'hide', 'the', 'truth', 'I', 'want', 'to', 'shelter', 'you', 'But', 'with', 'the', 'beast', 'inside', 'Theres', 'nowhere', 'we', 'can', 'hide', 'No', 'matter', 'what', 'we', 'breed', 'We', 'still', 'are', 'made', 'of', 'greed', 'This', 'is', 'my', 'kingdom', 'come', 'This', 'is', 'my', 'kingdom', 'come', 'When', 'you', 'feel', 'my', 'heat', 'Look', 'into', 'my', 'eyes', 'Its', 'where', 'my', 'demons', 'hide', 'Its', 'where', 'my', 'demons', 'hide', 'Dont', 'get', 'too', 'close', 'Its', 'dark', 'inside', 'Its', 'where', 'my', 'demons', 'hide', 'Its', 'where', 'my', 'demons', 'hide', 'When', 'the', 'curtains', 'call', 'Is', 'the', 'last', 'of', 'all', 'When', 'the', 'lights', 'fade', 'out', 'All', 'the', 'sinners', 'crawl', 'So', 'they', 'dug', 'your', 'grave', 'And', 'the', 'masquerade', 'Will', 'come', 'calling', 'out', 'At', 'the', 'mess', 'you', 'made', 'Dont', 'want', 'to', 'let', 'you', 'down', 'But', 'I', 'am', 'hell', 'bound', 'Though', 'this', 'is', 'all', 'for', 'you', 'Dont', 'want', 'to', 'hide', 'the', 'truth', 'No', 'matter', 'what', 'we', 'breed', 'We', 'still', 'are', 'made', 'of', 'greed', 'This', 'is', 'my', 'kingdom', 'come', 'This', 'is', 'my', 'kingdom', 'come', 'When', 'you', 'feel', 'my', 'heat', 'Look', 'into', 'my', 'eyes', 'Its', 'where', 'my', 'demons', 'hide', 'Its', 'where', 'my', 'demons', 'hide', 'Dont', 'get', 'too', 'close', 'Its', 'dark', 'inside', 'Its', 'where', 'my', 'demons', 'hide', 'Its', 'where', 'my', 'demons', 'hide', 'They', 'say', 'its', 'what', 'you', 'make', 'I', 'say', 'its', 'up', 'to', 'fate', 'Its', 'woven', 'in', 'my', 'soul', 'I', 'need', 'to', 'let', 'you', 'go', 'Your', 'eyes', 'they', 'shine', 'so', 'bright', 'I', 'want', 'to', 'save', 'their', 'light', 'I', 'cant', 'escape', 'this', 'now', 'Unless', 'you', 'show', 'me', 'how', 'When', 'you', 'feel', 'my', 'heat', 'Look', 'into', 'my', 'eyes', 'Its', 'where', 'my', 'demons', 'hide', 'Its', 'where', 'my', 'demons', 'hide', 'Dont', 'get', 'too', 'close', 'Its', 'dark', 'inside', 'Its', 'where', 'my', 'demons', 'hide', 'Its', 'where', 'my', 'demons', 'hide']\n",
      "[1, 1, 1, 1, 1, 1, 1, 1, 1, 1, 1, 1, 1, 1, 1, 1, 1, 1, 1, 1, 1, 1, 1, 1, 1, 1, 1, 2, 1, 1, 1, 1, 1, 1, 1, 1, 1, 1, 1, 2, 1, 1, 1, 1, 1, 1, 1, 1, 1, 2, 1, 1, 1, 1, 1, 2, 2, 2, 1, 1, 1, 1, 2, 1, 1, 1, 1, 1, 1, 1, 1, 1, 1, 1, 1, 2, 1, 1, 1, 1, 2, 1, 1, 1, 1, 1, 1, 1, 2, 1, 1, 1, 1, 1, 2, 1, 1, 1, 1, 2, 1, 1, 1, 1, 1, 1, 1, 2, 1, 1, 1, 2, 1, 1, 1, 1, 2, 1, 1, 1, 2, 1, 1, 1, 1, 1, 1, 1, 1, 1, 1, 1, 1, 1, 2, 1, 1, 1, 1, 1, 1, 1, 1, 3, 1, 1, 2, 1, 1, 1, 1, 1, 1, 1, 1, 1, 1, 1, 1, 1, 1, 1, 1, 1, 1, 1, 1, 1, 1, 1, 1, 1, 1, 1, 1, 1, 1, 2, 1, 1, 1, 1, 1, 1, 1, 1, 1, 1, 1, 1, 2, 1, 1, 1, 1, 2, 1, 1, 1, 1, 1, 1, 1, 2, 1, 1, 1, 1, 1, 2, 1, 1, 1, 1, 2, 1, 1, 1, 1, 1, 1, 1, 2, 1, 1, 1, 2, 1, 1, 1, 1, 2, 1, 1, 1, 1, 1, 1, 1, 1, 1, 1, 1, 1, 1, 1, 2, 1, 1, 1, 1, 1, 1, 1, 1, 1, 1, 1, 1, 1, 1, 1, 1, 1, 1, 1, 1, 1, 1, 1, 2, 1, 1, 2, 1, 1, 1, 1, 1, 1, 1, 1, 1, 1, 2, 1, 1, 1, 1, 1, 2, 1, 1, 1, 1, 2, 1, 1, 1, 1, 1, 1, 1, 2, 1, 1, 1, 2, 1, 1, 1, 1, 2, 1, 1, 1, 1, 1, 1, 1, 1, 1, 1, 1, 1, 1, 1, 1, 1, 1, 1, 1, 1, 1, 1, 1, 1, 1, 1, 1, 1, 2, 1, 1, 1, 1, 1, 1, 1, 1, 1, 1, 1, 2, 1, 1, 1, 1, 1, 1, 1, 1, 1, 2, 1, 1, 1, 1, 1, 2, 2, 2, 1, 1, 1, 1, 2, 1, 1, 1, 1, 1, 1, 1, 1, 1, 1, 1, 1, 2, 1, 1, 1, 1, 2, 1, 1, 1, 1, 1, 1, 1, 2, 1, 1, 1, 1, 1, 2, 1, 1, 1, 1, 2, 1, 1, 1, 1, 1, 1, 1, 2, 1, 1, 1, 2, 1, 1, 1, 1, 2, 1, 1, 1, 2, 1, 1, 1, 1, 1, 1, 1, 1, 1, 1, 1, 1, 1, 2, 1, 1, 1, 1, 1, 1, 1, 1, 3, 1, 1, 2, 1, 1, 1, 1, 1, 1, 1, 1, 1, 1, 1, 1, 1, 1, 1, 1, 1, 1, 1, 1, 1, 1, 1, 1, 1, 1, 1, 1, 1, 1, 2, 1, 1, 1, 1, 1, 1, 1, 1, 1, 1, 1, 1, 2, 1, 1, 1, 1, 2, 1, 1, 1, 1, 1, 1, 1, 2, 1, 1, 1, 1, 1, 2, 1, 1, 1, 1, 2, 1, 1, 1, 1, 1, 1, 1, 2, 1, 1, 1, 2, 1, 1, 1, 1, 2, 1, 1, 1, 1, 1, 1, 1, 1, 1, 1, 1, 1, 1, 1, 2, 1, 1, 1, 1, 1, 1, 1, 1, 1, 1, 1, 1, 1, 1, 1, 1, 1, 1, 1, 1, 1, 1, 1, 2, 1, 1, 2, 1, 1, 1, 1, 1, 1, 1, 1, 1, 1, 2, 1, 1, 1, 1, 1, 2, 1, 1, 1, 1, 2, 1, 1, 1, 1, 1, 1, 1, 2, 1, 1, 1, 2, 1, 1, 1, 1, 2, 1, 1, 1, 1, 1, 1, 1, 1, 1, 1, 1, 1, 1, 1, 1, 1, 1, 1, 1, 1, 1, 1, 1, 1, 1, 1, 1, 1, 2, 1, 1, 1, 1, 1, 1, 1, 1, 1, 1, 1, 2, 1, 1, 1, 1, 1, 1, 1, 1, 1, 2, 1, 1, 1, 1, 1, 2, 2, 2, 1, 1, 1, 1, 2, 1, 1, 1, 1, 1, 1, 1, 1, 1, 1, 1, 1, 2, 1, 1, 1, 1, 2, 1, 1, 1, 1, 1, 1, 1, 2, 1, 1, 1, 1, 1, 2, 1, 1, 1, 1, 2, 1, 1, 1, 1, 1, 1, 1, 2, 1, 1, 1, 2, 1, 1, 1, 1, 2, 1, 1, 1, 2, 1, 1, 1, 1, 1, 1, 1, 1, 1, 1, 1, 1, 1, 2, 1, 1, 1, 1, 1, 1, 1, 1, 3, 1, 1, 2, 1, 1, 1, 1, 1, 1, 1, 1, 1, 1, 1, 1, 1, 1, 1, 1, 1, 1, 1, 1, 1, 1, 1, 1, 1, 1, 1, 1, 1, 1, 2, 1, 1, 1, 1, 1, 1, 1, 1, 1, 1, 1, 1, 2, 1, 1, 1, 1, 2, 1, 1, 1, 1, 1, 1, 1, 2, 1, 1, 1, 1, 1, 2, 1, 1, 1, 1, 2, 1, 1, 1, 1, 1, 1, 1, 2, 1, 1, 1, 2, 1, 1, 1, 1, 2, 1, 1, 1, 1, 1, 1, 1, 1, 1, 1, 1, 1, 1, 1, 2, 1, 1, 1, 1, 1, 1, 1, 1, 1, 1, 1, 1, 1, 1, 1, 1, 1, 1, 1, 1, 1, 1, 1, 2, 1, 1, 2, 1, 1, 1, 1, 1, 1, 1, 1, 1, 1, 2, 1, 1, 1, 1, 1, 2, 1, 1, 1, 1, 2, 1, 1, 1, 1, 1, 1, 1, 2, 1, 1, 1, 2, 1, 1, 1, 1, 2, 1, 1, 1, 1, 1, 1, 1, 1, 1, 1, 1, 1, 1, 1, 1, 1, 1, 1, 1, 1, 1, 1, 1, 1, 1, 1, 1, 1, 2, 1, 1, 1, 1, 1, 1, 1, 1, 1, 1, 1, 2, 1, 1, 1, 1, 1, 1, 1, 1, 1, 2, 1, 1, 1, 1, 1, 2, 2, 2, 1, 1, 1, 1, 2, 1, 1, 1, 1, 1, 1, 1, 1, 1, 1, 1, 1, 2, 1, 1, 1, 1, 2, 1, 1, 1, 1, 1, 1, 1, 2, 1, 1, 1, 1, 1, 2, 1, 1, 1, 1, 2, 1, 1, 1, 1, 1, 1, 1, 2, 1, 1, 1, 2, 1, 1, 1, 1, 2, 1, 1, 1, 2, 1, 1, 1, 1, 1, 1, 1, 1, 1, 1, 1, 1, 1, 2, 1, 1, 1, 1, 1, 1, 1, 1, 3, 1, 1, 2, 1, 1, 1, 1, 1, 1, 1, 1, 1, 1, 1, 1, 1, 1, 1, 1, 1, 1, 1, 1, 1, 1, 1, 1, 1, 1, 1, 1, 1, 1, 2, 1, 1, 1, 1, 1, 1, 1, 1, 1, 1, 1, 1, 2, 1, 1, 1, 1, 2, 1, 1, 1, 1, 1, 1, 1, 2, 1, 1, 1, 1, 1, 2, 1, 1, 1, 1, 2, 1, 1, 1, 1, 1, 1, 1, 2, 1, 1, 1, 2, 1, 1, 1, 1, 2, 1, 1, 1, 1, 1, 1, 1, 1, 1, 1, 1, 1, 1, 1, 2, 1, 1, 1, 1, 1, 1, 1, 1, 1, 1, 1, 1, 1, 1, 1, 1, 1, 1, 1, 1, 1, 1, 1, 2, 1, 1, 2, 1, 1, 1, 1, 1, 1, 1, 1, 1, 1, 2, 1, 1, 1, 1, 1, 2, 1, 1, 1, 1, 2, 1, 1, 1, 1, 1, 1, 1, 2, 1, 1, 1, 2, 1, 1, 1, 1, 2, 1, 1, 1, 1, 1, 1, 1, 1, 1, 1, 1, 1, 1, 1, 1, 1, 1, 1, 1, 1, 1, 1, 1, 1, 1, 1, 1, 1, 2, 1, 1, 1, 1, 1, 1, 1, 1, 1, 1, 1, 2, 1, 1, 1, 1, 1, 1, 1, 1, 1, 2, 1, 1, 1, 1, 1, 2, 2, 2, 1, 1, 1, 1, 2, 1, 1, 1, 1, 1, 1, 1, 1, 1, 1, 1, 1, 2, 1, 1, 1, 1, 2, 1, 1, 1, 1, 1, 1, 1, 2, 1, 1, 1, 1, 1, 2, 1, 1, 1, 1, 2, 1, 1, 1, 1, 1, 1, 1, 2, 1, 1, 1, 2, 1, 1, 1, 1, 2, 1, 1, 1, 2, 1, 1, 1, 1, 1, 1, 1, 1, 1, 1, 1, 1, 1, 2, 1, 1, 1, 1, 1, 1, 1, 1, 3, 1, 1, 2, 1, 1, 1, 1, 1, 1, 1, 1, 1, 1, 1, 1, 1, 1, 1, 1, 1, 1, 1, 1, 1, 1, 1, 1, 1, 1, 1, 1, 1, 1, 2, 1, 1, 1, 1, 1, 1, 1, 1, 1, 1, 1, 1, 2, 1, 1, 1, 1, 2, 1, 1, 1, 1, 1, 1, 1, 2, 1, 1, 1, 1, 1, 2, 1, 1, 1, 1, 2, 1, 1, 1, 1, 1, 1, 1, 2, 1, 1, 1, 2, 1, 1, 1, 1, 2, 1, 1, 1, 1, 1, 1, 1, 1, 1, 1, 1, 1, 1, 1, 2, 1, 1, 1, 1, 1, 1, 1, 1, 1, 1, 1, 1, 1, 1, 1, 1, 1, 1, 1, 1, 1, 1, 1, 2, 1, 1, 2, 1, 1, 1, 1, 1, 1, 1, 1, 1, 1, 2, 1, 1, 1, 1, 1, 2, 1, 1, 1, 1, 2, 1, 1, 1, 1, 1, 1, 1, 2, 1, 1, 1, 2, 1, 1, 1, 1, 2, 1, 1, 1, 1, 1, 1, 1, 1, 1, 1, 1, 1, 1, 1, 1, 1, 1, 1, 1, 1, 1, 1, 1, 1, 1, 1, 1, 1, 2, 1, 1, 1, 1, 1, 1, 1, 1, 1, 1, 1, 2, 1, 1, 1, 1, 1, 1, 1, 1, 1, 2, 1, 1, 1, 1, 1, 2, 2, 2, 1, 1, 1, 1, 2, 1, 1, 1, 1, 1, 1, 1, 1, 1, 1, 1, 1, 2, 1, 1, 1, 1, 2, 1, 1, 1, 1, 1, 1, 1, 2, 1, 1, 1, 1, 1, 2, 1, 1, 1, 1, 2, 1, 1, 1, 1, 1, 1, 1, 2, 1, 1, 1, 2, 1, 1, 1, 1, 2, 1, 1, 1, 2, 1, 1, 1, 1, 1, 1, 1, 1, 1, 1, 1, 1, 1, 2, 1, 1, 1, 1, 1, 1, 1, 1, 3, 1, 1, 2, 1, 1, 1, 1, 1, 1, 1, 1, 1, 1, 1, 1, 1, 1, 1, 1, 1, 1, 1, 1, 1, 1, 1, 1, 1, 1, 1, 1, 1, 1, 2, 1, 1, 1, 1, 1, 1, 1, 1, 1, 1, 1, 1, 2, 1, 1, 1, 1, 2, 1, 1, 1, 1, 1, 1, 1, 2, 1, 1, 1, 1, 1, 2, 1, 1, 1, 1, 2, 1, 1, 1, 1, 1, 1, 1, 2, 1, 1, 1, 2, 1, 1, 1, 1, 2, 1, 1, 1, 1, 1, 1, 1, 1, 1, 1, 1, 1, 1, 1, 2, 1, 1, 1, 1, 1, 1, 1, 1, 1, 1, 1, 1, 1, 1, 1, 1, 1, 1, 1, 1, 1, 1, 1, 2, 1, 1, 2, 1, 1, 1, 1, 1, 1, 1, 1, 1, 1, 2, 1, 1, 1, 1, 1, 2, 1, 1, 1, 1, 2, 1, 1, 1, 1, 1, 1, 1, 2, 1, 1, 1, 2, 1, 1, 1, 1, 2, 1, 1, 1, 1, 1, 1, 1, 1, 1, 1, 1, 1, 1, 1, 1, 1, 1, 1, 1, 1, 1, 1, 1, 1, 1, 1, 1, 1, 2, 1, 1, 1, 1, 1, 1, 1, 1, 1, 1, 1, 2, 1, 1, 1, 1, 1, 1, 1, 1, 1, 2, 1, 1, 1, 1, 1, 2, 2, 2, 1, 1, 1, 1, 2, 1, 1, 1, 1, 1, 1, 1, 1, 1, 1, 1, 1, 2, 1, 1, 1, 1, 2, 1, 1, 1, 1, 1, 1, 1, 2, 1, 1, 1, 1, 1, 2, 1, 1, 1, 1, 2, 1, 1, 1, 1, 1, 1, 1, 2, 1, 1, 1, 2, 1, 1, 1, 1, 2, 1, 1, 1, 2, 1, 1, 1, 1, 1, 1, 1, 1, 1, 1, 1, 1, 1, 2, 1, 1, 1, 1, 1, 1, 1, 1, 3, 1, 1, 2, 1, 1, 1, 1, 1, 1, 1, 1, 1, 1, 1, 1, 1, 1, 1, 1, 1, 1, 1, 1, 1, 1, 1, 1, 1, 1, 1, 1, 1, 1, 2, 1, 1, 1, 1, 1, 1, 1, 1, 1, 1, 1, 1, 2, 1, 1, 1, 1, 2, 1, 1, 1, 1, 1, 1, 1, 2, 1, 1, 1, 1, 1, 2, 1, 1, 1, 1, 2, 1, 1, 1, 1, 1, 1, 1, 2, 1, 1, 1, 2, 1, 1, 1, 1, 2, 1, 1, 1, 1, 1, 1, 1, 1, 1, 1, 1, 1, 1, 1, 2, 1, 1, 1, 1, 1, 1, 1, 1, 1, 1, 1, 1, 1, 1, 1, 1, 1, 1, 1, 1, 1, 1, 1, 2, 1, 1, 2, 1, 1, 1, 1, 1, 1, 1, 1, 1, 1, 2, 1, 1, 1, 1, 1, 2, 1, 1, 1, 1, 2, 1, 1, 1, 1, 1, 1, 1, 2, 1, 1, 1, 2, 1, 1, 1, 1, 2, 1, 1, 1, 1, 1, 1, 1, 1, 1, 1, 1, 1, 1, 1, 1, 1, 1, 1, 1, 1, 1, 1, 1, 1, 1, 1, 1, 1, 2, 1, 1, 1, 1, 1, 1, 1, 1, 1, 1, 1, 2, 1, 1, 1, 1, 1, 1, 1, 1, 1, 2, 1, 1, 1, 1, 1, 2, 2, 2, 1, 1, 1, 1, 2, 1, 1, 1, 1, 1, 1, 1, 1, 1, 1, 1, 1, 2, 1, 1, 1, 1, 2, 1, 1, 1, 1, 1, 1, 1, 2, 1, 1, 1, 1, 1, 2, 1, 1, 1, 1, 2, 1, 1, 1, 1, 1, 1, 1, 2, 1, 1, 1, 2, 1, 1, 1, 1, 2, 1, 1, 1, 2, 1, 1, 1, 1, 1, 1, 1, 1, 1, 1, 1, 1, 1, 2, 1, 1, 1, 1, 1, 1, 1, 1, 3, 1, 1, 2, 1, 1, 1, 1, 1, 1, 1, 1, 1, 1, 1, 1, 1, 1, 1, 1, 1, 1, 1, 1, 1, 1, 1, 1, 1, 1, 1, 1, 1, 1, 2, 1, 1, 1, 1, 1, 1, 1, 1, 1, 1, 1, 1, 2, 1, 1, 1, 1, 2, 1, 1, 1, 1, 1, 1, 1, 2, 1, 1, 1, 1, 1, 2, 1, 1, 1, 1, 2, 1, 1, 1, 1, 1, 1, 1, 2, 1, 1, 1, 2, 1, 1, 1, 1, 2, 1, 1, 1, 1, 1, 1, 1, 1, 1, 1, 1, 1, 1, 1, 2, 1, 1, 1, 1, 1, 1, 1, 1, 1, 1, 1, 1, 1, 1, 1, 1, 1, 1, 1, 1, 1, 1, 1, 2, 1, 1, 2, 1, 1, 1, 1, 1, 1, 1, 1, 1, 1, 2, 1, 1, 1, 1, 1, 2, 1, 1, 1, 1, 2, 1, 1, 1, 1, 1, 1, 1, 2, 1, 1, 1, 2, 1, 1, 1, 1, 2, 1, 1, 1, 1, 1, 1, 1, 1, 1, 1, 1, 1, 1, 1, 1, 1, 1, 1, 1, 1, 1, 1, 1, 1, 1, 1, 1, 1, 2, 1, 1, 1, 1, 1, 1, 1, 1, 1, 1, 1, 2, 1, 1, 1, 1, 1, 1, 1, 1, 1, 2, 1, 1, 1, 1, 1, 2, 2, 2, 1, 1, 1, 1, 2, 1, 1, 1, 1, 1, 1, 1, 1, 1, 1, 1, 1, 2, 1, 1, 1, 1, 2, 1, 1, 1, 1, 1, 1, 1, 2, 1, 1, 1, 1, 1, 2, 1, 1, 1, 1, 2, 1, 1, 1, 1, 1, 1, 1, 2, 1, 1, 1, 2, 1, 1, 1, 1, 2, 1, 1, 1, 2, 1, 1, 1, 1, 1, 1, 1, 1, 1, 1, 1, 1, 1, 2, 1, 1, 1, 1, 1, 1, 1, 1, 3, 1, 1, 2, 1, 1, 1, 1, 1, 1, 1, 1, 1, 1, 1, 1, 1, 1, 1, 1, 1, 1, 1, 1, 1, 1, 1, 1, 1, 1, 1, 1, 1, 1, 2, 1, 1, 1, 1, 1, 1, 1, 1, 1, 1, 1, 1, 2, 1, 1, 1, 1, 2, 1, 1, 1, 1, 1, 1, 1, 2, 1, 1, 1, 1, 1, 2, 1, 1, 1, 1, 2, 1, 1, 1, 1, 1, 1, 1, 2, 1, 1, 1, 2, 1, 1, 1, 1, 2, 1, 1, 1, 1, 1, 1, 1, 1, 1, 1, 1, 1, 1, 1, 2, 1, 1, 1, 1, 1, 1, 1, 1, 1, 1, 1, 1, 1, 1, 1, 1, 1, 1, 1, 1, 1, 1, 1, 2, 1, 1, 2, 1, 1, 1, 1, 1, 1, 1, 1, 1, 1, 2, 1, 1, 1, 1, 1, 2, 1, 1, 1, 1, 2, 1, 1, 1, 1, 1, 1, 1, 2, 1, 1, 1, 2, 1, 1, 1, 1, 2, 1, 1, 1, 1, 1, 1, 1, 1, 1, 1, 1, 1, 1, 1, 1, 1, 1, 1, 1, 1, 1, 1, 1, 1, 1, 1, 1, 1, 2, 1, 1, 1, 1, 1, 1, 1, 1, 1, 1, 1, 2, 1, 1, 1, 1, 1, 1, 1, 1, 1, 2, 1, 1, 1, 1, 1, 2, 2, 2, 1, 1, 1, 1, 2, 1, 1, 1, 1, 1, 1, 1, 1, 1, 1, 1, 1, 2, 1, 1, 1, 1, 2, 1, 1, 1, 1, 1, 1, 1, 2, 1, 1, 1, 1, 1, 2, 1, 1, 1, 1, 2, 1, 1, 1, 1, 1, 1, 1, 2, 1, 1, 1, 2, 1, 1, 1, 1, 2, 1, 1, 1, 2, 1, 1, 1, 1, 1, 1, 1, 1, 1, 1, 1, 1, 1, 2, 1, 1, 1, 1, 1, 1, 1, 1, 3, 1, 1, 2, 1, 1, 1, 1, 1, 1, 1, 1, 1, 1, 1, 1, 1, 1, 1, 1, 1, 1, 1, 1, 1, 1, 1, 1, 1, 1, 1, 1, 1, 1, 2, 1, 1, 1, 1, 1, 1, 1, 1, 1, 1, 1, 1, 2, 1, 1, 1, 1, 2, 1, 1, 1, 1, 1, 1, 1, 2, 1, 1, 1, 1, 1, 2, 1, 1, 1, 1, 2, 1, 1, 1, 1, 1, 1, 1, 2, 1, 1, 1, 2, 1, 1, 1, 1, 2, 1, 1, 1, 1, 1, 1, 1, 1, 1, 1, 1, 1, 1, 1, 2, 1, 1, 1, 1, 1, 1, 1, 1, 1, 1, 1, 1, 1, 1, 1, 1, 1, 1, 1, 1, 1, 1, 1, 2, 1, 1, 2, 1, 1, 1, 1, 1, 1, 1, 1, 1, 1, 2, 1, 1, 1, 1, 1, 2, 1, 1, 1, 1, 2, 1, 1, 1, 1, 1, 1, 1, 2, 1, 1, 1, 2, 1, 1, 1, 1, 2, 1, 1, 1, 1, 1, 1, 1, 1, 1, 1, 1, 1, 1, 1, 1, 1, 1, 1, 1, 1, 1, 1, 1, 1, 1, 1, 1, 1, 2, 1, 1, 1, 1, 1, 1, 1, 1, 1, 1, 1, 2, 1, 1, 1, 1, 1, 1, 1, 1, 1, 2, 1, 1, 1, 1, 1, 2, 2, 2, 1, 1, 1, 1, 2, 1, 1, 1, 1, 1, 1, 1, 1, 1, 1, 1, 1, 2, 1, 1, 1, 1, 2, 1, 1, 1, 1, 1, 1, 1, 2, 1, 1, 1, 1, 1, 2, 1, 1, 1, 1, 2, 1, 1, 1, 1, 1, 1, 1, 2, 1, 1, 1, 2, 1, 1, 1, 1, 2, 1, 1, 1, 2, 1, 1, 1, 1, 1, 1, 1, 1, 1, 1, 1, 1, 1, 2, 1, 1, 1, 1, 1, 1, 1, 1, 3, 1, 1, 2, 1, 1, 1, 1, 1, 1, 1, 1, 1, 1, 1, 1, 1, 1, 1, 1, 1, 1, 1, 1, 1, 1, 1, 1, 1, 1, 1, 1, 1, 1, 2, 1, 1, 1, 1, 1, 1, 1, 1, 1, 1, 1, 1, 2, 1, 1, 1, 1, 2, 1, 1, 1, 1, 1, 1, 1, 2, 1, 1, 1, 1, 1, 2, 1, 1, 1, 1, 2, 1, 1, 1, 1, 1, 1, 1, 2, 1, 1, 1, 2, 1, 1, 1, 1, 2, 1, 1, 1, 1, 1, 1, 1, 1, 1, 1, 1, 1, 1, 1, 2, 1, 1, 1, 1, 1, 1, 1, 1, 1, 1, 1, 1, 1, 1, 1, 1, 1, 1, 1, 1, 1, 1, 1, 2, 1, 1, 2, 1, 1, 1, 1, 1, 1, 1, 1, 1, 1, 2, 1, 1, 1, 1, 1, 2, 1, 1, 1, 1, 2, 1, 1, 1, 1, 1, 1, 1, 2, 1, 1, 1, 2, 1, 1, 1, 1, 2, 1]\n"
     ]
    }
   ],
   "source": [
    "name = 'Imagine-Dragons-Demons.txt'\n",
    "filepath = 'TXT/lyrics/' + name\n",
    "syllables_count(filepath)"
   ]
  },
  {
   "cell_type": "code",
   "execution_count": 59,
   "metadata": {},
   "outputs": [
    {
     "data": {
      "text/plain": [
       "2"
      ]
     },
     "execution_count": 59,
     "metadata": {},
     "output_type": "execute_result"
    }
   ],
   "source": [
    "syllables.estimate('are')"
   ]
  },
  {
   "cell_type": "code",
   "execution_count": 61,
   "metadata": {},
   "outputs": [
    {
     "data": {
      "text/plain": [
       "1"
      ]
     },
     "execution_count": 61,
     "metadata": {},
     "output_type": "execute_result"
    }
   ],
   "source": [
    "syllables('are')"
   ]
  },
  {
   "cell_type": "code",
   "execution_count": null,
   "metadata": {},
   "outputs": [],
   "source": []
  }
 ],
 "metadata": {
  "kernelspec": {
   "display_name": "Python 3",
   "language": "python",
   "name": "python3"
  },
  "language_info": {
   "codemirror_mode": {
    "name": "ipython",
    "version": 3
   },
   "file_extension": ".py",
   "mimetype": "text/x-python",
   "name": "python",
   "nbconvert_exporter": "python",
   "pygments_lexer": "ipython3",
   "version": "3.6.5"
  }
 },
 "nbformat": 4,
 "nbformat_minor": 2
}
