{
 "cells": [
  {
   "cell_type": "code",
   "execution_count": 2,
   "metadata": {},
   "outputs": [],
   "source": [
    "import os,math,imghdr,tempfile,sys,time\n",
    "import speech_recognition as sr\n",
    "from pathlib import Path\n",
    "from gtts import gTTS\n",
    "from PIL import Image\n",
    "from pydub import AudioSegment"
   ]
  },
  {
   "cell_type": "code",
   "execution_count": 16,
   "metadata": {
    "code_folding": [
     0
    ]
   },
   "outputs": [],
   "source": [
    "def segment(file,folder,count):\n",
    "    os.system(\"mkdir \"+str(folder)+\"/parts\")\n",
    "    parts=str(folder)+\"/parts/out%09d.wav\"\n",
    "    print('parts -',parts)\n",
    "    os.system(\"ffmpeg -i \"+str(file)+\" -f segment -segment_time 30 -c copy \"+parts+\"> /dev/null 2>&1\")\n",
    "    print(str(file)+\" segmentation Done...\")"
   ]
  },
  {
   "cell_type": "code",
   "execution_count": 8,
   "metadata": {
    "code_folding": [
     0
    ]
   },
   "outputs": [],
   "source": [
    "def recur(folder_path):\n",
    "    p=Path(folder_path)\n",
    "    dirs=p.glob(\"*\")\n",
    "    i=0\n",
    "    for folder in dirs:\n",
    "        print(folder)\n",
    "        if folder.is_dir():\n",
    "            print(\"Processing Folder- \"+str(folder))\n",
    "            recur(folder)\n",
    "        else:\n",
    "            print(\"Segmenting File- \"+str(folder))\n",
    "            i+=1\n",
    "            segment(folder,folder_path,i)"
   ]
  },
  {
   "cell_type": "code",
   "execution_count": 32,
   "metadata": {},
   "outputs": [],
   "source": [
    "def basenameNoExt(filename):\n",
    "    \"\"\" e.g. /foo/bar/baz.txt returns baz \"\"\"\n",
    "    return os.path.splitext(os.path.basename(filename))[0]"
   ]
  },
  {
   "cell_type": "code",
   "execution_count": 33,
   "metadata": {},
   "outputs": [
    {
     "data": {
      "text/plain": [
       "'vocals'"
      ]
     },
     "execution_count": 33,
     "metadata": {},
     "output_type": "execute_result"
    }
   ],
   "source": [
    "basenameNoExt('wav/Someone Like You/vocals.wav')"
   ]
  },
  {
   "cell_type": "code",
   "execution_count": 54,
   "metadata": {},
   "outputs": [
    {
     "name": "stdout",
     "output_type": "stream",
     "text": [
      "sampleRate : 44100\n",
      "tracklen : 286303\n",
      "num_segments : 10\n"
     ]
    }
   ],
   "source": [
    "uploadedFilepath = 'wav/Someone Like You/vocals.wav'\n",
    "extension = 'wav'\n",
    "basedir = 'wav/Someone Like You/parts'\n",
    "track = AudioSegment.from_file(uploadedFilepath, extension)\n",
    "sampleRate = track.frame_rate\n",
    "print('sampleRate : ' + str(sampleRate))\n",
    "\n",
    "tracklen = len(track)\n",
    "overlap = 2*1000 # 音頻切割後重疊長度 2 seconds\n",
    "chunkBaseLength = 30*1000 # 音頻切割每一段的長度 30 seconds\n",
    "num_segments = int(math.ceil(tracklen / chunkBaseLength))\n",
    "basename = basenameNoExt(uploadedFilepath)\n",
    "print('tracklen : ' + str(tracklen) + '\\n' + 'num_segments : ' + str(num_segments))"
   ]
  },
  {
   "cell_type": "code",
   "execution_count": 55,
   "metadata": {
    "code_folding": []
   },
   "outputs": [
    {
     "name": "stdout",
     "output_type": "stream",
     "text": [
      "wav/Someone Like You/parts/Someone Like You_00.wav\n",
      "wav/Someone Like You/parts/Someone Like You_01.wav\n",
      "wav/Someone Like You/parts/Someone Like You_02.wav\n",
      "wav/Someone Like You/parts/Someone Like You_03.wav\n",
      "wav/Someone Like You/parts/Someone Like You_04.wav\n",
      "wav/Someone Like You/parts/Someone Like You_05.wav\n",
      "wav/Someone Like You/parts/Someone Like You_06.wav\n",
      "wav/Someone Like You/parts/Someone Like You_07.wav\n",
      "wav/Someone Like You/parts/Someone Like You_08.wav\n",
      "wav/Someone Like You/parts/Someone Like You_09.wav\n"
     ]
    }
   ],
   "source": [
    "# Iterate over every chunkBaseLength segment\n",
    "# https://vimsky.com/zh-tw/examples/detail/python-method-pydub.AudioSegment.from_file.html\n",
    "# https://stackoverflow.com/questions/37999150/how-to-split-a-wav-file-into-multiple-wav-files\n",
    "for i in range(0, num_segments):\n",
    "    start_time = i*chunkBaseLength\n",
    "    end_time = min((i+1)*chunkBaseLength+overlap, tracklen)\n",
    "    curr_track = track[start_time:end_time]\n",
    "    track_name_split = basedir.split('/')\n",
    "    filename = basedir + '/' + track_name_split[1] + '_' + str(i).zfill(2) + '.wav'\n",
    "    curr_track.export(filename, format=\"wav\")\n",
    "    print(filename)"
   ]
  },
  {
   "cell_type": "code",
   "execution_count": 12,
   "metadata": {},
   "outputs": [
    {
     "data": {
      "text/plain": [
       "speech_recognition.AudioFile"
      ]
     },
     "execution_count": 12,
     "metadata": {},
     "output_type": "execute_result"
    }
   ],
   "source": [
    "audio = 'wav/Someone Like You/parts/Someone Like You_02.wav'\n",
    "\n",
    "# Setup recognizer instance\n",
    "recognizer = sr.Recognizer()\n",
    "\n",
    "# Read in audio file\n",
    "clean_support_call = sr.AudioFile(audio)\n",
    "\n",
    "# Check the type\n",
    "type(clean_support_call)"
   ]
  },
  {
   "cell_type": "code",
   "execution_count": 13,
   "metadata": {},
   "outputs": [
    {
     "data": {
      "text/plain": [
       "speech_recognition.AudioData"
      ]
     },
     "execution_count": 13,
     "metadata": {},
     "output_type": "execute_result"
    }
   ],
   "source": [
    "# Convert from AudioFile to AudioData\n",
    "with clean_support_call as source:\n",
    "    # Record the audio\n",
    "    clean_support_call_audio = recognizer.record(source)\n",
    "# Check the type\n",
    "type(clean_support_call_audio)"
   ]
  },
  {
   "cell_type": "code",
   "execution_count": 19,
   "metadata": {},
   "outputs": [
    {
     "name": "stdout",
     "output_type": "stream",
     "text": [
      "[]\n"
     ]
    }
   ],
   "source": [
    "text = recognizer.recognize_google(audio_data=clean_support_call_audio,language=\n",
    "\"en-US\",show_all=True)\n",
    "print(text)"
   ]
  },
  {
   "cell_type": "code",
   "execution_count": null,
   "metadata": {},
   "outputs": [],
   "source": []
  }
 ],
 "metadata": {
  "kernelspec": {
   "display_name": "Python 3",
   "language": "python",
   "name": "python3"
  },
  "language_info": {
   "codemirror_mode": {
    "name": "ipython",
    "version": 3
   },
   "file_extension": ".py",
   "mimetype": "text/x-python",
   "name": "python",
   "nbconvert_exporter": "python",
   "pygments_lexer": "ipython3",
   "version": "3.7.3"
  }
 },
 "nbformat": 4,
 "nbformat_minor": 2
}
