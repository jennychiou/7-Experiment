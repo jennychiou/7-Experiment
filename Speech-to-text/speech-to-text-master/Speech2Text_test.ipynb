{
 "cells": [
  {
   "cell_type": "code",
   "execution_count": 19,
   "metadata": {},
   "outputs": [],
   "source": [
    "import os\n",
    "import speech_recognition as sr\n",
    "from tqdm import tqdm\n",
    "from multiprocessing.dummy import Pool"
   ]
  },
  {
   "cell_type": "code",
   "execution_count": 20,
   "metadata": {},
   "outputs": [],
   "source": [
    "pool = Pool(8) # Number of concurrent threads"
   ]
  },
  {
   "cell_type": "code",
   "execution_count": 3,
   "metadata": {
    "code_folding": [
     0
    ]
   },
   "outputs": [],
   "source": [
    "# with open(\"api-key.json\") as f:\n",
    "#     #GOOGLE_CLOUD_SPEECH_CREDENTIALS = f.read()\n",
    "#     s = r.recognize_google(audio, language=\"en-US\")"
   ]
  },
  {
   "cell_type": "code",
   "execution_count": 27,
   "metadata": {},
   "outputs": [
    {
     "data": {
      "text/plain": [
       "['out000000000.wav',\n",
       " 'out000000001.wav',\n",
       " 'out000000003.wav',\n",
       " 'out000000006.wav']"
      ]
     },
     "execution_count": 27,
     "metadata": {},
     "output_type": "execute_result"
    }
   ],
   "source": [
    "# https://github.com/akras14/speech-to-text\n",
    "r = sr.Recognizer()\n",
    "files = sorted(os.listdir('parts'))\n",
    "files"
   ]
  },
  {
   "cell_type": "code",
   "execution_count": 28,
   "metadata": {
    "code_folding": []
   },
   "outputs": [],
   "source": [
    "def transcribe(data):\n",
    "    idx, file = data\n",
    "    name = \"parts/\" + file\n",
    "    print(name + \" started\")\n",
    "    # Load audio file\n",
    "    with sr.AudioFile(name) as source:\n",
    "        audio = r.record(source)\n",
    "    # Transcribe audio file\n",
    "    #text = r.recognize_google_cloud(audio, credentials_json=GOOGLE_CLOUD_SPEECH_CREDENTIALS)\n",
    "    text  = r.recognize_google(audio, language=\"en-US\")\n",
    "    print(name + \" done\")\n",
    "    return {\n",
    "        \"idx\": idx,\n",
    "        \"text\": text\n",
    "    }"
   ]
  },
  {
   "cell_type": "code",
   "execution_count": 29,
   "metadata": {
    "scrolled": true
   },
   "outputs": [
    {
     "name": "stdout",
     "output_type": "stream",
     "text": [
      "parts/out000000000.wav startedparts/out000000001.wav startedparts/out000000003.wav startedparts/out000000006.wav started\n",
      "\n",
      "\n",
      "\n",
      "parts/out000000000.wav done\n",
      "parts/out000000003.wav done\n",
      "parts/out000000006.wav done\n",
      "parts/out000000001.wav done\n"
     ]
    }
   ],
   "source": [
    "all_text = pool.map(transcribe, enumerate(files))\n",
    "pool.close()\n",
    "pool.join()"
   ]
  },
  {
   "cell_type": "code",
   "execution_count": 30,
   "metadata": {},
   "outputs": [
    {
     "name": "stdout",
     "output_type": "stream",
     "text": [
      "00:00:00 settle down\n",
      "00:00:30 geode\n",
      "00:01:00 you know how it is\n",
      "00:01:30 would have no no nevermind\n",
      "\n"
     ]
    }
   ],
   "source": [
    "transcript = \"\"\n",
    "for t in sorted(all_text, key=lambda x: x['idx']):\n",
    "    total_seconds = t['idx'] * 30\n",
    "    # Cool shortcut from:\n",
    "    # https://stackoverflow.com/questions/775049/python-time-seconds-to-hms\n",
    "    # to get hours, minutes and seconds\n",
    "    m, s = divmod(total_seconds, 60)\n",
    "    h, m = divmod(m, 60)\n",
    "\n",
    "    # Format time as h:m:s - 30 seconds of text\n",
    "    transcript = transcript + \"{:0>2d}:{:0>2d}:{:0>2d} {}\\n\".format(h, m, s, t['text'])\n",
    "\n",
    "print(transcript)"
   ]
  },
  {
   "cell_type": "code",
   "execution_count": null,
   "metadata": {},
   "outputs": [],
   "source": [
    "with open(\"transcript.txt\", \"w\") as f:\n",
    "    f.write(transcript)"
   ]
  }
 ],
 "metadata": {
  "kernelspec": {
   "display_name": "Python 3",
   "language": "python",
   "name": "python3"
  },
  "language_info": {
   "codemirror_mode": {
    "name": "ipython",
    "version": 3
   },
   "file_extension": ".py",
   "mimetype": "text/x-python",
   "name": "python",
   "nbconvert_exporter": "python",
   "pygments_lexer": "ipython3",
   "version": "3.7.3"
  }
 },
 "nbformat": 4,
 "nbformat_minor": 2
}
