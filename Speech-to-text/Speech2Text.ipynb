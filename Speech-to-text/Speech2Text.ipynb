{
 "cells": [
  {
   "cell_type": "code",
   "execution_count": 1,
   "metadata": {},
   "outputs": [],
   "source": [
    "import speech_recognition as sr\n",
    "import time\n",
    "from gtts import gTTS"
   ]
  },
  {
   "cell_type": "code",
   "execution_count": null,
   "metadata": {},
   "outputs": [],
   "source": [
    "def speak(sentence, lang, loops=1):\n",
    "    with tempfile.NamedTemporaryFile(delete=False) as fp:\n",
    "        tts = gTTS(text=sentence, lang=lang)\n",
    "        tts.save('{}.mp3'.format(fp.name))\n",
    "        #tts.save('test.mp3')\n",
    "        mixer.init()\n",
    "        #mixer.music.load('{}.mp3'.format(fp.name))\n",
    "        mixer.music.load('vocals.wav')\n",
    "        mixer.music.play(loops)"
   ]
  },
  {
   "cell_type": "code",
   "execution_count": null,
   "metadata": {},
   "outputs": [],
   "source": [
    "# obtain audio from the microphone\n",
    "r = sr.Recognizer()\n",
    "with sr.Microphone() as source:\n",
    "    print(\"Please wait. Calibrating microphone...\")\n",
    "    # listen for 0.5 seconds and create the ambient noise energy level\n",
    "    r.adjust_for_ambient_noise(source, duration=0.5)\n",
    "    print(\"Say something!\")\n",
    "    audio = r.listen(source)"
   ]
  },
  {
   "cell_type": "code",
   "execution_count": null,
   "metadata": {},
   "outputs": [],
   "source": [
    "# recognize speech using Google Speech Recognition\n",
    "try:\n",
    "    print(\"Google Speech Recognition thinks you said::>>>\")\n",
    "    # print(r.recognize_google(audio, language=\"zh-TW\"))\n",
    "    s = r.recognize_google(audio, language=\"en-US\")\n",
    "    print(s)\n",
    "except sr.UnknownValueError:\n",
    "    print(\"Google Speech Recognition could not understand audio\")\n",
    "except sr.RequestError as e:\n",
    "    print(\"No response from Google Speech Recognition service: {0}\".format(e))"
   ]
  },
  {
   "cell_type": "code",
   "execution_count": null,
   "metadata": {},
   "outputs": [],
   "source": [
    "audio = \n",
    "s = r.recognize_google(audio, language=\"en-US\")"
   ]
  }
 ],
 "metadata": {
  "kernelspec": {
   "display_name": "Python 3",
   "language": "python",
   "name": "python3"
  },
  "language_info": {
   "codemirror_mode": {
    "name": "ipython",
    "version": 3
   },
   "file_extension": ".py",
   "mimetype": "text/x-python",
   "name": "python",
   "nbconvert_exporter": "python",
   "pygments_lexer": "ipython3",
   "version": "3.7.3"
  }
 },
 "nbformat": 4,
 "nbformat_minor": 2
}
