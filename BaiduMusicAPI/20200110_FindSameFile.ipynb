{
 "cells": [
  {
   "cell_type": "markdown",
   "metadata": {},
   "source": [
    "**<font color=blue size=4 face=雅黑>找出兩個資料夾裡相同的文件</font>**<br>\n",
    "https://blog.csdn.net/u010167269/article/details/51084312<br>"
   ]
  },
  {
   "cell_type": "code",
   "execution_count": 85,
   "metadata": {},
   "outputs": [],
   "source": [
    "import os\n",
    "import glob\n",
    "import shutil\n",
    "import requests\n",
    "import pandas as pd"
   ]
  },
  {
   "cell_type": "code",
   "execution_count": 142,
   "metadata": {},
   "outputs": [],
   "source": [
    "#指定找到文件後，另存的資料夾路徑(挑選同時有包含lrc和mp3)\n",
    "outDir = os.path.abspath('output/') \n",
    "\n",
    "#指定第一個資料夾的位置\n",
    "dir_lrc = os.path.abspath('lrc/')\n",
    "lrc = []\n",
    "lrcname = []\n",
    "#指定第二個資料夾的位置\n",
    "dir_mp3 = os.path.abspath('mp3/')\n",
    "mp3 = []\n",
    "mp3name = []"
   ]
  },
  {
   "cell_type": "code",
   "execution_count": 143,
   "metadata": {},
   "outputs": [],
   "source": [
    "#透過glob.glob來取得第一個資料夾下所有'.lrc'檔案\n",
    "lrcList = glob.glob(os.path.join(dir_lrc, '*.lrc'))\n",
    "#print(lrcList)\n",
    "\n",
    "# 取得檔案名稱（包括副檔名）\n",
    "for item in lrcList:\n",
    "    lrc.append(os.path.basename(item))\n",
    "#print(lrc)\n",
    "\n",
    "# 只保留檔案名稱(不包括副檔名)\n",
    "for item in lrc:\n",
    "    (temp1, temp2) = os.path.splitext(item)\n",
    "    lrcname.append(temp1)\n",
    "#print(lrcname)"
   ]
  },
  {
   "cell_type": "code",
   "execution_count": 144,
   "metadata": {},
   "outputs": [],
   "source": [
    "#透過glob.glob來取得第一個資料夾下所有'.mp3'檔案\n",
    "mp3List = glob.glob(os.path.join(dir_mp3, '*.mp3'))\n",
    "#print(mp3List)\n",
    "\n",
    "# 取得檔案名稱（包括副檔名）\n",
    "for item in mp3List:\n",
    "    mp3.append(os.path.basename(item))\n",
    "#print(mp3)\n",
    "\n",
    "# 只保留檔案名稱(不包括副檔名)\n",
    "for item in mp3:\n",
    "    (temp1, temp2) = os.path.splitext(item)\n",
    "    mp3name.append(temp1)\n",
    "#print(mp3name)"
   ]
  },
  {
   "cell_type": "code",
   "execution_count": 145,
   "metadata": {
    "scrolled": true
   },
   "outputs": [
    {
     "name": "stdout",
     "output_type": "stream",
     "text": [
      "D:\\Anaconda3\\Scripts\\7 實驗進度\\BaiduMusicAPI\\mp3\\5 Seconds Of Summer_She Looks so Perfect.mp3\n",
      "D:\\Anaconda3\\Scripts\\7 實驗進度\\BaiduMusicAPI\\mp3\\Amy Diamond_Heartbeats.mp3\n",
      "D:\\Anaconda3\\Scripts\\7 實驗進度\\BaiduMusicAPI\\mp3\\Asher Book_Try (Radio Mix).mp3\n",
      "D:\\Anaconda3\\Scripts\\7 實驗進度\\BaiduMusicAPI\\mp3\\Backstreet Boys_I Want It That Way.mp3\n",
      "D:\\Anaconda3\\Scripts\\7 實驗進度\\BaiduMusicAPI\\mp3\\Bing_Teardrop.mp3\n",
      "D:\\Anaconda3\\Scripts\\7 實驗進度\\BaiduMusicAPI\\mp3\\Bread_Diary.mp3\n",
      "D:\\Anaconda3\\Scripts\\7 實驗進度\\BaiduMusicAPI\\mp3\\Bruno Mars,Trauer Hit_Young, Wild & Free.mp3\n",
      "D:\\Anaconda3\\Scripts\\7 實驗進度\\BaiduMusicAPI\\mp3\\CeeLo Green_Kung Fu Fighting.mp3\n",
      "D:\\Anaconda3\\Scripts\\7 實驗進度\\BaiduMusicAPI\\mp3\\Celtic Woman_You Raise Me Up.mp3\n",
      "D:\\Anaconda3\\Scripts\\7 實驗進度\\BaiduMusicAPI\\mp3\\Colbie Caillat_Goldmine.mp3\n",
      "D:\\Anaconda3\\Scripts\\7 實驗進度\\BaiduMusicAPI\\mp3\\Colbie Caillat_Good Thing.mp3\n",
      "D:\\Anaconda3\\Scripts\\7 實驗進度\\BaiduMusicAPI\\mp3\\Coldplay_Easy To Please.mp3\n",
      "D:\\Anaconda3\\Scripts\\7 實驗進度\\BaiduMusicAPI\\mp3\\Dala_Father.mp3\n",
      "D:\\Anaconda3\\Scripts\\7 實驗進度\\BaiduMusicAPI\\mp3\\Daya_Thirsty.mp3\n",
      "D:\\Anaconda3\\Scripts\\7 實驗進度\\BaiduMusicAPI\\mp3\\Don Williams_Crying in the Rain.mp3\n",
      "D:\\Anaconda3\\Scripts\\7 實驗進度\\BaiduMusicAPI\\mp3\\EXID_Cream.mp3\n",
      "D:\\Anaconda3\\Scripts\\7 實驗進度\\BaiduMusicAPI\\mp3\\Husky Rescue_Deep Forest Green.mp3\n",
      "D:\\Anaconda3\\Scripts\\7 實驗進度\\BaiduMusicAPI\\mp3\\Imagine Dragons_Demons.mp3\n",
      "D:\\Anaconda3\\Scripts\\7 實驗進度\\BaiduMusicAPI\\mp3\\Jackson Turner,Niki Darling_One Day.mp3\n",
      "D:\\Anaconda3\\Scripts\\7 實驗進度\\BaiduMusicAPI\\mp3\\Jackson Turner,Nkese P_Highest Heights.mp3\n",
      "D:\\Anaconda3\\Scripts\\7 實驗進度\\BaiduMusicAPI\\mp3\\Katarina Fomenko_Carrie ocean.mp3\n",
      "D:\\Anaconda3\\Scripts\\7 實驗進度\\BaiduMusicAPI\\mp3\\Leddra Chapman_Jocelin.mp3\n",
      "D:\\Anaconda3\\Scripts\\7 實驗進度\\BaiduMusicAPI\\mp3\\Leo Sayer_More Than I Can Say.mp3\n",
      "D:\\Anaconda3\\Scripts\\7 實驗進度\\BaiduMusicAPI\\mp3\\Lola Coca_GQ.mp3\n",
      "D:\\Anaconda3\\Scripts\\7 實驗進度\\BaiduMusicAPI\\mp3\\Mads Langer_Unusual.mp3\n",
      "D:\\Anaconda3\\Scripts\\7 實驗進度\\BaiduMusicAPI\\mp3\\Marble Sounds_Come Here.mp3\n",
      "D:\\Anaconda3\\Scripts\\7 實驗進度\\BaiduMusicAPI\\mp3\\Molly Sandén_Youniverse.mp3\n",
      "D:\\Anaconda3\\Scripts\\7 實驗進度\\BaiduMusicAPI\\mp3\\Mr.asbo_Sala Men.mp3\n",
      "D:\\Anaconda3\\Scripts\\7 實驗進度\\BaiduMusicAPI\\mp3\\NERVO,Duane Harden_Sunshine Thru Rain Clouds (Radio Edit).mp3\n",
      "D:\\Anaconda3\\Scripts\\7 實驗進度\\BaiduMusicAPI\\mp3\\NERVO,Ivan Gough,Beverley Knight_Not Taking This No More (Radio Edit).mp3\n",
      "D:\\Anaconda3\\Scripts\\7 實驗進度\\BaiduMusicAPI\\mp3\\NERVO,Marco Lys_Don't Break My Heart (Radio Edit).mp3\n",
      "D:\\Anaconda3\\Scripts\\7 實驗進度\\BaiduMusicAPI\\mp3\\Paul McCartney,John Lennon,The Coverbeats_Hey Jude.mp3\n",
      "D:\\Anaconda3\\Scripts\\7 實驗進度\\BaiduMusicAPI\\mp3\\Pixies_Where Is My Mind .mp3\n",
      "D:\\Anaconda3\\Scripts\\7 實驗進度\\BaiduMusicAPI\\mp3\\Plain White T's_Rhythm of Love.mp3\n",
      "D:\\Anaconda3\\Scripts\\7 實驗進度\\BaiduMusicAPI\\mp3\\R3hab,NERVO,Ayah Marar_Ready For The Weekend (Radio Mix).mp3\n",
      "D:\\Anaconda3\\Scripts\\7 實驗進度\\BaiduMusicAPI\\mp3\\Rain Man_Bring Back the Summer (Not Your Dope Remix).mp3\n",
      "D:\\Anaconda3\\Scripts\\7 實驗進度\\BaiduMusicAPI\\mp3\\Ramzi_Love Is Blind.mp3\n",
      "D:\\Anaconda3\\Scripts\\7 實驗進度\\BaiduMusicAPI\\mp3\\Swan Dive_Until.mp3\n",
      "D:\\Anaconda3\\Scripts\\7 實驗進度\\BaiduMusicAPI\\mp3\\Taylor Swift,Max Martin,Shellback,The Party Machines_I Knew You Were Trouble.mp3\n",
      "D:\\Anaconda3\\Scripts\\7 實驗進度\\BaiduMusicAPI\\mp3\\The Royal Concept_Need To Know.mp3\n",
      "D:\\Anaconda3\\Scripts\\7 實驗進度\\BaiduMusicAPI\\mp3\\The Royal Concept_Wild Things.mp3\n",
      "D:\\Anaconda3\\Scripts\\7 實驗進度\\BaiduMusicAPI\\mp3\\Twinbed_Trouble I'm In.mp3\n",
      "D:\\Anaconda3\\Scripts\\7 實驗進度\\BaiduMusicAPI\\mp3\\tyDi,MORTEN_Sharpest Weapon.mp3\n",
      "D:\\Anaconda3\\Scripts\\7 實驗進度\\BaiduMusicAPI\\mp3\\Young_Vallis Alps.mp3\n",
      "D:\\Anaconda3\\Scripts\\7 實驗進度\\BaiduMusicAPI\\mp3\\柳妍熙_谁记得.mp3\n",
      "D:\\Anaconda3\\Scripts\\7 實驗進度\\BaiduMusicAPI\\mp3\\王诗安_HOME Napa Cabbage Remix.mp3\n",
      "\n",
      "Count of Same Filename : 46\n"
     ]
    }
   ],
   "source": [
    "# 取得在lrc資料夾和mp3資料夾中同時存在的檔名，並另存在outDir資料夾下\n",
    "count = 0\n",
    "dirList = []\n",
    "\n",
    "for item1 in mp3name:\n",
    "    for item2 in lrcname:\n",
    "        if item1 == item2:\n",
    "            dir = mp3List[mp3name.index(item1)]\n",
    "            print(dir)\n",
    "            dirList.append(dir)\n",
    "            count += 1\n",
    "\n",
    "print('\\nCount of Same Filename :',count)"
   ]
  },
  {
   "cell_type": "code",
   "execution_count": 146,
   "metadata": {},
   "outputs": [],
   "source": [
    "artistL = []\n",
    "songL = []\n",
    "df_samefile = pd.DataFrame()\n",
    "\n",
    "for i in range(len(dirList)):\n",
    "    #print(i)\n",
    "    x = dirList[i]\n",
    "    x.replace('\\\\','/')\n",
    "    y = x.split(\"\\\\\", 7)\n",
    "    filename = y[6]\n",
    "    filenameL = filename.split('_',2)\n",
    "    artistL.append(filenameL[0])\n",
    "    songL.append(filenameL[1].replace('.mp3',''))\n",
    "    #print(filenameL[0], '|', filenameL[1].replace('.mp3',''))\n",
    "    #print('-'*80)\n",
    "\n",
    "df_samefile['mp3name'] = pd.Series(dirList)\n",
    "df_samefile['artist'] = pd.Series(artistL)\n",
    "df_samefile['song'] = pd.Series(songL)\n",
    "df_samefile.to_csv('csv/df_samefile.csv', index=False)"
   ]
  },
  {
   "cell_type": "code",
   "execution_count": 147,
   "metadata": {},
   "outputs": [],
   "source": [
    "# 同檔名的mp3檔案複製到新資料夾outDir\n",
    "# 原始mp3資料夾有和lrc檔名相同的mp3複製起來\n",
    "for i in range(len(dirList)):\n",
    "    shutil.copy2(dirList[i], outDir)"
   ]
  },
  {
   "cell_type": "code",
   "execution_count": null,
   "metadata": {},
   "outputs": [],
   "source": []
  }
 ],
 "metadata": {
  "kernelspec": {
   "display_name": "Python 3",
   "language": "python",
   "name": "python3"
  },
  "language_info": {
   "codemirror_mode": {
    "name": "ipython",
    "version": 3
   },
   "file_extension": ".py",
   "mimetype": "text/x-python",
   "name": "python",
   "nbconvert_exporter": "python",
   "pygments_lexer": "ipython3",
   "version": "3.6.5"
  }
 },
 "nbformat": 4,
 "nbformat_minor": 2
}
