{
 "cells": [
  {
   "cell_type": "markdown",
   "metadata": {},
   "source": [
    "**<font color = blue size=4>解決反爬蟲問題</font>**<br>\n",
    "https://titangene.github.io/article/python-crawler-note.html<br>\n",
    "https://ithelp.ithome.com.tw/articles/10224979?sc=pt"
   ]
  },
  {
   "cell_type": "code",
   "execution_count": 7,
   "metadata": {},
   "outputs": [],
   "source": [
    "import os\n",
    "import re\n",
    "import csv\n",
    "import ast \n",
    "import json\n",
    "import time\n",
    "import urllib\n",
    "import random\n",
    "import requests\n",
    "import datetime\n",
    "import numpy as np\n",
    "import pandas as pd\n",
    "import urllib.parse\n",
    "from bs4 import BeautifulSoup\n",
    "from user_agent import generate_user_agent"
   ]
  },
  {
   "cell_type": "code",
   "execution_count": 8,
   "metadata": {
    "code_folding": [
     2
    ]
   },
   "outputs": [],
   "source": [
    "# 取得動態歌詞\n",
    "def get_lyrics(songid):\n",
    "    headers={'Accept': 'text/html,application/xhtml+xml,application/xml;q=0.9,image/webp,image/apng,*/*;q=0.8',\n",
    "             'Accept-Encoding': 'gzip, deflate',\n",
    "             'Accept-Language': 'zh-CN,zh;q=0.9',\n",
    "             'Connection': 'keep-alive',\n",
    "             'Cookie': '_iuqxldmzr_=32; _ntes_nnid=0e6e1606eb78758c48c3fc823c6c57dd,1527314455632; '\n",
    "                       '_ntes_nuid=0e6e1606eb78758c48c3fc823c6c57dd; __utmc=94650624; __utmz=94650624.1527314456.1.1.'\n",
    "                       'utmcsr=(direct)|utmccn=(direct)|utmcmd=(none); WM_TID=blBrSVohtue8%2B6VgDkxOkJ2G0VyAgyOY;'\n",
    "                       ' JSESSIONID-WYYY=Du06y%5Csx0ddxxx8n6G6Dwk97Dhy2vuMzYDhQY8D%2BmW3vlbshKsMRxS%2BJYEnvCCh%5CKY'\n",
    "                       'x2hJ5xhmAy8W%5CT%2BKqwjWnTDaOzhlQj19AuJwMttOIh5T%5C05uByqO%2FWM%2F1ZS9sqjslE2AC8YD7h7Tt0Shufi'\n",
    "                       '2d077U9tlBepCx048eEImRkXDkr%3A1527321477141; __utma=94650624.1687343966.1527314456.1527314456'\n",
    "                       '.1527319890.2; __utmb=94650624.3.10.1527319890',\n",
    "             'Host': 'music.163.com',\n",
    "             'Referer': 'http://music.163.com/',\n",
    "             'Upgrade-Insecure-Requests': '1',\n",
    "             'User-Agent': 'Mozilla/5.0 (Windows NT 10.0; Win64; x64) AppleWebKit/537.36 (KHTML, like Gecko) '\n",
    "                           'Chrome/66.0.3359.181 Safari/537.36'}\n",
    "    url = 'http://music.163.com/api/song/lyric?id={}&lv=-1&kv=-1&tv=-1'.format(songid)\n",
    "    user_agent = generate_user_agent()\n",
    "    response = requests.get(url, headers={ 'user-agent': user_agent })\n",
    "    # 隨機暫停 1~5 秒\n",
    "    time.sleep(random.uniform(1,5))\n",
    "    data = response.json()\n",
    "    return data"
   ]
  },
  {
   "cell_type": "code",
   "execution_count": 13,
   "metadata": {
    "scrolled": true
   },
   "outputs": [
    {
     "data": {
      "text/plain": [
       "{'sgc': True,\n",
       " 'sfy': True,\n",
       " 'qfy': False,\n",
       " 'transUser': {'id': 5183694,\n",
       "  'status': 0,\n",
       "  'demand': 1,\n",
       "  'userid': 44296474,\n",
       "  'nickname': '谙和',\n",
       "  'uptime': 1571238281324},\n",
       " 'lrc': {'version': 7,\n",
       "  'lyric': \"[00:01.20]Cat Stevens\\n[00:13.92]Morning has broken like the first morning\\n[00:22.22]Blackbird has spoken like the first bird\\n[00:30.48]Praise for the singing; praise for the morning\\n[00:38.72]Praise for them springing fresh from the world\\n[00:54.63]Sweet the rains new fall sunlit from heaven\\n[01:03.30]Like the first dew fall on the first grass\\n[01:11.38]Praise for the sweetness of the wet garden\\n[01:19.34]Spring in completeness where His feet pass\\n[01:40.28]Mine is the sunlight. Mine is the morning\\n[01:47.01]\\n[01:49.39]Born of the one light Eden saw play\\n[01:56.91]Praise with elation, praise every morning\\n[02:05.19]God's re-creation of the new day\\n[02:10.50]\\n[02:23.50]Morning has broken like the first morning\\n[02:31.89]Blackbird has spoken like the first bird\\n[02:40.32]Praise for the singing; praise for the morning\\n[02:48.34]Praise for them springing fresh from the world\\n\"},\n",
       " 'klyric': {'version': 7,\n",
       "  'lyric': \"[ti:Morning Has Broken]\\n[ar:Cat Stevens]\\n[by:1622514@网易云音乐_2]\\n[#:http://music.163.com/#/song?id=5183694]\\n[12924,8615](0,592)Morning(0,1) (0,314)has(0,1) (0,387)broken(0,1) (0,3266)like(0,1) (0,602)the(0,1) (0,407)first(0,1) (0,3036)morning\\n[21239,8572](0,764)Blackbird(0,1) (0,352)has(0,1) (0,3111)spoken(0,1) (0,479)like(0,1) (0,527)the(0,1) (0,616)first(0,1) (0,2716)bird\\n[29511,8409](0,685)Praise(0,1) (0,409)for(0,1) (0,426)the(0,1) (0,2623)singing,(0,485)Praise(0,1) (0,450)for(0,1) (0,533)the(0,1) (0,2787)morning\\n[37620,16492](0,706)Praise(0,1) (0,321)for(0,1) (0,398)them(0,1) (0,1300)springing(0,1) (0,2704)fresh(0,1) (0,336)from(0,1) (0,284)the(0,1) (0,10427)world\\n[53812,8730](0,706)Sweet(0,1) (0,355)the(0,1) (0,300)rain's(0,1) (0,429)new(0,1) (0,3693)fall,(0,355)sunlit(0,1) (0,453)from(0,1) (0,2427)heaven\\n[62246,8525](0,684)Like(0,1) (0,273)the(0,1) (0,282)first(0,1) (0,3311)dewfall(0,1) (0,403)on(0,1) (0,253)the(0,1) (0,262)first(0,1) (0,3047)grass\\n[70471,8307](0,609)Praise(0,1) (0,293)for(0,1) (0,290)the(0,1) (0,322)sweetness(0,1) (0,3544)of(0,1) (0,482)the(0,1) (0,824)wet(0,1) (0,1927)garden\\n[78478,21057](0,653)Sprung(0,1) (0,444)in(0,1) (0,233)completeness(0,1) (0,3358)where(0,1) (0,347)his(0,1) (0,428)feet(0,1) (0,15586)pass\\n[99235,9349](0,692)Mine(0,1) (0,340)is(0,1) (0,337)the(0,1) (0,2913)sunlight;(0,595)mine(0,1) (0,469)is(0,1) (0,521)the(0,1) (0,3467)morning\\n[108284,7951](0,783)Born(0,1) (0,307)of(0,1) (0,295)the(0,1) (0,309)one(0,1) (0,2955)light(0,1) (0,363)Eden(0,1) (0,466)saw(0,1) (0,2457)play\\n[115935,8412](0,698)Praise(0,1) (0,876)with(0,1) (0,2642)elation,(0,584)praise(0,1) (0,372)every(0,1) (0,3235)morning\\n[124047,18638](0,734)God's(0,1) (0,3113)recreation(0,1) (0,394)of(0,1) (0,439)the(0,1) (0,687)new(0,1) (0,13265)day\\n[142385,8904](0,568)Morning(0,1) (0,380)has(0,1) (0,3886)broken(0,1) (0,333)like(0,1) (0,317)the(0,1) (0,340)first(0,1) (0,3066)morning\\n[150989,8592](0,730)Blackbird(0,1) (0,394)has(0,1) (0,3197)spoken(0,1) (0,373)like(0,1) (0,426)the(0,1) (0,537)first(0,1) (0,2926)bird\\n[159281,8310](0,714)Praise(0,1) (0,395)for(0,1) (0,406)the(0,1) (0,2494)singing,(0,453)Praise(0,1) (0,559)for(0,1) (0,545)the(0,1) (0,2737)morning\\n[167291,10398](0,696)Praise(0,1) (0,610)for(0,1) (0,448)them(0,1) (0,2658)springing(0,1) (0,310)fresh(0,1) (0,500)from(0,1) (0,566)the(0,1) (4603,4598)world\\n\"},\n",
       " 'tlyric': {'version': 2,\n",
       "  'lyric': '[by:谙和]\\n[00:01.20]凯特斯蒂文斯\\n[00:13.92]天已破晓,如同第一个清晨\\n[00:22.22]黑鸟鸣唱,如同第一只鸣禽\\n[00:30.48]赞美这歌唱,赞美这早晨\\n[00:38.72]赞美它们使这世界充满了清新\\n[00:54.63]初下的雨水和来自天庭的阳光何等甜美\\n[01:03.30]像新生草原上的第一颗露珠\\n[01:11.38]赞美那湿润花园的甜美\\n[01:19.34]上帝足迹所到之处万物滋长\\n[01:40.28]我就是阳光,我就是清晨\\n[01:49.39]自伊甸园的一道微光中诞生\\n[01:56.91]兴高采烈的赞美,赞美每一个清晨\\n[02:05.19]和上帝在新的一天游戏\\n[02:23.50]天已破晓,如同第一个清晨\\n[02:31.89]黑鸟鸣唱,如同第一只鸣禽\\n[02:40.32]赞美这歌唱,赞美这早晨\\n[02:48.34]赞美它们使这世界充满了清新\\n'},\n",
       " 'code': 200}"
      ]
     },
     "execution_count": 13,
     "metadata": {},
     "output_type": "execute_result"
    }
   ],
   "source": [
    "get_lyrics(5183694)"
   ]
  },
  {
   "cell_type": "code",
   "execution_count": null,
   "metadata": {},
   "outputs": [],
   "source": []
  }
 ],
 "metadata": {
  "kernelspec": {
   "display_name": "Python 3",
   "language": "python",
   "name": "python3"
  },
  "language_info": {
   "codemirror_mode": {
    "name": "ipython",
    "version": 3
   },
   "file_extension": ".py",
   "mimetype": "text/x-python",
   "name": "python",
   "nbconvert_exporter": "python",
   "pygments_lexer": "ipython3",
   "version": "3.6.5"
  }
 },
 "nbformat": 4,
 "nbformat_minor": 2
}
