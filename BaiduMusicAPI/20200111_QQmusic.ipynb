{
 "cells": [
  {
   "cell_type": "code",
   "execution_count": 1,
   "metadata": {},
   "outputs": [],
   "source": [
    "import requests\n",
    "import urllib\n",
    "import json\n",
    "import os \n",
    "import pandas as pd\n",
    "import numpy as np\n",
    "import urllib.parse\n",
    "from bs4 import BeautifulSoup"
   ]
  },
  {
   "cell_type": "code",
   "execution_count": 2,
   "metadata": {},
   "outputs": [],
   "source": [
    "# 搜尋音樂\n",
    "def get_song_list(keyword):\n",
    "    headers = {'user-agent': 'Mozilla/5.0 (Windows NT 6.1; Win64; x64) AppleWebKit/537.36 (KHTML, like Gecko) Chrome/52.0.2743.116 Safari/537.36'}\n",
    "    keyword = urllib.parse.quote(keyword)\n",
    "    url = 'https://c.y.qq.com/soso/fcgi-bin/client_search_cp?aggr=1&cr=1&p=1&n=20&w=%s' % keyword\n",
    "    response = requests.get(url, headers=headers).text.encode(\n",
    "        'gbk', 'ignore').decode('gbk').split('callback')[-1].strip('()')\n",
    "    response = json.loads(response)\n",
    "    return response['data']['song']"
   ]
  },
  {
   "cell_type": "code",
   "execution_count": 3,
   "metadata": {},
   "outputs": [],
   "source": [
    "def print_info(songs):\n",
    "    for num, song in enumerate(songs):\n",
    "        songname = song['songname']\n",
    "        singer_length = len(song['singer'])\n",
    "        singers = []\n",
    "        for i in range(singer_length):\n",
    "            singers.append(song['singer'][i]['name'])\n",
    "        singers = ('/').join(singers)\n",
    "        media_mid = song['media_mid']\n",
    "        album_name = song['albumname']\n",
    "        time = song['interval']\n",
    "        m, s = divmod(time, 60)\n",
    "        time = \"%02d:%02d\" % (m, s)\n",
    "        print(num,'Song：',songname,'Artist：' ,singers, 'Album：',album_name, 'Duration：',time)"
   ]
  },
  {
   "cell_type": "code",
   "execution_count": 4,
   "metadata": {},
   "outputs": [],
   "source": [
    "def get_mp3_url(songs,num):\n",
    "    media_mid = songs['list'][num]['media_mid']\n",
    "    url_1 = 'https://c.y.qq.com/base/fcgi-bin/fcg_music_express_mobile3.fcg?g_tk=5381&cid=205361747&songmid=%s&filename=C400%s.m4a&guid=6800588318' % (media_mid,media_mid)\n",
    "    response = requests.get(url_1).json()\n",
    "    vkey= response['data']['items'][0]['vkey']\n",
    "    if vkey:\n",
    "        url_2 = 'http://dl.stream.qqmusic.qq.com/C400%s.m4a?vkey=%s&guid=6800588318&uin=0&fromtag=66' % (media_mid,vkey)\n",
    "        return url_2\n",
    "    return None"
   ]
  },
  {
   "cell_type": "code",
   "execution_count": 11,
   "metadata": {},
   "outputs": [],
   "source": [
    "def download_mp3(url,filename):\n",
    "    abspath = os.path.abspath('.')  # 獲取絕對路徑\n",
    "    os.chdir(abspath)\n",
    "    response = requests.get(url).content\n",
    "    path = os.path.join(abspath,filename)\n",
    "    with open(filename + '.m4a', 'wb') as f:\n",
    "        f.write(response)\n",
    "        print('Download Finisg, save in %s' % path + '.m4a') "
   ]
  },
  {
   "cell_type": "code",
   "execution_count": 14,
   "metadata": {},
   "outputs": [],
   "source": [
    "def run():\n",
    "    while  True:\n",
    "        name = input('Input Song：')\n",
    "        songs = get_song_list(name)\n",
    "        if songs['totalnum'] == 0 : \n",
    "            print('No song found, please change keywords')\n",
    "        else:\n",
    "            print_info(songs['list'])\n",
    "            num = input('Please enter the song you want to download:')\n",
    "            url = get_mp3_url(songs,int(num))\n",
    "            print(url)\n",
    "            if not url :\n",
    "                print('Song is no longer available. Download address not found. Download failed.')\n",
    "            else:\n",
    "                songname = songs['list'][int(num)]['songname']\n",
    "                download_mp3(url, songname)\n",
    "\n",
    "            flag = input('If you want to continue, you can press any key to search the song, otherwise press 0 to end the program')\n",
    "            if flag == '0':\n",
    "                break"
   ]
  },
  {
   "cell_type": "code",
   "execution_count": null,
   "metadata": {},
   "outputs": [],
   "source": [
    "run()"
   ]
  }
 ],
 "metadata": {
  "kernelspec": {
   "display_name": "Python 3",
   "language": "python",
   "name": "python3"
  },
  "language_info": {
   "codemirror_mode": {
    "name": "ipython",
    "version": 3
   },
   "file_extension": ".py",
   "mimetype": "text/x-python",
   "name": "python",
   "nbconvert_exporter": "python",
   "pygments_lexer": "ipython3",
   "version": "3.6.5"
  }
 },
 "nbformat": 4,
 "nbformat_minor": 2
}
