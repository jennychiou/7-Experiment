{
 "cells": [
  {
   "cell_type": "code",
   "execution_count": 41,
   "metadata": {},
   "outputs": [],
   "source": [
    "import csv\n",
    "import ast \n",
    "import pandas as pd"
   ]
  },
  {
   "cell_type": "code",
   "execution_count": 30,
   "metadata": {},
   "outputs": [],
   "source": [
    "with open(\"CloudMusic_csv/df_songcount.csv\", \"a\", encoding=\"utf-8\", newline='') as csvfile:\n",
    "    writer = csv.writer(csvfile, dialect='excel')\n",
    "    base = 200\n",
    "    Round = str(base) + '-' + str(base+100)\n",
    "    Count_list = list(range(21, 31))\n",
    "    #第一次寫入\n",
    "    #writer.writerow(['Round', 'Count_list'])\n",
    "    #之後寫入\n",
    "    writer.writerow([Round, Count_list])"
   ]
  },
  {
   "cell_type": "code",
   "execution_count": 31,
   "metadata": {},
   "outputs": [
    {
     "data": {
      "text/html": [
       "<div>\n",
       "<style scoped>\n",
       "    .dataframe tbody tr th:only-of-type {\n",
       "        vertical-align: middle;\n",
       "    }\n",
       "\n",
       "    .dataframe tbody tr th {\n",
       "        vertical-align: top;\n",
       "    }\n",
       "\n",
       "    .dataframe thead th {\n",
       "        text-align: right;\n",
       "    }\n",
       "</style>\n",
       "<table border=\"1\" class=\"dataframe\">\n",
       "  <thead>\n",
       "    <tr style=\"text-align: right;\">\n",
       "      <th></th>\n",
       "      <th>Round</th>\n",
       "      <th>Count_list</th>\n",
       "    </tr>\n",
       "  </thead>\n",
       "  <tbody>\n",
       "    <tr>\n",
       "      <th>0</th>\n",
       "      <td>0-100</td>\n",
       "      <td>[1, 2, 3, 4, 5, 6, 7, 8, 9, 10]</td>\n",
       "    </tr>\n",
       "    <tr>\n",
       "      <th>1</th>\n",
       "      <td>100-200</td>\n",
       "      <td>[11, 12, 13, 14, 15, 16, 17, 18, 19, 20]</td>\n",
       "    </tr>\n",
       "    <tr>\n",
       "      <th>2</th>\n",
       "      <td>200-300</td>\n",
       "      <td>[21, 22, 23, 24, 25, 26, 27, 28, 29, 30]</td>\n",
       "    </tr>\n",
       "  </tbody>\n",
       "</table>\n",
       "</div>"
      ],
      "text/plain": [
       "     Round                                Count_list\n",
       "0    0-100           [1, 2, 3, 4, 5, 6, 7, 8, 9, 10]\n",
       "1  100-200  [11, 12, 13, 14, 15, 16, 17, 18, 19, 20]\n",
       "2  200-300  [21, 22, 23, 24, 25, 26, 27, 28, 29, 30]"
      ]
     },
     "execution_count": 31,
     "metadata": {},
     "output_type": "execute_result"
    }
   ],
   "source": [
    "df_songcount = pd.read_csv('CloudMusic_csv/df_songcount.csv', delimiter = ',')\n",
    "df_songcount"
   ]
  },
  {
   "cell_type": "code",
   "execution_count": 43,
   "metadata": {},
   "outputs": [
    {
     "name": "stdout",
     "output_type": "stream",
     "text": [
      "ini = [1, 2, 3, 4, 5, 6, 7, 8, 9, 10]\n",
      "<class 'str'>\n",
      "res = [1, 2, 3, 4, 5, 6, 7, 8, 9, 10]\n",
      "<class 'list'>\n"
     ]
    }
   ],
   "source": [
    "# 轉換字串成list\n",
    "# https://www.geeksforgeeks.org/python-convert-a-string-representation-of-list-into-list/\n",
    "ini = df_songcount['Count_list'][0]\n",
    "print('ini =',ini) \n",
    "print(type(ini)) \n",
    "res = ast.literal_eval(ini_list) \n",
    "print('res =', res) \n",
    "print(type(res)) "
   ]
  },
  {
   "cell_type": "code",
   "execution_count": null,
   "metadata": {},
   "outputs": [],
   "source": []
  }
 ],
 "metadata": {
  "kernelspec": {
   "display_name": "Python 3",
   "language": "python",
   "name": "python3"
  },
  "language_info": {
   "codemirror_mode": {
    "name": "ipython",
    "version": 3
   },
   "file_extension": ".py",
   "mimetype": "text/x-python",
   "name": "python",
   "nbconvert_exporter": "python",
   "pygments_lexer": "ipython3",
   "version": "3.6.5"
  }
 },
 "nbformat": 4,
 "nbformat_minor": 2
}
