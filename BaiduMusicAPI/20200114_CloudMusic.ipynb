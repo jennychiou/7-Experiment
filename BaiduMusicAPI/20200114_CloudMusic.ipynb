{
 "cells": [
  {
   "cell_type": "markdown",
   "metadata": {},
   "source": [
    "**<font color = blue size=4>爬取網易雲動態歌詞(更新版)</font>**<br>"
   ]
  },
  {
   "cell_type": "code",
   "execution_count": 4,
   "metadata": {},
   "outputs": [],
   "source": [
    "import os\n",
    "import re\n",
    "import csv\n",
    "import ast \n",
    "import json\n",
    "import time\n",
    "import urllib\n",
    "import random\n",
    "import requests\n",
    "import datetime\n",
    "import numpy as np\n",
    "import pandas as pd\n",
    "import urllib.parse\n",
    "from bs4 import BeautifulSoup\n",
    "from user_agent import generate_user_agent"
   ]
  },
  {
   "cell_type": "code",
   "execution_count": 2,
   "metadata": {
    "code_folding": [
     0
    ]
   },
   "outputs": [],
   "source": [
    "# 匯入歌手的csv檔案\n",
    "def import_csv(filepath):\n",
    "    df_artists = pd.read_csv(filepath, delimiter = ',')\n",
    "    return df_artists"
   ]
  },
  {
   "cell_type": "code",
   "execution_count": 3,
   "metadata": {
    "code_folding": [
     3
    ]
   },
   "outputs": [],
   "source": [
    "# 取得歌手對應的歌曲清單，收集歌單內的歌曲ID\n",
    "# 取得歌曲頁面url，存成list(song_url)\n",
    "# https://segmentfault.com/a/1190000014948845\n",
    "def get_songs(artist_id):\n",
    "    headers = {'user-agent': 'Mozilla/5.0 (Windows NT 10.0; Win64; x64) AppleWebKit/537.36 (KHTML, like Gecko) Chrome/79.0.3945.117 Safari/537.36'}\n",
    "    r = requests.get('http://music.163.com/artist?id={}'.format(artist_id),headers=headers)\n",
    "    song_ids = re.findall(r'song\\?id=(\\d+?)\".+?</a>',r.text) #歌曲id列表\n",
    "    song_titles = re.findall(r'song\\?id=\\d+?\">(.+?)</a>',r.text)#歌名title列表\n",
    "    song_url = []\n",
    "    for i in range(len(song_ids)):\n",
    "        song_id = song_ids[i]\n",
    "        url = 'https://music.163.com/#/song?id={}'.format(song_id)\n",
    "        song_url.append(url)\n",
    "    \n",
    "    # 根據特定歌手ID搜尋歌手名稱\n",
    "    # https://music.163.com/#/artist?id=1045123\n",
    "    df_artists_filter = df_artists.loc[df_artists[\"artist_id\"] == artist_id]\n",
    "    artist_name = df_artists_filter['artist_name'].values[0]\n",
    "\n",
    "    artist_url = 'http://music.163.com/artist?id=' + str(artist_id) #歌手頁面連結\n",
    "    \n",
    "    return [song_ids, song_titles, song_url, artist_name, artist_url]"
   ]
  },
  {
   "cell_type": "code",
   "execution_count": 4,
   "metadata": {
    "code_folding": [
     2
    ]
   },
   "outputs": [],
   "source": [
    "# 歌單的歌轉成dataframe並存成csv\n",
    "# 亂碼使用encoding='utf_8_sig'解決\n",
    "def get_songinfo(song_ids, song_titles, song_url, artist_name):\n",
    "    df_songs = pd.DataFrame()\n",
    "    artist_name_list = []\n",
    "    for i in range(len(song_ids)):\n",
    "        artist_name_list.append(artist_name)\n",
    "    df_songs['Artist'] = pd.Series(artist_name_list)\n",
    "    df_songs['SongID'] = pd.Series(song_ids)\n",
    "    df_songs['SongTitle'] = pd.Series(song_titles)\n",
    "    df_songs['SongURL'] = pd.Series(song_url)\n",
    "    artist_name_new = artist_name.replace(' / ',' ')\n",
    "    filepath = 'CloudMusic_csv/artists/df_songs_' + artist_name_new + '.csv'\n",
    "    df_songs.to_csv(filepath, encoding='utf_8_sig')\n",
    "    return df_songs"
   ]
  },
  {
   "cell_type": "code",
   "execution_count": 5,
   "metadata": {
    "code_folding": [
     1
    ]
   },
   "outputs": [],
   "source": [
    "# 檔案名稱所有非法字元都轉義：https://www.itread01.com/content/1549125182.html\n",
    "def validateTitle(title):\n",
    "    rstr = r\"[\\/\\\\\\:\\*\\?\\\"\\<\\>\\|]\" # '/ \\ : * ? \" < > |'\n",
    "    new_title = re.sub(rstr, \"\", title)  # 替換為空白\n",
    "    return new_title"
   ]
  },
  {
   "cell_type": "code",
   "execution_count": 6,
   "metadata": {
    "code_folding": [
     1
    ]
   },
   "outputs": [],
   "source": [
    "# 取得歌名和歌手\n",
    "def get_name_artist(df_songs, count):\n",
    "    artistname = df_songs['Artist'][count]\n",
    "    artistname = validateTitle(artistname)\n",
    "    songname = df_songs['SongTitle'][count]\n",
    "    songname = validateTitle(songname)\n",
    "    songid = df_songs['SongID'][count]\n",
    "    songid = validateTitle(songid)\n",
    "    #print(artistname + '_' + songname + '\\n' + songid)\n",
    "    return artistname, songname, songid"
   ]
  },
  {
   "cell_type": "code",
   "execution_count": 2,
   "metadata": {
    "code_folding": [
     2,
     3
    ]
   },
   "outputs": [],
   "source": [
    "# 取得動態歌詞\n",
    "# 取得動態歌詞\n",
    "def get_lyrics(songid):\n",
    "    headers={'Accept': 'text/html,application/xhtml+xml,application/xml;q=0.9,image/webp,image/apng,*/*;q=0.8',\n",
    "             'Accept-Encoding': 'gzip, deflate',\n",
    "             'Accept-Language': 'zh-CN,zh;q=0.9',\n",
    "             'Connection': 'keep-alive',\n",
    "             'Cookie': '_iuqxldmzr_=32; _ntes_nnid=0e6e1606eb78758c48c3fc823c6c57dd,1527314455632; '\n",
    "                       '_ntes_nuid=0e6e1606eb78758c48c3fc823c6c57dd; __utmc=94650624; __utmz=94650624.1527314456.1.1.'\n",
    "                       'utmcsr=(direct)|utmccn=(direct)|utmcmd=(none); WM_TID=blBrSVohtue8%2B6VgDkxOkJ2G0VyAgyOY;'\n",
    "                       ' JSESSIONID-WYYY=Du06y%5Csx0ddxxx8n6G6Dwk97Dhy2vuMzYDhQY8D%2BmW3vlbshKsMRxS%2BJYEnvCCh%5CKY'\n",
    "                       'x2hJ5xhmAy8W%5CT%2BKqwjWnTDaOzhlQj19AuJwMttOIh5T%5C05uByqO%2FWM%2F1ZS9sqjslE2AC8YD7h7Tt0Shufi'\n",
    "                       '2d077U9tlBepCx048eEImRkXDkr%3A1527321477141; __utma=94650624.1687343966.1527314456.1527314456'\n",
    "                       '.1527319890.2; __utmb=94650624.3.10.1527319890',\n",
    "             'Host': 'music.163.com',\n",
    "             'Referer': 'http://music.163.com/',\n",
    "             'Upgrade-Insecure-Requests': '1',\n",
    "             'User-Agent': 'Mozilla/5.0 (Windows NT 10.0; Win64; x64) AppleWebKit/537.36 (KHTML, like Gecko) '\n",
    "                           'Chrome/66.0.3359.181 Safari/537.36'}\n",
    "    url = 'http://music.163.com/api/song/lyric?id={}&lv=-1&kv=-1&tv=-1'.format(songid)\n",
    "    user_agent = generate_user_agent()\n",
    "    response = requests.get(url, headers={ 'user-agent': user_agent })\n",
    "    # 隨機暫停 1~5 秒\n",
    "    time.sleep(random.uniform(1,5))\n",
    "    data = response.json()\n",
    "    return data"
   ]
  },
  {
   "cell_type": "code",
   "execution_count": 8,
   "metadata": {
    "code_folding": [
     2
    ]
   },
   "outputs": [],
   "source": [
    "# 下載動態歌詞，取代動態歌詞中的「’」符號，判斷回傳的lrc是否為空\n",
    "# 解決UnicodeDecodeError: 'cp950'問題，加入encoding=\"utf-8\"\n",
    "def save_lrc_file(data, artistname, songname, count):\n",
    "    content = data['lrc']['lyric']\n",
    "    # lrc不為空\n",
    "    if content != \"\":\n",
    "        content = data['lrc']['lyric'].replace(\"’\", \"'\")\n",
    "        filepath = 'CloudMusic_lrc/artists/'+ artist_name + '_' + songname +'.lrc'\n",
    "        #檔名重複篩選\n",
    "        if os.path.isfile(filepath):\n",
    "            #檔案存在\n",
    "            pass\n",
    "        else:\n",
    "            #檔案不存在\n",
    "            with open(filepath, 'w', encoding=\"utf-8\") as file:\n",
    "                file.write(content)\n",
    "            print(filepath)\n",
    "            count += 1\n",
    "    # lrc為空\n",
    "    else:\n",
    "        pass\n",
    "    return count"
   ]
  },
  {
   "cell_type": "code",
   "execution_count": 9,
   "metadata": {
    "code_folding": [],
    "scrolled": true
   },
   "outputs": [
    {
     "name": "stdout",
     "output_type": "stream",
     "text": [
      "Round:0\n",
      "Artist: Alan Walker / Count: 0\n",
      "--------------------------------------------------------------------------------\n"
     ]
    }
   ],
   "source": [
    "# 主程式抓歌曲\n",
    "count_list = []\n",
    "base = 0 #base,base+100\n",
    "for w in range(0,1):\n",
    "    print('Round:' + str(w))\n",
    "    #artist_id = '45236'\n",
    "    df_artists = import_csv('CloudMusic_csv/df_artists.csv')\n",
    "    artist_id = df_artists['artist_id'][w]\n",
    "    [song_ids, song_titles, song_url, artist_name, artist_url] = get_songs(artist_id)\n",
    "    df_songs = get_songinfo(song_ids, song_titles, song_url, artist_name)\n",
    "    count = 0\n",
    "    for i in range(len(df_songs)):\n",
    "        artistname, songname, songid = get_name_artist(df_songs, i)\n",
    "        try:\n",
    "            data = get_lyrics(songid)\n",
    "            count = save_lrc_file(data, artistname, songname, count)    \n",
    "        except:\n",
    "            pass\n",
    "    \n",
    "    count_list.append(count)\n",
    "    print('Artist: ' + artistname + ' / Count: ' + str(count))\n",
    "    print('-'*80)"
   ]
  },
  {
   "cell_type": "code",
   "execution_count": 5,
   "metadata": {},
   "outputs": [
    {
     "data": {
      "text/plain": [
       "{'code': -460, 'msg': 'Cheating'}"
      ]
     },
     "execution_count": 5,
     "metadata": {},
     "output_type": "execute_result"
    }
   ],
   "source": [
    "get_lyrics(1296410418)"
   ]
  },
  {
   "cell_type": "code",
   "execution_count": 15,
   "metadata": {},
   "outputs": [],
   "source": [
    "# 有下載到的lrc數量\n",
    "print(count_list)\n",
    "print('LRC count:',len(count_list))\n",
    "\n",
    "# 把每一位歌手抓到的lrc儲存起來並寫入csv\n",
    "with open(\"CloudMusic_csv/df_songcount.csv\", \"a\", encoding=\"utf-8\", newline='') as csvfile:\n",
    "    writer = csv.writer(csvfile)\n",
    "    Round = str(base) + '-' + str(base+100)\n",
    "    Count_list = count_list\n",
    "    #第一次寫入\n",
    "    #writer.writerow(['Round', 'Count_list'])\n",
    "    #之後寫入\n",
    "    writer.writerow([Round, Count_list])\n",
    "\n",
    "df_songcount = pd.read_csv('CloudMusic_csv/df_songcount.csv', delimiter = ',')\n",
    "df_songcount"
   ]
  },
  {
   "cell_type": "code",
   "execution_count": 60,
   "metadata": {
    "code_folding": [
     1
    ]
   },
   "outputs": [],
   "source": [
    "# 儲存音樂\n",
    "def save_mp3_file(filename, content):\n",
    "    filepath = 'CloudMusic_mp3/'+ filename\n",
    "    with open(filepath, mode = \"wb\") as f:\n",
    "        f.write(content)\n",
    "    print(filepath)"
   ]
  },
  {
   "cell_type": "code",
   "execution_count": 9,
   "metadata": {
    "code_folding": [
     1
    ]
   },
   "outputs": [],
   "source": [
    "# 下載音樂.mp3\n",
    "def download_music(songname, songid):\n",
    "    # 取得Request URL\n",
    "    url = 'http://music.163.com/song/media/outer/url?id=' + str(songid)+'.mp3'\n",
    "    response = requests.get(url)\n",
    "    content = response.content\n",
    "    # mp3檔案命名規則\n",
    "    save_mp3_file(songname + '_' + songid + '.mp3', content)"
   ]
  },
  {
   "cell_type": "code",
   "execution_count": 62,
   "metadata": {},
   "outputs": [
    {
     "name": "stdout",
     "output_type": "stream",
     "text": [
      "CloudMusic_mp3/Alan Walker_Faded.mp3\n"
     ]
    }
   ],
   "source": [
    "url = 'https://m801.music.126.net/20200113025447/8cd60d138777a13dd24f33d64be06b59/jdyyaac/520f/0158/0308/eefd2984f862ac2408b94bb0011ebcfa.m4a'\n",
    "response = requests.get(url)\n",
    "content = response.content\n",
    "save_mp3_file('Alan Walker_Faded.mp3', content)"
   ]
  }
 ],
 "metadata": {
  "kernelspec": {
   "display_name": "Python 3",
   "language": "python",
   "name": "python3"
  },
  "language_info": {
   "codemirror_mode": {
    "name": "ipython",
    "version": 3
   },
   "file_extension": ".py",
   "mimetype": "text/x-python",
   "name": "python",
   "nbconvert_exporter": "python",
   "pygments_lexer": "ipython3",
   "version": "3.6.5"
  }
 },
 "nbformat": 4,
 "nbformat_minor": 2
}
