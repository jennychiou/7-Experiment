{
 "cells": [
  {
   "cell_type": "markdown",
   "metadata": {},
   "source": [
    "**<font color = blue size=4>爬取網易雲音樂歌手熱門歌曲（更新）</font>**<br>"
   ]
  },
  {
   "cell_type": "code",
   "execution_count": 1,
   "metadata": {},
   "outputs": [],
   "source": [
    "import requests\n",
    "import csv\n",
    "from bs4 import BeautifulSoup\n",
    "from requests import RequestException\n",
    "import time"
   ]
  },
  {
   "cell_type": "code",
   "execution_count": null,
   "metadata": {},
   "outputs": [],
   "source": [
    "def parse_html_page(url):\n",
    "    \"\"\"\n",
    "    :param url: 带有歌手id的url\n",
    "    :return: 歌手的热门歌曲id以及歌曲名字\n",
    "    \"\"\"\n",
    "    # 使用双引号会出现 Unresolve reference\n",
    "    # pattern = '<span class=\"txt\"><a href=\"/song?id=(\\d*)\"><b title=\"(.*?)\">'\n",
    "    # 这里是使用lxml解析器进行解析,lxml速度快,文档容错能力强,也能使用html5lib\n",
    "    headers = {'User-Agent': 'Mozilla/5.0 (Windows NT 10.0; Win64; x64) AppleWebKit/537.36 (KHTML, like Gecko)'\n",
    "                             'Chrome/66.0.3359.181 Safari/537.36'}\n",
    "    try:\n",
    "        r = requests.get(url, headers=headers)\n",
    "        if r.status_code == 200 and r.text:\n",
    "            r.encoding = 'utf-8'\n",
    "            html = r.text\n",
    "            # 模式为：<ul class=\"f-hide\"><li><a href=\"/song?id=65766\">富士山下</a></li>\n",
    "            soup = BeautifulSoup(html, 'html5lib')\n",
    "            ul_tag = soup.find_all('ul', 'f-hide')\n",
    "            ul_tag = BeautifulSoup(str(ul_tag), 'html5lib')\n",
    "            items = ul_tag.find_all('li')\n",
    "            # 返回内容：<li><a href=\"/song?id=65766\">富士山下</a></li>\n",
    "            return items\n",
    "    except RequestException as err:\n",
    "        print(err)\n",
    "        pass\n"
   ]
  },
  {
   "cell_type": "code",
   "execution_count": null,
   "metadata": {},
   "outputs": [],
   "source": [
    "# 这里以获取薛之谦的热门歌曲为例\n",
    "# url = \"https://music.163.com/artist?id=5781\"\n",
    "# html = get_html_src(url)\n",
    "\n",
    "# 将获得的歌手的热门歌曲id和名字写入csv文件\n",
    "def write_to_csv(items, artist_name):\n",
    "\n",
    "    with open(\"music163_songs.csv\", \"a\", encoding='utf-8') as csvfile:\n",
    "        writer = csv.writer(csvfile)\n",
    "        writer.writerow([\"歌手名字\", artist_name])\n",
    "\n",
    "        for item in items:\n",
    "            writer.writerow([item.a['href'].replace('/song?id=', ''), item.a.text])\n",
    "\n",
    "            # 可视化显示\n",
    "            # print('歌曲id:', item.a['href'].replace('/song?id=', ''))\n",
    "            # song_name = item.b['title']\n",
    "            # print('歌曲名字:', song_name)\n",
    "\n",
    "    csvfile.close()"
   ]
  },
  {
   "cell_type": "code",
   "execution_count": null,
   "metadata": {},
   "outputs": [],
   "source": [
    "# 获取歌手id和歌手姓名\n",
    "def read_csv():\n",
    "\n",
    "    with open(\"music163_artists.csv\", \"r\", encoding=\"utf-8\") as csvfile:\n",
    "\n",
    "        reader = csv.reader(csvfile)\n",
    "        for row in reader:\n",
    "            artist_id, artist_name = row\n",
    "            if str(artist_id) is \"artist_id\":\n",
    "                continue\n",
    "            else:\n",
    "                yield artist_id, artist_name\n",
    "    # 当程序的控制流程离开with语句块后, 文件将自动关闭"
   ]
  },
  {
   "cell_type": "code",
   "execution_count": null,
   "metadata": {},
   "outputs": [],
   "source": [
    "def main():\n",
    "    for readcsv in read_csv():\n",
    "        artist_id, artist_name = readcsv\n",
    "        print('正在获取{}的热门歌曲'.format(artist_name))\n",
    "        url = 'https://music.163.com/artist?id=' + str(artist_id)\n",
    "        items = parse_html_page(url)\n",
    "        print('正在写入。。。')\n",
    "        write_to_csv(items, artist_name)\n",
    "        print('{}的热门歌曲获取成功！'.format(artist_name))\n",
    "        time.sleep(3)"
   ]
  },
  {
   "cell_type": "code",
   "execution_count": null,
   "metadata": {},
   "outputs": [],
   "source": [
    "if __name__ == \"__main__\":\n",
    "    main()"
   ]
  }
 ],
 "metadata": {
  "kernelspec": {
   "display_name": "Python 3",
   "language": "python",
   "name": "python3"
  },
  "language_info": {
   "codemirror_mode": {
    "name": "ipython",
    "version": 3
   },
   "file_extension": ".py",
   "mimetype": "text/x-python",
   "name": "python",
   "nbconvert_exporter": "python",
   "pygments_lexer": "ipython3",
   "version": "3.6.5"
  }
 },
 "nbformat": 4,
 "nbformat_minor": 2
}
