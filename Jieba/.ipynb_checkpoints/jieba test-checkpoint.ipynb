{
 "cells": [
  {
   "cell_type": "code",
   "execution_count": 1,
   "metadata": {},
   "outputs": [],
   "source": [
    "import pandas as pd\n",
    "import jieba"
   ]
  },
  {
   "cell_type": "code",
   "execution_count": 2,
   "metadata": {},
   "outputs": [
    {
     "name": "stderr",
     "output_type": "stream",
     "text": [
      "Building prefix dict from the default dictionary ...\n",
      "Loading model from cache C:\\Users\\JENNYC~1\\AppData\\Local\\Temp\\jieba.cache\n"
     ]
    },
    {
     "name": "stdout",
     "output_type": "stream",
     "text": [
      "Input： 今天天氣很好，老師在上課。\n",
      "\n",
      "Output：\n"
     ]
    },
    {
     "name": "stderr",
     "output_type": "stream",
     "text": [
      "Loading model cost 0.840 seconds.\n",
      "Prefix dict has been built succesfully.\n"
     ]
    },
    {
     "name": "stdout",
     "output_type": "stream",
     "text": [
      "今天\n",
      "天氣\n",
      "很\n",
      "好\n",
      "，\n",
      "老師\n",
      "在\n",
      "上\n",
      "課\n",
      "。\n"
     ]
    }
   ],
   "source": [
    "sentence = \"今天天氣很好，老師在上課。\"\n",
    "print(\"Input：\", sentence)\n",
    "words = jieba.cut(sentence, cut_all=False)\n",
    "print(\"\\nOutput：\")\n",
    "for word in words:\n",
    "    print(word)"
   ]
  },
  {
   "cell_type": "code",
   "execution_count": 19,
   "metadata": {},
   "outputs": [
    {
     "data": {
      "text/html": [
       "<div>\n",
       "<style scoped>\n",
       "    .dataframe tbody tr th:only-of-type {\n",
       "        vertical-align: middle;\n",
       "    }\n",
       "\n",
       "    .dataframe tbody tr th {\n",
       "        vertical-align: top;\n",
       "    }\n",
       "\n",
       "    .dataframe thead th {\n",
       "        text-align: right;\n",
       "    }\n",
       "</style>\n",
       "<table border=\"1\" class=\"dataframe\">\n",
       "  <thead>\n",
       "    <tr style=\"text-align: right;\">\n",
       "      <th></th>\n",
       "      <th>groups</th>\n",
       "      <th>number</th>\n",
       "    </tr>\n",
       "  </thead>\n",
       "  <tbody>\n",
       "    <tr>\n",
       "      <td>0</td>\n",
       "      <td>一般機器學習</td>\n",
       "      <td>59</td>\n",
       "    </tr>\n",
       "    <tr>\n",
       "      <td>1</td>\n",
       "      <td>人工智慧</td>\n",
       "      <td>9</td>\n",
       "    </tr>\n",
       "    <tr>\n",
       "      <td>2</td>\n",
       "      <td>深度學習</td>\n",
       "      <td>19</td>\n",
       "    </tr>\n",
       "    <tr>\n",
       "      <td>3</td>\n",
       "      <td>自我挑戰組</td>\n",
       "      <td>14</td>\n",
       "    </tr>\n",
       "  </tbody>\n",
       "</table>\n",
       "</div>"
      ],
      "text/plain": [
       "   groups  number\n",
       "0  一般機器學習      59\n",
       "1    人工智慧       9\n",
       "2    深度學習      19\n",
       "3   自我挑戰組      14"
      ]
     },
     "execution_count": 19,
     "metadata": {},
     "output_type": "execute_result"
    }
   ],
   "source": [
    "groups = [\"一般機器學習\", \"人工智慧\", \"深度學習\", \"自我挑戰組\"]\n",
    "number = [59, 9, 19, 14]\n",
    "givedict = {\"groups\": groups,\"number\": number}\n",
    "df = pd.DataFrame(givedict)\n",
    "df"
   ]
  },
  {
   "cell_type": "code",
   "execution_count": 23,
   "metadata": {},
   "outputs": [],
   "source": [
    "stopwords_path='stopwords-master/中文停用词表.txt'\n",
    "stopwords = []\n",
    "with open(stopwords_path, 'r', encoding='utf-8') as f:\n",
    "    for line in f:\n",
    "        if len(line)>0:\n",
    "            stopwords.append(line.strip())\n",
    "#stopwords"
   ]
  },
  {
   "cell_type": "code",
   "execution_count": 21,
   "metadata": {},
   "outputs": [
    {
     "name": "stdout",
     "output_type": "stream",
     "text": [
      "['機器', '學習']\n",
      "['人工智慧']\n",
      "['深度', '學習']\n",
      "['自我', '挑戰組']\n"
     ]
    }
   ],
   "source": [
    "#把情境欄位底下的資料放到L\n",
    "L = []\n",
    "for i in range(0,len(df)):   \n",
    "    words = df[\"groups\"][i]\n",
    "    L.append(words)\n",
    "#print(L)\n",
    "\n",
    "for j in range(len(L)):\n",
    "    segments = jieba.cut(L[j], cut_all=False)\n",
    "    result=[]\n",
    "    for word in segments:\n",
    "        if word not in stopwords:\n",
    "            result.append(word)\n",
    "    print(result)"
   ]
  },
  {
   "cell_type": "code",
   "execution_count": null,
   "metadata": {},
   "outputs": [],
   "source": []
  }
 ],
 "metadata": {
  "kernelspec": {
   "display_name": "Python 3",
   "language": "python",
   "name": "python3"
  },
  "language_info": {
   "codemirror_mode": {
    "name": "ipython",
    "version": 3
   },
   "file_extension": ".py",
   "mimetype": "text/x-python",
   "name": "python",
   "nbconvert_exporter": "python",
   "pygments_lexer": "ipython3",
   "version": "3.7.4"
  }
 },
 "nbformat": 4,
 "nbformat_minor": 2
}
