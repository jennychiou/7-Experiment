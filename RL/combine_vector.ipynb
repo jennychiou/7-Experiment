{
 "cells": [
  {
   "cell_type": "code",
   "execution_count": 12,
   "metadata": {},
   "outputs": [],
   "source": [
    "import pandas as pd\n",
    "import numpy as np\n",
    "import ast\n",
    "from ast import literal_eval\n",
    "import json\n",
    "import csv"
   ]
  },
  {
   "cell_type": "code",
   "execution_count": 13,
   "metadata": {},
   "outputs": [
    {
     "data": {
      "text/html": [
       "<div>\n",
       "<style scoped>\n",
       "    .dataframe tbody tr th:only-of-type {\n",
       "        vertical-align: middle;\n",
       "    }\n",
       "\n",
       "    .dataframe tbody tr th {\n",
       "        vertical-align: top;\n",
       "    }\n",
       "\n",
       "    .dataframe thead th {\n",
       "        text-align: right;\n",
       "    }\n",
       "</style>\n",
       "<table border=\"1\" class=\"dataframe\">\n",
       "  <thead>\n",
       "    <tr style=\"text-align: right;\">\n",
       "      <th></th>\n",
       "      <th>track_id</th>\n",
       "      <th>audio_vector</th>\n",
       "      <th>lyrics_vector</th>\n",
       "    </tr>\n",
       "  </thead>\n",
       "  <tbody>\n",
       "    <tr>\n",
       "      <th>0</th>\n",
       "      <td>000xQL6tZNLJzIrtIgxqSl</td>\n",
       "      <td>[5.05697608e-01,1.44482636e+00,2.74840772e-01,...</td>\n",
       "      <td>[-0.01375247,-0.40608048,0.40581351,0.0454139,...</td>\n",
       "    </tr>\n",
       "    <tr>\n",
       "      <th>1</th>\n",
       "      <td>00518PumkDdn560MsfLofT</td>\n",
       "      <td>[4.21763748e-01,1.39691150e+00,3.11115861e-01,...</td>\n",
       "      <td>[-7.64776877e-02,-4.59797496e-01,1.41140302e-0...</td>\n",
       "    </tr>\n",
       "    <tr>\n",
       "      <th>2</th>\n",
       "      <td>009ImBOrIUlWgla8U05RAC</td>\n",
       "      <td>[1.61179543e-01,3.98339182e-01,1.86677352e-01,...</td>\n",
       "      <td>[-0.18104931,-0.47246411,0.13491175,0.08737353...</td>\n",
       "    </tr>\n",
       "    <tr>\n",
       "      <th>3</th>\n",
       "      <td>00AJ22EiTqG74qdgHVKVDM</td>\n",
       "      <td>[3.00435424e-01,9.14957762e-01,1.92792639e-01,...</td>\n",
       "      <td>[-0.02924433,-0.0005412,0.03182478,0.00927059,...</td>\n",
       "    </tr>\n",
       "    <tr>\n",
       "      <th>4</th>\n",
       "      <td>00AlGnzeNVYmilww5OFUw8</td>\n",
       "      <td>[4.26878363e-01,1.32919753e+00,2.73250163e-01,...</td>\n",
       "      <td>[-0.20881731,-0.40633695,0.23420081,-0.0116102...</td>\n",
       "    </tr>\n",
       "    <tr>\n",
       "      <th>5</th>\n",
       "      <td>00BnfL75e8vHSGCmwUWbEk</td>\n",
       "      <td>[7.04743803e-01,1.75978565e+00,2.93366253e-01,...</td>\n",
       "      <td>[7.67118021e-02,-3.98475011e-01,3.38390140e-02...</td>\n",
       "    </tr>\n",
       "    <tr>\n",
       "      <th>6</th>\n",
       "      <td>00bvlMH8B6w5kDWZjNa05M</td>\n",
       "      <td>[1.93669021e-01,7.64253438e-01,2.55924970e-01,...</td>\n",
       "      <td>[-2.18362452e-01,-5.67300941e-01,-1.35802645e-...</td>\n",
       "    </tr>\n",
       "    <tr>\n",
       "      <th>7</th>\n",
       "      <td>00EQTISBxvGLzB36hiOYMd</td>\n",
       "      <td>[3.17234546e-01,9.53515828e-01,2.12027341e-01,...</td>\n",
       "      <td>[-0.12928441,-0.43845142,0.32496093,0.24945222...</td>\n",
       "    </tr>\n",
       "    <tr>\n",
       "      <th>8</th>\n",
       "      <td>00f9VGHfQhAHMCQ2bSjg3D</td>\n",
       "      <td>[2.81038374e-01,8.63508999e-01,2.12356120e-01,...</td>\n",
       "      <td>[-0.26658124,-0.57827297,0.41657594,-0.0650521...</td>\n",
       "    </tr>\n",
       "    <tr>\n",
       "      <th>9</th>\n",
       "      <td>00GNc5ebF0onJaDp9Ey8bn</td>\n",
       "      <td>[3.10484201e-01,1.03498864e+00,2.75978088e-01,...</td>\n",
       "      <td>[-0.10106129,-0.35067003,0.2371372,0.25461237,...</td>\n",
       "    </tr>\n",
       "  </tbody>\n",
       "</table>\n",
       "</div>"
      ],
      "text/plain": [
       "                 track_id                                       audio_vector  \\\n",
       "0  000xQL6tZNLJzIrtIgxqSl  [5.05697608e-01,1.44482636e+00,2.74840772e-01,...   \n",
       "1  00518PumkDdn560MsfLofT  [4.21763748e-01,1.39691150e+00,3.11115861e-01,...   \n",
       "2  009ImBOrIUlWgla8U05RAC  [1.61179543e-01,3.98339182e-01,1.86677352e-01,...   \n",
       "3  00AJ22EiTqG74qdgHVKVDM  [3.00435424e-01,9.14957762e-01,1.92792639e-01,...   \n",
       "4  00AlGnzeNVYmilww5OFUw8  [4.26878363e-01,1.32919753e+00,2.73250163e-01,...   \n",
       "5  00BnfL75e8vHSGCmwUWbEk  [7.04743803e-01,1.75978565e+00,2.93366253e-01,...   \n",
       "6  00bvlMH8B6w5kDWZjNa05M  [1.93669021e-01,7.64253438e-01,2.55924970e-01,...   \n",
       "7  00EQTISBxvGLzB36hiOYMd  [3.17234546e-01,9.53515828e-01,2.12027341e-01,...   \n",
       "8  00f9VGHfQhAHMCQ2bSjg3D  [2.81038374e-01,8.63508999e-01,2.12356120e-01,...   \n",
       "9  00GNc5ebF0onJaDp9Ey8bn  [3.10484201e-01,1.03498864e+00,2.75978088e-01,...   \n",
       "\n",
       "                                       lyrics_vector  \n",
       "0  [-0.01375247,-0.40608048,0.40581351,0.0454139,...  \n",
       "1  [-7.64776877e-02,-4.59797496e-01,1.41140302e-0...  \n",
       "2  [-0.18104931,-0.47246411,0.13491175,0.08737353...  \n",
       "3  [-0.02924433,-0.0005412,0.03182478,0.00927059,...  \n",
       "4  [-0.20881731,-0.40633695,0.23420081,-0.0116102...  \n",
       "5  [7.67118021e-02,-3.98475011e-01,3.38390140e-02...  \n",
       "6  [-2.18362452e-01,-5.67300941e-01,-1.35802645e-...  \n",
       "7  [-0.12928441,-0.43845142,0.32496093,0.24945222...  \n",
       "8  [-0.26658124,-0.57827297,0.41657594,-0.0650521...  \n",
       "9  [-0.10106129,-0.35067003,0.2371372,0.25461237,...  "
      ]
     },
     "execution_count": 13,
     "metadata": {},
     "output_type": "execute_result"
    }
   ],
   "source": [
    "df1 = pd.read_csv('audiolyrics_vecter_final_0720.csv')\n",
    "df2 = df1.drop(\"Unnamed: 0\", axis = 1)\n",
    "df2.head(10)"
   ]
  },
  {
   "cell_type": "code",
   "execution_count": 14,
   "metadata": {},
   "outputs": [
    {
     "data": {
      "text/plain": [
       "11329"
      ]
     },
     "execution_count": 14,
     "metadata": {},
     "output_type": "execute_result"
    }
   ],
   "source": [
    "len(df2)"
   ]
  },
  {
   "cell_type": "code",
   "execution_count": 15,
   "metadata": {},
   "outputs": [
    {
     "data": {
      "text/html": [
       "<div>\n",
       "<style scoped>\n",
       "    .dataframe tbody tr th:only-of-type {\n",
       "        vertical-align: middle;\n",
       "    }\n",
       "\n",
       "    .dataframe tbody tr th {\n",
       "        vertical-align: top;\n",
       "    }\n",
       "\n",
       "    .dataframe thead th {\n",
       "        text-align: right;\n",
       "    }\n",
       "</style>\n",
       "<table border=\"1\" class=\"dataframe\">\n",
       "  <thead>\n",
       "    <tr style=\"text-align: right;\">\n",
       "      <th></th>\n",
       "      <th>track_id</th>\n",
       "      <th>audio_vector</th>\n",
       "      <th>lyrics_vector</th>\n",
       "      <th>vector</th>\n",
       "    </tr>\n",
       "  </thead>\n",
       "  <tbody>\n",
       "    <tr>\n",
       "      <th>0</th>\n",
       "      <td>000xQL6tZNLJzIrtIgxqSl</td>\n",
       "      <td>[5.05697608e-01,1.44482636e+00,2.74840772e-01,...</td>\n",
       "      <td>[-0.01375247,-0.40608048,0.40581351,0.0454139,...</td>\n",
       "      <td></td>\n",
       "    </tr>\n",
       "    <tr>\n",
       "      <th>1</th>\n",
       "      <td>00518PumkDdn560MsfLofT</td>\n",
       "      <td>[4.21763748e-01,1.39691150e+00,3.11115861e-01,...</td>\n",
       "      <td>[-7.64776877e-02,-4.59797496e-01,1.41140302e-0...</td>\n",
       "      <td></td>\n",
       "    </tr>\n",
       "    <tr>\n",
       "      <th>2</th>\n",
       "      <td>009ImBOrIUlWgla8U05RAC</td>\n",
       "      <td>[1.61179543e-01,3.98339182e-01,1.86677352e-01,...</td>\n",
       "      <td>[-0.18104931,-0.47246411,0.13491175,0.08737353...</td>\n",
       "      <td></td>\n",
       "    </tr>\n",
       "    <tr>\n",
       "      <th>3</th>\n",
       "      <td>00AJ22EiTqG74qdgHVKVDM</td>\n",
       "      <td>[3.00435424e-01,9.14957762e-01,1.92792639e-01,...</td>\n",
       "      <td>[-0.02924433,-0.0005412,0.03182478,0.00927059,...</td>\n",
       "      <td></td>\n",
       "    </tr>\n",
       "    <tr>\n",
       "      <th>4</th>\n",
       "      <td>00AlGnzeNVYmilww5OFUw8</td>\n",
       "      <td>[4.26878363e-01,1.32919753e+00,2.73250163e-01,...</td>\n",
       "      <td>[-0.20881731,-0.40633695,0.23420081,-0.0116102...</td>\n",
       "      <td></td>\n",
       "    </tr>\n",
       "  </tbody>\n",
       "</table>\n",
       "</div>"
      ],
      "text/plain": [
       "                 track_id                                       audio_vector  \\\n",
       "0  000xQL6tZNLJzIrtIgxqSl  [5.05697608e-01,1.44482636e+00,2.74840772e-01,...   \n",
       "1  00518PumkDdn560MsfLofT  [4.21763748e-01,1.39691150e+00,3.11115861e-01,...   \n",
       "2  009ImBOrIUlWgla8U05RAC  [1.61179543e-01,3.98339182e-01,1.86677352e-01,...   \n",
       "3  00AJ22EiTqG74qdgHVKVDM  [3.00435424e-01,9.14957762e-01,1.92792639e-01,...   \n",
       "4  00AlGnzeNVYmilww5OFUw8  [4.26878363e-01,1.32919753e+00,2.73250163e-01,...   \n",
       "\n",
       "                                       lyrics_vector vector  \n",
       "0  [-0.01375247,-0.40608048,0.40581351,0.0454139,...         \n",
       "1  [-7.64776877e-02,-4.59797496e-01,1.41140302e-0...         \n",
       "2  [-0.18104931,-0.47246411,0.13491175,0.08737353...         \n",
       "3  [-0.02924433,-0.0005412,0.03182478,0.00927059,...         \n",
       "4  [-0.20881731,-0.40633695,0.23420081,-0.0116102...         "
      ]
     },
     "execution_count": 15,
     "metadata": {},
     "output_type": "execute_result"
    }
   ],
   "source": [
    "df2['vector'] = ''\n",
    "df2.head()"
   ]
  },
  {
   "cell_type": "code",
   "execution_count": 20,
   "metadata": {},
   "outputs": [
    {
     "name": "stdout",
     "output_type": "stream",
     "text": [
      "audio_vector DIM =  48\n",
      "lyrics_vector DIM =  300\n",
      "hybrid_vector DIM =  348\n",
      "<class 'list'>\n",
      "<class 'list'>\n",
      "<class 'list'>\n"
     ]
    }
   ],
   "source": [
    "L = []\n",
    "\n",
    "for i in range(0,len(df2)):\n",
    "    a_vec = df2['audio_vector'][i]\n",
    "    a_vec_L = ast.literal_eval(a_vec)\n",
    "    \n",
    "           \n",
    "    l_vec = df2['lyrics_vector'][i]\n",
    "    l_vec_L = ast.literal_eval(l_vec)\n",
    "    \n",
    "    df2['vector'][i] = a_vec_L + l_vec_L\n",
    "    \n",
    "    L.append(df2['vector'][i])\n",
    "    \n",
    "    if i == 0:\n",
    "        print('audio_vector DIM = ',len(a_vec_L))\n",
    "        print('lyrics_vector DIM = ',len(l_vec_L))\n",
    "        print('hybrid_vector DIM = ',len(df2['vector'][0]))\n",
    "        \n",
    "print(type(a_vec_L))\n",
    "print(type(l_vec_L))\n",
    "print(type(df2['vector'][0]))"
   ]
  },
  {
   "cell_type": "code",
   "execution_count": 21,
   "metadata": {},
   "outputs": [
    {
     "data": {
      "text/plain": [
       "11329"
      ]
     },
     "execution_count": 21,
     "metadata": {},
     "output_type": "execute_result"
    }
   ],
   "source": [
    "len(L)"
   ]
  },
  {
   "cell_type": "code",
   "execution_count": 22,
   "metadata": {},
   "outputs": [
    {
     "data": {
      "text/html": [
       "<div>\n",
       "<style scoped>\n",
       "    .dataframe tbody tr th:only-of-type {\n",
       "        vertical-align: middle;\n",
       "    }\n",
       "\n",
       "    .dataframe tbody tr th {\n",
       "        vertical-align: top;\n",
       "    }\n",
       "\n",
       "    .dataframe thead th {\n",
       "        text-align: right;\n",
       "    }\n",
       "</style>\n",
       "<table border=\"1\" class=\"dataframe\">\n",
       "  <thead>\n",
       "    <tr style=\"text-align: right;\">\n",
       "      <th></th>\n",
       "      <th>track_id</th>\n",
       "      <th>audio_vector</th>\n",
       "      <th>lyrics_vector</th>\n",
       "      <th>vector</th>\n",
       "    </tr>\n",
       "  </thead>\n",
       "  <tbody>\n",
       "    <tr>\n",
       "      <th>0</th>\n",
       "      <td>000xQL6tZNLJzIrtIgxqSl</td>\n",
       "      <td>[5.05697608e-01,1.44482636e+00,2.74840772e-01,...</td>\n",
       "      <td>[-0.01375247,-0.40608048,0.40581351,0.0454139,...</td>\n",
       "      <td>[0.505697608, 1.44482636, 0.274840772, 0.85332...</td>\n",
       "    </tr>\n",
       "    <tr>\n",
       "      <th>1</th>\n",
       "      <td>00518PumkDdn560MsfLofT</td>\n",
       "      <td>[4.21763748e-01,1.39691150e+00,3.11115861e-01,...</td>\n",
       "      <td>[-7.64776877e-02,-4.59797496e-01,1.41140302e-0...</td>\n",
       "      <td>[0.421763748, 1.3969115, 0.311115861, 0.919776...</td>\n",
       "    </tr>\n",
       "    <tr>\n",
       "      <th>2</th>\n",
       "      <td>009ImBOrIUlWgla8U05RAC</td>\n",
       "      <td>[1.61179543e-01,3.98339182e-01,1.86677352e-01,...</td>\n",
       "      <td>[-0.18104931,-0.47246411,0.13491175,0.08737353...</td>\n",
       "      <td>[0.161179543, 0.398339182, 0.186677352, 0.3131...</td>\n",
       "    </tr>\n",
       "    <tr>\n",
       "      <th>3</th>\n",
       "      <td>00AJ22EiTqG74qdgHVKVDM</td>\n",
       "      <td>[3.00435424e-01,9.14957762e-01,1.92792639e-01,...</td>\n",
       "      <td>[-0.02924433,-0.0005412,0.03182478,0.00927059,...</td>\n",
       "      <td>[0.300435424, 0.914957762, 0.192792639, 0.5927...</td>\n",
       "    </tr>\n",
       "    <tr>\n",
       "      <th>4</th>\n",
       "      <td>00AlGnzeNVYmilww5OFUw8</td>\n",
       "      <td>[4.26878363e-01,1.32919753e+00,2.73250163e-01,...</td>\n",
       "      <td>[-0.20881731,-0.40633695,0.23420081,-0.0116102...</td>\n",
       "      <td>[0.426878363, 1.32919753, 0.273250163, 0.84752...</td>\n",
       "    </tr>\n",
       "  </tbody>\n",
       "</table>\n",
       "</div>"
      ],
      "text/plain": [
       "                 track_id                                       audio_vector  \\\n",
       "0  000xQL6tZNLJzIrtIgxqSl  [5.05697608e-01,1.44482636e+00,2.74840772e-01,...   \n",
       "1  00518PumkDdn560MsfLofT  [4.21763748e-01,1.39691150e+00,3.11115861e-01,...   \n",
       "2  009ImBOrIUlWgla8U05RAC  [1.61179543e-01,3.98339182e-01,1.86677352e-01,...   \n",
       "3  00AJ22EiTqG74qdgHVKVDM  [3.00435424e-01,9.14957762e-01,1.92792639e-01,...   \n",
       "4  00AlGnzeNVYmilww5OFUw8  [4.26878363e-01,1.32919753e+00,2.73250163e-01,...   \n",
       "\n",
       "                                       lyrics_vector  \\\n",
       "0  [-0.01375247,-0.40608048,0.40581351,0.0454139,...   \n",
       "1  [-7.64776877e-02,-4.59797496e-01,1.41140302e-0...   \n",
       "2  [-0.18104931,-0.47246411,0.13491175,0.08737353...   \n",
       "3  [-0.02924433,-0.0005412,0.03182478,0.00927059,...   \n",
       "4  [-0.20881731,-0.40633695,0.23420081,-0.0116102...   \n",
       "\n",
       "                                              vector  \n",
       "0  [0.505697608, 1.44482636, 0.274840772, 0.85332...  \n",
       "1  [0.421763748, 1.3969115, 0.311115861, 0.919776...  \n",
       "2  [0.161179543, 0.398339182, 0.186677352, 0.3131...  \n",
       "3  [0.300435424, 0.914957762, 0.192792639, 0.5927...  \n",
       "4  [0.426878363, 1.32919753, 0.273250163, 0.84752...  "
      ]
     },
     "execution_count": 22,
     "metadata": {},
     "output_type": "execute_result"
    }
   ],
   "source": [
    "df2.head()"
   ]
  },
  {
   "cell_type": "code",
   "execution_count": 24,
   "metadata": {},
   "outputs": [],
   "source": [
    "df2.to_csv('combine_vector.csv',columns=['track_id','audio_vector','lyrics_vector','vector'])"
   ]
  },
  {
   "cell_type": "code",
   "execution_count": null,
   "metadata": {},
   "outputs": [],
   "source": []
  }
 ],
 "metadata": {
  "kernelspec": {
   "display_name": "Python 3",
   "language": "python",
   "name": "python3"
  },
  "language_info": {
   "codemirror_mode": {
    "name": "ipython",
    "version": 3
   },
   "file_extension": ".py",
   "mimetype": "text/x-python",
   "name": "python",
   "nbconvert_exporter": "python",
   "pygments_lexer": "ipython3",
   "version": "3.6.7"
  }
 },
 "nbformat": 4,
 "nbformat_minor": 2
}
