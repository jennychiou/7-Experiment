{
 "cells": [
  {
   "cell_type": "code",
   "execution_count": 1,
   "metadata": {},
   "outputs": [],
   "source": [
    "import pandas as pd\n",
    "import numpy as np\n",
    "import ast\n",
    "from sklearn.cluster import DBSCAN\n",
    "from ast import literal_eval"
   ]
  },
  {
   "cell_type": "code",
   "execution_count": 84,
   "metadata": {
    "collapsed": true
   },
   "outputs": [
    {
     "data": {
      "text/html": [
       "<div>\n",
       "<style scoped>\n",
       "    .dataframe tbody tr th:only-of-type {\n",
       "        vertical-align: middle;\n",
       "    }\n",
       "\n",
       "    .dataframe tbody tr th {\n",
       "        vertical-align: top;\n",
       "    }\n",
       "\n",
       "    .dataframe thead th {\n",
       "        text-align: right;\n",
       "    }\n",
       "</style>\n",
       "<table border=\"1\" class=\"dataframe\">\n",
       "  <thead>\n",
       "    <tr style=\"text-align: right;\">\n",
       "      <th></th>\n",
       "      <th>track_id</th>\n",
       "      <th>audio_vector</th>\n",
       "      <th>lyrics_vector</th>\n",
       "    </tr>\n",
       "  </thead>\n",
       "  <tbody>\n",
       "    <tr>\n",
       "      <th>0</th>\n",
       "      <td>000xQL6tZNLJzIrtIgxqSl</td>\n",
       "      <td>[ 5.05697608e-01  1.44482636e+00  2.74840772e-...</td>\n",
       "      <td>[-0.01375247 -0.40608048  0.40581351  0.045413...</td>\n",
       "    </tr>\n",
       "    <tr>\n",
       "      <th>1</th>\n",
       "      <td>00518PumkDdn560MsfLofT</td>\n",
       "      <td>[ 4.21763748e-01  1.39691150e+00  3.11115861e-...</td>\n",
       "      <td>[-7.64776877e-02 -4.59797496e-01  1.41140302e-...</td>\n",
       "    </tr>\n",
       "    <tr>\n",
       "      <th>2</th>\n",
       "      <td>009ImBOrIUlWgla8U05RAC</td>\n",
       "      <td>[ 1.61179543e-01  3.98339182e-01  1.86677352e-...</td>\n",
       "      <td>[-0.18104931 -0.47246411  0.13491175  0.087373...</td>\n",
       "    </tr>\n",
       "    <tr>\n",
       "      <th>3</th>\n",
       "      <td>00AJ22EiTqG74qdgHVKVDM</td>\n",
       "      <td>[ 3.00435424e-01  9.14957762e-01  1.92792639e-...</td>\n",
       "      <td>[-0.02924433 -0.0005412   0.03182478  0.009270...</td>\n",
       "    </tr>\n",
       "    <tr>\n",
       "      <th>4</th>\n",
       "      <td>00AlGnzeNVYmilww5OFUw8</td>\n",
       "      <td>[ 4.26878363e-01  1.32919753e+00  2.73250163e-...</td>\n",
       "      <td>[-0.20881731 -0.40633695  0.23420081 -0.011610...</td>\n",
       "    </tr>\n",
       "  </tbody>\n",
       "</table>\n",
       "</div>"
      ],
      "text/plain": [
       "                 track_id                                       audio_vector  \\\n",
       "0  000xQL6tZNLJzIrtIgxqSl  [ 5.05697608e-01  1.44482636e+00  2.74840772e-...   \n",
       "1  00518PumkDdn560MsfLofT  [ 4.21763748e-01  1.39691150e+00  3.11115861e-...   \n",
       "2  009ImBOrIUlWgla8U05RAC  [ 1.61179543e-01  3.98339182e-01  1.86677352e-...   \n",
       "3  00AJ22EiTqG74qdgHVKVDM  [ 3.00435424e-01  9.14957762e-01  1.92792639e-...   \n",
       "4  00AlGnzeNVYmilww5OFUw8  [ 4.26878363e-01  1.32919753e+00  2.73250163e-...   \n",
       "\n",
       "                                       lyrics_vector  \n",
       "0  [-0.01375247 -0.40608048  0.40581351  0.045413...  \n",
       "1  [-7.64776877e-02 -4.59797496e-01  1.41140302e-...  \n",
       "2  [-0.18104931 -0.47246411  0.13491175  0.087373...  \n",
       "3  [-0.02924433 -0.0005412   0.03182478  0.009270...  \n",
       "4  [-0.20881731 -0.40633695  0.23420081 -0.011610...  "
      ]
     },
     "execution_count": 84,
     "metadata": {},
     "output_type": "execute_result"
    }
   ],
   "source": [
    "music_df = pd.read_csv('audiolyrics_vecter_final.csv')\n",
    "music_df.head()"
   ]
  },
  {
   "cell_type": "code",
   "execution_count": 85,
   "metadata": {},
   "outputs": [
    {
     "name": "stdout",
     "output_type": "stream",
     "text": [
      "audio_vector     object\n",
      "lyrics_vector    object\n",
      "dtype: object\n"
     ]
    },
    {
     "data": {
      "text/html": [
       "<div>\n",
       "<style scoped>\n",
       "    .dataframe tbody tr th:only-of-type {\n",
       "        vertical-align: middle;\n",
       "    }\n",
       "\n",
       "    .dataframe tbody tr th {\n",
       "        vertical-align: top;\n",
       "    }\n",
       "\n",
       "    .dataframe thead th {\n",
       "        text-align: right;\n",
       "    }\n",
       "</style>\n",
       "<table border=\"1\" class=\"dataframe\">\n",
       "  <thead>\n",
       "    <tr style=\"text-align: right;\">\n",
       "      <th></th>\n",
       "      <th>audio_vector</th>\n",
       "      <th>lyrics_vector</th>\n",
       "    </tr>\n",
       "  </thead>\n",
       "  <tbody>\n",
       "    <tr>\n",
       "      <th>0</th>\n",
       "      <td>[ 5.05697608e-01  1.44482636e+00  2.74840772e-...</td>\n",
       "      <td>[-0.01375247 -0.40608048  0.40581351  0.045413...</td>\n",
       "    </tr>\n",
       "    <tr>\n",
       "      <th>1</th>\n",
       "      <td>[ 4.21763748e-01  1.39691150e+00  3.11115861e-...</td>\n",
       "      <td>[-7.64776877e-02 -4.59797496e-01  1.41140302e-...</td>\n",
       "    </tr>\n",
       "    <tr>\n",
       "      <th>2</th>\n",
       "      <td>[ 1.61179543e-01  3.98339182e-01  1.86677352e-...</td>\n",
       "      <td>[-0.18104931 -0.47246411  0.13491175  0.087373...</td>\n",
       "    </tr>\n",
       "    <tr>\n",
       "      <th>3</th>\n",
       "      <td>[ 3.00435424e-01  9.14957762e-01  1.92792639e-...</td>\n",
       "      <td>[-0.02924433 -0.0005412   0.03182478  0.009270...</td>\n",
       "    </tr>\n",
       "    <tr>\n",
       "      <th>4</th>\n",
       "      <td>[ 4.26878363e-01  1.32919753e+00  2.73250163e-...</td>\n",
       "      <td>[-0.20881731 -0.40633695  0.23420081 -0.011610...</td>\n",
       "    </tr>\n",
       "  </tbody>\n",
       "</table>\n",
       "</div>"
      ],
      "text/plain": [
       "                                        audio_vector  \\\n",
       "0  [ 5.05697608e-01  1.44482636e+00  2.74840772e-...   \n",
       "1  [ 4.21763748e-01  1.39691150e+00  3.11115861e-...   \n",
       "2  [ 1.61179543e-01  3.98339182e-01  1.86677352e-...   \n",
       "3  [ 3.00435424e-01  9.14957762e-01  1.92792639e-...   \n",
       "4  [ 4.26878363e-01  1.32919753e+00  2.73250163e-...   \n",
       "\n",
       "                                       lyrics_vector  \n",
       "0  [-0.01375247 -0.40608048  0.40581351  0.045413...  \n",
       "1  [-7.64776877e-02 -4.59797496e-01  1.41140302e-...  \n",
       "2  [-0.18104931 -0.47246411  0.13491175  0.087373...  \n",
       "3  [-0.02924433 -0.0005412   0.03182478  0.009270...  \n",
       "4  [-0.20881731 -0.40633695  0.23420081 -0.011610...  "
      ]
     },
     "execution_count": 85,
     "metadata": {},
     "output_type": "execute_result"
    }
   ],
   "source": [
    "music_df2 = music_df.drop(\"track_id\", axis = 1)\n",
    "print(music_df2.dtypes)\n",
    "music_df2.head()"
   ]
  },
  {
   "cell_type": "code",
   "execution_count": 86,
   "metadata": {},
   "outputs": [
    {
     "data": {
      "text/plain": [
       "11330"
      ]
     },
     "execution_count": 86,
     "metadata": {},
     "output_type": "execute_result"
    }
   ],
   "source": [
    "len(music_df2)"
   ]
  },
  {
   "cell_type": "code",
   "execution_count": 87,
   "metadata": {
    "collapsed": true
   },
   "outputs": [
    {
     "name": "stdout",
     "output_type": "stream",
     "text": [
      "11330\n"
     ]
    },
    {
     "data": {
      "text/html": [
       "<div>\n",
       "<style scoped>\n",
       "    .dataframe tbody tr th:only-of-type {\n",
       "        vertical-align: middle;\n",
       "    }\n",
       "\n",
       "    .dataframe tbody tr th {\n",
       "        vertical-align: top;\n",
       "    }\n",
       "\n",
       "    .dataframe thead th {\n",
       "        text-align: right;\n",
       "    }\n",
       "</style>\n",
       "<table border=\"1\" class=\"dataframe\">\n",
       "  <thead>\n",
       "    <tr style=\"text-align: right;\">\n",
       "      <th></th>\n",
       "      <th>audio_vector</th>\n",
       "      <th>lyrics_vector</th>\n",
       "    </tr>\n",
       "  </thead>\n",
       "  <tbody>\n",
       "    <tr>\n",
       "      <th>0</th>\n",
       "      <td>[5.05697608e-01,1.44482636e+00,2.74840772e-01,...</td>\n",
       "      <td>[-0.01375247,-0.40608048,0.40581351,0.0454139,...</td>\n",
       "    </tr>\n",
       "    <tr>\n",
       "      <th>1</th>\n",
       "      <td>[4.21763748e-01,1.39691150e+00,3.11115861e-01,...</td>\n",
       "      <td>[-7.64776877e-02,-4.59797496e-01,1.41140302e-0...</td>\n",
       "    </tr>\n",
       "    <tr>\n",
       "      <th>2</th>\n",
       "      <td>[1.61179543e-01,3.98339182e-01,1.86677352e-01,...</td>\n",
       "      <td>[-0.18104931,-0.47246411,0.13491175,0.08737353...</td>\n",
       "    </tr>\n",
       "    <tr>\n",
       "      <th>3</th>\n",
       "      <td>[3.00435424e-01,9.14957762e-01,1.92792639e-01,...</td>\n",
       "      <td>[-0.02924433,-0.0005412,0.03182478,0.00927059,...</td>\n",
       "    </tr>\n",
       "    <tr>\n",
       "      <th>4</th>\n",
       "      <td>[4.26878363e-01,1.32919753e+00,2.73250163e-01,...</td>\n",
       "      <td>[-0.20881731,-0.40633695,0.23420081,-0.0116102...</td>\n",
       "    </tr>\n",
       "    <tr>\n",
       "      <th>5</th>\n",
       "      <td>[7.04743803e-01,1.75978565e+00,2.93366253e-01,...</td>\n",
       "      <td>[7.67118021e-02,-3.98475011e-01,3.38390140e-02...</td>\n",
       "    </tr>\n",
       "    <tr>\n",
       "      <th>6</th>\n",
       "      <td>[1.93669021e-01,7.64253438e-01,2.55924970e-01,...</td>\n",
       "      <td>[-2.18362452e-01,-5.67300941e-01,-1.35802645e-...</td>\n",
       "    </tr>\n",
       "    <tr>\n",
       "      <th>7</th>\n",
       "      <td>[3.17234546e-01,9.53515828e-01,2.12027341e-01,...</td>\n",
       "      <td>[-0.12928441,-0.43845142,0.32496093,0.24945222...</td>\n",
       "    </tr>\n",
       "    <tr>\n",
       "      <th>8</th>\n",
       "      <td>[2.81038374e-01,8.63508999e-01,2.12356120e-01,...</td>\n",
       "      <td>[-0.26658124,-0.57827297,0.41657594,-0.0650521...</td>\n",
       "    </tr>\n",
       "    <tr>\n",
       "      <th>9</th>\n",
       "      <td>[3.10484201e-01,1.03498864e+00,2.75978088e-01,...</td>\n",
       "      <td>[-0.10106129,-0.35067003,0.2371372,0.25461237,...</td>\n",
       "    </tr>\n",
       "    <tr>\n",
       "      <th>10</th>\n",
       "      <td>[1.46047473e-01,3.83050650e-01,1.80057213e-01,...</td>\n",
       "      <td>[-1.27998563e-01,-5.36800436e-01,-1.46231134e-...</td>\n",
       "    </tr>\n",
       "    <tr>\n",
       "      <th>11</th>\n",
       "      <td>[8.39158654e-01,2.27838850e+00,3.09525698e-01,...</td>\n",
       "      <td>[0.10220008,-0.2460196,-0.07083516,0.38553103,...</td>\n",
       "    </tr>\n",
       "    <tr>\n",
       "      <th>12</th>\n",
       "      <td>[2.52216786e-01,8.77562404e-01,2.00890690e-01,...</td>\n",
       "      <td>[-0.16632821,-0.24875642,0.07483051,0.08492591...</td>\n",
       "    </tr>\n",
       "    <tr>\n",
       "      <th>13</th>\n",
       "      <td>[2.11023971e-01,6.22068524e-01,2.29162514e-01,...</td>\n",
       "      <td>[0.14444838,-0.4674152,0.04878159,0.32895668,0...</td>\n",
       "    </tr>\n",
       "    <tr>\n",
       "      <th>14</th>\n",
       "      <td>[3.02592337e-01,6.63571358e-01,1.96597561e-01,...</td>\n",
       "      <td>[-3.33267656e-01,-3.67887689e-01,-1.43692005e-...</td>\n",
       "    </tr>\n",
       "  </tbody>\n",
       "</table>\n",
       "</div>"
      ],
      "text/plain": [
       "                                         audio_vector  \\\n",
       "0   [5.05697608e-01,1.44482636e+00,2.74840772e-01,...   \n",
       "1   [4.21763748e-01,1.39691150e+00,3.11115861e-01,...   \n",
       "2   [1.61179543e-01,3.98339182e-01,1.86677352e-01,...   \n",
       "3   [3.00435424e-01,9.14957762e-01,1.92792639e-01,...   \n",
       "4   [4.26878363e-01,1.32919753e+00,2.73250163e-01,...   \n",
       "5   [7.04743803e-01,1.75978565e+00,2.93366253e-01,...   \n",
       "6   [1.93669021e-01,7.64253438e-01,2.55924970e-01,...   \n",
       "7   [3.17234546e-01,9.53515828e-01,2.12027341e-01,...   \n",
       "8   [2.81038374e-01,8.63508999e-01,2.12356120e-01,...   \n",
       "9   [3.10484201e-01,1.03498864e+00,2.75978088e-01,...   \n",
       "10  [1.46047473e-01,3.83050650e-01,1.80057213e-01,...   \n",
       "11  [8.39158654e-01,2.27838850e+00,3.09525698e-01,...   \n",
       "12  [2.52216786e-01,8.77562404e-01,2.00890690e-01,...   \n",
       "13  [2.11023971e-01,6.22068524e-01,2.29162514e-01,...   \n",
       "14  [3.02592337e-01,6.63571358e-01,1.96597561e-01,...   \n",
       "\n",
       "                                        lyrics_vector  \n",
       "0   [-0.01375247,-0.40608048,0.40581351,0.0454139,...  \n",
       "1   [-7.64776877e-02,-4.59797496e-01,1.41140302e-0...  \n",
       "2   [-0.18104931,-0.47246411,0.13491175,0.08737353...  \n",
       "3   [-0.02924433,-0.0005412,0.03182478,0.00927059,...  \n",
       "4   [-0.20881731,-0.40633695,0.23420081,-0.0116102...  \n",
       "5   [7.67118021e-02,-3.98475011e-01,3.38390140e-02...  \n",
       "6   [-2.18362452e-01,-5.67300941e-01,-1.35802645e-...  \n",
       "7   [-0.12928441,-0.43845142,0.32496093,0.24945222...  \n",
       "8   [-0.26658124,-0.57827297,0.41657594,-0.0650521...  \n",
       "9   [-0.10106129,-0.35067003,0.2371372,0.25461237,...  \n",
       "10  [-1.27998563e-01,-5.36800436e-01,-1.46231134e-...  \n",
       "11  [0.10220008,-0.2460196,-0.07083516,0.38553103,...  \n",
       "12  [-0.16632821,-0.24875642,0.07483051,0.08492591...  \n",
       "13  [0.14444838,-0.4674152,0.04878159,0.32895668,0...  \n",
       "14  [-3.33267656e-01,-3.67887689e-01,-1.43692005e-...  "
      ]
     },
     "execution_count": 87,
     "metadata": {},
     "output_type": "execute_result"
    }
   ],
   "source": [
    "for i in range(0,len(music_df2)):\n",
    "    audio_vec1 = music_df2.iat[i,0]\n",
    "    audio_vec2 = audio_vec1.replace(' ',',').replace(',,',', ').replace('[,','[').replace('\\n','').replace(', ',',')\n",
    "    lyrics_vec1 = music_df2.iat[i,1]\n",
    "    lyrics_vec2 = lyrics_vec1.replace(' ',',').replace('\\n','').replace(',,,',',').replace(',,',',').replace('[,','[')\n",
    "    music_df2.loc[i,'audio_vector'] = audio_vec2\n",
    "    music_df2.loc[i,'lyrics_vector'] = lyrics_vec2\n",
    "print(len(music_df2))\n",
    "music_df2.head(15)"
   ]
  },
  {
   "cell_type": "code",
   "execution_count": 24,
   "metadata": {},
   "outputs": [],
   "source": [
    "music_df = pd.read_csv('audiolyrics_vecter_final.csv')\n",
    "music_df2 = music_df.drop(\"track_id\", axis = 1)\n",
    "\n",
    "for i in range(0,len(music_df2)):\n",
    "    audio_vec1 = music_df2.iat[i,0]\n",
    "    audio_vec2 = audio_vec1.replace('  ',' ').replace('\\n','').replace(' ',',').replace('[,','[').replace(',,',',')\n",
    "    #audio_vec2 = audio_vec1.replace(' ',',').replace(',,',', ').replace('[,','[').replace('\\n','').replace(', ',',')\n",
    "    lyrics_vec1 = music_df2.iat[i,1]\n",
    "    lyrics_vec2 = lyrics_vec1.replace('  ',' ').replace('\\n','').replace(' ',',').replace('[,','[').replace(',,',',')\n",
    "    #lyrics_vec2 = lyrics_vec1.replace('\\n','').replace('  ',' ').replace(' ',',').replace(',,,',',').replace(',,',',').replace('[,','[')\n",
    "    music_df2.loc[i,'audio_vector'] = audio_vec2\n",
    "    music_df2.loc[i,'lyrics_vector'] = lyrics_vec2\n",
    "music_df2.head(15)\n",
    "#print(len(music_df2))\n",
    "\n",
    "music_df2.to_csv('audiolyrics_vecter_final2.csv')"
   ]
  },
  {
   "cell_type": "code",
   "execution_count": 25,
   "metadata": {
    "scrolled": true
   },
   "outputs": [
    {
     "name": "stderr",
     "output_type": "stream",
     "text": [
      "C:\\Users\\LAB_JennyChiou\\Anaconda3\\lib\\site-packages\\ipykernel_launcher.py:13: SettingWithCopyWarning: \n",
      "A value is trying to be set on a copy of a slice from a DataFrame\n",
      "\n",
      "See the caveats in the documentation: http://pandas.pydata.org/pandas-docs/stable/indexing.html#indexing-view-versus-copy\n",
      "  del sys.path[0]\n"
     ]
    },
    {
     "ename": "JSONDecodeError",
     "evalue": "Expecting value: line 1 column 47 (char 46)",
     "output_type": "error",
     "traceback": [
      "\u001b[1;31m---------------------------------------------------------------------------\u001b[0m",
      "\u001b[1;31mJSONDecodeError\u001b[0m                           Traceback (most recent call last)",
      "\u001b[1;32m<ipython-input-25-5cf52335ba9e>\u001b[0m in \u001b[0;36m<module>\u001b[1;34m\u001b[0m\n\u001b[0;32m     12\u001b[0m     \u001b[0ml_vec2\u001b[0m \u001b[1;33m=\u001b[0m \u001b[0mmusic_df3\u001b[0m\u001b[1;33m.\u001b[0m\u001b[0mloc\u001b[0m\u001b[1;33m[\u001b[0m\u001b[0mj\u001b[0m\u001b[1;33m,\u001b[0m \u001b[1;34m'lyrics_vector'\u001b[0m\u001b[1;33m]\u001b[0m\u001b[1;33m\u001b[0m\u001b[1;33m\u001b[0m\u001b[0m\n\u001b[0;32m     13\u001b[0m     \u001b[0mmusic_df3\u001b[0m\u001b[1;33m[\u001b[0m\u001b[1;34m'audio_vector'\u001b[0m\u001b[1;33m]\u001b[0m\u001b[1;33m[\u001b[0m\u001b[0mj\u001b[0m\u001b[1;33m]\u001b[0m \u001b[1;33m=\u001b[0m \u001b[0mjson\u001b[0m\u001b[1;33m.\u001b[0m\u001b[0mloads\u001b[0m\u001b[1;33m(\u001b[0m\u001b[0ma_vec2\u001b[0m\u001b[1;33m)\u001b[0m\u001b[1;33m\u001b[0m\u001b[1;33m\u001b[0m\u001b[0m\n\u001b[1;32m---> 14\u001b[1;33m     \u001b[0mmusic_df3\u001b[0m\u001b[1;33m[\u001b[0m\u001b[1;34m'lyrics_vector'\u001b[0m\u001b[1;33m]\u001b[0m\u001b[1;33m[\u001b[0m\u001b[0mj\u001b[0m\u001b[1;33m]\u001b[0m \u001b[1;33m=\u001b[0m \u001b[0mjson\u001b[0m\u001b[1;33m.\u001b[0m\u001b[0mloads\u001b[0m\u001b[1;33m(\u001b[0m\u001b[0ml_vec2\u001b[0m\u001b[1;33m)\u001b[0m\u001b[1;33m\u001b[0m\u001b[1;33m\u001b[0m\u001b[0m\n\u001b[0m\u001b[0;32m     15\u001b[0m     \u001b[1;31m#print(music_df3['audio_vector'][j])\u001b[0m\u001b[1;33m\u001b[0m\u001b[1;33m\u001b[0m\u001b[1;33m\u001b[0m\u001b[0m\n\u001b[0;32m     16\u001b[0m     \u001b[1;31m#print(type(music_df3['audio_vector'][j]))\u001b[0m\u001b[1;33m\u001b[0m\u001b[1;33m\u001b[0m\u001b[1;33m\u001b[0m\u001b[0m\n",
      "\u001b[1;32m~\\Anaconda3\\lib\\json\\__init__.py\u001b[0m in \u001b[0;36mloads\u001b[1;34m(s, encoding, cls, object_hook, parse_float, parse_int, parse_constant, object_pairs_hook, **kw)\u001b[0m\n\u001b[0;32m    352\u001b[0m             \u001b[0mparse_int\u001b[0m \u001b[1;32mis\u001b[0m \u001b[1;32mNone\u001b[0m \u001b[1;32mand\u001b[0m \u001b[0mparse_float\u001b[0m \u001b[1;32mis\u001b[0m \u001b[1;32mNone\u001b[0m \u001b[1;32mand\u001b[0m\u001b[1;33m\u001b[0m\u001b[1;33m\u001b[0m\u001b[0m\n\u001b[0;32m    353\u001b[0m             parse_constant is None and object_pairs_hook is None and not kw):\n\u001b[1;32m--> 354\u001b[1;33m         \u001b[1;32mreturn\u001b[0m \u001b[0m_default_decoder\u001b[0m\u001b[1;33m.\u001b[0m\u001b[0mdecode\u001b[0m\u001b[1;33m(\u001b[0m\u001b[0ms\u001b[0m\u001b[1;33m)\u001b[0m\u001b[1;33m\u001b[0m\u001b[1;33m\u001b[0m\u001b[0m\n\u001b[0m\u001b[0;32m    355\u001b[0m     \u001b[1;32mif\u001b[0m \u001b[0mcls\u001b[0m \u001b[1;32mis\u001b[0m \u001b[1;32mNone\u001b[0m\u001b[1;33m:\u001b[0m\u001b[1;33m\u001b[0m\u001b[1;33m\u001b[0m\u001b[0m\n\u001b[0;32m    356\u001b[0m         \u001b[0mcls\u001b[0m \u001b[1;33m=\u001b[0m \u001b[0mJSONDecoder\u001b[0m\u001b[1;33m\u001b[0m\u001b[1;33m\u001b[0m\u001b[0m\n",
      "\u001b[1;32m~\\Anaconda3\\lib\\json\\decoder.py\u001b[0m in \u001b[0;36mdecode\u001b[1;34m(self, s, _w)\u001b[0m\n\u001b[0;32m    337\u001b[0m \u001b[1;33m\u001b[0m\u001b[0m\n\u001b[0;32m    338\u001b[0m         \"\"\"\n\u001b[1;32m--> 339\u001b[1;33m         \u001b[0mobj\u001b[0m\u001b[1;33m,\u001b[0m \u001b[0mend\u001b[0m \u001b[1;33m=\u001b[0m \u001b[0mself\u001b[0m\u001b[1;33m.\u001b[0m\u001b[0mraw_decode\u001b[0m\u001b[1;33m(\u001b[0m\u001b[0ms\u001b[0m\u001b[1;33m,\u001b[0m \u001b[0midx\u001b[0m\u001b[1;33m=\u001b[0m\u001b[0m_w\u001b[0m\u001b[1;33m(\u001b[0m\u001b[0ms\u001b[0m\u001b[1;33m,\u001b[0m \u001b[1;36m0\u001b[0m\u001b[1;33m)\u001b[0m\u001b[1;33m.\u001b[0m\u001b[0mend\u001b[0m\u001b[1;33m(\u001b[0m\u001b[1;33m)\u001b[0m\u001b[1;33m)\u001b[0m\u001b[1;33m\u001b[0m\u001b[1;33m\u001b[0m\u001b[0m\n\u001b[0m\u001b[0;32m    340\u001b[0m         \u001b[0mend\u001b[0m \u001b[1;33m=\u001b[0m \u001b[0m_w\u001b[0m\u001b[1;33m(\u001b[0m\u001b[0ms\u001b[0m\u001b[1;33m,\u001b[0m \u001b[0mend\u001b[0m\u001b[1;33m)\u001b[0m\u001b[1;33m.\u001b[0m\u001b[0mend\u001b[0m\u001b[1;33m(\u001b[0m\u001b[1;33m)\u001b[0m\u001b[1;33m\u001b[0m\u001b[1;33m\u001b[0m\u001b[0m\n\u001b[0;32m    341\u001b[0m         \u001b[1;32mif\u001b[0m \u001b[0mend\u001b[0m \u001b[1;33m!=\u001b[0m \u001b[0mlen\u001b[0m\u001b[1;33m(\u001b[0m\u001b[0ms\u001b[0m\u001b[1;33m)\u001b[0m\u001b[1;33m:\u001b[0m\u001b[1;33m\u001b[0m\u001b[1;33m\u001b[0m\u001b[0m\n",
      "\u001b[1;32m~\\Anaconda3\\lib\\json\\decoder.py\u001b[0m in \u001b[0;36mraw_decode\u001b[1;34m(self, s, idx)\u001b[0m\n\u001b[0;32m    355\u001b[0m             \u001b[0mobj\u001b[0m\u001b[1;33m,\u001b[0m \u001b[0mend\u001b[0m \u001b[1;33m=\u001b[0m \u001b[0mself\u001b[0m\u001b[1;33m.\u001b[0m\u001b[0mscan_once\u001b[0m\u001b[1;33m(\u001b[0m\u001b[0ms\u001b[0m\u001b[1;33m,\u001b[0m \u001b[0midx\u001b[0m\u001b[1;33m)\u001b[0m\u001b[1;33m\u001b[0m\u001b[1;33m\u001b[0m\u001b[0m\n\u001b[0;32m    356\u001b[0m         \u001b[1;32mexcept\u001b[0m \u001b[0mStopIteration\u001b[0m \u001b[1;32mas\u001b[0m \u001b[0merr\u001b[0m\u001b[1;33m:\u001b[0m\u001b[1;33m\u001b[0m\u001b[1;33m\u001b[0m\u001b[0m\n\u001b[1;32m--> 357\u001b[1;33m             \u001b[1;32mraise\u001b[0m \u001b[0mJSONDecodeError\u001b[0m\u001b[1;33m(\u001b[0m\u001b[1;34m\"Expecting value\"\u001b[0m\u001b[1;33m,\u001b[0m \u001b[0ms\u001b[0m\u001b[1;33m,\u001b[0m \u001b[0merr\u001b[0m\u001b[1;33m.\u001b[0m\u001b[0mvalue\u001b[0m\u001b[1;33m)\u001b[0m \u001b[1;32mfrom\u001b[0m \u001b[1;32mNone\u001b[0m\u001b[1;33m\u001b[0m\u001b[1;33m\u001b[0m\u001b[0m\n\u001b[0m\u001b[0;32m    358\u001b[0m         \u001b[1;32mreturn\u001b[0m \u001b[0mobj\u001b[0m\u001b[1;33m,\u001b[0m \u001b[0mend\u001b[0m\u001b[1;33m\u001b[0m\u001b[1;33m\u001b[0m\u001b[0m\n",
      "\u001b[1;31mJSONDecodeError\u001b[0m: Expecting value: line 1 column 47 (char 46)"
     ]
    }
   ],
   "source": [
    "#https://stackoverflow.com/questions/23119472/in-pandas-python-reading-array-stored-as-string\n",
    "from ast import literal_eval\n",
    "\n",
    "import json\n",
    "\n",
    "music_df3 = pd.read_csv('audiolyrics_vecter_final2.csv')\n",
    "\n",
    "for j in range(0,len(music_df3)):\n",
    "    #music_df3.audio_vector = list(music_df3.audio_vector)\n",
    "    #music_df3.lyrics_vector = list(music_df3.lyrics_vector)\n",
    "    a_vec2 = music_df3.loc[j, 'audio_vector']\n",
    "    l_vec2 = music_df3.loc[j, 'lyrics_vector']\n",
    "    music_df3['audio_vector'][j] = json.loads(a_vec2)\n",
    "    music_df3['lyrics_vector'][j] = json.loads(l_vec2)\n",
    "    #print(music_df3['audio_vector'][j])\n",
    "    #print(type(music_df3['audio_vector'][j]))\n",
    "    print(j,'\\n')\n",
    "    print(music_df3['lyrics_vector'][j][0])\n",
    "    print(type(music_df3['lyrics_vector'][j]))\n",
    "\n"
   ]
  },
  {
   "cell_type": "code",
   "execution_count": 11,
   "metadata": {},
   "outputs": [
    {
     "ename": "NameError",
     "evalue": "name 'music_df2' is not defined",
     "output_type": "error",
     "traceback": [
      "\u001b[1;31m---------------------------------------------------------------------------\u001b[0m",
      "\u001b[1;31mNameError\u001b[0m                                 Traceback (most recent call last)",
      "\u001b[1;32m<ipython-input-11-91c8a919cb3e>\u001b[0m in \u001b[0;36m<module>\u001b[1;34m\u001b[0m\n\u001b[0;32m      2\u001b[0m \u001b[1;32mfrom\u001b[0m \u001b[0mast\u001b[0m \u001b[1;32mimport\u001b[0m \u001b[0mliteral_eval\u001b[0m\u001b[1;33m\u001b[0m\u001b[1;33m\u001b[0m\u001b[0m\n\u001b[0;32m      3\u001b[0m \u001b[1;33m\u001b[0m\u001b[0m\n\u001b[1;32m----> 4\u001b[1;33m \u001b[1;32mfor\u001b[0m \u001b[0mj\u001b[0m \u001b[1;32min\u001b[0m \u001b[0mrange\u001b[0m\u001b[1;33m(\u001b[0m\u001b[1;36m0\u001b[0m\u001b[1;33m,\u001b[0m\u001b[0mlen\u001b[0m\u001b[1;33m(\u001b[0m\u001b[0mmusic_df2\u001b[0m\u001b[1;33m)\u001b[0m\u001b[1;33m)\u001b[0m\u001b[1;33m:\u001b[0m\u001b[1;33m\u001b[0m\u001b[1;33m\u001b[0m\u001b[0m\n\u001b[0m\u001b[0;32m      5\u001b[0m     \u001b[0mmusic_df2\u001b[0m\u001b[1;33m.\u001b[0m\u001b[0maudio_vector\u001b[0m \u001b[1;33m=\u001b[0m \u001b[0mmusic_df2\u001b[0m\u001b[1;33m.\u001b[0m\u001b[0maudio_vector\u001b[0m\u001b[1;33m.\u001b[0m\u001b[0mapply\u001b[0m\u001b[1;33m(\u001b[0m\u001b[0mliteral_eval\u001b[0m\u001b[1;33m)\u001b[0m\u001b[1;33m\u001b[0m\u001b[1;33m\u001b[0m\u001b[0m\n\u001b[0;32m      6\u001b[0m     \u001b[0mmusic_df2\u001b[0m\u001b[1;33m.\u001b[0m\u001b[0mlyrics_vector\u001b[0m \u001b[1;33m=\u001b[0m \u001b[0mmusic_df2\u001b[0m\u001b[1;33m.\u001b[0m\u001b[0mlyrics_vector\u001b[0m\u001b[1;33m.\u001b[0m\u001b[0mapply\u001b[0m\u001b[1;33m(\u001b[0m\u001b[0mliteral_eval\u001b[0m\u001b[1;33m)\u001b[0m\u001b[1;33m\u001b[0m\u001b[1;33m\u001b[0m\u001b[0m\n",
      "\u001b[1;31mNameError\u001b[0m: name 'music_df2' is not defined"
     ]
    }
   ],
   "source": [
    "#https://stackoverflow.com/questions/23119472/in-pandas-python-reading-array-stored-as-string\n",
    "from ast import literal_eval\n",
    "\n",
    "for j in range(0,len(music_df2)):\n",
    "    music_df2.audio_vector = music_df2.audio_vector.apply(literal_eval)\n",
    "    music_df2.lyrics_vector = music_df2.lyrics_vector.apply(literal_eval)\n",
    "    a_vec2 = music_df2.loc[j, 'audio_vector']\n",
    "    l_vec2 = music_df2.loc[j, 'lyrics_vector']\n",
    "    music_df2['audio_vector'][j] = a_vec2\n",
    "    music_df2['lyrics_vector'][j] = l_vec2\n",
    "\n",
    "print(a_vec2)\n",
    "print(type(a_vec2))\n",
    "music_df2.head()"
   ]
  },
  {
   "cell_type": "code",
   "execution_count": 51,
   "metadata": {
    "collapsed": true
   },
   "outputs": [
    {
     "ename": "ValueError",
     "evalue": "could not convert string to float: '[4.20414120e-01,1.21774673e+00,2.15500817e-01,6.88246489e-01,3.12511683e-01,1.76243111e-01,2.89780468e-01,3.91523749e-01,6.41904950e-01,4.93240774e-01,2.02520594e-01,3.09403718e-01,3.15701544e-01,8.15416217e-01,8.38166177e-01,2.90996462e-01,-3.99523616e+00,1.66040039e+01,-1.50484490e+00,8.30767441e+00,2.42025685e+00,-8.06954801e-01,-1.27151108e+00,-2.23196101e+00,7.55752087e+00,6.28941679e+00,-8.11897874e-01,4.46977043e+00,-1.94436717e+00,-9.34047318e+00,1.20786591e+01,1.97561729e+00,-4.57941976e-05,-2.97616078e-03,-1.54156754e-03,-5.38397039e-04,-2.52352897e-03,-1.62533276e-03,-6.92350456e-04,-3.85200111e-04,1.23019708e-03,-1.04596472e-04,3.67061778e-03,-2.25947963e-04,2.04420892e-03,1.66676493e-03,-9.65825513e-04,-3.18746027e-03]'",
     "output_type": "error",
     "traceback": [
      "\u001b[1;31m---------------------------------------------------------------------------\u001b[0m",
      "\u001b[1;31mValueError\u001b[0m                                Traceback (most recent call last)",
      "\u001b[1;32m<ipython-input-51-43db700fa29f>\u001b[0m in \u001b[0;36m<module>\u001b[1;34m\u001b[0m\n\u001b[1;32m----> 1\u001b[1;33m \u001b[0mclustering\u001b[0m \u001b[1;33m=\u001b[0m \u001b[0mDBSCAN\u001b[0m\u001b[1;33m(\u001b[0m\u001b[0meps\u001b[0m\u001b[1;33m=\u001b[0m\u001b[1;36m3\u001b[0m\u001b[1;33m,\u001b[0m \u001b[0mmin_samples\u001b[0m\u001b[1;33m=\u001b[0m\u001b[1;36m2\u001b[0m\u001b[1;33m)\u001b[0m\u001b[1;33m.\u001b[0m\u001b[0mfit\u001b[0m\u001b[1;33m(\u001b[0m\u001b[0mmusic_df2\u001b[0m\u001b[1;33m)\u001b[0m\u001b[1;33m\u001b[0m\u001b[1;33m\u001b[0m\u001b[0m\n\u001b[0m\u001b[0;32m      2\u001b[0m \u001b[0mclustering\u001b[0m\u001b[1;33m.\u001b[0m\u001b[0mlabels_\u001b[0m\u001b[1;33m\u001b[0m\u001b[1;33m\u001b[0m\u001b[0m\n",
      "\u001b[1;32m~\\Anaconda3\\lib\\site-packages\\sklearn\\cluster\\dbscan_.py\u001b[0m in \u001b[0;36mfit\u001b[1;34m(self, X, y, sample_weight)\u001b[0m\n\u001b[0;32m    317\u001b[0m \u001b[1;33m\u001b[0m\u001b[0m\n\u001b[0;32m    318\u001b[0m         \"\"\"\n\u001b[1;32m--> 319\u001b[1;33m         \u001b[0mX\u001b[0m \u001b[1;33m=\u001b[0m \u001b[0mcheck_array\u001b[0m\u001b[1;33m(\u001b[0m\u001b[0mX\u001b[0m\u001b[1;33m,\u001b[0m \u001b[0maccept_sparse\u001b[0m\u001b[1;33m=\u001b[0m\u001b[1;34m'csr'\u001b[0m\u001b[1;33m)\u001b[0m\u001b[1;33m\u001b[0m\u001b[1;33m\u001b[0m\u001b[0m\n\u001b[0m\u001b[0;32m    320\u001b[0m         clust = dbscan(X, sample_weight=sample_weight,\n\u001b[0;32m    321\u001b[0m                        **self.get_params())\n",
      "\u001b[1;32m~\\Anaconda3\\lib\\site-packages\\sklearn\\utils\\validation.py\u001b[0m in \u001b[0;36mcheck_array\u001b[1;34m(array, accept_sparse, accept_large_sparse, dtype, order, copy, force_all_finite, ensure_2d, allow_nd, ensure_min_samples, ensure_min_features, warn_on_dtype, estimator)\u001b[0m\n\u001b[0;32m    565\u001b[0m         \u001b[1;31m# make sure we actually converted to numeric:\u001b[0m\u001b[1;33m\u001b[0m\u001b[1;33m\u001b[0m\u001b[1;33m\u001b[0m\u001b[0m\n\u001b[0;32m    566\u001b[0m         \u001b[1;32mif\u001b[0m \u001b[0mdtype_numeric\u001b[0m \u001b[1;32mand\u001b[0m \u001b[0marray\u001b[0m\u001b[1;33m.\u001b[0m\u001b[0mdtype\u001b[0m\u001b[1;33m.\u001b[0m\u001b[0mkind\u001b[0m \u001b[1;33m==\u001b[0m \u001b[1;34m\"O\"\u001b[0m\u001b[1;33m:\u001b[0m\u001b[1;33m\u001b[0m\u001b[1;33m\u001b[0m\u001b[0m\n\u001b[1;32m--> 567\u001b[1;33m             \u001b[0marray\u001b[0m \u001b[1;33m=\u001b[0m \u001b[0marray\u001b[0m\u001b[1;33m.\u001b[0m\u001b[0mastype\u001b[0m\u001b[1;33m(\u001b[0m\u001b[0mnp\u001b[0m\u001b[1;33m.\u001b[0m\u001b[0mfloat64\u001b[0m\u001b[1;33m)\u001b[0m\u001b[1;33m\u001b[0m\u001b[1;33m\u001b[0m\u001b[0m\n\u001b[0m\u001b[0;32m    568\u001b[0m         \u001b[1;32mif\u001b[0m \u001b[1;32mnot\u001b[0m \u001b[0mallow_nd\u001b[0m \u001b[1;32mand\u001b[0m \u001b[0marray\u001b[0m\u001b[1;33m.\u001b[0m\u001b[0mndim\u001b[0m \u001b[1;33m>=\u001b[0m \u001b[1;36m3\u001b[0m\u001b[1;33m:\u001b[0m\u001b[1;33m\u001b[0m\u001b[1;33m\u001b[0m\u001b[0m\n\u001b[0;32m    569\u001b[0m             raise ValueError(\"Found array with dim %d. %s expected <= 2.\"\n",
      "\u001b[1;31mValueError\u001b[0m: could not convert string to float: '[4.20414120e-01,1.21774673e+00,2.15500817e-01,6.88246489e-01,3.12511683e-01,1.76243111e-01,2.89780468e-01,3.91523749e-01,6.41904950e-01,4.93240774e-01,2.02520594e-01,3.09403718e-01,3.15701544e-01,8.15416217e-01,8.38166177e-01,2.90996462e-01,-3.99523616e+00,1.66040039e+01,-1.50484490e+00,8.30767441e+00,2.42025685e+00,-8.06954801e-01,-1.27151108e+00,-2.23196101e+00,7.55752087e+00,6.28941679e+00,-8.11897874e-01,4.46977043e+00,-1.94436717e+00,-9.34047318e+00,1.20786591e+01,1.97561729e+00,-4.57941976e-05,-2.97616078e-03,-1.54156754e-03,-5.38397039e-04,-2.52352897e-03,-1.62533276e-03,-6.92350456e-04,-3.85200111e-04,1.23019708e-03,-1.04596472e-04,3.67061778e-03,-2.25947963e-04,2.04420892e-03,1.66676493e-03,-9.65825513e-04,-3.18746027e-03]'"
     ]
    }
   ],
   "source": [
    "clustering = DBSCAN(eps=3, min_samples=2).fit(music_df2)\n",
    "clustering.labels_"
   ]
  },
  {
   "cell_type": "code",
   "execution_count": null,
   "metadata": {},
   "outputs": [],
   "source": [
    "labels = clustering.labels_\n",
    "n_clusters_ = len(set(labels)) - (1 if -1 in labels else 0)\n",
    "print('Estimated number of clusters: %d' % n_clusters_)"
   ]
  },
  {
   "cell_type": "code",
   "execution_count": 25,
   "metadata": {
    "collapsed": true
   },
   "outputs": [
    {
     "data": {
      "text/plain": [
       "'[5.05697608e-01,1.44482636e+00,2.74840772e-01,8.53327096e-01,3.28577816e-01,2.09559411e-01,4.17662114e-01,5.17685294e-01,8.02289903e-01,6.82371438e-01,2.53315359e-01,4.23706561e-01,4.82048303e-01,9.78470922e-01,1.06081808e+00,3.60882491e-01,-4.02122498e+00,1.60172825e+01,-1.30307329e+00,7.56712770e+00,2.47417688e+00,-7.37445474e-01,-1.41482997e+00,-1.94696355e+00,7.25268364e+00,5.83776045e+00,-7.79839218e-01,4.37523031e+00,-2.12121367e+00,-8.76901340e+00,1.14338255e+01,1.59783566e+00,-4.42805046e-03,8.16733817e-03,1.61514317e-03,2.63006259e-03,1.85182016e-03,6.09119725e-04,7.81215743e-04,-1.57605717e-03,1.84044497e-03,2.94578279e-03,-1.75001547e-03,2.48500526e-03,-2.47439858e-03,-4.58514436e-03,1.05753668e-02,-1.48431002e-03]'"
      ]
     },
     "execution_count": 25,
     "metadata": {},
     "output_type": "execute_result"
    }
   ],
   "source": [
    "'''\n",
    "x = music_df2.iat[0,0]\n",
    "x1 = x.replace(' ',',').replace(',,',', ').replace('[,','[').replace('\\n','').replace(', ',',')\n",
    "x1\n",
    "'''"
   ]
  },
  {
   "cell_type": "code",
   "execution_count": 82,
   "metadata": {
    "collapsed": true
   },
   "outputs": [
    {
     "data": {
      "text/plain": [
       "'[-0.12928441,-0.43845142,0.32496093,0.24945222,0.23123956,-0.51277265,0.25535799,0.08872748,0.15273223,-0.16764069,0.33130416,0.37624278,-0.3023681,-0.07279807,0.23855391,0.64925665,0.66206929,0.22074944,-0.42771994,-0.18458584,0.03029708,-0.01567184,-0.21330457,0.37268842,-0.2771147,-0.32294522,0.1051819,0.14714536,0.12075013,0.54076514,-0.30287395,-0.11486692,-0.49465123,-0.4635757,0.06308735,0.14531663,0.03759943,-0.75146819,0.02854354,-0.35760298,-0.43437888,0.58617582,0.05478575,-0.3465677,-0.60248974,0.27098395,0.06018373,-0.47315472,0.40553517,0.37748185,0.0377687,0.07880059,-0.09094126,0.0829632,0.06525558,0.06155575,0.63993402,0.37421698,0.13776135,0.29932643,-0.1946645,0.01746949,0.25259233,-0.51442099,-0.2522702,0.27841216,0.03678958,-0.56459266,-0.179724,0.00869832,-0.49078409,0.54203218,0.37229232,-0.00767936,-0.81451817,-0.37553931,0.18267174,0.59644212,0.33040916,-0.235844,-0.02598828,-0.04472904,-0.1438537,-0.05309086,0.03959293,-0.18072501,0.26405957,-0.03812189,-0.59660198,-0.64079716,-0.62298303,0.09507082,0.12949221,-0.35017726,0.11107443,-0.35579062,0.79655807,0.29245387,0.33872262,-0.27041866,-0.45679741,-0.40906369,0.49611606,-0.3741712,0.34806843,0.15154717,-0.04394248,0.10861024,0.04308456,-0.2595931,-0.01700746,0.77194763,-0.02189107,-0.14023395,0.10662829,-0.58456072,0.30748478,0.21788303,0.31527824,0.96158302,0.24334243,-0.3123441,0.20652481,-0.51721308,0.45341134,-0.19610068,0.41161358,0.18469509,-0.1290367,0.60554451,-0.34746316,0.1675943,0.19516235,0.27648187,0.56381544,-0.315099,0.20354406,-0.10049946,-0.29002683,-0.22883744,0.2235803,0.32233462,0.20171134,0.14080544,-0.11547403,-0.28146253,-0.24427436,0.10017092,-0.05109347,0.06542881,0.29120971,-0.14479644,-0.28306355,-0.06189598,-0.0876981,0.04555667,-0.14049175,-0.83949294,-0.0641349,-0.04872,0.13611314,0.16357401,0.17244095,-0.423101,0.15959629,0.36830323,-0.14354122,-0.22427365,-0.02064359,-0.141653,0.03791418,-0.18289803,0.19402475,0.08714526,-0.07309921,-0.13958765,-0.30871608,0.24182705,-0.23368162,0.0441443,0.54241691,0.40121202,-0.07209595,-0.21595995,0.40007668,0.31712324,0.49617695,0.02670887,-0.33295098,-0.3467431,0.25725675,0.06372271,-0.43923932,-0.50099189,0.61949246,-0.5159683,-0.45467243,-0.31809342,0.04068323,0.04993061,0.3735771,0.16068157,-0.23212297,0.44331721,0.66333785,-0.02165954,0.04673013,-0.06458082,0.10784186,0.25196931,0.10141254,-0.00631954,-0.09843561,-0.50952526,-0.33573193,-0.25267769,-0.31591157,-0.3282383,-0.38171427,0.36613264,0.19366268,0.40880539,-0.11289576,0.05173643,-0.06383323,-0.47082862,0.09519101,0.01588223,0.21014184,0.24504993,-0.58279304,-0.20469432,0.13792551,0.14364087,-0.20592352,-0.08482632,-0.45500044,-0.09761547,0.30258664,0.57471999,0.4947424,-0.12335687,-0.31003816,-0.29245669,-0.06007437,0.35322503,0.54426601,0.09489322,-0.41041874,-0.0385447,0.12817742,-0.11447564,0.13404621,-0.23011698,0.54868595,0.19388051,-0.04503566,-0.148956,-0.04719026,-0.31242275,-0.49763207,0.6971922,0.03940517,-0.05310342,-0.20017925,0.74384526,-0.20303596,-0.40270633,0.1070441,-0.45101533,0.0937286,0.01074783,0.03206963,-0.02772846,0.50530014,0.1625199,0.37718854,-0.19450735,-0.39850441,-0.34341283,-0.24097515,-0.1584779,-0.62434505,-0.44158006,-0.09844362,0.22904895,0.43290915,0.77901416,0.00369981,-0.29894514,-0.09673097,-0.03639065,0.58083437,0.07188729,0.00186201,-0.49872936,0.18047135,0.15269195,-0.03248253,-0.06511711]'"
      ]
     },
     "execution_count": 82,
     "metadata": {},
     "output_type": "execute_result"
    }
   ],
   "source": [
    "'''\n",
    "music_df = pd.read_csv('audiolyrics_vecter_final.csv')\n",
    "music_df2 = music_df.drop(\"track_id\", axis = 1)\n",
    "y = music_df2.iat[7,1]\n",
    "y1 = y.replace('\\n','').replace('  ',' ').replace(' ',',').replace(',,,',',').replace(',,',',')\n",
    "y1\n",
    "'''"
   ]
  },
  {
   "cell_type": "code",
   "execution_count": 7,
   "metadata": {
    "collapsed": true
   },
   "outputs": [
    {
     "data": {
      "text/plain": [
       "'[4.26878363e-01,1.32919753e+00,2.73250163e-01,8.47528577e-01,2.27676407e-01,1.32765010e-01,2.44498685e-01,4.19280052e-01,7.71418035e-01,6.71662271e-01,1.19556770e-01,4.27639067e-01,2.73519456e-01,9.06484187e-01,1.01966095e+00,3.16886157e-01,-3.41559434e+00,1.47498074e+01,-1.30249918e+00,7.04566622e+00,2.20622325e+00,-6.54180169e-01,-1.21518815e+00,-1.60343325e+00,6.52274179e+00,5.40487146e+00,-8.44802439e-01,4.08081961e+00,-1.63813174e+00,-7.97181749e+00,1.05071011e+01,1.54571772e+00,2.31058654e-03,-6.63681519e-03,2.03885240e-03,-1.69002908e-03,-1.61312508e-03,-1.14695550e-03,-2.51183965e-03,2.74044836e-04,-1.90278709e-03,-3.08029825e-03,3.60550598e-04,-4.00060415e-03,1.00234113e-03,6.66557214e-03,-9.11577746e-03,-1.55500724e-03]'"
      ]
     },
     "execution_count": 7,
     "metadata": {},
     "output_type": "execute_result"
    }
   ],
   "source": [
    "music_df2['audio_vector'][4]"
   ]
  },
  {
   "cell_type": "code",
   "execution_count": 68,
   "metadata": {
    "collapsed": true
   },
   "outputs": [
    {
     "data": {
      "text/plain": [
       "\"\\nmusic_df2.loc[0,'audio_vector'] = x1\\nmusic_df2.head(5)\\n\""
      ]
     },
     "execution_count": 68,
     "metadata": {},
     "output_type": "execute_result"
    }
   ],
   "source": [
    "'''\n",
    "music_df2.loc[0,'audio_vector'] = x1\n",
    "music_df2.head(5)\n",
    "'''"
   ]
  },
  {
   "cell_type": "code",
   "execution_count": 70,
   "metadata": {
    "collapsed": true
   },
   "outputs": [
    {
     "data": {
      "text/plain": [
       "\"\\na_vec1 = music_df2['audio_vector'][0]\\na_vec2 = ast.literal_eval(a_vec1)\\na_vec2\\n\""
      ]
     },
     "execution_count": 70,
     "metadata": {},
     "output_type": "execute_result"
    }
   ],
   "source": [
    "'''\n",
    "a_vec1 = music_df2['audio_vector'][0]\n",
    "a_vec2 = ast.literal_eval(a_vec1)\n",
    "a_vec2\n",
    "'''"
   ]
  },
  {
   "cell_type": "code",
   "execution_count": 76,
   "metadata": {
    "collapsed": true
   },
   "outputs": [
    {
     "name": "stdout",
     "output_type": "stream",
     "text": [
      "[4.20414120e-01,1.21774673e+00,2.15500817e-01,6.88246489e-01,3.12511683e-01,1.76243111e-01,2.89780468e-01,3.91523749e-01,6.41904950e-01,4.93240774e-01,2.02520594e-01,3.09403718e-01,3.15701544e-01,8.15416217e-01,8.38166177e-01,2.90996462e-01,-3.99523616e+00,1.66040039e+01,-1.50484490e+00,8.30767441e+00,2.42025685e+00,-8.06954801e-01,-1.27151108e+00,-2.23196101e+00,7.55752087e+00,6.28941679e+00,-8.11897874e-01,4.46977043e+00,-1.94436717e+00,-9.34047318e+00,1.20786591e+01,1.97561729e+00,-4.57941976e-05,-2.97616078e-03,-1.54156754e-03,-5.38397039e-04,-2.52352897e-03,-1.62533276e-03,-6.92350456e-04,-3.85200111e-04,1.23019708e-03,-1.04596472e-04,3.67061778e-03,-2.25947963e-04,2.04420892e-03,1.66676493e-03,-9.65825513e-04,-3.18746027e-03]\n",
      "[-0.01375247,-0.40608048,0.40581351,0.0454139,,0.37788569,-0.52772169,0.37712846,0.03547718,0.50659973,0.03493346,0.75979593,0.54543489,-0.25751792,-0.01224077,0.16363568,1.03084907,0.47404332,0.41812401,-0.63888055,-0.19960755,-0.0311393,-0.30099307,-0.18392872,0.42760122,-0.35129408,-0.20908625,-0.14902142,0.11425376,0.39820438,0.26584725,-0.05072363,0.12568155,-0.55644494,-0.37739595,0.10443573,-0.0315166,0.1271951,-0.61743593,0.08710944,-0.63903791,-0.65071071,0.70154742,0.20354787,-0.69274343,-0.42966945,0.42441556,-0.37934564,-0.52343391,0.7487196,,0.27300848,-0.28029399,0.28364464,-0.15555782,0.00580748,-0.0017174,-0.03190834,0.68870683,0.65581822,0.00581788,-0.03894937,-0.18592461,0.40544997,0.37932448,-0.54807573,-0.31307318,0.32919796,0.2402263,-0.53143784,-0.21671922,0.32249191,-0.44175427,0.67107848,0.26701829,-0.03147421,-0.94693543,-0.26700519,0.14315295,0.40732903,0.36132795,-0.17191488,-0.29755705,0.06557862,0.23351393,0.37901205,-0.12835672,-0.13898449,0.18486208,0.26624275,-0.15352842,-0.54170282,-0.63658256,0.17963963,0.54829809,-0.41607123,-0.02177873,-0.32500847,0.96310705,0.37436228,0.4391569,-0.46091853,-0.49882603,-0.40589247,0.35178182,-0.44541676,0.73293354,0.35602314,0.10411354,0.11672541,-0.14897906,-0.55291539,-0.01020548,0.86842629,-0.04552625,-0.20389422,0.0100653,-0.5988057,,0.04471384,0.11504461,0.1311398,,0.72896634,0.14922013,-0.35881661,0.3176761,-0.65349124,0.53947034,-0.19071524,0.48101609,0.13730706,-0.46452539,0.59457468,-0.45555657,0.22557011,0.22793672,0.3126548,,0.75248137,-0.24663084,0.36296278,-0.06057367,-0.57360356,-0.30080893,0.12289815,0.22564399,0.14896531,0.12314083,-0.11937432,-0.53627075,-0.26788467,0.24547306,-0.08408181,0.37367573,0.50608927,-0.09078582,-0.19734645,-0.01967464,0.1814878,,0.17330489,-0.33441695,-1.13030568,-0.02341747,-0.10601951,-0.01549127,0.41696109,0.27405649,-0.26675169,0.10439056,0.49823604,-0.17186951,-0.36432409,-0.02008764,-0.20588696,0.09231881,-0.42023726,0.40669274,0.10463718,-0.10543164,0.01272774,-0.50044007,-0.05369022,-0.47564677,0.13319726,0.7391095,,0.43231767,0.13581511,-0.29944613,0.25004762,0.32445422,0.80345722,-0.20209386,-0.36812974,-0.50171646,0.28539337,-0.00612859,-0.76174029,-0.63853363,0.61662496,-0.62933042,-0.40657538,-0.44710523,-0.03431212,0.10957637,0.23652134,-0.02725903,0.01058941,0.43918981,0.54410436,0.00404264,-0.05911674,0.02330234,-0.06232811,0.2968113,0.1040397,,0.20643006,0.01830656,-0.55903171,-0.5380459,,0.05110061,-0.43772583,-0.12833379,-0.41813052,0.31670047,0.34614864,0.48107767,-0.09452298,0.14223674,-0.10463228,-0.61977333,0.00737183,-0.0744182,0.24870338,0.17822674,-0.75513681,-0.02619049,0.2812535,,0.10797135,-0.19952845,-0.10382425,-0.34081224,0.02561074,0.33840783,0.65831818,0.59883481,-0.13162368,-0.25016388,-0.20697756,-0.07547094,0.54386259,0.42847045,0.22432306,-0.13236532,-0.18003528,0.22631666,-0.2911284,-0.00486238,-0.20434511,0.63382209,0.1747618,-0.03482115,0.03931168,-0.04406017,-0.34915623,-0.39463839,0.68459809,0.13764048,-0.04269541,-0.22064819,0.90515017,-0.21975497,-0.5369289,,0.08957035,-0.72290753,-0.18705999,-0.05164978,-0.15245159,-0.24443184,0.35632304,0.18974904,0.83285464,-0.26275497,-0.58307658,-0.60678624,-0.33962248,-0.44555277,-0.60271182,-0.29780221,-0.22817532,-0.1676951,,0.64530392,1.09287027,0.0893685,-0.54382198,-0.29616143,-0.29057717,0.6216971,,0.03583177,0.13417727,-0.54900486,0.49219042,-0.20670981,0.22200942,-0.13794739]\n"
     ]
    },
    {
     "ename": "SyntaxError",
     "evalue": "invalid syntax (<unknown>, line 1)",
     "output_type": "error",
     "traceback": [
      "Traceback \u001b[1;36m(most recent call last)\u001b[0m:\n",
      "  File \u001b[0;32m\"C:\\Users\\LAB_JennyChiou\\Anaconda3\\lib\\site-packages\\IPython\\core\\interactiveshell.py\"\u001b[0m, line \u001b[0;32m3267\u001b[0m, in \u001b[0;35mrun_code\u001b[0m\n    exec(code_obj, self.user_global_ns, self.user_ns)\n",
      "  File \u001b[0;32m\"<ipython-input-76-bde3ff4062e5>\"\u001b[0m, line \u001b[0;32m8\u001b[0m, in \u001b[0;35m<module>\u001b[0m\n    l_vec2 = ast.literal_eval(l_vec1)\n",
      "  File \u001b[0;32m\"C:\\Users\\LAB_JennyChiou\\Anaconda3\\lib\\ast.py\"\u001b[0m, line \u001b[0;32m48\u001b[0m, in \u001b[0;35mliteral_eval\u001b[0m\n    node_or_string = parse(node_or_string, mode='eval')\n",
      "\u001b[1;36m  File \u001b[1;32m\"C:\\Users\\LAB_JennyChiou\\Anaconda3\\lib\\ast.py\"\u001b[1;36m, line \u001b[1;32m35\u001b[1;36m, in \u001b[1;35mparse\u001b[1;36m\u001b[0m\n\u001b[1;33m    return compile(source, filename, mode, PyCF_ONLY_AST)\u001b[0m\n",
      "\u001b[1;36m  File \u001b[1;32m\"<unknown>\"\u001b[1;36m, line \u001b[1;32m1\u001b[0m\n\u001b[1;33m    [-0.01375247,-0.40608048,0.40581351,0.0454139,,0.37788569,-0.52772169,0.37712846,0.03547718,0.50659973,0.03493346,0.75979593,0.54543489,-0.25751792,-0.01224077,0.16363568,1.03084907,0.47404332,0.41812401,-0.63888055,-0.19960755,-0.0311393,-0.30099307,-0.18392872,0.42760122,-0.35129408,-0.20908625,-0.14902142,0.11425376,0.39820438,0.26584725,-0.05072363,0.12568155,-0.55644494,-0.37739595,0.10443573,-0.0315166,0.1271951,-0.61743593,0.08710944,-0.63903791,-0.65071071,0.70154742,0.20354787,-0.69274343,-0.42966945,0.42441556,-0.37934564,-0.52343391,0.7487196,,0.27300848,-0.28029399,0.28364464,-0.15555782,0.00580748,-0.0017174,-0.03190834,0.68870683,0.65581822,0.00581788,-0.03894937,-0.18592461,0.40544997,0.37932448,-0.54807573,-0.31307318,0.32919796,0.2402263,-0.53143784,-0.21671922,0.32249191,-0.44175427,0.67107848,0.26701829,-0.03147421,-0.94693543,-0.26700519,0.14315295,0.40732903,0.36132795,-0.17191488,-0.29755705,0.06557862,0.23351393,0.37901205,-0.12835672,-0.13898449,0.18486208,0.26624275,-0.15352842,-0.54170282,-0.63658256,0.17963963,0.54829809,-0.41607123,-0.02177873,-0.32500847,0.96310705,0.37436228,0.4391569,-0.46091853,-0.49882603,-0.40589247,0.35178182,-0.44541676,0.73293354,0.35602314,0.10411354,0.11672541,-0.14897906,-0.55291539,-0.01020548,0.86842629,-0.04552625,-0.20389422,0.0100653,-0.5988057,,0.04471384,0.11504461,0.1311398,,0.72896634,0.14922013,-0.35881661,0.3176761,-0.65349124,0.53947034,-0.19071524,0.48101609,0.13730706,-0.46452539,0.59457468,-0.45555657,0.22557011,0.22793672,0.3126548,,0.75248137,-0.24663084,0.36296278,-0.06057367,-0.57360356,-0.30080893,0.12289815,0.22564399,0.14896531,0.12314083,-0.11937432,-0.53627075,-0.26788467,0.24547306,-0.08408181,0.37367573,0.50608927,-0.09078582,-0.19734645,-0.01967464,0.1814878,,0.17330489,-0.33441695,-1.13030568,-0.02341747,-0.10601951,-0.01549127,0.41696109,0.27405649,-0.26675169,0.10439056,0.49823604,-0.17186951,-0.36432409,-0.02008764,-0.20588696,0.09231881,-0.42023726,0.40669274,0.10463718,-0.10543164,0.01272774,-0.50044007,-0.05369022,-0.47564677,0.13319726,0.7391095,,0.43231767,0.13581511,-0.29944613,0.25004762,0.32445422,0.80345722,-0.20209386,-0.36812974,-0.50171646,0.28539337,-0.00612859,-0.76174029,-0.63853363,0.61662496,-0.62933042,-0.40657538,-0.44710523,-0.03431212,0.10957637,0.23652134,-0.02725903,0.01058941,0.43918981,0.54410436,0.00404264,-0.05911674,0.02330234,-0.06232811,0.2968113,0.1040397,,0.20643006,0.01830656,-0.55903171,-0.5380459,,0.05110061,-0.43772583,-0.12833379,-0.41813052,0.31670047,0.34614864,0.48107767,-0.09452298,0.14223674,-0.10463228,-0.61977333,0.00737183,-0.0744182,0.24870338,0.17822674,-0.75513681,-0.02619049,0.2812535,,0.10797135,-0.19952845,-0.10382425,-0.34081224,0.02561074,0.33840783,0.65831818,0.59883481,-0.13162368,-0.25016388,-0.20697756,-0.07547094,0.54386259,0.42847045,0.22432306,-0.13236532,-0.18003528,0.22631666,-0.2911284,-0.00486238,-0.20434511,0.63382209,0.1747618,-0.03482115,0.03931168,-0.04406017,-0.34915623,-0.39463839,0.68459809,0.13764048,-0.04269541,-0.22064819,0.90515017,-0.21975497,-0.5369289,,0.08957035,-0.72290753,-0.18705999,-0.05164978,-0.15245159,-0.24443184,0.35632304,0.18974904,0.83285464,-0.26275497,-0.58307658,-0.60678624,-0.33962248,-0.44555277,-0.60271182,-0.29780221,-0.22817532,-0.1676951,,0.64530392,1.09287027,0.0893685,-0.54382198,-0.29616143,-0.29057717,0.6216971,,0.03583177,0.13417727,-0.54900486,0.49219042,-0.20670981,0.22200942,-0.13794739]\u001b[0m\n\u001b[1;37m                                                  ^\u001b[0m\n\u001b[1;31mSyntaxError\u001b[0m\u001b[1;31m:\u001b[0m invalid syntax\n"
     ]
    }
   ],
   "source": [
    "'''\n",
    "#https://stackoverflow.com/questions/10775894/converting-a-string-representation-of-a-list-into-an-actual-list-object\n",
    "for j in range(0,11394):\n",
    "    a_vec1 = music_df2['audio_vector'][j]\n",
    "    #print(a_vec1)\n",
    "    a_vec2 = ast.literal_eval(a_vec1)\n",
    "    l_vec1 = music_df2['lyrics_vector'][j]\n",
    "    #print(l_vec1)\n",
    "    l_vec2 = ast.literal_eval(l_vec1)\n",
    "    music_df2['audio_vector'][j] = a_vec2\n",
    "    music_df2['lyrics_vector'][j] = l_vec2\n",
    "music_df2.head()\n",
    "'''"
   ]
  },
  {
   "cell_type": "code",
   "execution_count": null,
   "metadata": {},
   "outputs": [],
   "source": []
  }
 ],
 "metadata": {
  "kernelspec": {
   "display_name": "Python 3",
   "language": "python",
   "name": "python3"
  },
  "language_info": {
   "codemirror_mode": {
    "name": "ipython",
    "version": 3
   },
   "file_extension": ".py",
   "mimetype": "text/x-python",
   "name": "python",
   "nbconvert_exporter": "python",
   "pygments_lexer": "ipython3",
   "version": "3.6.7"
  }
 },
 "nbformat": 4,
 "nbformat_minor": 2
}
