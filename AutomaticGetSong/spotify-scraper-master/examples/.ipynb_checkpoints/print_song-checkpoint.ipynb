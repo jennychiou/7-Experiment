{
 "cells": [
  {
   "cell_type": "code",
   "execution_count": 1,
   "metadata": {},
   "outputs": [],
   "source": [
    "import sys\n",
    "import os.path"
   ]
  },
  {
   "cell_type": "code",
   "execution_count": null,
   "metadata": {},
   "outputs": [],
   "source": [
    "## This just adds the root directory to Python's PATH variable. It isn't\n",
    "## necessary for normal operation.\n",
    "sys.path.append(os.path.sep.join(os.path.realpath(__file__).split(os.path.sep)[:-2]))\n",
    "\n",
    "from spotify_scraper import SpotifyScraper\n",
    "\n",
    "def printSong(songDict):\n",
    "\tprint(songDict[\"artist\"], '-', songDict[\"song\"])\n",
    "\n",
    "scraper = SpotifyScraper(printSong, shouldGetArt=False)"
   ]
  }
 ],
 "metadata": {
  "kernelspec": {
   "display_name": "Python 3",
   "language": "python",
   "name": "python3"
  },
  "language_info": {
   "codemirror_mode": {
    "name": "ipython",
    "version": 3
   },
   "file_extension": ".py",
   "mimetype": "text/x-python",
   "name": "python",
   "nbconvert_exporter": "python",
   "pygments_lexer": "ipython3",
   "version": "3.6.5"
  }
 },
 "nbformat": 4,
 "nbformat_minor": 2
}
