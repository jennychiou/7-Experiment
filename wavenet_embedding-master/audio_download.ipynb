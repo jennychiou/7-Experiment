{
 "cells": [
  {
   "cell_type": "code",
   "execution_count": 1,
   "metadata": {},
   "outputs": [],
   "source": [
    "import pandas as pd\n",
    "import requests as re\n",
    "import csv"
   ]
  },
  {
   "cell_type": "code",
   "execution_count": 2,
   "metadata": {},
   "outputs": [],
   "source": [
    "def mp3_download(urls,names):\n",
    "    for url, name in zip(urls, names):\n",
    "        \n",
    "        mp3 = re.get(str(url))\n",
    "        name = name.replace('/ ', '')\n",
    "        print(name)\n",
    "        with open('./test0601/{}.mp3'.format(name), 'wb') as f:\n",
    "            f.write(mp3.content)"
   ]
  },
  {
   "cell_type": "code",
   "execution_count": 3,
   "metadata": {},
   "outputs": [
    {
     "name": "stdout",
     "output_type": "stream",
     "text": [
      "(20, 5)\n",
      "I Hate Everything About You\n",
      "Hero\n",
      "Goodbye My Lover\n",
      "Turning Page\n",
      "Given Up\n",
      "Mr. Know It All\n",
      "Happy\n",
      "I'm Yours\n",
      "Homesick\n",
      "My all\n",
      "Say You Won't Let Go\n",
      "Feels Like This\n",
      "Jekyll and Hyde\n",
      "Spit It Out\n",
      "The Downfall of Us All\n",
      "Someone Like You\n",
      "Thunderstruck\n",
      "The Lazy Song\n",
      "Skinny Love\n",
      "November Night\n"
     ]
    }
   ],
   "source": [
    "if __name__ == \"__main__\":\n",
    "    audio = pd.read_csv('./test0601/SurveySong0601.csv')\n",
    "    print(audio.shape)\n",
    "    urls = audio.iloc[0:,4:5].values.tolist()\n",
    "    names = audio.iloc[:,0:1].values.tolist()\n",
    "\n",
    "    for i in range(len(urls)):\n",
    "        urls[i] = urls[i][0]\n",
    "        names[i] = names[i][0]\n",
    "\n",
    "    # print(urls)\n",
    "    # print('==============')\n",
    "    # print(names)\n",
    "    \n",
    "    mp3_download(urls, names)"
   ]
  },
  {
   "cell_type": "code",
   "execution_count": null,
   "metadata": {},
   "outputs": [],
   "source": []
  }
 ],
 "metadata": {
  "kernelspec": {
   "display_name": "Python 3",
   "language": "python",
   "name": "python3"
  },
  "language_info": {
   "codemirror_mode": {
    "name": "ipython",
    "version": 3
   },
   "file_extension": ".py",
   "mimetype": "text/x-python",
   "name": "python",
   "nbconvert_exporter": "python",
   "pygments_lexer": "ipython3",
   "version": "3.6.5"
  }
 },
 "nbformat": 4,
 "nbformat_minor": 2
}
