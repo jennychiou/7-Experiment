{
 "cells": [
  {
   "cell_type": "code",
   "execution_count": 1,
   "metadata": {},
   "outputs": [],
   "source": [
    "import pandas as pd\n",
    "import requests as re\n",
    "import csv"
   ]
  },
  {
   "cell_type": "code",
   "execution_count": 2,
   "metadata": {},
   "outputs": [
    {
     "name": "stdout",
     "output_type": "stream",
     "text": [
      "(20, 5)\n"
     ]
    }
   ],
   "source": [
    "audio = pd.read_csv('./survry20tracks/tracks_survey20tracks.csv')\n",
    "print(audio.shape)"
   ]
  },
  {
   "cell_type": "code",
   "execution_count": 3,
   "metadata": {},
   "outputs": [
    {
     "name": "stdout",
     "output_type": "stream",
     "text": [
      "ABCDEFGH\n"
     ]
    }
   ],
   "source": [
    "name0 = '<A>B/C\\ D|E:F\"G*H?'\n",
    "name1 = name0.replace('<', '')\n",
    "name2 = name1.replace('>', '')\n",
    "name3 = name2.replace('/', '')\n",
    "name4 = name3.replace('\\ ', '')\n",
    "name5 = name4.replace('|', '')\n",
    "name6 = name5.replace(':', '')\n",
    "name7 = name6.replace('\"', '')\n",
    "name8 = name7.replace('*', '')\n",
    "name9 = name8.replace('?', '')\n",
    "print(name9)"
   ]
  },
  {
   "cell_type": "code",
   "execution_count": 4,
   "metadata": {},
   "outputs": [],
   "source": [
    "def mp3_download(urls,names):\n",
    "    for url, name in zip(urls, names):\n",
    "        \n",
    "        mp3 = re.get(str(url))\n",
    "        print(name)\n",
    "        with open('./survry20tracks/{}.mp3'.format(name), 'wb') as f:\n",
    "            f.write(mp3.content)"
   ]
  },
  {
   "cell_type": "code",
   "execution_count": 6,
   "metadata": {
    "scrolled": true
   },
   "outputs": [
    {
     "name": "stdout",
     "output_type": "stream",
     "text": [
      "(20, 5)\n",
      "1au9q3wiWxIwXTazIjHdfF\n",
      "1ExfPZEiahqhLyajhybFeS\n",
      "1fLlRApgzxWweF1JTf8yM5\n",
      "1pSIQWMFbkJ5XvwgzKfeBv\n",
      "1UMJ5XcJPmH6ZbIRsCLY5F\n",
      "2W2eaLVKv9NObcLXlYRZZo\n",
      "3S0OXQeoh0w6AY8WQVckRW\n",
      "3wF0zyjQ6FKLK4vFxcMojP\n",
      "4FCb4CUbFCMNRkI6lYc1zI\n",
      "4RL77hMWUq35NYnPLXBpih\n",
      "52UWtKlYjZO3dHoRlWuz9S\n",
      "5b88tNINg4Q4nrRbrCXUmg\n",
      "5E5MqaS6eOsbaJibl3YeMZ\n",
      "5uCax9HTNlzGybIStD3vDh\n",
      "5WLSak7DN3LY1K71oWYuoN\n",
      "6G7URf5rGe6MvNoiTtNEP7\n",
      "6QPKYGnAW9QozVz2dSWqRg\n",
      "6rUp7v3l8yC4TKxAAR5Bmx\n",
      "7qjbpdk0IYijcSuSYWlXO6\n",
      "7uRznL3LcuazKpwCTpDltz\n",
      "==========DONE!==========\n"
     ]
    }
   ],
   "source": [
    "if __name__ == \"__main__\":\n",
    "    audio = pd.read_csv('./survry20tracks/tracks_survey20tracks.csv')\n",
    "    print(audio.shape)\n",
    "    urls = audio.iloc[0:,4:5].values.tolist()\n",
    "    names = audio.iloc[:,0:1].values.tolist()\n",
    "\n",
    "    for i in range(len(urls)):\n",
    "        urls[i] = urls[i][0]\n",
    "        names[i] = names[i][0]\n",
    "\n",
    "    # print(urls)\n",
    "    # print('==============')\n",
    "    # print(names)\n",
    "    mp3_download(urls, names)\n",
    "    print(\"==========DONE!==========\")"
   ]
  },
  {
   "cell_type": "code",
   "execution_count": null,
   "metadata": {},
   "outputs": [],
   "source": []
  }
 ],
 "metadata": {
  "kernelspec": {
   "display_name": "Python 3",
   "language": "python",
   "name": "python3"
  },
  "language_info": {
   "codemirror_mode": {
    "name": "ipython",
    "version": 3
   },
   "file_extension": ".py",
   "mimetype": "text/x-python",
   "name": "python",
   "nbconvert_exporter": "python",
   "pygments_lexer": "ipython3",
   "version": "3.6.5"
  }
 },
 "nbformat": 4,
 "nbformat_minor": 2
}
