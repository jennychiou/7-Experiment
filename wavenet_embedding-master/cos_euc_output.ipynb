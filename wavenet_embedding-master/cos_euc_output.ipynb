{
 "cells": [
  {
   "cell_type": "code",
   "execution_count": 15,
   "metadata": {},
   "outputs": [],
   "source": [
    "import pandas as pd\n",
    "import numpy as np \n",
    "from sklearn.metrics.pairwise import cosine_similarity\n",
    "from sklearn.metrics.pairwise import euclidean_distances\n",
    "from file_load import file_path #,folder_path\n",
    "import shutil"
   ]
  },
  {
   "cell_type": "code",
   "execution_count": 16,
   "metadata": {},
   "outputs": [],
   "source": [
    "def cos_sim(path,name):\n",
    "\n",
    "    file_list, file_name, folder_list, folder_name = file_path(path, name)\n",
    "    features_list = []\n",
    "\n",
    "    for npy in file_list:\n",
    "        feature = np.load(npy)\n",
    "        features_list.append(feature)\n",
    "\n",
    "    features_array = np.array(features_list)\n",
    "\n",
    "    cos_sim_features = cosine_similarity(features_array)\n",
    "    df_cos_sim = pd.DataFrame(cos_sim_features,index = file_name, columns = file_name)\n",
    "\n",
    "    for music_name, path in zip(file_name, file_list):\n",
    "        sort = df_cos_sim[music_name].sort_values(ascending=False)\n",
    "        sort_20 = pd.DataFrame(sort.head(20))\n",
    "        \n",
    "        sort_20.to_csv(path.replace('.npy', '')+'_cos.csv')\n",
    "        print(path.replace('.npy', '')+'_cos.csv')"
   ]
  },
  {
   "cell_type": "code",
   "execution_count": 17,
   "metadata": {},
   "outputs": [],
   "source": [
    "def euc_dis(path,name):\n",
    "\n",
    "    file_list, file_name, folder_list, folder_name = file_path(path, name)\n",
    "    features_list = []\n",
    "\n",
    "    for npy in file_list:\n",
    "        feature = np.load(npy)\n",
    "        features_list.append(feature)\n",
    "\n",
    "    features_array = np.array(features_list)\n",
    "\n",
    "    euc_dis_features = euclidean_distances(features_array)\n",
    "    df_euc_dis = pd.DataFrame(euc_dis_features,index = file_name, columns = file_name)\n",
    "\n",
    "    for music_name, path in zip(file_name, file_list):\n",
    "        sort = df_euc_dis[music_name].sort_values(ascending=True)\n",
    "        sort_20 = pd.DataFrame(sort.head(20))\n",
    "\n",
    "        sort_20.to_csv(path.replace('.npy', '')+'_euc.csv')\n",
    "        print(path.replace('.npy', '')+'_euc.csv')"
   ]
  },
  {
   "cell_type": "code",
   "execution_count": 18,
   "metadata": {},
   "outputs": [
    {
     "name": "stdout",
     "output_type": "stream",
     "text": [
      "./test0531\\All of Me_cos.csv\n",
      "./test0531\\Feels Like This_cos.csv\n",
      "./test0531\\Given Up_cos.csv\n",
      "./test0531\\Goodbyes_cos.csv\n",
      "./test0531\\Happy_cos.csv\n",
      "./test0531\\Hero_cos.csv\n",
      "./test0531\\Homesick_cos.csv\n",
      "./test0531\\I Hate Everything About You_cos.csv\n",
      "./test0531\\I'm Yours_cos.csv\n",
      "./test0531\\Jekyll and Hyde_cos.csv\n",
      "./test0531\\Mr. Know It All_cos.csv\n",
      "./test0531\\My all_cos.csv\n",
      "./test0531\\November Night_cos.csv\n",
      "./test0531\\Sandcastles_cos.csv\n",
      "./test0531\\Skinny Love_cos.csv\n",
      "./test0531\\Someone Like You_cos.csv\n",
      "./test0531\\Spit It Out_cos.csv\n",
      "./test0531\\The Downfall of Us All_cos.csv\n",
      "./test0531\\The Lazy Song_cos.csv\n",
      "./test0531\\Thunderstruck_cos.csv\n",
      "./test0531\\All of Me_euc.csv\n",
      "./test0531\\Feels Like This_euc.csv\n",
      "./test0531\\Given Up_euc.csv\n",
      "./test0531\\Goodbyes_euc.csv\n",
      "./test0531\\Happy_euc.csv\n",
      "./test0531\\Hero_euc.csv\n",
      "./test0531\\Homesick_euc.csv\n",
      "./test0531\\I Hate Everything About You_euc.csv\n",
      "./test0531\\I'm Yours_euc.csv\n",
      "./test0531\\Jekyll and Hyde_euc.csv\n",
      "./test0531\\Mr. Know It All_euc.csv\n",
      "./test0531\\My all_euc.csv\n",
      "./test0531\\November Night_euc.csv\n",
      "./test0531\\Sandcastles_euc.csv\n",
      "./test0531\\Skinny Love_euc.csv\n",
      "./test0531\\Someone Like You_euc.csv\n",
      "./test0531\\Spit It Out_euc.csv\n",
      "./test0531\\The Downfall of Us All_euc.csv\n",
      "./test0531\\The Lazy Song_euc.csv\n",
      "./test0531\\Thunderstruck_euc.csv\n"
     ]
    }
   ],
   "source": [
    "if __name__ == \"__main__\":\n",
    "    path = './test0531'\n",
    "    name = '.npy'\n",
    "\n",
    "    cos_sim(path, name)\n",
    "    euc_dis(path, name)"
   ]
  },
  {
   "cell_type": "code",
   "execution_count": null,
   "metadata": {},
   "outputs": [],
   "source": []
  }
 ],
 "metadata": {
  "kernelspec": {
   "display_name": "Python 3",
   "language": "python",
   "name": "python3"
  },
  "language_info": {
   "codemirror_mode": {
    "name": "ipython",
    "version": 3
   },
   "file_extension": ".py",
   "mimetype": "text/x-python",
   "name": "python",
   "nbconvert_exporter": "python",
   "pygments_lexer": "ipython3",
   "version": "3.6.5"
  }
 },
 "nbformat": 4,
 "nbformat_minor": 2
}
