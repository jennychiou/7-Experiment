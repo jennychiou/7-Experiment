{
 "cells": [
  {
   "cell_type": "code",
   "execution_count": 15,
   "metadata": {},
   "outputs": [],
   "source": [
    "from file_load import file_path"
   ]
  },
  {
   "cell_type": "code",
   "execution_count": 16,
   "metadata": {},
   "outputs": [],
   "source": [
    "def file_comparison(mp3,npy,path):\n",
    "    mp3_list, mp3_names,folder_list, folder_name = file_path(path, mp3)\n",
    "    npy_list, npy_names,folder_list, folder_name = file_path(path, npy)\n",
    "    \n",
    "    replace_npy = []\n",
    "\n",
    "    for npy_path in npy_list:\n",
    "        temp = npy_path.replace('.npy', '.mp3')\n",
    "        replace_npy.append(temp)\n",
    "\n",
    "    comparison = list(set(mp3_list).difference(set(replace_npy)))\n",
    "    \n",
    "    print(len(npy_list), '輸出的npy數量')\n",
    "    print('===================')\n",
    "    print(len(comparison), '未處理的mp3數量')\n",
    "\n",
    "    with open(\"comparison/comparison0531.txt\", \"w\", encoding=\"utf-8\") as txt:\n",
    "        txt.write(str(comparison))"
   ]
  },
  {
   "cell_type": "code",
   "execution_count": 17,
   "metadata": {},
   "outputs": [
    {
     "name": "stdout",
     "output_type": "stream",
     "text": [
      "20 輸出的npy數量\n",
      "===================\n",
      "0 未處理的mp3數量\n"
     ]
    }
   ],
   "source": [
    "file_comparison('.mp3','.npy','./test0531')"
   ]
  },
  {
   "cell_type": "code",
   "execution_count": null,
   "metadata": {},
   "outputs": [],
   "source": []
  }
 ],
 "metadata": {
  "kernelspec": {
   "display_name": "Python 3",
   "language": "python",
   "name": "python3"
  },
  "language_info": {
   "codemirror_mode": {
    "name": "ipython",
    "version": 3
   },
   "file_extension": ".py",
   "mimetype": "text/x-python",
   "name": "python",
   "nbconvert_exporter": "python",
   "pygments_lexer": "ipython3",
   "version": "3.6.5"
  }
 },
 "nbformat": 4,
 "nbformat_minor": 2
}
