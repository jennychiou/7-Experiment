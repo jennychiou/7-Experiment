{
 "cells": [
  {
   "cell_type": "code",
   "execution_count": 1,
   "metadata": {},
   "outputs": [
    {
     "name": "stderr",
     "output_type": "stream",
     "text": [
      "D:\\Anaconda3\\lib\\site-packages\\h5py\\__init__.py:36: FutureWarning: Conversion of the second argument of issubdtype from `float` to `np.floating` is deprecated. In future, it will be treated as `np.float64 == np.dtype(float).type`.\n",
      "  from ._conv import register_converters as _register_converters\n"
     ]
    },
    {
     "name": "stdout",
     "output_type": "stream",
     "text": [
      "\n",
      "WARNING: The TensorFlow contrib module will not be included in TensorFlow 2.0.\n",
      "For more information, please see:\n",
      "  * https://github.com/tensorflow/community/blob/master/rfcs/20180907-contrib-sunset.md\n",
      "  * https://github.com/tensorflow/addons\n",
      "If you depend on functionality not listed there, please file an issue.\n",
      "\n",
      "WARNING:tensorflow:From D:\\AppData\\Roaming\\Python\\Python36\\site-packages\\magenta\\models\\nsynth\\wavenet\\masked.py:116: UniformUnitScaling.__init__ (from tensorflow.python.ops.init_ops) is deprecated and will be removed in a future version.\n",
      "Instructions for updating:\n",
      "Use tf.initializers.variance_scaling instead with distribution=uniform to get equivalent behavior.\n"
     ]
    }
   ],
   "source": [
    "from magenta.models.nsynth import utils\n",
    "from magenta.models.nsynth.wavenet import fastgen\n",
    "import file_load\n",
    "import librosa\n",
    "import numpy as np\n",
    "import csv"
   ]
  },
  {
   "cell_type": "code",
   "execution_count": 2,
   "metadata": {},
   "outputs": [],
   "source": [
    "def wavenet_encode(wave):\n",
    "    model_path = './wavenet-ckpt/wavenet-ckpt/model.ckpt-200000' #模型位置\n",
    "    # audio = np.load(file_path)\n",
    "    encoding = fastgen.encode(wave, model_path, len(wave))\n",
    "    print(encoding.reshape((-1, 16)).shape)\n",
    "    return encoding.reshape((-1, 16))"
   ]
  },
  {
   "cell_type": "code",
   "execution_count": 3,
   "metadata": {},
   "outputs": [
    {
     "name": "stdout",
     "output_type": "stream",
     "text": [
      "資料筆數： 20\n",
      "0 | 1au9q3wiWxIwXTazIjHdfF\n",
      "1 | 1ExfPZEiahqhLyajhybFeS\n",
      "2 | 1fLlRApgzxWweF1JTf8yM5\n",
      "3 | 1pSIQWMFbkJ5XvwgzKfeBv\n",
      "4 | 1UMJ5XcJPmH6ZbIRsCLY5F\n",
      "5 | 2W2eaLVKv9NObcLXlYRZZo\n",
      "6 | 3S0OXQeoh0w6AY8WQVckRW\n",
      "7 | 3wF0zyjQ6FKLK4vFxcMojP\n",
      "8 | 4FCb4CUbFCMNRkI6lYc1zI\n",
      "9 | 4RL77hMWUq35NYnPLXBpih\n",
      "10 | 52UWtKlYjZO3dHoRlWuz9S\n",
      "11 | 5b88tNINg4Q4nrRbrCXUmg\n",
      "12 | 5E5MqaS6eOsbaJibl3YeMZ\n",
      "13 | 5uCax9HTNlzGybIStD3vDh\n",
      "14 | 5WLSak7DN3LY1K71oWYuoN\n",
      "15 | 6G7URf5rGe6MvNoiTtNEP7\n",
      "16 | 6QPKYGnAW9QozVz2dSWqRg\n",
      "17 | 6rUp7v3l8yC4TKxAAR5Bmx\n",
      "18 | 7qjbpdk0IYijcSuSYWlXO6\n",
      "19 | 7uRznL3LcuazKpwCTpDltz\n"
     ]
    }
   ],
   "source": [
    "dataset_path = './survry20tracks'#dataset位置\n",
    "\n",
    "name1 = '.mp3' #欲讀取的檔名\n",
    "name2 = '.npy' \n",
    "\n",
    "mp3_paths, mp3_names, folder_list, folder_name = file_load.file_path(dataset_path, name1)\n",
    "npy_paths, npy_names, folder_list, folder_name = file_load.file_path(dataset_path, name2)\n",
    "replace_paths = []\n",
    "replace_names = []\n",
    "\n",
    "for npy_path, npy_name in zip(npy_paths, npy_names):\n",
    "    temp = npy_path.replace('.npy', '.mp3')\n",
    "    temp2 = npy_name.replace('.npy', 'mp3')\n",
    "    replace_paths.append(temp)\n",
    "    replace_names.append(temp2)\n",
    "\n",
    "comparison_paths = list(set(mp3_paths).difference(set(replace_paths)))\n",
    "comparison_names = list(set(mp3_names).difference(set(replace_names)))\n",
    "print('資料筆數：',len(comparison_names))\n",
    "\n",
    "#print('資料名稱：',mp3_names)\n",
    "\n",
    "for count in range (0,len(comparison_names)):\n",
    "    print(count,'|',mp3_names[count])"
   ]
  },
  {
   "cell_type": "code",
   "execution_count": 4,
   "metadata": {},
   "outputs": [],
   "source": [
    "def wavenet_vector(dataset_path):\n",
    "    name1 = '.mp3' #欲讀取的檔名\n",
    "    name2 = '.npy' \n",
    "\n",
    "    mp3_paths, mp3_names, folder_list, folder_name = file_load.file_path(dataset_path, name1)\n",
    "    npy_paths, npy_names, folder_list, folder_name = file_load.file_path(dataset_path, name2)\n",
    "\n",
    "    replace_paths = []\n",
    "    replace_names = []\n",
    "\n",
    "    for npy_path, npy_name in zip(npy_paths, npy_names):\n",
    "        temp = npy_path.replace('.npy', '.mp3')\n",
    "        temp2 = npy_name.replace('.npy', 'mp3')\n",
    "        replace_paths.append(temp)\n",
    "        replace_names.append(temp2)\n",
    "\n",
    "    comparison_paths = list(set(mp3_paths).difference(set(replace_paths)))\n",
    "    comparison_names = list(set(mp3_names).difference(set(replace_names)))\n",
    "\n",
    "    print('沒跑過的數量為{}'.format(str(len(comparison_names))))\n",
    "    \n",
    "    with open('survry20tracks/tracks_survey20tracks_vector.csv', 'a', newline='') as csvFile:\n",
    "        writer = csv.writer(csvFile)\n",
    "        #writer.writerow(['name','audio_vector'])                         \n",
    "        count = 0\n",
    "        for mp3, name in zip(comparison_paths, comparison_names):\n",
    "            # print(mp3)\n",
    "            wave, sr = librosa.load(mp3, sr = 16000)\n",
    "            wavenet_data = wavenet_encode(wave)\n",
    "            std_wavenet = np.std(wavenet_data, axis=0)\n",
    "            mean_wavenet = np.mean(wavenet_data, axis=0)\n",
    "\n",
    "            average_difference_channels = np.zeros((16,))\n",
    "\n",
    "            for i in range(0, len(wavenet_data) - 2, 2):\n",
    "                temp = wavenet_data[i] - wavenet_data[i+1]\n",
    "                average_difference_channels += temp\n",
    "            average_difference_channels /= (len(wavenet_data) // 2)   \n",
    "            average_difference_channels = np.array(average_difference_channels)\n",
    "\n",
    "            concat_features_wavenet = np.hstack((std_wavenet, mean_wavenet))\n",
    "            concat_features_wavenet = np.hstack((concat_features_wavenet, average_difference_channels))\n",
    "            \n",
    "            save_path = mp3.replace('.mp3', \"\")\n",
    "            string = save_path\n",
    "            num = string[-5:]\n",
    "            print('歌曲編號：',num)\n",
    "                \n",
    "            #print(concat_features_wavenet)\n",
    "            print('save',concat_features_wavenet.shape,'in',save_path)\n",
    "            print('===================================================================')\n",
    "            np.save(save_path,concat_features_wavenet) #存特徵向量在原資料夾\n",
    "               \n",
    "            # 寫入CSV\n",
    "            # Appending new rows to csv file 'a'        \n",
    "            Table = [[num,concat_features_wavenet]] \n",
    "            writer.writerows(Table)\n",
    "            count += 1\n",
    "            print('剩餘數量：',len(comparison_names)-count)\n",
    "    \n",
    "    print(\"===== Write CSV DONE =====\")"
   ]
  },
  {
   "cell_type": "code",
   "execution_count": 5,
   "metadata": {
    "scrolled": true
   },
   "outputs": [
    {
     "name": "stdout",
     "output_type": "stream",
     "text": [
      "沒跑過的數量為20\n",
      "WARNING:tensorflow:From D:\\Anaconda3\\lib\\site-packages\\tensorflow\\python\\framework\\op_def_library.py:263: colocate_with (from tensorflow.python.framework.ops) is deprecated and will be removed in a future version.\n",
      "Instructions for updating:\n",
      "Colocations handled automatically by placer.\n",
      "WARNING:tensorflow:From D:\\Anaconda3\\lib\\site-packages\\tensorflow\\python\\training\\saver.py:1266: checkpoint_exists (from tensorflow.python.training.checkpoint_management) is deprecated and will be removed in a future version.\n",
      "Instructions for updating:\n",
      "Use standard file APIs to check for files with this prefix.\n",
      "INFO:tensorflow:Restoring parameters from ./wavenet-ckpt/wavenet-ckpt/model.ckpt-200000\n",
      "(937, 16)\n",
      "歌曲編號： WlXO6\n",
      "save (48,) in ./survry20tracks\\7qjbpdk0IYijcSuSYWlXO6\n",
      "===================================================================\n",
      "剩餘數量： 19\n",
      "INFO:tensorflow:Restoring parameters from ./wavenet-ckpt/wavenet-ckpt/model.ckpt-200000\n",
      "(937, 16)\n",
      "歌曲編號： KfeBv\n",
      "save (48,) in ./survry20tracks\\1pSIQWMFbkJ5XvwgzKfeBv\n",
      "===================================================================\n",
      "剩餘數量： 18\n",
      "INFO:tensorflow:Restoring parameters from ./wavenet-ckpt/wavenet-ckpt/model.ckpt-200000\n",
      "(937, 16)\n",
      "歌曲編號： D3vDh\n",
      "save (48,) in ./survry20tracks\\5uCax9HTNlzGybIStD3vDh\n",
      "===================================================================\n",
      "剩餘數量： 17\n",
      "INFO:tensorflow:Restoring parameters from ./wavenet-ckpt/wavenet-ckpt/model.ckpt-200000\n",
      "(937, 16)\n",
      "歌曲編號： VckRW\n",
      "save (48,) in ./survry20tracks\\3S0OXQeoh0w6AY8WQVckRW\n",
      "===================================================================\n",
      "剩餘數量： 16\n",
      "INFO:tensorflow:Restoring parameters from ./wavenet-ckpt/wavenet-ckpt/model.ckpt-200000\n",
      "(937, 16)\n",
      "歌曲編號： SWqRg\n",
      "save (48,) in ./survry20tracks\\6QPKYGnAW9QozVz2dSWqRg\n",
      "===================================================================\n",
      "剩餘數量： 15\n",
      "INFO:tensorflow:Restoring parameters from ./wavenet-ckpt/wavenet-ckpt/model.ckpt-200000\n",
      "(937, 16)\n",
      "歌曲編號： f8yM5\n",
      "save (48,) in ./survry20tracks\\1fLlRApgzxWweF1JTf8yM5\n",
      "===================================================================\n",
      "剩餘數量： 14\n",
      "INFO:tensorflow:Restoring parameters from ./wavenet-ckpt/wavenet-ckpt/model.ckpt-200000\n",
      "(937, 16)\n",
      "歌曲編號： Yc1zI\n",
      "save (48,) in ./survry20tracks\\4FCb4CUbFCMNRkI6lYc1zI\n",
      "===================================================================\n",
      "剩餘數量： 13\n",
      "INFO:tensorflow:Restoring parameters from ./wavenet-ckpt/wavenet-ckpt/model.ckpt-200000\n",
      "(937, 16)\n",
      "歌曲編號： cMojP\n",
      "save (48,) in ./survry20tracks\\3wF0zyjQ6FKLK4vFxcMojP\n",
      "===================================================================\n",
      "剩餘數量： 12\n",
      "INFO:tensorflow:Restoring parameters from ./wavenet-ckpt/wavenet-ckpt/model.ckpt-200000\n",
      "(937, 16)\n",
      "歌曲編號： ybFeS\n",
      "save (48,) in ./survry20tracks\\1ExfPZEiahqhLyajhybFeS\n",
      "===================================================================\n",
      "剩餘數量： 11\n",
      "INFO:tensorflow:Restoring parameters from ./wavenet-ckpt/wavenet-ckpt/model.ckpt-200000\n",
      "(937, 16)\n",
      "歌曲編號： jHdfF\n",
      "save (48,) in ./survry20tracks\\1au9q3wiWxIwXTazIjHdfF\n",
      "===================================================================\n",
      "剩餘數量： 10\n",
      "INFO:tensorflow:Restoring parameters from ./wavenet-ckpt/wavenet-ckpt/model.ckpt-200000\n",
      "(937, 16)\n",
      "歌曲編號： WYuoN\n",
      "save (48,) in ./survry20tracks\\5WLSak7DN3LY1K71oWYuoN\n",
      "===================================================================\n",
      "剩餘數量： 9\n",
      "INFO:tensorflow:Restoring parameters from ./wavenet-ckpt/wavenet-ckpt/model.ckpt-200000\n",
      "(937, 16)\n",
      "歌曲編號： YRZZo\n",
      "save (48,) in ./survry20tracks\\2W2eaLVKv9NObcLXlYRZZo\n",
      "===================================================================\n",
      "剩餘數量： 8\n",
      "INFO:tensorflow:Restoring parameters from ./wavenet-ckpt/wavenet-ckpt/model.ckpt-200000\n",
      "(937, 16)\n",
      "歌曲編號： tNEP7\n",
      "save (48,) in ./survry20tracks\\6G7URf5rGe6MvNoiTtNEP7\n",
      "===================================================================\n",
      "剩餘數量： 7\n",
      "INFO:tensorflow:Restoring parameters from ./wavenet-ckpt/wavenet-ckpt/model.ckpt-200000\n",
      "(937, 16)\n",
      "歌曲編號： 3YeMZ\n",
      "save (48,) in ./survry20tracks\\5E5MqaS6eOsbaJibl3YeMZ\n",
      "===================================================================\n",
      "剩餘數量： 6\n",
      "INFO:tensorflow:Restoring parameters from ./wavenet-ckpt/wavenet-ckpt/model.ckpt-200000\n",
      "(937, 16)\n",
      "歌曲編號： XBpih\n",
      "save (48,) in ./survry20tracks\\4RL77hMWUq35NYnPLXBpih\n",
      "===================================================================\n",
      "剩餘數量： 5\n",
      "INFO:tensorflow:Restoring parameters from ./wavenet-ckpt/wavenet-ckpt/model.ckpt-200000\n",
      "(937, 16)\n",
      "歌曲編號： R5Bmx\n",
      "save (48,) in ./survry20tracks\\6rUp7v3l8yC4TKxAAR5Bmx\n",
      "===================================================================\n",
      "剩餘數量： 4\n",
      "INFO:tensorflow:Restoring parameters from ./wavenet-ckpt/wavenet-ckpt/model.ckpt-200000\n",
      "(937, 16)\n",
      "歌曲編號： pDltz\n",
      "save (48,) in ./survry20tracks\\7uRznL3LcuazKpwCTpDltz\n",
      "===================================================================\n",
      "剩餘數量： 3\n",
      "INFO:tensorflow:Restoring parameters from ./wavenet-ckpt/wavenet-ckpt/model.ckpt-200000\n",
      "(937, 16)\n",
      "歌曲編號： CLY5F\n",
      "save (48,) in ./survry20tracks\\1UMJ5XcJPmH6ZbIRsCLY5F\n",
      "===================================================================\n",
      "剩餘數量： 2\n",
      "INFO:tensorflow:Restoring parameters from ./wavenet-ckpt/wavenet-ckpt/model.ckpt-200000\n",
      "(937, 16)\n",
      "歌曲編號： CXUmg\n",
      "save (48,) in ./survry20tracks\\5b88tNINg4Q4nrRbrCXUmg\n",
      "===================================================================\n",
      "剩餘數量： 1\n",
      "INFO:tensorflow:Restoring parameters from ./wavenet-ckpt/wavenet-ckpt/model.ckpt-200000\n",
      "(937, 16)\n",
      "歌曲編號： Wuz9S\n",
      "save (48,) in ./survry20tracks\\52UWtKlYjZO3dHoRlWuz9S\n",
      "===================================================================\n",
      "剩餘數量： 0\n",
      "===== Write CSV DONE =====\n",
      "========== FINISH ==========\n"
     ]
    }
   ],
   "source": [
    "if __name__ == \"__main__\":\n",
    "    dataset_path = './survry20tracks'#dataset位置\n",
    "    wavenet_vector(dataset_path)\n",
    "    print(\"========== FINISH ==========\")"
   ]
  },
  {
   "cell_type": "code",
   "execution_count": 82,
   "metadata": {},
   "outputs": [
    {
     "name": "stdout",
     "output_type": "stream",
     "text": [
      "===== Sort Done =====\n"
     ]
    }
   ],
   "source": [
    "# 排序歌曲name\n",
    "import operator\n",
    "data = csv.reader(open('tracks_audiofeatures0625_re/audio_vector.csv'))\n",
    "sortedlist = sorted(data, key=operator.itemgetter(0)) # 0 specifies according to first column we want to sort\n",
    "with open(\"tracks_audiofeatures0625_re/audio_vector_sort.csv\", \"w\") as f:\n",
    "    fileWriter = csv.writer(f)\n",
    "    fileWriter.writerow(['num','audio_vector'])\n",
    "    for row in sortedlist:\n",
    "        fileWriter.writerow(row)\n",
    "    print('===== Sort Done =====')"
   ]
  },
  {
   "cell_type": "code",
   "execution_count": 83,
   "metadata": {},
   "outputs": [
    {
     "name": "stdout",
     "output_type": "stream",
     "text": [
      "===== Sort Done =====\n"
     ]
    }
   ],
   "source": [
    "# 排序歌曲name\n",
    "import operator\n",
    "data = csv.reader(open('tracks_audiofeatures0625_re/audio_vector.csv'))\n",
    "sortedlist = sorted(data, key=operator.itemgetter(0)) # 0 specifies according to first column we want to sort\n",
    "with open(\"tracks_audiofeatures0625_re/audio_vector_sort_new.csv\", \"w\", newline='') as f:\n",
    "    fileWriter = csv.writer(f)\n",
    "    fileWriter.writerow(['num','audio_vector'])\n",
    "    for row in sortedlist:\n",
    "        fileWriter.writerow(row)\n",
    "    print('===== Sort Done =====')"
   ]
  },
  {
   "cell_type": "code",
   "execution_count": 91,
   "metadata": {},
   "outputs": [
    {
     "name": "stdout",
     "output_type": "stream",
     "text": [
      "OK\n"
     ]
    }
   ],
   "source": [
    "'''\n",
    "import csv\n",
    "with open(\"tracks_audiofeatures0622_re/audio_vector.csv\",\"r\") as f:\n",
    "    csvreader = csv.reader(f)\n",
    "    for row in csvreader:\n",
    "        #print(row[0])\n",
    "        if \"name\" in row[0]:\n",
    "            print(\"OK\")\n",
    "'''"
   ]
  },
  {
   "cell_type": "code",
   "execution_count": null,
   "metadata": {},
   "outputs": [],
   "source": []
  }
 ],
 "metadata": {
  "kernelspec": {
   "display_name": "Python 3",
   "language": "python",
   "name": "python3"
  },
  "language_info": {
   "codemirror_mode": {
    "name": "ipython",
    "version": 3
   },
   "file_extension": ".py",
   "mimetype": "text/x-python",
   "name": "python",
   "nbconvert_exporter": "python",
   "pygments_lexer": "ipython3",
   "version": "3.6.5"
  }
 },
 "nbformat": 4,
 "nbformat_minor": 2
}
