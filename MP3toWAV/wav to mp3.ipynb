{
 "cells": [
  {
   "cell_type": "markdown",
   "metadata": {},
   "source": [
    "Convert MP3 to WAV<br>\n",
    "https://pythonbasics.org/convert-mp3-to-wav/"
   ]
  },
  {
   "cell_type": "code",
   "execution_count": 1,
   "metadata": {},
   "outputs": [],
   "source": [
    "import os\n",
    "import glob\n",
    "from os import path\n",
    "from pydub import AudioSegment"
   ]
  },
  {
   "cell_type": "code",
   "execution_count": 4,
   "metadata": {},
   "outputs": [
    {
     "name": "stdout",
     "output_type": "stream",
     "text": [
      "['src\\\\1hunnit.mp3', 'src\\\\Artist.mp3', 'src\\\\D T B  (Interlude).mp3', 'src\\\\Fall in Love.mp3', 'src\\\\Friend Zone.mp3', 'src\\\\I Know What s Real.mp3', 'src\\\\Jungle.mp3', 'src\\\\Money over Everything.mp3', 'src\\\\My Shit.mp3', 'src\\\\Still Think About You.mp3', 'src\\\\Trap House.mp3']\n"
     ]
    }
   ],
   "source": [
    "# files\n",
    "lst = glob.glob( \"src/\" + \"*.mp3\")\n",
    "print(lst)"
   ]
  },
  {
   "cell_type": "code",
   "execution_count": 5,
   "metadata": {
    "scrolled": true
   },
   "outputs": [
    {
     "name": "stdout",
     "output_type": "stream",
     "text": [
      "src : src/1hunnit.mp3\n",
      "dst : dst/1hunnit.wav\n",
      "src : src/Artist.mp3\n",
      "dst : dst/Artist.wav\n",
      "src : src/D T B  (Interlude).mp3\n",
      "dst : dst/D T B  (Interlude).wav\n",
      "src : src/Fall in Love.mp3\n",
      "dst : dst/Fall in Love.wav\n",
      "src : src/Friend Zone.mp3\n",
      "dst : dst/Friend Zone.wav\n",
      "src : src/I Know What s Real.mp3\n",
      "dst : dst/I Know What s Real.wav\n",
      "src : src/Jungle.mp3\n",
      "dst : dst/Jungle.wav\n",
      "src : src/Money over Everything.mp3\n",
      "dst : dst/Money over Everything.wav\n",
      "src : src/My Shit.mp3\n",
      "dst : dst/My Shit.wav\n",
      "src : src/Still Think About You.mp3\n",
      "dst : dst/Still Think About You.wav\n",
      "src : src/Trap House.mp3\n",
      "dst : dst/Trap House.wav\n"
     ]
    }
   ],
   "source": [
    "for src in lst:\n",
    "    # convert wav to mp3\n",
    "    src = src.replace(\"\\\\\", \"/\")\n",
    "    print('src :',src)\n",
    "    sound = AudioSegment.from_mp3(src)\n",
    "    dst = src.replace(\".mp3\", \".wav\").replace('src','dst')\n",
    "    print('dst :',dst)\n",
    "    sound.export(dst, format=\"wav\")"
   ]
  },
  {
   "cell_type": "code",
   "execution_count": null,
   "metadata": {},
   "outputs": [],
   "source": []
  }
 ],
 "metadata": {
  "kernelspec": {
   "display_name": "Python 3",
   "language": "python",
   "name": "python3"
  },
  "language_info": {
   "codemirror_mode": {
    "name": "ipython",
    "version": 3
   },
   "file_extension": ".py",
   "mimetype": "text/x-python",
   "name": "python",
   "nbconvert_exporter": "python",
   "pygments_lexer": "ipython3",
   "version": "3.7.3"
  }
 },
 "nbformat": 4,
 "nbformat_minor": 2
}
