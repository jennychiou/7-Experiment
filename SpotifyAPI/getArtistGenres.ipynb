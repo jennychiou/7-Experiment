{
 "cells": [
  {
   "cell_type": "code",
   "execution_count": 1,
   "metadata": {},
   "outputs": [],
   "source": [
    "import os\n",
    "import re\n",
    "import csv\n",
    "import sys\n",
    "import ast \n",
    "import json\n",
    "import time\n",
    "import urllib\n",
    "import random\n",
    "import spotipy\n",
    "import requests\n",
    "import datetime\n",
    "import configparser\n",
    "import numpy as np\n",
    "import pandas as pd\n",
    "import urllib.parse\n",
    "from bs4 import BeautifulSoup\n",
    "from user_agent import generate_user_agent\n",
    "from spotipy.oauth2 import SpotifyClientCredentials"
   ]
  },
  {
   "cell_type": "code",
   "execution_count": 2,
   "metadata": {},
   "outputs": [],
   "source": [
    "# spotifyAPI存取權限\n",
    "client_id = '1a23ed1ca359485ab81d524206dba0f6'\n",
    "client_secret = 'af0e14fdb19a49dfb19ef0c1ea1d42ea'\n",
    "username = 'qnwv65t11cplaz4dikhl4mjgi'\n",
    "client_credentials_manager = SpotifyClientCredentials(client_id=client_id, client_secret=client_secret)\n",
    "sp = spotipy.Spotify(client_credentials_manager=client_credentials_manager)"
   ]
  },
  {
   "cell_type": "code",
   "execution_count": 30,
   "metadata": {},
   "outputs": [],
   "source": [
    "# 取得歌手名稱和類型\n",
    "# https://github.com/Leats/spotify-historymaker/blob/master/spotifyhistorymaker.py\n",
    "# Bruno Mars = 0du5cEVh5yTK9QJze8zA0C / Adele = 4dpARuHxo51G3z768sgnrY\n",
    "def get_artist_name_genres(access_token: str, artist_id: str):    \n",
    "    bearer_token = f'Bearer {access_token}'\n",
    "    track_headers = {'Accept': 'application/json','Content-Type': 'application/json','Authorization': bearer_token}\n",
    "    response = requests.get(f'https://api.spotify.com/v1/artists/{artist_id}', headers=track_headers)\n",
    "    response.raise_for_status()\n",
    "    getname = response.json()['name']\n",
    "    getid = response.json()['id']\n",
    "    getgenres = response.json()['genres']\n",
    "    \n",
    "    list_artist_name.append(getname)\n",
    "    list_artist_id.append(getid)\n",
    "    list_artist_genres.append(getgenres)\n",
    "    return list_artist_name,list_artist_id,list_artist_genres"
   ]
  },
  {
   "cell_type": "code",
   "execution_count": 28,
   "metadata": {},
   "outputs": [],
   "source": [
    "def info2dataframe(list_artist_name,list_artist_id,list_artist_genres):\n",
    "    df_artist_info = pd.DataFrame(list(zip(list_artist_name,list_artist_id,list_artist_genres)), columns =['Name','Id','Genres'])\n",
    "    df_artist_info.to_excel('csv/20200303/df_artist_info.xlsx')\n",
    "    return df_artist_info"
   ]
  },
  {
   "cell_type": "code",
   "execution_count": 31,
   "metadata": {},
   "outputs": [],
   "source": [
    "# 取得spotify的access token：https://spotify-token-finder.herokuapp.com/\n",
    "artist_id = ['0du5cEVh5yTK9QJze8zA0C','4dpARuHxo51G3z768sgnrY','6prmLEyn4LfHlD9NnXWlf7']\n",
    "access_token = 'BQB3GhWzXA5xxmrLNFLJByB4PPZJLRUr2xMAmVAmHI3z5ZTMrlnsoQ_ESklWBnsMqBN-C5JSAUPopd5KI34'\n",
    "list_artist_name = []\n",
    "list_artist_id = []\n",
    "list_artist_genres = []\n",
    "\n",
    "for i in range(len(artist_id)):\n",
    "    list_artist_name,list_artist_id,list_artist_genres = get_artist_name_genres(access_token,artist_id[i])\n",
    "    df_artist_info = info2dataframe(list_artist_name,list_artist_id,list_artist_genres)"
   ]
  },
  {
   "cell_type": "code",
   "execution_count": 135,
   "metadata": {
    "scrolled": true
   },
   "outputs": [],
   "source": [
    "# 歌手類型清單\n",
    "# 1. https://www.reddit.com/r/spotify/comments/6h7u9g/list_of_genre_uris/\n",
    "# 2. http://everynoise.com/everynoise1d.cgi?root=pop&scope=all\n",
    "\n",
    "# 把編號1網址的所有類型爬取回來，建立類型的dataframe\n",
    "def spotify_genres(url):\n",
    "    headers={'User-Agent': 'Mozilla/5.0 (Windows NT 10.0; Win64; x64) AppleWebKit/537.36 (KHTML, like Gecko) Chrome/80.0.3987.122 Safari/537.36'}\n",
    "    page = requests.get(url, headers=headers)\n",
    "    soup = BeautifulSoup(page.text, \"html.parser\")\n",
    "    tables = soup.find('table')\n",
    "    return tables\n",
    "\n",
    "# 所有的歌手類型建立txt檔\n",
    "def spotify_genres_ouput(tables):\n",
    "    data=[]\n",
    "    genres_row = tables.findAll('tr')\n",
    "    with open('csv/20200303/artist_genres.csv','w',newline='') as f:\n",
    "        writeCsv = csv.writer(f)\n",
    "        writeCsv.writerow(['Genres'])\n",
    "        for i in range(0,len(genres_row)):\n",
    "            td = genres_row[i].findAll('td')\n",
    "            genres = td[2].getText()\n",
    "            genres = genres.replace(';','')\n",
    "            f.write(genres.encode(\"utf8\").decode(\"cp950\", \"ignore\"))\n",
    "            data.append(genres.encode(\"utf8\").decode(\"cp950\", \"ignore\"))\n",
    "            if i < len(genres_row)-1:\n",
    "                f.write('\\n')\n",
    "    f.close()\n",
    "    print('Genres Count:',len(data))\n",
    "    return data"
   ]
  },
  {
   "cell_type": "code",
   "execution_count": 136,
   "metadata": {},
   "outputs": [
    {
     "name": "stdout",
     "output_type": "stream",
     "text": [
      "Genres Count: 4009\n"
     ]
    }
   ],
   "source": [
    "url = 'http://everynoise.com/everynoise1d.cgi?root=pop&scope=all'\n",
    "tables = spotify_genres(url)\n",
    "data = spotify_genres_ouput(tables)"
   ]
  },
  {
   "cell_type": "code",
   "execution_count": 123,
   "metadata": {
    "collapsed": true
   },
   "outputs": [
    {
     "data": {
      "text/html": [
       "<div>\n",
       "<style scoped>\n",
       "    .dataframe tbody tr th:only-of-type {\n",
       "        vertical-align: middle;\n",
       "    }\n",
       "\n",
       "    .dataframe tbody tr th {\n",
       "        vertical-align: top;\n",
       "    }\n",
       "\n",
       "    .dataframe thead th {\n",
       "        text-align: right;\n",
       "    }\n",
       "</style>\n",
       "<table border=\"1\" class=\"dataframe\">\n",
       "  <thead>\n",
       "    <tr style=\"text-align: right;\">\n",
       "      <th></th>\n",
       "      <th>Genres</th>\n",
       "    </tr>\n",
       "  </thead>\n",
       "  <tbody>\n",
       "    <tr>\n",
       "      <th>0</th>\n",
       "      <td>pop</td>\n",
       "    </tr>\n",
       "    <tr>\n",
       "      <th>1</th>\n",
       "      <td>dance pop</td>\n",
       "    </tr>\n",
       "    <tr>\n",
       "      <th>2</th>\n",
       "      <td>post-teen pop</td>\n",
       "    </tr>\n",
       "    <tr>\n",
       "      <th>3</th>\n",
       "      <td>electropop</td>\n",
       "    </tr>\n",
       "    <tr>\n",
       "      <th>4</th>\n",
       "      <td>pop rap</td>\n",
       "    </tr>\n",
       "    <tr>\n",
       "      <th>...</th>\n",
       "      <td>...</td>\n",
       "    </tr>\n",
       "    <tr>\n",
       "      <th>4004</th>\n",
       "      <td>polish classical</td>\n",
       "    </tr>\n",
       "    <tr>\n",
       "      <th>4005</th>\n",
       "      <td>italian choir</td>\n",
       "    </tr>\n",
       "    <tr>\n",
       "      <th>4006</th>\n",
       "      <td>classical guitar quartet</td>\n",
       "    </tr>\n",
       "    <tr>\n",
       "      <th>4007</th>\n",
       "      <td>wind quintet</td>\n",
       "    </tr>\n",
       "    <tr>\n",
       "      <th>4008</th>\n",
       "      <td>ukrainian choir</td>\n",
       "    </tr>\n",
       "  </tbody>\n",
       "</table>\n",
       "<p>4009 rows × 1 columns</p>\n",
       "</div>"
      ],
      "text/plain": [
       "                        Genres\n",
       "0                          pop\n",
       "1                    dance pop\n",
       "2                post-teen pop\n",
       "3                   electropop\n",
       "4                      pop rap\n",
       "...                        ...\n",
       "4004          polish classical\n",
       "4005             italian choir\n",
       "4006  classical guitar quartet\n",
       "4007              wind quintet\n",
       "4008           ukrainian choir\n",
       "\n",
       "[4009 rows x 1 columns]"
      ]
     },
     "execution_count": 123,
     "metadata": {},
     "output_type": "execute_result"
    }
   ],
   "source": [
    "df_artist_genres = pd.read_csv('csv/20200303/artist_genres.csv')\n",
    "df_artist_genres"
   ]
  },
  {
   "cell_type": "code",
   "execution_count": 141,
   "metadata": {
    "collapsed": true
   },
   "outputs": [
    {
     "data": {
      "text/plain": [
       "\"ambient|dub|electronic rock|sampledelia|chiptune|industrial|hi-nrg|minimal wave|synth-pop|electropop|electropunk|breakbeat|dubtronica|electro|freestyle|electro-industrial|eurodance|hardcoreitalo disco|house|techno|digital hardcore|downtempo|drum and bass|dubstep|electroclash|electro hop|ethnic electronica|folktronica|funktronica|glitch|goa|hardstyle|intelligent dance music|jungle music|livetronica|mákina|nu skool breaks|progressive electronica|trance|uk garage|bass music|bassline|crunk|chillwave|electro house|grime|hauntology|synthwave|uk funky|witch house|big room house|future bass|hardvapour|trap edm|vaporwave|chill-out music|contemporary r&b|disco|post-disco|garage house|electronics in rock music|list of electronic music genres|list of hip hop genres|plunderphonics|turntablism hip-hop music|video game music|alternative hip hop|bouncechicano rap|chopped and screwed|chopper|christian hip hop|cloud rap|comedy hip hop|crunk|dirty rap|drill|east coast|electro|freestyle|freestyle rap|gangsta rap|mafioso rap|g-funk|hardcore hip hop|horrorcoreindie hip hop|instrumental hip hop|latino hip hop|lgbt hip hop|memphis rap|mumble rap|midwestnerdcore hip hop|political hip hop|conscious hip hop|pop rap|punk rap|snap music|southerntrap|turntablism|underground hip hop|west coast|afroswing|baltimore club|country rap|crunkcore|cumbia rap|emo hip hop|florida breaks|funk carioca|ghetto house|ghettotech|glitch hopgrime|hip hop soul|hip house|hiplife|hipster hop|hyphy|igbo rap|illbient|industrial hip hop|jazz rap|jersey club|latin hip hoplatin trap|merenrap|new jack swing|neo soul|nu metal|pop-rap|rap opera|rap rock|rap metal|reggaeton|alternative reggaeton|trip hop|urbano|urban pasifika|wonky|auto-tune|contemporary r&b|dj|dj mixer|record player|turntablism|drum machine|sampler|synthesizer|music sequencer|jazz|algerian|gambian|ghanaian|igboivorian|kenyan|moroccan|nigerien|senegalese|tanzanian|togolese|zimbabwean|bangladeshi|burmese|chinese|hong kong|indian|indonesian|japanese|japan|korean|malaysian|nepalese|pakistani|philippine|russian|singaporean|sri lankan|taiwanese|taiwan|thai|arabic|egyptian|iranian|israeli|lebanese|palestinian|turkish|yemeni|afrobeat|instrumental|acoustic|hip hop|rif|rock|fann at-tanbura|fijiri|khaliji|liwa|sawt|anison|cantopop|c-pop|enka|hong kong english pop|j-pop|kayōkyoku|k-pop|mandopop|onkyokei|p-pop|taiwanese pop|v-pop|kawaii metal|baila|baul|bhangra|carnatic|garba|dangdut|filmi|hindustani|indian pop|lavani|luk thung|luk krung|manila sound|original pilipino music|v-pop|morlam|pinoy pop|pop sunda|thai pop|ragini|keroncong|gamelan|background music|beautiful music|elevator music|furniture music|lounge music|middle of the road|new-age music|ambient|ambient dub|dark ambient|drone music|space music|illbient|psybient|isolationism|asian underground|breakbeat|acid breaks|baltimore club|big beat|broken beat|florida breaks|nu-funk|miami bass|jersey club|nu skool breaks|disco|afro / cosmic disco|disco polo|euro disco|italo disco|nu-disco|space disco|downtempo|acid jazz|chill-out|new-age music|space music|trip hop|drum and bass|liquid funk|neurofunk|neurohop|jump-up|darkstep|drumstep|funkstep|hardstep|sambass|techstep|dub|ambient dub|dancehall|dub poetry|dub reggae|dub techno|dubstep|dubtronica|electro music|freestyle music|electroacoustic music|acousmatic music|musique concrète|electronic dance music|electronic rock|alternative dance|indietronica|coldwave|dance-punk|dark wave|electroclash|electronicore|electropunk|ethereal wave|krautrock|minimal wave|new rave|nu-gaze|space rock|synthpop|electronica|berlin school|dubtronica|ethnic electronica|folktronica|funktronica|laptronica|livetronica|hardcore|gabba|4-beat|breakbeat hardcore|bouncy techno|breakcore|digital hardcore|darkcore|happy hardcore|mákina|speedcore|uk hardcore|doomcore|hardstyle|dubstyle|jumpstyle|lento violento|hardbass|hi-nrg|eurobeat|eurodance|bubblegum dance|italo dance|house music|acid house|ambient house|balearic beat|chicago house|deep house|future house|tropical house|diva house|electro house|big room house|complextro|fidget house|dutch house|moombahton|moombahcore|french house|funky house|garage house|ghetto house|ghettotech|hardbag|hard house|hard dance|hard nrg|hip house|italo house|jazz house|kidandali|kwaito|latin house|microhouse/minimal house|new beat|outsider house|progressive house|rara tech|tech house|tribal house|trival|witch house|industrial music|aggrotech|cybergrind|electro-industrial|dark electro|electronic body music|futurepop|industrial metal|industrial rock|japanoise|martial industrial|neue deutsche härte|power electronics|death industrial|power noise|idm|glitch|glitch hop|wonky|jungle|darkcore jungle|raggacore|post-disco|boogie|electropop|chillwave|vaporwave|dance-pop|dance-rock|techno|acid techno|detroit techno|dub techno|free tekno|minimal techno|nortec|tecno brega|techdombe|trance music|acid trance|balearic trance|dream trance|euro-trance|hard trance|nitzhonot|psychedelic trance|full on|suomisaundi|goa trance|progressive trance|tech trance|uplifting trance|vocal trance|uk garage|2-step garage|dubstep|brostep|chillstep|drumstep|reggaestep|trapstep|metalstep|vomitstep|breakstep|future garage|grime|grindie|speed garage|bassline/4x4 garage|uk funky|vaporwave|video game music|chiptune|bitpop|game boy music|shiny|skweee|nintendocore|splatune|stylophonic pop|alternative hip hop|australian hip hop|bongo flava|boom bap|british hip hop|chap hop|chopper rap|christian hip hop|cloud rap|conscious hip hop|crunk|crunkcore|drill|electro music|emo rap|experimental hip hop|g-funk|gangsta rap|ghetto house|ghettotech|golden age hip hop|grime|hardcore hip hop|hip house|hiplife|hip pop|hipster hop|hyphy|industrial hip hop|instrumental hip hop|jazz rap|jersey club|kwaito|lyrical hip hop|low bap|merenrap|motswako|mumble rap|nerdcore|new jack swing|new school hip hop|old school hip hop|political hip hop|ragga|reggaeton|snap|jerkin'|trap|urban pasifika|west coast hip hop|acid jazz|afro-cuban jazz|alt-jazz|asian american jazz|avant-garde jazz|bebop|boogie-woogie|bossa nova|british dance band|cape jazz|chamber jazz|continental jazz|cool jazz|crossover jazz|dixieland|ethno jazz|european free jazz|free funk|free improvisation|free jazz|gypsy jazz|hard bop|jazz blues|jazz-funk|jazz fusion|jazz rap|jazz rock|kansas city blues|kansas city jazz|latin jazz|livetronica|m-base|mainstream jazz|modal jazz|neo-bop jazz|neo-swing|novelty ragtime|nu jazz|orchestral jazz|post-bop|punk jazz|ragtime|shibuya-kei|ska jazz|smooth jazz|soul jazz|stride jazz|straight-ahead jazz|swing|third stream|trad jazz|vocal jazz|west coast jazz|brazilian|axé|brazilian rock|brega|tecnobrega|choro|forró|frevo|funk carioca|lambada|zouk-lambada|maracatu|música popular brasileira|tropicalia|música sertaneja|new mexico music|samba|pagode|samba rock|latin christian|latin jazz|afro-cuban jazz|bossa nova|latin pop|latin ballad|latin swing|latin rock|latin alternative|rock en español|reggaeton|latin trap|regional mexican|banda|norteño|traditional:|flamenco|tango|folk|bullerengue|fado|grupera|huayno|mariachi|ranchera|mexican son|música criolla|nueva canción|tropical|bachata|bolero|criolla|cumbia|chicha|porro|guajira|mambo|merengue|rumba|salsa|salsa romántica|son|tejano|timba|tropipop|vallenato|contemporary r&b|disco|funk|deep funk|minneapolis sound|freestyle music|go-go|hip hop soul|p-funk|post-disco|boogie|pbr&b|gospel music|new jack swing|rhythm and blues|soul|blue-eyed soul|hip hop soul|northern soul|neo soul|southern soul|alternative rock|grunge|post-grunge|ocean grunge|indie rock|dunedin sound|math rock|post-punk revival|sadcore|dream pop|shoegaze|slowcore|beat music|christian rock|dark cabaret|electronic rock|electronicore|experimental rock|art rock|industrial rock|post-punk|gothic rock|no wave|noise rock|post-rock|post-metal|folk rock|garage rock|glam rock|hard rock|heavy metal|alternative metal|funk metal|nu metal|rap metal|avant-garde metal|black metal|symphonic black metal|viking metal|national socialist black metal|atmospheric black metal|melodic black metal|ambient black metal|depressive black metal|depressive suicidal black metal|war metal|christian metal|unblack metal|death metal|death 'n' roll|melodic death metal|technical death metal|deathgrind|doom metal|death-doom|drone metal|folk metal|celtic metal|medieval metal|pagan metal|glam metal|gothic metal|industrial metal|kawaii metal|latin metal|metalcore|melodic metalcore|deathcore|mathcore|metalstep|neoclassical metal|neue deutsche härte|post-metal|power metal|progressive metal|djent|sludge metal|speed metal|symphonic metal|thrash metal|crossover thrash|groove metal|jazz rock|new wave|world fusion|paisley underground|desert rock|pop rock|soft rock|progressive rock|canterbury scene|krautrock|new prog|rock in opposition|space rock|psychedelic rock|acid rock|freakbeat|neo-psychedelia|raga rock|punk rock|anarcho punk|crust punk|d-beat|art punk|christian punk|deathrock|digital hardcore|folk punk|celtic punk|cowpunk|gypsy punk|garage punk|grindcore|crustgrind|noisegrind|goregrind|hardcore punk|post-hardcore|emo|emo pop|screamo|thrashcore|crossover thrash|powerviolence|street punk|horror punk|pop punk|neon pop|nazi punk|psychobilly|riot grrrl|ska punk|skate punk|rap rock|rapcore|rockjazz|rock and roll|southern rock|stoner rock|sufi rock|surf rock|visual kei|nagoya kei|worldbeat|ancient music|early music|medieval music|ars antiqua|ars nova|ars subtilior|renaissance music|baroque music|galant music|common-practice period|baroque music|galant music|classical period|romantic music|20th and 21st centuries|modernism|impressionism in music|neoclassicism|high modernism|postmodern music|experimental music|contemporary classical music|dance music|african heavy metal|african hip hop|afrobeat|afro pop|afrobeats|amapiano|apala|benga|bikutsi|cape jazz|chimurenga|congolese rumba|coupé-décalé|fuji music|genge|gqom|highlife|hiplife|igbo highlife|igbo rap|isicathamiya|jit|jùjú|kapuka aka boomba|kadongo kamu|kizomba|kuduro|kwaito|kwela|makossa|maloya|marrabenta|mbalax|mbaqanga|mbube|morna|ndombolo|palm-wine|raï|sakara|sega|seggae|semba|shangaan electro|soukous|kwassa kwassa|taarab|zouglou cote d'ivoire|experimental music|noise|lo-fi|musique concrète|electroacoustic|african blues|blues rock|blues shouter|british blues|canadian blues|chicago blues|classic female blues|contemporary r&b|country blues|delta blues|detroit blues|electric blues|funk blues|gospel blues|hill country blues|hokum blues|jump blues|kansas city blues|louisiana blues|memphis blues|piedmont blues|punk blues|rhythm and blues|soul blues|st. louis blues|swamp blues|texas blues|west coast blues|baithak gana|dancehall music|bouyon|cadence-lypso|calypso|cha-cha-chá|chutney|chutney soca|chutney parang|compas|mambo|mento|merengue|méringue|mozambique|pichakaree|punta|punta rock|rasin|reggae|dub|lovers rock|ragga|ragga jungle|reggae fusion|rocksteady|rumba|ska|2 tone|ska punk|salsa|son cubano|songo|soca|timba|twoubadou|zouk|rap|rock|blues|r&b|metal|electro|electropop|edm|classical|african|italian|c86|c64|e6fi|piano|guitar|animal singing|swing music|western swing|rock and roll|funk|new wave| italo disco| euro disco|post-disco|synthpop|dance-pop|funk|contemporary r&b|hip hop|new jack swing|house|acid house|techno, freestyle|miami bass|bounce|electro|hi-nrg|madchester|ebm|cosmic disco|balearic beat|new beat|house|italo dance|italo house|eurodance|electro|electroclash|progressive house|french house|techno|minimal techno|trance|alternative dance|new jack swing|contemporary r&b|dancehall|hip hop|g-funk|miami bass|drum and bass|big beat, breakbeat|breakbeat hardcore|rave|hardcore|happy hardcore|speed garage|uk garage|soca|reggaeton|psytrance|goa trance|trance, electropop|dance-pop|snap|crunk|dancehall|reggaeton|dance-punk|nu-disco|electro house|minimal techno|dubstep, grime|bassline|uk funky, contemporary r&b|hip hop|drum and bass|progressive house|hardstyle|funky house|synthpop|glitchpop|hip house|nu-disco|new wave|new rave|trance|house|hi-nrg|hard nrg|dance-pop|electro-industrial|deep house|drum and bass|dubstep|techstep|liquid funk|electro house|glitch house|progressive house|breakbeat, hardstyle|dubstyle|drumstep|hip hop|ghetto house|jersey club|trap|drill|moombahton|moombahcore|dancehall|chillwave|vaporwave|tropical house|j-|k-|c-\""
      ]
     },
     "execution_count": 141,
     "metadata": {},
     "output_type": "execute_result"
    }
   ],
   "source": [
    "# 匯入欲刪除類型的字串\n",
    "f = open('csv/20200303/delete_string.txt','r',encoding=\"utf-8\") \n",
    "lines = f.readlines()\n",
    "string_list = []\n",
    "for line in lines:\n",
    "    string_list.append(line.replace('\\n',''))\n",
    "    #print(line.replace('\\n',''))\n",
    "string = ('|'.join(string_list)).lower()\n",
    "string"
   ]
  },
  {
   "cell_type": "code",
   "execution_count": 142,
   "metadata": {},
   "outputs": [
    {
     "data": {
      "text/html": [
       "<div>\n",
       "<style scoped>\n",
       "    .dataframe tbody tr th:only-of-type {\n",
       "        vertical-align: middle;\n",
       "    }\n",
       "\n",
       "    .dataframe tbody tr th {\n",
       "        vertical-align: top;\n",
       "    }\n",
       "\n",
       "    .dataframe thead th {\n",
       "        text-align: right;\n",
       "    }\n",
       "</style>\n",
       "<table border=\"1\" class=\"dataframe\">\n",
       "  <thead>\n",
       "    <tr style=\"text-align: right;\">\n",
       "      <th></th>\n",
       "      <th>Genres</th>\n",
       "    </tr>\n",
       "  </thead>\n",
       "  <tbody>\n",
       "    <tr>\n",
       "      <th>0</th>\n",
       "      <td>pop</td>\n",
       "    </tr>\n",
       "    <tr>\n",
       "      <th>1</th>\n",
       "      <td>dance pop</td>\n",
       "    </tr>\n",
       "    <tr>\n",
       "      <th>2</th>\n",
       "      <td>post-teen pop</td>\n",
       "    </tr>\n",
       "    <tr>\n",
       "      <th>3</th>\n",
       "      <td>urban contemporary</td>\n",
       "    </tr>\n",
       "    <tr>\n",
       "      <th>4</th>\n",
       "      <td>indie poptimism</td>\n",
       "    </tr>\n",
       "    <tr>\n",
       "      <th>...</th>\n",
       "      <td>...</td>\n",
       "    </tr>\n",
       "    <tr>\n",
       "      <th>1725</th>\n",
       "      <td>swedish choir</td>\n",
       "    </tr>\n",
       "    <tr>\n",
       "      <th>1726</th>\n",
       "      <td>cathedral choir</td>\n",
       "    </tr>\n",
       "    <tr>\n",
       "      <th>1727</th>\n",
       "      <td>atmosphere</td>\n",
       "    </tr>\n",
       "    <tr>\n",
       "      <th>1728</th>\n",
       "      <td>wind quintet</td>\n",
       "    </tr>\n",
       "    <tr>\n",
       "      <th>1729</th>\n",
       "      <td>ukrainian choir</td>\n",
       "    </tr>\n",
       "  </tbody>\n",
       "</table>\n",
       "<p>1730 rows × 1 columns</p>\n",
       "</div>"
      ],
      "text/plain": [
       "                  Genres\n",
       "0                    pop\n",
       "1              dance pop\n",
       "2          post-teen pop\n",
       "3     urban contemporary\n",
       "4        indie poptimism\n",
       "...                  ...\n",
       "1725       swedish choir\n",
       "1726     cathedral choir\n",
       "1727          atmosphere\n",
       "1728        wind quintet\n",
       "1729     ukrainian choir\n",
       "\n",
       "[1730 rows x 1 columns]"
      ]
     },
     "execution_count": 142,
     "metadata": {},
     "output_type": "execute_result"
    }
   ],
   "source": [
    "# 篩選去除有rock、r&b、rap、chinese\n",
    "# 篩選dataframe中含有特定字元的欄位，'|'進行多個條件篩選\n",
    "df_artist_genres = pd.read_csv('csv/20200303/artist_genres.csv')\n",
    "df_artist_genres_select = df_artist_genres.loc[~df_artist_genres['Genres'].str.contains(string)].reset_index(drop=True)\n",
    "df_artist_genres_select.to_excel('csv/20200303/artist_genres_select.xlsx', encoding='utf_8_sig')\n",
    "df_artist_genres_select"
   ]
  },
  {
   "cell_type": "code",
   "execution_count": null,
   "metadata": {},
   "outputs": [],
   "source": []
  }
 ],
 "metadata": {
  "kernelspec": {
   "display_name": "Python 3",
   "language": "python",
   "name": "python3"
  },
  "language_info": {
   "codemirror_mode": {
    "name": "ipython",
    "version": 3
   },
   "file_extension": ".py",
   "mimetype": "text/x-python",
   "name": "python",
   "nbconvert_exporter": "python",
   "pygments_lexer": "ipython3",
   "version": "3.6.5"
  }
 },
 "nbformat": 4,
 "nbformat_minor": 2
}
