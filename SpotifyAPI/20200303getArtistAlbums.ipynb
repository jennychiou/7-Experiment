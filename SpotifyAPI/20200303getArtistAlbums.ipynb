{
 "cells": [
  {
   "cell_type": "code",
   "execution_count": 1,
   "metadata": {},
   "outputs": [],
   "source": [
    "import os,re,csv,sys,ast,json,time,urllib,random,spotipy,requests,datetime\n",
    "import numpy as np\n",
    "import pandas as pd\n",
    "import urllib.parse\n",
    "from bs4 import BeautifulSoup\n",
    "from user_agent import generate_user_agent\n",
    "from spotipy.oauth2 import SpotifyClientCredentials"
   ]
  },
  {
   "cell_type": "code",
   "execution_count": 2,
   "metadata": {},
   "outputs": [],
   "source": [
    "# spotifyAPI存取權限\n",
    "client_id = '1a23ed1ca359485ab81d524206dba0f6'\n",
    "client_secret = 'af0e14fdb19a49dfb19ef0c1ea1d42ea'\n",
    "username = 'qnwv65t11cplaz4dikhl4mjgi'\n",
    "client_credentials_manager = SpotifyClientCredentials(client_id=client_id, client_secret=client_secret)\n",
    "sp = spotipy.Spotify(client_credentials_manager=client_credentials_manager)"
   ]
  },
  {
   "cell_type": "code",
   "execution_count": 3,
   "metadata": {
    "code_folding": []
   },
   "outputs": [],
   "source": [
    "# 檔案名稱所有非法字元都轉義：https://www.itread01.com/content/1549125182.html\n",
    "def validateTitle(title):\n",
    "    rstr = r\"[\\/\\\\\\:\\*\\?\\\"\\<\\>\\|]\" # '/ \\ : * ? \" < > |'\n",
    "    new_title = re.sub(rstr, \" \", title)  # 替換為空白\n",
    "    return new_title"
   ]
  },
  {
   "cell_type": "code",
   "execution_count": 4,
   "metadata": {
    "code_folding": []
   },
   "outputs": [],
   "source": [
    "# 取得歌手的所有專輯\n",
    "def show_artist_albums(artist_id):\n",
    "    albums = []\n",
    "    # album_type有四種：album、single、appears_on、compilation (include_groups=album,single)\n",
    "    results = sp.artist_albums(artist_id, album_type='album')\n",
    "    albums.extend(results['items'])\n",
    "    while results['next']:\n",
    "        results = sp.next(results)\n",
    "        albums.extend(results['items'])\n",
    "    # 移除重複的album\n",
    "    seen = set()\n",
    "    # 按照專輯的名稱排序\n",
    "    albums.sort(key=lambda album: album['name'].lower())\n",
    "    list_album_name = []\n",
    "    list_album_id = []\n",
    "    list_album_uri = []\n",
    "    list_album_href = []\n",
    "    for album in albums:\n",
    "        album_name = album['name']\n",
    "        album_id = album['id']\n",
    "        album_uri = album['uri']\n",
    "        album_href = 'https://open.spotify.com/album/' + album_id\n",
    "        if album_name not in seen:\n",
    "            #print(album_name)\n",
    "            seen.add(album_name)\n",
    "            list_album_name.append(album_name)\n",
    "            list_album_id.append(album_id)\n",
    "            list_album_uri.append(album_uri)\n",
    "            list_album_href.append(album_href)\n",
    "    df_albums = pd.DataFrame(list(zip(list_album_name,list_album_id,list_album_uri,list_album_href)), columns =['Name','Id','Uri','Href'])\n",
    "    df_albums.drop_duplicates(subset='Name', keep='first', inplace=True)\n",
    "    df_albums.reset_index(drop=True, inplace=True)\n",
    "    return df_albums"
   ]
  },
  {
   "cell_type": "code",
   "execution_count": 5,
   "metadata": {
    "scrolled": true
   },
   "outputs": [
    {
     "name": "stdout",
     "output_type": "stream",
     "text": [
      "0 | Anna Clendening | N\n",
      "1 | Arthur Collins   | Y\n",
      "2 | Byron G. Harlan | N\n",
      "3 | Crispin Glover | Y\n",
      "4 | David Coffin | Y\n",
      "5 | Don Edwards  | Y\n",
      "6 | Edward M. Favor | N\n",
      "7 | Edward Meeker | Y\n",
      "8 | Garrett Gardner | N\n",
      "9 | Grace McLean | N\n",
      "10 | Gus Backus | Y\n",
      "11 | Jacob Colgan | N\n",
      "12 | Jamar Rogers | Y\n",
      "13 | James Murray  | Y\n",
      "14 | Jimmy Hart | Y\n",
      "15 | John C. Reilly | Y\n",
      "16 | Johnny Crawford | Y\n",
      "17 | Jon Brion | Y\n",
      "18 | Lee Michaels | Y\n",
      "19 | Lou Cass | Y\n",
      "20 | Lu Leonard | N\n",
      "21 | Matthew Bauer | Y\n",
      "22 | Mickey Rooney | Y\n",
      "23 | Miles Jaye | Y\n",
      "24 | Napoleon XIV | Y\n",
      "25 | Neal Middleton | N\n",
      "26 | Nil Lara | Y\n",
      "27 | Richard X. Heyman | Y\n",
      "28 | Richie Ray | Y\n",
      "29 | Scott Stevens  | N\n",
      "30 | Shannon LaBrie | Y\n",
      "31 | Tab Hunter | Y\n",
      "32 | Thom Pace | Y\n",
      "33 | Tony Bellus | Y\n",
      "34 | Wazmo Nariz | N\n",
      "35 | Zavel Kwartin | Y\n",
      "DONE\n"
     ]
    }
   ],
   "source": [
    "# 每位歌手抓取專輯資料並輸出csv(df_albums_+ artist_name +.csv)\n",
    "empty_album = [] #沒有專輯的歌手\n",
    "exist_album = [] #有專輯的歌手\n",
    "\n",
    "df_id_genres = pd.read_csv(r'csv/20200303/v3/artist_list_ID+Genres_select_v3.csv')\n",
    "for i in range(len(df_id_genres)):\n",
    "    artist_name = df_id_genres['Artist'][i]\n",
    "    artist_id = df_id_genres['Id'][i]\n",
    "    \n",
    "    df_albums = show_artist_albums(artist_id)\n",
    "    # 歌手沒有專輯data\n",
    "    if df_albums.empty == True:\n",
    "        empty_album.append(artist_name) #沒有專輯data的歌手名稱放入empty_album列表中\n",
    "        print(str(i) + ' | ' + str(artist_name) + ' | ' + 'N')\n",
    "    # 歌手有專輯data\n",
    "    if df_albums.empty == False:\n",
    "        exist_album.append(artist_name) #有專輯data的歌手名稱放入exist_album列表中\n",
    "        artist_name = validateTitle(artist_name) #檔名去除無效字元\n",
    "        df_albums.to_csv('csv/20200303/v3/v3_albums/df_albums_'+ artist_name +'.csv',index=0,encoding=\"utf_8_sig\")\n",
    "        print(str(i) + ' | ' + str(artist_name) + ' | ' + 'Y')\n",
    "\n",
    "print('DONE')"
   ]
  },
  {
   "cell_type": "code",
   "execution_count": null,
   "metadata": {},
   "outputs": [],
   "source": []
  }
 ],
 "metadata": {
  "kernelspec": {
   "display_name": "Python 3",
   "language": "python",
   "name": "python3"
  },
  "language_info": {
   "codemirror_mode": {
    "name": "ipython",
    "version": 3
   },
   "file_extension": ".py",
   "mimetype": "text/x-python",
   "name": "python",
   "nbconvert_exporter": "python",
   "pygments_lexer": "ipython3",
   "version": "3.6.5"
  }
 },
 "nbformat": 4,
 "nbformat_minor": 2
}
